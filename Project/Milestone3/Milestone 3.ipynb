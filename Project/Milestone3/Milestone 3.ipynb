{
 "cells": [
  {
   "cell_type": "markdown",
   "metadata": {},
   "source": [
    "# Website of the project : https://c-lefebvre.github.io/ADA_Homeworks/"
   ]
  },
  {
   "cell_type": "markdown",
   "metadata": {},
   "source": [
    "# Basic analysis of the full dataset using PySpark"
   ]
  },
  {
   "cell_type": "markdown",
   "metadata": {},
   "source": [
    "## What's in this section ?\n",
    "- Here we load large datasets locally using Spark. We first load the full_ratings dataset to vizualise the distribution of the reviews and ratings.\n",
    "- Then we load the full dataset by category. \n",
    "- We use these datasets to vizualise the distribution of the reviews with interactive graph "
   ]
  },
  {
   "cell_type": "code",
   "execution_count": 5,
   "metadata": {
    "collapsed": true
   },
   "outputs": [],
   "source": [
    "# Import pyspark\n",
    "from pyspark.sql import SparkSession\n",
    "import pyspark.sql.functions as func\n",
    "from pyspark import SparkContext\n",
    "from pyspark import SparkConf\n",
    "import pandas as pd\n",
    "import numpy as np\n",
    "\n",
    "\n",
    "# Import the libraries to draw\n",
    "import matplotlib.pyplot as plt\n",
    "import seaborn as sns\n",
    "\n",
    "# Import helpers functions\n",
    "from spark_helpers import *\n",
    "\n",
    "#Create a spark session\n",
    "spark = SparkSession.builder.appName(\"Spark Session\").config(\"spark.sql.crossJoin.enabled\",\"true\").getOrCreate()\n",
    "sc = SparkContext.getOrCreate()"
   ]
  },
  {
   "cell_type": "markdown",
   "metadata": {},
   "source": [
    "## Full Rating Analysis\n",
    "\n",
    "First, we study the distribution of the full ratings. To do that we load the full ratings (3.37Go) and treat it with PySpark. We will output the distribution of the number of products relative to the number of reviews (i.e 10 products have 15 reviews ...)."
   ]
  },
  {
   "cell_type": "code",
   "execution_count": 2,
   "metadata": {},
   "outputs": [
    {
     "name": "stdout",
     "output_type": "stream",
     "text": [
      "root\n",
      " |-- _c0: string (nullable = true)\n",
      " |-- _c1: string (nullable = true)\n",
      " |-- _c2: string (nullable = true)\n",
      " |-- _c3: string (nullable = true)\n",
      "\n"
     ]
    }
   ],
   "source": [
    "# Load the full ratings data\n",
    "df_full_ratings = spark.read.format('csv').option(\"header\",\"false\").load('DataSets/all_ratings.csv')\n",
    "df_full_ratings.printSchema()"
   ]
  },
  {
   "cell_type": "code",
   "execution_count": 3,
   "metadata": {},
   "outputs": [
    {
     "data": {
      "text/plain": [
       "[Row(_c0='A3AF8FFZAZYNE5', _c1='0000000078', _c2='5.0', _c3='1092182400'),\n",
       " Row(_c0='AH2L9G3DQHHAJ', _c1='0000000116', _c2='4.0', _c3='1019865600'),\n",
       " Row(_c0='A2IIIDRK3PRRZY', _c1='0000000116', _c2='1.0', _c3='1395619200'),\n",
       " Row(_c0='A1TADCM7YWPQ8M', _c1='0000000868', _c2='4.0', _c3='1031702400'),\n",
       " Row(_c0='AWGH7V0BDOJKB', _c1='0000013714', _c2='4.0', _c3='1383177600'),\n",
       " Row(_c0='A3UTQPQPM4TQO0', _c1='0000013714', _c2='5.0', _c3='1374883200'),\n",
       " Row(_c0='A8ZS0I5L5V31B', _c1='0000013714', _c2='5.0', _c3='1393632000'),\n",
       " Row(_c0='ACNGUPJ3A3TM9', _c1='0000013714', _c2='4.0', _c3='1386028800'),\n",
       " Row(_c0='A3BED5QFJWK88M', _c1='0000013714', _c2='4.0', _c3='1350345600'),\n",
       " Row(_c0='A2SUAM1J3GNN3B', _c1='0000013714', _c2='5.0', _c3='1252800000')]"
      ]
     },
     "execution_count": 3,
     "metadata": {},
     "output_type": "execute_result"
    }
   ],
   "source": [
    "# Display the first 20 rows \n",
    "df_full_ratings.take(10)"
   ]
  },
  {
   "cell_type": "markdown",
   "metadata": {},
   "source": [
    "We see in the schema that the ratings and UNIX time are stored as string, to do computation on them we cast the columns as float numbers."
   ]
  },
  {
   "cell_type": "code",
   "execution_count": 4,
   "metadata": {
    "collapsed": true
   },
   "outputs": [],
   "source": [
    "# Cast the ratings and UNIX time as float number\n",
    "df_full_ratings = df_full_ratings.select(df_full_ratings._c0, df_full_ratings._c1, df_full_ratings._c2.cast('float')\\\n",
    "                                         ,df_full_ratings._c3.cast('float'))"
   ]
  },
  {
   "cell_type": "code",
   "execution_count": 5,
   "metadata": {},
   "outputs": [
    {
     "name": "stdout",
     "output_type": "stream",
     "text": [
      "root\n",
      " |-- reviewerID: string (nullable = true)\n",
      " |-- asin: string (nullable = true)\n",
      " |-- ratings: float (nullable = true)\n",
      " |-- UNIX_time: float (nullable = true)\n",
      "\n"
     ]
    }
   ],
   "source": [
    "# Rename the columns and print the new schema\n",
    "df_full_ratings = df_full_ratings.selectExpr(\"_c0 as reviewerID\", \"_c1 as asin\", \"_c2 as ratings\", \"_c3 as UNIX_time\")\n",
    "df_full_ratings.printSchema()"
   ]
  },
  {
   "cell_type": "markdown",
   "metadata": {},
   "source": [
    "### Number of reviews by product\n",
    "First we compute the number of reviews by product to see its distribution."
   ]
  },
  {
   "cell_type": "code",
   "execution_count": 6,
   "metadata": {
    "collapsed": true
   },
   "outputs": [],
   "source": [
    "# Do a Group By Product of all the ratings\n",
    "groupRatingsByProduct = df_full_ratings.groupBy('asin')\n",
    "# Compute the number of reviews by product\n",
    "ratings_count_by_product = groupRatingsByProduct.count()"
   ]
  },
  {
   "cell_type": "code",
   "execution_count": 7,
   "metadata": {},
   "outputs": [
    {
     "data": {
      "text/plain": [
       "[Row(asin='0001714422', count=2),\n",
       " Row(asin='0001837192', count=1),\n",
       " Row(asin='0001845357', count=1),\n",
       " Row(asin='0002151731', count=1),\n",
       " Row(asin='0002158140', count=1)]"
      ]
     },
     "execution_count": 7,
     "metadata": {},
     "output_type": "execute_result"
    }
   ],
   "source": [
    "ratings_count_by_product.take(5)"
   ]
  },
  {
   "cell_type": "code",
   "execution_count": 8,
   "metadata": {
    "scrolled": true
   },
   "outputs": [
    {
     "name": "stdout",
     "output_type": "stream",
     "text": [
      "root\n",
      " |-- asin: string (nullable = true)\n",
      " |-- number_of_review: long (nullable = false)\n",
      "\n"
     ]
    }
   ],
   "source": [
    "ratings_count_by_product = ratings_count_by_product.selectExpr('asin', 'count as number_of_review')\n",
    "ratings_count_by_product.printSchema()"
   ]
  },
  {
   "cell_type": "markdown",
   "metadata": {},
   "source": [
    "Here we have two options:\n",
    "\n",
    "- Collect the full dataframe with the number of reviews for each items, the problem with this approach is that we have a high number of products (a little less than 10M). So the pandas dataframe would be too large.\n",
    "\n",
    "- The second option is to group the spark dataframe by number of reviews, for example we group together all the products that have exactly 4 reviews. With this method we will significantly reduce the size of the dataframe and can use it with pandas. \n",
    "\n",
    "We went with the second option :"
   ]
  },
  {
   "cell_type": "code",
   "execution_count": 9,
   "metadata": {
    "collapsed": true
   },
   "outputs": [],
   "source": [
    "# We group by the number of reviews\n",
    "groupByNumberOfReviews = ratings_count_by_product.groupBy('number_of_review')"
   ]
  },
  {
   "cell_type": "code",
   "execution_count": 10,
   "metadata": {
    "collapsed": true
   },
   "outputs": [],
   "source": [
    "# We count the number of articles for each number of reviews\n",
    "tmp_df = groupByNumberOfReviews.count()\n",
    "# Some renaming for easier use\n",
    "tmp_df = tmp_df.selectExpr('number_of_review', 'count as number_of_product')"
   ]
  },
  {
   "cell_type": "code",
   "execution_count": 11,
   "metadata": {
    "collapsed": true
   },
   "outputs": [],
   "source": [
    "# Compute the number of reviews by product as a pandas dataframe for easier use\n",
    "df_ratings_count_pd = tmp_df.toPandas()\n",
    "# Save the number of ratings by product to a csv files\n",
    "df_ratings_count_pd.to_csv('DataSets/Processed/Full_ratings_count.csv')"
   ]
  },
  {
   "cell_type": "code",
   "execution_count": 12,
   "metadata": {
    "scrolled": false
   },
   "outputs": [
    {
     "data": {
      "text/html": [
       "<div>\n",
       "<style>\n",
       "    .dataframe thead tr:only-child th {\n",
       "        text-align: right;\n",
       "    }\n",
       "\n",
       "    .dataframe thead th {\n",
       "        text-align: left;\n",
       "    }\n",
       "\n",
       "    .dataframe tbody tr th {\n",
       "        vertical-align: top;\n",
       "    }\n",
       "</style>\n",
       "<table border=\"1\" class=\"dataframe\">\n",
       "  <thead>\n",
       "    <tr style=\"text-align: right;\">\n",
       "      <th></th>\n",
       "      <th>number_of_review</th>\n",
       "      <th>number_of_product</th>\n",
       "    </tr>\n",
       "  </thead>\n",
       "  <tbody>\n",
       "    <tr>\n",
       "      <th>count</th>\n",
       "      <td>2802.000000</td>\n",
       "      <td>2.802000e+03</td>\n",
       "    </tr>\n",
       "    <tr>\n",
       "      <th>mean</th>\n",
       "      <td>2072.989650</td>\n",
       "      <td>3.523987e+03</td>\n",
       "    </tr>\n",
       "    <tr>\n",
       "      <th>std</th>\n",
       "      <td>2436.728958</td>\n",
       "      <td>9.448883e+04</td>\n",
       "    </tr>\n",
       "    <tr>\n",
       "      <th>min</th>\n",
       "      <td>1.000000</td>\n",
       "      <td>1.000000e+00</td>\n",
       "    </tr>\n",
       "    <tr>\n",
       "      <th>25%</th>\n",
       "      <td>701.250000</td>\n",
       "      <td>1.000000e+00</td>\n",
       "    </tr>\n",
       "    <tr>\n",
       "      <th>50%</th>\n",
       "      <td>1418.500000</td>\n",
       "      <td>3.000000e+00</td>\n",
       "    </tr>\n",
       "    <tr>\n",
       "      <th>75%</th>\n",
       "      <td>2482.250000</td>\n",
       "      <td>1.600000e+01</td>\n",
       "    </tr>\n",
       "    <tr>\n",
       "      <th>max</th>\n",
       "      <td>25368.000000</td>\n",
       "      <td>4.615058e+06</td>\n",
       "    </tr>\n",
       "  </tbody>\n",
       "</table>\n",
       "</div>"
      ],
      "text/plain": [
       "       number_of_review  number_of_product\n",
       "count       2802.000000       2.802000e+03\n",
       "mean        2072.989650       3.523987e+03\n",
       "std         2436.728958       9.448883e+04\n",
       "min            1.000000       1.000000e+00\n",
       "25%          701.250000       1.000000e+00\n",
       "50%         1418.500000       3.000000e+00\n",
       "75%         2482.250000       1.600000e+01\n",
       "max        25368.000000       4.615058e+06"
      ]
     },
     "execution_count": 12,
     "metadata": {},
     "output_type": "execute_result"
    }
   ],
   "source": [
    "df_ratings_count_pd.describe()"
   ]
  },
  {
   "cell_type": "code",
   "execution_count": 13,
   "metadata": {},
   "outputs": [
    {
     "name": "stdout",
     "output_type": "stream",
     "text": [
      "There is 9874211 products in the dataset\n"
     ]
    }
   ],
   "source": [
    "number_of_product = df_ratings_count_pd.sum()\n",
    "number_of_product = number_of_product['number_of_product']\n",
    "print('There is ' + str(number_of_product) + ' products in the dataset')"
   ]
  },
  {
   "cell_type": "code",
   "execution_count": 14,
   "metadata": {},
   "outputs": [
    {
     "data": {
      "image/png": "[encoded data removed]",
      "text/plain": [
       "<matplotlib.figure.Figure at 0x10cb27f60>"
      ]
     },
     "metadata": {},
     "output_type": "display_data"
    }
   ],
   "source": [
    "#Function used to draw the distribution of number of reviews per number of products\n",
    "draw_full_ratings('DataSets/Processed/Full_ratings_count.csv')"
   ]
  },
  {
   "cell_type": "markdown",
   "metadata": {},
   "source": [
    "We nearly have a power law."
   ]
  },
  {
   "cell_type": "markdown",
   "metadata": {},
   "source": [
    "### Ratings distribution\n",
    "\n",
    "We now observe the distribution of the ratings."
   ]
  },
  {
   "cell_type": "code",
   "execution_count": 15,
   "metadata": {
    "collapsed": true
   },
   "outputs": [],
   "source": [
    "# Do a Group By Product of all the ratings\n",
    "groupRatingsByRating = df_full_ratings.groupBy('ratings')\n",
    "# Compute the number of reviews by product\n",
    "ratings_count_by_rating = groupRatingsByRating.count()"
   ]
  },
  {
   "cell_type": "code",
   "execution_count": 16,
   "metadata": {},
   "outputs": [
    {
     "name": "stdout",
     "output_type": "stream",
     "text": [
      "root\n",
      " |-- ratings: float (nullable = true)\n",
      " |-- number_of_review: long (nullable = false)\n",
      "\n"
     ]
    }
   ],
   "source": [
    "ratings_count_by_rating = ratings_count_by_rating.selectExpr('ratings', 'count as number_of_review')\n",
    "ratings_count_by_rating.printSchema()"
   ]
  },
  {
   "cell_type": "code",
   "execution_count": 17,
   "metadata": {
    "collapsed": true
   },
   "outputs": [],
   "source": [
    "# Compute the number of ratings by rating as a pandas dataframe for easier use\n",
    "df_ratings_distribution_pd = ratings_count_by_rating.toPandas()\n",
    "# Save the number of ratings by product to a csv files\n",
    "df_ratings_distribution_pd.to_csv('DataSets/Processed/Full_ratings_distribution.csv')"
   ]
  },
  {
   "cell_type": "code",
   "execution_count": 18,
   "metadata": {},
   "outputs": [
    {
     "data": {
      "image/png": "[encoded data removed]",
      "text/plain": [
       "<matplotlib.figure.Figure at 0x111ec6c50>"
      ]
     },
     "metadata": {},
     "output_type": "display_data"
    }
   ],
   "source": [
    "ax = sns.barplot(x = df_ratings_distribution_pd['ratings'], y = df_ratings_distribution_pd['number_of_review'])\n",
    "ax.set_xlabel('Ratings')\n",
    "ax.set_ylabel('Number of Reviews')\n",
    "ax.set_title('Distribution of the ratings')\n",
    "plt.show()"
   ]
  },
  {
   "cell_type": "markdown",
   "metadata": {},
   "source": [
    "The ratings have a clear tendency to be >=4 "
   ]
  },
  {
   "cell_type": "markdown",
   "metadata": {},
   "source": [
    "## Analysis of the distribution for each categories"
   ]
  },
  {
   "cell_type": "markdown",
   "metadata": {},
   "source": [
    "Here are implemented functions used to load a category and output the distributions of the reviews"
   ]
  },
  {
   "cell_type": "code",
   "execution_count": 6,
   "metadata": {
    "collapsed": true
   },
   "outputs": [],
   "source": [
    "import pickle\n",
    "import pandas as pd\n",
    "\n",
    "def compute_rating_distribution(name_to_read,name_to_save):\n",
    "    \"\"\"Function used to load a full json category dataset using spark and process it\n",
    "    by computing the number of review per product and the number of review per rating and\n",
    "    save the processed dataframe into two files\"\"\"\n",
    "    df = load_file_cat(name_to_read,'json',spark)\n",
    "    df_review = compute_review_per_product(df,'DataSets/Processed/'+name_to_save+'_Review_Count.csv')   \n",
    "    df_rating = compute_review_per_rating(df,'DataSets/Processed/'+name_to_save+'_Ratings_Count.csv')\n",
    "\n",
    "\n",
    "\n",
    "def compute_every_ratings_distribution(list_of_categories):\n",
    "    \"\"\"Call the compute_rating_distribution for every categories given in the list\"\"\"\n",
    "    for category in list_of_categories:\n",
    "        compute_rating_distribution('DataSets/reviews_'+category+'.json.gz', category)\n",
    "\n",
    "\n",
    "def add_to_dictionnary(dictionnary_ratings,dictionnary_review, category):\n",
    "    \"\"\"Add the two dataframe containing the distribution for each category to a dictionnary of dataframe\"\"\"\n",
    "    \n",
    "    # Number of reviews per rating\n",
    "    df = pd.read_csv('DataSets/Processed/'+category+'_Ratings_Count.csv')\n",
    "    df['count'] = df['count']/np.sum(df['count']) # Compute the proportions\n",
    "    # Add the dataframe to the dictionnary\n",
    "    dictionnary_ratings[category] = df\n",
    "    \n",
    "    # Number of reviews per product\n",
    "    df_review_count_pd = pd.read_csv('DataSets/Processed/'+category+'_Review_Count.csv')[['asin','count']]\n",
    "    df_review_count = df_review_count_pd.groupby('count').count()# Count the items that have the same numer of reviews\n",
    "    df_review_count = df_review_count.reset_index()\n",
    "    df_review_count.columns = ['Review_Count', 'Product_Count']   \n",
    "    # Add the dataframe to the dictionnary\n",
    "    dictionnary_review[category] = df_review_count\n",
    "    \n",
    "def create_dictionnary_dataframe(list_of_categories):\n",
    "    \"\"\"Function used to initialize and fill the dictionnary containing all the dataframes by putting the dataframes for \n",
    "    all categories\"\"\"\n",
    "    #Read the stored csv of the number of reviews per product\n",
    "    df_full_review_count = pd.read_csv('DataSets/Processed/Full_ratings_count.csv')[['number_of_review','number_of_product']]\n",
    "    df_full_review_count.sort_values('number_of_review',inplace=True)    \n",
    "    df_full_review_count.columns = ['Review_Count', 'Product_Count']\n",
    "    #Add the dataframe to the dictionnary\n",
    "    full_reviews_dict = {'Full' : df_full_review_count}\n",
    "\n",
    "    #Read the stored csv of the number of reviews per rating\n",
    "    full_ratings = pd.read_csv('DataSets/Processed/Full_ratings_distribution.csv')\n",
    "    full_ratings.sort_values('ratings',inplace=True)\n",
    "    #Compute the proportions\n",
    "    full_ratings['number_of_review'] = full_ratings['number_of_review']/np.sum(full_ratings['number_of_review'])   \n",
    "    #Add the dataframe to the dictionnaey\n",
    "    ratings_count_dict = {'Full' : full_ratings}\n",
    "    \n",
    "    #Fill the dictionnary with all the different categories\n",
    "    for category in list_of_categories:\n",
    "        add_to_dictionnary(ratings_count_dict, full_reviews_dict, category)\n",
    "\n",
    "    # Save the dictionnary containing the number of reviews per product for each category\n",
    "    output = open('DataSets/Processed/ReviewCountDict.pkl', 'wb')\n",
    "    pickle.dump(full_reviews_dict, output)\n",
    "    output.close()\n",
    "    \n",
    "    # Save the dictionnary containing the number of reviews per rating for each category    \n",
    "    output = open('DataSets/Processed/RatingsCountDict.pkl', 'wb')\n",
    "    pickle.dump(ratings_count_dict, output)\n",
    "    output.close()    \n",
    "    "
   ]
  },
  {
   "cell_type": "code",
   "execution_count": 7,
   "metadata": {
    "collapsed": true
   },
   "outputs": [],
   "source": [
    "# This is the list of all available categories\n",
    "list_of_cat = ['Books','Electronics', 'Movies_and_TV','CDs_and_Vinyl', 'Clothing_Shoes_and_Jewelry',\n",
    "              'Home_and_Kitchen', 'Kindle_Store', 'Sports_and_Outdoors', 'Cell_Phones_and_Accessories',\n",
    "              'Health_and_Personal_Care', 'Toys_and_Games', 'Video_Games', 'Tools_and_Home_Improvement',\n",
    "              'Beauty', 'Apps_for_Android','Office_Products','Pet_Supplies', 'Automotive', 'Grocery_and_Gourmet_Food',\n",
    "              'Patio_Lawn_and_Garden', 'Baby', 'Digital_Music', 'Musical_Instruments', 'Amazon_Instant_Video']"
   ]
  },
  {
   "cell_type": "code",
   "execution_count": 8,
   "metadata": {
    "collapsed": true,
    "scrolled": false
   },
   "outputs": [],
   "source": [
    "#Warning this line can be quite long to run (Approx 30min)\n",
    "#compute_every_ratings_distribution(list_of_cat)"
   ]
  },
  {
   "cell_type": "code",
   "execution_count": 9,
   "metadata": {
    "collapsed": true
   },
   "outputs": [],
   "source": [
    "#Fill the two dictionnaries which will contain all the categories\n",
    "create_dictionnary_dataframe(list_of_cat)"
   ]
  },
  {
   "cell_type": "code",
   "execution_count": 10,
   "metadata": {
    "collapsed": true
   },
   "outputs": [],
   "source": [
    "def log_bar_plot_helper(dataframe):\n",
    "    \"\"\" Helper function to get the left edge position of the\n",
    "        bars in a bar plot, the width of the bars and the \n",
    "        corresponding values\n",
    "    \"\"\"\n",
    "    df = dataframe.copy()\n",
    "    # Create logarithmic repartition of the bins\n",
    "    bins = np.logspace(np.floor(np.log10(np.amin(df['Review_Count']))), np.log10(np.amax(df['Review_Count'])))\n",
    "    # Make sure values are integers and remove duplicate\n",
    "    bins = np.unique(np.round(bins))\n",
    "    # Add 0 to the array\n",
    "    bins = np.concatenate([np.array([0]), bins])\n",
    "    df['Bin'] = pd.cut(df.Review_Count, bins)\n",
    "    counts = df.groupby('Bin')['Product_Count'].sum()\n",
    "    middles = [(counts.index[i].left + counts.index[i+1].left)/2.0 for i in range(len(counts.index)-1)]\n",
    "    middles.append((counts.index[-1].left + counts.index[-1].right)/2.0)\n",
    "    middles = np.array(middles)\n",
    "    widths = np.diff(middles)\n",
    "    #Compute the median\n",
    "    median = df['Product_Count'].median()+1\n",
    "    return (middles, counts.values, widths, median)"
   ]
  },
  {
   "cell_type": "code",
   "execution_count": 11,
   "metadata": {
    "collapsed": true
   },
   "outputs": [],
   "source": [
    "#Do the necessary import for the graphs\n",
    "from bokeh.layouts import column, row, widgetbox\n",
    "from bokeh.models import CustomJS, ColumnDataSource, Select, Slider\n",
    "from bokeh.plotting import Figure, output_file, show,save\n",
    "from bokeh.io import output_notebook\n",
    "import pickle\n",
    "import numpy as np\n",
    "import pandas as pd\n",
    "import warnings\n",
    "warnings.filterwarnings('ignore')"
   ]
  },
  {
   "cell_type": "code",
   "execution_count": 12,
   "metadata": {
    "collapsed": true
   },
   "outputs": [],
   "source": [
    "#Here is a list of tuplet with the first element being the keyword to recognize a category for the graphs \n",
    "#and the second element is the displayed category on the selection box in the graph\n",
    "categories_selection_list = [('Full', 'All Categories'),('Books','Books'), ('Electronics', 'Electronics')\n",
    "                             ,('Movies_and_TV', 'Movies and TVs'),('CDs_and_Vinyl','CDs and Vinyl')\n",
    "                             ,('Clothing_Shoes_and_Jewelry', 'Clothing Shoes and Jewelry')\n",
    "                             ,('Home_and_Kitchen','Home and Kitchen'),('Kindle_Store','Kindle Store')\n",
    "                             ,('Sports_and_Outdoors', 'Sports and Outdoors')\n",
    "                             ,('Cell_Phones_and_Accessories', 'Cell Phones and Accessories')\n",
    "                             ,('Health_and_Personal_Care','Health and Personal Care')\n",
    "                             ,('Toys_and_Games', 'Toys and Games'),('Video_Games','Video Games')\n",
    "                             ,('Tools_and_Home_Improvement', 'Tools and Home Improvement')\n",
    "                             ,('Beauty','Beauty'),('Apps_for_Android', 'Apps for Android')\n",
    "                             ,('Office_Products', 'Office Products'),('Pet_Supplies','Pet Supplies')\n",
    "                             ,('Automotive', 'Automotive'),('Grocery_and_Gourmet_Food', 'Grocery and Gourmet Food')\n",
    "                             ,('Patio_Lawn_and_Garden', 'Patio Lawn and Garden'),('Baby','Baby')\n",
    "                             ,('Digital_Music', 'Digital Music'),('Musical_Instruments', 'Musical Instruments')\n",
    "                             ,('Amazon_Instant_Video', 'Amazon Instant Video')]"
   ]
  },
  {
   "cell_type": "markdown",
   "metadata": {},
   "source": [
    "##### Plot of the number of products per number of reviews"
   ]
  },
  {
   "cell_type": "code",
   "execution_count": 13,
   "metadata": {},
   "outputs": [
    {
     "data": {
      "text/html": [
       "\n",
       "    <div class=\"bk-root\">\n",
       "        <a href=\"https://bokeh.pydata.org\" target=\"_blank\" class=\"bk-logo bk-logo-small bk-logo-notebook\"></a>\n",
       "        <span id=\"2de2a750-f209-4b2f-996d-51c123fc6c99\">Loading BokehJS ...</span>\n",
       "    </div>"
      ]
     },
     "metadata": {},
     "output_type": "display_data"
    },
    {
     "data": {
      "application/javascript": [
       "\n",
       "(function(root) {\n",
       "  function now() {\n",
       "    return new Date();\n",
       "  }\n",
       "\n",
       "  var force = true;\n",
       "\n",
       "  if (typeof (root._bokeh_onload_callbacks) === \"undefined\" || force === true) {\n",
       "    root._bokeh_onload_callbacks = [];\n",
       "    root._bokeh_is_loading = undefined;\n",
       "  }\n",
       "\n",
       "  var JS_MIME_TYPE = 'application/javascript';\n",
       "  var HTML_MIME_TYPE = 'text/html';\n",
       "  var EXEC_MIME_TYPE = 'application/vnd.bokehjs_exec.v0+json';\n",
       "  var CLASS_NAME = 'output_bokeh rendered_html';\n",
       "\n",
       "  /**\n",
       "   * Render data to the DOM node\n",
       "   */\n",
       "  function render(props, node) {\n",
       "    var script = document.createElement(\"script\");\n",
       "    node.appendChild(script);\n",
       "  }\n",
       "\n",
       "  /**\n",
       "   * Handle when an output is cleared or removed\n",
       "   */\n",
       "  function handleClearOutput(event, handle) {\n",
       "    var cell = handle.cell;\n",
       "\n",
       "    var id = cell.output_area._bokeh_element_id;\n",
       "    var server_id = cell.output_area._bokeh_server_id;\n",
       "    // Clean up Bokeh references\n",
       "    if (id !== undefined) {\n",
       "      Bokeh.index[id].model.document.clear();\n",
       "      delete Bokeh.index[id];\n",
       "    }\n",
       "\n",
       "    if (server_id !== undefined) {\n",
       "      // Clean up Bokeh references\n",
       "      var cmd = \"from bokeh.io.state import curstate; print(curstate().uuid_to_server['\" + server_id + \"'].get_sessions()[0].document.roots[0]._id)\";\n",
       "      cell.notebook.kernel.execute(cmd, {\n",
       "        iopub: {\n",
       "          output: function(msg) {\n",
       "            var element_id = msg.content.text.trim();\n",
       "            Bokeh.index[element_id].model.document.clear();\n",
       "            delete Bokeh.index[element_id];\n",
       "          }\n",
       "        }\n",
       "      });\n",
       "      // Destroy server and session\n",
       "      var cmd = \"import bokeh.io.notebook as ion; ion.destroy_server('\" + server_id + \"')\";\n",
       "      cell.notebook.kernel.execute(cmd);\n",
       "    }\n",
       "  }\n",
       "\n",
       "  /**\n",
       "   * Handle when a new output is added\n",
       "   */\n",
       "  function handleAddOutput(event, handle) {\n",
       "    var output_area = handle.output_area;\n",
       "    var output = handle.output;\n",
       "\n",
       "    // limit handleAddOutput to display_data with EXEC_MIME_TYPE content only\n",
       "    if ((output.output_type != \"display_data\") || (!output.data.hasOwnProperty(EXEC_MIME_TYPE))) {\n",
       "      return\n",
       "    }\n",
       "\n",
       "    var toinsert = output_area.element.find(\".\" + CLASS_NAME.split(' ')[0]);\n",
       "\n",
       "    if (output.metadata[EXEC_MIME_TYPE][\"id\"] !== undefined) {\n",
       "      toinsert[0].firstChild.textContent = output.data[JS_MIME_TYPE];\n",
       "      // store reference to embed id on output_area\n",
       "      output_area._bokeh_element_id = output.metadata[EXEC_MIME_TYPE][\"id\"];\n",
       "    }\n",
       "    if (output.metadata[EXEC_MIME_TYPE][\"server_id\"] !== undefined) {\n",
       "      var bk_div = document.createElement(\"div\");\n",
       "      bk_div.innerHTML = output.data[HTML_MIME_TYPE];\n",
       "      var script_attrs = bk_div.children[0].attributes;\n",
       "      for (var i = 0; i < script_attrs.length; i++) {\n",
       "        toinsert[0].firstChild.setAttribute(script_attrs[i].name, script_attrs[i].value);\n",
       "      }\n",
       "      // store reference to server id on output_area\n",
       "      output_area._bokeh_server_id = output.metadata[EXEC_MIME_TYPE][\"server_id\"];\n",
       "    }\n",
       "  }\n",
       "\n",
       "  function register_renderer(events, OutputArea) {\n",
       "\n",
       "    function append_mime(data, metadata, element) {\n",
       "      // create a DOM node to render to\n",
       "      var toinsert = this.create_output_subarea(\n",
       "        metadata,\n",
       "        CLASS_NAME,\n",
       "        EXEC_MIME_TYPE\n",
       "      );\n",
       "      this.keyboard_manager.register_events(toinsert);\n",
       "      // Render to node\n",
       "      var props = {data: data, metadata: metadata[EXEC_MIME_TYPE]};\n",
       "      render(props, toinsert[0]);\n",
       "      element.append(toinsert);\n",
       "      return toinsert\n",
       "    }\n",
       "\n",
       "    /* Handle when an output is cleared or removed */\n",
       "    events.on('clear_output.CodeCell', handleClearOutput);\n",
       "    events.on('delete.Cell', handleClearOutput);\n",
       "\n",
       "    /* Handle when a new output is added */\n",
       "    events.on('output_added.OutputArea', handleAddOutput);\n",
       "\n",
       "    /**\n",
       "     * Register the mime type and append_mime function with output_area\n",
       "     */\n",
       "    OutputArea.prototype.register_mime_type(EXEC_MIME_TYPE, append_mime, {\n",
       "      /* Is output safe? */\n",
       "      safe: true,\n",
       "      /* Index of renderer in `output_area.display_order` */\n",
       "      index: 0\n",
       "    });\n",
       "  }\n",
       "\n",
       "  // register the mime type if in Jupyter Notebook environment and previously unregistered\n",
       "  if (root.Jupyter !== undefined) {\n",
       "    var events = require('base/js/events');\n",
       "    var OutputArea = require('notebook/js/outputarea').OutputArea;\n",
       "\n",
       "    if (OutputArea.prototype.mime_types().indexOf(EXEC_MIME_TYPE) == -1) {\n",
       "      register_renderer(events, OutputArea);\n",
       "    }\n",
       "  }\n",
       "\n",
       "  \n",
       "  if (typeof (root._bokeh_timeout) === \"undefined\" || force === true) {\n",
       "    root._bokeh_timeout = Date.now() + 5000;\n",
       "    root._bokeh_failed_load = false;\n",
       "  }\n",
       "\n",
       "  var NB_LOAD_WARNING = {'data': {'text/html':\n",
       "     \"<div style='background-color: #fdd'>\\n\"+\n",
       "     \"<p>\\n\"+\n",
       "     \"BokehJS does not appear to have successfully loaded. If loading BokehJS from CDN, this \\n\"+\n",
       "     \"may be due to a slow or bad network connection. Possible fixes:\\n\"+\n",
       "     \"</p>\\n\"+\n",
       "     \"<ul>\\n\"+\n",
       "     \"<li>re-rerun `output_notebook()` to attempt to load from CDN again, or</li>\\n\"+\n",
       "     \"<li>use INLINE resources instead, as so:</li>\\n\"+\n",
       "     \"</ul>\\n\"+\n",
       "     \"<code>\\n\"+\n",
       "     \"from bokeh.resources import INLINE\\n\"+\n",
       "     \"output_notebook(resources=INLINE)\\n\"+\n",
       "     \"</code>\\n\"+\n",
       "     \"</div>\"}};\n",
       "\n",
       "  function display_loaded() {\n",
       "    var el = document.getElementById(\"2de2a750-f209-4b2f-996d-51c123fc6c99\");\n",
       "    if (el != null) {\n",
       "      el.textContent = \"BokehJS is loading...\";\n",
       "    }\n",
       "    if (root.Bokeh !== undefined) {\n",
       "      if (el != null) {\n",
       "        el.textContent = \"BokehJS \" + root.Bokeh.version + \" successfully loaded.\";\n",
       "      }\n",
       "    } else if (Date.now() < root._bokeh_timeout) {\n",
       "      setTimeout(display_loaded, 100)\n",
       "    }\n",
       "  }\n",
       "\n",
       "\n",
       "  function run_callbacks() {\n",
       "    try {\n",
       "      root._bokeh_onload_callbacks.forEach(function(callback) { callback() });\n",
       "    }\n",
       "    finally {\n",
       "      delete root._bokeh_onload_callbacks\n",
       "    }\n",
       "    console.info(\"Bokeh: all callbacks have finished\");\n",
       "  }\n",
       "\n",
       "  function load_libs(js_urls, callback) {\n",
       "    root._bokeh_onload_callbacks.push(callback);\n",
       "    if (root._bokeh_is_loading > 0) {\n",
       "      console.log(\"Bokeh: BokehJS is being loaded, scheduling callback at\", now());\n",
       "      return null;\n",
       "    }\n",
       "    if (js_urls == null || js_urls.length === 0) {\n",
       "      run_callbacks();\n",
       "      return null;\n",
       "    }\n",
       "    console.log(\"Bokeh: BokehJS not loaded, scheduling load and callback at\", now());\n",
       "    root._bokeh_is_loading = js_urls.length;\n",
       "    for (var i = 0; i < js_urls.length; i++) {\n",
       "      var url = js_urls[i];\n",
       "      var s = document.createElement('script');\n",
       "      s.src = url;\n",
       "      s.async = false;\n",
       "      s.onreadystatechange = s.onload = function() {\n",
       "        root._bokeh_is_loading--;\n",
       "        if (root._bokeh_is_loading === 0) {\n",
       "          console.log(\"Bokeh: all BokehJS libraries loaded\");\n",
       "          run_callbacks()\n",
       "        }\n",
       "      };\n",
       "      s.onerror = function() {\n",
       "        console.warn(\"failed to load library \" + url);\n",
       "      };\n",
       "      console.log(\"Bokeh: injecting script tag for BokehJS library: \", url);\n",
       "      document.getElementsByTagName(\"head\")[0].appendChild(s);\n",
       "    }\n",
       "  };var element = document.getElementById(\"2de2a750-f209-4b2f-996d-51c123fc6c99\");\n",
       "  if (element == null) {\n",
       "    console.log(\"Bokeh: ERROR: autoload.js configured with elementid '2de2a750-f209-4b2f-996d-51c123fc6c99' but no matching script tag was found. \")\n",
       "    return false;\n",
       "  }\n",
       "\n",
       "  var js_urls = [\"https://cdn.pydata.org/bokeh/release/bokeh-0.12.13.min.js\", \"https://cdn.pydata.org/bokeh/release/bokeh-widgets-0.12.13.min.js\", \"https://cdn.pydata.org/bokeh/release/bokeh-tables-0.12.13.min.js\", \"https://cdn.pydata.org/bokeh/release/bokeh-gl-0.12.13.min.js\"];\n",
       "\n",
       "  var inline_js = [\n",
       "    function(Bokeh) {\n",
       "      Bokeh.set_log_level(\"info\");\n",
       "    },\n",
       "    \n",
       "    function(Bokeh) {\n",
       "      \n",
       "    },\n",
       "    function(Bokeh) {\n",
       "      console.log(\"Bokeh: injecting CSS: https://cdn.pydata.org/bokeh/release/bokeh-0.12.13.min.css\");\n",
       "      Bokeh.embed.inject_css(\"https://cdn.pydata.org/bokeh/release/bokeh-0.12.13.min.css\");\n",
       "      console.log(\"Bokeh: injecting CSS: https://cdn.pydata.org/bokeh/release/bokeh-widgets-0.12.13.min.css\");\n",
       "      Bokeh.embed.inject_css(\"https://cdn.pydata.org/bokeh/release/bokeh-widgets-0.12.13.min.css\");\n",
       "      console.log(\"Bokeh: injecting CSS: https://cdn.pydata.org/bokeh/release/bokeh-tables-0.12.13.min.css\");\n",
       "      Bokeh.embed.inject_css(\"https://cdn.pydata.org/bokeh/release/bokeh-tables-0.12.13.min.css\");\n",
       "    }\n",
       "  ];\n",
       "\n",
       "  function run_inline_js() {\n",
       "    \n",
       "    if ((root.Bokeh !== undefined) || (force === true)) {\n",
       "      for (var i = 0; i < inline_js.length; i++) {\n",
       "        inline_js[i].call(root, root.Bokeh);\n",
       "      }if (force === true) {\n",
       "        display_loaded();\n",
       "      }} else if (Date.now() < root._bokeh_timeout) {\n",
       "      setTimeout(run_inline_js, 100);\n",
       "    } else if (!root._bokeh_failed_load) {\n",
       "      console.log(\"Bokeh: BokehJS failed to load within specified timeout.\");\n",
       "      root._bokeh_failed_load = true;\n",
       "    } else if (force !== true) {\n",
       "      var cell = $(document.getElementById(\"2de2a750-f209-4b2f-996d-51c123fc6c99\")).parents('.cell').data().cell;\n",
       "      cell.output_area.append_execute_result(NB_LOAD_WARNING)\n",
       "    }\n",
       "\n",
       "  }\n",
       "\n",
       "  if (root._bokeh_is_loading === 0) {\n",
       "    console.log(\"Bokeh: BokehJS loaded, going straight to plotting\");\n",
       "    run_inline_js();\n",
       "  } else {\n",
       "    load_libs(js_urls, function() {\n",
       "      console.log(\"Bokeh: BokehJS plotting callback run at\", now());\n",
       "      run_inline_js();\n",
       "    });\n",
       "  }\n",
       "}(window));"
      ],
      "application/vnd.bokehjs_load.v0+json": "\n(function(root) {\n  function now() {\n    return new Date();\n  }\n\n  var force = true;\n\n  if (typeof (root._bokeh_onload_callbacks) === \"undefined\" || force === true) {\n    root._bokeh_onload_callbacks = [];\n    root._bokeh_is_loading = undefined;\n  }\n\n  \n\n  \n  if (typeof (root._bokeh_timeout) === \"undefined\" || force === true) {\n    root._bokeh_timeout = Date.now() + 5000;\n    root._bokeh_failed_load = false;\n  }\n\n  var NB_LOAD_WARNING = {'data': {'text/html':\n     \"<div style='background-color: #fdd'>\\n\"+\n     \"<p>\\n\"+\n     \"BokehJS does not appear to have successfully loaded. If loading BokehJS from CDN, this \\n\"+\n     \"may be due to a slow or bad network connection. Possible fixes:\\n\"+\n     \"</p>\\n\"+\n     \"<ul>\\n\"+\n     \"<li>re-rerun `output_notebook()` to attempt to load from CDN again, or</li>\\n\"+\n     \"<li>use INLINE resources instead, as so:</li>\\n\"+\n     \"</ul>\\n\"+\n     \"<code>\\n\"+\n     \"from bokeh.resources import INLINE\\n\"+\n     \"output_notebook(resources=INLINE)\\n\"+\n     \"</code>\\n\"+\n     \"</div>\"}};\n\n  function display_loaded() {\n    var el = document.getElementById(\"2de2a750-f209-4b2f-996d-51c123fc6c99\");\n    if (el != null) {\n      el.textContent = \"BokehJS is loading...\";\n    }\n    if (root.Bokeh !== undefined) {\n      if (el != null) {\n        el.textContent = \"BokehJS \" + root.Bokeh.version + \" successfully loaded.\";\n      }\n    } else if (Date.now() < root._bokeh_timeout) {\n      setTimeout(display_loaded, 100)\n    }\n  }\n\n\n  function run_callbacks() {\n    try {\n      root._bokeh_onload_callbacks.forEach(function(callback) { callback() });\n    }\n    finally {\n      delete root._bokeh_onload_callbacks\n    }\n    console.info(\"Bokeh: all callbacks have finished\");\n  }\n\n  function load_libs(js_urls, callback) {\n    root._bokeh_onload_callbacks.push(callback);\n    if (root._bokeh_is_loading > 0) {\n      console.log(\"Bokeh: BokehJS is being loaded, scheduling callback at\", now());\n      return null;\n    }\n    if (js_urls == null || js_urls.length === 0) {\n      run_callbacks();\n      return null;\n    }\n    console.log(\"Bokeh: BokehJS not loaded, scheduling load and callback at\", now());\n    root._bokeh_is_loading = js_urls.length;\n    for (var i = 0; i < js_urls.length; i++) {\n      var url = js_urls[i];\n      var s = document.createElement('script');\n      s.src = url;\n      s.async = false;\n      s.onreadystatechange = s.onload = function() {\n        root._bokeh_is_loading--;\n        if (root._bokeh_is_loading === 0) {\n          console.log(\"Bokeh: all BokehJS libraries loaded\");\n          run_callbacks()\n        }\n      };\n      s.onerror = function() {\n        console.warn(\"failed to load library \" + url);\n      };\n      console.log(\"Bokeh: injecting script tag for BokehJS library: \", url);\n      document.getElementsByTagName(\"head\")[0].appendChild(s);\n    }\n  };var element = document.getElementById(\"2de2a750-f209-4b2f-996d-51c123fc6c99\");\n  if (element == null) {\n    console.log(\"Bokeh: ERROR: autoload.js configured with elementid '2de2a750-f209-4b2f-996d-51c123fc6c99' but no matching script tag was found. \")\n    return false;\n  }\n\n  var js_urls = [\"https://cdn.pydata.org/bokeh/release/bokeh-0.12.13.min.js\", \"https://cdn.pydata.org/bokeh/release/bokeh-widgets-0.12.13.min.js\", \"https://cdn.pydata.org/bokeh/release/bokeh-tables-0.12.13.min.js\", \"https://cdn.pydata.org/bokeh/release/bokeh-gl-0.12.13.min.js\"];\n\n  var inline_js = [\n    function(Bokeh) {\n      Bokeh.set_log_level(\"info\");\n    },\n    \n    function(Bokeh) {\n      \n    },\n    function(Bokeh) {\n      console.log(\"Bokeh: injecting CSS: https://cdn.pydata.org/bokeh/release/bokeh-0.12.13.min.css\");\n      Bokeh.embed.inject_css(\"https://cdn.pydata.org/bokeh/release/bokeh-0.12.13.min.css\");\n      console.log(\"Bokeh: injecting CSS: https://cdn.pydata.org/bokeh/release/bokeh-widgets-0.12.13.min.css\");\n      Bokeh.embed.inject_css(\"https://cdn.pydata.org/bokeh/release/bokeh-widgets-0.12.13.min.css\");\n      console.log(\"Bokeh: injecting CSS: https://cdn.pydata.org/bokeh/release/bokeh-tables-0.12.13.min.css\");\n      Bokeh.embed.inject_css(\"https://cdn.pydata.org/bokeh/release/bokeh-tables-0.12.13.min.css\");\n    }\n  ];\n\n  function run_inline_js() {\n    \n    if ((root.Bokeh !== undefined) || (force === true)) {\n      for (var i = 0; i < inline_js.length; i++) {\n        inline_js[i].call(root, root.Bokeh);\n      }if (force === true) {\n        display_loaded();\n      }} else if (Date.now() < root._bokeh_timeout) {\n      setTimeout(run_inline_js, 100);\n    } else if (!root._bokeh_failed_load) {\n      console.log(\"Bokeh: BokehJS failed to load within specified timeout.\");\n      root._bokeh_failed_load = true;\n    } else if (force !== true) {\n      var cell = $(document.getElementById(\"2de2a750-f209-4b2f-996d-51c123fc6c99\")).parents('.cell').data().cell;\n      cell.output_area.append_execute_result(NB_LOAD_WARNING)\n    }\n\n  }\n\n  if (root._bokeh_is_loading === 0) {\n    console.log(\"Bokeh: BokehJS loaded, going straight to plotting\");\n    run_inline_js();\n  } else {\n    load_libs(js_urls, function() {\n      console.log(\"Bokeh: BokehJS plotting callback run at\", now());\n      run_inline_js();\n    });\n  }\n}(window));"
     },
     "metadata": {},
     "output_type": "display_data"
    },
    {
     "data": {
      "text/html": [
       "\n",
       "<div class=\"bk-root\">\n",
       "    <div class=\"bk-plotdiv\" id=\"6192c2ce-5ef2-44e8-a03f-c7c4392d8460\"></div>\n",
       "</div>"
      ]
     },
     "metadata": {},
     "output_type": "display_data"
    },
    {
     "data": {
      "application/javascript": [
       "(function(root) {\n",
       "  function embed_document(root) {\n",
       "    \n",
       "  var docs_json = {\"8f7019c3-bc28-4275-a526-3a2cbe32c3a8\":{\"roots\":{\"references\":[{\"attributes\":{\"callback\":null,\"end\":10000000.0,\"start\":0.1},\"id\":\"11b6d95d-1c33-4278-9751-10e17820363a\",\"type\":\"Range1d\"},{\"attributes\":{},\"id\":\"2c1306ec-9536-4b3d-a18f-d136d53b4a7d\",\"type\":\"ResetTool\"},{\"attributes\":{\"bottom_units\":\"screen\",\"fill_alpha\":{\"value\":0.5},\"fill_color\":{\"value\":\"lightgrey\"},\"left_units\":\"screen\",\"level\":\"overlay\",\"line_alpha\":{\"value\":1.0},\"line_color\":{\"value\":\"black\"},\"line_dash\":[4,4],\"line_width\":{\"value\":2},\"plot\":null,\"render_mode\":\"css\",\"right_units\":\"screen\",\"top_units\":\"screen\"},\"id\":\"4248fd02-ed80-43bd-bd73-1c8d00dbb787\",\"type\":\"BoxAnnotation\"},{\"attributes\":{\"ticker\":null},\"id\":\"36b583c8-10b2-4d62-83f7-55324108c3ad\",\"type\":\"LogTickFormatter\"},{\"attributes\":{\"ticker\":null},\"id\":\"82d65b75-f081-4e00-8808-d1346084e77d\",\"type\":\"LogTickFormatter\"},{\"attributes\":{\"callback\":null,\"column_names\":[\"Median\",\"Straight_Line\",\"Median_Full\",\"Median_Books\",\"Median_Electronics\",\"Median_Movies_and_TV\",\"Median_CDs_and_Vinyl\",\"Median_Clothing_Shoes_and_Jewelry\",\"Median_Home_and_Kitchen\",\"Median_Kindle_Store\",\"Median_Sports_and_Outdoors\",\"Median_Cell_Phones_and_Accessories\",\"Median_Health_and_Personal_Care\",\"Median_Toys_and_Games\",\"Median_Video_Games\",\"Median_Tools_and_Home_Improvement\",\"Median_Beauty\",\"Median_Apps_for_Android\",\"Median_Office_Products\",\"Median_Pet_Supplies\",\"Median_Automotive\",\"Median_Grocery_and_Gourmet_Food\",\"Median_Patio_Lawn_and_Garden\",\"Median_Baby\",\"Median_Digital_Music\",\"Median_Musical_Instruments\",\"Median_Amazon_Instant_Video\"],\"data\":{\"Median\":[4.0,4.0],\"Median_Amazon_Instant_Video\":[2.0,2.0],\"Median_Apps_for_Android\":[2.0,2.0],\"Median_Automotive\":[4.0,4.0],\"Median_Baby\":[3.0,3.0],\"Median_Beauty\":[4.0,4.0],\"Median_Books\":[4.0,4.0],\"Median_CDs_and_Vinyl\":[5.0,5.0],\"Median_Cell_Phones_and_Accessories\":[3.0,3.0],\"Median_Clothing_Shoes_and_Jewelry\":[5.0,5.0],\"Median_Digital_Music\":[4.0,4.0],\"Median_Electronics\":[3.0,3.0],\"Median_Full\":[4.0,4.0],\"Median_Grocery_and_Gourmet_Food\":[3.0,3.0],\"Median_Health_and_Personal_Care\":[3.0,3.0],\"Median_Home_and_Kitchen\":[4.0,4.0],\"Median_Kindle_Store\":[4.0,4.0],\"Median_Movies_and_TV\":[4.0,4.0],\"Median_Musical_Instruments\":[3.0,3.0],\"Median_Office_Products\":[4.0,4.0],\"Median_Patio_Lawn_and_Garden\":[4.0,4.0],\"Median_Pet_Supplies\":[3.0,3.0],\"Median_Sports_and_Outdoors\":[4.0,4.0],\"Median_Tools_and_Home_Improvement\":[4.0,4.0],\"Median_Toys_and_Games\":[4.0,4.0],\"Median_Video_Games\":[3.0,3.0],\"Straight_Line\":[0.001,10000000]}},\"id\":\"9885efed-e49e-440c-ae63-e5094213e87c\",\"type\":\"ColumnDataSource\"},{\"attributes\":{\"plot\":null,\"text\":\"\"},\"id\":\"28120f48-ef7f-4ce4-9298-dd825e42520b\",\"type\":\"Title\"},{\"attributes\":{\"callback\":{\"id\":\"9608b39a-a889-4791-a146-3b1a1533b1f6\",\"type\":\"CustomJS\"},\"options\":[[\"Full\",\"All Categories\"],[\"Books\",\"Books\"],[\"Electronics\",\"Electronics\"],[\"Movies_and_TV\",\"Movies and TVs\"],[\"CDs_and_Vinyl\",\"CDs and Vinyl\"],[\"Clothing_Shoes_and_Jewelry\",\"Clothing Shoes and Jewelry\"],[\"Home_and_Kitchen\",\"Home and Kitchen\"],[\"Kindle_Store\",\"Kindle Store\"],[\"Sports_and_Outdoors\",\"Sports and Outdoors\"],[\"Cell_Phones_and_Accessories\",\"Cell Phones and Accessories\"],[\"Health_and_Personal_Care\",\"Health and Personal Care\"],[\"Toys_and_Games\",\"Toys and Games\"],[\"Video_Games\",\"Video Games\"],[\"Tools_and_Home_Improvement\",\"Tools and Home Improvement\"],[\"Beauty\",\"Beauty\"],[\"Apps_for_Android\",\"Apps for Android\"],[\"Office_Products\",\"Office Products\"],[\"Pet_Supplies\",\"Pet Supplies\"],[\"Automotive\",\"Automotive\"],[\"Grocery_and_Gourmet_Food\",\"Grocery and Gourmet Food\"],[\"Patio_Lawn_and_Garden\",\"Patio Lawn and Garden\"],[\"Baby\",\"Baby\"],[\"Digital_Music\",\"Digital Music\"],[\"Musical_Instruments\",\"Musical Instruments\"],[\"Amazon_Instant_Video\",\"Amazon Instant Video\"]],\"title\":\"Category\",\"value\":\"Full\"},\"id\":\"9ccc90e3-93e6-4fe8-bbdd-308da9bd2b7f\",\"type\":\"Select\"},{\"attributes\":{\"items\":[{\"id\":\"af250e31-055e-4d49-b56b-34d0f2875681\",\"type\":\"LegendItem\"}],\"plot\":{\"id\":\"8d9a1dc8-52f7-48da-9e44-d6200e6580eb\",\"subtype\":\"Figure\",\"type\":\"Plot\"}},\"id\":\"45fa795e-29d9-4e53-ae5c-d049306db67a\",\"type\":\"Legend\"},{\"attributes\":{\"source\":{\"id\":\"9885efed-e49e-440c-ae63-e5094213e87c\",\"type\":\"ColumnDataSource\"}},\"id\":\"7c2446d8-13bb-44cd-8af8-5b453b24d1db\",\"type\":\"CDSView\"},{\"attributes\":{\"line_alpha\":0.1,\"line_color\":\"#1f77b4\",\"x\":{\"field\":\"Median\"},\"y\":{\"field\":\"Straight_Line\"}},\"id\":\"b0eb8ace-5007-4971-8417-2d0b679744df\",\"type\":\"Line\"},{\"attributes\":{\"children\":[{\"id\":\"9ccc90e3-93e6-4fe8-bbdd-308da9bd2b7f\",\"type\":\"Select\"}]},\"id\":\"8d699c31-d010-47ca-afaf-bc33736be25d\",\"type\":\"WidgetBox\"},{\"attributes\":{\"bottom\":{\"value\":0.01},\"fill_alpha\":{\"value\":0.1},\"fill_color\":{\"value\":\"#1f77b4\"},\"line_alpha\":{\"value\":0.1},\"line_color\":{\"value\":\"#1f77b4\"},\"top\":{\"field\":\"Product_Count\"},\"width\":{\"field\":\"Width\"},\"x\":{\"field\":\"Review_Count\"}},\"id\":\"dfcbcbfa-d42c-47a2-a7c1-5dff13c75a8e\",\"type\":\"VBar\"},{\"attributes\":{\"args\":{\"source\":{\"id\":\"9461fd63-fed4-4272-b7ef-fdbc50207abd\",\"type\":\"ColumnDataSource\"},\"source2\":{\"id\":\"9885efed-e49e-440c-ae63-e5094213e87c\",\"type\":\"ColumnDataSource\"}},\"code\":\"var _pyfunc_range = function (start, end, step) {\\nvar i, res = [];\\n    var val = start;\\n    var n = (end - start) / step;\\n    for (i=0; i<n; i++) {\\n        res.push(val);\\n        val += step;\\n    }\\n    return res;\\n};\\nvar cb;\\ncb = function (source, source2, window) {\\n    var cat_med, cat_width, cat_x, cat_y, data, data2, f, i, med, stub1_, width, x, y;\\n    source = (source === undefined) ? source: source;\\n    source2 = (source2 === undefined) ? source2: source2;\\n    window = (window === undefined) ? null: window;\\n    // Callback function which will be interpreted in javascript. This function is called each time\\n    // the category is change and update the data source accordingly\\n    data = source.data;\\n    data2 = source2.data;\\n    f = cb_obj.value;\\n    stub1_ = [data[\\\"Review_Count\\\"], data[\\\"Product_Count\\\"], data[\\\"Width\\\"]];\\n    x = stub1_[0];y = stub1_[1];width = stub1_[2];\\n    med = data2[\\\"Median\\\"];\\n    cat_x = \\\"RC_\\\" + f;\\n    cat_y = \\\"PC_\\\" + f;\\n    cat_width = \\\"Width_\\\" + f;\\n    cat_med = \\\"Median_\\\" + f;\\n    med[0] = data2[cat_med][0];\\n    med[1] = data2[cat_med][1];\\n    for (i = 0; i < x.length; i += 1) {\\n        x[i] = data[cat_x][i];\\n        y[i] = data[cat_y][i];\\n        width[i] = data[cat_width][i];\\n    }\\n    source.change.emit();\\n    source2.change.emit();\\n    return null;\\n};\\ncb(source, source2, window);\\n\"},\"id\":\"9608b39a-a889-4791-a146-3b1a1533b1f6\",\"type\":\"CustomJS\"},{\"attributes\":{\"bottom\":{\"value\":0.01},\"fill_alpha\":{\"value\":0.7},\"fill_color\":{\"value\":\"LightCoral\"},\"line_alpha\":{\"value\":0.7},\"line_color\":{\"value\":\"LightCoral\"},\"top\":{\"field\":\"Product_Count\"},\"width\":{\"field\":\"Width\"},\"x\":{\"field\":\"Review_Count\"}},\"id\":\"ae6e8be2-55df-4af1-95ea-b931b3aa6327\",\"type\":\"VBar\"},{\"attributes\":{},\"id\":\"19c82bc2-f67c-4e34-8470-0e1e74c4cd42\",\"type\":\"LogScale\"},{\"attributes\":{\"children\":[{\"id\":\"8d9a1dc8-52f7-48da-9e44-d6200e6580eb\",\"subtype\":\"Figure\",\"type\":\"Plot\"},{\"id\":\"8d699c31-d010-47ca-afaf-bc33736be25d\",\"type\":\"WidgetBox\"}]},\"id\":\"324253bd-6646-42db-b7b1-286e96288d63\",\"type\":\"Row\"},{\"attributes\":{\"callback\":null,\"column_names\":[\"Review_Count\",\"Product_Count\",\"Width\",\"RC_Full\",\"PC_Full\",\"Width_Full\",\"RC_Books\",\"PC_Books\",\"Width_Books\",\"RC_Electronics\",\"PC_Electronics\",\"Width_Electronics\",\"RC_Movies_and_TV\",\"PC_Movies_and_TV\",\"Width_Movies_and_TV\",\"RC_CDs_and_Vinyl\",\"PC_CDs_and_Vinyl\",\"Width_CDs_and_Vinyl\",\"RC_Clothing_Shoes_and_Jewelry\",\"PC_Clothing_Shoes_and_Jewelry\",\"Width_Clothing_Shoes_and_Jewelry\",\"RC_Home_and_Kitchen\",\"PC_Home_and_Kitchen\",\"Width_Home_and_Kitchen\",\"RC_Kindle_Store\",\"PC_Kindle_Store\",\"Width_Kindle_Store\",\"RC_Sports_and_Outdoors\",\"PC_Sports_and_Outdoors\",\"Width_Sports_and_Outdoors\",\"RC_Cell_Phones_and_Accessories\",\"PC_Cell_Phones_and_Accessories\",\"Width_Cell_Phones_and_Accessories\",\"RC_Health_and_Personal_Care\",\"PC_Health_and_Personal_Care\",\"Width_Health_and_Personal_Care\",\"RC_Toys_and_Games\",\"PC_Toys_and_Games\",\"Width_Toys_and_Games\",\"RC_Video_Games\",\"PC_Video_Games\",\"Width_Video_Games\",\"RC_Tools_and_Home_Improvement\",\"PC_Tools_and_Home_Improvement\",\"Width_Tools_and_Home_Improvement\",\"RC_Beauty\",\"PC_Beauty\",\"Width_Beauty\",\"RC_Apps_for_Android\",\"PC_Apps_for_Android\",\"Width_Apps_for_Android\",\"RC_Office_Products\",\"PC_Office_Products\",\"Width_Office_Products\",\"RC_Pet_Supplies\",\"PC_Pet_Supplies\",\"Width_Pet_Supplies\",\"RC_Automotive\",\"PC_Automotive\",\"Width_Automotive\",\"RC_Grocery_and_Gourmet_Food\",\"PC_Grocery_and_Gourmet_Food\",\"Width_Grocery_and_Gourmet_Food\",\"RC_Patio_Lawn_and_Garden\",\"PC_Patio_Lawn_and_Garden\",\"Width_Patio_Lawn_and_Garden\",\"RC_Baby\",\"PC_Baby\",\"Width_Baby\",\"RC_Digital_Music\",\"PC_Digital_Music\",\"Width_Digital_Music\",\"RC_Musical_Instruments\",\"PC_Musical_Instruments\",\"Width_Musical_Instruments\",\"RC_Amazon_Instant_Video\",\"PC_Amazon_Instant_Video\",\"Width_Amazon_Instant_Video\"],\"data\":{\"PC_Amazon_Instant_Video\":{\"__ndarray__\":\"AAAAAADrvkAAAAAAAIatQAAAAAAAEqFAAAAAAADUlkAAAAAAAOSQQAAAAAAACIpAAAAAAAAIg0AAAAAAAKCAQAAAAAAAgIhAAAAAAACwgEAAAAAAAICDQAAAAAAAMHxAAAAAAAAgekAAAAAAAKB0QAAAAAAAYHVAAAAAAABQc0AAAAAAAKBuQAAAAAAAoGtAAAAAAABAZUAAAAAAAGBkQAAAAAAAQGJAAAAAAADAYEAAAAAAAIBcQAAAAAAAAFRAAAAAAACAUkAAAAAAAEBSQAAAAAAAgExAAAAAAACAS0AAAAAAAIBJQAAAAAAAgElAAAAAAAAAQkAAAAAAAAA2QAAAAAAAADNAAAAAAAAAMEAAAAAAAAAkQAAAAAAAACBAAAAAAAAAEEAAAAAAAAAUQAAAAAAAABRAAAAAAAAAIEAAAAAAAAAIQAAAAAAAAABAAAAAAAAAAEAAAAAAAAD4fwAAAAAAAABAAAAAAAAAAEA=\",\"dtype\":\"float64\",\"shape\":[46]},\"PC_Apps_for_Android\":[18377,9512,5726,3748,2766,1956,2917,1980,1489,1603,1135,1220,1025,1030,682,781,679,571,542,466,451,423,371,297,239,227,155,172,139,119,89,79,71,55,44,36,26,19,19,11,4,7,7,6,1,3],\"PC_Automotive\":{\"__ndarray__\":\"AAAAAPB8BUEAAAAAYBbqQAAAAACAidhAAAAAAADUy0AAAAAAgAbCQAAAAAAApblAAAAAAACGskAAAAAAACCtQAAAAAAAtrRAAAAAAADEn0AAAAAAAFyoQAAAAAAAYKpAAAAAAABwmUAAAAAAANyiQAAAAAAAHJRAAAAAAAA8mUAAAAAAAKSSQAAAAAAAUI5AAAAAAABQiEAAAAAAAIiFQAAAAAAAAIJAAAAAAABAe0AAAAAAAJB4QAAAAAAAoG9AAAAAAACga0AAAAAAAMBkQAAAAAAAAF5AAAAAAACAX0AAAAAAAIBVQAAAAAAAAFBAAAAAAACARkAAAAAAAIBCQAAAAAAAADxAAAAAAAAAM0AAAAAAAAAkQAAAAAAAACZAAAAAAAAAEEAAAAAAAAAYQAAAAAAAABhAAAAAAAAA8D8AAAAAAAAAQAAAAAAAAPA/AAAAAAAA+H8AAAAAAAAIQA==\",\"dtype\":\"float64\",\"shape\":[44]},\"PC_Baby\":[23289,10006,5602,3731,2620,1912,1523,2215,918,1375,1608,866,1044,1038,764,882,665,605,620,472,413,390,347,259,243,208,165,126,122,105,73,50,53,25,31,24,14,11,1,1,3,2,4,1],\"PC_Beauty\":{\"__ndarray__\":\"AAAAAMBD+UAAAAAAIJzkQAAAAACAz9VAAAAAAAAny0AAAAAAgMvCQAAAAAAALrxAAAAAAADYtUAAAAAAACq/QAAAAAAA4bVAAAAAAADDsEAAAAAAAN6oQAAAAAAABK1AAAAAAAB6rEAAAAAAAKynQAAAAAAAFKFAAAAAAAAMnkAAAAAAABidQAAAAAAAgJZAAAAAAAA4k0AAAAAAAGiQQAAAAAAAmItAAAAAAACghUAAAAAAAKCAQAAAAAAAAHhAAAAAAAAQdUAAAAAAAGBwQAAAAAAAgGdAAAAAAABgYkAAAAAAAMBWQAAAAAAAAFVAAAAAAAAATkAAAAAAAIBFQAAAAAAAAEBAAAAAAAAALEAAAAAAAAAoQAAAAAAAACJAAAAAAAAAEEAAAAAAAAAUQAAAAAAAAABAAAAAAAAA8D8AAAAAAAD4fwAAAAAAAPh/AAAAAAAA+H8AAAAAAAD4fwAAAAAAAPA/\",\"dtype\":\"float64\",\"shape\":[45]},\"PC_Books\":{\"__ndarray__\":\"AAAAAFgiKkEAAAAATAkXQQAAAABQ1gpBAAAAAJDaAUEAAAAAUIL5QAAAAAAgTvNAAAAAAPBa+0AAAAAAAOfjQAAAAABg9+5AAAAAANAU8EAAAAAAgPPlQAAAAABgKORAAAAAAGBW4UAAAAAAwDDcQAAAAADAI9ZAAAAAAEDY0kAAAAAAgOvOQAAAAACAwsdAAAAAAABcw0AAAAAAAJa+QAAAAAAAMLhAAAAAAACOs0AAAAAAAEKtQAAAAAAAiKZAAAAAAABKoUAAAAAAAPSYQAAAAAAAPJNAAAAAAADwjEAAAAAAAGCEQAAAAAAAEH9AAAAAAADwdkAAAAAAAKBwQAAAAAAAQGVAAAAAAADAXUAAAAAAAMBYQAAAAAAAQFNAAAAAAAAASEAAAAAAAAA/QAAAAAAAADZAAAAAAAAAMUAAAAAAAAAuQAAAAAAAABhAAAAAAAAAFEAAAAAAAAAcQAAAAAAAAPh/AAAAAAAAAEA=\",\"dtype\":\"float64\",\"shape\":[46]},\"PC_CDs_and_Vinyl\":{\"__ndarray__\":\"AAAAAKjWBUEAAAAAUGb1QAAAAAAgXehAAAAAAAA+30AAAAAAgHbVQAAAAACAWs9AAAAAAAB9x0AAAAAAgPvCQAAAAACAkctAAAAAAIBAw0AAAAAAAGW9QAAAAAAAkLZAAAAAAAACukAAAAAAAIuyQAAAAAAAfbJAAAAAAABesUAAAAAAANKsQAAAAAAAuqRAAAAAAAB8pEAAAAAAAG6gQAAAAAAAhJpAAAAAAADYl0AAAAAAAJyTQAAAAAAAmI1AAAAAAADwiUAAAAAAAPiEQAAAAAAAMH9AAAAAAAAgeUAAAAAAANB1QAAAAAAAMHFAAAAAAABgbkAAAAAAAMBhQAAAAAAAQF5AAAAAAABAVUAAAAAAAABMQAAAAAAAgEJAAAAAAAAAO0AAAAAAAAA2QAAAAAAAACpAAAAAAAAAJkAAAAAAAAAQQAAAAAAAABBAAAAAAAAA+H8AAAAAAADwPw==\",\"dtype\":\"float64\",\"shape\":[44]},\"PC_Cell_Phones_and_Accessories\":{\"__ndarray__\":\"AAAAAJh3AkEAAAAAIB7pQAAAAAAA4thAAAAAAAAXzkAAAAAAAInEQAAAAAAABb5AAAAAAAC2tkAAAAAAgF/AQAAAAAAAFbdAAAAAAAA0uEAAAAAAAKGxQAAAAAAATKlAAAAAAADkrkAAAAAAADCmQAAAAAAAiqZAAAAAAABOokAAAAAAAEagQAAAAAAATJxAAAAAAAAsl0AAAAAAAOCSQAAAAAAA4I9AAAAAAABwiEAAAAAAAKCFQAAAAAAAsINAAAAAAAAwfEAAAAAAABB3QAAAAAAAEHNAAAAAAACgbkAAAAAAAGBnQAAAAAAAYGBAAAAAAADAXEAAAAAAAEBRQAAAAAAAAE1AAAAAAAAASEAAAAAAAAA8QAAAAAAAADhAAAAAAAAAM0AAAAAAAAAkQAAAAAAAACZAAAAAAAAAFEAAAAAAAAAQQAAAAAAAAAhAAAAAAAAAAEAAAAAAAAD4fwAAAAAAAPh/AAAAAAAA8D8=\",\"dtype\":\"float64\",\"shape\":[46]},\"PC_Clothing_Shoes_and_Jewelry\":[614773,190540,87728,49985,32478,22880,17238,13122,19128,13869,10325,7801,8955,6638,6627,6069,5249,3656,3506,2834,2418,1952,1735,1361,1095,938,734,599,441,345,268,185,175,116,75,59,26,31,15,17,9,2,1,6],\"PC_Digital_Music\":{\"__ndarray__\":\"AAAAAAjMBkEAAAAAwB/hQAAAAAAAcctAAAAAAAC9vEAAAAAAAHSxQAAAAAAAAKhAAAAAAADmoEAAAAAAAACnQAAAAAAAMJBAAAAAAACcl0AAAAAAAICRQAAAAAAAmIpAAAAAAADIjEAAAAAAAACGQAAAAAAAyIVAAAAAAADogEAAAAAAAAB+QAAAAAAAAHpAAAAAAADgdkAAAAAAAHBzQAAAAAAA8HBAAAAAAADgakAAAAAAAEBoQAAAAAAAQGNAAAAAAABAXkAAAAAAAABeQAAAAAAAAFpAAAAAAAAAUkAAAAAAAABUQAAAAAAAAEpAAAAAAAAASUAAAAAAAABGQAAAAAAAADtAAAAAAAAANUAAAAAAAAAzQAAAAAAAAC5AAAAAAAAAGEAAAAAAAAAUQAAAAAAAABRAAAAAAAAA+H8AAAAAAAAQQAAAAAAAAPA/AAAAAAAACEA=\",\"dtype\":\"float64\",\"shape\":[43]},\"PC_Electronics\":[179738,72180,40402,25899,18607,14091,11138,16698,11979,13018,6592,10096,9011,6471,6516,5303,4644,4131,3460,2951,2494,2077,1697,1458,1138,987,733,595,493,351,272,206,150,148,95,49,47,26,24,13,6,4,7,2,3,2],\"PC_Full\":[4615058,1584955,815882,503660,345875,253642,350614,232397,166881,178634,125269,119763,104833,99331,66973,65225,51827,40228,34274,27051,21283,16785,13171,10332,7963,5885,4482,3397,2433,1787,1308,872,663,448,326,227,154,99,70,52,27,31,24,10,6,4],\"PC_Grocery_and_Gourmet_Food\":{\"__ndarray__\":\"AAAAACBY8EAAAAAAwGjbQAAAAACAaM5AAAAAAACqwkAAAAAAAIy6QAAAAAAA1LNAAAAAAAAerkAAAAAAAHC2QAAAAAAAHqFAAAAAAABmqkAAAAAAAMqsQAAAAAAARJxAAAAAAAAqpUAAAAAAAPibQAAAAAAAFJtAAAAAAABUlUAAAAAAABiSQAAAAAAAOI1AAAAAAADoh0AAAAAAADCEQAAAAAAAYH9AAAAAAADgeUAAAAAAAIB0QAAAAAAAYGtAAAAAAACAZ0AAAAAAAEBkQAAAAAAAAFtAAAAAAAAAVEAAAAAAAEBRQAAAAAAAgEhAAAAAAAAARkAAAAAAAAA+QAAAAAAAADRAAAAAAAAALkAAAAAAAAAwQAAAAAAAABRAAAAAAAAAEEAAAAAAAAAgQAAAAAAAAAhAAAAAAAAAEEAAAAAAAAAUQAAAAAAAAPh/AAAAAAAA8D8AAAAAAAD4fwAAAAAAAPA/\",\"dtype\":\"float64\",\"shape\":[45]},\"PC_Health_and_Personal_Care\":{\"__ndarray__\":\"AAAAAKBI+EAAAAAAQFPjQAAAAACAH9VAAAAAAADJykAAAAAAgAfDQAAAAAAANb1AAAAAAACwtkAAAAAAAC+yQAAAAAAAWbxAAAAAAACttEAAAAAAACmwQAAAAAAAVbJAAAAAAACusUAAAAAAAJSvQAAAAAAANqdAAAAAAABqpUAAAAAAAKakQAAAAAAAWKJAAAAAAACAmkAAAAAAANSYQAAAAAAAPJRAAAAAAAC4kEAAAAAAALiLQAAAAAAAMIVAAAAAAABAgkAAAAAAAOB7QAAAAAAAIHRAAAAAAAAAckAAAAAAAKBoQAAAAAAAYGJAAAAAAABAW0AAAAAAAEBUQAAAAAAAwFBAAAAAAAAATUAAAAAAAABCQAAAAAAAADRAAAAAAAAAKkAAAAAAAAAiQAAAAAAAAPh/AAAAAAAAHEAAAAAAAAAIQAAAAAAAAABAAAAAAAAAAEAAAAAAAADwPwAAAAAAAPA/AAAAAAAA8D8=\",\"dtype\":\"float64\",\"shape\":[46]},\"PC_Home_and_Kitchen\":[183733,64246,33184,20641,14258,10406,8292,12266,4724,7346,8197,5739,4461,4674,4189,3750,3617,2545,2302,2164,1739,1487,1242,1008,844,705,544,436,387,278,210,157,129,100,62,52,44,30,21,11,10,7,2,3,1],\"PC_Kindle_Store\":{\"__ndarray__\":\"AAAAACAwA0EAAAAAUBnyQAAAAACAleRAAAAAAIAr20AAAAAAgP/SQAAAAACAAM1AAAAAAIBCxkAAAAAAgBXCQAAAAACAIMtAAAAAAICnw0AAAAAAAMbEQAAAAAAAWbxAAAAAAAAQukAAAAAAAKCyQAAAAAAAl7JAAAAAAADOqEAAAAAAAJSoQAAAAAAAfqBAAAAAAADUnUAAAAAAAIiXQAAAAAAA7JBAAAAAAAAIjUAAAAAAAPiDQAAAAAAAyIBAAAAAAABAd0AAAAAAAHBwQAAAAAAAQGVAAAAAAADAWkAAAAAAAMBTQAAAAAAAgE5AAAAAAAAAPEAAAAAAAABGQAAAAAAAADlAAAAAAAAAMEAAAAAAAAAkQAAAAAAAAAhAAAAAAAAAHEAAAAAAAADwPwAAAAAAAABAAAAAAAAAAEAAAAAAAAD4fwAAAAAAAPA/AAAAAAAA+H8AAAAAAAD4fwAAAAAAAPA/AAAAAAAA8D8=\",\"dtype\":\"float64\",\"shape\":[46]},\"PC_Movies_and_TV\":[59197,28860,17528,11844,8808,6778,5540,4562,7221,5416,5963,4477,3499,4617,3259,3367,2891,2615,2384,1955,1687,1429,1203,1072,908,802,666,528,431,350,278,215,183,122,84,68,35,35,26,11,7,6,7,2,1,4],\"PC_Musical_Instruments\":{\"__ndarray__\":\"AAAAACDb4UAAAAAAALTNQAAAAAAAgL9AAAAAAADqskAAAAAAAM6oQAAAAAAAlKFAAAAAAACAmkAAAAAAAAaiQAAAAAAAIItAAAAAAACslEAAAAAAAJCOQAAAAAAA2JBAAAAAAADoh0AAAAAAAHCGQAAAAAAAaIFAAAAAAABAfEAAAAAAANB2QAAAAAAAcHVAAAAAAACwc0AAAAAAAKBqQAAAAAAAQGZAAAAAAABAZUAAAAAAAABfQAAAAAAAgFxAAAAAAABAUUAAAAAAAABRQAAAAAAAgEhAAAAAAACARkAAAAAAAIBEQAAAAAAAAEJAAAAAAAAAMUAAAAAAAAAqQAAAAAAAABxAAAAAAAAAIEAAAAAAAAAiQAAAAAAAAAhAAAAAAAAAAEAAAAAAAAAIQAAAAAAAAPA/AAAAAAAA8D8AAAAAAAD4fwAAAAAAAPA/AAAAAAAA+H8AAAAAAADwPw==\",\"dtype\":\"float64\",\"shape\":[44]},\"PC_Office_Products\":{\"__ndarray__\":\"AAAAAAB47EAAAAAAwB3UQAAAAAAApMRAAAAAAABxuUAAAAAAANGxQAAAAAAAUqlAAAAAAACwpEAAAAAAANCfQAAAAAAAYJpAAAAAAACcpUAAAAAAAESfQAAAAAAATJlAAAAAAABcm0AAAAAAAEicQAAAAAAA0JRAAAAAAAAklUAAAAAAABiNQAAAAAAAJJBAAAAAAAAoikAAAAAAALiGQAAAAAAAMINAAAAAAAC4gUAAAAAAAAB/QAAAAAAAQHpAAAAAAABgdUAAAAAAAHBxQAAAAAAAQGxAAAAAAACAZUAAAAAAAEBhQAAAAAAAQFpAAAAAAAAAVkAAAAAAAIBNQAAAAAAAAEpAAAAAAAAARUAAAAAAAAA7QAAAAAAAADJAAAAAAAAAKkAAAAAAAAAqQAAAAAAAABxAAAAAAAAA8D8AAAAAAAAQQAAAAAAAAABAAAAAAAAAAEAAAAAAAAD4fwAAAAAAAPA/\",\"dtype\":\"float64\",\"shape\":[45]},\"PC_Patio_Lawn_and_Garden\":[42082,17862,9353,5969,4220,3099,2452,1895,2922,2111,1691,1286,1536,1561,1114,1024,816,816,749,599,497,462,370,313,230,204,176,132,104,89,64,63,34,31,23,13,9,4,3,2,1,1,1,1],\"PC_Pet_Supplies\":[41051,16442,8889,5644,4031,3044,4083,1566,2384,1884,1465,1692,1357,1375,1256,990,993,847,686,606,540,433,362,282,271,220,193,147,125,91,79,60,49,32,33,25,17,13,7,10,7,4,1,2],\"PC_Sports_and_Outdoors\":{\"__ndarray__\":\"AAAAANicDEEAAAAA4G3zQAAAAABADeNAAAAAAACX1kAAAAAAgPPNQAAAAACArMVAAAAAAACmwEAAAAAAAA26QAAAAACAkMNAAAAAAADavEAAAAAAAGm1QAAAAAAAPbhAAAAAAADEsUAAAAAAAGmxQAAAAAAAMq9AAAAAAAAgq0AAAAAAAOClQAAAAAAA2KFAAAAAAADEnEAAAAAAADybQAAAAAAAzJZAAAAAAADQkUAAAAAAAOCPQAAAAAAAgIdAAAAAAADYgkAAAAAAAPB9QAAAAAAAIHhAAAAAAAAAckAAAAAAAOBpQAAAAAAAwGNAAAAAAACAYUAAAAAAAMBTQAAAAAAAgFJAAAAAAAAASUAAAAAAAAA/QAAAAAAAADJAAAAAAAAAKkAAAAAAAAAYQAAAAAAAABRAAAAAAAAACEAAAAAAAAAAQAAAAAAAABBAAAAAAAAA8D8AAAAAAAD4fwAAAAAAAPA/\",\"dtype\":\"float64\",\"shape\":[45]},\"PC_Tools_and_Home_Improvement\":{\"__ndarray__\":\"AAAAAPCT/UAAAAAAILLkQAAAAAAA/tRAAAAAAAC/yUAAAAAAANbBQAAAAAAAErpAAAAAAADgs0AAAAAAACmwQAAAAAAAwqpAAAAAAADYs0AAAAAAAJ6uQAAAAAAAhbBAAAAAAAAQp0AAAAAAAGCiQAAAAAAAGKdAAAAAAAAooEAAAAAAAEidQAAAAAAA0JZAAAAAAAAMk0AAAAAAAOSRQAAAAAAAwI1AAAAAAADYikAAAAAAABCBQAAAAAAAQIBAAAAAAAAQfEAAAAAAAAB1QAAAAAAAMHFAAAAAAABAaUAAAAAAAOBgQAAAAAAAQF9AAAAAAAAAW0AAAAAAAABTQAAAAAAAgEZAAAAAAAAAO0AAAAAAAAA0QAAAAAAAADVAAAAAAAAAMEAAAAAAAAAcQAAAAAAAABRAAAAAAAAAAEAAAAAAAAAQQAAAAAAAABBAAAAAAAAA+H8AAAAAAAD4fwAAAAAAAPA/\",\"dtype\":\"float64\",\"shape\":[45]},\"PC_Toys_and_Games\":{\"__ndarray__\":\"AAAAAEB9AUEAAAAAwCrrQAAAAAAArNxAAAAAAADF0UAAAAAAAFHIQAAAAAAAjs9AAAAAAADvtUAAAAAAAB3AQAAAAAAA1rZAAAAAAABSsUAAAAAAAGOzQAAAAAAAjKtAAAAAAACUsEAAAAAAAGimQAAAAAAAHqNAAAAAAAB8n0AAAAAAADicQAAAAAAA1JdAAAAAAADwkkAAAAAAAEiNQAAAAAAAIIhAAAAAAACggUAAAAAAAIB7QAAAAAAAIHRAAAAAAACAb0AAAAAAAMBkQAAAAAAAwF1AAAAAAAAAV0AAAAAAAIBPQAAAAAAAAEtAAAAAAAAAPEAAAAAAAAA9QAAAAAAAACxAAAAAAAAAEEAAAAAAAAAiQAAAAAAAAAhAAAAAAAAAFEAAAAAAAAD4fwAAAAAAAPA/AAAAAAAA+H8AAAAAAAD4fwAAAAAAAPh/AAAAAAAA+H8AAAAAAAD4fwAAAAAAAPA/\",\"dtype\":\"float64\",\"shape\":[45]},\"PC_Video_Games\":{\"__ndarray__\":\"AAAAAACzxUAAAAAAAAi4QAAAAAAAsq5AAAAAAAC+pkAAAAAAAIShQAAAAAAABJ5AAAAAAAAcmEAAAAAAAP6iQAAAAAAA7J1AAAAAAAD4l0AAAAAAAAicQAAAAAAAEJZAAAAAAADQm0AAAAAAAKSUQAAAAAAAbJJAAAAAAADQkUAAAAAAAAiPQAAAAAAAcIlAAAAAAAD4h0AAAAAAAFCEQAAAAAAAYH1AAAAAAACAfUAAAAAAACB3QAAAAAAA0HFAAAAAAAAgcUAAAAAAAKBnQAAAAAAAYGRAAAAAAAAgYUAAAAAAAIBWQAAAAAAAAE9AAAAAAAAASkAAAAAAAABAQAAAAAAAADVAAAAAAAAAMEAAAAAAAAAmQAAAAAAAACRAAAAAAAAAEEAAAAAAAAAUQAAAAAAAAPA/AAAAAAAACEAAAAAAAAAIQAAAAAAAAPh/AAAAAAAA8D8AAAAAAAD4fwAAAAAAAPh/AAAAAAAA8D8=\",\"dtype\":\"float64\",\"shape\":[46]},\"Product_Count\":[4615058,1584955,815882,503660,345875,253642,350614,232397,166881,178634,125269,119763,104833,99331,66973,65225,51827,40228,34274,27051,21283,16785,13171,10332,7963,5885,4482,3397,2433,1787,1308,872,663,448,326,227,154,99,70,52,27,31,24,10,6,4],\"RC_Amazon_Instant_Video\":{\"__ndarray__\":\"AAAAAAAA4D8AAAAAAAD4PwAAAAAAAARAAAAAAAAADEAAAAAAAAASQAAAAAAAABZAAAAAAAAAGkAAAAAAAAAeQAAAAAAAACJAAAAAAAAAJkAAAAAAAAArQAAAAAAAgDBAAAAAAAAANEAAAAAAAAA4QAAAAAAAAD1AAAAAAADAQUAAAAAAAIBFQAAAAAAAAEpAAAAAAACAT0AAAAAAACBTQAAAAAAAQFdAAAAAAABAXEAAAAAAACBhQAAAAAAAwGRAAAAAAAAwaUAAAAAAAJBuQAAAAAAAgHJAAAAAAABodkAAAAAAADB7QAAAAAAAfIBAAAAAAAD8g0AAAAAAADyIQAAAAAAAZI1AAAAAAADSkUAAAAAAAJyVQAAAAAAANppAAAAAAADIn0AAAAAAAESjQAAAAAAAXadAAAAAAABUrEAAAAAAgCyxQAAAAACA07RAAAAAAABBuUAAAAAAAJ++QAAAAACAkMJAAAAAAMCCxkA=\",\"dtype\":\"float64\",\"shape\":[46]},\"RC_Apps_for_Android\":{\"__ndarray__\":\"AAAAAAAA4D8AAAAAAAD4PwAAAAAAAARAAAAAAAAADEAAAAAAAAASQAAAAAAAABZAAAAAAAAAHEAAAAAAAAAiQAAAAAAAACZAAAAAAAAAK0AAAAAAAIAwQAAAAAAAADRAAAAAAACAOEAAAAAAAIA+QAAAAAAAwEJAAAAAAAAAR0AAAAAAAIBMQAAAAAAAgFFAAAAAAACAVUAAAAAAAIBaQAAAAAAAUGBAAAAAAAAQZEAAAAAAAKBoQAAAAAAAQG5AAAAAAACgckAAAAAAAOh2QAAAAAAAKHxAAAAAAABQgUAAAAAAAEyFQAAAAAAANIpAAAAAAAAekEAAAAAAANKTQAAAAAAAYJhAAAAAAAD8nUAAAAAAAHGiQAAAAAAArqZAAAAAAADlq0AAAAAAgCexQAAAAAAAGbVAAAAAAADzuUAAAAAAgOq/QAAAAACAoMNAAAAAAMAjyEAAAAAAwLDNQAAAAABAQtJAAAAAACB11kA=\",\"dtype\":\"float64\",\"shape\":[46]},\"RC_Automotive\":{\"__ndarray__\":\"AAAAAAAA4D8AAAAAAAD4PwAAAAAAAARAAAAAAAAADEAAAAAAAAASQAAAAAAAABZAAAAAAAAAGkAAAAAAAAAeQAAAAAAAACJAAAAAAAAAJUAAAAAAAAAoQAAAAAAAAC1AAAAAAAAAMUAAAAAAAAA0QAAAAAAAgDdAAAAAAACAO0AAAAAAAEBAQAAAAAAAAENAAAAAAABARkAAAAAAAEBKQAAAAAAAAE9AAAAAAAAgUkAAAAAAAEBVQAAAAAAAAFlAAAAAAABgXUAAAAAAAFBhQAAAAAAAYGRAAAAAAADwZ0AAAAAAACBsQAAAAAAAgHBAAAAAAABgc0AAAAAAAMh2QAAAAAAAyHpAAAAAAAB4f0AAAAAAAICCQAAAAAAAwIVAAAAAAACQiUAAAAAAAAyOQAAAAAAAqJFAAAAAAADAlEAAAAAAAGKYQAAAAAAAqJxAAAAAAADYoEAAAAAAAMyjQA==\",\"dtype\":\"float64\",\"shape\":[44]},\"RC_Baby\":{\"__ndarray__\":\"AAAAAAAA4D8AAAAAAAD4PwAAAAAAAARAAAAAAAAADEAAAAAAAAASQAAAAAAAABZAAAAAAAAAGkAAAAAAAAAgQAAAAAAAACNAAAAAAAAAJkAAAAAAAAArQAAAAAAAADBAAAAAAACAMkAAAAAAAAA2QAAAAAAAADpAAAAAAAAAP0AAAAAAAIBCQAAAAAAAwEVAAAAAAADASUAAAAAAAIBOQAAAAAAAAFJAAAAAAABAVUAAAAAAACBZQAAAAAAAoF1AAAAAAACAYUAAAAAAALBkQAAAAAAAcGhAAAAAAADwbEAAAAAAABhxQAAAAAAAMHRAAAAAAADgd0AAAAAAADh8QAAAAAAAsIBAAAAAAAC8g0AAAAAAAFSHQAAAAAAAlItAAAAAAABMkEAAAAAAAESTQAAAAAAAyJZAAAAAAADwmkAAAAAAANifQAAAAAAA0qJAAAAAAABApkAAAAAAAE6qQA==\",\"dtype\":\"float64\",\"shape\":[44]},\"RC_Beauty\":{\"__ndarray__\":\"AAAAAAAA4D8AAAAAAAD4PwAAAAAAAARAAAAAAAAADEAAAAAAAAASQAAAAAAAABZAAAAAAAAAGkAAAAAAAAAgQAAAAAAAACRAAAAAAAAAKEAAAAAAAAAsQAAAAAAAgDBAAAAAAAAANEAAAAAAAIA4QAAAAAAAgD1AAAAAAACAQUAAAAAAAABFQAAAAAAAQElAAAAAAABATkAAAAAAACBSQAAAAAAAwFVAAAAAAAAgWkAAAAAAAGBfQAAAAAAA0GJAAAAAAACQZkAAAAAAABBrQAAAAAAAQHBAAAAAAACAc0AAAAAAAGB3QAAAAAAAEHxAAAAAAADYgEAAAAAAADSEQAAAAAAAPIhAAAAAAAAUjUAAAAAAAHKRQAAAAAAA8JRAAAAAAAAgmUAAAAAAACSeQAAAAAAAFaJAAAAAAACypUAAAAAAAAiqQAAAAAAAPK9AAAAAAAC9skAAAAAAgHu2QAAAAACA+bpA\",\"dtype\":\"float64\",\"shape\":[45]},\"RC_Books\":{\"__ndarray__\":\"AAAAAAAA4D8AAAAAAAD4PwAAAAAAAARAAAAAAAAADEAAAAAAAAASQAAAAAAAABZAAAAAAAAAHEAAAAAAAAAhQAAAAAAAACRAAAAAAAAAKUAAAAAAAAAvQAAAAAAAADNAAAAAAACAN0AAAAAAAAA9QAAAAAAAwEFAAAAAAADARUAAAAAAAMBKQAAAAAAAYFBAAAAAAAAAVEAAAAAAAIBYQAAAAAAAAF5AAAAAAABgYkAAAAAAAIBmQAAAAAAAkGtAAAAAAADocEAAAAAAALh0QAAAAAAAaHlAAAAAAAAof0AAAAAAABiDQAAAAAAAaIdAAAAAAACwjEAAAAAAAJSRQAAAAAAAjJVAAAAAAABqmkAAAAAAADCgQAAAAAAA16NAAAAAAABRqEAAAAAAAM2tQAAAAAAAQ7JAAAAAAABitkAAAAAAgG+7QAAAAABA0MBAAAAAAICbxEAAAAAAQELJQAAAAACA9c5AAAAAAAD50kA=\",\"dtype\":\"float64\",\"shape\":[46]},\"RC_CDs_and_Vinyl\":{\"__ndarray__\":\"AAAAAAAA4D8AAAAAAAD4PwAAAAAAAARAAAAAAAAADEAAAAAAAAASQAAAAAAAABZAAAAAAAAAGkAAAAAAAAAeQAAAAAAAACJAAAAAAAAAJkAAAAAAAAAqQAAAAAAAAC5AAAAAAACAMUAAAAAAAIA0QAAAAAAAADhAAAAAAACAPEAAAAAAAABBQAAAAAAAAERAAAAAAACAR0AAAAAAAMBLQAAAAAAAQFBAAAAAAAAgU0AAAAAAAKBWQAAAAAAAoFpAAAAAAABgX0AAAAAAAIBiQAAAAAAAwGVAAAAAAACQaUAAAAAAACBuQAAAAAAAwHFAAAAAAADodEAAAAAAAKB4QAAAAAAAAH1AAAAAAAAUgUAAAAAAAByEQAAAAAAAsIdAAAAAAADoi0AAAAAAAG6QQAAAAAAAWpNAAAAAAADMlkAAAAAAANiaQAAAAAAAnp9AAAAAAACfokAAAAAAAO6lQA==\",\"dtype\":\"float64\",\"shape\":[44]},\"RC_Cell_Phones_and_Accessories\":{\"__ndarray__\":\"AAAAAAAA4D8AAAAAAAD4PwAAAAAAAARAAAAAAAAADEAAAAAAAAASQAAAAAAAABZAAAAAAAAAGkAAAAAAAAAgQAAAAAAAACRAAAAAAAAAKUAAAAAAAAAvQAAAAAAAgDJAAAAAAACANkAAAAAAAIA7QAAAAAAAwEBAAAAAAACAREAAAAAAAABJQAAAAAAAwE5AAAAAAADgUkAAAAAAAABXQAAAAAAAIFxAAAAAAAAwYUAAAAAAAABlQAAAAAAAsGlAAAAAAABgb0AAAAAAAChzQAAAAAAAaHdAAAAAAACgfEAAAAAAAICBQAAAAAAAZIVAAAAAAAAkikAAAAAAAPSPQAAAAAAAiJNAAAAAAADgl0AAAAAAAC6dQAAAAAAA1aFAAAAAAADMpUAAAAAAAKSqQAAAAAAASLBAAAAAAIDms0AAAAAAAFO4QAAAAACAu71AAAAAAMArwkAAAAAAwDXGQAAAAACAJctAAAAAACCX0EA=\",\"dtype\":\"float64\",\"shape\":[46]},\"RC_Clothing_Shoes_and_Jewelry\":{\"__ndarray__\":\"AAAAAAAA4D8AAAAAAAD4PwAAAAAAAARAAAAAAAAADEAAAAAAAAASQAAAAAAAABZAAAAAAAAAGkAAAAAAAAAeQAAAAAAAACJAAAAAAAAAJkAAAAAAAAAqQAAAAAAAAC5AAAAAAACAMUAAAAAAAIA0QAAAAAAAADhAAAAAAACAPEAAAAAAAABBQAAAAAAAAERAAAAAAACAR0AAAAAAAMBLQAAAAAAAYFBAAAAAAABAU0AAAAAAAKBWQAAAAAAAoFpAAAAAAABgX0AAAAAAAIBiQAAAAAAAwGVAAAAAAACgaUAAAAAAADBuQAAAAAAAyHFAAAAAAAD4dEAAAAAAALB4QAAAAAAAEH1AAAAAAAAggUAAAAAAACyEQAAAAAAAwIdAAAAAAAD8i0AAAAAAAHyQQAAAAAAAapNAAAAAAADelkAAAAAAAPCaQAAAAAAAup9AAAAAAACvokAAAAAAAAKmQA==\",\"dtype\":\"float64\",\"shape\":[44]},\"RC_Digital_Music\":{\"__ndarray__\":\"AAAAAAAA4D8AAAAAAAD4PwAAAAAAAARAAAAAAAAADEAAAAAAAAASQAAAAAAAABZAAAAAAAAAGkAAAAAAAAAgQAAAAAAAACNAAAAAAAAAJkAAAAAAAAAqQAAAAAAAAC5AAAAAAACAMUAAAAAAAIA0QAAAAAAAADhAAAAAAAAAPEAAAAAAAEBAQAAAAAAAAENAAAAAAABARkAAAAAAAABKQAAAAAAAQE5AAAAAAACgUUAAAAAAAKBUQAAAAAAAAFhAAAAAAAAAXEAAAAAAAGBgQAAAAAAAIGNAAAAAAABQZkAAAAAAAABqQAAAAAAAYG5AAAAAAAC4cUAAAAAAAKh0QAAAAAAAIHhAAAAAAAAwfEAAAAAAAHSAQAAAAAAANINAAAAAAABohkAAAAAAACSKQAAAAAAAhI5AAAAAAADQkUAAAAAAAMqUQAAAAAAARJhAAAAAAABUnEA=\",\"dtype\":\"float64\",\"shape\":[43]},\"RC_Electronics\":{\"__ndarray__\":\"AAAAAAAA4D8AAAAAAAD4PwAAAAAAAARAAAAAAAAADEAAAAAAAAASQAAAAAAAABZAAAAAAAAAGkAAAAAAAAAgQAAAAAAAACRAAAAAAAAAKUAAAAAAAAAuQAAAAAAAADJAAAAAAACANkAAAAAAAIA7QAAAAAAAwEBAAAAAAACAREAAAAAAAABJQAAAAAAAgE5AAAAAAACgUkAAAAAAAMBWQAAAAAAAwFtAAAAAAADwYEAAAAAAALBkQAAAAAAAUGlAAAAAAADwbkAAAAAAAOhyQAAAAAAAGHdAAAAAAAAwfEAAAAAAADiBQAAAAAAADIVAAAAAAAC4iUAAAAAAAGyPQAAAAAAAMpNAAAAAAAByl0AAAAAAAKScQAAAAAAAf6FAAAAAAABgpUAAAAAAAB2qQAAAAAAA569AAAAAAAB9s0AAAAAAgM+3QAAAAAAAF71AAAAAAMDEwUAAAAAAQLXFQAAAAABAhcpAAAAAACAz0EA=\",\"dtype\":\"float64\",\"shape\":[46]},\"RC_Full\":{\"__ndarray__\":\"AAAAAAAA4D8AAAAAAAD4PwAAAAAAAARAAAAAAAAADEAAAAAAAAASQAAAAAAAABZAAAAAAAAAHEAAAAAAAAAiQAAAAAAAACZAAAAAAAAAK0AAAAAAAIAwQAAAAAAAADRAAAAAAACAOEAAAAAAAIA+QAAAAAAAwEJAAAAAAAAAR0AAAAAAAIBMQAAAAAAAgFFAAAAAAACAVUAAAAAAAIBaQAAAAAAAUGBAAAAAAAAQZEAAAAAAAKBoQAAAAAAAQG5AAAAAAACgckAAAAAAAOh2QAAAAAAAKHxAAAAAAABQgUAAAAAAAEyFQAAAAAAANIpAAAAAAAAekEAAAAAAANKTQAAAAAAAYJhAAAAAAAD8nUAAAAAAAHGiQAAAAAAArqZAAAAAAADlq0AAAAAAgCexQAAAAAAAGbVAAAAAAADzuUAAAAAAgOq/QAAAAACAoMNAAAAAAMAjyEAAAAAAwLDNQAAAAABAQtJAAAAAACB11kA=\",\"dtype\":\"float64\",\"shape\":[46]},\"RC_Grocery_and_Gourmet_Food\":{\"__ndarray__\":\"AAAAAAAA4D8AAAAAAAD4PwAAAAAAAARAAAAAAAAADEAAAAAAAAASQAAAAAAAABZAAAAAAAAAGkAAAAAAAAAgQAAAAAAAACNAAAAAAAAAJkAAAAAAAAArQAAAAAAAADBAAAAAAAAAM0AAAAAAAAA3QAAAAAAAgDtAAAAAAACAQEAAAAAAAMBDQAAAAAAAgEdAAAAAAAAATEAAAAAAAMBQQAAAAAAAAFRAAAAAAADgV0AAAAAAAIBcQAAAAAAAEGFAAAAAAABwZEAAAAAAAHBoQAAAAAAAMG1AAAAAAABwcUAAAAAAAOB0QAAAAAAA+HhAAAAAAADYfUAAAAAAANSBQAAAAAAAUIVAAAAAAAB8iUAAAAAAAHiOQAAAAAAAOJJAAAAAAADIlUAAAAAAAAqaQAAAAAAAIp9AAAAAAACdokAAAAAAAEKmQAAAAAAAnKpAAAAAAADQr0AAAAAAAAWzQAAAAACAvbZA\",\"dtype\":\"float64\",\"shape\":[45]},\"RC_Health_and_Personal_Care\":{\"__ndarray__\":\"AAAAAAAA4D8AAAAAAAD4PwAAAAAAAARAAAAAAAAADEAAAAAAAAASQAAAAAAAABZAAAAAAAAAGkAAAAAAAAAeQAAAAAAAACJAAAAAAAAAJkAAAAAAAAAqQAAAAAAAAC9AAAAAAAAAM0AAAAAAAIA3QAAAAAAAgDxAAAAAAAAAQUAAAAAAAIBEQAAAAAAAAElAAAAAAABATkAAAAAAAEBSQAAAAAAAIFZAAAAAAADAWkAAAAAAADBgQAAAAAAAoGNAAAAAAADAZ0AAAAAAALBsQAAAAAAAWHFAAAAAAAAAdUAAAAAAAGh5QAAAAAAAwH5AAAAAAACcgkAAAAAAAISGQAAAAAAAPItAAAAAAAB4kEAAAAAAAO6TQAAAAAAAHphAAAAAAAAunUAAAAAAAKehQAAAAAAAXKVAAAAAAADYqUAAAAAAAEWvQAAAAAAA67JAAAAAAIDjtkAAAAAAgLG7QAAAAAAAwcBAAAAAAIBFxEA=\",\"dtype\":\"float64\",\"shape\":[46]},\"RC_Home_and_Kitchen\":{\"__ndarray__\":\"AAAAAAAA4D8AAAAAAAD4PwAAAAAAAARAAAAAAAAADEAAAAAAAAASQAAAAAAAABZAAAAAAAAAGkAAAAAAAAAgQAAAAAAAACNAAAAAAAAAJkAAAAAAAAArQAAAAAAAgDBAAAAAAACAM0AAAAAAAAA3QAAAAAAAgDtAAAAAAACAQEAAAAAAAABEQAAAAAAAAEhAAAAAAACATEAAAAAAACBRQAAAAAAAgFRAAAAAAACAWEAAAAAAAGBdQAAAAAAAkGFAAAAAAAAQZUAAAAAAAEBpQAAAAAAAMG5AAAAAAAAQckAAAAAAAKB1QAAAAAAA4HlAAAAAAAD4fkAAAAAAAIiCQAAAAAAAMIZAAAAAAACQikAAAAAAAMiPQAAAAAAABpNAAAAAAADGlkAAAAAAAEKbQAAAAAAAUKBAAAAAAACGo0AAAAAAAF6nQAAAAAAA+KtAAAAAAIC9sEAAAAAAgAm0QAAAAACA+7dA\",\"dtype\":\"float64\",\"shape\":[45]},\"RC_Kindle_Store\":{\"__ndarray__\":\"AAAAAAAA4D8AAAAAAAD4PwAAAAAAAARAAAAAAAAADEAAAAAAAAASQAAAAAAAABZAAAAAAAAAGkAAAAAAAAAeQAAAAAAAACJAAAAAAAAAJkAAAAAAAAArQAAAAAAAgDBAAAAAAAAANEAAAAAAAAA4QAAAAAAAAD1AAAAAAACAQUAAAAAAAEBFQAAAAAAAwElAAAAAAAAAT0AAAAAAAOBSQAAAAAAA4FZAAAAAAADAW0AAAAAAANBgQAAAAAAAYGRAAAAAAADAaEAAAAAAAPBtQAAAAAAAIHJAAAAAAAD4dUAAAAAAAKB6QAAAAAAAJIBAAAAAAACQg0AAAAAAALSHQAAAAAAAuIxAAAAAAABmkUAAAAAAABSVQAAAAAAAiplAAAAAAADynkAAAAAAAMCiQAAAAAAAuaZAAAAAAACJq0AAAAAAAK+wQAAAAACAN7RAAAAAAAB/uEAAAAAAgK69QAAAAAAA/MFAAAAAAADLxUA=\",\"dtype\":\"float64\",\"shape\":[46]},\"RC_Movies_and_TV\":{\"__ndarray__\":\"AAAAAAAA4D8AAAAAAAD4PwAAAAAAAARAAAAAAAAADEAAAAAAAAASQAAAAAAAABZAAAAAAAAAGkAAAAAAAAAeQAAAAAAAACJAAAAAAAAAJkAAAAAAAAArQAAAAAAAgDBAAAAAAACAM0AAAAAAAIA3QAAAAAAAgDxAAAAAAABAQUAAAAAAAABFQAAAAAAAgElAAAAAAAAAT0AAAAAAAMBSQAAAAAAAoFZAAAAAAABgW0AAAAAAAJBgQAAAAAAAEGRAAAAAAABQaEAAAAAAAHBtQAAAAAAA2HFAAAAAAACgdUAAAAAAADB6QAAAAAAAuH9AAAAAAAA0g0AAAAAAAECHQAAAAAAAKIxAAAAAAAAOkUAAAAAAAKiUQAAAAAAABJlAAAAAAABMnkAAAAAAAFiiQAAAAAAAN6ZAAAAAAADoqkAAAAAAgEuwQAAAAAAAvLNAAAAAAADmt0AAAAAAgPG8QAAAAAAAh8FAAAAAAEA6xUA=\",\"dtype\":\"float64\",\"shape\":[46]},\"RC_Musical_Instruments\":{\"__ndarray__\":\"AAAAAAAA4D8AAAAAAAD4PwAAAAAAAARAAAAAAAAADEAAAAAAAAASQAAAAAAAABZAAAAAAAAAGkAAAAAAAAAgQAAAAAAAACNAAAAAAAAAJkAAAAAAAAAqQAAAAAAAAC9AAAAAAACAMkAAAAAAAAA2QAAAAAAAADpAAAAAAACAPkAAAAAAAABCQAAAAAAAQEVAAAAAAABASUAAAAAAAABOQAAAAAAAoFFAAAAAAADAVEAAAAAAAIBYQAAAAAAAAF1AAAAAAAAgYUAAAAAAADBkQAAAAAAA4GdAAAAAAABAbEAAAAAAALBwQAAAAAAAuHNAAAAAAABQd0AAAAAAAIh7QAAAAAAAQIBAAAAAAAAwg0AAAAAAAKyGQAAAAAAAzIpAAAAAAACoj0AAAAAAALKSQAAAAAAAFpZAAAAAAAAYmkAAAAAAANSeQAAAAAAANaJAAAAAAACCpUAAAAAAAGmpQA==\",\"dtype\":\"float64\",\"shape\":[44]},\"RC_Office_Products\":{\"__ndarray__\":\"AAAAAAAA4D8AAAAAAAD4PwAAAAAAAARAAAAAAAAADEAAAAAAAAASQAAAAAAAABZAAAAAAAAAGkAAAAAAAAAeQAAAAAAAACFAAAAAAAAAJEAAAAAAAAAoQAAAAAAAACxAAAAAAACAMEAAAAAAAAA0QAAAAAAAADhAAAAAAACAPEAAAAAAAMBAQAAAAAAAwENAAAAAAACAR0AAAAAAAABMQAAAAAAAoFBAAAAAAADAU0AAAAAAAIBXQAAAAAAA4FtAAAAAAACAYEAAAAAAAJBjQAAAAAAAQGdAAAAAAACQa0AAAAAAAFhwQAAAAAAAaHNAAAAAAAAId0AAAAAAAFh7QAAAAAAAPIBAAAAAAABEg0AAAAAAANyGQAAAAAAAIItAAAAAAAAYkEAAAAAAABqTQAAAAAAAqpZAAAAAAADmmkAAAAAAAOyfQAAAAAAA8KJAAAAAAAB6pkAAAAAAAK2qQAAAAAAAqK9A\",\"dtype\":\"float64\",\"shape\":[45]},\"RC_Patio_Lawn_and_Garden\":{\"__ndarray__\":\"AAAAAAAA4D8AAAAAAAD4PwAAAAAAAARAAAAAAAAADEAAAAAAAAASQAAAAAAAABZAAAAAAAAAGkAAAAAAAAAeQAAAAAAAACJAAAAAAAAAJkAAAAAAAAAqQAAAAAAAAC5AAAAAAACAMUAAAAAAAAA1QAAAAAAAADlAAAAAAACAPUAAAAAAAEBBQAAAAAAAQERAAAAAAAAASEAAAAAAAEBMQAAAAAAAoFBAAAAAAACgU0AAAAAAACBXQAAAAAAAQFtAAAAAAAAQYEAAAAAAAPBiQAAAAAAAYGZAAAAAAABgakAAAAAAABBvQAAAAAAAUHJAAAAAAACYdUAAAAAAAHh5QAAAAAAACH5AAAAAAAC0gUAAAAAAAOCEQAAAAAAAnIhAAAAAAAAEjUAAAAAAAByRQAAAAAAAKpRAAAAAAADEl0AAAAAAAAacQAAAAAAAhaBAAAAAAAB5o0AAAAAAAPWmQA==\",\"dtype\":\"float64\",\"shape\":[44]},\"RC_Pet_Supplies\":{\"__ndarray__\":\"AAAAAAAA4D8AAAAAAAD4PwAAAAAAAARAAAAAAAAADEAAAAAAAAASQAAAAAAAABZAAAAAAAAAHEAAAAAAAAAhQAAAAAAAACRAAAAAAAAAKEAAAAAAAAAsQAAAAAAAgDBAAAAAAACAM0AAAAAAAAA3QAAAAAAAgDtAAAAAAABAQEAAAAAAAEBDQAAAAAAAAEdAAAAAAABAS0AAAAAAACBQQAAAAAAAIFNAAAAAAACgVkAAAAAAAMBaQAAAAAAAwF9AAAAAAADQYkAAAAAAAEBmQAAAAAAAYGpAAAAAAABAb0AAAAAAAIhyQAAAAAAA+HVAAAAAAAAIekAAAAAAANh+QAAAAAAASIJAAAAAAACshUAAAAAAAKyJQAAAAAAAbI5AAAAAAAAIkkAAAAAAAF6VQAAAAAAAUplAAAAAAAACnkAAAAAAAMihQAAAAAAAE6VAAAAAAAD5qEAAAAAAAJitQA==\",\"dtype\":\"float64\",\"shape\":[44]},\"RC_Sports_and_Outdoors\":{\"__ndarray__\":\"AAAAAAAA4D8AAAAAAAD4PwAAAAAAAARAAAAAAAAADEAAAAAAAAASQAAAAAAAABZAAAAAAAAAGkAAAAAAAAAeQAAAAAAAACJAAAAAAAAAJkAAAAAAAAAqQAAAAAAAAC9AAAAAAACAMkAAAAAAAAA2QAAAAAAAgDpAAAAAAAAAQEAAAAAAAEBDQAAAAAAAAEdAAAAAAABAS0AAAAAAAEBQQAAAAAAAgFNAAAAAAABAV0AAAAAAAMBbQAAAAAAAkGBAAAAAAADAY0AAAAAAAKBnQAAAAAAAQGxAAAAAAADgcEAAAAAAACh0QAAAAAAAEHhAAAAAAADAfEAAAAAAACyBQAAAAAAAgIRAAAAAAAB8iEAAAAAAAECNQAAAAAAAeJFAAAAAAADclEAAAAAAAOiYQAAAAAAAwJ1AAAAAAADFoUAAAAAAADmlQAAAAAAAWKlAAAAAAABErkAAAAAAABOyQAAAAACAlrVA\",\"dtype\":\"float64\",\"shape\":[45]},\"RC_Tools_and_Home_Improvement\":{\"__ndarray__\":\"AAAAAAAA4D8AAAAAAAD4PwAAAAAAAARAAAAAAAAADEAAAAAAAAASQAAAAAAAABZAAAAAAAAAGkAAAAAAAAAeQAAAAAAAACFAAAAAAAAAJEAAAAAAAAAoQAAAAAAAAC1AAAAAAACAMUAAAAAAAIA0QAAAAAAAgDhAAAAAAACAPUAAAAAAAIBBQAAAAAAAwERAAAAAAACASEAAAAAAAABNQAAAAAAAQFFAAAAAAACgVEAAAAAAAIBYQAAAAAAAAF1AAAAAAABAYUAAAAAAAJBkQAAAAAAAcGhAAAAAAAAQbUAAAAAAAEhxQAAAAAAAiHRAAAAAAABoeEAAAAAAAAB9QAAAAAAAPIFAAAAAAAB8hEAAAAAAAFyIQAAAAAAA+IxAAAAAAAA4kUAAAAAAAHaUQAAAAAAAUphAAAAAAADqnEAAAAAAAC+hQAAAAAAAbaRAAAAAAABIqEAAAAAAAN2sQAAAAACAJ7FA\",\"dtype\":\"float64\",\"shape\":[45]},\"RC_Toys_and_Games\":{\"__ndarray__\":\"AAAAAAAA4D8AAAAAAAD4PwAAAAAAAARAAAAAAAAADEAAAAAAAAASQAAAAAAAABhAAAAAAAAAHkAAAAAAAAAiQAAAAAAAACZAAAAAAAAAKkAAAAAAAAAvQAAAAAAAgDJAAAAAAACANkAAAAAAAIA7QAAAAAAAgEBAAAAAAADAQ0AAAAAAAMBHQAAAAAAAwExAAAAAAABgUUAAAAAAAABVQAAAAAAAYFlAAAAAAADAXkAAAAAAAJBiQAAAAAAAYGZAAAAAAAAQa0AAAAAAAFhwQAAAAAAAuHNAAAAAAADQd0AAAAAAAMB8QAAAAAAAXIFAAAAAAAD4hEAAAAAAAFCJQAAAAAAAkI5AAAAAAAB0kkAAAAAAAEiWQAAAAAAA6JpAAAAAAAA/oEAAAAAAAJ6jQAAAAAAAsKdAAAAAAACarEAAAAAAgESxQAAAAAAA2rRAAAAAAIAtuUAAAAAAgGa+QAAAAADAWsJA\",\"dtype\":\"float64\",\"shape\":[45]},\"RC_Video_Games\":{\"__ndarray__\":\"AAAAAAAA4D8AAAAAAAD4PwAAAAAAAARAAAAAAAAADEAAAAAAAAASQAAAAAAAABZAAAAAAAAAGkAAAAAAAAAgQAAAAAAAACRAAAAAAAAAKEAAAAAAAAAtQAAAAAAAgDFAAAAAAACANUAAAAAAAIA6QAAAAAAAAEBAAAAAAACAQ0AAAAAAAMBHQAAAAAAAAE1AAAAAAADAUUAAAAAAAKBVQAAAAAAAQFpAAAAAAAAAYEAAAAAAAIBjQAAAAAAAwGdAAAAAAAAAbUAAAAAAAKhxQAAAAAAAgHVAAAAAAAA4ekAAAAAAAPh/QAAAAAAAeINAAAAAAAC4h0AAAAAAAOyMQAAAAAAAoJFAAAAAAAB6lUAAAAAAAC6aQAAAAAAA6J9AAAAAAABxo0AAAAAAALKnQAAAAAAA4axAAAAAAACZsUAAAAAAgHK1QAAAAAAAJLpAAAAAAADcv0AAAAAAAGrDQAAAAABAqcdAAAAAAIDWzEA=\",\"dtype\":\"float64\",\"shape\":[46]},\"Review_Count\":{\"__ndarray__\":\"AAAAAAAA4D8AAAAAAAD4PwAAAAAAAARAAAAAAAAADEAAAAAAAAASQAAAAAAAABZAAAAAAAAAHEAAAAAAAAAiQAAAAAAAACZAAAAAAAAAK0AAAAAAAIAwQAAAAAAAADRAAAAAAACAOEAAAAAAAIA+QAAAAAAAwEJAAAAAAAAAR0AAAAAAAIBMQAAAAAAAgFFAAAAAAACAVUAAAAAAAIBaQAAAAAAAUGBAAAAAAAAQZEAAAAAAAKBoQAAAAAAAQG5AAAAAAACgckAAAAAAAOh2QAAAAAAAKHxAAAAAAABQgUAAAAAAAEyFQAAAAAAANIpAAAAAAAAekEAAAAAAANKTQAAAAAAAYJhAAAAAAAD8nUAAAAAAAHGiQAAAAAAArqZAAAAAAADlq0AAAAAAgCexQAAAAAAAGbVAAAAAAADzuUAAAAAAgOq/QAAAAACAoMNAAAAAAMAjyEAAAAAAwLDNQAAAAABAQtJAAAAAACB11kA=\",\"dtype\":\"float64\",\"shape\":[46]},\"Width\":{\"__ndarray__\":\"AAAAAAAA8D8AAAAAAADwPwAAAAAAAPA/AAAAAAAA8D8AAAAAAADwPwAAAAAAAPg/AAAAAAAAAEAAAAAAAAAAQAAAAAAAAARAAAAAAAAACEAAAAAAAAAMQAAAAAAAABJAAAAAAAAAGEAAAAAAAAAcQAAAAAAAACFAAAAAAAAAJkAAAAAAAAAqQAAAAAAAADBAAAAAAAAANEAAAAAAAIA4QAAAAAAAAD5AAAAAAABAQkAAAAAAAIBGQAAAAAAAAExAAAAAAAAgUUAAAAAAAABVQAAAAAAA4FlAAAAAAADgX0AAAAAAAKBjQAAAAAAAIGhAAAAAAACgbUAAAAAAADhyQAAAAAAAcHZAAAAAAACYe0AAAAAAAPSAQAAAAAAA3IRAAAAAAACoiUAAAAAAAIyPQAAAAAAAaJNAAAAAAADel0AAAAAAAFqdQAAAAAAADaJAAAAAAAA0pkAAAAAAAE+rQAAAAACAy7BA\",\"dtype\":\"float64\",\"shape\":[45]},\"Width_Amazon_Instant_Video\":{\"__ndarray__\":\"AAAAAAAA8D8AAAAAAADwPwAAAAAAAPA/AAAAAAAA8D8AAAAAAADwPwAAAAAAAPA/AAAAAAAA8D8AAAAAAAD4PwAAAAAAAABAAAAAAAAABEAAAAAAAAAIQAAAAAAAAAxAAAAAAAAAEEAAAAAAAAAUQAAAAAAAABpAAAAAAAAAHkAAAAAAAAAiQAAAAAAAACZAAAAAAAAAK0AAAAAAAIAwQAAAAAAAADRAAAAAAAAAOEAAAAAAAAA9QAAAAAAAwEFAAAAAAACARUAAAAAAAMBJQAAAAAAAQE9AAAAAAAAgU0AAAAAAACBXQAAAAAAAAFxAAAAAAAAAYUAAAAAAAKBkQAAAAAAAAGlAAAAAAABQbkAAAAAAAGhyQAAAAAAASHZAAAAAAAAAe0AAAAAAAGSAQAAAAAAA3INAAAAAAAAUiEAAAAAAADiNQAAAAAAAtpFAAAAAAAB4lUAAAAAAAAiaQAAAAAAAkp9A\",\"dtype\":\"float64\",\"shape\":[45]},\"Width_Apps_for_Android\":{\"__ndarray__\":\"AAAAAAAA8D8AAAAAAADwPwAAAAAAAPA/AAAAAAAA8D8AAAAAAADwPwAAAAAAAPg/AAAAAAAAAEAAAAAAAAAAQAAAAAAAAARAAAAAAAAACEAAAAAAAAAMQAAAAAAAABJAAAAAAAAAGEAAAAAAAAAcQAAAAAAAACFAAAAAAAAAJkAAAAAAAAAqQAAAAAAAADBAAAAAAAAANEAAAAAAAIA4QAAAAAAAAD5AAAAAAABAQkAAAAAAAIBGQAAAAAAAAExAAAAAAAAgUUAAAAAAAABVQAAAAAAA4FlAAAAAAADgX0AAAAAAAKBjQAAAAAAAIGhAAAAAAACgbUAAAAAAADhyQAAAAAAAcHZAAAAAAACYe0AAAAAAAPSAQAAAAAAA3IRAAAAAAACoiUAAAAAAAIyPQAAAAAAAaJNAAAAAAADel0AAAAAAAFqdQAAAAAAADaJAAAAAAAA0pkAAAAAAAE+rQAAAAACAy7BA\",\"dtype\":\"float64\",\"shape\":[45]},\"Width_Automotive\":{\"__ndarray__\":\"AAAAAAAA8D8AAAAAAADwPwAAAAAAAPA/AAAAAAAA8D8AAAAAAADwPwAAAAAAAPA/AAAAAAAA8D8AAAAAAAD4PwAAAAAAAPg/AAAAAAAA+D8AAAAAAAAEQAAAAAAAAARAAAAAAAAACEAAAAAAAAAMQAAAAAAAABBAAAAAAAAAFEAAAAAAAAAWQAAAAAAAABpAAAAAAAAAIEAAAAAAAAAjQAAAAAAAACVAAAAAAAAAKUAAAAAAAAAuQAAAAAAAgDFAAAAAAAAANUAAAAAAAIA4QAAAAAAAgDxAAAAAAADAQEAAAAAAAIBDQAAAAAAAAEdAAAAAAABAS0AAAAAAAABQQAAAAAAAwFJAAAAAAAAgVkAAAAAAAABaQAAAAAAAgF5AAAAAAADwYUAAAAAAABBlQAAAAAAAwGhAAAAAAAAQbUAAAAAAABhxQAAAAAAAIHRAAAAAAACgd0A=\",\"dtype\":\"float64\",\"shape\":[43]},\"Width_Baby\":{\"__ndarray__\":\"AAAAAAAA8D8AAAAAAADwPwAAAAAAAPA/AAAAAAAA8D8AAAAAAADwPwAAAAAAAPA/AAAAAAAA+D8AAAAAAAD4PwAAAAAAAPg/AAAAAAAABEAAAAAAAAAEQAAAAAAAAARAAAAAAAAADEAAAAAAAAAQQAAAAAAAABRAAAAAAAAAGEAAAAAAAAAaQAAAAAAAACBAAAAAAAAAI0AAAAAAAAAmQAAAAAAAACpAAAAAAAAAL0AAAAAAAAAyQAAAAAAAgDVAAAAAAACAOUAAAAAAAAA+QAAAAAAAAEJAAAAAAAAARUAAAAAAAMBIQAAAAAAAgE1AAAAAAABgUUAAAAAAAKBUQAAAAAAAYFhAAAAAAADAXEAAAAAAAABhQAAAAAAAEGRAAAAAAADAZ0AAAAAAACBsQAAAAAAAoHBAAAAAAACgc0AAAAAAADB3QAAAAAAAcHtAAAAAAAA4gEA=\",\"dtype\":\"float64\",\"shape\":[43]},\"Width_Beauty\":{\"__ndarray__\":\"AAAAAAAA8D8AAAAAAADwPwAAAAAAAPA/AAAAAAAA8D8AAAAAAADwPwAAAAAAAPA/AAAAAAAA+D8AAAAAAAAAQAAAAAAAAABAAAAAAAAAAEAAAAAAAAAEQAAAAAAAAAxAAAAAAAAAEkAAAAAAAAAUQAAAAAAAABZAAAAAAAAAHEAAAAAAAAAhQAAAAAAAACRAAAAAAAAAKEAAAAAAAAAtQAAAAAAAgDFAAAAAAAAANUAAAAAAAAA5QAAAAAAAAD5AAAAAAAAAQkAAAAAAAMBFQAAAAAAAAEpAAAAAAAAAT0AAAAAAAMBSQAAAAAAAgFZAAAAAAADgWkAAAAAAACBgQAAAAAAAYGNAAAAAAABAZ0AAAAAAAPBrQAAAAAAAwHBAAAAAAAAQdEAAAAAAABh4QAAAAAAA6HxAAAAAAABYgUAAAAAAANCEQAAAAAAA+IhAAAAAAAD0jUAAAAAAAPiRQA==\",\"dtype\":\"float64\",\"shape\":[44]},\"Width_Books\":{\"__ndarray__\":\"AAAAAAAA8D8AAAAAAADwPwAAAAAAAPA/AAAAAAAA8D8AAAAAAADwPwAAAAAAAPg/AAAAAAAA+D8AAAAAAAD4PwAAAAAAAARAAAAAAAAACEAAAAAAAAAMQAAAAAAAABJAAAAAAAAAFkAAAAAAAAAaQAAAAAAAACBAAAAAAAAAJEAAAAAAAAAoQAAAAAAAAC1AAAAAAAAAMkAAAAAAAAA2QAAAAAAAADtAAAAAAACAQEAAAAAAAEBEQAAAAAAAAElAAAAAAACATkAAAAAAAMBSQAAAAAAAAFdAAAAAAAAgXEAAAAAAAEBhQAAAAAAAIGVAAAAAAADgaUAAAAAAAMBvQAAAAAAAeHNAAAAAAADYd0AAAAAAADh9QAAAAAAA6IFAAAAAAADwhUAAAAAAAOSKQAAAAAAAfJBAAAAAAAA2lEAAAAAAAMSYQAAAAAAAWp5AAAAAAACbokAAAAAAAM2mQAAAAAAA8qtA\",\"dtype\":\"float64\",\"shape\":[45]},\"Width_CDs_and_Vinyl\":{\"__ndarray__\":\"AAAAAAAA8D8AAAAAAADwPwAAAAAAAPA/AAAAAAAA8D8AAAAAAADwPwAAAAAAAPA/AAAAAAAA8D8AAAAAAAD4PwAAAAAAAABAAAAAAAAAAEAAAAAAAAAAQAAAAAAAAARAAAAAAAAACEAAAAAAAAAMQAAAAAAAABJAAAAAAAAAFkAAAAAAAAAYQAAAAAAAABxAAAAAAAAAIUAAAAAAAAAjQAAAAAAAACdAAAAAAAAALEAAAAAAAAAwQAAAAAAAADNAAAAAAACANkAAAAAAAAA6QAAAAAAAgD5AAAAAAABAQkAAAAAAAIBFQAAAAAAAQElAAAAAAADATUAAAAAAAIBRQAAAAAAAoFRAAAAAAABAWEAAAAAAAKBcQAAAAAAA4GBAAAAAAADQY0AAAAAAAGBnQAAAAAAAkGtAAAAAAAAwcEAAAAAAABhzQAAAAAAAgHZAAAAAAAB4ekA=\",\"dtype\":\"float64\",\"shape\":[43]},\"Width_Cell_Phones_and_Accessories\":{\"__ndarray__\":\"AAAAAAAA8D8AAAAAAADwPwAAAAAAAPA/AAAAAAAA8D8AAAAAAADwPwAAAAAAAPA/AAAAAAAA+D8AAAAAAAAAQAAAAAAAAARAAAAAAAAACEAAAAAAAAAIQAAAAAAAABBAAAAAAAAAFEAAAAAAAAAYQAAAAAAAAB5AAAAAAAAAIkAAAAAAAAAnQAAAAAAAACxAAAAAAACAMEAAAAAAAIA0QAAAAAAAADlAAAAAAACAPkAAAAAAAMBCQAAAAAAAwEZAAAAAAADAS0AAAAAAAABRQAAAAAAA4FRAAAAAAACAWUAAAAAAACBfQAAAAAAAAGNAAAAAAABAZ0AAAAAAAHBsQAAAAAAAYHFAAAAAAAA4dUAAAAAAAPB5QAAAAAAAuH9AAAAAAABgg0AAAAAAALCHQAAAAAAA9IxAAAAAAACykUAAAAAAAKKVQAAAAAAAcJpAAAAAAAAooEAAAAAAAL+jQAAAAAAAI6hA\",\"dtype\":\"float64\",\"shape\":[45]},\"Width_Clothing_Shoes_and_Jewelry\":{\"__ndarray__\":\"AAAAAAAA8D8AAAAAAADwPwAAAAAAAPA/AAAAAAAA8D8AAAAAAADwPwAAAAAAAPA/AAAAAAAA8D8AAAAAAAD4PwAAAAAAAABAAAAAAAAAAEAAAAAAAAAAQAAAAAAAAARAAAAAAAAACEAAAAAAAAAMQAAAAAAAABJAAAAAAAAAFkAAAAAAAAAYQAAAAAAAABxAAAAAAAAAIUAAAAAAAAAkQAAAAAAAACdAAAAAAAAAK0AAAAAAAAAwQAAAAAAAADNAAAAAAACANkAAAAAAAAA6QAAAAAAAAD9AAAAAAABAQkAAAAAAAIBFQAAAAAAAgElAAAAAAADATUAAAAAAAIBRQAAAAAAAwFRAAAAAAABgWEAAAAAAAKBcQAAAAAAA8GBAAAAAAADwY0AAAAAAAHBnQAAAAAAAoGtAAAAAAABIcEAAAAAAAChzQAAAAAAAkHZAAAAAAACYekA=\",\"dtype\":\"float64\",\"shape\":[43]},\"Width_Digital_Music\":{\"__ndarray__\":\"AAAAAAAA8D8AAAAAAADwPwAAAAAAAPA/AAAAAAAA8D8AAAAAAADwPwAAAAAAAPA/AAAAAAAA+D8AAAAAAAD4PwAAAAAAAPg/AAAAAAAAAEAAAAAAAAAAQAAAAAAAAARAAAAAAAAACEAAAAAAAAAMQAAAAAAAABBAAAAAAAAAEkAAAAAAAAAWQAAAAAAAABpAAAAAAAAAHkAAAAAAAAAhQAAAAAAAACRAAAAAAAAAKEAAAAAAAAArQAAAAAAAADBAAAAAAAAAM0AAAAAAAAA2QAAAAAAAgDlAAAAAAACAPUAAAAAAAIBBQAAAAAAAQERAAAAAAACAR0AAAAAAAMBLQAAAAAAAQFBAAAAAAADgUkAAAAAAAABWQAAAAAAAoFlAAAAAAADgXUAAAAAAAIBhQAAAAAAAcGRAAAAAAADQZ0AAAAAAANBrQAAAAAAAQHBA\",\"dtype\":\"float64\",\"shape\":[42]},\"Width_Electronics\":{\"__ndarray__\":\"AAAAAAAA8D8AAAAAAADwPwAAAAAAAPA/AAAAAAAA8D8AAAAAAADwPwAAAAAAAPA/AAAAAAAA+D8AAAAAAAAAQAAAAAAAAARAAAAAAAAABEAAAAAAAAAIQAAAAAAAABJAAAAAAAAAFEAAAAAAAAAYQAAAAAAAAB5AAAAAAAAAIkAAAAAAAAAmQAAAAAAAACtAAAAAAACAMEAAAAAAAAA0QAAAAAAAgDhAAAAAAAAAPkAAAAAAAIBCQAAAAAAAgEZAAAAAAACAS0AAAAAAAMBQQAAAAAAAYFRAAAAAAAAAWUAAAAAAAKBeQAAAAAAAsGJAAAAAAADQZkAAAAAAAOBrQAAAAAAAAHFAAAAAAADIdEAAAAAAAGh5QAAAAAAACH9AAAAAAAD0gkAAAAAAACiHQAAAAAAATIxAAAAAAABKkUAAAAAAAB6VQAAAAAAAyplAAAAAAACEn0AAAAAAAECjQAAAAAAAhKdA\",\"dtype\":\"float64\",\"shape\":[45]},\"Width_Full\":{\"__ndarray__\":\"AAAAAAAA8D8AAAAAAADwPwAAAAAAAPA/AAAAAAAA8D8AAAAAAADwPwAAAAAAAPg/AAAAAAAAAEAAAAAAAAAAQAAAAAAAAARAAAAAAAAACEAAAAAAAAAMQAAAAAAAABJAAAAAAAAAGEAAAAAAAAAcQAAAAAAAACFAAAAAAAAAJkAAAAAAAAAqQAAAAAAAADBAAAAAAAAANEAAAAAAAIA4QAAAAAAAAD5AAAAAAABAQkAAAAAAAIBGQAAAAAAAAExAAAAAAAAgUUAAAAAAAABVQAAAAAAA4FlAAAAAAADgX0AAAAAAAKBjQAAAAAAAIGhAAAAAAACgbUAAAAAAADhyQAAAAAAAcHZAAAAAAACYe0AAAAAAAPSAQAAAAAAA3IRAAAAAAACoiUAAAAAAAIyPQAAAAAAAaJNAAAAAAADel0AAAAAAAFqdQAAAAAAADaJAAAAAAAA0pkAAAAAAAE+rQAAAAACAy7BA\",\"dtype\":\"float64\",\"shape\":[45]},\"Width_Grocery_and_Gourmet_Food\":{\"__ndarray__\":\"AAAAAAAA8D8AAAAAAADwPwAAAAAAAPA/AAAAAAAA8D8AAAAAAADwPwAAAAAAAPA/AAAAAAAA+D8AAAAAAAD4PwAAAAAAAPg/AAAAAAAABEAAAAAAAAAEQAAAAAAAAAhAAAAAAAAAEEAAAAAAAAASQAAAAAAAABZAAAAAAAAAGkAAAAAAAAAeQAAAAAAAACJAAAAAAAAAJkAAAAAAAAAqQAAAAAAAAC9AAAAAAACAMkAAAAAAAIA2QAAAAAAAADtAAAAAAAAAQEAAAAAAAABDQAAAAAAAwEZAAAAAAACAS0AAAAAAAGBQQAAAAAAAgFNAAAAAAABAV0AAAAAAAOBbQAAAAAAAsGBAAAAAAADwY0AAAAAAAOBnQAAAAAAAgGxAAAAAAAAIcUAAAAAAAGB0QAAAAAAAYHhAAAAAAAAofUAAAAAAAGiBQAAAAAAA0IRAAAAAAADoiEAAAAAAAMSNQA==\",\"dtype\":\"float64\",\"shape\":[44]},\"Width_Health_and_Personal_Care\":{\"__ndarray__\":\"AAAAAAAA8D8AAAAAAADwPwAAAAAAAPA/AAAAAAAA8D8AAAAAAADwPwAAAAAAAPA/AAAAAAAA8D8AAAAAAAD4PwAAAAAAAABAAAAAAAAAAEAAAAAAAAAEQAAAAAAAAAxAAAAAAAAAEkAAAAAAAAAUQAAAAAAAABZAAAAAAAAAHEAAAAAAAAAiQAAAAAAAACVAAAAAAAAAKUAAAAAAAAAvQAAAAAAAgDJAAAAAAACANkAAAAAAAIA7QAAAAAAAgEBAAAAAAADAQ0AAAAAAAABIQAAAAAAAQE1AAAAAAACgUUAAAAAAAGBVQAAAAAAA4FlAAAAAAABAX0AAAAAAAOBiQAAAAAAA0GZAAAAAAACwa0AAAAAAAMBwQAAAAAAAQHRAAAAAAACAeEAAAAAAAKh9QAAAAAAA8IFAAAAAAAC0hUAAAAAAAESKQAAAAAAAxI9AAAAAAAA4k0AAAAAAAEKXQAAAAAAAJJxA\",\"dtype\":\"float64\",\"shape\":[45]},\"Width_Home_and_Kitchen\":{\"__ndarray__\":\"AAAAAAAA8D8AAAAAAADwPwAAAAAAAPA/AAAAAAAA8D8AAAAAAADwPwAAAAAAAPA/AAAAAAAA+D8AAAAAAAD4PwAAAAAAAPg/AAAAAAAABEAAAAAAAAAIQAAAAAAAAAhAAAAAAAAADEAAAAAAAAASQAAAAAAAABZAAAAAAAAAHEAAAAAAAAAgQAAAAAAAACJAAAAAAAAAJ0AAAAAAAAArQAAAAAAAADBAAAAAAACAM0AAAAAAAAA3QAAAAAAAADxAAAAAAADAQEAAAAAAAMBDQAAAAAAAwEdAAAAAAACATEAAAAAAAABRQAAAAAAAYFRAAAAAAABgWEAAAAAAAEBdQAAAAAAAgGFAAAAAAADgZEAAAAAAABBpQAAAAAAAAG5AAAAAAADwcUAAAAAAAHh1QAAAAAAAsHlAAAAAAADAfkAAAAAAAGiCQAAAAAAADIZAAAAAAABgikAAAAAAAJCPQA==\",\"dtype\":\"float64\",\"shape\":[44]},\"Width_Kindle_Store\":{\"__ndarray__\":\"AAAAAAAA8D8AAAAAAADwPwAAAAAAAPA/AAAAAAAA8D8AAAAAAADwPwAAAAAAAPA/AAAAAAAA8D8AAAAAAAD4PwAAAAAAAABAAAAAAAAABEAAAAAAAAAIQAAAAAAAAAxAAAAAAAAAEEAAAAAAAAAUQAAAAAAAABhAAAAAAAAAHkAAAAAAAAAiQAAAAAAAACVAAAAAAAAAK0AAAAAAAAAwQAAAAAAAgDNAAAAAAACAN0AAAAAAAIA8QAAAAAAAgEFAAAAAAADAREAAAAAAAEBJQAAAAAAAwE5AAAAAAACgUkAAAAAAAKBWQAAAAAAAYFtAAAAAAACQYEAAAAAAABBkQAAAAAAAUGhAAAAAAABwbUAAAAAAANhxQAAAAAAAoHVAAAAAAAA4ekAAAAAAAMh/QAAAAAAAQINAAAAAAABUh0AAAAAAAESMQAAAAAAAHpFAAAAAAAC+lEAAAAAAACaZQAAAAAAAeJ5A\",\"dtype\":\"float64\",\"shape\":[45]},\"Width_Movies_and_TV\":{\"__ndarray__\":\"AAAAAAAA8D8AAAAAAADwPwAAAAAAAPA/AAAAAAAA8D8AAAAAAADwPwAAAAAAAPA/AAAAAAAA8D8AAAAAAAD4PwAAAAAAAABAAAAAAAAABEAAAAAAAAAIQAAAAAAAAAhAAAAAAAAAEEAAAAAAAAAUQAAAAAAAABhAAAAAAAAAHkAAAAAAAAAiQAAAAAAAACZAAAAAAAAAKkAAAAAAAAAvQAAAAAAAADNAAAAAAAAAN0AAAAAAAAA8QAAAAAAAAEFAAAAAAACAREAAAAAAAABJQAAAAAAAQE5AAAAAAABAUkAAAAAAACBWQAAAAAAAwFpAAAAAAAAwYEAAAAAAAKBjQAAAAAAA0GdAAAAAAADQbEAAAAAAAHBxQAAAAAAAIHVAAAAAAACQeUAAAAAAAPh+QAAAAAAAxIJAAAAAAAC8hkAAAAAAAISLQAAAAAAAqJBAAAAAAAAulEAAAAAAAHKYQAAAAAAAmp1A\",\"dtype\":\"float64\",\"shape\":[45]},\"Width_Musical_Instruments\":{\"__ndarray__\":\"AAAAAAAA8D8AAAAAAADwPwAAAAAAAPA/AAAAAAAA8D8AAAAAAADwPwAAAAAAAPA/AAAAAAAA+D8AAAAAAAD4PwAAAAAAAPg/AAAAAAAAAEAAAAAAAAAEQAAAAAAAAAhAAAAAAAAADEAAAAAAAAAQQAAAAAAAABJAAAAAAAAAFkAAAAAAAAAaQAAAAAAAACBAAAAAAAAAI0AAAAAAAAAlQAAAAAAAAClAAAAAAAAALkAAAAAAAAAyQAAAAAAAADVAAAAAAACAOEAAAAAAAIA9QAAAAAAAgEFAAAAAAACAREAAAAAAAEBIQAAAAAAAwExAAAAAAADgUEAAAAAAAOBTQAAAAAAAgFdAAAAAAADgW0AAAAAAAIBgQAAAAAAAcGNAAAAAAADwZkAAAAAAACBrQAAAAAAACHBAAAAAAADwckAAAAAAAFh2QAAAAAAAaHpAAAAAAAA4f0A=\",\"dtype\":\"float64\",\"shape\":[43]},\"Width_Office_Products\":{\"__ndarray__\":\"AAAAAAAA8D8AAAAAAADwPwAAAAAAAPA/AAAAAAAA8D8AAAAAAADwPwAAAAAAAPA/AAAAAAAA8D8AAAAAAADwPwAAAAAAAPg/AAAAAAAAAEAAAAAAAAAAQAAAAAAAAARAAAAAAAAADEAAAAAAAAAQQAAAAAAAABJAAAAAAAAAFEAAAAAAAAAYQAAAAAAAAB5AAAAAAAAAIkAAAAAAAAAlQAAAAAAAAClAAAAAAAAALkAAAAAAAIAxQAAAAAAAgDRAAAAAAACAOEAAAAAAAIA9QAAAAAAAQEFAAAAAAACAREAAAAAAAIBIQAAAAAAAAE1AAAAAAABAUUAAAAAAAIBUQAAAAAAAQFhAAAAAAADAXEAAAAAAABBhQAAAAAAAQGRAAAAAAAAQaEAAAAAAAIBsQAAAAAAA8HBAAAAAAAAYdEAAAAAAANB3QAAAAAAAUHxAAAAAAADMgEAAAAAAAOyDQA==\",\"dtype\":\"float64\",\"shape\":[44]},\"Width_Patio_Lawn_and_Garden\":{\"__ndarray__\":\"AAAAAAAA8D8AAAAAAADwPwAAAAAAAPA/AAAAAAAA8D8AAAAAAADwPwAAAAAAAPA/AAAAAAAA8D8AAAAAAAD4PwAAAAAAAABAAAAAAAAAAEAAAAAAAAAAQAAAAAAAAARAAAAAAAAADEAAAAAAAAAQQAAAAAAAABJAAAAAAAAAFEAAAAAAAAAYQAAAAAAAAB5AAAAAAAAAIUAAAAAAAAAkQAAAAAAAAChAAAAAAAAALEAAAAAAAIAwQAAAAAAAgDNAAAAAAAAAN0AAAAAAAIA7QAAAAAAAAEBAAAAAAADAQkAAAAAAAEBGQAAAAAAAQEpAAAAAAAAAT0AAAAAAAEBSQAAAAAAAgFVAAAAAAABgWUAAAAAAAOBdQAAAAAAAoGFAAAAAAADQZEAAAAAAAHBoQAAAAAAA0GxAAAAAAAAIcUAAAAAAABB0QAAAAAAAoHdAAAAAAADge0A=\",\"dtype\":\"float64\",\"shape\":[43]},\"Width_Pet_Supplies\":{\"__ndarray__\":\"AAAAAAAA8D8AAAAAAADwPwAAAAAAAPA/AAAAAAAA8D8AAAAAAADwPwAAAAAAAPg/AAAAAAAA+D8AAAAAAAD4PwAAAAAAAABAAAAAAAAAAEAAAAAAAAAEQAAAAAAAAAhAAAAAAAAADEAAAAAAAAASQAAAAAAAABRAAAAAAAAAGEAAAAAAAAAeQAAAAAAAACFAAAAAAAAAJEAAAAAAAAAoQAAAAAAAACxAAAAAAACAMEAAAAAAAAA0QAAAAAAAgDdAAAAAAACAO0AAAAAAAIBAQAAAAAAAgENAAAAAAABAR0AAAAAAAIBLQAAAAAAAQFBAAAAAAABAU0AAAAAAAOBWQAAAAAAAIFtAAAAAAAAAYEAAAAAAAABjQAAAAAAAkGZAAAAAAACwakAAAAAAAKBvQAAAAAAAwHJAAAAAAAA4dkAAAAAAAFh6QAAAAAAAMH9AAAAAAAB8gkA=\",\"dtype\":\"float64\",\"shape\":[43]},\"Width_Sports_and_Outdoors\":{\"__ndarray__\":\"AAAAAAAA8D8AAAAAAADwPwAAAAAAAPA/AAAAAAAA8D8AAAAAAADwPwAAAAAAAPA/AAAAAAAA8D8AAAAAAAD4PwAAAAAAAABAAAAAAAAAAEAAAAAAAAAEQAAAAAAAAAhAAAAAAAAADEAAAAAAAAASQAAAAAAAABZAAAAAAAAAGkAAAAAAAAAeQAAAAAAAACFAAAAAAAAAJUAAAAAAAAAqQAAAAAAAAC5AAAAAAAAAMkAAAAAAAIA1QAAAAAAAgDlAAAAAAAAAP0AAAAAAAIBCQAAAAAAAAEZAAAAAAABASkAAAAAAAEBPQAAAAAAAwFJAAAAAAABgVkAAAAAAAKBaQAAAAAAA4F9AAAAAAAAQY0AAAAAAAMBmQAAAAAAAIGtAAAAAAAAwcEAAAAAAAGBzQAAAAAAAKHdAAAAAAACge0AAAAAAAHyAQAAAAAAAsINAAAAAAACIh0AAAAAAAByMQA==\",\"dtype\":\"float64\",\"shape\":[44]},\"Width_Tools_and_Home_Improvement\":{\"__ndarray__\":\"AAAAAAAA8D8AAAAAAADwPwAAAAAAAPA/AAAAAAAA8D8AAAAAAADwPwAAAAAAAPA/AAAAAAAA8D8AAAAAAADwPwAAAAAAAPg/AAAAAAAAAEAAAAAAAAAEQAAAAAAAAAhAAAAAAAAACEAAAAAAAAAQQAAAAAAAABRAAAAAAAAAFkAAAAAAAAAaQAAAAAAAAB5AAAAAAAAAIkAAAAAAAAAmQAAAAAAAACtAAAAAAAAAL0AAAAAAAAAyQAAAAAAAADZAAAAAAACAOkAAAAAAAAA/QAAAAAAAgEJAAAAAAAAARkAAAAAAAABKQAAAAAAAAE9AAAAAAABgUkAAAAAAAOBVQAAAAAAAAFpAAAAAAAAAX0AAAAAAAHBiQAAAAAAA4GVAAAAAAADwaUAAAAAAAOBuQAAAAAAAYHJAAAAAAADQdUAAAAAAAPB5QAAAAAAA2H5AAAAAAABUgkAAAAAAAMiFQA==\",\"dtype\":\"float64\",\"shape\":[44]},\"Width_Toys_and_Games\":{\"__ndarray__\":\"AAAAAAAA8D8AAAAAAADwPwAAAAAAAPA/AAAAAAAA8D8AAAAAAAD4PwAAAAAAAPg/AAAAAAAA+D8AAAAAAAAAQAAAAAAAAABAAAAAAAAABEAAAAAAAAAIQAAAAAAAABBAAAAAAAAAFEAAAAAAAAAWQAAAAAAAABpAAAAAAAAAIEAAAAAAAAAkQAAAAAAAAChAAAAAAAAALUAAAAAAAIAxQAAAAAAAgDVAAAAAAACAOUAAAAAAAIA+QAAAAAAAwEJAAAAAAACARkAAAAAAAABLQAAAAAAAYFBAAAAAAADAU0AAAAAAAOBXQAAAAAAA4FxAAAAAAABgYUAAAAAAAABlQAAAAAAAYGlAAAAAAACgbkAAAAAAAIByQAAAAAAAWHZAAAAAAAD4ekAAAAAAAEiAQAAAAAAAqINAAAAAAAC8h0AAAAAAAKyMQAAAAAAATpFAAAAAAADklEAAAAAAADyZQA==\",\"dtype\":\"float64\",\"shape\":[44]},\"Width_Video_Games\":{\"__ndarray__\":\"AAAAAAAA8D8AAAAAAADwPwAAAAAAAPA/AAAAAAAA8D8AAAAAAADwPwAAAAAAAPA/AAAAAAAA+D8AAAAAAAAAQAAAAAAAAABAAAAAAAAABEAAAAAAAAAIQAAAAAAAABBAAAAAAAAAFEAAAAAAAAAWQAAAAAAAABxAAAAAAAAAIUAAAAAAAAAlQAAAAAAAACpAAAAAAAAAL0AAAAAAAIAyQAAAAAAAADdAAAAAAAAAPEAAAAAAAABBQAAAAAAAAEVAAAAAAABASUAAAAAAAMBOQAAAAAAA4FJAAAAAAAAAV0AAAAAAAOBbQAAAAAAAAGFAAAAAAADQZEAAAAAAAFBpQAAAAAAA0G5AAAAAAADQckAAAAAAAOh2QAAAAAAA6HtAAAAAAAAEgUAAAAAAALyEQAAAAAAARIlAAAAAAADMjkAAAAAAAMaSQAAAAAAA4JZAAAAAAADgm0AAAAAAAP2gQAAAAAAAtaRA\",\"dtype\":\"float64\",\"shape\":[45]}}},\"id\":\"9461fd63-fed4-4272-b7ef-fdbc50207abd\",\"type\":\"ColumnDataSource\"},{\"attributes\":{\"label\":{\"value\":\"Median \"},\"renderers\":[{\"id\":\"ec287210-981d-4816-b266-2c129b78e8cf\",\"type\":\"GlyphRenderer\"}]},\"id\":\"af250e31-055e-4d49-b56b-34d0f2875681\",\"type\":\"LegendItem\"},{\"attributes\":{\"data_source\":{\"id\":\"9461fd63-fed4-4272-b7ef-fdbc50207abd\",\"type\":\"ColumnDataSource\"},\"glyph\":{\"id\":\"ae6e8be2-55df-4af1-95ea-b931b3aa6327\",\"type\":\"VBar\"},\"hover_glyph\":null,\"muted_glyph\":null,\"nonselection_glyph\":{\"id\":\"dfcbcbfa-d42c-47a2-a7c1-5dff13c75a8e\",\"type\":\"VBar\"},\"selection_glyph\":null,\"view\":{\"id\":\"2aae3bc6-e55b-4a55-9cf2-0c7ff80ddc77\",\"type\":\"CDSView\"}},\"id\":\"a524e25c-3b37-4358-bb17-4094798e2019\",\"type\":\"GlyphRenderer\"},{\"attributes\":{\"background_fill_alpha\":{\"value\":0.4},\"background_fill_color\":{\"value\":\"LightGray\"},\"below\":[{\"id\":\"a09fff2f-52d5-4c13-a898-ccbc37762153\",\"type\":\"LogAxis\"}],\"left\":[{\"id\":\"2c416422-a030-469d-9d60-8b70cb4507a5\",\"type\":\"LogAxis\"}],\"plot_height\":300,\"plot_width\":400,\"renderers\":[{\"id\":\"a09fff2f-52d5-4c13-a898-ccbc37762153\",\"type\":\"LogAxis\"},{\"id\":\"834635be-51d3-461e-aa8b-c96f8462b110\",\"type\":\"Grid\"},{\"id\":\"2c416422-a030-469d-9d60-8b70cb4507a5\",\"type\":\"LogAxis\"},{\"id\":\"68ac8049-fcce-468f-a822-e23d525813df\",\"type\":\"Grid\"},{\"id\":\"4248fd02-ed80-43bd-bd73-1c8d00dbb787\",\"type\":\"BoxAnnotation\"},{\"id\":\"a524e25c-3b37-4358-bb17-4094798e2019\",\"type\":\"GlyphRenderer\"},{\"id\":\"45fa795e-29d9-4e53-ae5c-d049306db67a\",\"type\":\"Legend\"},{\"id\":\"ec287210-981d-4816-b266-2c129b78e8cf\",\"type\":\"GlyphRenderer\"}],\"title\":{\"id\":\"28120f48-ef7f-4ce4-9298-dd825e42520b\",\"type\":\"Title\"},\"toolbar\":{\"id\":\"77e96b48-7836-4fae-92bc-74563d1b18e4\",\"type\":\"Toolbar\"},\"x_range\":{\"id\":\"1f6e1cba-e5b3-4e9c-a2db-4aae4a3ba68c\",\"type\":\"Range1d\"},\"x_scale\":{\"id\":\"19c82bc2-f67c-4e34-8470-0e1e74c4cd42\",\"type\":\"LogScale\"},\"y_range\":{\"id\":\"11b6d95d-1c33-4278-9751-10e17820363a\",\"type\":\"Range1d\"},\"y_scale\":{\"id\":\"c76d032e-c751-49a0-ad5a-69d94abff8cc\",\"type\":\"LogScale\"}},\"id\":\"8d9a1dc8-52f7-48da-9e44-d6200e6580eb\",\"subtype\":\"Figure\",\"type\":\"Plot\"},{\"attributes\":{\"grid_line_color\":{\"value\":\"White\"},\"plot\":{\"id\":\"8d9a1dc8-52f7-48da-9e44-d6200e6580eb\",\"subtype\":\"Figure\",\"type\":\"Plot\"},\"ticker\":{\"id\":\"e12ffb52-d0a7-4212-862e-d1140a634f06\",\"type\":\"LogTicker\"}},\"id\":\"834635be-51d3-461e-aa8b-c96f8462b110\",\"type\":\"Grid\"},{\"attributes\":{\"axis_label\":\"Number of reviews\",\"formatter\":{\"id\":\"82d65b75-f081-4e00-8808-d1346084e77d\",\"type\":\"LogTickFormatter\"},\"plot\":{\"id\":\"8d9a1dc8-52f7-48da-9e44-d6200e6580eb\",\"subtype\":\"Figure\",\"type\":\"Plot\"},\"ticker\":{\"id\":\"e12ffb52-d0a7-4212-862e-d1140a634f06\",\"type\":\"LogTicker\"}},\"id\":\"a09fff2f-52d5-4c13-a898-ccbc37762153\",\"type\":\"LogAxis\"},{\"attributes\":{},\"id\":\"c76d032e-c751-49a0-ad5a-69d94abff8cc\",\"type\":\"LogScale\"},{\"attributes\":{\"active_drag\":\"auto\",\"active_inspect\":\"auto\",\"active_scroll\":\"auto\",\"active_tap\":\"auto\",\"tools\":[{\"id\":\"05c8ca67-796c-43fb-a453-32151bee3500\",\"type\":\"BoxZoomTool\"},{\"id\":\"c50d575f-5fc3-48ba-8e5b-415e96393c93\",\"type\":\"SaveTool\"},{\"id\":\"2c1306ec-9536-4b3d-a18f-d136d53b4a7d\",\"type\":\"ResetTool\"}]},\"id\":\"77e96b48-7836-4fae-92bc-74563d1b18e4\",\"type\":\"Toolbar\"},{\"attributes\":{\"num_minor_ticks\":10},\"id\":\"45b388d8-5a07-4ef6-950b-960a54014bb2\",\"type\":\"LogTicker\"},{\"attributes\":{\"axis_label\":\"Number of products\",\"formatter\":{\"id\":\"36b583c8-10b2-4d62-83f7-55324108c3ad\",\"type\":\"LogTickFormatter\"},\"plot\":{\"id\":\"8d9a1dc8-52f7-48da-9e44-d6200e6580eb\",\"subtype\":\"Figure\",\"type\":\"Plot\"},\"ticker\":{\"id\":\"45b388d8-5a07-4ef6-950b-960a54014bb2\",\"type\":\"LogTicker\"}},\"id\":\"2c416422-a030-469d-9d60-8b70cb4507a5\",\"type\":\"LogAxis\"},{\"attributes\":{\"callback\":null,\"end\":100000.0,\"start\":1.0},\"id\":\"1f6e1cba-e5b3-4e9c-a2db-4aae4a3ba68c\",\"type\":\"Range1d\"},{\"attributes\":{\"dimension\":1,\"grid_line_color\":{\"value\":\"White\"},\"plot\":{\"id\":\"8d9a1dc8-52f7-48da-9e44-d6200e6580eb\",\"subtype\":\"Figure\",\"type\":\"Plot\"},\"ticker\":{\"id\":\"45b388d8-5a07-4ef6-950b-960a54014bb2\",\"type\":\"LogTicker\"}},\"id\":\"68ac8049-fcce-468f-a822-e23d525813df\",\"type\":\"Grid\"},{\"attributes\":{\"data_source\":{\"id\":\"9885efed-e49e-440c-ae63-e5094213e87c\",\"type\":\"ColumnDataSource\"},\"glyph\":{\"id\":\"774c2834-23b7-4470-b556-807e92c132f5\",\"type\":\"Line\"},\"hover_glyph\":null,\"muted_glyph\":null,\"nonselection_glyph\":{\"id\":\"b0eb8ace-5007-4971-8417-2d0b679744df\",\"type\":\"Line\"},\"selection_glyph\":null,\"view\":{\"id\":\"7c2446d8-13bb-44cd-8af8-5b453b24d1db\",\"type\":\"CDSView\"}},\"id\":\"ec287210-981d-4816-b266-2c129b78e8cf\",\"type\":\"GlyphRenderer\"},{\"attributes\":{\"source\":{\"id\":\"9461fd63-fed4-4272-b7ef-fdbc50207abd\",\"type\":\"ColumnDataSource\"}},\"id\":\"2aae3bc6-e55b-4a55-9cf2-0c7ff80ddc77\",\"type\":\"CDSView\"},{\"attributes\":{\"num_minor_ticks\":10},\"id\":\"e12ffb52-d0a7-4212-862e-d1140a634f06\",\"type\":\"LogTicker\"},{\"attributes\":{\"line_color\":\"blue\",\"x\":{\"field\":\"Median\"},\"y\":{\"field\":\"Straight_Line\"}},\"id\":\"774c2834-23b7-4470-b556-807e92c132f5\",\"type\":\"Line\"},{\"attributes\":{\"overlay\":{\"id\":\"4248fd02-ed80-43bd-bd73-1c8d00dbb787\",\"type\":\"BoxAnnotation\"}},\"id\":\"05c8ca67-796c-43fb-a453-32151bee3500\",\"type\":\"BoxZoomTool\"},{\"attributes\":{},\"id\":\"c50d575f-5fc3-48ba-8e5b-415e96393c93\",\"type\":\"SaveTool\"}],\"root_ids\":[\"324253bd-6646-42db-b7b1-286e96288d63\"]},\"title\":\"Bokeh Application\",\"version\":\"0.12.13\"}};\n",
       "  var render_items = [{\"docid\":\"8f7019c3-bc28-4275-a526-3a2cbe32c3a8\",\"elementid\":\"6192c2ce-5ef2-44e8-a03f-c7c4392d8460\",\"modelid\":\"324253bd-6646-42db-b7b1-286e96288d63\"}];\n",
       "  root.Bokeh.embed.embed_items_notebook(docs_json, render_items);\n",
       "\n",
       "  }\n",
       "  if (root.Bokeh !== undefined) {\n",
       "    embed_document(root);\n",
       "  } else {\n",
       "    var attempts = 0;\n",
       "    var timer = setInterval(function(root) {\n",
       "      if (root.Bokeh !== undefined) {\n",
       "        embed_document(root);\n",
       "        clearInterval(timer);\n",
       "      }\n",
       "      attempts++;\n",
       "      if (attempts > 100) {\n",
       "        console.log(\"Bokeh: ERROR: Unable to run BokehJS code because BokehJS library is missing\")\n",
       "        clearInterval(timer);\n",
       "      }\n",
       "    }, 10, root)\n",
       "  }\n",
       "})(window);"
      ],
      "application/vnd.bokehjs_exec.v0+json": ""
     },
     "metadata": {
      "application/vnd.bokehjs_exec.v0+json": {
       "id": "324253bd-6646-42db-b7b1-286e96288d63"
      }
     },
     "output_type": "display_data"
    }
   ],
   "source": [
    "# Decomment the first line if you want to save the graph as an html file\n",
    "\n",
    "#output_file(\"Graph/BokehGraph_Review_per_Product.html\")\n",
    "output_notebook()\n",
    "\n",
    "# Load the dictionnary containing the dataframe for each category\n",
    "pkl_file = open('DataSets/Processed/ReviewCountDict.pkl', 'rb')\n",
    "full_reviews_dict = pickle.load(pkl_file)\n",
    "\n",
    "# Initialize the data for the graph by giving it the dataframe for all products regardless of category\n",
    "# Data is for plotting the distribution and data2 is for plotting the median\n",
    "bar_plot_full_helper = log_bar_plot_helper(full_reviews_dict['Full'])\n",
    "data={'Review_Count' : bar_plot_full_helper[0], 'Product_Count' : bar_plot_full_helper[1],\n",
    "      'Width' : bar_plot_full_helper[2],\n",
    "      'RC_Full' : bar_plot_full_helper[0], 'PC_Full' : bar_plot_full_helper[1]\n",
    "     ,'Width_Full' : bar_plot_full_helper[2]}\n",
    "\n",
    "data2 = {'Median' : [bar_plot_full_helper[3],bar_plot_full_helper[3]], 'Straight_Line' : [0.001, 10000000], \n",
    "         'Median_Full' : [bar_plot_full_helper[3],bar_plot_full_helper[3]]}\n",
    "\n",
    "# Fill the graph data sources for each category\n",
    "for category in list_of_cat:\n",
    "    bar_plot_helper = log_bar_plot_helper(full_reviews_dict[category])\n",
    "    data['RC_'+category] = bar_plot_helper[0]\n",
    "    data['PC_'+category] = bar_plot_helper[1]\n",
    "    data['Width_'+category] = bar_plot_helper[2]\n",
    "    data2['Median_'+category] = [bar_plot_helper[3],bar_plot_helper[3]]\n",
    "    \n",
    "#Transform the two data sources into Bokeh data sources\n",
    "source = ColumnDataSource(data) #For the distribution\n",
    "source2 = ColumnDataSource(data2) #For the Median\n",
    "\n",
    "#Initialize the plot\n",
    "plot = Figure(plot_width=400, plot_height=300,x_axis_type = 'log',y_axis_type= 'log',x_range = [10e-1,10e4],y_range=[10e-2, 10e6], x_axis_label = 'Number of reviews',\n",
    "             y_axis_label = 'Number of products', tools = 'box_zoom,save,reset')\n",
    "\n",
    "#Initialize the distribution plot\n",
    "plot.vbar('Review_Count',top = 'Product_Count',bottom=0.01,alpha = 0.7,width = 'Width', color = 'LightCoral', source = source)\n",
    "#Initialize the median plot\n",
    "plot.line('Median', 'Straight_Line', color = 'blue', source = source2, legend = 'Median ')\n",
    "plot.background_fill_color = \"LightGray\"\n",
    "plot.background_fill_alpha = 0.4\n",
    "plot.grid.grid_line_width = 1\n",
    "plot.grid.grid_line_alpha = 1\n",
    "plot.grid.grid_line_color = 'White'\n",
    "\n",
    "def callback(source=source, source2=source2, window=None):\n",
    "    \"\"\"Callback function which will be interpreted in javascript. This function is called each time\n",
    "    the category is change and update the data source accordingly\"\"\"\n",
    "    #Load the Bokeh data sources\n",
    "    data = source.data\n",
    "    data2 = source2.data\n",
    "    #Get the selected category\n",
    "    f = cb_obj.value\n",
    "    x, y, width= data['Review_Count'], data['Product_Count'], data['Width']\n",
    "    med = data2['Median']\n",
    "    cat_x = 'RC_'+f\n",
    "    cat_y = 'PC_'+f\n",
    "    cat_width = 'Width_'+f\n",
    "    cat_med = 'Median_'+f\n",
    "    #Update the median\n",
    "    med[0] = data2[cat_med][0]\n",
    "    med[1] = data2[cat_med][1]\n",
    "    #Update the distribution\n",
    "    for i in range(len(x)):\n",
    "        x[i] = data[cat_x][i]\n",
    "        y[i] = data[cat_y][i]\n",
    "        width[i] = data[cat_width][i]\n",
    "    #Broadcast the change to the graph\n",
    "    source.change.emit()\n",
    "    source2.change.emit()\n",
    "\n",
    "#Initialize the dropdown selection menu\n",
    "category_select = Select(value='Full', title=\"Category\", options=categories_selection_list,\n",
    "                callback=CustomJS.from_py_func(callback))\n",
    "#Create the layout\n",
    "layout = row(plot, category_select)\n",
    "#Show the graph\n",
    "show(layout)"
   ]
  },
  {
   "cell_type": "markdown",
   "metadata": {},
   "source": [
    "##### Plot of the number of reviews per each rating"
   ]
  },
  {
   "cell_type": "code",
   "execution_count": 14,
   "metadata": {},
   "outputs": [
    {
     "data": {
      "text/html": [
       "\n",
       "    <div class=\"bk-root\">\n",
       "        <a href=\"https://bokeh.pydata.org\" target=\"_blank\" class=\"bk-logo bk-logo-small bk-logo-notebook\"></a>\n",
       "        <span id=\"beb62b33-7f4e-462d-87fe-f3523babb058\">Loading BokehJS ...</span>\n",
       "    </div>"
      ]
     },
     "metadata": {},
     "output_type": "display_data"
    },
    {
     "data": {
      "application/javascript": [
       "\n",
       "(function(root) {\n",
       "  function now() {\n",
       "    return new Date();\n",
       "  }\n",
       "\n",
       "  var force = true;\n",
       "\n",
       "  if (typeof (root._bokeh_onload_callbacks) === \"undefined\" || force === true) {\n",
       "    root._bokeh_onload_callbacks = [];\n",
       "    root._bokeh_is_loading = undefined;\n",
       "  }\n",
       "\n",
       "  var JS_MIME_TYPE = 'application/javascript';\n",
       "  var HTML_MIME_TYPE = 'text/html';\n",
       "  var EXEC_MIME_TYPE = 'application/vnd.bokehjs_exec.v0+json';\n",
       "  var CLASS_NAME = 'output_bokeh rendered_html';\n",
       "\n",
       "  /**\n",
       "   * Render data to the DOM node\n",
       "   */\n",
       "  function render(props, node) {\n",
       "    var script = document.createElement(\"script\");\n",
       "    node.appendChild(script);\n",
       "  }\n",
       "\n",
       "  /**\n",
       "   * Handle when an output is cleared or removed\n",
       "   */\n",
       "  function handleClearOutput(event, handle) {\n",
       "    var cell = handle.cell;\n",
       "\n",
       "    var id = cell.output_area._bokeh_element_id;\n",
       "    var server_id = cell.output_area._bokeh_server_id;\n",
       "    // Clean up Bokeh references\n",
       "    if (id !== undefined) {\n",
       "      Bokeh.index[id].model.document.clear();\n",
       "      delete Bokeh.index[id];\n",
       "    }\n",
       "\n",
       "    if (server_id !== undefined) {\n",
       "      // Clean up Bokeh references\n",
       "      var cmd = \"from bokeh.io.state import curstate; print(curstate().uuid_to_server['\" + server_id + \"'].get_sessions()[0].document.roots[0]._id)\";\n",
       "      cell.notebook.kernel.execute(cmd, {\n",
       "        iopub: {\n",
       "          output: function(msg) {\n",
       "            var element_id = msg.content.text.trim();\n",
       "            Bokeh.index[element_id].model.document.clear();\n",
       "            delete Bokeh.index[element_id];\n",
       "          }\n",
       "        }\n",
       "      });\n",
       "      // Destroy server and session\n",
       "      var cmd = \"import bokeh.io.notebook as ion; ion.destroy_server('\" + server_id + \"')\";\n",
       "      cell.notebook.kernel.execute(cmd);\n",
       "    }\n",
       "  }\n",
       "\n",
       "  /**\n",
       "   * Handle when a new output is added\n",
       "   */\n",
       "  function handleAddOutput(event, handle) {\n",
       "    var output_area = handle.output_area;\n",
       "    var output = handle.output;\n",
       "\n",
       "    // limit handleAddOutput to display_data with EXEC_MIME_TYPE content only\n",
       "    if ((output.output_type != \"display_data\") || (!output.data.hasOwnProperty(EXEC_MIME_TYPE))) {\n",
       "      return\n",
       "    }\n",
       "\n",
       "    var toinsert = output_area.element.find(\".\" + CLASS_NAME.split(' ')[0]);\n",
       "\n",
       "    if (output.metadata[EXEC_MIME_TYPE][\"id\"] !== undefined) {\n",
       "      toinsert[0].firstChild.textContent = output.data[JS_MIME_TYPE];\n",
       "      // store reference to embed id on output_area\n",
       "      output_area._bokeh_element_id = output.metadata[EXEC_MIME_TYPE][\"id\"];\n",
       "    }\n",
       "    if (output.metadata[EXEC_MIME_TYPE][\"server_id\"] !== undefined) {\n",
       "      var bk_div = document.createElement(\"div\");\n",
       "      bk_div.innerHTML = output.data[HTML_MIME_TYPE];\n",
       "      var script_attrs = bk_div.children[0].attributes;\n",
       "      for (var i = 0; i < script_attrs.length; i++) {\n",
       "        toinsert[0].firstChild.setAttribute(script_attrs[i].name, script_attrs[i].value);\n",
       "      }\n",
       "      // store reference to server id on output_area\n",
       "      output_area._bokeh_server_id = output.metadata[EXEC_MIME_TYPE][\"server_id\"];\n",
       "    }\n",
       "  }\n",
       "\n",
       "  function register_renderer(events, OutputArea) {\n",
       "\n",
       "    function append_mime(data, metadata, element) {\n",
       "      // create a DOM node to render to\n",
       "      var toinsert = this.create_output_subarea(\n",
       "        metadata,\n",
       "        CLASS_NAME,\n",
       "        EXEC_MIME_TYPE\n",
       "      );\n",
       "      this.keyboard_manager.register_events(toinsert);\n",
       "      // Render to node\n",
       "      var props = {data: data, metadata: metadata[EXEC_MIME_TYPE]};\n",
       "      render(props, toinsert[0]);\n",
       "      element.append(toinsert);\n",
       "      return toinsert\n",
       "    }\n",
       "\n",
       "    /* Handle when an output is cleared or removed */\n",
       "    events.on('clear_output.CodeCell', handleClearOutput);\n",
       "    events.on('delete.Cell', handleClearOutput);\n",
       "\n",
       "    /* Handle when a new output is added */\n",
       "    events.on('output_added.OutputArea', handleAddOutput);\n",
       "\n",
       "    /**\n",
       "     * Register the mime type and append_mime function with output_area\n",
       "     */\n",
       "    OutputArea.prototype.register_mime_type(EXEC_MIME_TYPE, append_mime, {\n",
       "      /* Is output safe? */\n",
       "      safe: true,\n",
       "      /* Index of renderer in `output_area.display_order` */\n",
       "      index: 0\n",
       "    });\n",
       "  }\n",
       "\n",
       "  // register the mime type if in Jupyter Notebook environment and previously unregistered\n",
       "  if (root.Jupyter !== undefined) {\n",
       "    var events = require('base/js/events');\n",
       "    var OutputArea = require('notebook/js/outputarea').OutputArea;\n",
       "\n",
       "    if (OutputArea.prototype.mime_types().indexOf(EXEC_MIME_TYPE) == -1) {\n",
       "      register_renderer(events, OutputArea);\n",
       "    }\n",
       "  }\n",
       "\n",
       "  \n",
       "  if (typeof (root._bokeh_timeout) === \"undefined\" || force === true) {\n",
       "    root._bokeh_timeout = Date.now() + 5000;\n",
       "    root._bokeh_failed_load = false;\n",
       "  }\n",
       "\n",
       "  var NB_LOAD_WARNING = {'data': {'text/html':\n",
       "     \"<div style='background-color: #fdd'>\\n\"+\n",
       "     \"<p>\\n\"+\n",
       "     \"BokehJS does not appear to have successfully loaded. If loading BokehJS from CDN, this \\n\"+\n",
       "     \"may be due to a slow or bad network connection. Possible fixes:\\n\"+\n",
       "     \"</p>\\n\"+\n",
       "     \"<ul>\\n\"+\n",
       "     \"<li>re-rerun `output_notebook()` to attempt to load from CDN again, or</li>\\n\"+\n",
       "     \"<li>use INLINE resources instead, as so:</li>\\n\"+\n",
       "     \"</ul>\\n\"+\n",
       "     \"<code>\\n\"+\n",
       "     \"from bokeh.resources import INLINE\\n\"+\n",
       "     \"output_notebook(resources=INLINE)\\n\"+\n",
       "     \"</code>\\n\"+\n",
       "     \"</div>\"}};\n",
       "\n",
       "  function display_loaded() {\n",
       "    var el = document.getElementById(\"beb62b33-7f4e-462d-87fe-f3523babb058\");\n",
       "    if (el != null) {\n",
       "      el.textContent = \"BokehJS is loading...\";\n",
       "    }\n",
       "    if (root.Bokeh !== undefined) {\n",
       "      if (el != null) {\n",
       "        el.textContent = \"BokehJS \" + root.Bokeh.version + \" successfully loaded.\";\n",
       "      }\n",
       "    } else if (Date.now() < root._bokeh_timeout) {\n",
       "      setTimeout(display_loaded, 100)\n",
       "    }\n",
       "  }\n",
       "\n",
       "\n",
       "  function run_callbacks() {\n",
       "    try {\n",
       "      root._bokeh_onload_callbacks.forEach(function(callback) { callback() });\n",
       "    }\n",
       "    finally {\n",
       "      delete root._bokeh_onload_callbacks\n",
       "    }\n",
       "    console.info(\"Bokeh: all callbacks have finished\");\n",
       "  }\n",
       "\n",
       "  function load_libs(js_urls, callback) {\n",
       "    root._bokeh_onload_callbacks.push(callback);\n",
       "    if (root._bokeh_is_loading > 0) {\n",
       "      console.log(\"Bokeh: BokehJS is being loaded, scheduling callback at\", now());\n",
       "      return null;\n",
       "    }\n",
       "    if (js_urls == null || js_urls.length === 0) {\n",
       "      run_callbacks();\n",
       "      return null;\n",
       "    }\n",
       "    console.log(\"Bokeh: BokehJS not loaded, scheduling load and callback at\", now());\n",
       "    root._bokeh_is_loading = js_urls.length;\n",
       "    for (var i = 0; i < js_urls.length; i++) {\n",
       "      var url = js_urls[i];\n",
       "      var s = document.createElement('script');\n",
       "      s.src = url;\n",
       "      s.async = false;\n",
       "      s.onreadystatechange = s.onload = function() {\n",
       "        root._bokeh_is_loading--;\n",
       "        if (root._bokeh_is_loading === 0) {\n",
       "          console.log(\"Bokeh: all BokehJS libraries loaded\");\n",
       "          run_callbacks()\n",
       "        }\n",
       "      };\n",
       "      s.onerror = function() {\n",
       "        console.warn(\"failed to load library \" + url);\n",
       "      };\n",
       "      console.log(\"Bokeh: injecting script tag for BokehJS library: \", url);\n",
       "      document.getElementsByTagName(\"head\")[0].appendChild(s);\n",
       "    }\n",
       "  };var element = document.getElementById(\"beb62b33-7f4e-462d-87fe-f3523babb058\");\n",
       "  if (element == null) {\n",
       "    console.log(\"Bokeh: ERROR: autoload.js configured with elementid 'beb62b33-7f4e-462d-87fe-f3523babb058' but no matching script tag was found. \")\n",
       "    return false;\n",
       "  }\n",
       "\n",
       "  var js_urls = [\"https://cdn.pydata.org/bokeh/release/bokeh-0.12.13.min.js\", \"https://cdn.pydata.org/bokeh/release/bokeh-widgets-0.12.13.min.js\", \"https://cdn.pydata.org/bokeh/release/bokeh-tables-0.12.13.min.js\", \"https://cdn.pydata.org/bokeh/release/bokeh-gl-0.12.13.min.js\"];\n",
       "\n",
       "  var inline_js = [\n",
       "    function(Bokeh) {\n",
       "      Bokeh.set_log_level(\"info\");\n",
       "    },\n",
       "    \n",
       "    function(Bokeh) {\n",
       "      \n",
       "    },\n",
       "    function(Bokeh) {\n",
       "      console.log(\"Bokeh: injecting CSS: https://cdn.pydata.org/bokeh/release/bokeh-0.12.13.min.css\");\n",
       "      Bokeh.embed.inject_css(\"https://cdn.pydata.org/bokeh/release/bokeh-0.12.13.min.css\");\n",
       "      console.log(\"Bokeh: injecting CSS: https://cdn.pydata.org/bokeh/release/bokeh-widgets-0.12.13.min.css\");\n",
       "      Bokeh.embed.inject_css(\"https://cdn.pydata.org/bokeh/release/bokeh-widgets-0.12.13.min.css\");\n",
       "      console.log(\"Bokeh: injecting CSS: https://cdn.pydata.org/bokeh/release/bokeh-tables-0.12.13.min.css\");\n",
       "      Bokeh.embed.inject_css(\"https://cdn.pydata.org/bokeh/release/bokeh-tables-0.12.13.min.css\");\n",
       "    }\n",
       "  ];\n",
       "\n",
       "  function run_inline_js() {\n",
       "    \n",
       "    if ((root.Bokeh !== undefined) || (force === true)) {\n",
       "      for (var i = 0; i < inline_js.length; i++) {\n",
       "        inline_js[i].call(root, root.Bokeh);\n",
       "      }if (force === true) {\n",
       "        display_loaded();\n",
       "      }} else if (Date.now() < root._bokeh_timeout) {\n",
       "      setTimeout(run_inline_js, 100);\n",
       "    } else if (!root._bokeh_failed_load) {\n",
       "      console.log(\"Bokeh: BokehJS failed to load within specified timeout.\");\n",
       "      root._bokeh_failed_load = true;\n",
       "    } else if (force !== true) {\n",
       "      var cell = $(document.getElementById(\"beb62b33-7f4e-462d-87fe-f3523babb058\")).parents('.cell').data().cell;\n",
       "      cell.output_area.append_execute_result(NB_LOAD_WARNING)\n",
       "    }\n",
       "\n",
       "  }\n",
       "\n",
       "  if (root._bokeh_is_loading === 0) {\n",
       "    console.log(\"Bokeh: BokehJS loaded, going straight to plotting\");\n",
       "    run_inline_js();\n",
       "  } else {\n",
       "    load_libs(js_urls, function() {\n",
       "      console.log(\"Bokeh: BokehJS plotting callback run at\", now());\n",
       "      run_inline_js();\n",
       "    });\n",
       "  }\n",
       "}(window));"
      ],
      "application/vnd.bokehjs_load.v0+json": "\n(function(root) {\n  function now() {\n    return new Date();\n  }\n\n  var force = true;\n\n  if (typeof (root._bokeh_onload_callbacks) === \"undefined\" || force === true) {\n    root._bokeh_onload_callbacks = [];\n    root._bokeh_is_loading = undefined;\n  }\n\n  \n\n  \n  if (typeof (root._bokeh_timeout) === \"undefined\" || force === true) {\n    root._bokeh_timeout = Date.now() + 5000;\n    root._bokeh_failed_load = false;\n  }\n\n  var NB_LOAD_WARNING = {'data': {'text/html':\n     \"<div style='background-color: #fdd'>\\n\"+\n     \"<p>\\n\"+\n     \"BokehJS does not appear to have successfully loaded. If loading BokehJS from CDN, this \\n\"+\n     \"may be due to a slow or bad network connection. Possible fixes:\\n\"+\n     \"</p>\\n\"+\n     \"<ul>\\n\"+\n     \"<li>re-rerun `output_notebook()` to attempt to load from CDN again, or</li>\\n\"+\n     \"<li>use INLINE resources instead, as so:</li>\\n\"+\n     \"</ul>\\n\"+\n     \"<code>\\n\"+\n     \"from bokeh.resources import INLINE\\n\"+\n     \"output_notebook(resources=INLINE)\\n\"+\n     \"</code>\\n\"+\n     \"</div>\"}};\n\n  function display_loaded() {\n    var el = document.getElementById(\"beb62b33-7f4e-462d-87fe-f3523babb058\");\n    if (el != null) {\n      el.textContent = \"BokehJS is loading...\";\n    }\n    if (root.Bokeh !== undefined) {\n      if (el != null) {\n        el.textContent = \"BokehJS \" + root.Bokeh.version + \" successfully loaded.\";\n      }\n    } else if (Date.now() < root._bokeh_timeout) {\n      setTimeout(display_loaded, 100)\n    }\n  }\n\n\n  function run_callbacks() {\n    try {\n      root._bokeh_onload_callbacks.forEach(function(callback) { callback() });\n    }\n    finally {\n      delete root._bokeh_onload_callbacks\n    }\n    console.info(\"Bokeh: all callbacks have finished\");\n  }\n\n  function load_libs(js_urls, callback) {\n    root._bokeh_onload_callbacks.push(callback);\n    if (root._bokeh_is_loading > 0) {\n      console.log(\"Bokeh: BokehJS is being loaded, scheduling callback at\", now());\n      return null;\n    }\n    if (js_urls == null || js_urls.length === 0) {\n      run_callbacks();\n      return null;\n    }\n    console.log(\"Bokeh: BokehJS not loaded, scheduling load and callback at\", now());\n    root._bokeh_is_loading = js_urls.length;\n    for (var i = 0; i < js_urls.length; i++) {\n      var url = js_urls[i];\n      var s = document.createElement('script');\n      s.src = url;\n      s.async = false;\n      s.onreadystatechange = s.onload = function() {\n        root._bokeh_is_loading--;\n        if (root._bokeh_is_loading === 0) {\n          console.log(\"Bokeh: all BokehJS libraries loaded\");\n          run_callbacks()\n        }\n      };\n      s.onerror = function() {\n        console.warn(\"failed to load library \" + url);\n      };\n      console.log(\"Bokeh: injecting script tag for BokehJS library: \", url);\n      document.getElementsByTagName(\"head\")[0].appendChild(s);\n    }\n  };var element = document.getElementById(\"beb62b33-7f4e-462d-87fe-f3523babb058\");\n  if (element == null) {\n    console.log(\"Bokeh: ERROR: autoload.js configured with elementid 'beb62b33-7f4e-462d-87fe-f3523babb058' but no matching script tag was found. \")\n    return false;\n  }\n\n  var js_urls = [\"https://cdn.pydata.org/bokeh/release/bokeh-0.12.13.min.js\", \"https://cdn.pydata.org/bokeh/release/bokeh-widgets-0.12.13.min.js\", \"https://cdn.pydata.org/bokeh/release/bokeh-tables-0.12.13.min.js\", \"https://cdn.pydata.org/bokeh/release/bokeh-gl-0.12.13.min.js\"];\n\n  var inline_js = [\n    function(Bokeh) {\n      Bokeh.set_log_level(\"info\");\n    },\n    \n    function(Bokeh) {\n      \n    },\n    function(Bokeh) {\n      console.log(\"Bokeh: injecting CSS: https://cdn.pydata.org/bokeh/release/bokeh-0.12.13.min.css\");\n      Bokeh.embed.inject_css(\"https://cdn.pydata.org/bokeh/release/bokeh-0.12.13.min.css\");\n      console.log(\"Bokeh: injecting CSS: https://cdn.pydata.org/bokeh/release/bokeh-widgets-0.12.13.min.css\");\n      Bokeh.embed.inject_css(\"https://cdn.pydata.org/bokeh/release/bokeh-widgets-0.12.13.min.css\");\n      console.log(\"Bokeh: injecting CSS: https://cdn.pydata.org/bokeh/release/bokeh-tables-0.12.13.min.css\");\n      Bokeh.embed.inject_css(\"https://cdn.pydata.org/bokeh/release/bokeh-tables-0.12.13.min.css\");\n    }\n  ];\n\n  function run_inline_js() {\n    \n    if ((root.Bokeh !== undefined) || (force === true)) {\n      for (var i = 0; i < inline_js.length; i++) {\n        inline_js[i].call(root, root.Bokeh);\n      }if (force === true) {\n        display_loaded();\n      }} else if (Date.now() < root._bokeh_timeout) {\n      setTimeout(run_inline_js, 100);\n    } else if (!root._bokeh_failed_load) {\n      console.log(\"Bokeh: BokehJS failed to load within specified timeout.\");\n      root._bokeh_failed_load = true;\n    } else if (force !== true) {\n      var cell = $(document.getElementById(\"beb62b33-7f4e-462d-87fe-f3523babb058\")).parents('.cell').data().cell;\n      cell.output_area.append_execute_result(NB_LOAD_WARNING)\n    }\n\n  }\n\n  if (root._bokeh_is_loading === 0) {\n    console.log(\"Bokeh: BokehJS loaded, going straight to plotting\");\n    run_inline_js();\n  } else {\n    load_libs(js_urls, function() {\n      console.log(\"Bokeh: BokehJS plotting callback run at\", now());\n      run_inline_js();\n    });\n  }\n}(window));"
     },
     "metadata": {},
     "output_type": "display_data"
    },
    {
     "data": {
      "text/html": [
       "\n",
       "<div class=\"bk-root\">\n",
       "    <div class=\"bk-plotdiv\" id=\"7fe15094-89e8-4a07-9fab-9e01a6ea4fc4\"></div>\n",
       "</div>"
      ]
     },
     "metadata": {},
     "output_type": "display_data"
    },
    {
     "data": {
      "application/javascript": [
       "(function(root) {\n",
       "  function embed_document(root) {\n",
       "    \n",
       "  var docs_json = {\"2ea5cc6a-f49a-4bd8-bd9e-92b2f6a28030\":{\"roots\":{\"references\":[{\"attributes\":{\"callback\":null,\"column_names\":[\"Review_Count\",\"Ratings\",\"Review_Count_Full\",\"Review_Count_Books\",\"Review_Count_Electronics\",\"Review_Count_Movies_and_TV\",\"Review_Count_CDs_and_Vinyl\",\"Review_Count_Clothing_Shoes_and_Jewelry\",\"Review_Count_Home_and_Kitchen\",\"Review_Count_Kindle_Store\",\"Review_Count_Sports_and_Outdoors\",\"Review_Count_Cell_Phones_and_Accessories\",\"Review_Count_Health_and_Personal_Care\",\"Review_Count_Toys_and_Games\",\"Review_Count_Video_Games\",\"Review_Count_Tools_and_Home_Improvement\",\"Review_Count_Beauty\",\"Review_Count_Apps_for_Android\",\"Review_Count_Office_Products\",\"Review_Count_Pet_Supplies\",\"Review_Count_Automotive\",\"Review_Count_Grocery_and_Gourmet_Food\",\"Review_Count_Patio_Lawn_and_Garden\",\"Review_Count_Baby\",\"Review_Count_Digital_Music\",\"Review_Count_Musical_Instruments\",\"Review_Count_Amazon_Instant_Video\"],\"data\":{\"Ratings\":{\"__ndarray__\":\"AAAAAAAA8D8AAAAAAAAAQAAAAAAAAAhAAAAAAAAAEEAAAAAAAAAUQA==\",\"dtype\":\"float64\",\"shape\":[5]},\"Review_Count\":{\"__ndarray__\":\"X1x7B4XItD/5AY9i32mqP+AmDu3L07U/aZHy4J73xz8eOwkz8AfjPw==\",\"dtype\":\"float64\",\"shape\":[5]},\"Review_Count_Amazon_Instant_Video\":{\"__ndarray__\":\"8bNvw3QgsD8ZZ4nCyJmkP5WadPx4ALI/Mhl/0oTSxT9xGTuHpP3kPw==\",\"dtype\":\"float64\",\"shape\":[5]},\"Review_Count_Apps_for_Android\":{\"__ndarray__\":\"WwM/v2+OvD9G0d59fPypP+hnMilXm7g/LGB19SFCyz94jbbddurgPw==\",\"dtype\":\"float64\",\"shape\":[5]},\"Review_Count_Automotive\":{\"__ndarray__\":\"mnxkm63Dtj/z8/OI9uSnP48/xjqHWrM/Bbfi2xh1xT97u7LFo+DjPw==\",\"dtype\":\"float64\",\"shape\":[5]},\"Review_Count_Baby\":{\"__ndarray__\":\"4HVBCu2DtT+A7/KMFoCvP+LWXK/1MLc/7dya7IEWxz81UNbEwaviPw==\",\"dtype\":\"float64\",\"shape\":[5]},\"Review_Count_Beauty\":{\"__ndarray__\":\"OqgIT49Btz/nO3ZbUpusP0txXxNEfLU/WIiKCYR4wz/79phrb8DjPw==\",\"dtype\":\"float64\",\"shape\":[5]},\"Review_Count_Books\":{\"__ndarray__\":\"n9zV2B9oqT9fiMuFtkKmPyGHrjCW3bU/9cDbX9Msyj+PKAn8ar7jPw==\",\"dtype\":\"float64\",\"shape\":[5]},\"Review_Count_CDs_and_Vinyl\":{\"__ndarray__\":\"MU/8l3jepT/oLA3RLhKiP515I8NhFbI/spIPoyz2xj9eFEcovoDlPw==\",\"dtype\":\"float64\",\"shape\":[5]},\"Review_Count_Cell_Phones_and_Accessories\":{\"__ndarray__\":\"8cwhEKGDwj8HbG9clAWzPyLTl6QEF7o/ZvwNFFx6xz+KS6Yt27nfPw==\",\"dtype\":\"float64\",\"shape\":[5]},\"Review_Count_Clothing_Shoes_and_Jewelry\":{\"__ndarray__\":\"st726j6osT9d0eIKroGvP6pmtbE8lrk/eWwomSjzyD8hL3KFS2PiPw==\",\"dtype\":\"float64\",\"shape\":[5]},\"Review_Count_Digital_Music\":{\"__ndarray__\":\"ehxqIaBdoj9O7N8HYi+YP91W3kUPUqk/3ac3bKzAwj9xjz7eXtPnPw==\",\"dtype\":\"float64\",\"shape\":[5]},\"Review_Count_Electronics\":{\"__ndarray__\":\"XwQ0GfiAvT8ssAfMFtytPzL4BAd4trQ/rTxeLEZOyD9A1iAEv8fhPw==\",\"dtype\":\"float64\",\"shape\":[5]},\"Review_Count_Full\":{\"__ndarray__\":\"X1x7B4XItD/5AY9i32mqP+AmDu3L07U/aZHy4J73xz8eOwkz8AfjPw==\",\"dtype\":\"float64\",\"shape\":[5]},\"Review_Count_Grocery_and_Gourmet_Food\":{\"__ndarray__\":\"2a+bX+gotD9fkwWpY5uoP4zva+irG7M/If3y4XKIwT+V8/GDmivlPw==\",\"dtype\":\"float64\",\"shape\":[5]},\"Review_Count_Health_and_Personal_Care\":{\"__ndarray__\":\"b1/8FxpYuT9ZAA2Xdf2sP47lYt/VvbQ/mf13cMIBxT/1R4UL+izjPw==\",\"dtype\":\"float64\",\"shape\":[5]},\"Review_Count_Home_and_Kitchen\":{\"__ndarray__\":\"c3+kSpQtuT9alvgb/CGtP0+zsfuExLQ/elFAdeBKxj/kmyX45NziPw==\",\"dtype\":\"float64\",\"shape\":[5]},\"Review_Count_Kindle_Store\":{\"__ndarray__\":\"EGZXNnyiqz+GTpYMiOCmP4pVy2c5grg/JH26kTb9zD+8GmnqOojiPw==\",\"dtype\":\"float64\",\"shape\":[5]},\"Review_Count_Movies_and_TV\":{\"__ndarray__\":\"A3jEsxHesj+sCPfKNuupPwW9lTWxFLc/n9gdIBPTxz+t0h1uLy7jPw==\",\"dtype\":\"float64\",\"shape\":[5]},\"Review_Count_Musical_Instruments\":{\"__ndarray__\":\"PUcJb93gsT+viS8vFienP4VdtCNYubM/kf18FcDgxz9pE1blF+LjPw==\",\"dtype\":\"float64\",\"shape\":[5]},\"Review_Count_Office_Products\":{\"__ndarray__\":\"qtgzQD45wD/lc7azOAKuPyMc7eIRarQ/Zuv5i7zexj85hFuFm8zhPw==\",\"dtype\":\"float64\",\"shape\":[5]},\"Review_Count_Patio_Lawn_and_Garden\":{\"__ndarray__\":\"3cv9k6TTvj9vcwVXT6CtP2K8bo8C2LQ/GN+yFLx2xj/7X/Ug1xLiPw==\",\"dtype\":\"float64\",\"shape\":[5]},\"Review_Count_Pet_Supplies\":{\"__ndarray__\":\"gKhYrmdnuD8ANh0tiNKuP8h38bYIu7U/EOTd618sxD+Tb411cUPjPw==\",\"dtype\":\"float64\",\"shape\":[5]},\"Review_Count_Sports_and_Outdoors\":{\"__ndarray__\":\"6Ww1mpVusz9lrMdqU3qqP3nXy+DLybU/sypxmEAhyT8BEtdz/ujiPw==\",\"dtype\":\"float64\",\"shape\":[5]},\"Review_Count_Tools_and_Home_Improvement\":{\"__ndarray__\":\"hHHWr7gKuD+IQMqEVnaqP95rTflpW7Q/recKnfkNxz9gJkzbVwjjPw==\",\"dtype\":\"float64\",\"shape\":[5]},\"Review_Count_Toys_and_Games\":{\"__ndarray__\":\"opXrAWrutT8ary12mVGqP0H/6Bz+CbY/IAALP+8sxz9q0v+UnRDjPw==\",\"dtype\":\"float64\",\"shape\":[5]},\"Review_Count_Video_Games\":{\"__ndarray__\":\"/nUGhgyJvT/Y0trsMPWtP8BMm8CgCLg/eAH5wZMlyT8d2t9XEiXhPw==\",\"dtype\":\"float64\",\"shape\":[5]}}},\"id\":\"c732697c-a2ae-4ee2-a5cf-6c468c59896d\",\"type\":\"ColumnDataSource\"},{\"attributes\":{\"callback\":null},\"id\":\"00b89b3f-317a-4af3-b863-0e0fc00e9a92\",\"type\":\"DataRange1d\"},{\"attributes\":{\"axis_label\":\"Proportion\",\"formatter\":{\"id\":\"00c87386-83ce-40e0-83a7-02ec9111edaf\",\"type\":\"BasicTickFormatter\"},\"plot\":{\"id\":\"8993824e-93ae-4d07-941e-58077171d43d\",\"subtype\":\"Figure\",\"type\":\"Plot\"},\"ticker\":{\"id\":\"4528bacd-5475-421c-84e8-53f1661cc367\",\"type\":\"BasicTicker\"}},\"id\":\"5d9f6a52-cf62-4f6a-9d6f-7973a9977f31\",\"type\":\"LinearAxis\"},{\"attributes\":{},\"id\":\"4544cd74-5558-4174-a101-ab87b9ccc246\",\"type\":\"LinearScale\"},{\"attributes\":{},\"id\":\"cf18c98f-e440-4776-9b95-8c03afd44a42\",\"type\":\"LinearScale\"},{\"attributes\":{\"callback\":null},\"id\":\"4a73ba72-db7d-48d7-b38b-27e7ceeada1b\",\"type\":\"Range1d\"},{\"attributes\":{\"background_fill_alpha\":{\"value\":0.4},\"background_fill_color\":{\"value\":\"LightGray\"},\"below\":[{\"id\":\"7e47ca2d-1249-47f7-92b5-88d0f7953fdb\",\"type\":\"LinearAxis\"}],\"left\":[{\"id\":\"5d9f6a52-cf62-4f6a-9d6f-7973a9977f31\",\"type\":\"LinearAxis\"}],\"plot_height\":300,\"plot_width\":400,\"renderers\":[{\"id\":\"7e47ca2d-1249-47f7-92b5-88d0f7953fdb\",\"type\":\"LinearAxis\"},{\"id\":\"5dc146d0-f2fe-4f2a-a690-e8ac3437ea23\",\"type\":\"Grid\"},{\"id\":\"5d9f6a52-cf62-4f6a-9d6f-7973a9977f31\",\"type\":\"LinearAxis\"},{\"id\":\"6a21c65c-bff4-4536-8720-06793219efbc\",\"type\":\"Grid\"},{\"id\":\"1aa7e03f-2fd8-49a3-abe1-e1e6d67c45c6\",\"type\":\"GlyphRenderer\"}],\"title\":{\"id\":\"0b3da477-ad88-4868-9faf-3ba4a6952b66\",\"type\":\"Title\"},\"toolbar\":{\"id\":\"04167203-4be8-4d01-bb23-056cef118f09\",\"type\":\"Toolbar\"},\"x_range\":{\"id\":\"00b89b3f-317a-4af3-b863-0e0fc00e9a92\",\"type\":\"DataRange1d\"},\"x_scale\":{\"id\":\"4544cd74-5558-4174-a101-ab87b9ccc246\",\"type\":\"LinearScale\"},\"y_range\":{\"id\":\"4a73ba72-db7d-48d7-b38b-27e7ceeada1b\",\"type\":\"Range1d\"},\"y_scale\":{\"id\":\"cf18c98f-e440-4776-9b95-8c03afd44a42\",\"type\":\"LinearScale\"}},\"id\":\"8993824e-93ae-4d07-941e-58077171d43d\",\"subtype\":\"Figure\",\"type\":\"Plot\"},{\"attributes\":{\"fill_alpha\":{\"value\":0.1},\"fill_color\":{\"value\":\"#1f77b4\"},\"line_alpha\":{\"value\":0.1},\"line_color\":{\"value\":\"#1f77b4\"},\"top\":{\"field\":\"Review_Count\"},\"width\":{\"value\":0.8},\"x\":{\"field\":\"Ratings\"}},\"id\":\"b90e1eca-0ff6-42f0-a8e6-0b31253decdd\",\"type\":\"VBar\"},{\"attributes\":{\"fill_alpha\":{\"value\":0.7},\"fill_color\":{\"value\":\"LightCoral\"},\"line_alpha\":{\"value\":0.7},\"line_color\":{\"value\":\"LightCoral\"},\"top\":{\"field\":\"Review_Count\"},\"width\":{\"value\":0.8},\"x\":{\"field\":\"Ratings\"}},\"id\":\"5042377b-d403-4933-b02e-313d2eee70c4\",\"type\":\"VBar\"},{\"attributes\":{\"grid_line_color\":{\"value\":\"White\"},\"plot\":{\"id\":\"8993824e-93ae-4d07-941e-58077171d43d\",\"subtype\":\"Figure\",\"type\":\"Plot\"},\"ticker\":{\"id\":\"6040b947-d892-4b42-808f-102b36d23c70\",\"type\":\"BasicTicker\"}},\"id\":\"5dc146d0-f2fe-4f2a-a690-e8ac3437ea23\",\"type\":\"Grid\"},{\"attributes\":{},\"id\":\"00c87386-83ce-40e0-83a7-02ec9111edaf\",\"type\":\"BasicTickFormatter\"},{\"attributes\":{\"axis_label\":\"Rating\",\"formatter\":{\"id\":\"7b9c74e8-5478-4578-951a-791d9c508cc3\",\"type\":\"BasicTickFormatter\"},\"plot\":{\"id\":\"8993824e-93ae-4d07-941e-58077171d43d\",\"subtype\":\"Figure\",\"type\":\"Plot\"},\"ticker\":{\"id\":\"6040b947-d892-4b42-808f-102b36d23c70\",\"type\":\"BasicTicker\"}},\"id\":\"7e47ca2d-1249-47f7-92b5-88d0f7953fdb\",\"type\":\"LinearAxis\"},{\"attributes\":{},\"id\":\"7b9c74e8-5478-4578-951a-791d9c508cc3\",\"type\":\"BasicTickFormatter\"},{\"attributes\":{\"plot\":null,\"text\":\"\"},\"id\":\"0b3da477-ad88-4868-9faf-3ba4a6952b66\",\"type\":\"Title\"},{\"attributes\":{},\"id\":\"6040b947-d892-4b42-808f-102b36d23c70\",\"type\":\"BasicTicker\"},{\"attributes\":{\"args\":{\"source\":{\"id\":\"c732697c-a2ae-4ee2-a5cf-6c468c59896d\",\"type\":\"ColumnDataSource\"}},\"code\":\"var _pyfunc_range = function (start, end, step) {\\nvar i, res = [];\\n    var val = start;\\n    var n = (end - start) / step;\\n    for (i=0; i<n; i++) {\\n        res.push(val);\\n        val += step;\\n    }\\n    return res;\\n};\\nvar cb;\\ncb = function (source, window) {\\n    var cat_y, data, f, i, stub1_, x, y;\\n    source = (source === undefined) ? source: source;\\n    window = (window === undefined) ? null: window;\\n    // Callback function which will be interpreted in javascript. This function is called each time\\n    // the category is change and update the data source accordingly\\n    data = source.data;\\n    f = cb_obj.value;\\n    stub1_ = [data[\\\"Ratings\\\"], data[\\\"Review_Count\\\"]];\\n    x = stub1_[0];y = stub1_[1];\\n    cat_y = \\\"Review_Count_\\\" + f;\\n    for (i = 0; i < x.length; i += 1) {\\n        y[i] = data[cat_y][i];\\n    }\\n    source.change.emit();\\n    return null;\\n};\\ncb(source, window);\\n\"},\"id\":\"e9a1cda9-4fd7-4237-861b-491dab52acab\",\"type\":\"CustomJS\"},{\"attributes\":{\"data_source\":{\"id\":\"c732697c-a2ae-4ee2-a5cf-6c468c59896d\",\"type\":\"ColumnDataSource\"},\"glyph\":{\"id\":\"5042377b-d403-4933-b02e-313d2eee70c4\",\"type\":\"VBar\"},\"hover_glyph\":null,\"muted_glyph\":null,\"nonselection_glyph\":{\"id\":\"b90e1eca-0ff6-42f0-a8e6-0b31253decdd\",\"type\":\"VBar\"},\"selection_glyph\":null,\"view\":{\"id\":\"f04323f9-0c31-4046-8431-722dd4c5c66c\",\"type\":\"CDSView\"}},\"id\":\"1aa7e03f-2fd8-49a3-abe1-e1e6d67c45c6\",\"type\":\"GlyphRenderer\"},{\"attributes\":{\"children\":[{\"id\":\"818315a1-fc99-4e17-89aa-f9deef6dc7d5\",\"type\":\"Select\"}]},\"id\":\"84d18eb8-478c-439f-aec7-0f4300c4cb03\",\"type\":\"WidgetBox\"},{\"attributes\":{\"dimension\":1,\"grid_line_color\":{\"value\":\"White\"},\"plot\":{\"id\":\"8993824e-93ae-4d07-941e-58077171d43d\",\"subtype\":\"Figure\",\"type\":\"Plot\"},\"ticker\":{\"id\":\"4528bacd-5475-421c-84e8-53f1661cc367\",\"type\":\"BasicTicker\"}},\"id\":\"6a21c65c-bff4-4536-8720-06793219efbc\",\"type\":\"Grid\"},{\"attributes\":{\"source\":{\"id\":\"c732697c-a2ae-4ee2-a5cf-6c468c59896d\",\"type\":\"ColumnDataSource\"}},\"id\":\"f04323f9-0c31-4046-8431-722dd4c5c66c\",\"type\":\"CDSView\"},{\"attributes\":{},\"id\":\"4528bacd-5475-421c-84e8-53f1661cc367\",\"type\":\"BasicTicker\"},{\"attributes\":{\"children\":[{\"id\":\"8993824e-93ae-4d07-941e-58077171d43d\",\"subtype\":\"Figure\",\"type\":\"Plot\"},{\"id\":\"84d18eb8-478c-439f-aec7-0f4300c4cb03\",\"type\":\"WidgetBox\"}]},\"id\":\"ecda03ed-1500-4f48-a9dd-83b931ba2ad8\",\"type\":\"Row\"},{\"attributes\":{\"callback\":null,\"js_property_callbacks\":{\"change:value\":[{\"id\":\"e9a1cda9-4fd7-4237-861b-491dab52acab\",\"type\":\"CustomJS\"}]},\"options\":[[\"Full\",\"All Categories\"],[\"Books\",\"Books\"],[\"Electronics\",\"Electronics\"],[\"Movies_and_TV\",\"Movies and TVs\"],[\"CDs_and_Vinyl\",\"CDs and Vinyl\"],[\"Clothing_Shoes_and_Jewelry\",\"Clothing Shoes and Jewelry\"],[\"Home_and_Kitchen\",\"Home and Kitchen\"],[\"Kindle_Store\",\"Kindle Store\"],[\"Sports_and_Outdoors\",\"Sports and Outdoors\"],[\"Cell_Phones_and_Accessories\",\"Cell Phones and Accessories\"],[\"Health_and_Personal_Care\",\"Health and Personal Care\"],[\"Toys_and_Games\",\"Toys and Games\"],[\"Video_Games\",\"Video Games\"],[\"Tools_and_Home_Improvement\",\"Tools and Home Improvement\"],[\"Beauty\",\"Beauty\"],[\"Apps_for_Android\",\"Apps for Android\"],[\"Office_Products\",\"Office Products\"],[\"Pet_Supplies\",\"Pet Supplies\"],[\"Automotive\",\"Automotive\"],[\"Grocery_and_Gourmet_Food\",\"Grocery and Gourmet Food\"],[\"Patio_Lawn_and_Garden\",\"Patio Lawn and Garden\"],[\"Baby\",\"Baby\"],[\"Digital_Music\",\"Digital Music\"],[\"Musical_Instruments\",\"Musical Instruments\"],[\"Amazon_Instant_Video\",\"Amazon Instant Video\"]],\"title\":\"Category\",\"value\":\"Full\"},\"id\":\"818315a1-fc99-4e17-89aa-f9deef6dc7d5\",\"type\":\"Select\"},{\"attributes\":{\"active_drag\":\"auto\",\"active_inspect\":\"auto\",\"active_scroll\":\"auto\",\"active_tap\":\"auto\"},\"id\":\"04167203-4be8-4d01-bb23-056cef118f09\",\"type\":\"Toolbar\"}],\"root_ids\":[\"ecda03ed-1500-4f48-a9dd-83b931ba2ad8\"]},\"title\":\"Bokeh Application\",\"version\":\"0.12.13\"}};\n",
       "  var render_items = [{\"docid\":\"2ea5cc6a-f49a-4bd8-bd9e-92b2f6a28030\",\"elementid\":\"7fe15094-89e8-4a07-9fab-9e01a6ea4fc4\",\"modelid\":\"ecda03ed-1500-4f48-a9dd-83b931ba2ad8\"}];\n",
       "  root.Bokeh.embed.embed_items_notebook(docs_json, render_items);\n",
       "\n",
       "  }\n",
       "  if (root.Bokeh !== undefined) {\n",
       "    embed_document(root);\n",
       "  } else {\n",
       "    var attempts = 0;\n",
       "    var timer = setInterval(function(root) {\n",
       "      if (root.Bokeh !== undefined) {\n",
       "        embed_document(root);\n",
       "        clearInterval(timer);\n",
       "      }\n",
       "      attempts++;\n",
       "      if (attempts > 100) {\n",
       "        console.log(\"Bokeh: ERROR: Unable to run BokehJS code because BokehJS library is missing\")\n",
       "        clearInterval(timer);\n",
       "      }\n",
       "    }, 10, root)\n",
       "  }\n",
       "})(window);"
      ],
      "application/vnd.bokehjs_exec.v0+json": ""
     },
     "metadata": {
      "application/vnd.bokehjs_exec.v0+json": {
       "id": "ecda03ed-1500-4f48-a9dd-83b931ba2ad8"
      }
     },
     "output_type": "display_data"
    }
   ],
   "source": [
    "# Uncomment the first line if you want to save the graph as an html file\n",
    "\n",
    "#output_file(\"Graph/BokehGraph_Review_per_Ratings.html\")\n",
    "output_notebook()\n",
    "\n",
    "# Load the dictionnary containing the dataframe for each category\n",
    "pkl_file = open('DataSets/Processed/RatingsCountDict.pkl', 'rb')\n",
    "ratings_count_dict = pickle.load(pkl_file)\n",
    "\n",
    "# Initialize the data for the graph by giving it the dataframe for all products regardless of category\n",
    "# Data is for plotting the distribution\n",
    "data = {'Review_Count' : ratings_count_dict['Full']['number_of_review'],\n",
    "       'Ratings' : ratings_count_dict['Full']['ratings'],\n",
    "       'Review_Count_Full' : ratings_count_dict['Full']['number_of_review']}\n",
    "\n",
    "# Fill the graph data source for each category\n",
    "for category in list_of_cat:\n",
    "    data['Review_Count_'+category] = ratings_count_dict[category]['count']\n",
    "    \n",
    "#Transform the data source into Bokeh data source\n",
    "source = ColumnDataSource(data)\n",
    "\n",
    "#Initialize the plot\n",
    "plot = Figure(plot_width=400, plot_height=300, x_axis_label = 'Rating', y_axis_label = 'Proportion'\n",
    "              ,y_range=[0, 1], tools = '')\n",
    "plot.background_fill_color = \"LightGray\"\n",
    "plot.background_fill_alpha = 0.4\n",
    "plot.grid.grid_line_width = 1\n",
    "plot.grid.grid_line_alpha = 1\n",
    "plot.grid.grid_line_color = 'White'\n",
    "\n",
    "#Initialize the ratings plot\n",
    "plot.vbar('Ratings',top = 'Review_Count',bottom=0,width = 0.8, source = source, color = 'LightCoral',alpha = 0.7)\n",
    "\n",
    "def callback1(source=source, window=None):\n",
    "    \"\"\"Callback function which will be interpreted in javascript. This function is called each time\n",
    "    the category is change and update the data source accordingly\"\"\"\n",
    "    #Load the Bokeh data sources\n",
    "    data = source.data\n",
    "    #Get the selected category\n",
    "    f = cb_obj.value\n",
    "    x, y = data['Ratings'], data['Review_Count']\n",
    "    cat_y = 'Review_Count_'+f\n",
    "    #Update the graph\n",
    "    for i in range(len(x)):\n",
    "        y[i] = data[cat_y][i]\n",
    "    #Broadcast the change\n",
    "    source.change.emit()\n",
    "    \n",
    "#Initialize the dropdown category selection widget\n",
    "category_select = Select(value='Full', title=\"Category\", options=categories_selection_list)\n",
    "category_select.js_on_change('value', CustomJS.from_py_func(callback1))\n",
    "\n",
    "#Create the widget and plot layout\n",
    "layout = row(plot,category_select)\n",
    "#Plot the graph\n",
    "show(layout)"
   ]
  },
  {
   "cell_type": "markdown",
   "metadata": {},
   "source": [
    "# Cleaning and analysis of the 5-core electronic data"
   ]
  },
  {
   "cell_type": "markdown",
   "metadata": {},
   "source": [
    "## What's in this section?"
   ]
  },
  {
   "cell_type": "markdown",
   "metadata": {},
   "source": [
    "In this section, we take a look at the review of products and its reviewer. More precisly we look in details at all the reviewers of a product and make analysis about what the reviewer reviewed before, what is its mean rating, mean length of its review in order to get more insight about the global rate of the product.  \n",
    "\n",
    "For now, we just take the 5-core electronics reviews of our dataset and we will change later for all the reviews. This is just for milestone 2 and to help us building a pipeline for our project."
   ]
  },
  {
   "cell_type": "code",
   "execution_count": 1,
   "metadata": {
    "collapsed": true
   },
   "outputs": [],
   "source": [
    "import pandas as pd\n",
    "import numpy as np\n",
    "np.random.seed(42)\n",
    "import ast\n",
    "import seaborn as sns\n",
    "import matplotlib\n",
    "import matplotlib.pyplot as plt"
   ]
  },
  {
   "cell_type": "markdown",
   "metadata": {},
   "source": [
    "We create functions that are saved in helpers_functions.py. We provided comments and descriptions about this functions in the file but we summarize here that: \n",
    "- Some functions helps us load the dataframe correctly. (cleaning part)\n",
    "- Some functions helps us enrich the dataset. (analysis part)\n",
    "- Some functions helps us vizualise the data and get more insight about what we had. (plot part)"
   ]
  },
  {
   "cell_type": "code",
   "execution_count": 2,
   "metadata": {
    "collapsed": true
   },
   "outputs": [],
   "source": [
    "from helpers_functions import *"
   ]
  },
  {
   "cell_type": "markdown",
   "metadata": {},
   "source": [
    "This part starts by reading and cleaning the data we got from the 5-core dataset provided. We decided to keep only the useful data and we change some columns in order to have it as we want. We dropped the time (UTC), the name of the reviewer, imageURL and the product description."
   ]
  },
  {
   "cell_type": "code",
   "execution_count": 3,
   "metadata": {
    "scrolled": true
   },
   "outputs": [
    {
     "data": {
      "text/html": [
       "<div>\n",
       "<table border=\"1\" class=\"dataframe\">\n",
       "  <thead>\n",
       "    <tr style=\"text-align: right;\">\n",
       "      <th></th>\n",
       "      <th></th>\n",
       "      <th>Product Title</th>\n",
       "      <th>Product Price</th>\n",
       "      <th>Brand</th>\n",
       "      <th>Categories</th>\n",
       "      <th>Review Summary</th>\n",
       "      <th>Review Rating</th>\n",
       "      <th>Review Text</th>\n",
       "      <th>Review Time</th>\n",
       "      <th>Helpfulness Votes</th>\n",
       "      <th>Sales Rank</th>\n",
       "      <th>Related Products</th>\n",
       "    </tr>\n",
       "    <tr>\n",
       "      <th>Reviewer ID</th>\n",
       "      <th>Product ID</th>\n",
       "      <th></th>\n",
       "      <th></th>\n",
       "      <th></th>\n",
       "      <th></th>\n",
       "      <th></th>\n",
       "      <th></th>\n",
       "      <th></th>\n",
       "      <th></th>\n",
       "      <th></th>\n",
       "      <th></th>\n",
       "      <th></th>\n",
       "    </tr>\n",
       "  </thead>\n",
       "  <tbody>\n",
       "    <tr>\n",
       "      <th>AO94DHGC771SJ</th>\n",
       "      <th>0528881469</th>\n",
       "      <td>Rand McNally 528881469 7-inch Intelliroute TND...</td>\n",
       "      <td>299.99</td>\n",
       "      <td>NaN</td>\n",
       "      <td>[[Electronics, GPS &amp; Navigation, Vehicle GPS, ...</td>\n",
       "      <td>Gotta have GPS!</td>\n",
       "      <td>5.0</td>\n",
       "      <td>We got this GPS for my husband who is an (OTR)...</td>\n",
       "      <td>1370131200</td>\n",
       "      <td>[0, 0]</td>\n",
       "      <td>{}</td>\n",
       "      <td>{'also_viewed': ['B006ZOI9OY', 'B00C7FKT2A', '...</td>\n",
       "    </tr>\n",
       "    <tr>\n",
       "      <th>AMO214LNFCEI4</th>\n",
       "      <th>0528881469</th>\n",
       "      <td>Rand McNally 528881469 7-inch Intelliroute TND...</td>\n",
       "      <td>299.99</td>\n",
       "      <td>NaN</td>\n",
       "      <td>[[Electronics, GPS &amp; Navigation, Vehicle GPS, ...</td>\n",
       "      <td>Very Disappointed</td>\n",
       "      <td>1.0</td>\n",
       "      <td>I'm a professional OTR truck driver, and I bou...</td>\n",
       "      <td>1290643200</td>\n",
       "      <td>[12, 15]</td>\n",
       "      <td>{}</td>\n",
       "      <td>{'also_viewed': ['B006ZOI9OY', 'B00C7FKT2A', '...</td>\n",
       "    </tr>\n",
       "    <tr>\n",
       "      <th>A3N7T0DY83Y4IG</th>\n",
       "      <th>0528881469</th>\n",
       "      <td>Rand McNally 528881469 7-inch Intelliroute TND...</td>\n",
       "      <td>299.99</td>\n",
       "      <td>NaN</td>\n",
       "      <td>[[Electronics, GPS &amp; Navigation, Vehicle GPS, ...</td>\n",
       "      <td>1st impression</td>\n",
       "      <td>3.0</td>\n",
       "      <td>Well, what can I say.  I've had this unit in m...</td>\n",
       "      <td>1283990400</td>\n",
       "      <td>[43, 45]</td>\n",
       "      <td>{}</td>\n",
       "      <td>{'also_viewed': ['B006ZOI9OY', 'B00C7FKT2A', '...</td>\n",
       "    </tr>\n",
       "    <tr>\n",
       "      <th>A1H8PY3QHMQQA0</th>\n",
       "      <th>0528881469</th>\n",
       "      <td>Rand McNally 528881469 7-inch Intelliroute TND...</td>\n",
       "      <td>299.99</td>\n",
       "      <td>NaN</td>\n",
       "      <td>[[Electronics, GPS &amp; Navigation, Vehicle GPS, ...</td>\n",
       "      <td>Great grafics, POOR GPS</td>\n",
       "      <td>2.0</td>\n",
       "      <td>Not going to write a long review, even thought...</td>\n",
       "      <td>1290556800</td>\n",
       "      <td>[9, 10]</td>\n",
       "      <td>{}</td>\n",
       "      <td>{'also_viewed': ['B006ZOI9OY', 'B00C7FKT2A', '...</td>\n",
       "    </tr>\n",
       "    <tr>\n",
       "      <th>A24EV6RXELQZ63</th>\n",
       "      <th>0528881469</th>\n",
       "      <td>Rand McNally 528881469 7-inch Intelliroute TND...</td>\n",
       "      <td>299.99</td>\n",
       "      <td>NaN</td>\n",
       "      <td>[[Electronics, GPS &amp; Navigation, Vehicle GPS, ...</td>\n",
       "      <td>Major issues, only excuses for support</td>\n",
       "      <td>1.0</td>\n",
       "      <td>I've had mine for a year and here's what we go...</td>\n",
       "      <td>1317254400</td>\n",
       "      <td>[0, 0]</td>\n",
       "      <td>{}</td>\n",
       "      <td>{'also_viewed': ['B006ZOI9OY', 'B00C7FKT2A', '...</td>\n",
       "    </tr>\n",
       "  </tbody>\n",
       "</table>\n",
       "</div>"
      ],
      "text/plain": [
       "                                                               Product Title  \\\n",
       "Reviewer ID    Product ID                                                      \n",
       "AO94DHGC771SJ  0528881469  Rand McNally 528881469 7-inch Intelliroute TND...   \n",
       "AMO214LNFCEI4  0528881469  Rand McNally 528881469 7-inch Intelliroute TND...   \n",
       "A3N7T0DY83Y4IG 0528881469  Rand McNally 528881469 7-inch Intelliroute TND...   \n",
       "A1H8PY3QHMQQA0 0528881469  Rand McNally 528881469 7-inch Intelliroute TND...   \n",
       "A24EV6RXELQZ63 0528881469  Rand McNally 528881469 7-inch Intelliroute TND...   \n",
       "\n",
       "                           Product Price Brand  \\\n",
       "Reviewer ID    Product ID                        \n",
       "AO94DHGC771SJ  0528881469         299.99   NaN   \n",
       "AMO214LNFCEI4  0528881469         299.99   NaN   \n",
       "A3N7T0DY83Y4IG 0528881469         299.99   NaN   \n",
       "A1H8PY3QHMQQA0 0528881469         299.99   NaN   \n",
       "A24EV6RXELQZ63 0528881469         299.99   NaN   \n",
       "\n",
       "                                                                  Categories  \\\n",
       "Reviewer ID    Product ID                                                      \n",
       "AO94DHGC771SJ  0528881469  [[Electronics, GPS & Navigation, Vehicle GPS, ...   \n",
       "AMO214LNFCEI4  0528881469  [[Electronics, GPS & Navigation, Vehicle GPS, ...   \n",
       "A3N7T0DY83Y4IG 0528881469  [[Electronics, GPS & Navigation, Vehicle GPS, ...   \n",
       "A1H8PY3QHMQQA0 0528881469  [[Electronics, GPS & Navigation, Vehicle GPS, ...   \n",
       "A24EV6RXELQZ63 0528881469  [[Electronics, GPS & Navigation, Vehicle GPS, ...   \n",
       "\n",
       "                                                   Review Summary  \\\n",
       "Reviewer ID    Product ID                                           \n",
       "AO94DHGC771SJ  0528881469                         Gotta have GPS!   \n",
       "AMO214LNFCEI4  0528881469                       Very Disappointed   \n",
       "A3N7T0DY83Y4IG 0528881469                          1st impression   \n",
       "A1H8PY3QHMQQA0 0528881469                 Great grafics, POOR GPS   \n",
       "A24EV6RXELQZ63 0528881469  Major issues, only excuses for support   \n",
       "\n",
       "                           Review Rating  \\\n",
       "Reviewer ID    Product ID                  \n",
       "AO94DHGC771SJ  0528881469            5.0   \n",
       "AMO214LNFCEI4  0528881469            1.0   \n",
       "A3N7T0DY83Y4IG 0528881469            3.0   \n",
       "A1H8PY3QHMQQA0 0528881469            2.0   \n",
       "A24EV6RXELQZ63 0528881469            1.0   \n",
       "\n",
       "                                                                 Review Text  \\\n",
       "Reviewer ID    Product ID                                                      \n",
       "AO94DHGC771SJ  0528881469  We got this GPS for my husband who is an (OTR)...   \n",
       "AMO214LNFCEI4  0528881469  I'm a professional OTR truck driver, and I bou...   \n",
       "A3N7T0DY83Y4IG 0528881469  Well, what can I say.  I've had this unit in m...   \n",
       "A1H8PY3QHMQQA0 0528881469  Not going to write a long review, even thought...   \n",
       "A24EV6RXELQZ63 0528881469  I've had mine for a year and here's what we go...   \n",
       "\n",
       "                           Review Time Helpfulness Votes Sales Rank  \\\n",
       "Reviewer ID    Product ID                                             \n",
       "AO94DHGC771SJ  0528881469   1370131200            [0, 0]         {}   \n",
       "AMO214LNFCEI4  0528881469   1290643200          [12, 15]         {}   \n",
       "A3N7T0DY83Y4IG 0528881469   1283990400          [43, 45]         {}   \n",
       "A1H8PY3QHMQQA0 0528881469   1290556800           [9, 10]         {}   \n",
       "A24EV6RXELQZ63 0528881469   1317254400            [0, 0]         {}   \n",
       "\n",
       "                                                            Related Products  \n",
       "Reviewer ID    Product ID                                                     \n",
       "AO94DHGC771SJ  0528881469  {'also_viewed': ['B006ZOI9OY', 'B00C7FKT2A', '...  \n",
       "AMO214LNFCEI4  0528881469  {'also_viewed': ['B006ZOI9OY', 'B00C7FKT2A', '...  \n",
       "A3N7T0DY83Y4IG 0528881469  {'also_viewed': ['B006ZOI9OY', 'B00C7FKT2A', '...  \n",
       "A1H8PY3QHMQQA0 0528881469  {'also_viewed': ['B006ZOI9OY', 'B00C7FKT2A', '...  \n",
       "A24EV6RXELQZ63 0528881469  {'also_viewed': ['B006ZOI9OY', 'B00C7FKT2A', '...  "
      ]
     },
     "execution_count": 3,
     "metadata": {},
     "output_type": "execute_result"
    }
   ],
   "source": [
    "#Load the dataframe.\n",
    "df = read_DataFrame_From_CSV()\n",
    "\n",
    "#Reset the index.\n",
    "df = df.reset_index()\n",
    "\n",
    "#We fill the na values of the Review Text column with a string 'None'.\n",
    "df['Review Text'] = df['Review Text'].fillna('None')\n",
    "\n",
    "#df.set_index(['Reviewer ID','Product ID'])\n",
    "df = df.set_index(['Reviewer ID','Product ID'])\n",
    "\n",
    "#Look at the head.\n",
    "df.head(2)"
   ]
  },
  {
   "cell_type": "code",
   "execution_count": 4,
   "metadata": {
    "collapsed": true
   },
   "outputs": [],
   "source": [
    "#We read the CSV where we computed the sentiments of the reviews\n",
    "sent = pd.read_csv('ElecSentimentOnly.csv',index_col = [1,0])\n",
    "\n",
    "#we merge the df we had and the sentiments\n",
    "df_s = pd.merge(df,sent,left_index=True,right_index=True)\n",
    "\n",
    "#we made some manipulations in order to have different\n",
    "#views of the dataframe\n",
    "df = df_s\n",
    "df_review = df.swaplevel(0,1) \n",
    "dft = df\n",
    "df = df_review\n",
    "df_review = dft"
   ]
  },
  {
   "cell_type": "markdown",
   "metadata": {},
   "source": [
    "Now that our dataframe is clean we can check what are the most reviewed article and what are the least reviewed."
   ]
  },
  {
   "cell_type": "code",
   "execution_count": 5,
   "metadata": {},
   "outputs": [
    {
     "data": {
      "text/plain": [
       "B007WTAJTO    4915\n",
       "B003ES5ZUU    4143\n",
       "B00DR0PDNE    3798\n",
       "B0019EHU8G    3435\n",
       "B002WE6D44    2813\n",
       "B003ELYQGG    2652\n",
       "B0002L5R78    2599\n",
       "B009SYZ8OC    2542\n",
       "B00BGGDVOO    2104\n",
       "B002V88HFE    2082\n",
       "Name: Product ID, dtype: int64"
      ]
     },
     "execution_count": 5,
     "metadata": {},
     "output_type": "execute_result"
    }
   ],
   "source": [
    "#Reset the index.\n",
    "articles = df.reset_index()\n",
    "\n",
    "#Set it as the product id.\n",
    "articles = articles['Product ID']\n",
    "\n",
    "#count all the values in the articles\n",
    "articles = articles.value_counts()\n",
    "\n",
    "#keep the 10 most reviewed article.\n",
    "most_reviewed = articles[:10]\n",
    "\n",
    "#keep the 10 least reviewed article.\n",
    "least_reviewed = articles[-10:]\n",
    "\n",
    "#have a look at the most reviewed\n",
    "most_reviewed"
   ]
  },
  {
   "cell_type": "code",
   "execution_count": 6,
   "metadata": {},
   "outputs": [
    {
     "data": {
      "text/plain": [
       "B004Y0H5LY    5\n",
       "B0049SVU8K    5\n",
       "B002ZDAEJ2    5\n",
       "B004ZCS0TW    5\n",
       "B004FLQRNO    5\n",
       "B004AGN0C0    5\n",
       "B000PB2OBW    5\n",
       "B004W26IVC    5\n",
       "B000233T80    5\n",
       "B00AQ4ER2W    5\n",
       "Name: Product ID, dtype: int64"
      ]
     },
     "execution_count": 6,
     "metadata": {},
     "output_type": "execute_result"
    }
   ],
   "source": [
    "#have a look at the least reviewed to take it as an example\n",
    "#for the rest of the notebook.\n",
    "least_reviewed"
   ]
  },
  {
   "cell_type": "markdown",
   "metadata": {},
   "source": [
    "We look at the data of a reviewer (of a certain product). It shows us the mean rate, the mean length of the reviews, the number of reviews as a dataframe."
   ]
  },
  {
   "cell_type": "code",
   "execution_count": 7,
   "metadata": {},
   "outputs": [
    {
     "data": {
      "text/html": [
       "<div>\n",
       "<table border=\"1\" class=\"dataframe\">\n",
       "  <thead>\n",
       "    <tr style=\"text-align: right;\">\n",
       "      <th></th>\n",
       "      <th>Reviewer</th>\n",
       "      <th>length curr_review</th>\n",
       "      <th>mean_rates</th>\n",
       "      <th>mean_review_length</th>\n",
       "      <th>number_reviews</th>\n",
       "      <th>rates</th>\n",
       "      <th>review(s)_length</th>\n",
       "      <th>Electronics</th>\n",
       "      <th>Portable Audio &amp; Video</th>\n",
       "      <th>MP3 Players &amp; Accessories</th>\n",
       "      <th>...</th>\n",
       "      <th>Audio &amp; Video Accessories</th>\n",
       "      <th>TV Accessories &amp; Parts</th>\n",
       "      <th>Rear Projection TV Replacement Lamps</th>\n",
       "      <th>Telephone Accessories</th>\n",
       "      <th>Batteries</th>\n",
       "      <th>Car &amp; Vehicle Electronics</th>\n",
       "      <th>Vehicle Electronics Accessories</th>\n",
       "      <th>Antennas</th>\n",
       "      <th>Computer Cable Adapters</th>\n",
       "      <th>Hard Drive Enclosures</th>\n",
       "    </tr>\n",
       "  </thead>\n",
       "  <tbody>\n",
       "    <tr>\n",
       "      <th>0</th>\n",
       "      <td>A33WCB5866XN09</td>\n",
       "      <td>29</td>\n",
       "      <td>4.9</td>\n",
       "      <td>44.5</td>\n",
       "      <td>10</td>\n",
       "      <td>[5.0, 4.0, 5.0, 5.0, 5.0, 5.0, 5.0, 5.0, 5.0, ...</td>\n",
       "      <td>[29, 35, 31, 33, 21, 124, 24, 27, 57, 64]</td>\n",
       "      <td>10</td>\n",
       "      <td>1</td>\n",
       "      <td>1</td>\n",
       "      <td>...</td>\n",
       "      <td>3</td>\n",
       "      <td>2</td>\n",
       "      <td>2</td>\n",
       "      <td>1</td>\n",
       "      <td>1</td>\n",
       "      <td>1</td>\n",
       "      <td>1</td>\n",
       "      <td>1</td>\n",
       "      <td>1</td>\n",
       "      <td>1</td>\n",
       "    </tr>\n",
       "  </tbody>\n",
       "</table>\n",
       "<p>1 rows × 29 columns</p>\n",
       "</div>"
      ],
      "text/plain": [
       "         Reviewer  length curr_review  mean_rates  mean_review_length  \\\n",
       "0  A33WCB5866XN09                  29         4.9                44.5   \n",
       "\n",
       "   number_reviews                                              rates  \\\n",
       "0              10  [5.0, 4.0, 5.0, 5.0, 5.0, 5.0, 5.0, 5.0, 5.0, ...   \n",
       "\n",
       "                            review(s)_length  Electronics  \\\n",
       "0  [29, 35, 31, 33, 21, 124, 24, 27, 57, 64]           10   \n",
       "\n",
       "   Portable Audio & Video  MP3 Players & Accessories          ...            \\\n",
       "0                       1                          1          ...             \n",
       "\n",
       "   Audio & Video Accessories  TV Accessories & Parts  \\\n",
       "0                          3                       2   \n",
       "\n",
       "   Rear Projection TV Replacement Lamps  Telephone Accessories  Batteries  \\\n",
       "0                                     2                      1          1   \n",
       "\n",
       "   Car & Vehicle Electronics  Vehicle Electronics Accessories  Antennas  \\\n",
       "0                          1                                1         1   \n",
       "\n",
       "   Computer Cable Adapters  Hard Drive Enclosures  \n",
       "0                        1                      1  \n",
       "\n",
       "[1 rows x 29 columns]"
      ]
     },
     "execution_count": 7,
     "metadata": {},
     "output_type": "execute_result"
    }
   ],
   "source": [
    "#Data about reviewer A33WCB5866XN09.\n",
    "#Function that computes statistics on the reviewer, it returns the mean rate, all the rates, the length and the mean \n",
    "#lengths of all reviews, the number of reviews and the categories of the item it purchases.\n",
    "stat_reviewer = statistics(dft,'A33WCB5866XN09')\n",
    "stat_reviewer"
   ]
  },
  {
   "cell_type": "markdown",
   "metadata": {},
   "source": [
    "We can do the same with a product and have the detailed data of all the reviewers of this product."
   ]
  },
  {
   "cell_type": "code",
   "execution_count": 8,
   "metadata": {
    "scrolled": true
   },
   "outputs": [
    {
     "data": {
      "text/html": [
       "<div>\n",
       "<table border=\"1\" class=\"dataframe\">\n",
       "  <thead>\n",
       "    <tr style=\"text-align: right;\">\n",
       "      <th></th>\n",
       "      <th>Reviewer</th>\n",
       "      <th>Rate reviewer</th>\n",
       "      <th>mean_rates</th>\n",
       "      <th>length curr_review</th>\n",
       "      <th>mean_review_length</th>\n",
       "      <th>number_reviews</th>\n",
       "      <th>rates</th>\n",
       "      <th>review(s)_length</th>\n",
       "      <th>Electronics</th>\n",
       "      <th>APS Cameras</th>\n",
       "      <th>...</th>\n",
       "      <th>USB Flash Drives</th>\n",
       "      <th>USB Network Adapters</th>\n",
       "      <th>USB Port Cards</th>\n",
       "      <th>Vehicle Electronics Accessories</th>\n",
       "      <th>Video Cables</th>\n",
       "      <th>Video Surveillance</th>\n",
       "      <th>Webcams</th>\n",
       "      <th>Wireless Access Points</th>\n",
       "      <th>Zip Discs</th>\n",
       "      <th>xD-Picture Cards</th>\n",
       "    </tr>\n",
       "  </thead>\n",
       "  <tbody>\n",
       "    <tr>\n",
       "      <th>0</th>\n",
       "      <td>A3E0PQ1LJAKWZ</td>\n",
       "      <td>2.0</td>\n",
       "      <td>2.818182</td>\n",
       "      <td>86</td>\n",
       "      <td>67.000000</td>\n",
       "      <td>11</td>\n",
       "      <td>[2.0, 1.0, 5.0, 5.0, 3.0, 2.0, 4.0, 1.0, 1.0, ...</td>\n",
       "      <td>[86, 48, 28, 77, 32, 164, 51, 22, 90, 108, 31]</td>\n",
       "      <td>11</td>\n",
       "      <td>0.0</td>\n",
       "      <td>...</td>\n",
       "      <td>0.0</td>\n",
       "      <td>0.0</td>\n",
       "      <td>1.0</td>\n",
       "      <td>0.0</td>\n",
       "      <td>1.0</td>\n",
       "      <td>0.0</td>\n",
       "      <td>0.0</td>\n",
       "      <td>0.0</td>\n",
       "      <td>0.0</td>\n",
       "      <td>0.0</td>\n",
       "    </tr>\n",
       "    <tr>\n",
       "      <th>1</th>\n",
       "      <td>A7IKOAH6M8WAC</td>\n",
       "      <td>5.0</td>\n",
       "      <td>4.285714</td>\n",
       "      <td>36</td>\n",
       "      <td>84.000000</td>\n",
       "      <td>14</td>\n",
       "      <td>[5.0, 5.0, 5.0, 5.0, 5.0, 5.0, 4.0, 5.0, 1.0, ...</td>\n",
       "      <td>[36, 29, 56, 66, 214, 28, 111, 28, 63, 117, 88...</td>\n",
       "      <td>14</td>\n",
       "      <td>0.0</td>\n",
       "      <td>...</td>\n",
       "      <td>1.0</td>\n",
       "      <td>0.0</td>\n",
       "      <td>0.0</td>\n",
       "      <td>1.0</td>\n",
       "      <td>0.0</td>\n",
       "      <td>0.0</td>\n",
       "      <td>0.0</td>\n",
       "      <td>1.0</td>\n",
       "      <td>0.0</td>\n",
       "      <td>0.0</td>\n",
       "    </tr>\n",
       "    <tr>\n",
       "      <th>2</th>\n",
       "      <td>A2HONG3KI05QIX</td>\n",
       "      <td>4.0</td>\n",
       "      <td>4.857143</td>\n",
       "      <td>51</td>\n",
       "      <td>146.714286</td>\n",
       "      <td>7</td>\n",
       "      <td>[5.0, 5.0, 4.0, 5.0, 5.0, 5.0, 5.0]</td>\n",
       "      <td>[51, 134, 274, 51, 102, 128, 287]</td>\n",
       "      <td>7</td>\n",
       "      <td>0.0</td>\n",
       "      <td>...</td>\n",
       "      <td>0.0</td>\n",
       "      <td>1.0</td>\n",
       "      <td>0.0</td>\n",
       "      <td>0.0</td>\n",
       "      <td>0.0</td>\n",
       "      <td>0.0</td>\n",
       "      <td>0.0</td>\n",
       "      <td>0.0</td>\n",
       "      <td>0.0</td>\n",
       "      <td>0.0</td>\n",
       "    </tr>\n",
       "    <tr>\n",
       "      <th>3</th>\n",
       "      <td>A231WM2Z2JL0U3</td>\n",
       "      <td>4.0</td>\n",
       "      <td>4.401235</td>\n",
       "      <td>69</td>\n",
       "      <td>158.839506</td>\n",
       "      <td>162</td>\n",
       "      <td>[4.0, 5.0, 5.0, 5.0, 5.0, 5.0, 3.0, 5.0, 5.0, ...</td>\n",
       "      <td>[69, 62, 66, 68, 86, 41, 227, 119, 67, 76, 48,...</td>\n",
       "      <td>162</td>\n",
       "      <td>1.0</td>\n",
       "      <td>...</td>\n",
       "      <td>3.0</td>\n",
       "      <td>4.0</td>\n",
       "      <td>0.0</td>\n",
       "      <td>1.0</td>\n",
       "      <td>1.0</td>\n",
       "      <td>1.0</td>\n",
       "      <td>2.0</td>\n",
       "      <td>1.0</td>\n",
       "      <td>1.0</td>\n",
       "      <td>1.0</td>\n",
       "    </tr>\n",
       "    <tr>\n",
       "      <th>4</th>\n",
       "      <td>AWW0JIUH84TIK</td>\n",
       "      <td>3.0</td>\n",
       "      <td>3.526316</td>\n",
       "      <td>171</td>\n",
       "      <td>251.368421</td>\n",
       "      <td>19</td>\n",
       "      <td>[3.0, 4.0, 4.0, 1.0, 4.0, 4.0, 1.0, 3.0, 5.0, ...</td>\n",
       "      <td>[171, 154, 138, 160, 267, 123, 184, 28, 137, 4...</td>\n",
       "      <td>18</td>\n",
       "      <td>0.0</td>\n",
       "      <td>...</td>\n",
       "      <td>0.0</td>\n",
       "      <td>0.0</td>\n",
       "      <td>0.0</td>\n",
       "      <td>0.0</td>\n",
       "      <td>0.0</td>\n",
       "      <td>0.0</td>\n",
       "      <td>0.0</td>\n",
       "      <td>0.0</td>\n",
       "      <td>0.0</td>\n",
       "      <td>0.0</td>\n",
       "    </tr>\n",
       "  </tbody>\n",
       "</table>\n",
       "<p>5 rows × 128 columns</p>\n",
       "</div>"
      ],
      "text/plain": [
       "         Reviewer  Rate reviewer  mean_rates  length curr_review  \\\n",
       "0   A3E0PQ1LJAKWZ            2.0    2.818182                  86   \n",
       "1   A7IKOAH6M8WAC            5.0    4.285714                  36   \n",
       "2  A2HONG3KI05QIX            4.0    4.857143                  51   \n",
       "3  A231WM2Z2JL0U3            4.0    4.401235                  69   \n",
       "4   AWW0JIUH84TIK            3.0    3.526316                 171   \n",
       "\n",
       "   mean_review_length  number_reviews  \\\n",
       "0           67.000000              11   \n",
       "1           84.000000              14   \n",
       "2          146.714286               7   \n",
       "3          158.839506             162   \n",
       "4          251.368421              19   \n",
       "\n",
       "                                               rates  \\\n",
       "0  [2.0, 1.0, 5.0, 5.0, 3.0, 2.0, 4.0, 1.0, 1.0, ...   \n",
       "1  [5.0, 5.0, 5.0, 5.0, 5.0, 5.0, 4.0, 5.0, 1.0, ...   \n",
       "2                [5.0, 5.0, 4.0, 5.0, 5.0, 5.0, 5.0]   \n",
       "3  [4.0, 5.0, 5.0, 5.0, 5.0, 5.0, 3.0, 5.0, 5.0, ...   \n",
       "4  [3.0, 4.0, 4.0, 1.0, 4.0, 4.0, 1.0, 3.0, 5.0, ...   \n",
       "\n",
       "                                    review(s)_length  Electronics  \\\n",
       "0     [86, 48, 28, 77, 32, 164, 51, 22, 90, 108, 31]           11   \n",
       "1  [36, 29, 56, 66, 214, 28, 111, 28, 63, 117, 88...           14   \n",
       "2                  [51, 134, 274, 51, 102, 128, 287]            7   \n",
       "3  [69, 62, 66, 68, 86, 41, 227, 119, 67, 76, 48,...          162   \n",
       "4  [171, 154, 138, 160, 267, 123, 184, 28, 137, 4...           18   \n",
       "\n",
       "   APS Cameras        ...         USB Flash Drives  USB Network Adapters  \\\n",
       "0          0.0        ...                      0.0                   0.0   \n",
       "1          0.0        ...                      1.0                   0.0   \n",
       "2          0.0        ...                      0.0                   1.0   \n",
       "3          1.0        ...                      3.0                   4.0   \n",
       "4          0.0        ...                      0.0                   0.0   \n",
       "\n",
       "   USB Port Cards  Vehicle Electronics Accessories  Video Cables  \\\n",
       "0             1.0                              0.0           1.0   \n",
       "1             0.0                              1.0           0.0   \n",
       "2             0.0                              0.0           0.0   \n",
       "3             0.0                              1.0           1.0   \n",
       "4             0.0                              0.0           0.0   \n",
       "\n",
       "   Video Surveillance  Webcams  Wireless Access Points  Zip Discs  \\\n",
       "0                 0.0      0.0                     0.0        0.0   \n",
       "1                 0.0      0.0                     1.0        0.0   \n",
       "2                 0.0      0.0                     0.0        0.0   \n",
       "3                 1.0      2.0                     1.0        1.0   \n",
       "4                 0.0      0.0                     0.0        0.0   \n",
       "\n",
       "   xD-Picture Cards  \n",
       "0               0.0  \n",
       "1               0.0  \n",
       "2               0.0  \n",
       "3               1.0  \n",
       "4               0.0  \n",
       "\n",
       "[5 rows x 128 columns]"
      ]
     },
     "execution_count": 8,
     "metadata": {},
     "output_type": "execute_result"
    }
   ],
   "source": [
    "#Data about product B00005NHAK.\n",
    "#Function that returns the statistics about all the reviewer of a product. \n",
    "#See helpers_functions.py for more details.\n",
    "stat_product = statistics_product(dft,'B00005NHAK')\n",
    "\n",
    "#look at the result.\n",
    "stat_product"
   ]
  },
  {
   "cell_type": "markdown",
   "metadata": {},
   "source": [
    "Let's vizualise some data."
   ]
  },
  {
   "cell_type": "code",
   "execution_count": 17,
   "metadata": {},
   "outputs": [
    {
     "data": {
      "image/png": "[encoded data removed]",
      "text/plain": [
       "<matplotlib.figure.Figure at 0x21e7c5fa160>"
      ]
     },
     "metadata": {},
     "output_type": "display_data"
    }
   ],
   "source": [
    "#Analyse the parity of the columns.\n",
    "#Function that plot the parity of the columns of interest of our review-dataframe.\n",
    "analyse_pair(stat_product)"
   ]
  },
  {
   "cell_type": "markdown",
   "metadata": {},
   "source": [
    "We focus on computing a new rate for a given product. In order to have some nice results, we beforehand get more insight about the product itself. We display some plots to help us to visualize what's going on."
   ]
  },
  {
   "cell_type": "code",
   "execution_count": 34,
   "metadata": {},
   "outputs": [
    {
     "data": {
      "image/png": "[encoded data removed]",
      "text/plain": [
       "<matplotlib.figure.Figure at 0x2a012cfcf98>"
      ]
     },
     "metadata": {},
     "output_type": "display_data"
    }
   ],
   "source": [
    "#other plots.\n",
    "#Function that plot some interesting plots\n",
    "analyse_ref(stat_product)"
   ]
  },
  {
   "cell_type": "code",
   "execution_count": 33,
   "metadata": {
    "collapsed": true
   },
   "outputs": [],
   "source": []
  },
  {
   "cell_type": "code",
   "execution_count": 19,
   "metadata": {},
   "outputs": [
    {
     "data": {
      "text/plain": [
       "Computers & Accessories          91.0\n",
       "Camera & Photo                   76.0\n",
       "Digital Cameras                  59.0\n",
       "Point & Shoot Digital Cameras    51.0\n",
       "Cables & Accessories             29.0\n",
       "Networking Products              21.0\n",
       "Portable Audio & Video           16.0\n",
       "Memory Cards                     15.0\n",
       "MP3 Players & Accessories        14.0\n",
       "Television & Video               14.0\n",
       "Routers                          13.0\n",
       "DVD Players & Recorders          10.0\n",
       "DVD Players                      10.0\n",
       "Accessories & Supplies            9.0\n",
       "CompactFlash Cards                8.0\n",
       "dtype: float64"
      ]
     },
     "execution_count": 19,
     "metadata": {},
     "output_type": "execute_result"
    }
   ],
   "source": [
    "cat = stat_product[stat_product.columns[9:]].sum(axis=0).sort_values()[::-1][:15]\n",
    "cat"
   ]
  },
  {
   "cell_type": "code",
   "execution_count": 20,
   "metadata": {},
   "outputs": [
    {
     "data": {
      "text/html": [
       "<div>\n",
       "<table border=\"1\" class=\"dataframe\">\n",
       "  <thead>\n",
       "    <tr style=\"text-align: right;\">\n",
       "      <th></th>\n",
       "      <th>length curr_review</th>\n",
       "      <th>Rate reviewer</th>\n",
       "    </tr>\n",
       "  </thead>\n",
       "  <tbody>\n",
       "    <tr>\n",
       "      <th>length curr_review</th>\n",
       "      <td>1.000000</td>\n",
       "      <td>-0.588072</td>\n",
       "    </tr>\n",
       "    <tr>\n",
       "      <th>Rate reviewer</th>\n",
       "      <td>-0.588072</td>\n",
       "      <td>1.000000</td>\n",
       "    </tr>\n",
       "  </tbody>\n",
       "</table>\n",
       "</div>"
      ],
      "text/plain": [
       "                    length curr_review  Rate reviewer\n",
       "length curr_review            1.000000      -0.588072\n",
       "Rate reviewer                -0.588072       1.000000"
      ]
     },
     "execution_count": 20,
     "metadata": {},
     "output_type": "execute_result"
    }
   ],
   "source": [
    "#Correlation between the length of the review and the rate.\n",
    "#Function that calculate the correlation between the length of the review and the rate of the review.\n",
    "corr = corr_len_rate(stat_product)\n",
    "corr"
   ]
  },
  {
   "cell_type": "markdown",
   "metadata": {},
   "source": [
    "# Sentiment analysis"
   ]
  },
  {
   "cell_type": "markdown",
   "metadata": {},
   "source": [
    "## What's in this section ?"
   ]
  },
  {
   "cell_type": "markdown",
   "metadata": {},
   "source": [
    "In this part, we work on the reviews of the product in the Electronics category, read from the 5-core data set. We want to analyze the sentiment that is given by the review : is it positive or negative ? How does it relate to the rating given by the reviewer ?\n",
    "\n",
    "To do this, we use the nltk python library, in particular the Vader module which can determine the sentiment of a text. The library provides a grade of the positiveness and negativeness of a text, and an average of the two : compound. We will use this last value for our analysis."
   ]
  },
  {
   "cell_type": "markdown",
   "metadata": {},
   "source": [
    "We start by importing the nltk library and the `Vader` module"
   ]
  },
  {
   "cell_type": "code",
   "execution_count": 33,
   "metadata": {
    "collapsed": true
   },
   "outputs": [],
   "source": [
    "import nltk.data\n",
    "\n",
    "from nltk.sentiment.vader import SentimentIntensityAnalyzer\n",
    "from nltk.stem.wordnet import WordNetLemmatizer"
   ]
  },
  {
   "cell_type": "code",
   "execution_count": 34,
   "metadata": {
    "collapsed": true
   },
   "outputs": [],
   "source": [
    "# We instantiate the sentiment analizer \n",
    "sid = SentimentIntensityAnalyzer()\n",
    "# lmtzr = WordNetLemmatizer()"
   ]
  },
  {
   "cell_type": "markdown",
   "metadata": {},
   "source": [
    "We wrap the computation of the nltk compound score of a text in a helper function."
   ]
  },
  {
   "cell_type": "code",
   "execution_count": 35,
   "metadata": {
    "collapsed": true
   },
   "outputs": [],
   "source": [
    "def overall_score(text):\n",
    "    \"\"\" Computes a unique value of sentiment positiveness for the input text \n",
    "        Returns: (positiveness_score - negativeness_score) * compound\n",
    "    \"\"\"\n",
    "    polarity_score = sid.polarity_scores(text)\n",
    "    return polarity_score['compound'] # (blob['pos'] - blob['neg']) * blob['compound']"
   ]
  },
  {
   "cell_type": "code",
   "execution_count": 36,
   "metadata": {
    "collapsed": true
   },
   "outputs": [],
   "source": [
    "text = 'marvelous and awful'"
   ]
  },
  {
   "cell_type": "code",
   "execution_count": 37,
   "metadata": {},
   "outputs": [
    {
     "data": {
      "text/plain": [
       "{'compound': 0.2263, 'neg': 0.38, 'neu': 0.127, 'pos': 0.494}"
      ]
     },
     "execution_count": 37,
     "metadata": {},
     "output_type": "execute_result"
    }
   ],
   "source": [
    "sid.polarity_scores(text)"
   ]
  },
  {
   "cell_type": "code",
   "execution_count": 38,
   "metadata": {},
   "outputs": [
    {
     "data": {
      "text/plain": [
       "0.2263"
      ]
     },
     "execution_count": 38,
     "metadata": {},
     "output_type": "execute_result"
    }
   ],
   "source": [
    "overall_score(text)"
   ]
  },
  {
   "cell_type": "markdown",
   "metadata": {},
   "source": [
    "We wish to see if the distribution of the sentiment is similar to the distribution of the ratings. To better compare the data, we will map the sentiment from \\[-1, 1\\] to the range of the ratings : \\[1,5\\]"
   ]
  },
  {
   "cell_type": "code",
   "execution_count": 39,
   "metadata": {
    "collapsed": true
   },
   "outputs": [],
   "source": [
    "def mapSentimentToRating(Sentiment):\n",
    "    \"\"\" Maps the sentiment rating of a review (real number between -1 and 1) to\n",
    "        a rating between 1 and 5. \"\"\"\n",
    "    # We use a linear mapping : for any number x in [-1, 1], we map the value\n",
    "    # (x - (-1)) * (5-1)/(1-(-1)) + 1\n",
    "    return (Sentiment+1)*2 +1"
   ]
  },
  {
   "cell_type": "markdown",
   "metadata": {},
   "source": [
    "We will first analyse the sentiment given by the summary (title) of the reviews, and then we will analyse the sentiment given by the texts of the reviews.\n",
    "\n",
    "We create a new column in the dataframe to store the sentiment of the summary of the reviews, and fill it with the values computed with nltk."
   ]
  },
  {
   "cell_type": "code",
   "execution_count": 40,
   "metadata": {},
   "outputs": [
    {
     "data": {
      "text/plain": [
       "count    1.689188e+06\n",
       "mean     2.877538e-01\n",
       "std      3.564592e-01\n",
       "min     -9.691000e-01\n",
       "25%      0.000000e+00\n",
       "50%      3.919000e-01\n",
       "75%      6.249000e-01\n",
       "max      9.911000e-01\n",
       "Name: Review Summary Sentiment, dtype: float64"
      ]
     },
     "execution_count": 40,
     "metadata": {},
     "output_type": "execute_result"
    }
   ],
   "source": [
    "Elec_Data = df\n",
    "\n",
    "Elec_Data['Review Summary Sentiment'] = np.NaN\n",
    "\n",
    "Elec_Data['Review Summary Sentiment'] = Elec_Data['Review Summary'].map(lambda r: overall_score(str(r)))\n",
    "\n",
    "Elec_Data['Review Summary Sentiment'].describe()"
   ]
  },
  {
   "cell_type": "markdown",
   "metadata": {},
   "source": [
    "We now map the sentiment to \\[1, 5\\] to compare them with the gradings"
   ]
  },
  {
   "cell_type": "code",
   "execution_count": 41,
   "metadata": {
    "collapsed": true
   },
   "outputs": [],
   "source": [
    "Elec_Data['Review Summary Sentiment'] = mapSentimentToRating(Elec_Data['Review Summary Sentiment'])"
   ]
  },
  {
   "cell_type": "code",
   "execution_count": 42,
   "metadata": {},
   "outputs": [
    {
     "data": {
      "text/plain": [
       "count    1.689188e+06\n",
       "mean     3.575508e+00\n",
       "std      7.129184e-01\n",
       "min      1.061800e+00\n",
       "25%      3.000000e+00\n",
       "50%      3.783800e+00\n",
       "75%      4.249800e+00\n",
       "max      4.982200e+00\n",
       "Name: Review Summary Sentiment, dtype: float64"
      ]
     },
     "execution_count": 42,
     "metadata": {},
     "output_type": "execute_result"
    }
   ],
   "source": [
    "Elec_Data['Review Summary Sentiment'].describe()"
   ]
  },
  {
   "cell_type": "markdown",
   "metadata": {},
   "source": [
    "We plot the distribution of the sentiment ratings"
   ]
  },
  {
   "cell_type": "code",
   "execution_count": 45,
   "metadata": {
    "scrolled": true
   },
   "outputs": [
    {
     "data": {
      "image/png": "[encoded data removed]",
      "text/plain": [
       "<matplotlib.figure.Figure at 0x94be651be0>"
      ]
     },
     "metadata": {},
     "output_type": "display_data"
    }
   ],
   "source": [
    "sns.distplot(Elec_Data['Review Summary Sentiment'], kde = False)\n",
    "plt.show()"
   ]
  },
  {
   "cell_type": "markdown",
   "metadata": {},
   "source": [
    "The distribution displays two peaks : a center at 3 which indicates a neutral feeling, and a pick between 3.5 and 4.5 which correspond to positive feelings. Most of the reviews feelings are thus neutral or positive."
   ]
  },
  {
   "cell_type": "markdown",
   "metadata": {},
   "source": [
    "We now compute the sentiment given by the full text of the reviews"
   ]
  },
  {
   "cell_type": "code",
   "execution_count": 46,
   "metadata": {
    "collapsed": true
   },
   "outputs": [],
   "source": [
    "Elec_Data['Review Sentiment'] = np.NaN"
   ]
  },
  {
   "cell_type": "code",
   "execution_count": 47,
   "metadata": {
    "collapsed": true
   },
   "outputs": [],
   "source": [
    "Elec_Data['Review Sentiment'] = Elec_Data['Review Text'].map(lambda r: overall_score(str(r)))"
   ]
  },
  {
   "cell_type": "code",
   "execution_count": 48,
   "metadata": {
    "scrolled": true
   },
   "outputs": [
    {
     "data": {
      "text/plain": [
       "count    1.689188e+06\n",
       "mean     5.611259e-01\n",
       "std      5.047354e-01\n",
       "min     -9.996000e-01\n",
       "25%      3.642000e-01\n",
       "50%      7.844000e-01\n",
       "75%      9.283000e-01\n",
       "max      1.000000e+00\n",
       "Name: Review Sentiment, dtype: float64"
      ]
     },
     "execution_count": 48,
     "metadata": {},
     "output_type": "execute_result"
    }
   ],
   "source": [
    "Elec_Data['Review Sentiment'].describe()"
   ]
  },
  {
   "cell_type": "markdown",
   "metadata": {},
   "source": [
    "We map the sentiment to the rating range :"
   ]
  },
  {
   "cell_type": "code",
   "execution_count": 49,
   "metadata": {
    "collapsed": true
   },
   "outputs": [],
   "source": [
    "Elec_Data['Review Sentiment'] = mapSentimentToRating(Elec_Data['Review Sentiment'])"
   ]
  },
  {
   "cell_type": "code",
   "execution_count": 50,
   "metadata": {},
   "outputs": [
    {
     "data": {
      "text/plain": [
       "count    1.689188e+06\n",
       "mean     4.122252e+00\n",
       "std      1.009471e+00\n",
       "min      1.000800e+00\n",
       "25%      3.728400e+00\n",
       "50%      4.568800e+00\n",
       "75%      4.856600e+00\n",
       "max      5.000000e+00\n",
       "Name: Review Sentiment, dtype: float64"
      ]
     },
     "execution_count": 50,
     "metadata": {},
     "output_type": "execute_result"
    }
   ],
   "source": [
    "Elec_Data['Review Sentiment'].describe()"
   ]
  },
  {
   "cell_type": "markdown",
   "metadata": {},
   "source": [
    "As we can see, most of the sentiment of the reviews are between 4 et 5, which is a very positive sentiment. There is also a pick at 3, which correspond to a neutral feeling."
   ]
  },
  {
   "cell_type": "code",
   "execution_count": 51,
   "metadata": {
    "scrolled": true
   },
   "outputs": [
    {
     "data": {
      "image/png": "[encoded data removed]",
      "text/plain": [
       "<matplotlib.figure.Figure at 0x94c29af208>"
      ]
     },
     "metadata": {},
     "output_type": "display_data"
    }
   ],
   "source": [
    "sns.distplot(Elec_Data['Review Sentiment'], kde = False)\n",
    "plt.show()"
   ]
  },
  {
   "cell_type": "markdown",
   "metadata": {},
   "source": [
    "We look at the distribution of the reviews sentiment per product:"
   ]
  },
  {
   "cell_type": "code",
   "execution_count": 58,
   "metadata": {},
   "outputs": [
    {
     "data": {
      "image/png": "[encoded data removed]",
      "text/plain": [
       "<matplotlib.figure.Figure at 0x9507c0efd0>"
      ]
     },
     "metadata": {},
     "output_type": "display_data"
    }
   ],
   "source": [
    "sns.distplot(Elec_Data.groupby(level=0)['Review Sentiment'].mean(), kde = False)\n",
    "plt.show()"
   ]
  },
  {
   "cell_type": "markdown",
   "metadata": {},
   "source": [
    "The distribution is very different. We can compare it to the distribution of ratings per product:"
   ]
  },
  {
   "cell_type": "code",
   "execution_count": 59,
   "metadata": {
    "scrolled": false
   },
   "outputs": [
    {
     "data": {
      "image/png": "[encoded data removed]",
      "text/plain": [
       "<matplotlib.figure.Figure at 0x9507c0ef98>"
      ]
     },
     "metadata": {},
     "output_type": "display_data"
    }
   ],
   "source": [
    "ax = sns.distplot(Elec_Data.groupby(level=0)['Review Rating'].mean(), kde = False)\n",
    "plt.show()"
   ]
  },
  {
   "cell_type": "markdown",
   "metadata": {},
   "source": [
    "## New Rating Computation\n",
    "The method to compute the new rating is described in the data story (link at the start of the notebook)"
   ]
  },
  {
   "cell_type": "markdown",
   "metadata": {},
   "source": [
    "We create some functions in order to compute the new ratings for our products."
   ]
  },
  {
   "cell_type": "code",
   "execution_count": 21,
   "metadata": {
    "collapsed": true
   },
   "outputs": [],
   "source": [
    "def mapDiffToMeanToGrade(Sentiment, mean_sentiment):\n",
    "    \"\"\" Maps the difference between the sentiment of a review and the mean sentiment of a reviewer to \n",
    "        [1, 5]\n",
    "    \"\"\"\n",
    "    \n",
    "    #return the results.\n",
    "    return (Sentiment-mean_sentiment + 4)*(4/8) +1"
   ]
  },
  {
   "cell_type": "code",
   "execution_count": 22,
   "metadata": {
    "collapsed": true
   },
   "outputs": [],
   "source": [
    "def new_review_rating(df, df_review, productID, reviewID, ws, wsp, wgp):\n",
    "    \"\"\" Computes a new rating of a review, with a component depending on the sentiment\n",
    "    \"\"\"\n",
    "    #we take the mean.\n",
    "    r_mean_ratings = np.mean(df_review.loc[reviewID,:]['Review Rating'])\n",
    "    #we extract the review rating column.\n",
    "    r_rating = df.loc[productID,reviewID]['Review Rating']\n",
    "    #we extract the review sentiment column.\n",
    "    r_sentiment = df.loc[productID,reviewID]['Review Sentiment']\n",
    "    #we compute the mean.\n",
    "    mean_sentiment = np.mean(df.loc[productID,:]['Review Sentiment'])\n",
    "    #we return the new rating.\n",
    "    return ws*wsp*r_sentiment, ws*(1-wsp)*mapDiffToMeanToGrade(r_sentiment,mean_sentiment), \\\n",
    "            (1-ws)*(1-wgp)*r_rating, (1-ws)*wgp*mapDiffToMeanToGrade(r_rating,r_mean_ratings)"
   ]
  },
  {
   "cell_type": "code",
   "execution_count": 23,
   "metadata": {
    "collapsed": true
   },
   "outputs": [],
   "source": [
    "def expertise(df_review, reviewerID, productCategory):\n",
    "    \"\"\" Compute the expertise grade of a reviewer in the category of product 'productCategory'\n",
    "    \"\"\"\n",
    "    #we use our get_category function we create.\n",
    "    reviewer_nb_reviews_in_category = get_category(df_review.loc[reviewerID,:])[productCategory]\n",
    "    #we return the expertise.\n",
    "    return np.round(1 + 3*np.log(reviewer_nb_reviews_in_category))"
   ]
  },
  {
   "cell_type": "code",
   "execution_count": 25,
   "metadata": {
    "collapsed": true
   },
   "outputs": [],
   "source": [
    "def new_Product_Rating(df, df_review, productID, we, ws, wsp, wgp):\n",
    "    \"\"\" Return the new rating of a product\n",
    "    \"\"\"\n",
    "    \n",
    "    #Extract the categories.\n",
    "    product_Category = df.loc[productID,:]['Categories']\n",
    "    #Creation of new lists.\n",
    "    new_ratings = []\n",
    "    r_expertise = []\n",
    "    mean_expertises = []\n",
    "   \n",
    "    #for every product ID.\n",
    "    for r in df.loc[productID,:].index:\n",
    "        #Append the new ratings.\n",
    "        new_ratings.append(new_review_rating(df, df_review, productID, r, ws, wsp, wgp))\n",
    "        #check the expertise for every categories.\n",
    "        r_expertise_for_category = [expertise(df_review, r, category) for category in get_category(df_review.loc[r,:])]\n",
    "        #computing the mean.\n",
    "        mean_expertises.append(np.mean(r_expertise_for_category))\n",
    "        #append in the list.\n",
    "        r_expertise.append(mean_expertises)\n",
    "   \n",
    "    #compute the rating of a product\n",
    "    ratings,expert = (1-we)*np.mean(new_ratings, axis=0), we*np.average(new_ratings, weights = mean_expertises, axis=0)\n",
    "    \n",
    "    #return the results.\n",
    "    return ratings[0], ratings[1], ratings[2], ratings[3], expert[0], expert[1], expert[2], expert[3]"
   ]
  },
  {
   "cell_type": "markdown",
   "metadata": {},
   "source": [
    "We check the expertise."
   ]
  },
  {
   "cell_type": "code",
   "execution_count": 24,
   "metadata": {},
   "outputs": [
    {
     "data": {
      "text/plain": [
       "8.0"
      ]
     },
     "execution_count": 24,
     "metadata": {},
     "output_type": "execute_result"
    }
   ],
   "source": [
    "expertise(df_review, 'A3N7T0DY83Y4IG','Electronics')"
   ]
  },
  {
   "cell_type": "markdown",
   "metadata": {},
   "source": [
    "We can now compute the new rates as explained in the data story."
   ]
  },
  {
   "cell_type": "code",
   "execution_count": 14,
   "metadata": {
    "collapsed": true,
    "scrolled": true
   },
   "outputs": [],
   "source": [
    "#We compute new ratings for these products.\n",
    "produit = ['B002WGAHYY','B000ML4QGG','B000BRX798','B00D2ZEJ3Y','B007BJC75E']\n",
    "tab_df = df.loc['0528881469',:]\n",
    "\n",
    "#we use slice in m differents values.\n",
    "m = 5\n",
    "#create the new weights.\n",
    "we =  np.linspace(0,1.0, m)\n",
    "ws =  np.linspace(0,1.0, m)\n",
    "wsp = np.linspace(0,1.0, m)\n",
    "wgp = np.linspace(0,1.0, m)\n",
    "\n",
    "#creathe the new lists.\n",
    "rating = np.empty(tab_df.index.shape[0])\n",
    "new_rating = np.empty([5,m,m,m,m,8])\n",
    "\n",
    "#for every product.\n",
    "for idx, prod in enumerate(produit):\n",
    "    #extract the product.\n",
    "    tab_df = df.loc[prod,:]\n",
    "    for i in range(len(we)):\n",
    "        for j in range(len(ws)):\n",
    "            for k in range(len(wsp)):\n",
    "                for l in range(len(wgp)):\n",
    "                    #calculate the new ratings.\n",
    "                    new_rating[idx,i,j,k,l][0], new_rating[idx,i,j,k,l][1], \\\n",
    "                    new_rating[idx,i,j,k,l][2], new_rating[idx,i,j,k,l][3], \\\n",
    "                    new_rating[idx,i,j,k,l][4], new_rating[idx,i,j,k,l][5], \\\n",
    "                    new_rating[idx,i,j,k,l][6], new_rating[idx,i,j,k,l][7] = \\\n",
    "                            new_Product_Rating(df, df_review, prod, we[i], ws[j], wsp[k], wgp[l])"
   ]
  },
  {
   "cell_type": "markdown",
   "metadata": {},
   "source": [
    "Finally, we save the results."
   ]
  },
  {
   "cell_type": "code",
   "execution_count": 48,
   "metadata": {
    "collapsed": true
   },
   "outputs": [],
   "source": [
    "#save the scores in a np.array.\n",
    "score = np.array(new_rating)\n",
    "#we flat the results.\n",
    "flat = score.flatten()\n",
    "#save it in our laptop\n",
    "np.savetxt('flatten.txt',flat)"
   ]
  },
  {
   "cell_type": "markdown",
   "metadata": {},
   "source": [
    "## Vizualisation of the new rating"
   ]
  },
  {
   "cell_type": "code",
   "execution_count": 15,
   "metadata": {
    "scrolled": true
   },
   "outputs": [
    {
     "data": {
      "text/html": [
       "\n",
       "    <div class=\"bk-root\">\n",
       "        <a href=\"https://bokeh.pydata.org\" target=\"_blank\" class=\"bk-logo bk-logo-small bk-logo-notebook\"></a>\n",
       "        <span id=\"f2491b05-ba76-43a1-822a-8f3c3f78326b\">Loading BokehJS ...</span>\n",
       "    </div>"
      ]
     },
     "metadata": {},
     "output_type": "display_data"
    },
    {
     "data": {
      "application/javascript": [
       "\n",
       "(function(root) {\n",
       "  function now() {\n",
       "    return new Date();\n",
       "  }\n",
       "\n",
       "  var force = true;\n",
       "\n",
       "  if (typeof (root._bokeh_onload_callbacks) === \"undefined\" || force === true) {\n",
       "    root._bokeh_onload_callbacks = [];\n",
       "    root._bokeh_is_loading = undefined;\n",
       "  }\n",
       "\n",
       "  var JS_MIME_TYPE = 'application/javascript';\n",
       "  var HTML_MIME_TYPE = 'text/html';\n",
       "  var EXEC_MIME_TYPE = 'application/vnd.bokehjs_exec.v0+json';\n",
       "  var CLASS_NAME = 'output_bokeh rendered_html';\n",
       "\n",
       "  /**\n",
       "   * Render data to the DOM node\n",
       "   */\n",
       "  function render(props, node) {\n",
       "    var script = document.createElement(\"script\");\n",
       "    node.appendChild(script);\n",
       "  }\n",
       "\n",
       "  /**\n",
       "   * Handle when an output is cleared or removed\n",
       "   */\n",
       "  function handleClearOutput(event, handle) {\n",
       "    var cell = handle.cell;\n",
       "\n",
       "    var id = cell.output_area._bokeh_element_id;\n",
       "    var server_id = cell.output_area._bokeh_server_id;\n",
       "    // Clean up Bokeh references\n",
       "    if (id !== undefined) {\n",
       "      Bokeh.index[id].model.document.clear();\n",
       "      delete Bokeh.index[id];\n",
       "    }\n",
       "\n",
       "    if (server_id !== undefined) {\n",
       "      // Clean up Bokeh references\n",
       "      var cmd = \"from bokeh.io.state import curstate; print(curstate().uuid_to_server['\" + server_id + \"'].get_sessions()[0].document.roots[0]._id)\";\n",
       "      cell.notebook.kernel.execute(cmd, {\n",
       "        iopub: {\n",
       "          output: function(msg) {\n",
       "            var element_id = msg.content.text.trim();\n",
       "            Bokeh.index[element_id].model.document.clear();\n",
       "            delete Bokeh.index[element_id];\n",
       "          }\n",
       "        }\n",
       "      });\n",
       "      // Destroy server and session\n",
       "      var cmd = \"import bokeh.io.notebook as ion; ion.destroy_server('\" + server_id + \"')\";\n",
       "      cell.notebook.kernel.execute(cmd);\n",
       "    }\n",
       "  }\n",
       "\n",
       "  /**\n",
       "   * Handle when a new output is added\n",
       "   */\n",
       "  function handleAddOutput(event, handle) {\n",
       "    var output_area = handle.output_area;\n",
       "    var output = handle.output;\n",
       "\n",
       "    // limit handleAddOutput to display_data with EXEC_MIME_TYPE content only\n",
       "    if ((output.output_type != \"display_data\") || (!output.data.hasOwnProperty(EXEC_MIME_TYPE))) {\n",
       "      return\n",
       "    }\n",
       "\n",
       "    var toinsert = output_area.element.find(\".\" + CLASS_NAME.split(' ')[0]);\n",
       "\n",
       "    if (output.metadata[EXEC_MIME_TYPE][\"id\"] !== undefined) {\n",
       "      toinsert[0].firstChild.textContent = output.data[JS_MIME_TYPE];\n",
       "      // store reference to embed id on output_area\n",
       "      output_area._bokeh_element_id = output.metadata[EXEC_MIME_TYPE][\"id\"];\n",
       "    }\n",
       "    if (output.metadata[EXEC_MIME_TYPE][\"server_id\"] !== undefined) {\n",
       "      var bk_div = document.createElement(\"div\");\n",
       "      bk_div.innerHTML = output.data[HTML_MIME_TYPE];\n",
       "      var script_attrs = bk_div.children[0].attributes;\n",
       "      for (var i = 0; i < script_attrs.length; i++) {\n",
       "        toinsert[0].firstChild.setAttribute(script_attrs[i].name, script_attrs[i].value);\n",
       "      }\n",
       "      // store reference to server id on output_area\n",
       "      output_area._bokeh_server_id = output.metadata[EXEC_MIME_TYPE][\"server_id\"];\n",
       "    }\n",
       "  }\n",
       "\n",
       "  function register_renderer(events, OutputArea) {\n",
       "\n",
       "    function append_mime(data, metadata, element) {\n",
       "      // create a DOM node to render to\n",
       "      var toinsert = this.create_output_subarea(\n",
       "        metadata,\n",
       "        CLASS_NAME,\n",
       "        EXEC_MIME_TYPE\n",
       "      );\n",
       "      this.keyboard_manager.register_events(toinsert);\n",
       "      // Render to node\n",
       "      var props = {data: data, metadata: metadata[EXEC_MIME_TYPE]};\n",
       "      render(props, toinsert[0]);\n",
       "      element.append(toinsert);\n",
       "      return toinsert\n",
       "    }\n",
       "\n",
       "    /* Handle when an output is cleared or removed */\n",
       "    events.on('clear_output.CodeCell', handleClearOutput);\n",
       "    events.on('delete.Cell', handleClearOutput);\n",
       "\n",
       "    /* Handle when a new output is added */\n",
       "    events.on('output_added.OutputArea', handleAddOutput);\n",
       "\n",
       "    /**\n",
       "     * Register the mime type and append_mime function with output_area\n",
       "     */\n",
       "    OutputArea.prototype.register_mime_type(EXEC_MIME_TYPE, append_mime, {\n",
       "      /* Is output safe? */\n",
       "      safe: true,\n",
       "      /* Index of renderer in `output_area.display_order` */\n",
       "      index: 0\n",
       "    });\n",
       "  }\n",
       "\n",
       "  // register the mime type if in Jupyter Notebook environment and previously unregistered\n",
       "  if (root.Jupyter !== undefined) {\n",
       "    var events = require('base/js/events');\n",
       "    var OutputArea = require('notebook/js/outputarea').OutputArea;\n",
       "\n",
       "    if (OutputArea.prototype.mime_types().indexOf(EXEC_MIME_TYPE) == -1) {\n",
       "      register_renderer(events, OutputArea);\n",
       "    }\n",
       "  }\n",
       "\n",
       "  \n",
       "  if (typeof (root._bokeh_timeout) === \"undefined\" || force === true) {\n",
       "    root._bokeh_timeout = Date.now() + 5000;\n",
       "    root._bokeh_failed_load = false;\n",
       "  }\n",
       "\n",
       "  var NB_LOAD_WARNING = {'data': {'text/html':\n",
       "     \"<div style='background-color: #fdd'>\\n\"+\n",
       "     \"<p>\\n\"+\n",
       "     \"BokehJS does not appear to have successfully loaded. If loading BokehJS from CDN, this \\n\"+\n",
       "     \"may be due to a slow or bad network connection. Possible fixes:\\n\"+\n",
       "     \"</p>\\n\"+\n",
       "     \"<ul>\\n\"+\n",
       "     \"<li>re-rerun `output_notebook()` to attempt to load from CDN again, or</li>\\n\"+\n",
       "     \"<li>use INLINE resources instead, as so:</li>\\n\"+\n",
       "     \"</ul>\\n\"+\n",
       "     \"<code>\\n\"+\n",
       "     \"from bokeh.resources import INLINE\\n\"+\n",
       "     \"output_notebook(resources=INLINE)\\n\"+\n",
       "     \"</code>\\n\"+\n",
       "     \"</div>\"}};\n",
       "\n",
       "  function display_loaded() {\n",
       "    var el = document.getElementById(\"f2491b05-ba76-43a1-822a-8f3c3f78326b\");\n",
       "    if (el != null) {\n",
       "      el.textContent = \"BokehJS is loading...\";\n",
       "    }\n",
       "    if (root.Bokeh !== undefined) {\n",
       "      if (el != null) {\n",
       "        el.textContent = \"BokehJS \" + root.Bokeh.version + \" successfully loaded.\";\n",
       "      }\n",
       "    } else if (Date.now() < root._bokeh_timeout) {\n",
       "      setTimeout(display_loaded, 100)\n",
       "    }\n",
       "  }\n",
       "\n",
       "\n",
       "  function run_callbacks() {\n",
       "    try {\n",
       "      root._bokeh_onload_callbacks.forEach(function(callback) { callback() });\n",
       "    }\n",
       "    finally {\n",
       "      delete root._bokeh_onload_callbacks\n",
       "    }\n",
       "    console.info(\"Bokeh: all callbacks have finished\");\n",
       "  }\n",
       "\n",
       "  function load_libs(js_urls, callback) {\n",
       "    root._bokeh_onload_callbacks.push(callback);\n",
       "    if (root._bokeh_is_loading > 0) {\n",
       "      console.log(\"Bokeh: BokehJS is being loaded, scheduling callback at\", now());\n",
       "      return null;\n",
       "    }\n",
       "    if (js_urls == null || js_urls.length === 0) {\n",
       "      run_callbacks();\n",
       "      return null;\n",
       "    }\n",
       "    console.log(\"Bokeh: BokehJS not loaded, scheduling load and callback at\", now());\n",
       "    root._bokeh_is_loading = js_urls.length;\n",
       "    for (var i = 0; i < js_urls.length; i++) {\n",
       "      var url = js_urls[i];\n",
       "      var s = document.createElement('script');\n",
       "      s.src = url;\n",
       "      s.async = false;\n",
       "      s.onreadystatechange = s.onload = function() {\n",
       "        root._bokeh_is_loading--;\n",
       "        if (root._bokeh_is_loading === 0) {\n",
       "          console.log(\"Bokeh: all BokehJS libraries loaded\");\n",
       "          run_callbacks()\n",
       "        }\n",
       "      };\n",
       "      s.onerror = function() {\n",
       "        console.warn(\"failed to load library \" + url);\n",
       "      };\n",
       "      console.log(\"Bokeh: injecting script tag for BokehJS library: \", url);\n",
       "      document.getElementsByTagName(\"head\")[0].appendChild(s);\n",
       "    }\n",
       "  };var element = document.getElementById(\"f2491b05-ba76-43a1-822a-8f3c3f78326b\");\n",
       "  if (element == null) {\n",
       "    console.log(\"Bokeh: ERROR: autoload.js configured with elementid 'f2491b05-ba76-43a1-822a-8f3c3f78326b' but no matching script tag was found. \")\n",
       "    return false;\n",
       "  }\n",
       "\n",
       "  var js_urls = [\"https://cdn.pydata.org/bokeh/release/bokeh-0.12.13.min.js\", \"https://cdn.pydata.org/bokeh/release/bokeh-widgets-0.12.13.min.js\", \"https://cdn.pydata.org/bokeh/release/bokeh-tables-0.12.13.min.js\", \"https://cdn.pydata.org/bokeh/release/bokeh-gl-0.12.13.min.js\"];\n",
       "\n",
       "  var inline_js = [\n",
       "    function(Bokeh) {\n",
       "      Bokeh.set_log_level(\"info\");\n",
       "    },\n",
       "    \n",
       "    function(Bokeh) {\n",
       "      \n",
       "    },\n",
       "    function(Bokeh) {\n",
       "      console.log(\"Bokeh: injecting CSS: https://cdn.pydata.org/bokeh/release/bokeh-0.12.13.min.css\");\n",
       "      Bokeh.embed.inject_css(\"https://cdn.pydata.org/bokeh/release/bokeh-0.12.13.min.css\");\n",
       "      console.log(\"Bokeh: injecting CSS: https://cdn.pydata.org/bokeh/release/bokeh-widgets-0.12.13.min.css\");\n",
       "      Bokeh.embed.inject_css(\"https://cdn.pydata.org/bokeh/release/bokeh-widgets-0.12.13.min.css\");\n",
       "      console.log(\"Bokeh: injecting CSS: https://cdn.pydata.org/bokeh/release/bokeh-tables-0.12.13.min.css\");\n",
       "      Bokeh.embed.inject_css(\"https://cdn.pydata.org/bokeh/release/bokeh-tables-0.12.13.min.css\");\n",
       "    }\n",
       "  ];\n",
       "\n",
       "  function run_inline_js() {\n",
       "    \n",
       "    if ((root.Bokeh !== undefined) || (force === true)) {\n",
       "      for (var i = 0; i < inline_js.length; i++) {\n",
       "        inline_js[i].call(root, root.Bokeh);\n",
       "      }if (force === true) {\n",
       "        display_loaded();\n",
       "      }} else if (Date.now() < root._bokeh_timeout) {\n",
       "      setTimeout(run_inline_js, 100);\n",
       "    } else if (!root._bokeh_failed_load) {\n",
       "      console.log(\"Bokeh: BokehJS failed to load within specified timeout.\");\n",
       "      root._bokeh_failed_load = true;\n",
       "    } else if (force !== true) {\n",
       "      var cell = $(document.getElementById(\"f2491b05-ba76-43a1-822a-8f3c3f78326b\")).parents('.cell').data().cell;\n",
       "      cell.output_area.append_execute_result(NB_LOAD_WARNING)\n",
       "    }\n",
       "\n",
       "  }\n",
       "\n",
       "  if (root._bokeh_is_loading === 0) {\n",
       "    console.log(\"Bokeh: BokehJS loaded, going straight to plotting\");\n",
       "    run_inline_js();\n",
       "  } else {\n",
       "    load_libs(js_urls, function() {\n",
       "      console.log(\"Bokeh: BokehJS plotting callback run at\", now());\n",
       "      run_inline_js();\n",
       "    });\n",
       "  }\n",
       "}(window));"
      ],
      "application/vnd.bokehjs_load.v0+json": "\n(function(root) {\n  function now() {\n    return new Date();\n  }\n\n  var force = true;\n\n  if (typeof (root._bokeh_onload_callbacks) === \"undefined\" || force === true) {\n    root._bokeh_onload_callbacks = [];\n    root._bokeh_is_loading = undefined;\n  }\n\n  \n\n  \n  if (typeof (root._bokeh_timeout) === \"undefined\" || force === true) {\n    root._bokeh_timeout = Date.now() + 5000;\n    root._bokeh_failed_load = false;\n  }\n\n  var NB_LOAD_WARNING = {'data': {'text/html':\n     \"<div style='background-color: #fdd'>\\n\"+\n     \"<p>\\n\"+\n     \"BokehJS does not appear to have successfully loaded. If loading BokehJS from CDN, this \\n\"+\n     \"may be due to a slow or bad network connection. Possible fixes:\\n\"+\n     \"</p>\\n\"+\n     \"<ul>\\n\"+\n     \"<li>re-rerun `output_notebook()` to attempt to load from CDN again, or</li>\\n\"+\n     \"<li>use INLINE resources instead, as so:</li>\\n\"+\n     \"</ul>\\n\"+\n     \"<code>\\n\"+\n     \"from bokeh.resources import INLINE\\n\"+\n     \"output_notebook(resources=INLINE)\\n\"+\n     \"</code>\\n\"+\n     \"</div>\"}};\n\n  function display_loaded() {\n    var el = document.getElementById(\"f2491b05-ba76-43a1-822a-8f3c3f78326b\");\n    if (el != null) {\n      el.textContent = \"BokehJS is loading...\";\n    }\n    if (root.Bokeh !== undefined) {\n      if (el != null) {\n        el.textContent = \"BokehJS \" + root.Bokeh.version + \" successfully loaded.\";\n      }\n    } else if (Date.now() < root._bokeh_timeout) {\n      setTimeout(display_loaded, 100)\n    }\n  }\n\n\n  function run_callbacks() {\n    try {\n      root._bokeh_onload_callbacks.forEach(function(callback) { callback() });\n    }\n    finally {\n      delete root._bokeh_onload_callbacks\n    }\n    console.info(\"Bokeh: all callbacks have finished\");\n  }\n\n  function load_libs(js_urls, callback) {\n    root._bokeh_onload_callbacks.push(callback);\n    if (root._bokeh_is_loading > 0) {\n      console.log(\"Bokeh: BokehJS is being loaded, scheduling callback at\", now());\n      return null;\n    }\n    if (js_urls == null || js_urls.length === 0) {\n      run_callbacks();\n      return null;\n    }\n    console.log(\"Bokeh: BokehJS not loaded, scheduling load and callback at\", now());\n    root._bokeh_is_loading = js_urls.length;\n    for (var i = 0; i < js_urls.length; i++) {\n      var url = js_urls[i];\n      var s = document.createElement('script');\n      s.src = url;\n      s.async = false;\n      s.onreadystatechange = s.onload = function() {\n        root._bokeh_is_loading--;\n        if (root._bokeh_is_loading === 0) {\n          console.log(\"Bokeh: all BokehJS libraries loaded\");\n          run_callbacks()\n        }\n      };\n      s.onerror = function() {\n        console.warn(\"failed to load library \" + url);\n      };\n      console.log(\"Bokeh: injecting script tag for BokehJS library: \", url);\n      document.getElementsByTagName(\"head\")[0].appendChild(s);\n    }\n  };var element = document.getElementById(\"f2491b05-ba76-43a1-822a-8f3c3f78326b\");\n  if (element == null) {\n    console.log(\"Bokeh: ERROR: autoload.js configured with elementid 'f2491b05-ba76-43a1-822a-8f3c3f78326b' but no matching script tag was found. \")\n    return false;\n  }\n\n  var js_urls = [\"https://cdn.pydata.org/bokeh/release/bokeh-0.12.13.min.js\", \"https://cdn.pydata.org/bokeh/release/bokeh-widgets-0.12.13.min.js\", \"https://cdn.pydata.org/bokeh/release/bokeh-tables-0.12.13.min.js\", \"https://cdn.pydata.org/bokeh/release/bokeh-gl-0.12.13.min.js\"];\n\n  var inline_js = [\n    function(Bokeh) {\n      Bokeh.set_log_level(\"info\");\n    },\n    \n    function(Bokeh) {\n      \n    },\n    function(Bokeh) {\n      console.log(\"Bokeh: injecting CSS: https://cdn.pydata.org/bokeh/release/bokeh-0.12.13.min.css\");\n      Bokeh.embed.inject_css(\"https://cdn.pydata.org/bokeh/release/bokeh-0.12.13.min.css\");\n      console.log(\"Bokeh: injecting CSS: https://cdn.pydata.org/bokeh/release/bokeh-widgets-0.12.13.min.css\");\n      Bokeh.embed.inject_css(\"https://cdn.pydata.org/bokeh/release/bokeh-widgets-0.12.13.min.css\");\n      console.log(\"Bokeh: injecting CSS: https://cdn.pydata.org/bokeh/release/bokeh-tables-0.12.13.min.css\");\n      Bokeh.embed.inject_css(\"https://cdn.pydata.org/bokeh/release/bokeh-tables-0.12.13.min.css\");\n    }\n  ];\n\n  function run_inline_js() {\n    \n    if ((root.Bokeh !== undefined) || (force === true)) {\n      for (var i = 0; i < inline_js.length; i++) {\n        inline_js[i].call(root, root.Bokeh);\n      }if (force === true) {\n        display_loaded();\n      }} else if (Date.now() < root._bokeh_timeout) {\n      setTimeout(run_inline_js, 100);\n    } else if (!root._bokeh_failed_load) {\n      console.log(\"Bokeh: BokehJS failed to load within specified timeout.\");\n      root._bokeh_failed_load = true;\n    } else if (force !== true) {\n      var cell = $(document.getElementById(\"f2491b05-ba76-43a1-822a-8f3c3f78326b\")).parents('.cell').data().cell;\n      cell.output_area.append_execute_result(NB_LOAD_WARNING)\n    }\n\n  }\n\n  if (root._bokeh_is_loading === 0) {\n    console.log(\"Bokeh: BokehJS loaded, going straight to plotting\");\n    run_inline_js();\n  } else {\n    load_libs(js_urls, function() {\n      console.log(\"Bokeh: BokehJS plotting callback run at\", now());\n      run_inline_js();\n    });\n  }\n}(window));"
     },
     "metadata": {},
     "output_type": "display_data"
    },
    {
     "data": {
      "text/html": [
       "\n",
       "<div class=\"bk-root\">\n",
       "    <div class=\"bk-plotdiv\" id=\"f19e2c6c-2557-42bd-bd32-b70dc49db250\"></div>\n",
       "</div>"
      ]
     },
     "metadata": {},
     "output_type": "display_data"
    },
    {
     "data": {
      "application/javascript": [
       "(function(root) {\n",
       "  function embed_document(root) {\n",
       "    \n",
       "  var docs_json = {\"476ce5e5-13cc-45b2-871b-2811963e105a\":{\"roots\":{\"references\":[{\"attributes\":{\"label\":{\"value\":\"Rating Value\"},\"renderers\":[{\"id\":\"4bc82fc4-81d9-43f4-b2fd-622fbda5257a\",\"type\":\"GlyphRenderer\"}]},\"id\":\"66daefe2-a4d2-43d9-b8fb-c50077690c7d\",\"type\":\"LegendItem\"},{\"attributes\":{},\"id\":\"f90e67e1-4249-4176-87f0-424ffadb65d6\",\"type\":\"BasicTickFormatter\"},{\"attributes\":{\"callback\":{\"id\":\"994caf46-eb8c-42a1-86b9-657470b23806\",\"type\":\"CustomJS\"},\"end\":1,\"start\":0,\"step\":0.25,\"title\":\"Weight Wsr\",\"value\":0},\"id\":\"5bf087da-22fb-4f2e-aeb0-59c125d03243\",\"type\":\"Slider\"},{\"attributes\":{\"args\":{\"review\":{\"id\":\"abbd3a02-855c-434b-a810-03a31fcf48d7\",\"type\":\"Select\"},\"source\":{\"id\":\"d711a545-0f1d-4f74-aabc-cde9dd4bfa88\",\"type\":\"ColumnDataSource\"},\"source2\":{\"id\":\"da0a56eb-4b38-421b-b428-9d458d27d3c4\",\"type\":\"ColumnDataSource\"},\"wb\":{\"id\":\"5bf087da-22fb-4f2e-aeb0-59c125d03243\",\"type\":\"Slider\"},\"we\":{\"id\":\"e6c05504-4163-4c5f-8392-b9bbc7c3257e\",\"type\":\"Slider\"},\"ws\":{\"id\":\"d1a5e648-c006-42e1-acec-1308b6cb59d6\",\"type\":\"Slider\"}},\"code\":\"\\n    var data = source.data;\\n    var data2 = source2.data;\\n    var review_name = parseInt(review.value);\\n    var ws_value = ws.value*4;\\n    var wb_value = wb.value*4;\\n    var we_value = we.value*4;\\n    new_rating_v = data['new_rating'];\\n    old_rating = data2['old_rating']\\n    y = data2['y']\\n    y[0] = old_rating[review_name];\\n    y[1] = old_rating[review_name];\\n    bar1 = data['bar1']\\n    bar2 = data['bar2']\\n    bar3 = data['bar3']\\n    bar4 = data['bar4']\\n    bar1[0] = new_rating_v[review_name][ws_value][wb_value][we_value][0];\\n    bar2[0] = new_rating_v[review_name][ws_value][wb_value][we_value][1]+bar1[0];\\n    bar3[0] = new_rating_v[review_name][ws_value][wb_value][we_value][2]+bar2[0];\\n    bar4[0] = new_rating_v[review_name][ws_value][wb_value][we_value][3]+bar3[0];\\n    source.change.emit();\\n    source2.change.emit();\\n\"},\"id\":\"994caf46-eb8c-42a1-86b9-657470b23806\",\"type\":\"CustomJS\"},{\"attributes\":{\"label\":{\"value\":\"Rating Mean\"},\"renderers\":[{\"id\":\"0ec7bb15-a6a0-46b4-8619-0350b37f9dd7\",\"type\":\"GlyphRenderer\"}]},\"id\":\"37481de9-51cb-45eb-b4de-4caccdb065f6\",\"type\":\"LegendItem\"},{\"attributes\":{\"label\":{\"value\":\"New Rating\"},\"renderers\":[{\"id\":\"0ec7bb15-a6a0-46b4-8619-0350b37f9dd7\",\"type\":\"GlyphRenderer\"}]},\"id\":\"5e505791-be76-4a54-a4b6-768ff69cf50a\",\"type\":\"LegendItem\"},{\"attributes\":{\"label\":{\"value\":\"Original Rating\"},\"renderers\":[{\"id\":\"15b5a2ea-7d5f-4013-98ad-60613b2263d4\",\"type\":\"GlyphRenderer\"}]},\"id\":\"1620e639-8615-4f69-96a9-50eb69e5ba7c\",\"type\":\"LegendItem\"},{\"attributes\":{\"items\":[{\"id\":\"5e505791-be76-4a54-a4b6-768ff69cf50a\",\"type\":\"LegendItem\"},{\"id\":\"0943ebfb-f80f-4d2a-83a2-98e31b5e46e3\",\"type\":\"LegendItem\"},{\"id\":\"efd15dba-0872-41fe-9639-473808c7b642\",\"type\":\"LegendItem\"},{\"id\":\"a39bfe5d-2805-47f9-aed8-d69d1a4e1c06\",\"type\":\"LegendItem\"},{\"id\":\"85694d45-f740-4207-8204-7cf67c567e7a\",\"type\":\"LegendItem\"}],\"plot\":{\"id\":\"135f9670-cefc-406b-a8d2-7029f37e0ef6\",\"subtype\":\"Figure\",\"type\":\"Plot\"},\"visible\":false},\"id\":\"ff50aabe-5e3b-42fd-8d85-093d03c07773\",\"type\":\"Legend\"},{\"attributes\":{\"bottom\":{\"field\":\"bar1\"},\"fill_color\":{\"value\":\"LightCoral\"},\"line_color\":{\"value\":\"LightCoral\"},\"top\":{\"field\":\"bar2\"},\"width\":{\"value\":0.5},\"x\":{\"field\":\"x\"}},\"id\":\"f476561b-c81b-48b2-b1ea-3e0ac492dbfc\",\"type\":\"VBar\"},{\"attributes\":{\"data_source\":{\"id\":\"d711a545-0f1d-4f74-aabc-cde9dd4bfa88\",\"type\":\"ColumnDataSource\"},\"glyph\":{\"id\":\"f476561b-c81b-48b2-b1ea-3e0ac492dbfc\",\"type\":\"VBar\"},\"hover_glyph\":null,\"muted_glyph\":null,\"nonselection_glyph\":{\"id\":\"41f91789-76db-4ee0-a225-236ffff39fa5\",\"type\":\"VBar\"},\"selection_glyph\":null,\"view\":{\"id\":\"be221fea-34b8-4295-b817-c12c1f93b3fc\",\"type\":\"CDSView\"}},\"id\":\"4bc82fc4-81d9-43f4-b2fd-622fbda5257a\",\"type\":\"GlyphRenderer\"},{\"attributes\":{\"bottom\":{\"field\":\"bar2\"},\"fill_color\":{\"value\":\"LightSkyBlue\"},\"line_color\":{\"value\":\"LightSkyBlue\"},\"top\":{\"field\":\"bar3\"},\"width\":{\"value\":0.5},\"x\":{\"field\":\"x\"}},\"id\":\"bf19f160-368d-4f0c-bef9-5736366a0ebd\",\"type\":\"VBar\"},{\"attributes\":{\"bottom\":{\"field\":\"bar1\"},\"fill_alpha\":{\"value\":0.1},\"fill_color\":{\"value\":\"#1f77b4\"},\"line_alpha\":{\"value\":0.1},\"line_color\":{\"value\":\"#1f77b4\"},\"top\":{\"field\":\"bar2\"},\"width\":{\"value\":0.5},\"x\":{\"field\":\"x\"}},\"id\":\"41f91789-76db-4ee0-a225-236ffff39fa5\",\"type\":\"VBar\"},{\"attributes\":{\"source\":{\"id\":\"d711a545-0f1d-4f74-aabc-cde9dd4bfa88\",\"type\":\"ColumnDataSource\"}},\"id\":\"be221fea-34b8-4295-b817-c12c1f93b3fc\",\"type\":\"CDSView\"},{\"attributes\":{\"label\":{\"value\":\"Sentiment\"},\"renderers\":[{\"id\":\"4bc82fc4-81d9-43f4-b2fd-622fbda5257a\",\"type\":\"GlyphRenderer\"}]},\"id\":\"0943ebfb-f80f-4d2a-83a2-98e31b5e46e3\",\"type\":\"LegendItem\"},{\"attributes\":{},\"id\":\"605d2737-3626-4421-be2e-c09ffec18a8e\",\"type\":\"BasicTickFormatter\"},{\"attributes\":{\"bottom\":{\"field\":\"bar3\"},\"fill_color\":{\"value\":\"LimeGreen\"},\"line_color\":{\"value\":\"LimeGreen\"},\"top\":{\"field\":\"bar4\"},\"width\":{\"value\":0.5},\"x\":{\"field\":\"x\"}},\"id\":\"2f3050f8-5b6b-484e-8fc8-c84569402aeb\",\"type\":\"VBar\"},{\"attributes\":{\"bottom\":{\"field\":\"bar2\"},\"fill_alpha\":{\"value\":0.1},\"fill_color\":{\"value\":\"#1f77b4\"},\"line_alpha\":{\"value\":0.1},\"line_color\":{\"value\":\"#1f77b4\"},\"top\":{\"field\":\"bar3\"},\"width\":{\"value\":0.5},\"x\":{\"field\":\"x\"}},\"id\":\"18560ca5-d07a-45ac-885f-3a7e7fd000d5\",\"type\":\"VBar\"},{\"attributes\":{\"data_source\":{\"id\":\"d711a545-0f1d-4f74-aabc-cde9dd4bfa88\",\"type\":\"ColumnDataSource\"},\"glyph\":{\"id\":\"bf19f160-368d-4f0c-bef9-5736366a0ebd\",\"type\":\"VBar\"},\"hover_glyph\":null,\"muted_glyph\":null,\"nonselection_glyph\":{\"id\":\"18560ca5-d07a-45ac-885f-3a7e7fd000d5\",\"type\":\"VBar\"},\"selection_glyph\":null,\"view\":{\"id\":\"afb21cfc-fb7e-411c-a0f4-0a44734e4d8b\",\"type\":\"CDSView\"}},\"id\":\"a3203962-2218-4588-a2d9-8d3700979b8d\",\"type\":\"GlyphRenderer\"},{\"attributes\":{\"source\":{\"id\":\"d711a545-0f1d-4f74-aabc-cde9dd4bfa88\",\"type\":\"ColumnDataSource\"}},\"id\":\"afb21cfc-fb7e-411c-a0f4-0a44734e4d8b\",\"type\":\"CDSView\"},{\"attributes\":{\"background_fill_alpha\":{\"value\":0.4},\"background_fill_color\":{\"value\":\"LightGray\"},\"below\":[{\"id\":\"296b5b13-21fd-44e6-a0aa-845b29df63de\",\"type\":\"LinearAxis\"}],\"left\":[{\"id\":\"a615d73c-ebe6-43b3-b960-a1e375df0d20\",\"type\":\"LinearAxis\"}],\"plot_height\":250,\"plot_width\":300,\"renderers\":[{\"id\":\"296b5b13-21fd-44e6-a0aa-845b29df63de\",\"type\":\"LinearAxis\"},{\"id\":\"153ea0d4-051c-45ac-93b9-f23a00957325\",\"type\":\"Grid\"},{\"id\":\"a615d73c-ebe6-43b3-b960-a1e375df0d20\",\"type\":\"LinearAxis\"},{\"id\":\"8fd52d76-e200-48e6-b402-49e9f9cf9c98\",\"type\":\"Grid\"},{\"id\":\"ff50aabe-5e3b-42fd-8d85-093d03c07773\",\"type\":\"Legend\"},{\"id\":\"0ec7bb15-a6a0-46b4-8619-0350b37f9dd7\",\"type\":\"GlyphRenderer\"},{\"id\":\"4bc82fc4-81d9-43f4-b2fd-622fbda5257a\",\"type\":\"GlyphRenderer\"},{\"id\":\"a3203962-2218-4588-a2d9-8d3700979b8d\",\"type\":\"GlyphRenderer\"},{\"id\":\"ce3268e4-f501-45c7-8d74-2ef7aa773bb3\",\"type\":\"GlyphRenderer\"},{\"id\":\"15b5a2ea-7d5f-4013-98ad-60613b2263d4\",\"type\":\"GlyphRenderer\"},{\"id\":\"9371579f-6c14-4d6a-bbf9-cb18d7a0effa\",\"type\":\"Legend\"}],\"right\":[{\"id\":\"9371579f-6c14-4d6a-bbf9-cb18d7a0effa\",\"type\":\"Legend\"}],\"title\":{\"id\":\"fd8d97b8-082d-4538-975b-ddf814b8135a\",\"type\":\"Title\"},\"toolbar\":{\"id\":\"321ccba3-b25b-4706-b6a0-706ed89a4a91\",\"type\":\"Toolbar\"},\"x_range\":{\"id\":\"293324f3-a9e9-442b-90a2-648d8a9abf65\",\"type\":\"Range1d\"},\"x_scale\":{\"id\":\"8c8519f2-68ba-407d-9992-01a3ca9adc93\",\"type\":\"LinearScale\"},\"y_range\":{\"id\":\"745a9051-9f76-4043-bc44-1803fd1f46e7\",\"type\":\"Range1d\"},\"y_scale\":{\"id\":\"0815328c-a3c5-492f-8ab5-3a87f2f23904\",\"type\":\"LinearScale\"}},\"id\":\"135f9670-cefc-406b-a8d2-7029f37e0ef6\",\"subtype\":\"Figure\",\"type\":\"Plot\"},{\"attributes\":{\"callback\":{\"id\":\"994caf46-eb8c-42a1-86b9-657470b23806\",\"type\":\"CustomJS\"},\"end\":1,\"start\":0,\"step\":0.25,\"title\":\"Weight Wgr\",\"value\":0},\"id\":\"e6c05504-4163-4c5f-8392-b9bbc7c3257e\",\"type\":\"Slider\"},{\"attributes\":{\"label\":{\"value\":\"Sentiment 2\"},\"renderers\":[{\"id\":\"a3203962-2218-4588-a2d9-8d3700979b8d\",\"type\":\"GlyphRenderer\"}]},\"id\":\"efd15dba-0872-41fe-9639-473808c7b642\",\"type\":\"LegendItem\"},{\"attributes\":{\"callback\":null,\"end\":0.5,\"start\":-0.5},\"id\":\"293324f3-a9e9-442b-90a2-648d8a9abf65\",\"type\":\"Range1d\"},{\"attributes\":{\"children\":[{\"id\":\"abbd3a02-855c-434b-a810-03a31fcf48d7\",\"type\":\"Select\"},{\"id\":\"d1a5e648-c006-42e1-acec-1308b6cb59d6\",\"type\":\"Slider\"},{\"id\":\"5bf087da-22fb-4f2e-aeb0-59c125d03243\",\"type\":\"Slider\"},{\"id\":\"e6c05504-4163-4c5f-8392-b9bbc7c3257e\",\"type\":\"Slider\"}]},\"id\":\"44bdc977-83fc-4277-90b2-3a065d679d32\",\"type\":\"WidgetBox\"},{\"attributes\":{\"callback\":null,\"column_names\":[\"x\",\"y\",\"new_rating\",\"bar1\",\"bar2\",\"bar3\",\"bar4\"],\"data\":{\"bar1\":[0.0],\"bar2\":[0.0],\"bar3\":[5.0],\"bar4\":[5.0],\"new_rating\":[[[[[0.0,0.0,5.0,0.0],[0.0,0.0,3.75,0.7678571428571429],[0.0,0.0,2.5,1.5357142857142858],[0.0,0.0,1.25,2.303571428571429],[0.0,0.0,0.0,3.0714285714285716]],[[0.0,0.0,5.0,0.0],[0.0,0.0,3.75,0.7678571428571429],[0.0,0.0,2.5,1.5357142857142858],[0.0,0.0,1.25,2.303571428571429],[0.0,0.0,0.0,3.0714285714285716]],[[0.0,0.0,5.0,0.0],[0.0,0.0,3.75,0.7678571428571429],[0.0,0.0,2.5,1.5357142857142858],[0.0,0.0,1.25,2.303571428571429],[0.0,0.0,0.0,3.0714285714285716]],[[0.0,0.0,5.0,0.0],[0.0,0.0,3.75,0.7678571428571429],[0.0,0.0,2.5,1.5357142857142858],[0.0,0.0,1.25,2.303571428571429],[0.0,0.0,0.0,3.0714285714285716]],[[0.0,0.0,5.0,0.0],[0.0,0.0,3.75,0.7678571428571429],[0.0,0.0,2.5,1.5357142857142858],[0.0,0.0,1.25,2.303571428571429],[0.0,0.0,0.0,3.0714285714285716]]],[[[0.0,0.927315,3.75,0.0],[0.0,0.927315,2.8125,0.5758928571428572],[0.0,0.927315,1.875,1.1517857142857144],[0.0,0.927315,0.9375,1.7276785714285716],[0.0,0.927315,0.0,2.303571428571429]],[[0.311025,0.69548625,3.75,0.0],[0.311025,0.69548625,2.8125,0.5758928571428572],[0.311025,0.69548625,1.875,1.1517857142857144],[0.311025,0.69548625,0.9375,1.7276785714285716],[0.311025,0.69548625,0.0,2.303571428571429]],[[0.62205,0.4636575,3.75,0.0],[0.62205,0.4636575,2.8125,0.5758928571428572],[0.62205,0.4636575,1.875,1.1517857142857144],[0.62205,0.4636575,0.9375,1.7276785714285716],[0.62205,0.4636575,0.0,2.303571428571429]],[[0.933075,0.23182875,3.75,0.0],[0.933075,0.23182875,2.8125,0.5758928571428572],[0.933075,0.23182875,1.875,1.1517857142857144],[0.933075,0.23182875,0.9375,1.7276785714285716],[0.933075,0.23182875,0.0,2.303571428571429]],[[1.2441,0.0,3.75,0.0],[1.2441,0.0,2.8125,0.5758928571428572],[1.2441,0.0,1.875,1.1517857142857144],[1.2441,0.0,0.9375,1.7276785714285716],[1.2441,0.0,0.0,2.303571428571429]]],[[[0.0,1.85463,2.5,0.0],[0.0,1.85463,1.875,0.38392857142857145],[0.0,1.85463,1.25,0.7678571428571429],[0.0,1.85463,0.625,1.1517857142857144],[0.0,1.85463,0.0,1.5357142857142858]],[[0.62205,1.3909725,2.5,0.0],[0.62205,1.3909725,1.875,0.38392857142857145],[0.62205,1.3909725,1.25,0.7678571428571429],[0.62205,1.3909725,0.625,1.1517857142857144],[0.62205,1.3909725,0.0,1.5357142857142858]],[[1.2441,0.927315,2.5,0.0],[1.2441,0.927315,1.875,0.38392857142857145],[1.2441,0.927315,1.25,0.7678571428571429],[1.2441,0.927315,0.625,1.1517857142857144],[1.2441,0.927315,0.0,1.5357142857142858]],[[1.86615,0.4636575,2.5,0.0],[1.86615,0.4636575,1.875,0.38392857142857145],[1.86615,0.4636575,1.25,0.7678571428571429],[1.86615,0.4636575,0.625,1.1517857142857144],[1.86615,0.4636575,0.0,1.5357142857142858]],[[2.4882,0.0,2.5,0.0],[2.4882,0.0,1.875,0.38392857142857145],[2.4882,0.0,1.25,0.7678571428571429],[2.4882,0.0,0.625,1.1517857142857144],[2.4882,0.0,0.0,1.5357142857142858]]],[[[0.0,2.781945,1.25,0.0],[0.0,2.781945,0.9375,0.19196428571428573],[0.0,2.781945,0.625,0.38392857142857145],[0.0,2.781945,0.3125,0.5758928571428572],[0.0,2.781945,0.0,0.7678571428571429]],[[0.933075,2.08645875,1.25,0.0],[0.933075,2.08645875,0.9375,0.19196428571428573],[0.933075,2.08645875,0.625,0.38392857142857145],[0.933075,2.08645875,0.3125,0.5758928571428572],[0.933075,2.08645875,0.0,0.7678571428571429]],[[1.86615,1.3909725,1.25,0.0],[1.86615,1.3909725,0.9375,0.19196428571428573],[1.86615,1.3909725,0.625,0.38392857142857145],[1.86615,1.3909725,0.3125,0.5758928571428572],[1.86615,1.3909725,0.0,0.7678571428571429]],[[2.799225,0.69548625,1.25,0.0],[2.799225,0.69548625,0.9375,0.19196428571428573],[2.799225,0.69548625,0.625,0.38392857142857145],[2.799225,0.69548625,0.3125,0.5758928571428572],[2.799225,0.69548625,0.0,0.7678571428571429]],[[3.7323,0.0,1.25,0.0],[3.7323,0.0,0.9375,0.19196428571428573],[3.7323,0.0,0.625,0.38392857142857145],[3.7323,0.0,0.3125,0.5758928571428572],[3.7323,0.0,0.0,0.7678571428571429]]],[[[0.0,3.70926,0.0,0.0],[0.0,3.70926,0.0,0.0],[0.0,3.70926,0.0,0.0],[0.0,3.70926,0.0,0.0],[0.0,3.70926,0.0,0.0]],[[1.2441,2.781945,0.0,0.0],[1.2441,2.781945,0.0,0.0],[1.2441,2.781945,0.0,0.0],[1.2441,2.781945,0.0,0.0],[1.2441,2.781945,0.0,0.0]],[[2.4882,1.85463,0.0,0.0],[2.4882,1.85463,0.0,0.0],[2.4882,1.85463,0.0,0.0],[2.4882,1.85463,0.0,0.0],[2.4882,1.85463,0.0,0.0]],[[3.7323,0.927315,0.0,0.0],[3.7323,0.927315,0.0,0.0],[3.7323,0.927315,0.0,0.0],[3.7323,0.927315,0.0,0.0],[3.7323,0.927315,0.0,0.0]],[[4.9764,0.0,0.0,0.0],[4.9764,0.0,0.0,0.0],[4.9764,0.0,0.0,0.0],[4.9764,0.0,0.0,0.0],[4.9764,0.0,0.0,0.0]]]],[[[[0.0,0.0,1.0,0.0],[0.0,0.0,0.75,0.55],[0.0,0.0,0.5,1.1],[0.0,0.0,0.25,1.6500000000000001],[0.0,0.0,0.0,2.2]],[[0.0,0.0,1.0,0.0],[0.0,0.0,0.75,0.55],[0.0,0.0,0.5,1.1],[0.0,0.0,0.25,1.6500000000000001],[0.0,0.0,0.0,2.2]],[[0.0,0.0,1.0,0.0],[0.0,0.0,0.75,0.55],[0.0,0.0,0.5,1.1],[0.0,0.0,0.25,1.6500000000000001],[0.0,0.0,0.0,2.2]],[[0.0,0.0,1.0,0.0],[0.0,0.0,0.75,0.55],[0.0,0.0,0.5,1.1],[0.0,0.0,0.25,1.6500000000000001],[0.0,0.0,0.0,2.2]],[[0.0,0.0,1.0,0.0],[0.0,0.0,0.75,0.55],[0.0,0.0,0.5,1.1],[0.0,0.0,0.25,1.6500000000000001],[0.0,0.0,0.0,2.2]]],[[[0.0,0.7892399999999999,0.75,0.0],[0.0,0.7892399999999999,0.5625,0.41250000000000003],[0.0,0.7892399999999999,0.375,0.8250000000000001],[0.0,0.7892399999999999,0.1875,1.2375],[0.0,0.7892399999999999,0.0,1.6500000000000001]],[[0.2419875,0.59193,0.75,0.0],[0.2419875,0.59193,0.5625,0.41250000000000003],[0.2419875,0.59193,0.375,0.8250000000000001],[0.2419875,0.59193,0.1875,1.2375],[0.2419875,0.59193,0.0,1.6500000000000001]],[[0.483975,0.39461999999999997,0.75,0.0],[0.483975,0.39461999999999997,0.5625,0.41250000000000003],[0.483975,0.39461999999999997,0.375,0.8250000000000001],[0.483975,0.39461999999999997,0.1875,1.2375],[0.483975,0.39461999999999997,0.0,1.6500000000000001]],[[0.7259625,0.19730999999999999,0.75,0.0],[0.7259625,0.19730999999999999,0.5625,0.41250000000000003],[0.7259625,0.19730999999999999,0.375,0.8250000000000001],[0.7259625,0.19730999999999999,0.1875,1.2375],[0.7259625,0.19730999999999999,0.0,1.6500000000000001]],[[0.96795,0.0,0.75,0.0],[0.96795,0.0,0.5625,0.41250000000000003],[0.96795,0.0,0.375,0.8250000000000001],[0.96795,0.0,0.1875,1.2375],[0.96795,0.0,0.0,1.6500000000000001]]],[[[0.0,1.5784799999999999,0.5,0.0],[0.0,1.5784799999999999,0.375,0.275],[0.0,1.5784799999999999,0.25,0.55],[0.0,1.5784799999999999,0.125,0.8250000000000001],[0.0,1.5784799999999999,0.0,1.1]],[[0.483975,1.18386,0.5,0.0],[0.483975,1.18386,0.375,0.275],[0.483975,1.18386,0.25,0.55],[0.483975,1.18386,0.125,0.8250000000000001],[0.483975,1.18386,0.0,1.1]],[[0.96795,0.7892399999999999,0.5,0.0],[0.96795,0.7892399999999999,0.375,0.275],[0.96795,0.7892399999999999,0.25,0.55],[0.96795,0.7892399999999999,0.125,0.8250000000000001],[0.96795,0.7892399999999999,0.0,1.1]],[[1.451925,0.39461999999999997,0.5,0.0],[1.451925,0.39461999999999997,0.375,0.275],[1.451925,0.39461999999999997,0.25,0.55],[1.451925,0.39461999999999997,0.125,0.8250000000000001],[1.451925,0.39461999999999997,0.0,1.1]],[[1.9359,0.0,0.5,0.0],[1.9359,0.0,0.375,0.275],[1.9359,0.0,0.25,0.55],[1.9359,0.0,0.125,0.8250000000000001],[1.9359,0.0,0.0,1.1]]],[[[0.0,2.36772,0.25,0.0],[0.0,2.36772,0.1875,0.1375],[0.0,2.36772,0.125,0.275],[0.0,2.36772,0.0625,0.41250000000000003],[0.0,2.36772,0.0,0.55]],[[0.7259625,1.7757899999999998,0.25,0.0],[0.7259625,1.7757899999999998,0.1875,0.1375],[0.7259625,1.7757899999999998,0.125,0.275],[0.7259625,1.7757899999999998,0.0625,0.41250000000000003],[0.7259625,1.7757899999999998,0.0,0.55]],[[1.451925,1.18386,0.25,0.0],[1.451925,1.18386,0.1875,0.1375],[1.451925,1.18386,0.125,0.275],[1.451925,1.18386,0.0625,0.41250000000000003],[1.451925,1.18386,0.0,0.55]],[[2.1778874999999998,0.59193,0.25,0.0],[2.1778874999999998,0.59193,0.1875,0.1375],[2.1778874999999998,0.59193,0.125,0.275],[2.1778874999999998,0.59193,0.0625,0.41250000000000003],[2.1778874999999998,0.59193,0.0,0.55]],[[2.90385,0.0,0.25,0.0],[2.90385,0.0,0.1875,0.1375],[2.90385,0.0,0.125,0.275],[2.90385,0.0,0.0625,0.41250000000000003],[2.90385,0.0,0.0,0.55]]],[[[0.0,3.1569599999999998,0.0,0.0],[0.0,3.1569599999999998,0.0,0.0],[0.0,3.1569599999999998,0.0,0.0],[0.0,3.1569599999999998,0.0,0.0],[0.0,3.1569599999999998,0.0,0.0]],[[0.96795,2.36772,0.0,0.0],[0.96795,2.36772,0.0,0.0],[0.96795,2.36772,0.0,0.0],[0.96795,2.36772,0.0,0.0],[0.96795,2.36772,0.0,0.0]],[[1.9359,1.5784799999999999,0.0,0.0],[1.9359,1.5784799999999999,0.0,0.0],[1.9359,1.5784799999999999,0.0,0.0],[1.9359,1.5784799999999999,0.0,0.0],[1.9359,1.5784799999999999,0.0,0.0]],[[2.90385,0.7892399999999999,0.0,0.0],[2.90385,0.7892399999999999,0.0,0.0],[2.90385,0.7892399999999999,0.0,0.0],[2.90385,0.7892399999999999,0.0,0.0],[2.90385,0.7892399999999999,0.0,0.0]],[[3.8718,0.0,0.0,0.0],[3.8718,0.0,0.0,0.0],[3.8718,0.0,0.0,0.0],[3.8718,0.0,0.0,0.0],[3.8718,0.0,0.0,0.0]]]],[[[[0.0,0.0,3.0,0.0],[0.0,0.0,2.25,0.5833333333333334],[0.0,0.0,1.5,1.1666666666666667],[0.0,0.0,0.75,1.75],[0.0,0.0,0.0,2.3333333333333335]],[[0.0,0.0,3.0,0.0],[0.0,0.0,2.25,0.5833333333333334],[0.0,0.0,1.5,1.1666666666666667],[0.0,0.0,0.75,1.75],[0.0,0.0,0.0,2.3333333333333335]],[[0.0,0.0,3.0,0.0],[0.0,0.0,2.25,0.5833333333333334],[0.0,0.0,1.5,1.1666666666666667],[0.0,0.0,0.75,1.75],[0.0,0.0,0.0,2.3333333333333335]],[[0.0,0.0,3.0,0.0],[0.0,0.0,2.25,0.5833333333333334],[0.0,0.0,1.5,1.1666666666666667],[0.0,0.0,0.75,1.75],[0.0,0.0,0.0,2.3333333333333335]],[[0.0,0.0,3.0,0.0],[0.0,0.0,2.25,0.5833333333333334],[0.0,0.0,1.5,1.1666666666666667],[0.0,0.0,0.75,1.75],[0.0,0.0,0.0,2.3333333333333335]]],[[[0.0,0.9267150000000001,2.25,0.0],[0.0,0.9267150000000001,1.6875,0.4375],[0.0,0.9267150000000001,1.125,0.875],[0.0,0.9267150000000001,0.5625,1.3125],[0.0,0.9267150000000001,0.0,1.75]],[[0.31072500000000003,0.69503625,2.25,0.0],[0.31072500000000003,0.69503625,1.6875,0.4375],[0.31072500000000003,0.69503625,1.125,0.875],[0.31072500000000003,0.69503625,0.5625,1.3125],[0.31072500000000003,0.69503625,0.0,1.75]],[[0.6214500000000001,0.46335750000000003,2.25,0.0],[0.6214500000000001,0.46335750000000003,1.6875,0.4375],[0.6214500000000001,0.46335750000000003,1.125,0.875],[0.6214500000000001,0.46335750000000003,0.5625,1.3125],[0.6214500000000001,0.46335750000000003,0.0,1.75]],[[0.9321750000000001,0.23167875000000002,2.25,0.0],[0.9321750000000001,0.23167875000000002,1.6875,0.4375],[0.9321750000000001,0.23167875000000002,1.125,0.875],[0.9321750000000001,0.23167875000000002,0.5625,1.3125],[0.9321750000000001,0.23167875000000002,0.0,1.75]],[[1.2429000000000001,0.0,2.25,0.0],[1.2429000000000001,0.0,1.6875,0.4375],[1.2429000000000001,0.0,1.125,0.875],[1.2429000000000001,0.0,0.5625,1.3125],[1.2429000000000001,0.0,0.0,1.75]]],[[[0.0,1.8534300000000001,1.5,0.0],[0.0,1.8534300000000001,1.125,0.2916666666666667],[0.0,1.8534300000000001,0.75,0.5833333333333334],[0.0,1.8534300000000001,0.375,0.875],[0.0,1.8534300000000001,0.0,1.1666666666666667]],[[0.6214500000000001,1.3900725,1.5,0.0],[0.6214500000000001,1.3900725,1.125,0.2916666666666667],[0.6214500000000001,1.3900725,0.75,0.5833333333333334],[0.6214500000000001,1.3900725,0.375,0.875],[0.6214500000000001,1.3900725,0.0,1.1666666666666667]],[[1.2429000000000001,0.9267150000000001,1.5,0.0],[1.2429000000000001,0.9267150000000001,1.125,0.2916666666666667],[1.2429000000000001,0.9267150000000001,0.75,0.5833333333333334],[1.2429000000000001,0.9267150000000001,0.375,0.875],[1.2429000000000001,0.9267150000000001,0.0,1.1666666666666667]],[[1.8643500000000002,0.46335750000000003,1.5,0.0],[1.8643500000000002,0.46335750000000003,1.125,0.2916666666666667],[1.8643500000000002,0.46335750000000003,0.75,0.5833333333333334],[1.8643500000000002,0.46335750000000003,0.375,0.875],[1.8643500000000002,0.46335750000000003,0.0,1.1666666666666667]],[[2.4858000000000002,0.0,1.5,0.0],[2.4858000000000002,0.0,1.125,0.2916666666666667],[2.4858000000000002,0.0,0.75,0.5833333333333334],[2.4858000000000002,0.0,0.375,0.875],[2.4858000000000002,0.0,0.0,1.1666666666666667]]],[[[0.0,2.780145,0.75,0.0],[0.0,2.780145,0.5625,0.14583333333333334],[0.0,2.780145,0.375,0.2916666666666667],[0.0,2.780145,0.1875,0.4375],[0.0,2.780145,0.0,0.5833333333333334]],[[0.9321750000000001,2.0851087500000003,0.75,0.0],[0.9321750000000001,2.0851087500000003,0.5625,0.14583333333333334],[0.9321750000000001,2.0851087500000003,0.375,0.2916666666666667],[0.9321750000000001,2.0851087500000003,0.1875,0.4375],[0.9321750000000001,2.0851087500000003,0.0,0.5833333333333334]],[[1.8643500000000002,1.3900725,0.75,0.0],[1.8643500000000002,1.3900725,0.5625,0.14583333333333334],[1.8643500000000002,1.3900725,0.375,0.2916666666666667],[1.8643500000000002,1.3900725,0.1875,0.4375],[1.8643500000000002,1.3900725,0.0,0.5833333333333334]],[[2.7965250000000004,0.69503625,0.75,0.0],[2.7965250000000004,0.69503625,0.5625,0.14583333333333334],[2.7965250000000004,0.69503625,0.375,0.2916666666666667],[2.7965250000000004,0.69503625,0.1875,0.4375],[2.7965250000000004,0.69503625,0.0,0.5833333333333334]],[[3.7287000000000003,0.0,0.75,0.0],[3.7287000000000003,0.0,0.5625,0.14583333333333334],[3.7287000000000003,0.0,0.375,0.2916666666666667],[3.7287000000000003,0.0,0.1875,0.4375],[3.7287000000000003,0.0,0.0,0.5833333333333334]]],[[[0.0,3.7068600000000003,0.0,0.0],[0.0,3.7068600000000003,0.0,0.0],[0.0,3.7068600000000003,0.0,0.0],[0.0,3.7068600000000003,0.0,0.0],[0.0,3.7068600000000003,0.0,0.0]],[[1.2429000000000001,2.780145,0.0,0.0],[1.2429000000000001,2.780145,0.0,0.0],[1.2429000000000001,2.780145,0.0,0.0],[1.2429000000000001,2.780145,0.0,0.0],[1.2429000000000001,2.780145,0.0,0.0]],[[2.4858000000000002,1.8534300000000001,0.0,0.0],[2.4858000000000002,1.8534300000000001,0.0,0.0],[2.4858000000000002,1.8534300000000001,0.0,0.0],[2.4858000000000002,1.8534300000000001,0.0,0.0],[2.4858000000000002,1.8534300000000001,0.0,0.0]],[[3.7287000000000003,0.9267150000000001,0.0,0.0],[3.7287000000000003,0.9267150000000001,0.0,0.0],[3.7287000000000003,0.9267150000000001,0.0,0.0],[3.7287000000000003,0.9267150000000001,0.0,0.0],[3.7287000000000003,0.9267150000000001,0.0,0.0]],[[4.9716000000000005,0.0,0.0,0.0],[4.9716000000000005,0.0,0.0,0.0],[4.9716000000000005,0.0,0.0,0.0],[4.9716000000000005,0.0,0.0,0.0],[4.9716000000000005,0.0,0.0,0.0]]]],[[[[0.0,0.0,2.0,0.0],[0.0,0.0,1.5,0.44886363636363635],[0.0,0.0,1.0,0.8977272727272727],[0.0,0.0,0.5,1.3465909090909092],[0.0,0.0,0.0,1.7954545454545454]],[[0.0,0.0,2.0,0.0],[0.0,0.0,1.5,0.44886363636363635],[0.0,0.0,1.0,0.8977272727272727],[0.0,0.0,0.5,1.3465909090909092],[0.0,0.0,0.0,1.7954545454545454]],[[0.0,0.0,2.0,0.0],[0.0,0.0,1.5,0.44886363636363635],[0.0,0.0,1.0,0.8977272727272727],[0.0,0.0,0.5,1.3465909090909092],[0.0,0.0,0.0,1.7954545454545454]],[[0.0,0.0,2.0,0.0],[0.0,0.0,1.5,0.44886363636363635],[0.0,0.0,1.0,0.8977272727272727],[0.0,0.0,0.5,1.3465909090909092],[0.0,0.0,0.0,1.7954545454545454]],[[0.0,0.0,2.0,0.0],[0.0,0.0,1.5,0.44886363636363635],[0.0,0.0,1.0,0.8977272727272727],[0.0,0.0,0.5,1.3465909090909092],[0.0,0.0,0.0,1.7954545454545454]]],[[[0.0,0.62259,1.5,0.0],[0.0,0.62259,1.125,0.3366477272727273],[0.0,0.62259,0.75,0.6732954545454546],[0.0,0.62259,0.375,1.0099431818181819],[0.0,0.62259,0.0,1.3465909090909092]],[[0.1586625,0.4669425,1.5,0.0],[0.1586625,0.4669425,1.125,0.3366477272727273],[0.1586625,0.4669425,0.75,0.6732954545454546],[0.1586625,0.4669425,0.375,1.0099431818181819],[0.1586625,0.4669425,0.0,1.3465909090909092]],[[0.317325,0.311295,1.5,0.0],[0.317325,0.311295,1.125,0.3366477272727273],[0.317325,0.311295,0.75,0.6732954545454546],[0.317325,0.311295,0.375,1.0099431818181819],[0.317325,0.311295,0.0,1.3465909090909092]],[[0.4759875,0.1556475,1.5,0.0],[0.4759875,0.1556475,1.125,0.3366477272727273],[0.4759875,0.1556475,0.75,0.6732954545454546],[0.4759875,0.1556475,0.375,1.0099431818181819],[0.4759875,0.1556475,0.0,1.3465909090909092]],[[0.63465,0.0,1.5,0.0],[0.63465,0.0,1.125,0.3366477272727273],[0.63465,0.0,0.75,0.6732954545454546],[0.63465,0.0,0.375,1.0099431818181819],[0.63465,0.0,0.0,1.3465909090909092]]],[[[0.0,1.24518,1.0,0.0],[0.0,1.24518,0.75,0.22443181818181818],[0.0,1.24518,0.5,0.44886363636363635],[0.0,1.24518,0.25,0.6732954545454546],[0.0,1.24518,0.0,0.8977272727272727]],[[0.317325,0.933885,1.0,0.0],[0.317325,0.933885,0.75,0.22443181818181818],[0.317325,0.933885,0.5,0.44886363636363635],[0.317325,0.933885,0.25,0.6732954545454546],[0.317325,0.933885,0.0,0.8977272727272727]],[[0.63465,0.62259,1.0,0.0],[0.63465,0.62259,0.75,0.22443181818181818],[0.63465,0.62259,0.5,0.44886363636363635],[0.63465,0.62259,0.25,0.6732954545454546],[0.63465,0.62259,0.0,0.8977272727272727]],[[0.951975,0.311295,1.0,0.0],[0.951975,0.311295,0.75,0.22443181818181818],[0.951975,0.311295,0.5,0.44886363636363635],[0.951975,0.311295,0.25,0.6732954545454546],[0.951975,0.311295,0.0,0.8977272727272727]],[[1.2693,0.0,1.0,0.0],[1.2693,0.0,0.75,0.22443181818181818],[1.2693,0.0,0.5,0.44886363636363635],[1.2693,0.0,0.25,0.6732954545454546],[1.2693,0.0,0.0,0.8977272727272727]]],[[[0.0,1.86777,0.5,0.0],[0.0,1.86777,0.375,0.11221590909090909],[0.0,1.86777,0.25,0.22443181818181818],[0.0,1.86777,0.125,0.3366477272727273],[0.0,1.86777,0.0,0.44886363636363635]],[[0.4759875,1.4008275,0.5,0.0],[0.4759875,1.4008275,0.375,0.11221590909090909],[0.4759875,1.4008275,0.25,0.22443181818181818],[0.4759875,1.4008275,0.125,0.3366477272727273],[0.4759875,1.4008275,0.0,0.44886363636363635]],[[0.951975,0.933885,0.5,0.0],[0.951975,0.933885,0.375,0.11221590909090909],[0.951975,0.933885,0.25,0.22443181818181818],[0.951975,0.933885,0.125,0.3366477272727273],[0.951975,0.933885,0.0,0.44886363636363635]],[[1.4279625,0.4669425,0.5,0.0],[1.4279625,0.4669425,0.375,0.11221590909090909],[1.4279625,0.4669425,0.25,0.22443181818181818],[1.4279625,0.4669425,0.125,0.3366477272727273],[1.4279625,0.4669425,0.0,0.44886363636363635]],[[1.90395,0.0,0.5,0.0],[1.90395,0.0,0.375,0.11221590909090909],[1.90395,0.0,0.25,0.22443181818181818],[1.90395,0.0,0.125,0.3366477272727273],[1.90395,0.0,0.0,0.44886363636363635]]],[[[0.0,2.49036,0.0,0.0],[0.0,2.49036,0.0,0.0],[0.0,2.49036,0.0,0.0],[0.0,2.49036,0.0,0.0],[0.0,2.49036,0.0,0.0]],[[0.63465,1.86777,0.0,0.0],[0.63465,1.86777,0.0,0.0],[0.63465,1.86777,0.0,0.0],[0.63465,1.86777,0.0,0.0],[0.63465,1.86777,0.0,0.0]],[[1.2693,1.24518,0.0,0.0],[1.2693,1.24518,0.0,0.0],[1.2693,1.24518,0.0,0.0],[1.2693,1.24518,0.0,0.0],[1.2693,1.24518,0.0,0.0]],[[1.90395,0.62259,0.0,0.0],[1.90395,0.62259,0.0,0.0],[1.90395,0.62259,0.0,0.0],[1.90395,0.62259,0.0,0.0],[1.90395,0.62259,0.0,0.0]],[[2.5386,0.0,0.0,0.0],[2.5386,0.0,0.0,0.0],[2.5386,0.0,0.0,0.0],[2.5386,0.0,0.0,0.0],[2.5386,0.0,0.0,0.0]]]],[[[[0.0,0.0,1.0,0.0],[0.0,0.0,0.75,0.45],[0.0,0.0,0.5,0.9],[0.0,0.0,0.25,1.35],[0.0,0.0,0.0,1.8]],[[0.0,0.0,1.0,0.0],[0.0,0.0,0.75,0.45],[0.0,0.0,0.5,0.9],[0.0,0.0,0.25,1.35],[0.0,0.0,0.0,1.8]],[[0.0,0.0,1.0,0.0],[0.0,0.0,0.75,0.45],[0.0,0.0,0.5,0.9],[0.0,0.0,0.25,1.35],[0.0,0.0,0.0,1.8]],[[0.0,0.0,1.0,0.0],[0.0,0.0,0.75,0.45],[0.0,0.0,0.5,0.9],[0.0,0.0,0.25,1.35],[0.0,0.0,0.0,1.8]],[[0.0,0.0,1.0,0.0],[0.0,0.0,0.75,0.45],[0.0,0.0,0.5,0.9],[0.0,0.0,0.25,1.35],[0.0,0.0,0.0,1.8]]],[[[0.0,0.48414,0.75,0.0],[0.0,0.48414,0.5625,0.3375],[0.0,0.48414,0.375,0.675],[0.0,0.48414,0.1875,1.0125],[0.0,0.48414,0.0,1.35]],[[0.0894375,0.363105,0.75,0.0],[0.0894375,0.363105,0.5625,0.3375],[0.0894375,0.363105,0.375,0.675],[0.0894375,0.363105,0.1875,1.0125],[0.0894375,0.363105,0.0,1.35]],[[0.178875,0.24207,0.75,0.0],[0.178875,0.24207,0.5625,0.3375],[0.178875,0.24207,0.375,0.675],[0.178875,0.24207,0.1875,1.0125],[0.178875,0.24207,0.0,1.35]],[[0.2683125,0.121035,0.75,0.0],[0.2683125,0.121035,0.5625,0.3375],[0.2683125,0.121035,0.375,0.675],[0.2683125,0.121035,0.1875,1.0125],[0.2683125,0.121035,0.0,1.35]],[[0.35775,0.0,0.75,0.0],[0.35775,0.0,0.5625,0.3375],[0.35775,0.0,0.375,0.675],[0.35775,0.0,0.1875,1.0125],[0.35775,0.0,0.0,1.35]]],[[[0.0,0.96828,0.5,0.0],[0.0,0.96828,0.375,0.225],[0.0,0.96828,0.25,0.45],[0.0,0.96828,0.125,0.675],[0.0,0.96828,0.0,0.9]],[[0.178875,0.72621,0.5,0.0],[0.178875,0.72621,0.375,0.225],[0.178875,0.72621,0.25,0.45],[0.178875,0.72621,0.125,0.675],[0.178875,0.72621,0.0,0.9]],[[0.35775,0.48414,0.5,0.0],[0.35775,0.48414,0.375,0.225],[0.35775,0.48414,0.25,0.45],[0.35775,0.48414,0.125,0.675],[0.35775,0.48414,0.0,0.9]],[[0.536625,0.24207,0.5,0.0],[0.536625,0.24207,0.375,0.225],[0.536625,0.24207,0.25,0.45],[0.536625,0.24207,0.125,0.675],[0.536625,0.24207,0.0,0.9]],[[0.7155,0.0,0.5,0.0],[0.7155,0.0,0.375,0.225],[0.7155,0.0,0.25,0.45],[0.7155,0.0,0.125,0.675],[0.7155,0.0,0.0,0.9]]],[[[0.0,1.45242,0.25,0.0],[0.0,1.45242,0.1875,0.1125],[0.0,1.45242,0.125,0.225],[0.0,1.45242,0.0625,0.3375],[0.0,1.45242,0.0,0.45]],[[0.2683125,1.089315,0.25,0.0],[0.2683125,1.089315,0.1875,0.1125],[0.2683125,1.089315,0.125,0.225],[0.2683125,1.089315,0.0625,0.3375],[0.2683125,1.089315,0.0,0.45]],[[0.536625,0.72621,0.25,0.0],[0.536625,0.72621,0.1875,0.1125],[0.536625,0.72621,0.125,0.225],[0.536625,0.72621,0.0625,0.3375],[0.536625,0.72621,0.0,0.45]],[[0.8049375000000001,0.363105,0.25,0.0],[0.8049375000000001,0.363105,0.1875,0.1125],[0.8049375000000001,0.363105,0.125,0.225],[0.8049375000000001,0.363105,0.0625,0.3375],[0.8049375000000001,0.363105,0.0,0.45]],[[1.07325,0.0,0.25,0.0],[1.07325,0.0,0.1875,0.1125],[1.07325,0.0,0.125,0.225],[1.07325,0.0,0.0625,0.3375],[1.07325,0.0,0.0,0.45]]],[[[0.0,1.93656,0.0,0.0],[0.0,1.93656,0.0,0.0],[0.0,1.93656,0.0,0.0],[0.0,1.93656,0.0,0.0],[0.0,1.93656,0.0,0.0]],[[0.35775,1.45242,0.0,0.0],[0.35775,1.45242,0.0,0.0],[0.35775,1.45242,0.0,0.0],[0.35775,1.45242,0.0,0.0],[0.35775,1.45242,0.0,0.0]],[[0.7155,0.96828,0.0,0.0],[0.7155,0.96828,0.0,0.0],[0.7155,0.96828,0.0,0.0],[0.7155,0.96828,0.0,0.0],[0.7155,0.96828,0.0,0.0]],[[1.07325,0.48414,0.0,0.0],[1.07325,0.48414,0.0,0.0],[1.07325,0.48414,0.0,0.0],[1.07325,0.48414,0.0,0.0],[1.07325,0.48414,0.0,0.0]],[[1.431,0.0,0.0,0.0],[1.431,0.0,0.0,0.0],[1.431,0.0,0.0,0.0],[1.431,0.0,0.0,0.0],[1.431,0.0,0.0,0.0]]]]],\"x\":[0],\"y\":[0.0]}},\"id\":\"d711a545-0f1d-4f74-aabc-cde9dd4bfa88\",\"type\":\"ColumnDataSource\"},{\"attributes\":{\"callback\":{\"id\":\"994caf46-eb8c-42a1-86b9-657470b23806\",\"type\":\"CustomJS\"},\"options\":[[\"0\",\"Review 1\"],[\"1\",\"Review 2\"],[\"2\",\"Review 3\"],[\"3\",\"Review 4\"],[\"4\",\"Review 5\"]],\"title\":\"Review\",\"value\":\"0\"},\"id\":\"abbd3a02-855c-434b-a810-03a31fcf48d7\",\"type\":\"Select\"},{\"attributes\":{\"line_color\":\"red\",\"line_width\":2,\"x\":{\"field\":\"x\"},\"y\":{\"field\":\"y\"}},\"id\":\"20930a0b-fec1-4d5a-af87-449686e46e60\",\"type\":\"Line\"},{\"attributes\":{\"callback\":{\"id\":\"994caf46-eb8c-42a1-86b9-657470b23806\",\"type\":\"CustomJS\"},\"end\":1,\"start\":0,\"step\":0.25,\"title\":\"Weight Ws\",\"value\":0},\"id\":\"d1a5e648-c006-42e1-acec-1308b6cb59d6\",\"type\":\"Slider\"},{\"attributes\":{\"bottom\":{\"value\":1},\"fill_color\":{\"value\":\"#1f77b4\"},\"line_color\":{\"value\":\"#1f77b4\"},\"top\":{\"field\":\"bar1\"},\"width\":{\"value\":0.5},\"x\":{\"field\":\"x\"}},\"id\":\"22bfeb18-b51f-4992-9294-e3861400e114\",\"type\":\"VBar\"},{\"attributes\":{\"bottom\":{\"field\":\"bar3\"},\"fill_alpha\":{\"value\":0.1},\"fill_color\":{\"value\":\"#1f77b4\"},\"line_alpha\":{\"value\":0.1},\"line_color\":{\"value\":\"#1f77b4\"},\"top\":{\"field\":\"bar4\"},\"width\":{\"value\":0.5},\"x\":{\"field\":\"x\"}},\"id\":\"b226f630-d3bc-40c6-8aab-19ed7e564b7f\",\"type\":\"VBar\"},{\"attributes\":{\"data_source\":{\"id\":\"d711a545-0f1d-4f74-aabc-cde9dd4bfa88\",\"type\":\"ColumnDataSource\"},\"glyph\":{\"id\":\"2f3050f8-5b6b-484e-8fc8-c84569402aeb\",\"type\":\"VBar\"},\"hover_glyph\":null,\"muted_glyph\":null,\"nonselection_glyph\":{\"id\":\"b226f630-d3bc-40c6-8aab-19ed7e564b7f\",\"type\":\"VBar\"},\"selection_glyph\":null,\"view\":{\"id\":\"42770781-bcf7-45cb-b243-0aefb362cc85\",\"type\":\"CDSView\"}},\"id\":\"ce3268e4-f501-45c7-8d74-2ef7aa773bb3\",\"type\":\"GlyphRenderer\"},{\"attributes\":{\"active_drag\":\"auto\",\"active_inspect\":\"auto\",\"active_scroll\":\"auto\",\"active_tap\":\"auto\"},\"id\":\"321ccba3-b25b-4706-b6a0-706ed89a4a91\",\"type\":\"Toolbar\"},{\"attributes\":{\"source\":{\"id\":\"d711a545-0f1d-4f74-aabc-cde9dd4bfa88\",\"type\":\"ColumnDataSource\"}},\"id\":\"42770781-bcf7-45cb-b243-0aefb362cc85\",\"type\":\"CDSView\"},{\"attributes\":{\"callback\":null,\"column_names\":[\"x\",\"y\",\"old_rating\"],\"data\":{\"old_rating\":[5.0,1.0,3.0,2.0,1.0],\"x\":[-1,1],\"y\":[5.0,5.0]}},\"id\":\"da0a56eb-4b38-421b-b428-9d458d27d3c4\",\"type\":\"ColumnDataSource\"},{\"attributes\":{\"label\":{\"value\":\"Sentiment 3\"},\"renderers\":[{\"id\":\"ce3268e4-f501-45c7-8d74-2ef7aa773bb3\",\"type\":\"GlyphRenderer\"}]},\"id\":\"a39bfe5d-2805-47f9-aed8-d69d1a4e1c06\",\"type\":\"LegendItem\"},{\"attributes\":{\"callback\":null,\"end\":5,\"start\":1},\"id\":\"745a9051-9f76-4043-bc44-1803fd1f46e7\",\"type\":\"Range1d\"},{\"attributes\":{},\"id\":\"8c8519f2-68ba-407d-9992-01a3ca9adc93\",\"type\":\"LinearScale\"},{\"attributes\":{\"data_source\":{\"id\":\"da0a56eb-4b38-421b-b428-9d458d27d3c4\",\"type\":\"ColumnDataSource\"},\"glyph\":{\"id\":\"20930a0b-fec1-4d5a-af87-449686e46e60\",\"type\":\"Line\"},\"hover_glyph\":null,\"muted_glyph\":null,\"nonselection_glyph\":{\"id\":\"5a642d79-8e9f-441e-8e2a-9a16525e1d40\",\"type\":\"Line\"},\"selection_glyph\":null,\"view\":{\"id\":\"6c288b2f-2978-4265-b9c7-e0db52c16dc6\",\"type\":\"CDSView\"}},\"id\":\"15b5a2ea-7d5f-4013-98ad-60613b2263d4\",\"type\":\"GlyphRenderer\"},{\"attributes\":{},\"id\":\"0815328c-a3c5-492f-8ab5-3a87f2f23904\",\"type\":\"LinearScale\"},{\"attributes\":{\"line_alpha\":0.1,\"line_color\":\"#1f77b4\",\"line_width\":2,\"x\":{\"field\":\"x\"},\"y\":{\"field\":\"y\"}},\"id\":\"5a642d79-8e9f-441e-8e2a-9a16525e1d40\",\"type\":\"Line\"},{\"attributes\":{\"grid_line_color\":{\"value\":\"White\"},\"plot\":{\"id\":\"135f9670-cefc-406b-a8d2-7029f37e0ef6\",\"subtype\":\"Figure\",\"type\":\"Plot\"},\"ticker\":{\"id\":\"849c0c4d-c60b-45b4-908a-6fedd6fa9bcf\",\"type\":\"BasicTicker\"}},\"id\":\"153ea0d4-051c-45ac-93b9-f23a00957325\",\"type\":\"Grid\"},{\"attributes\":{\"formatter\":{\"id\":\"f90e67e1-4249-4176-87f0-424ffadb65d6\",\"type\":\"BasicTickFormatter\"},\"plot\":{\"id\":\"135f9670-cefc-406b-a8d2-7029f37e0ef6\",\"subtype\":\"Figure\",\"type\":\"Plot\"},\"ticker\":{\"id\":\"849c0c4d-c60b-45b4-908a-6fedd6fa9bcf\",\"type\":\"BasicTicker\"},\"visible\":false},\"id\":\"296b5b13-21fd-44e6-a0aa-845b29df63de\",\"type\":\"LinearAxis\"},{\"attributes\":{\"label\":{\"value\":\"Old Rating\"},\"renderers\":[{\"id\":\"15b5a2ea-7d5f-4013-98ad-60613b2263d4\",\"type\":\"GlyphRenderer\"}]},\"id\":\"85694d45-f740-4207-8204-7cf67c567e7a\",\"type\":\"LegendItem\"},{\"attributes\":{},\"id\":\"849c0c4d-c60b-45b4-908a-6fedd6fa9bcf\",\"type\":\"BasicTicker\"},{\"attributes\":{\"source\":{\"id\":\"da0a56eb-4b38-421b-b428-9d458d27d3c4\",\"type\":\"ColumnDataSource\"}},\"id\":\"6c288b2f-2978-4265-b9c7-e0db52c16dc6\",\"type\":\"CDSView\"},{\"attributes\":{\"axis_label\":\"Rating\",\"formatter\":{\"id\":\"605d2737-3626-4421-be2e-c09ffec18a8e\",\"type\":\"BasicTickFormatter\"},\"plot\":{\"id\":\"135f9670-cefc-406b-a8d2-7029f37e0ef6\",\"subtype\":\"Figure\",\"type\":\"Plot\"},\"ticker\":{\"id\":\"fb95a83e-07ed-4b16-9863-76c02b0a834e\",\"type\":\"BasicTicker\"}},\"id\":\"a615d73c-ebe6-43b3-b960-a1e375df0d20\",\"type\":\"LinearAxis\"},{\"attributes\":{},\"id\":\"fb95a83e-07ed-4b16-9863-76c02b0a834e\",\"type\":\"BasicTicker\"},{\"attributes\":{\"dimension\":1,\"grid_line_color\":{\"value\":\"White\"},\"plot\":{\"id\":\"135f9670-cefc-406b-a8d2-7029f37e0ef6\",\"subtype\":\"Figure\",\"type\":\"Plot\"},\"ticker\":{\"id\":\"fb95a83e-07ed-4b16-9863-76c02b0a834e\",\"type\":\"BasicTicker\"}},\"id\":\"8fd52d76-e200-48e6-b402-49e9f9cf9c98\",\"type\":\"Grid\"},{\"attributes\":{\"label\":{\"value\":\"Sentiment Value\"},\"renderers\":[{\"id\":\"ce3268e4-f501-45c7-8d74-2ef7aa773bb3\",\"type\":\"GlyphRenderer\"}]},\"id\":\"85a5429e-a233-4a42-bfcb-93797c8627a6\",\"type\":\"LegendItem\"},{\"attributes\":{\"plot\":null,\"text\":\"\"},\"id\":\"fd8d97b8-082d-4538-975b-ddf814b8135a\",\"type\":\"Title\"},{\"attributes\":{\"items\":[{\"id\":\"85a5429e-a233-4a42-bfcb-93797c8627a6\",\"type\":\"LegendItem\"},{\"id\":\"6c64e531-c927-45dd-9907-c65556076feb\",\"type\":\"LegendItem\"},{\"id\":\"66daefe2-a4d2-43d9-b8fb-c50077690c7d\",\"type\":\"LegendItem\"},{\"id\":\"37481de9-51cb-45eb-b4de-4caccdb065f6\",\"type\":\"LegendItem\"},{\"id\":\"1620e639-8615-4f69-96a9-50eb69e5ba7c\",\"type\":\"LegendItem\"}],\"location\":[0,55],\"plot\":{\"id\":\"135f9670-cefc-406b-a8d2-7029f37e0ef6\",\"subtype\":\"Figure\",\"type\":\"Plot\"}},\"id\":\"9371579f-6c14-4d6a-bbf9-cb18d7a0effa\",\"type\":\"Legend\"},{\"attributes\":{\"bottom\":{\"value\":1},\"fill_alpha\":{\"value\":0.1},\"fill_color\":{\"value\":\"#1f77b4\"},\"line_alpha\":{\"value\":0.1},\"line_color\":{\"value\":\"#1f77b4\"},\"top\":{\"field\":\"bar1\"},\"width\":{\"value\":0.5},\"x\":{\"field\":\"x\"}},\"id\":\"a63d8d2e-5e83-452b-83dc-760dd089d7c1\",\"type\":\"VBar\"},{\"attributes\":{\"source\":{\"id\":\"d711a545-0f1d-4f74-aabc-cde9dd4bfa88\",\"type\":\"ColumnDataSource\"}},\"id\":\"a1641db9-b7ed-4f14-bbc0-b25d1562bf8e\",\"type\":\"CDSView\"},{\"attributes\":{\"label\":{\"value\":\"Sentiment Mean\"},\"renderers\":[{\"id\":\"a3203962-2218-4588-a2d9-8d3700979b8d\",\"type\":\"GlyphRenderer\"}]},\"id\":\"6c64e531-c927-45dd-9907-c65556076feb\",\"type\":\"LegendItem\"},{\"attributes\":{\"data_source\":{\"id\":\"d711a545-0f1d-4f74-aabc-cde9dd4bfa88\",\"type\":\"ColumnDataSource\"},\"glyph\":{\"id\":\"22bfeb18-b51f-4992-9294-e3861400e114\",\"type\":\"VBar\"},\"hover_glyph\":null,\"muted_glyph\":null,\"nonselection_glyph\":{\"id\":\"a63d8d2e-5e83-452b-83dc-760dd089d7c1\",\"type\":\"VBar\"},\"selection_glyph\":null,\"view\":{\"id\":\"a1641db9-b7ed-4f14-bbc0-b25d1562bf8e\",\"type\":\"CDSView\"}},\"id\":\"0ec7bb15-a6a0-46b4-8619-0350b37f9dd7\",\"type\":\"GlyphRenderer\"},{\"attributes\":{\"children\":[{\"id\":\"135f9670-cefc-406b-a8d2-7029f37e0ef6\",\"subtype\":\"Figure\",\"type\":\"Plot\"},{\"id\":\"44bdc977-83fc-4277-90b2-3a065d679d32\",\"type\":\"WidgetBox\"}]},\"id\":\"102bbe7b-695a-4c9d-9ba3-28e6151e6db7\",\"type\":\"Row\"}],\"root_ids\":[\"102bbe7b-695a-4c9d-9ba3-28e6151e6db7\"]},\"title\":\"Bokeh Application\",\"version\":\"0.12.13\"}};\n",
       "  var render_items = [{\"docid\":\"476ce5e5-13cc-45b2-871b-2811963e105a\",\"elementid\":\"f19e2c6c-2557-42bd-bd32-b70dc49db250\",\"modelid\":\"102bbe7b-695a-4c9d-9ba3-28e6151e6db7\"}];\n",
       "  root.Bokeh.embed.embed_items_notebook(docs_json, render_items);\n",
       "\n",
       "  }\n",
       "  if (root.Bokeh !== undefined) {\n",
       "    embed_document(root);\n",
       "  } else {\n",
       "    var attempts = 0;\n",
       "    var timer = setInterval(function(root) {\n",
       "      if (root.Bokeh !== undefined) {\n",
       "        embed_document(root);\n",
       "        clearInterval(timer);\n",
       "      }\n",
       "      attempts++;\n",
       "      if (attempts > 100) {\n",
       "        console.log(\"Bokeh: ERROR: Unable to run BokehJS code because BokehJS library is missing\")\n",
       "        clearInterval(timer);\n",
       "      }\n",
       "    }, 10, root)\n",
       "  }\n",
       "})(window);"
      ],
      "application/vnd.bokehjs_exec.v0+json": ""
     },
     "metadata": {
      "application/vnd.bokehjs_exec.v0+json": {
       "id": "102bbe7b-695a-4c9d-9ba3-28e6151e6db7"
      }
     },
     "output_type": "display_data"
    }
   ],
   "source": [
    "from bokeh.models import Legend\n",
    "\n",
    "# Decomment the first line if you want to save the graph as an html file\n",
    "\n",
    "#output_file(\"Graph/BokehGraph_New_Rating_Review.html\")\n",
    "output_notebook()\n",
    "\n",
    "#Load the pre-computed weights and value for the new rating\n",
    "new_ratings = np.loadtxt('DataSets/Processed/NewArrayRankingReview.txt')\n",
    "#Convert it to a list\n",
    "new_ratings = np.ndarray.tolist(np.reshape(new_ratings,(5,5,5,5,4)))\n",
    "old_ratings = [np.sum(new_ratings[i][0][0][0][0:4]) for i in range(5)]\n",
    "\n",
    "#Create the two data source, the first one is for the new rating and the second one for the old rating\n",
    "data = {'x' : [0], 'y' : [new_ratings[0][2][3][2][0]],'new_rating' : new_ratings,\n",
    "        'bar1' : [new_ratings[0][2][3][2][0]], 'bar2' : [np.sum(new_ratings[0][2][3][2][0:2])],\n",
    "       'bar3' : [np.sum(new_ratings[0][2][3][2][0:3])], 'bar4' : [np.sum(new_ratings[0][2][3][2][0:4])]}\n",
    "\n",
    "data2 = {'x' : [-1,1], 'y' : [old_ratings[0],old_ratings[0]], 'old_rating' : old_ratings}\n",
    "\n",
    "#Convert the data source into Bokeh data sources\n",
    "source = ColumnDataSource(data=data)\n",
    "source2 = ColumnDataSource(data=data2)\n",
    "\n",
    "#Initialize the graph\n",
    "plot = Figure(y_range=(1, 5), plot_width=300, plot_height=250,y_axis_label = 'Rating', x_range = [-0.5, 0.5]\n",
    "             , tools = '')\n",
    "\n",
    "#Plot the new rating as a vertical stacked bar\n",
    "b1 = plot.vbar('x', bottom = 1, top = 'bar1',width = 0.5, source = source, legend = 'New Rating')\n",
    "b2 = plot.vbar('x',bottom = 'bar1', top= 'bar2',width = 0.5, source = source, legend = 'Sentiment', color ='LightCoral')\n",
    "b3 = plot.vbar('x',bottom = 'bar2', top= 'bar3',width = 0.5, source = source, legend = 'Sentiment 2', color ='LightSkyBlue')\n",
    "b4 = plot.vbar('x',bottom = 'bar3', top= 'bar4',width = 0.5, source = source, legend = 'Sentiment 3', color ='LimeGreen')\n",
    "\n",
    "plot.background_fill_color = \"LightGray\"\n",
    "plot.background_fill_alpha = 0.4\n",
    "plot.grid.grid_line_width = 1\n",
    "plot.grid.grid_line_alpha = 1\n",
    "plot.grid.grid_line_color = 'White'\n",
    "\n",
    "#Plot the old rating as a straight red horizontal line\n",
    "b5 = plot.line('x', 'y', line_width=2,color=\"red\", source = source2, legend = 'Old Rating')\n",
    "\n",
    "plot.legend.visible = False #Show the legend\n",
    "plot.xaxis.visible = False #Get rid of the x axis as we plot only one bar\n",
    "\n",
    "# Create a custom legend\n",
    "legend = Legend(items=[\n",
    "    (\"Sentiment Value\",   [b4]),\n",
    "    (\"Sentiment Mean\", [b3]),\n",
    "    (\"Rating Value\", [b2]),\n",
    "    (\"Rating Mean\", [b1]),\n",
    "    (\"Original Rating\", [b5])\n",
    "], location=(0, 55))\n",
    "\n",
    "plot.add_layout(legend,'right')\n",
    "#Javascript callback functions used to update the graph when the dropdown object selection or the weights sliders\n",
    "#are moved\n",
    "callback = CustomJS(args=dict(source=source, source2=source2), code=\"\"\"\n",
    "    var data = source.data;\n",
    "    var data2 = source2.data;\n",
    "    var review_name = parseInt(review.value);\n",
    "    var ws_value = ws.value*4;\n",
    "    var wb_value = wb.value*4;\n",
    "    var we_value = we.value*4;\n",
    "    new_rating_v = data['new_rating'];\n",
    "    old_rating = data2['old_rating']\n",
    "    y = data2['y']\n",
    "    y[0] = old_rating[review_name];\n",
    "    y[1] = old_rating[review_name];\n",
    "    bar1 = data['bar1']\n",
    "    bar2 = data['bar2']\n",
    "    bar3 = data['bar3']\n",
    "    bar4 = data['bar4']\n",
    "    bar1[0] = new_rating_v[review_name][ws_value][wb_value][we_value][0];\n",
    "    bar2[0] = new_rating_v[review_name][ws_value][wb_value][we_value][1]+bar1[0];\n",
    "    bar3[0] = new_rating_v[review_name][ws_value][wb_value][we_value][2]+bar2[0];\n",
    "    bar4[0] = new_rating_v[review_name][ws_value][wb_value][we_value][3]+bar3[0];\n",
    "    source.change.emit();\n",
    "    source2.change.emit();\n",
    "\"\"\")\n",
    "\n",
    "product_list = [('0', 'Review 1'), ('1', 'Review 2'), \n",
    "              ('2', 'Review 3'), ('3','Review 4'), ('4','Review 5')]\n",
    "\n",
    "#### Widget list\n",
    "\n",
    "#Dropdown selection menu to select the product\n",
    "review_select = Select(value='0', title=\"Review\", options=product_list, callback=callback)\n",
    "callback.args[\"review\"] = review_select\n",
    "\n",
    "#Slider for the WS weight\n",
    "ws_slider = Slider(start=0, end=1, value=0.5, step=0.25,\n",
    "                    title=\"Weight Ws\", callback=callback)\n",
    "callback.args[\"ws\"] = ws_slider\n",
    "\n",
    "#Slider for the WB weight\n",
    "wb_slider = Slider(start=0, end=1, value=0.75, step=0.25,\n",
    "                     title=\"Weight Wsr\", callback=callback)\n",
    "callback.args[\"wb\"] = wb_slider\n",
    "\n",
    "#Slider for the WE weight\n",
    "we_slider = Slider(start=0, end=1, value=0.5, step=0.25,\n",
    "                      title=\"Weight Wgr\", callback=callback)\n",
    "callback.args[\"we\"] = we_slider\n",
    "\n",
    "#Create the graph layout\n",
    "layout = row(\n",
    "    plot,\n",
    "    widgetbox(review_select,ws_slider, wb_slider, we_slider)\n",
    ")\n",
    "#Plot the graph\n",
    "show(layout)"
   ]
  },
  {
   "cell_type": "markdown",
   "metadata": {},
   "source": [
    "The product ID studied is 0528881469 and the reviewers are : AO94DHGC771SJ, AMO214LNFCEI4, A3N7T0DY83Y4IG, A1H8PY3QHMQQA0, A24EV6RXELQZ63.\n",
    "We copy the text of the third review in the following cell."
   ]
  },
  {
   "cell_type": "markdown",
   "metadata": {},
   "source": [
    "'Not going to write a long review, even thought this unit deserves one. I\\'ve driven well over 1-mil miles and done most of my own routing so I pretty know whats the fastest and shortest. Have been using a basic garmin for the past three years and with ANY Gps unit they\\'ll ALL get you in trouble if you let them. I was really excited about this unit, due to the size and the features. Allot of great grafics and on screen info thats usefull. But the most basic item that it was lacking was the gps tracking. I gave this unit allot of leadway on its mistakes due to the fact that it had allot of cool stuff that it did, but its ability to track you and route you was not even close to what the basic garmin could due. Its like the prossesor that they installed in the TND 700 was 10 years old. Example if I needed to make a simple route change I.E. in town down to the next street due to the fact that I couldn\\'t make the turn or the street was blocked off, it would take the TND 700 upwards of 45 seconds to a minute and a half to reroute me. Here I\\'m sitting at a stop light waiting for directions and waiting that long with cars on my backside didn\\'t make me happy. This is a problem that happened evertime you had to reroute, weather it was a simple street change or a major highway change. Also from the time you turned the unit on it would take twice as long to boot itself up. At least a dozen times with in a week it put me on the wrong roads and when I made a wrong turn it got it self lost....I.E. take left on xyz street, and it was some ones drive way. Or turn left in 800 yards and the turn was less than 10 feet away. You might think in a conjested city situation I might get a little mixed up, but this is out in the country. Twice it put me under 12\\'6\" bridges when I\\'m 13\\'6\". Of course I made sure all my truck setting where they were supposed to be. I also updated the OS version,via Rand McNally. All in all I expected alot out of this unit and got a unit that should of been field tested with some people that drive allot. It just had to many route mistakes. Going back to the basic garmin. This isn\\'t just my complaints, I have three friends that bought the same unit and have the same complaints. All of us returned the units.'"
   ]
  },
  {
   "cell_type": "code",
   "execution_count": 16,
   "metadata": {
    "scrolled": true
   },
   "outputs": [
    {
     "data": {
      "text/html": [
       "\n",
       "    <div class=\"bk-root\">\n",
       "        <a href=\"https://bokeh.pydata.org\" target=\"_blank\" class=\"bk-logo bk-logo-small bk-logo-notebook\"></a>\n",
       "        <span id=\"55ca79af-e061-4a13-9dfb-77e6e95a4611\">Loading BokehJS ...</span>\n",
       "    </div>"
      ]
     },
     "metadata": {},
     "output_type": "display_data"
    },
    {
     "data": {
      "application/javascript": [
       "\n",
       "(function(root) {\n",
       "  function now() {\n",
       "    return new Date();\n",
       "  }\n",
       "\n",
       "  var force = true;\n",
       "\n",
       "  if (typeof (root._bokeh_onload_callbacks) === \"undefined\" || force === true) {\n",
       "    root._bokeh_onload_callbacks = [];\n",
       "    root._bokeh_is_loading = undefined;\n",
       "  }\n",
       "\n",
       "  var JS_MIME_TYPE = 'application/javascript';\n",
       "  var HTML_MIME_TYPE = 'text/html';\n",
       "  var EXEC_MIME_TYPE = 'application/vnd.bokehjs_exec.v0+json';\n",
       "  var CLASS_NAME = 'output_bokeh rendered_html';\n",
       "\n",
       "  /**\n",
       "   * Render data to the DOM node\n",
       "   */\n",
       "  function render(props, node) {\n",
       "    var script = document.createElement(\"script\");\n",
       "    node.appendChild(script);\n",
       "  }\n",
       "\n",
       "  /**\n",
       "   * Handle when an output is cleared or removed\n",
       "   */\n",
       "  function handleClearOutput(event, handle) {\n",
       "    var cell = handle.cell;\n",
       "\n",
       "    var id = cell.output_area._bokeh_element_id;\n",
       "    var server_id = cell.output_area._bokeh_server_id;\n",
       "    // Clean up Bokeh references\n",
       "    if (id !== undefined) {\n",
       "      Bokeh.index[id].model.document.clear();\n",
       "      delete Bokeh.index[id];\n",
       "    }\n",
       "\n",
       "    if (server_id !== undefined) {\n",
       "      // Clean up Bokeh references\n",
       "      var cmd = \"from bokeh.io.state import curstate; print(curstate().uuid_to_server['\" + server_id + \"'].get_sessions()[0].document.roots[0]._id)\";\n",
       "      cell.notebook.kernel.execute(cmd, {\n",
       "        iopub: {\n",
       "          output: function(msg) {\n",
       "            var element_id = msg.content.text.trim();\n",
       "            Bokeh.index[element_id].model.document.clear();\n",
       "            delete Bokeh.index[element_id];\n",
       "          }\n",
       "        }\n",
       "      });\n",
       "      // Destroy server and session\n",
       "      var cmd = \"import bokeh.io.notebook as ion; ion.destroy_server('\" + server_id + \"')\";\n",
       "      cell.notebook.kernel.execute(cmd);\n",
       "    }\n",
       "  }\n",
       "\n",
       "  /**\n",
       "   * Handle when a new output is added\n",
       "   */\n",
       "  function handleAddOutput(event, handle) {\n",
       "    var output_area = handle.output_area;\n",
       "    var output = handle.output;\n",
       "\n",
       "    // limit handleAddOutput to display_data with EXEC_MIME_TYPE content only\n",
       "    if ((output.output_type != \"display_data\") || (!output.data.hasOwnProperty(EXEC_MIME_TYPE))) {\n",
       "      return\n",
       "    }\n",
       "\n",
       "    var toinsert = output_area.element.find(\".\" + CLASS_NAME.split(' ')[0]);\n",
       "\n",
       "    if (output.metadata[EXEC_MIME_TYPE][\"id\"] !== undefined) {\n",
       "      toinsert[0].firstChild.textContent = output.data[JS_MIME_TYPE];\n",
       "      // store reference to embed id on output_area\n",
       "      output_area._bokeh_element_id = output.metadata[EXEC_MIME_TYPE][\"id\"];\n",
       "    }\n",
       "    if (output.metadata[EXEC_MIME_TYPE][\"server_id\"] !== undefined) {\n",
       "      var bk_div = document.createElement(\"div\");\n",
       "      bk_div.innerHTML = output.data[HTML_MIME_TYPE];\n",
       "      var script_attrs = bk_div.children[0].attributes;\n",
       "      for (var i = 0; i < script_attrs.length; i++) {\n",
       "        toinsert[0].firstChild.setAttribute(script_attrs[i].name, script_attrs[i].value);\n",
       "      }\n",
       "      // store reference to server id on output_area\n",
       "      output_area._bokeh_server_id = output.metadata[EXEC_MIME_TYPE][\"server_id\"];\n",
       "    }\n",
       "  }\n",
       "\n",
       "  function register_renderer(events, OutputArea) {\n",
       "\n",
       "    function append_mime(data, metadata, element) {\n",
       "      // create a DOM node to render to\n",
       "      var toinsert = this.create_output_subarea(\n",
       "        metadata,\n",
       "        CLASS_NAME,\n",
       "        EXEC_MIME_TYPE\n",
       "      );\n",
       "      this.keyboard_manager.register_events(toinsert);\n",
       "      // Render to node\n",
       "      var props = {data: data, metadata: metadata[EXEC_MIME_TYPE]};\n",
       "      render(props, toinsert[0]);\n",
       "      element.append(toinsert);\n",
       "      return toinsert\n",
       "    }\n",
       "\n",
       "    /* Handle when an output is cleared or removed */\n",
       "    events.on('clear_output.CodeCell', handleClearOutput);\n",
       "    events.on('delete.Cell', handleClearOutput);\n",
       "\n",
       "    /* Handle when a new output is added */\n",
       "    events.on('output_added.OutputArea', handleAddOutput);\n",
       "\n",
       "    /**\n",
       "     * Register the mime type and append_mime function with output_area\n",
       "     */\n",
       "    OutputArea.prototype.register_mime_type(EXEC_MIME_TYPE, append_mime, {\n",
       "      /* Is output safe? */\n",
       "      safe: true,\n",
       "      /* Index of renderer in `output_area.display_order` */\n",
       "      index: 0\n",
       "    });\n",
       "  }\n",
       "\n",
       "  // register the mime type if in Jupyter Notebook environment and previously unregistered\n",
       "  if (root.Jupyter !== undefined) {\n",
       "    var events = require('base/js/events');\n",
       "    var OutputArea = require('notebook/js/outputarea').OutputArea;\n",
       "\n",
       "    if (OutputArea.prototype.mime_types().indexOf(EXEC_MIME_TYPE) == -1) {\n",
       "      register_renderer(events, OutputArea);\n",
       "    }\n",
       "  }\n",
       "\n",
       "  \n",
       "  if (typeof (root._bokeh_timeout) === \"undefined\" || force === true) {\n",
       "    root._bokeh_timeout = Date.now() + 5000;\n",
       "    root._bokeh_failed_load = false;\n",
       "  }\n",
       "\n",
       "  var NB_LOAD_WARNING = {'data': {'text/html':\n",
       "     \"<div style='background-color: #fdd'>\\n\"+\n",
       "     \"<p>\\n\"+\n",
       "     \"BokehJS does not appear to have successfully loaded. If loading BokehJS from CDN, this \\n\"+\n",
       "     \"may be due to a slow or bad network connection. Possible fixes:\\n\"+\n",
       "     \"</p>\\n\"+\n",
       "     \"<ul>\\n\"+\n",
       "     \"<li>re-rerun `output_notebook()` to attempt to load from CDN again, or</li>\\n\"+\n",
       "     \"<li>use INLINE resources instead, as so:</li>\\n\"+\n",
       "     \"</ul>\\n\"+\n",
       "     \"<code>\\n\"+\n",
       "     \"from bokeh.resources import INLINE\\n\"+\n",
       "     \"output_notebook(resources=INLINE)\\n\"+\n",
       "     \"</code>\\n\"+\n",
       "     \"</div>\"}};\n",
       "\n",
       "  function display_loaded() {\n",
       "    var el = document.getElementById(\"55ca79af-e061-4a13-9dfb-77e6e95a4611\");\n",
       "    if (el != null) {\n",
       "      el.textContent = \"BokehJS is loading...\";\n",
       "    }\n",
       "    if (root.Bokeh !== undefined) {\n",
       "      if (el != null) {\n",
       "        el.textContent = \"BokehJS \" + root.Bokeh.version + \" successfully loaded.\";\n",
       "      }\n",
       "    } else if (Date.now() < root._bokeh_timeout) {\n",
       "      setTimeout(display_loaded, 100)\n",
       "    }\n",
       "  }\n",
       "\n",
       "\n",
       "  function run_callbacks() {\n",
       "    try {\n",
       "      root._bokeh_onload_callbacks.forEach(function(callback) { callback() });\n",
       "    }\n",
       "    finally {\n",
       "      delete root._bokeh_onload_callbacks\n",
       "    }\n",
       "    console.info(\"Bokeh: all callbacks have finished\");\n",
       "  }\n",
       "\n",
       "  function load_libs(js_urls, callback) {\n",
       "    root._bokeh_onload_callbacks.push(callback);\n",
       "    if (root._bokeh_is_loading > 0) {\n",
       "      console.log(\"Bokeh: BokehJS is being loaded, scheduling callback at\", now());\n",
       "      return null;\n",
       "    }\n",
       "    if (js_urls == null || js_urls.length === 0) {\n",
       "      run_callbacks();\n",
       "      return null;\n",
       "    }\n",
       "    console.log(\"Bokeh: BokehJS not loaded, scheduling load and callback at\", now());\n",
       "    root._bokeh_is_loading = js_urls.length;\n",
       "    for (var i = 0; i < js_urls.length; i++) {\n",
       "      var url = js_urls[i];\n",
       "      var s = document.createElement('script');\n",
       "      s.src = url;\n",
       "      s.async = false;\n",
       "      s.onreadystatechange = s.onload = function() {\n",
       "        root._bokeh_is_loading--;\n",
       "        if (root._bokeh_is_loading === 0) {\n",
       "          console.log(\"Bokeh: all BokehJS libraries loaded\");\n",
       "          run_callbacks()\n",
       "        }\n",
       "      };\n",
       "      s.onerror = function() {\n",
       "        console.warn(\"failed to load library \" + url);\n",
       "      };\n",
       "      console.log(\"Bokeh: injecting script tag for BokehJS library: \", url);\n",
       "      document.getElementsByTagName(\"head\")[0].appendChild(s);\n",
       "    }\n",
       "  };var element = document.getElementById(\"55ca79af-e061-4a13-9dfb-77e6e95a4611\");\n",
       "  if (element == null) {\n",
       "    console.log(\"Bokeh: ERROR: autoload.js configured with elementid '55ca79af-e061-4a13-9dfb-77e6e95a4611' but no matching script tag was found. \")\n",
       "    return false;\n",
       "  }\n",
       "\n",
       "  var js_urls = [\"https://cdn.pydata.org/bokeh/release/bokeh-0.12.13.min.js\", \"https://cdn.pydata.org/bokeh/release/bokeh-widgets-0.12.13.min.js\", \"https://cdn.pydata.org/bokeh/release/bokeh-tables-0.12.13.min.js\", \"https://cdn.pydata.org/bokeh/release/bokeh-gl-0.12.13.min.js\"];\n",
       "\n",
       "  var inline_js = [\n",
       "    function(Bokeh) {\n",
       "      Bokeh.set_log_level(\"info\");\n",
       "    },\n",
       "    \n",
       "    function(Bokeh) {\n",
       "      \n",
       "    },\n",
       "    function(Bokeh) {\n",
       "      console.log(\"Bokeh: injecting CSS: https://cdn.pydata.org/bokeh/release/bokeh-0.12.13.min.css\");\n",
       "      Bokeh.embed.inject_css(\"https://cdn.pydata.org/bokeh/release/bokeh-0.12.13.min.css\");\n",
       "      console.log(\"Bokeh: injecting CSS: https://cdn.pydata.org/bokeh/release/bokeh-widgets-0.12.13.min.css\");\n",
       "      Bokeh.embed.inject_css(\"https://cdn.pydata.org/bokeh/release/bokeh-widgets-0.12.13.min.css\");\n",
       "      console.log(\"Bokeh: injecting CSS: https://cdn.pydata.org/bokeh/release/bokeh-tables-0.12.13.min.css\");\n",
       "      Bokeh.embed.inject_css(\"https://cdn.pydata.org/bokeh/release/bokeh-tables-0.12.13.min.css\");\n",
       "    }\n",
       "  ];\n",
       "\n",
       "  function run_inline_js() {\n",
       "    \n",
       "    if ((root.Bokeh !== undefined) || (force === true)) {\n",
       "      for (var i = 0; i < inline_js.length; i++) {\n",
       "        inline_js[i].call(root, root.Bokeh);\n",
       "      }if (force === true) {\n",
       "        display_loaded();\n",
       "      }} else if (Date.now() < root._bokeh_timeout) {\n",
       "      setTimeout(run_inline_js, 100);\n",
       "    } else if (!root._bokeh_failed_load) {\n",
       "      console.log(\"Bokeh: BokehJS failed to load within specified timeout.\");\n",
       "      root._bokeh_failed_load = true;\n",
       "    } else if (force !== true) {\n",
       "      var cell = $(document.getElementById(\"55ca79af-e061-4a13-9dfb-77e6e95a4611\")).parents('.cell').data().cell;\n",
       "      cell.output_area.append_execute_result(NB_LOAD_WARNING)\n",
       "    }\n",
       "\n",
       "  }\n",
       "\n",
       "  if (root._bokeh_is_loading === 0) {\n",
       "    console.log(\"Bokeh: BokehJS loaded, going straight to plotting\");\n",
       "    run_inline_js();\n",
       "  } else {\n",
       "    load_libs(js_urls, function() {\n",
       "      console.log(\"Bokeh: BokehJS plotting callback run at\", now());\n",
       "      run_inline_js();\n",
       "    });\n",
       "  }\n",
       "}(window));"
      ],
      "application/vnd.bokehjs_load.v0+json": "\n(function(root) {\n  function now() {\n    return new Date();\n  }\n\n  var force = true;\n\n  if (typeof (root._bokeh_onload_callbacks) === \"undefined\" || force === true) {\n    root._bokeh_onload_callbacks = [];\n    root._bokeh_is_loading = undefined;\n  }\n\n  \n\n  \n  if (typeof (root._bokeh_timeout) === \"undefined\" || force === true) {\n    root._bokeh_timeout = Date.now() + 5000;\n    root._bokeh_failed_load = false;\n  }\n\n  var NB_LOAD_WARNING = {'data': {'text/html':\n     \"<div style='background-color: #fdd'>\\n\"+\n     \"<p>\\n\"+\n     \"BokehJS does not appear to have successfully loaded. If loading BokehJS from CDN, this \\n\"+\n     \"may be due to a slow or bad network connection. Possible fixes:\\n\"+\n     \"</p>\\n\"+\n     \"<ul>\\n\"+\n     \"<li>re-rerun `output_notebook()` to attempt to load from CDN again, or</li>\\n\"+\n     \"<li>use INLINE resources instead, as so:</li>\\n\"+\n     \"</ul>\\n\"+\n     \"<code>\\n\"+\n     \"from bokeh.resources import INLINE\\n\"+\n     \"output_notebook(resources=INLINE)\\n\"+\n     \"</code>\\n\"+\n     \"</div>\"}};\n\n  function display_loaded() {\n    var el = document.getElementById(\"55ca79af-e061-4a13-9dfb-77e6e95a4611\");\n    if (el != null) {\n      el.textContent = \"BokehJS is loading...\";\n    }\n    if (root.Bokeh !== undefined) {\n      if (el != null) {\n        el.textContent = \"BokehJS \" + root.Bokeh.version + \" successfully loaded.\";\n      }\n    } else if (Date.now() < root._bokeh_timeout) {\n      setTimeout(display_loaded, 100)\n    }\n  }\n\n\n  function run_callbacks() {\n    try {\n      root._bokeh_onload_callbacks.forEach(function(callback) { callback() });\n    }\n    finally {\n      delete root._bokeh_onload_callbacks\n    }\n    console.info(\"Bokeh: all callbacks have finished\");\n  }\n\n  function load_libs(js_urls, callback) {\n    root._bokeh_onload_callbacks.push(callback);\n    if (root._bokeh_is_loading > 0) {\n      console.log(\"Bokeh: BokehJS is being loaded, scheduling callback at\", now());\n      return null;\n    }\n    if (js_urls == null || js_urls.length === 0) {\n      run_callbacks();\n      return null;\n    }\n    console.log(\"Bokeh: BokehJS not loaded, scheduling load and callback at\", now());\n    root._bokeh_is_loading = js_urls.length;\n    for (var i = 0; i < js_urls.length; i++) {\n      var url = js_urls[i];\n      var s = document.createElement('script');\n      s.src = url;\n      s.async = false;\n      s.onreadystatechange = s.onload = function() {\n        root._bokeh_is_loading--;\n        if (root._bokeh_is_loading === 0) {\n          console.log(\"Bokeh: all BokehJS libraries loaded\");\n          run_callbacks()\n        }\n      };\n      s.onerror = function() {\n        console.warn(\"failed to load library \" + url);\n      };\n      console.log(\"Bokeh: injecting script tag for BokehJS library: \", url);\n      document.getElementsByTagName(\"head\")[0].appendChild(s);\n    }\n  };var element = document.getElementById(\"55ca79af-e061-4a13-9dfb-77e6e95a4611\");\n  if (element == null) {\n    console.log(\"Bokeh: ERROR: autoload.js configured with elementid '55ca79af-e061-4a13-9dfb-77e6e95a4611' but no matching script tag was found. \")\n    return false;\n  }\n\n  var js_urls = [\"https://cdn.pydata.org/bokeh/release/bokeh-0.12.13.min.js\", \"https://cdn.pydata.org/bokeh/release/bokeh-widgets-0.12.13.min.js\", \"https://cdn.pydata.org/bokeh/release/bokeh-tables-0.12.13.min.js\", \"https://cdn.pydata.org/bokeh/release/bokeh-gl-0.12.13.min.js\"];\n\n  var inline_js = [\n    function(Bokeh) {\n      Bokeh.set_log_level(\"info\");\n    },\n    \n    function(Bokeh) {\n      \n    },\n    function(Bokeh) {\n      console.log(\"Bokeh: injecting CSS: https://cdn.pydata.org/bokeh/release/bokeh-0.12.13.min.css\");\n      Bokeh.embed.inject_css(\"https://cdn.pydata.org/bokeh/release/bokeh-0.12.13.min.css\");\n      console.log(\"Bokeh: injecting CSS: https://cdn.pydata.org/bokeh/release/bokeh-widgets-0.12.13.min.css\");\n      Bokeh.embed.inject_css(\"https://cdn.pydata.org/bokeh/release/bokeh-widgets-0.12.13.min.css\");\n      console.log(\"Bokeh: injecting CSS: https://cdn.pydata.org/bokeh/release/bokeh-tables-0.12.13.min.css\");\n      Bokeh.embed.inject_css(\"https://cdn.pydata.org/bokeh/release/bokeh-tables-0.12.13.min.css\");\n    }\n  ];\n\n  function run_inline_js() {\n    \n    if ((root.Bokeh !== undefined) || (force === true)) {\n      for (var i = 0; i < inline_js.length; i++) {\n        inline_js[i].call(root, root.Bokeh);\n      }if (force === true) {\n        display_loaded();\n      }} else if (Date.now() < root._bokeh_timeout) {\n      setTimeout(run_inline_js, 100);\n    } else if (!root._bokeh_failed_load) {\n      console.log(\"Bokeh: BokehJS failed to load within specified timeout.\");\n      root._bokeh_failed_load = true;\n    } else if (force !== true) {\n      var cell = $(document.getElementById(\"55ca79af-e061-4a13-9dfb-77e6e95a4611\")).parents('.cell').data().cell;\n      cell.output_area.append_execute_result(NB_LOAD_WARNING)\n    }\n\n  }\n\n  if (root._bokeh_is_loading === 0) {\n    console.log(\"Bokeh: BokehJS loaded, going straight to plotting\");\n    run_inline_js();\n  } else {\n    load_libs(js_urls, function() {\n      console.log(\"Bokeh: BokehJS plotting callback run at\", now());\n      run_inline_js();\n    });\n  }\n}(window));"
     },
     "metadata": {},
     "output_type": "display_data"
    },
    {
     "data": {
      "text/html": [
       "\n",
       "<div class=\"bk-root\">\n",
       "    <div class=\"bk-plotdiv\" id=\"aa0f5c37-3e0d-4441-89f9-5183574f9293\"></div>\n",
       "</div>"
      ]
     },
     "metadata": {},
     "output_type": "display_data"
    },
    {
     "data": {
      "application/javascript": [
       "(function(root) {\n",
       "  function embed_document(root) {\n",
       "    \n",
       "  var docs_json = {\"55d1a2b4-f0a5-4042-9a70-8ec2f2743047\":{\"roots\":{\"references\":[{\"attributes\":{\"data_source\":{\"id\":\"57b77c5a-0037-4890-a2ac-70574d494f43\",\"type\":\"ColumnDataSource\"},\"glyph\":{\"id\":\"4fee455c-f0e7-4029-b656-828a97c46813\",\"type\":\"VBar\"},\"hover_glyph\":null,\"muted_glyph\":null,\"nonselection_glyph\":{\"id\":\"10930e61-e466-4be9-9dfa-880da1e633d9\",\"type\":\"VBar\"},\"selection_glyph\":null,\"view\":{\"id\":\"b32f56f0-fa4e-4828-aaf6-188e821cb092\",\"type\":\"CDSView\"}},\"id\":\"a4fb1b82-785c-454c-92b8-a44cc87c3ced\",\"type\":\"GlyphRenderer\"},{\"attributes\":{\"bottom\":{\"field\":\"bar5\"},\"fill_alpha\":{\"value\":0.1},\"fill_color\":{\"value\":\"#1f77b4\"},\"line_alpha\":{\"value\":0.1},\"line_color\":{\"value\":\"#1f77b4\"},\"top\":{\"field\":\"bar6\"},\"width\":{\"value\":0.5},\"x\":{\"field\":\"x\"}},\"id\":\"bb7871e8-bebc-47b2-b3b5-9b8b534ad638\",\"type\":\"VBar\"},{\"attributes\":{\"source\":{\"id\":\"57b77c5a-0037-4890-a2ac-70574d494f43\",\"type\":\"ColumnDataSource\"}},\"id\":\"b32f56f0-fa4e-4828-aaf6-188e821cb092\",\"type\":\"CDSView\"},{\"attributes\":{\"label\":{\"value\":\"Sentiment 3\"},\"renderers\":[{\"id\":\"a4fb1b82-785c-454c-92b8-a44cc87c3ced\",\"type\":\"GlyphRenderer\"},{\"id\":\"f8d3b5dd-3e61-4726-8ebd-290f37cc567b\",\"type\":\"GlyphRenderer\"},{\"id\":\"4d68d782-9746-450f-8f59-e87d3f475d66\",\"type\":\"GlyphRenderer\"},{\"id\":\"f1aa2aef-dbf1-457c-8546-1a3db4a128a6\",\"type\":\"GlyphRenderer\"},{\"id\":\"298e7191-bb9f-463e-bb62-05afcb802699\",\"type\":\"GlyphRenderer\"}]},\"id\":\"7aae08c6-f25c-4607-a133-465ee82f3b15\",\"type\":\"LegendItem\"},{\"attributes\":{\"source\":{\"id\":\"57b77c5a-0037-4890-a2ac-70574d494f43\",\"type\":\"ColumnDataSource\"}},\"id\":\"550ab874-18ee-4ae4-879a-8a6864591ba6\",\"type\":\"CDSView\"},{\"attributes\":{\"line_color\":\"red\",\"line_width\":2,\"x\":{\"field\":\"x\"},\"y\":{\"field\":\"y\"}},\"id\":\"d63bd758-6fd1-42a0-9e1a-d147e26c22e5\",\"type\":\"Line\"},{\"attributes\":{\"bottom\":{\"field\":\"bar5\"},\"fill_color\":{\"value\":\"DarkGrey\"},\"line_color\":{\"value\":\"DarkGrey\"},\"top\":{\"field\":\"bar6\"},\"width\":{\"value\":0.5},\"x\":{\"field\":\"x\"}},\"id\":\"027d8002-550e-47ae-b103-1e0ec9eb9427\",\"type\":\"VBar\"},{\"attributes\":{\"bottom\":{\"field\":\"bar6\"},\"fill_alpha\":{\"value\":0.1},\"fill_color\":{\"value\":\"#1f77b4\"},\"line_alpha\":{\"value\":0.1},\"line_color\":{\"value\":\"#1f77b4\"},\"top\":{\"field\":\"bar7\"},\"width\":{\"value\":0.5},\"x\":{\"field\":\"x\"}},\"id\":\"8eb663e4-4613-4eb1-ba93-ea7012dd2877\",\"type\":\"VBar\"},{\"attributes\":{\"data_source\":{\"id\":\"57b77c5a-0037-4890-a2ac-70574d494f43\",\"type\":\"ColumnDataSource\"},\"glyph\":{\"id\":\"027d8002-550e-47ae-b103-1e0ec9eb9427\",\"type\":\"VBar\"},\"hover_glyph\":null,\"muted_glyph\":null,\"nonselection_glyph\":{\"id\":\"bb7871e8-bebc-47b2-b3b5-9b8b534ad638\",\"type\":\"VBar\"},\"selection_glyph\":null,\"view\":{\"id\":\"550ab874-18ee-4ae4-879a-8a6864591ba6\",\"type\":\"CDSView\"}},\"id\":\"4d68d782-9746-450f-8f59-e87d3f475d66\",\"type\":\"GlyphRenderer\"},{\"attributes\":{\"bottom\":{\"field\":\"bar6\"},\"fill_color\":{\"value\":\"GoldenRod\"},\"line_color\":{\"value\":\"GoldenRod\"},\"top\":{\"field\":\"bar7\"},\"width\":{\"value\":0.5},\"x\":{\"field\":\"x\"}},\"id\":\"bbe8a0e3-065e-4aa8-ac89-8ec6826707f3\",\"type\":\"VBar\"},{\"attributes\":{\"bottom\":{\"field\":\"bar7\"},\"fill_alpha\":{\"value\":0.1},\"fill_color\":{\"value\":\"#1f77b4\"},\"line_alpha\":{\"value\":0.1},\"line_color\":{\"value\":\"#1f77b4\"},\"top\":{\"field\":\"bar8\"},\"width\":{\"value\":0.5},\"x\":{\"field\":\"x\"}},\"id\":\"6d2d76b2-0c10-4d7f-b8fa-d7e5fb55ddcb\",\"type\":\"VBar\"},{\"attributes\":{\"source\":{\"id\":\"57b77c5a-0037-4890-a2ac-70574d494f43\",\"type\":\"ColumnDataSource\"}},\"id\":\"119a9520-b79a-461d-b954-fa6af05f0a75\",\"type\":\"CDSView\"},{\"attributes\":{\"data_source\":{\"id\":\"57b77c5a-0037-4890-a2ac-70574d494f43\",\"type\":\"ColumnDataSource\"},\"glyph\":{\"id\":\"bbe8a0e3-065e-4aa8-ac89-8ec6826707f3\",\"type\":\"VBar\"},\"hover_glyph\":null,\"muted_glyph\":null,\"nonselection_glyph\":{\"id\":\"8eb663e4-4613-4eb1-ba93-ea7012dd2877\",\"type\":\"VBar\"},\"selection_glyph\":null,\"view\":{\"id\":\"119a9520-b79a-461d-b954-fa6af05f0a75\",\"type\":\"CDSView\"}},\"id\":\"f1aa2aef-dbf1-457c-8546-1a3db4a128a6\",\"type\":\"GlyphRenderer\"},{\"attributes\":{\"callback\":{\"id\":\"11e868bd-060b-41ac-b18b-81c2c8357f9b\",\"type\":\"CustomJS\"},\"options\":[[\"0\",\"MediaDevil Magic Screen protector\"],[\"1\",\"Sony VAIO; 19 Volt Stick AC Adapter\"],[\"2\",\"JBL Speaker and Docking Station for iPod\"],[\"3\",\"Aurum Ultra Series - High Speed HDMI Cable\"],[\"4\",\"Thermaltake Contac 21 Universal CPU Cooler Direct\"]],\"title\":\"Product\",\"value\":\"0\"},\"id\":\"39e10773-1f58-4d74-9eff-4332137ca630\",\"type\":\"Select\"},{\"attributes\":{\"bottom\":{\"field\":\"bar7\"},\"fill_color\":{\"value\":\"Orchid\"},\"line_color\":{\"value\":\"Orchid\"},\"top\":{\"field\":\"bar8\"},\"width\":{\"value\":0.5},\"x\":{\"field\":\"x\"}},\"id\":\"6aa024eb-5e5e-4885-a12d-7518daaef3ab\",\"type\":\"VBar\"},{\"attributes\":{\"line_alpha\":0.1,\"line_color\":\"#1f77b4\",\"line_width\":2,\"x\":{\"field\":\"x\"},\"y\":{\"field\":\"y\"}},\"id\":\"a04c0536-832f-40d5-a00d-eae5105f6aa1\",\"type\":\"Line\"},{\"attributes\":{\"source\":{\"id\":\"57b77c5a-0037-4890-a2ac-70574d494f43\",\"type\":\"ColumnDataSource\"}},\"id\":\"46ddc057-a6d4-479c-aa34-51566bc68129\",\"type\":\"CDSView\"},{\"attributes\":{\"data_source\":{\"id\":\"57b77c5a-0037-4890-a2ac-70574d494f43\",\"type\":\"ColumnDataSource\"},\"glyph\":{\"id\":\"6aa024eb-5e5e-4885-a12d-7518daaef3ab\",\"type\":\"VBar\"},\"hover_glyph\":null,\"muted_glyph\":null,\"nonselection_glyph\":{\"id\":\"6d2d76b2-0c10-4d7f-b8fa-d7e5fb55ddcb\",\"type\":\"VBar\"},\"selection_glyph\":null,\"view\":{\"id\":\"46ddc057-a6d4-479c-aa34-51566bc68129\",\"type\":\"CDSView\"}},\"id\":\"298e7191-bb9f-463e-bb62-05afcb802699\",\"type\":\"GlyphRenderer\"},{\"attributes\":{\"args\":{\"product\":{\"id\":\"39e10773-1f58-4d74-9eff-4332137ca630\",\"type\":\"Select\"},\"source\":{\"id\":\"57b77c5a-0037-4890-a2ac-70574d494f43\",\"type\":\"ColumnDataSource\"},\"source2\":{\"id\":\"03e3dede-c47f-414d-b4ce-ba130622541a\",\"type\":\"ColumnDataSource\"},\"wb\":{\"id\":\"094ff2f4-e866-455c-b840-051fa1c98cea\",\"type\":\"Slider\"},\"we\":{\"id\":\"581229f4-fac3-42ff-b94e-7cefb7406a3d\",\"type\":\"Slider\"},\"ws\":{\"id\":\"682bd105-d7db-4d24-ae10-a451e15084cc\",\"type\":\"Slider\"},\"wt\":{\"id\":\"1905e2e4-bea6-4c86-8831-7bc4f4246336\",\"type\":\"Slider\"}},\"code\":\"\\n    var data = source.data;\\n    var data2 = source2.data;\\n    var product_name = parseInt(product.value);\\n    var ws_value = ws.value*4;\\n    var wb_value = wb.value*4;\\n    var we_value = we.value*4;\\n    var wt_value = wt.value*4;\\n    new_rating_v = data['new_rating'];\\n    old_rating = data2['old_rating']\\n    y = data2['y']\\n    y[0] = old_rating[product_name];\\n    y[1] = old_rating[product_name];\\n    bar1 = data['bar1']\\n    bar2 = data['bar2']\\n    bar3 = data['bar3']\\n    bar4 = data['bar4']\\n    bar5 = data['bar5']\\n    bar6 = data['bar6']\\n    bar7 = data['bar7']\\n    bar8 = data['bar8']\\n    bar1[0] = new_rating_v[product_name][ws_value][wb_value][we_value][wt_value][0];\\n    bar2[0] = new_rating_v[product_name][ws_value][wb_value][we_value][wt_value][1]+bar1[0];\\n    bar3[0] = new_rating_v[product_name][ws_value][wb_value][we_value][wt_value][2]+bar2[0];\\n    bar4[0] = new_rating_v[product_name][ws_value][wb_value][we_value][wt_value][3]+bar3[0];\\n    bar5[0] = new_rating_v[product_name][ws_value][wb_value][we_value][wt_value][4]+bar4[0];\\n    bar6[0] = new_rating_v[product_name][ws_value][wb_value][we_value][wt_value][5]+bar5[0];\\n    bar7[0] = new_rating_v[product_name][ws_value][wb_value][we_value][wt_value][6]+bar6[0];\\n    bar8[0] = new_rating_v[product_name][ws_value][wb_value][we_value][wt_value][7]+bar7[0];\\n    source.change.emit();\\n    source2.change.emit();\\n\"},\"id\":\"11e868bd-060b-41ac-b18b-81c2c8357f9b\",\"type\":\"CustomJS\"},{\"attributes\":{\"data_source\":{\"id\":\"03e3dede-c47f-414d-b4ce-ba130622541a\",\"type\":\"ColumnDataSource\"},\"glyph\":{\"id\":\"d63bd758-6fd1-42a0-9e1a-d147e26c22e5\",\"type\":\"Line\"},\"hover_glyph\":null,\"muted_glyph\":null,\"nonselection_glyph\":{\"id\":\"a04c0536-832f-40d5-a00d-eae5105f6aa1\",\"type\":\"Line\"},\"selection_glyph\":null,\"view\":{\"id\":\"47750f50-3619-4323-b1bf-d5206e35d2e3\",\"type\":\"CDSView\"}},\"id\":\"06cb0803-376e-4dd2-a9f7-71e503b2cbd4\",\"type\":\"GlyphRenderer\"},{\"attributes\":{\"label\":{\"value\":\"Old Rating\"},\"renderers\":[{\"id\":\"06cb0803-376e-4dd2-a9f7-71e503b2cbd4\",\"type\":\"GlyphRenderer\"}]},\"id\":\"0c0d685b-9ef8-4597-8996-064b3403e9fd\",\"type\":\"LegendItem\"},{\"attributes\":{\"callback\":{\"id\":\"11e868bd-060b-41ac-b18b-81c2c8357f9b\",\"type\":\"CustomJS\"},\"end\":1,\"start\":0,\"step\":0.25,\"title\":\"Weight Ws\",\"value\":0},\"id\":\"094ff2f4-e866-455c-b840-051fa1c98cea\",\"type\":\"Slider\"},{\"attributes\":{\"source\":{\"id\":\"03e3dede-c47f-414d-b4ce-ba130622541a\",\"type\":\"ColumnDataSource\"}},\"id\":\"47750f50-3619-4323-b1bf-d5206e35d2e3\",\"type\":\"CDSView\"},{\"attributes\":{\"callback\":{\"id\":\"11e868bd-060b-41ac-b18b-81c2c8357f9b\",\"type\":\"CustomJS\"},\"end\":1,\"start\":0,\"step\":0.25,\"title\":\"Weight Wsr\",\"value\":0},\"id\":\"581229f4-fac3-42ff-b94e-7cefb7406a3d\",\"type\":\"Slider\"},{\"attributes\":{\"label\":{\"value\":\"Sentiment Value\"},\"renderers\":[{\"id\":\"298e7191-bb9f-463e-bb62-05afcb802699\",\"type\":\"GlyphRenderer\"}]},\"id\":\"949b0661-8f7d-477a-b480-a94bf3da9366\",\"type\":\"LegendItem\"},{\"attributes\":{\"items\":[{\"id\":\"949b0661-8f7d-477a-b480-a94bf3da9366\",\"type\":\"LegendItem\"},{\"id\":\"877352d3-8c01-4098-9ec6-4a3b9bd53c6c\",\"type\":\"LegendItem\"},{\"id\":\"11e4bdc6-1d28-4013-9b64-7aab3ea713e7\",\"type\":\"LegendItem\"},{\"id\":\"5be29bdd-d2a2-4a64-bb1e-b257e74894a6\",\"type\":\"LegendItem\"},{\"id\":\"e285c2cd-7f15-4ccf-a4aa-d9c301e402a1\",\"type\":\"LegendItem\"},{\"id\":\"0ab9b7c5-d416-4d51-a944-3efb2b1a5029\",\"type\":\"LegendItem\"},{\"id\":\"3829b38f-3dd9-4735-a729-5647b5f30ca7\",\"type\":\"LegendItem\"},{\"id\":\"1b74cb15-9147-4bc3-b19d-6a7bb0548461\",\"type\":\"LegendItem\"},{\"id\":\"bccd16df-176a-4ce7-8b6c-d73522ea57a1\",\"type\":\"LegendItem\"}],\"location\":[0,10],\"plot\":{\"id\":\"ae1cea57-302b-4fbd-b26b-c3ab2aeeace8\",\"subtype\":\"Figure\",\"type\":\"Plot\"}},\"id\":\"4aa7a47b-c3d6-4956-bd3b-5febfa3855d6\",\"type\":\"Legend\"},{\"attributes\":{\"data_source\":{\"id\":\"57b77c5a-0037-4890-a2ac-70574d494f43\",\"type\":\"ColumnDataSource\"},\"glyph\":{\"id\":\"0dc07453-983d-4d40-827c-bb375171c1c9\",\"type\":\"VBar\"},\"hover_glyph\":null,\"muted_glyph\":null,\"nonselection_glyph\":{\"id\":\"be7467d2-fd65-42a3-b083-e7f79e6f2517\",\"type\":\"VBar\"},\"selection_glyph\":null,\"view\":{\"id\":\"4ca4aa77-2491-4888-a247-2fe3496e24d1\",\"type\":\"CDSView\"}},\"id\":\"f8d3b5dd-3e61-4726-8ebd-290f37cc567b\",\"type\":\"GlyphRenderer\"},{\"attributes\":{\"label\":{\"value\":\"Sentiment Mean\"},\"renderers\":[{\"id\":\"f1aa2aef-dbf1-457c-8546-1a3db4a128a6\",\"type\":\"GlyphRenderer\"}]},\"id\":\"877352d3-8c01-4098-9ec6-4a3b9bd53c6c\",\"type\":\"LegendItem\"},{\"attributes\":{\"children\":[{\"id\":\"ae1cea57-302b-4fbd-b26b-c3ab2aeeace8\",\"subtype\":\"Figure\",\"type\":\"Plot\"},{\"id\":\"77c4b75e-76f3-4f7d-a2d0-9ef1eb4362f1\",\"type\":\"WidgetBox\"}]},\"id\":\"d6a55dea-5e80-48fa-91f9-9ef5897b63be\",\"type\":\"Row\"},{\"attributes\":{\"label\":{\"value\":\"Rating Value\"},\"renderers\":[{\"id\":\"4d68d782-9746-450f-8f59-e87d3f475d66\",\"type\":\"GlyphRenderer\"}]},\"id\":\"11e4bdc6-1d28-4013-9b64-7aab3ea713e7\",\"type\":\"LegendItem\"},{\"attributes\":{\"bottom\":{\"field\":\"bar4\"},\"fill_alpha\":{\"value\":0.1},\"fill_color\":{\"value\":\"#1f77b4\"},\"line_alpha\":{\"value\":0.1},\"line_color\":{\"value\":\"#1f77b4\"},\"top\":{\"field\":\"bar5\"},\"width\":{\"value\":0.5},\"x\":{\"field\":\"x\"}},\"id\":\"be7467d2-fd65-42a3-b083-e7f79e6f2517\",\"type\":\"VBar\"},{\"attributes\":{\"background_fill_alpha\":{\"value\":0.4},\"background_fill_color\":{\"value\":\"LightGray\"},\"below\":[{\"id\":\"f64bf6e6-9cb4-4d38-8cd2-dfea14643199\",\"type\":\"LinearAxis\"}],\"left\":[{\"id\":\"d3b1637a-c828-454f-90b7-a443cf64ea00\",\"type\":\"LinearAxis\"}],\"plot_height\":250,\"plot_width\":300,\"renderers\":[{\"id\":\"f64bf6e6-9cb4-4d38-8cd2-dfea14643199\",\"type\":\"LinearAxis\"},{\"id\":\"01aab139-2842-4183-ad5f-2cfdf6abe106\",\"type\":\"Grid\"},{\"id\":\"d3b1637a-c828-454f-90b7-a443cf64ea00\",\"type\":\"LinearAxis\"},{\"id\":\"c057faee-4bc1-4b65-b37d-68b57018eec4\",\"type\":\"Grid\"},{\"id\":\"92f0679e-35c0-4399-bb5e-b336ce154fc8\",\"type\":\"Legend\"},{\"id\":\"64f9205e-edc5-419b-96dd-46c08970a4d0\",\"type\":\"GlyphRenderer\"},{\"id\":\"1c1414e6-d081-4ecd-bdc0-ecb4009dc9d5\",\"type\":\"GlyphRenderer\"},{\"id\":\"84af477e-23e5-443b-8665-52015d4b3ced\",\"type\":\"GlyphRenderer\"},{\"id\":\"a4fb1b82-785c-454c-92b8-a44cc87c3ced\",\"type\":\"GlyphRenderer\"},{\"id\":\"f8d3b5dd-3e61-4726-8ebd-290f37cc567b\",\"type\":\"GlyphRenderer\"},{\"id\":\"4d68d782-9746-450f-8f59-e87d3f475d66\",\"type\":\"GlyphRenderer\"},{\"id\":\"f1aa2aef-dbf1-457c-8546-1a3db4a128a6\",\"type\":\"GlyphRenderer\"},{\"id\":\"298e7191-bb9f-463e-bb62-05afcb802699\",\"type\":\"GlyphRenderer\"},{\"id\":\"06cb0803-376e-4dd2-a9f7-71e503b2cbd4\",\"type\":\"GlyphRenderer\"},{\"id\":\"4aa7a47b-c3d6-4956-bd3b-5febfa3855d6\",\"type\":\"Legend\"}],\"right\":[{\"id\":\"4aa7a47b-c3d6-4956-bd3b-5febfa3855d6\",\"type\":\"Legend\"}],\"title\":{\"id\":\"48566718-8068-422c-a18f-5b7723a1bba8\",\"type\":\"Title\"},\"toolbar\":{\"id\":\"007fdbdb-c1dc-4eb1-a976-03e454756ac9\",\"type\":\"Toolbar\"},\"x_range\":{\"id\":\"7d34f809-24e0-42b0-881d-7e87056a596d\",\"type\":\"Range1d\"},\"x_scale\":{\"id\":\"394e611c-bd90-4663-8931-fdc9f9c8f6ac\",\"type\":\"LinearScale\"},\"y_range\":{\"id\":\"14381af6-dcc3-4db0-8532-80fbb66f7c6a\",\"type\":\"Range1d\"},\"y_scale\":{\"id\":\"73b07977-23e7-4609-8ede-8f5c9b58e96a\",\"type\":\"LinearScale\"}},\"id\":\"ae1cea57-302b-4fbd-b26b-c3ab2aeeace8\",\"subtype\":\"Figure\",\"type\":\"Plot\"},{\"attributes\":{\"label\":{\"value\":\"Rating Mean\"},\"renderers\":[{\"id\":\"f8d3b5dd-3e61-4726-8ebd-290f37cc567b\",\"type\":\"GlyphRenderer\"}]},\"id\":\"5be29bdd-d2a2-4a64-bb1e-b257e74894a6\",\"type\":\"LegendItem\"},{\"attributes\":{\"active_drag\":\"auto\",\"active_inspect\":\"auto\",\"active_scroll\":\"auto\",\"active_tap\":\"auto\"},\"id\":\"007fdbdb-c1dc-4eb1-a976-03e454756ac9\",\"type\":\"Toolbar\"},{\"attributes\":{\"label\":{\"value\":\"Exp: Sentiment Value\"},\"renderers\":[{\"id\":\"a4fb1b82-785c-454c-92b8-a44cc87c3ced\",\"type\":\"GlyphRenderer\"}]},\"id\":\"e285c2cd-7f15-4ccf-a4aa-d9c301e402a1\",\"type\":\"LegendItem\"},{\"attributes\":{\"callback\":null,\"end\":5,\"start\":1},\"id\":\"14381af6-dcc3-4db0-8532-80fbb66f7c6a\",\"type\":\"Range1d\"},{\"attributes\":{\"label\":{\"value\":\"Exp: Sentiment Mean\"},\"renderers\":[{\"id\":\"84af477e-23e5-443b-8665-52015d4b3ced\",\"type\":\"GlyphRenderer\"}]},\"id\":\"0ab9b7c5-d416-4d51-a944-3efb2b1a5029\",\"type\":\"LegendItem\"},{\"attributes\":{},\"id\":\"394e611c-bd90-4663-8931-fdc9f9c8f6ac\",\"type\":\"LinearScale\"},{\"attributes\":{\"label\":{\"value\":\"Exp: Rating Value\"},\"renderers\":[{\"id\":\"1c1414e6-d081-4ecd-bdc0-ecb4009dc9d5\",\"type\":\"GlyphRenderer\"}]},\"id\":\"3829b38f-3dd9-4735-a729-5647b5f30ca7\",\"type\":\"LegendItem\"},{\"attributes\":{\"bottom\":{\"value\":1},\"fill_color\":{\"value\":\"#1f77b4\"},\"line_color\":{\"value\":\"#1f77b4\"},\"top\":{\"field\":\"bar1\"},\"width\":{\"value\":0.5},\"x\":{\"field\":\"x\"}},\"id\":\"56f01e6a-45cb-4232-ba50-c0c248102efa\",\"type\":\"VBar\"},{\"attributes\":{\"label\":{\"value\":\"Exp: Rating Mean\"},\"renderers\":[{\"id\":\"64f9205e-edc5-419b-96dd-46c08970a4d0\",\"type\":\"GlyphRenderer\"}]},\"id\":\"1b74cb15-9147-4bc3-b19d-6a7bb0548461\",\"type\":\"LegendItem\"},{\"attributes\":{\"callback\":null,\"end\":0.5,\"start\":-0.5},\"id\":\"7d34f809-24e0-42b0-881d-7e87056a596d\",\"type\":\"Range1d\"},{\"attributes\":{\"label\":{\"value\":\"Original Rating\"},\"renderers\":[{\"id\":\"06cb0803-376e-4dd2-a9f7-71e503b2cbd4\",\"type\":\"GlyphRenderer\"}]},\"id\":\"bccd16df-176a-4ce7-8b6c-d73522ea57a1\",\"type\":\"LegendItem\"},{\"attributes\":{},\"id\":\"73b07977-23e7-4609-8ede-8f5c9b58e96a\",\"type\":\"LinearScale\"},{\"attributes\":{\"callback\":{\"id\":\"11e868bd-060b-41ac-b18b-81c2c8357f9b\",\"type\":\"CustomJS\"},\"end\":1,\"start\":0,\"step\":0.25,\"title\":\"Weight We\",\"value\":0},\"id\":\"682bd105-d7db-4d24-ae10-a451e15084cc\",\"type\":\"Slider\"},{\"attributes\":{\"grid_line_color\":{\"value\":\"White\"},\"plot\":{\"id\":\"ae1cea57-302b-4fbd-b26b-c3ab2aeeace8\",\"subtype\":\"Figure\",\"type\":\"Plot\"},\"ticker\":{\"id\":\"169044be-9195-4caa-b229-787af67efeb1\",\"type\":\"BasicTicker\"}},\"id\":\"01aab139-2842-4183-ad5f-2cfdf6abe106\",\"type\":\"Grid\"},{\"attributes\":{\"callback\":{\"id\":\"11e868bd-060b-41ac-b18b-81c2c8357f9b\",\"type\":\"CustomJS\"},\"end\":1,\"start\":0,\"step\":0.25,\"title\":\"Weight Wgr\",\"value\":0},\"id\":\"1905e2e4-bea6-4c86-8831-7bc4f4246336\",\"type\":\"Slider\"},{\"attributes\":{\"children\":[{\"id\":\"39e10773-1f58-4d74-9eff-4332137ca630\",\"type\":\"Select\"},{\"id\":\"682bd105-d7db-4d24-ae10-a451e15084cc\",\"type\":\"Slider\"},{\"id\":\"094ff2f4-e866-455c-b840-051fa1c98cea\",\"type\":\"Slider\"},{\"id\":\"581229f4-fac3-42ff-b94e-7cefb7406a3d\",\"type\":\"Slider\"},{\"id\":\"1905e2e4-bea6-4c86-8831-7bc4f4246336\",\"type\":\"Slider\"}]},\"id\":\"77c4b75e-76f3-4f7d-a2d0-9ef1eb4362f1\",\"type\":\"WidgetBox\"},{\"attributes\":{\"formatter\":{\"id\":\"9db505af-6dbb-44c7-8702-70dae725eda8\",\"type\":\"BasicTickFormatter\"},\"plot\":{\"id\":\"ae1cea57-302b-4fbd-b26b-c3ab2aeeace8\",\"subtype\":\"Figure\",\"type\":\"Plot\"},\"ticker\":{\"id\":\"169044be-9195-4caa-b229-787af67efeb1\",\"type\":\"BasicTicker\"},\"visible\":false},\"id\":\"f64bf6e6-9cb4-4d38-8cd2-dfea14643199\",\"type\":\"LinearAxis\"},{\"attributes\":{},\"id\":\"169044be-9195-4caa-b229-787af67efeb1\",\"type\":\"BasicTicker\"},{\"attributes\":{\"axis_label\":\"Rating\",\"formatter\":{\"id\":\"f6dfa306-f67c-40d3-af87-d3861c232995\",\"type\":\"BasicTickFormatter\"},\"plot\":{\"id\":\"ae1cea57-302b-4fbd-b26b-c3ab2aeeace8\",\"subtype\":\"Figure\",\"type\":\"Plot\"},\"ticker\":{\"id\":\"55354247-c6c5-49a7-802e-b53d20b073e8\",\"type\":\"BasicTicker\"}},\"id\":\"d3b1637a-c828-454f-90b7-a443cf64ea00\",\"type\":\"LinearAxis\"},{\"attributes\":{},\"id\":\"55354247-c6c5-49a7-802e-b53d20b073e8\",\"type\":\"BasicTicker\"},{\"attributes\":{\"dimension\":1,\"grid_line_color\":{\"value\":\"White\"},\"plot\":{\"id\":\"ae1cea57-302b-4fbd-b26b-c3ab2aeeace8\",\"subtype\":\"Figure\",\"type\":\"Plot\"},\"ticker\":{\"id\":\"55354247-c6c5-49a7-802e-b53d20b073e8\",\"type\":\"BasicTicker\"}},\"id\":\"c057faee-4bc1-4b65-b37d-68b57018eec4\",\"type\":\"Grid\"},{\"attributes\":{\"items\":[{\"id\":\"8f287d06-522a-4996-837f-9c2c3c7f2427\",\"type\":\"LegendItem\"},{\"id\":\"ccd778bb-0477-4568-a288-822492236168\",\"type\":\"LegendItem\"},{\"id\":\"ea1e475e-5019-459f-b1e8-ce7e6465948d\",\"type\":\"LegendItem\"},{\"id\":\"7aae08c6-f25c-4607-a133-465ee82f3b15\",\"type\":\"LegendItem\"},{\"id\":\"0c0d685b-9ef8-4597-8996-064b3403e9fd\",\"type\":\"LegendItem\"}],\"plot\":{\"id\":\"ae1cea57-302b-4fbd-b26b-c3ab2aeeace8\",\"subtype\":\"Figure\",\"type\":\"Plot\"},\"visible\":false},\"id\":\"92f0679e-35c0-4399-bb5e-b336ce154fc8\",\"type\":\"Legend\"},{\"attributes\":{\"bottom\":{\"value\":1},\"fill_alpha\":{\"value\":0.1},\"fill_color\":{\"value\":\"#1f77b4\"},\"line_alpha\":{\"value\":0.1},\"line_color\":{\"value\":\"#1f77b4\"},\"top\":{\"field\":\"bar1\"},\"width\":{\"value\":0.5},\"x\":{\"field\":\"x\"}},\"id\":\"d6bf60a5-6e03-48b1-8b6a-88b258704753\",\"type\":\"VBar\"},{\"attributes\":{},\"id\":\"9db505af-6dbb-44c7-8702-70dae725eda8\",\"type\":\"BasicTickFormatter\"},{\"attributes\":{\"data_source\":{\"id\":\"57b77c5a-0037-4890-a2ac-70574d494f43\",\"type\":\"ColumnDataSource\"},\"glyph\":{\"id\":\"56f01e6a-45cb-4232-ba50-c0c248102efa\",\"type\":\"VBar\"},\"hover_glyph\":null,\"muted_glyph\":null,\"nonselection_glyph\":{\"id\":\"d6bf60a5-6e03-48b1-8b6a-88b258704753\",\"type\":\"VBar\"},\"selection_glyph\":null,\"view\":{\"id\":\"677b7bc9-1c79-4719-bd0f-3022dca0046d\",\"type\":\"CDSView\"}},\"id\":\"64f9205e-edc5-419b-96dd-46c08970a4d0\",\"type\":\"GlyphRenderer\"},{\"attributes\":{},\"id\":\"f6dfa306-f67c-40d3-af87-d3861c232995\",\"type\":\"BasicTickFormatter\"},{\"attributes\":{\"source\":{\"id\":\"57b77c5a-0037-4890-a2ac-70574d494f43\",\"type\":\"ColumnDataSource\"}},\"id\":\"677b7bc9-1c79-4719-bd0f-3022dca0046d\",\"type\":\"CDSView\"},{\"attributes\":{\"callback\":null,\"column_names\":[\"x\",\"y\",\"new_rating\",\"bar1\",\"bar2\",\"bar3\",\"bar4\",\"bar5\",\"bar6\",\"bar7\",\"bar8\"],\"data\":{\"bar1\":[0.0],\"bar2\":[0.0],\"bar3\":[4.4],\"bar4\":[4.4],\"bar5\":[4.4],\"bar6\":[4.4],\"bar7\":[4.4],\"bar8\":[4.4],\"new_rating\":[[[[[[0.0,0.0,4.4,0.0,0.0,0.0,0.0,0.0],[0.0,0.0,3.3,0.7596672077922078,0.0,0.0,0.0,0.0],[0.0,0.0,2.2,1.5193344155844155,0.0,0.0,0.0,0.0],[0.0,0.0,1.1,2.2790016233766233,0.0,0.0,0.0,0.0],[0.0,0.0,0.0,3.038668831168831,0.0,0.0,0.0,0.0]],[[0.0,0.0,4.4,0.0,0.0,0.0,0.0,0.0],[0.0,0.0,3.3,0.7596672077922078,0.0,0.0,0.0,0.0],[0.0,0.0,2.2,1.5193344155844155,0.0,0.0,0.0,0.0],[0.0,0.0,1.1,2.2790016233766233,0.0,0.0,0.0,0.0],[0.0,0.0,0.0,3.038668831168831,0.0,0.0,0.0,0.0]],[[0.0,0.0,4.4,0.0,0.0,0.0,0.0,0.0],[0.0,0.0,3.3,0.7596672077922078,0.0,0.0,0.0,0.0],[0.0,0.0,2.2,1.5193344155844155,0.0,0.0,0.0,0.0],[0.0,0.0,1.1,2.2790016233766233,0.0,0.0,0.0,0.0],[0.0,0.0,0.0,3.038668831168831,0.0,0.0,0.0,0.0]],[[0.0,0.0,4.4,0.0,0.0,0.0,0.0,0.0],[0.0,0.0,3.3,0.7596672077922078,0.0,0.0,0.0,0.0],[0.0,0.0,2.2,1.5193344155844155,0.0,0.0,0.0,0.0],[0.0,0.0,1.1,2.2790016233766233,0.0,0.0,0.0,0.0],[0.0,0.0,0.0,3.038668831168831,0.0,0.0,0.0,0.0]],[[0.0,0.0,4.4,0.0,0.0,0.0,0.0,0.0],[0.0,0.0,3.3,0.7596672077922078,0.0,0.0,0.0,0.0],[0.0,0.0,2.2,1.5193344155844155,0.0,0.0,0.0,0.0],[0.0,0.0,1.1,2.2790016233766233,0.0,0.0,0.0,0.0],[0.0,0.0,0.0,3.038668831168831,0.0,0.0,0.0,0.0]]],[[[0.0,0.7499999999999999,3.3,0.0,0.0,0.0,0.0,0.0],[0.0,0.7499999999999999,2.475,0.5697504058441558,0.0,0.0,0.0,0.0],[0.0,0.7499999999999999,1.65,1.1395008116883116,0.0,0.0,0.0,0.0],[0.0,0.7499999999999999,0.825,1.709251217532468,0.0,0.0,0.0,0.0],[0.0,0.7499999999999999,0.0,2.2790016233766233,0.0,0.0,0.0,0.0]],[[0.26334,0.5625,3.3,0.0,0.0,0.0,0.0,0.0],[0.26334,0.5625,2.475,0.5697504058441558,0.0,0.0,0.0,0.0],[0.26334,0.5625,1.65,1.1395008116883116,0.0,0.0,0.0,0.0],[0.26334,0.5625,0.825,1.709251217532468,0.0,0.0,0.0,0.0],[0.26334,0.5625,0.0,2.2790016233766233,0.0,0.0,0.0,0.0]],[[0.52668,0.37499999999999994,3.3,0.0,0.0,0.0,0.0,0.0],[0.52668,0.37499999999999994,2.475,0.5697504058441558,0.0,0.0,0.0,0.0],[0.52668,0.37499999999999994,1.65,1.1395008116883116,0.0,0.0,0.0,0.0],[0.52668,0.37499999999999994,0.825,1.709251217532468,0.0,0.0,0.0,0.0],[0.52668,0.37499999999999994,0.0,2.2790016233766233,0.0,0.0,0.0,0.0]],[[0.79002,0.18749999999999997,3.3,0.0,0.0,0.0,0.0,0.0],[0.79002,0.18749999999999997,2.475,0.5697504058441558,0.0,0.0,0.0,0.0],[0.79002,0.18749999999999997,1.65,1.1395008116883116,0.0,0.0,0.0,0.0],[0.79002,0.18749999999999997,0.825,1.709251217532468,0.0,0.0,0.0,0.0],[0.79002,0.18749999999999997,0.0,2.2790016233766233,0.0,0.0,0.0,0.0]],[[1.05336,0.0,3.3,0.0,0.0,0.0,0.0,0.0],[1.05336,0.0,2.475,0.5697504058441558,0.0,0.0,0.0,0.0],[1.05336,0.0,1.65,1.1395008116883116,0.0,0.0,0.0,0.0],[1.05336,0.0,0.825,1.709251217532468,0.0,0.0,0.0,0.0],[1.05336,0.0,0.0,2.2790016233766233,0.0,0.0,0.0,0.0]]],[[[0.0,1.4999999999999998,2.2,0.0,0.0,0.0,0.0,0.0],[0.0,1.4999999999999998,1.65,0.3798336038961039,0.0,0.0,0.0,0.0],[0.0,1.4999999999999998,1.1,0.7596672077922078,0.0,0.0,0.0,0.0],[0.0,1.4999999999999998,0.55,1.1395008116883116,0.0,0.0,0.0,0.0],[0.0,1.4999999999999998,0.0,1.5193344155844155,0.0,0.0,0.0,0.0]],[[0.52668,1.125,2.2,0.0,0.0,0.0,0.0,0.0],[0.52668,1.125,1.65,0.3798336038961039,0.0,0.0,0.0,0.0],[0.52668,1.125,1.1,0.7596672077922078,0.0,0.0,0.0,0.0],[0.52668,1.125,0.55,1.1395008116883116,0.0,0.0,0.0,0.0],[0.52668,1.125,0.0,1.5193344155844155,0.0,0.0,0.0,0.0]],[[1.05336,0.7499999999999999,2.2,0.0,0.0,0.0,0.0,0.0],[1.05336,0.7499999999999999,1.65,0.3798336038961039,0.0,0.0,0.0,0.0],[1.05336,0.7499999999999999,1.1,0.7596672077922078,0.0,0.0,0.0,0.0],[1.05336,0.7499999999999999,0.55,1.1395008116883116,0.0,0.0,0.0,0.0],[1.05336,0.7499999999999999,0.0,1.5193344155844155,0.0,0.0,0.0,0.0]],[[1.58004,0.37499999999999994,2.2,0.0,0.0,0.0,0.0,0.0],[1.58004,0.37499999999999994,1.65,0.3798336038961039,0.0,0.0,0.0,0.0],[1.58004,0.37499999999999994,1.1,0.7596672077922078,0.0,0.0,0.0,0.0],[1.58004,0.37499999999999994,0.55,1.1395008116883116,0.0,0.0,0.0,0.0],[1.58004,0.37499999999999994,0.0,1.5193344155844155,0.0,0.0,0.0,0.0]],[[2.10672,0.0,2.2,0.0,0.0,0.0,0.0,0.0],[2.10672,0.0,1.65,0.3798336038961039,0.0,0.0,0.0,0.0],[2.10672,0.0,1.1,0.7596672077922078,0.0,0.0,0.0,0.0],[2.10672,0.0,0.55,1.1395008116883116,0.0,0.0,0.0,0.0],[2.10672,0.0,0.0,1.5193344155844155,0.0,0.0,0.0,0.0]]],[[[0.0,2.25,1.1,0.0,0.0,0.0,0.0,0.0],[0.0,2.25,0.825,0.18991680194805194,0.0,0.0,0.0,0.0],[0.0,2.25,0.55,0.3798336038961039,0.0,0.0,0.0,0.0],[0.0,2.25,0.275,0.5697504058441558,0.0,0.0,0.0,0.0],[0.0,2.25,0.0,0.7596672077922078,0.0,0.0,0.0,0.0]],[[0.79002,1.6875,1.1,0.0,0.0,0.0,0.0,0.0],[0.79002,1.6875,0.825,0.18991680194805194,0.0,0.0,0.0,0.0],[0.79002,1.6875,0.55,0.3798336038961039,0.0,0.0,0.0,0.0],[0.79002,1.6875,0.275,0.5697504058441558,0.0,0.0,0.0,0.0],[0.79002,1.6875,0.0,0.7596672077922078,0.0,0.0,0.0,0.0]],[[1.58004,1.125,1.1,0.0,0.0,0.0,0.0,0.0],[1.58004,1.125,0.825,0.18991680194805194,0.0,0.0,0.0,0.0],[1.58004,1.125,0.55,0.3798336038961039,0.0,0.0,0.0,0.0],[1.58004,1.125,0.275,0.5697504058441558,0.0,0.0,0.0,0.0],[1.58004,1.125,0.0,0.7596672077922078,0.0,0.0,0.0,0.0]],[[2.37006,0.5625,1.1,0.0,0.0,0.0,0.0,0.0],[2.37006,0.5625,0.825,0.18991680194805194,0.0,0.0,0.0,0.0],[2.37006,0.5625,0.55,0.3798336038961039,0.0,0.0,0.0,0.0],[2.37006,0.5625,0.275,0.5697504058441558,0.0,0.0,0.0,0.0],[2.37006,0.5625,0.0,0.7596672077922078,0.0,0.0,0.0,0.0]],[[3.16008,0.0,1.1,0.0,0.0,0.0,0.0,0.0],[3.16008,0.0,0.825,0.18991680194805194,0.0,0.0,0.0,0.0],[3.16008,0.0,0.55,0.3798336038961039,0.0,0.0,0.0,0.0],[3.16008,0.0,0.275,0.5697504058441558,0.0,0.0,0.0,0.0],[3.16008,0.0,0.0,0.7596672077922078,0.0,0.0,0.0,0.0]]],[[[0.0,2.9999999999999996,0.0,0.0,0.0,0.0,0.0,0.0],[0.0,2.9999999999999996,0.0,0.0,0.0,0.0,0.0,0.0],[0.0,2.9999999999999996,0.0,0.0,0.0,0.0,0.0,0.0],[0.0,2.9999999999999996,0.0,0.0,0.0,0.0,0.0,0.0],[0.0,2.9999999999999996,0.0,0.0,0.0,0.0,0.0,0.0]],[[1.05336,2.25,0.0,0.0,0.0,0.0,0.0,0.0],[1.05336,2.25,0.0,0.0,0.0,0.0,0.0,0.0],[1.05336,2.25,0.0,0.0,0.0,0.0,0.0,0.0],[1.05336,2.25,0.0,0.0,0.0,0.0,0.0,0.0],[1.05336,2.25,0.0,0.0,0.0,0.0,0.0,0.0]],[[2.10672,1.4999999999999998,0.0,0.0,0.0,0.0,0.0,0.0],[2.10672,1.4999999999999998,0.0,0.0,0.0,0.0,0.0,0.0],[2.10672,1.4999999999999998,0.0,0.0,0.0,0.0,0.0,0.0],[2.10672,1.4999999999999998,0.0,0.0,0.0,0.0,0.0,0.0],[2.10672,1.4999999999999998,0.0,0.0,0.0,0.0,0.0,0.0]],[[3.16008,0.7499999999999999,0.0,0.0,0.0,0.0,0.0,0.0],[3.16008,0.7499999999999999,0.0,0.0,0.0,0.0,0.0,0.0],[3.16008,0.7499999999999999,0.0,0.0,0.0,0.0,0.0,0.0],[3.16008,0.7499999999999999,0.0,0.0,0.0,0.0,0.0,0.0],[3.16008,0.7499999999999999,0.0,0.0,0.0,0.0,0.0,0.0]],[[4.21344,0.0,0.0,0.0,0.0,0.0,0.0,0.0],[4.21344,0.0,0.0,0.0,0.0,0.0,0.0,0.0],[4.21344,0.0,0.0,0.0,0.0,0.0,0.0,0.0],[4.21344,0.0,0.0,0.0,0.0,0.0,0.0,0.0],[4.21344,0.0,0.0,0.0,0.0,0.0,0.0,0.0]]]],[[[[0.0,0.0,3.3000000000000003,0.0,0.0,0.0,1.1204345691046778,0.0],[0.0,0.0,2.4749999999999996,0.5697504058441558,0.0,0.0,0.8403259268285086,0.19176473288671278],[0.0,0.0,1.6500000000000001,1.1395008116883116,0.0,0.0,0.5602172845523389,0.38352946577342556],[0.0,0.0,0.8250000000000001,1.7092512175324674,0.0,0.0,0.28010864227616944,0.5752941986601383],[0.0,0.0,0.0,2.2790016233766233,0.0,0.0,0.0,0.7670589315468511]],[[0.0,0.0,3.3000000000000003,0.0,0.0,0.0,1.1204345691046778,0.0],[0.0,0.0,2.4749999999999996,0.5697504058441558,0.0,0.0,0.8403259268285086,0.19176473288671278],[0.0,0.0,1.6500000000000001,1.1395008116883116,0.0,0.0,0.5602172845523389,0.38352946577342556],[0.0,0.0,0.8250000000000001,1.7092512175324674,0.0,0.0,0.28010864227616944,0.5752941986601383],[0.0,0.0,0.0,2.2790016233766233,0.0,0.0,0.0,0.7670589315468511]],[[0.0,0.0,3.3000000000000003,0.0,0.0,0.0,1.1204345691046778,0.0],[0.0,0.0,2.4749999999999996,0.5697504058441558,0.0,0.0,0.8403259268285086,0.19176473288671278],[0.0,0.0,1.6500000000000001,1.1395008116883116,0.0,0.0,0.5602172845523389,0.38352946577342556],[0.0,0.0,0.8250000000000001,1.7092512175324674,0.0,0.0,0.28010864227616944,0.5752941986601383],[0.0,0.0,0.0,2.2790016233766233,0.0,0.0,0.0,0.7670589315468511]],[[0.0,0.0,3.3000000000000003,0.0,0.0,0.0,1.1204345691046778,0.0],[0.0,0.0,2.4749999999999996,0.5697504058441558,0.0,0.0,0.8403259268285086,0.19176473288671278],[0.0,0.0,1.6500000000000001,1.1395008116883116,0.0,0.0,0.5602172845523389,0.38352946577342556],[0.0,0.0,0.8250000000000001,1.7092512175324674,0.0,0.0,0.28010864227616944,0.5752941986601383],[0.0,0.0,0.0,2.2790016233766233,0.0,0.0,0.0,0.7670589315468511]],[[0.0,0.0,3.3000000000000003,0.0,0.0,0.0,1.1204345691046778,0.0],[0.0,0.0,2.4749999999999996,0.5697504058441558,0.0,0.0,0.8403259268285086,0.19176473288671278],[0.0,0.0,1.6500000000000001,1.1395008116883116,0.0,0.0,0.5602172845523389,0.38352946577342556],[0.0,0.0,0.8250000000000001,1.7092512175324674,0.0,0.0,0.28010864227616944,0.5752941986601383],[0.0,0.0,0.0,2.2790016233766233,0.0,0.0,0.0,0.7670589315468511]]],[[[0.0,0.5624999999999999,2.4749999999999996,0.0,0.0,0.18732858680754688,0.8403259268285086,0.0],[0.0,0.5624999999999999,1.8562500000000002,0.42731280438311686,0.0,0.18732858680754688,0.6302444451213813,0.14382354966503458],[0.0,0.5624999999999999,1.2374999999999998,0.8546256087662337,0.0,0.18732858680754688,0.4201629634142543,0.28764709933006916],[0.0,0.5624999999999999,0.6187499999999999,1.281938413149351,0.0,0.18732858680754688,0.21008148170712715,0.43147064899510373],[0.0,0.5624999999999999,0.0,1.7092512175324674,0.0,0.18732858680754688,0.0,0.5752941986601383]],[[0.19750500000000001,0.421875,2.4749999999999996,0.0,0.06574929340377346,0.14049644010566015,0.8403259268285086,0.0],[0.19750500000000001,0.421875,1.8562500000000002,0.42731280438311686,0.06574929340377346,0.14049644010566015,0.6302444451213813,0.14382354966503458],[0.19750500000000001,0.421875,1.2374999999999998,0.8546256087662337,0.06574929340377346,0.14049644010566015,0.4201629634142543,0.28764709933006916],[0.19750500000000001,0.421875,0.6187499999999999,1.281938413149351,0.06574929340377346,0.14049644010566015,0.21008148170712715,0.43147064899510373],[0.19750500000000001,0.421875,0.0,1.7092512175324674,0.06574929340377346,0.14049644010566015,0.0,0.5752941986601383]],[[0.39501000000000003,0.28124999999999994,2.4749999999999996,0.0,0.13149858680754692,0.09366429340377344,0.8403259268285086,0.0],[0.39501000000000003,0.28124999999999994,1.8562500000000002,0.42731280438311686,0.13149858680754692,0.09366429340377344,0.6302444451213813,0.14382354966503458],[0.39501000000000003,0.28124999999999994,1.2374999999999998,0.8546256087662337,0.13149858680754692,0.09366429340377344,0.4201629634142543,0.28764709933006916],[0.39501000000000003,0.28124999999999994,0.6187499999999999,1.281938413149351,0.13149858680754692,0.09366429340377344,0.21008148170712715,0.43147064899510373],[0.39501000000000003,0.28124999999999994,0.0,1.7092512175324674,0.13149858680754692,0.09366429340377344,0.0,0.5752941986601383]],[[0.5925149999999999,0.14062499999999997,2.4749999999999996,0.0,0.19724788021132036,0.04683214670188672,0.8403259268285086,0.0],[0.5925149999999999,0.14062499999999997,1.8562500000000002,0.42731280438311686,0.19724788021132036,0.04683214670188672,0.6302444451213813,0.14382354966503458],[0.5925149999999999,0.14062499999999997,1.2374999999999998,0.8546256087662337,0.19724788021132036,0.04683214670188672,0.4201629634142543,0.28764709933006916],[0.5925149999999999,0.14062499999999997,0.6187499999999999,1.281938413149351,0.19724788021132036,0.04683214670188672,0.21008148170712715,0.43147064899510373],[0.5925149999999999,0.14062499999999997,0.0,1.7092512175324674,0.19724788021132036,0.04683214670188672,0.0,0.5752941986601383]],[[0.7900200000000001,0.0,2.4749999999999996,0.0,0.26299717361509384,0.0,0.8403259268285086,0.0],[0.7900200000000001,0.0,1.8562500000000002,0.42731280438311686,0.26299717361509384,0.0,0.6302444451213813,0.14382354966503458],[0.7900200000000001,0.0,1.2374999999999998,0.8546256087662337,0.26299717361509384,0.0,0.4201629634142543,0.28764709933006916],[0.7900200000000001,0.0,0.6187499999999999,1.281938413149351,0.26299717361509384,0.0,0.21008148170712715,0.43147064899510373],[0.7900200000000001,0.0,0.0,1.7092512175324674,0.26299717361509384,0.0,0.0,0.5752941986601383]]],[[[0.0,1.1249999999999998,1.6500000000000001,0.0,0.0,0.37465717361509376,0.5602172845523389,0.0],[0.0,1.1249999999999998,1.2374999999999998,0.2848752029220779,0.0,0.37465717361509376,0.4201629634142543,0.09588236644335639],[0.0,1.1249999999999998,0.8250000000000001,0.5697504058441558,0.0,0.37465717361509376,0.28010864227616944,0.19176473288671278],[0.0,1.1249999999999998,0.41250000000000003,0.8546256087662337,0.0,0.37465717361509376,0.14005432113808472,0.28764709933006916],[0.0,1.1249999999999998,0.0,1.1395008116883116,0.0,0.37465717361509376,0.0,0.38352946577342556]],[[0.39501000000000003,0.84375,1.6500000000000001,0.0,0.13149858680754692,0.2809928802113203,0.5602172845523389,0.0],[0.39501000000000003,0.84375,1.2374999999999998,0.2848752029220779,0.13149858680754692,0.2809928802113203,0.4201629634142543,0.09588236644335639],[0.39501000000000003,0.84375,0.8250000000000001,0.5697504058441558,0.13149858680754692,0.2809928802113203,0.28010864227616944,0.19176473288671278],[0.39501000000000003,0.84375,0.41250000000000003,0.8546256087662337,0.13149858680754692,0.2809928802113203,0.14005432113808472,0.28764709933006916],[0.39501000000000003,0.84375,0.0,1.1395008116883116,0.13149858680754692,0.2809928802113203,0.0,0.38352946577342556]],[[0.7900200000000001,0.5624999999999999,1.6500000000000001,0.0,0.26299717361509384,0.18732858680754688,0.5602172845523389,0.0],[0.7900200000000001,0.5624999999999999,1.2374999999999998,0.2848752029220779,0.26299717361509384,0.18732858680754688,0.4201629634142543,0.09588236644335639],[0.7900200000000001,0.5624999999999999,0.8250000000000001,0.5697504058441558,0.26299717361509384,0.18732858680754688,0.28010864227616944,0.19176473288671278],[0.7900200000000001,0.5624999999999999,0.41250000000000003,0.8546256087662337,0.26299717361509384,0.18732858680754688,0.14005432113808472,0.28764709933006916],[0.7900200000000001,0.5624999999999999,0.0,1.1395008116883116,0.26299717361509384,0.18732858680754688,0.0,0.38352946577342556]],[[1.1850299999999998,0.28124999999999994,1.6500000000000001,0.0,0.39449576042264073,0.09366429340377344,0.5602172845523389,0.0],[1.1850299999999998,0.28124999999999994,1.2374999999999998,0.2848752029220779,0.39449576042264073,0.09366429340377344,0.4201629634142543,0.09588236644335639],[1.1850299999999998,0.28124999999999994,0.8250000000000001,0.5697504058441558,0.39449576042264073,0.09366429340377344,0.28010864227616944,0.19176473288671278],[1.1850299999999998,0.28124999999999994,0.41250000000000003,0.8546256087662337,0.39449576042264073,0.09366429340377344,0.14005432113808472,0.28764709933006916],[1.1850299999999998,0.28124999999999994,0.0,1.1395008116883116,0.39449576042264073,0.09366429340377344,0.0,0.38352946577342556]],[[1.5800400000000001,0.0,1.6500000000000001,0.0,0.5259943472301877,0.0,0.5602172845523389,0.0],[1.5800400000000001,0.0,1.2374999999999998,0.2848752029220779,0.5259943472301877,0.0,0.4201629634142543,0.09588236644335639],[1.5800400000000001,0.0,0.8250000000000001,0.5697504058441558,0.5259943472301877,0.0,0.28010864227616944,0.19176473288671278],[1.5800400000000001,0.0,0.41250000000000003,0.8546256087662337,0.5259943472301877,0.0,0.14005432113808472,0.28764709933006916],[1.5800400000000001,0.0,0.0,1.1395008116883116,0.5259943472301877,0.0,0.0,0.38352946577342556]]],[[[0.0,1.6875,0.8250000000000001,0.0,0.0,0.5619857604226406,0.28010864227616944,0.0],[0.0,1.6875,0.6187499999999999,0.14243760146103895,0.0,0.5619857604226406,0.21008148170712715,0.047941183221678195],[0.0,1.6875,0.41250000000000003,0.2848752029220779,0.0,0.5619857604226406,0.14005432113808472,0.09588236644335639],[0.0,1.6875,0.20625000000000002,0.42731280438311686,0.0,0.5619857604226406,0.07002716056904236,0.14382354966503458],[0.0,1.6875,0.0,0.5697504058441558,0.0,0.5619857604226406,0.0,0.19176473288671278]],[[0.5925149999999999,1.265625,0.8250000000000001,0.0,0.19724788021132036,0.4214893203169805,0.28010864227616944,0.0],[0.5925149999999999,1.265625,0.6187499999999999,0.14243760146103895,0.19724788021132036,0.4214893203169805,0.21008148170712715,0.047941183221678195],[0.5925149999999999,1.265625,0.41250000000000003,0.2848752029220779,0.19724788021132036,0.4214893203169805,0.14005432113808472,0.09588236644335639],[0.5925149999999999,1.265625,0.20625000000000002,0.42731280438311686,0.19724788021132036,0.4214893203169805,0.07002716056904236,0.14382354966503458],[0.5925149999999999,1.265625,0.0,0.5697504058441558,0.19724788021132036,0.4214893203169805,0.0,0.19176473288671278]],[[1.1850299999999998,0.84375,0.8250000000000001,0.0,0.39449576042264073,0.2809928802113203,0.28010864227616944,0.0],[1.1850299999999998,0.84375,0.6187499999999999,0.14243760146103895,0.39449576042264073,0.2809928802113203,0.21008148170712715,0.047941183221678195],[1.1850299999999998,0.84375,0.41250000000000003,0.2848752029220779,0.39449576042264073,0.2809928802113203,0.14005432113808472,0.09588236644335639],[1.1850299999999998,0.84375,0.20625000000000002,0.42731280438311686,0.39449576042264073,0.2809928802113203,0.07002716056904236,0.14382354966503458],[1.1850299999999998,0.84375,0.0,0.5697504058441558,0.39449576042264073,0.2809928802113203,0.0,0.19176473288671278]],[[1.777545,0.421875,0.8250000000000001,0.0,0.591743640633961,0.14049644010566015,0.28010864227616944,0.0],[1.777545,0.421875,0.6187499999999999,0.14243760146103895,0.591743640633961,0.14049644010566015,0.21008148170712715,0.047941183221678195],[1.777545,0.421875,0.41250000000000003,0.2848752029220779,0.591743640633961,0.14049644010566015,0.14005432113808472,0.09588236644335639],[1.777545,0.421875,0.20625000000000002,0.42731280438311686,0.591743640633961,0.14049644010566015,0.07002716056904236,0.14382354966503458],[1.777545,0.421875,0.0,0.5697504058441558,0.591743640633961,0.14049644010566015,0.0,0.19176473288671278]],[[2.3700599999999996,0.0,0.8250000000000001,0.0,0.7889915208452815,0.0,0.28010864227616944,0.0],[2.3700599999999996,0.0,0.6187499999999999,0.14243760146103895,0.7889915208452815,0.0,0.21008148170712715,0.047941183221678195],[2.3700599999999996,0.0,0.41250000000000003,0.2848752029220779,0.7889915208452815,0.0,0.14005432113808472,0.09588236644335639],[2.3700599999999996,0.0,0.20625000000000002,0.42731280438311686,0.7889915208452815,0.0,0.07002716056904236,0.14382354966503458],[2.3700599999999996,0.0,0.0,0.5697504058441558,0.7889915208452815,0.0,0.0,0.19176473288671278]]],[[[0.0,2.2499999999999996,0.0,0.0,0.0,0.7493143472301875,0.0,0.0],[0.0,2.2499999999999996,0.0,0.0,0.0,0.7493143472301875,0.0,0.0],[0.0,2.2499999999999996,0.0,0.0,0.0,0.7493143472301875,0.0,0.0],[0.0,2.2499999999999996,0.0,0.0,0.0,0.7493143472301875,0.0,0.0],[0.0,2.2499999999999996,0.0,0.0,0.0,0.7493143472301875,0.0,0.0]],[[0.7900200000000001,1.6875,0.0,0.0,0.26299717361509384,0.5619857604226406,0.0,0.0],[0.7900200000000001,1.6875,0.0,0.0,0.26299717361509384,0.5619857604226406,0.0,0.0],[0.7900200000000001,1.6875,0.0,0.0,0.26299717361509384,0.5619857604226406,0.0,0.0],[0.7900200000000001,1.6875,0.0,0.0,0.26299717361509384,0.5619857604226406,0.0,0.0],[0.7900200000000001,1.6875,0.0,0.0,0.26299717361509384,0.5619857604226406,0.0,0.0]],[[1.5800400000000001,1.1249999999999998,0.0,0.0,0.5259943472301877,0.37465717361509376,0.0,0.0],[1.5800400000000001,1.1249999999999998,0.0,0.0,0.5259943472301877,0.37465717361509376,0.0,0.0],[1.5800400000000001,1.1249999999999998,0.0,0.0,0.5259943472301877,0.37465717361509376,0.0,0.0],[1.5800400000000001,1.1249999999999998,0.0,0.0,0.5259943472301877,0.37465717361509376,0.0,0.0],[1.5800400000000001,1.1249999999999998,0.0,0.0,0.5259943472301877,0.37465717361509376,0.0,0.0]],[[2.3700599999999996,0.5624999999999999,0.0,0.0,0.7889915208452815,0.18732858680754688,0.0,0.0],[2.3700599999999996,0.5624999999999999,0.0,0.0,0.7889915208452815,0.18732858680754688,0.0,0.0],[2.3700599999999996,0.5624999999999999,0.0,0.0,0.7889915208452815,0.18732858680754688,0.0,0.0],[2.3700599999999996,0.5624999999999999,0.0,0.0,0.7889915208452815,0.18732858680754688,0.0,0.0],[2.3700599999999996,0.5624999999999999,0.0,0.0,0.7889915208452815,0.18732858680754688,0.0,0.0]],[[3.1600800000000002,0.0,0.0,0.0,1.0519886944603754,0.0,0.0,0.0],[3.1600800000000002,0.0,0.0,0.0,1.0519886944603754,0.0,0.0,0.0],[3.1600800000000002,0.0,0.0,0.0,1.0519886944603754,0.0,0.0,0.0],[3.1600800000000002,0.0,0.0,0.0,1.0519886944603754,0.0,0.0,0.0],[3.1600800000000002,0.0,0.0,0.0,1.0519886944603754,0.0,0.0,0.0]]]],[[[[0.0,0.0,2.2,0.0,0.0,0.0,2.2408691382093555,0.0],[0.0,0.0,1.65,0.3798336038961039,0.0,0.0,1.6806518536570172,0.38352946577342556],[0.0,0.0,1.1,0.7596672077922078,0.0,0.0,1.1204345691046778,0.7670589315468511],[0.0,0.0,0.55,1.1395008116883116,0.0,0.0,0.5602172845523389,1.1505883973202766],[0.0,0.0,0.0,1.5193344155844155,0.0,0.0,0.0,1.5341178630937022]],[[0.0,0.0,2.2,0.0,0.0,0.0,2.2408691382093555,0.0],[0.0,0.0,1.65,0.3798336038961039,0.0,0.0,1.6806518536570172,0.38352946577342556],[0.0,0.0,1.1,0.7596672077922078,0.0,0.0,1.1204345691046778,0.7670589315468511],[0.0,0.0,0.55,1.1395008116883116,0.0,0.0,0.5602172845523389,1.1505883973202766],[0.0,0.0,0.0,1.5193344155844155,0.0,0.0,0.0,1.5341178630937022]],[[0.0,0.0,2.2,0.0,0.0,0.0,2.2408691382093555,0.0],[0.0,0.0,1.65,0.3798336038961039,0.0,0.0,1.6806518536570172,0.38352946577342556],[0.0,0.0,1.1,0.7596672077922078,0.0,0.0,1.1204345691046778,0.7670589315468511],[0.0,0.0,0.55,1.1395008116883116,0.0,0.0,0.5602172845523389,1.1505883973202766],[0.0,0.0,0.0,1.5193344155844155,0.0,0.0,0.0,1.5341178630937022]],[[0.0,0.0,2.2,0.0,0.0,0.0,2.2408691382093555,0.0],[0.0,0.0,1.65,0.3798336038961039,0.0,0.0,1.6806518536570172,0.38352946577342556],[0.0,0.0,1.1,0.7596672077922078,0.0,0.0,1.1204345691046778,0.7670589315468511],[0.0,0.0,0.55,1.1395008116883116,0.0,0.0,0.5602172845523389,1.1505883973202766],[0.0,0.0,0.0,1.5193344155844155,0.0,0.0,0.0,1.5341178630937022]],[[0.0,0.0,2.2,0.0,0.0,0.0,2.2408691382093555,0.0],[0.0,0.0,1.65,0.3798336038961039,0.0,0.0,1.6806518536570172,0.38352946577342556],[0.0,0.0,1.1,0.7596672077922078,0.0,0.0,1.1204345691046778,0.7670589315468511],[0.0,0.0,0.55,1.1395008116883116,0.0,0.0,0.5602172845523389,1.1505883973202766],[0.0,0.0,0.0,1.5193344155844155,0.0,0.0,0.0,1.5341178630937022]]],[[[0.0,0.37499999999999994,1.65,0.0,0.0,0.37465717361509376,1.6806518536570172,0.0],[0.0,0.37499999999999994,1.2375,0.2848752029220779,0.0,0.37465717361509376,1.2604888902427627,0.28764709933006916],[0.0,0.37499999999999994,0.825,0.5697504058441558,0.0,0.37465717361509376,0.8403259268285086,0.5752941986601383],[0.0,0.37499999999999994,0.4125,0.854625608766234,0.0,0.37465717361509376,0.4201629634142543,0.8629412979902075],[0.0,0.37499999999999994,0.0,1.1395008116883116,0.0,0.37465717361509376,0.0,1.1505883973202766]],[[0.13167,0.28125,1.65,0.0,0.13149858680754692,0.2809928802113203,1.6806518536570172,0.0],[0.13167,0.28125,1.2375,0.2848752029220779,0.13149858680754692,0.2809928802113203,1.2604888902427627,0.28764709933006916],[0.13167,0.28125,0.825,0.5697504058441558,0.13149858680754692,0.2809928802113203,0.8403259268285086,0.5752941986601383],[0.13167,0.28125,0.4125,0.854625608766234,0.13149858680754692,0.2809928802113203,0.4201629634142543,0.8629412979902075],[0.13167,0.28125,0.0,1.1395008116883116,0.13149858680754692,0.2809928802113203,0.0,1.1505883973202766]],[[0.26334,0.18749999999999997,1.65,0.0,0.26299717361509384,0.18732858680754688,1.6806518536570172,0.0],[0.26334,0.18749999999999997,1.2375,0.2848752029220779,0.26299717361509384,0.18732858680754688,1.2604888902427627,0.28764709933006916],[0.26334,0.18749999999999997,0.825,0.5697504058441558,0.26299717361509384,0.18732858680754688,0.8403259268285086,0.5752941986601383],[0.26334,0.18749999999999997,0.4125,0.854625608766234,0.26299717361509384,0.18732858680754688,0.4201629634142543,0.8629412979902075],[0.26334,0.18749999999999997,0.0,1.1395008116883116,0.26299717361509384,0.18732858680754688,0.0,1.1505883973202766]],[[0.39501,0.09374999999999999,1.65,0.0,0.39449576042264073,0.09366429340377344,1.6806518536570172,0.0],[0.39501,0.09374999999999999,1.2375,0.2848752029220779,0.39449576042264073,0.09366429340377344,1.2604888902427627,0.28764709933006916],[0.39501,0.09374999999999999,0.825,0.5697504058441558,0.39449576042264073,0.09366429340377344,0.8403259268285086,0.5752941986601383],[0.39501,0.09374999999999999,0.4125,0.854625608766234,0.39449576042264073,0.09366429340377344,0.4201629634142543,0.8629412979902075],[0.39501,0.09374999999999999,0.0,1.1395008116883116,0.39449576042264073,0.09366429340377344,0.0,1.1505883973202766]],[[0.52668,0.0,1.65,0.0,0.5259943472301877,0.0,1.6806518536570172,0.0],[0.52668,0.0,1.2375,0.2848752029220779,0.5259943472301877,0.0,1.2604888902427627,0.28764709933006916],[0.52668,0.0,0.825,0.5697504058441558,0.5259943472301877,0.0,0.8403259268285086,0.5752941986601383],[0.52668,0.0,0.4125,0.854625608766234,0.5259943472301877,0.0,0.4201629634142543,0.8629412979902075],[0.52668,0.0,0.0,1.1395008116883116,0.5259943472301877,0.0,0.0,1.1505883973202766]]],[[[0.0,0.7499999999999999,1.1,0.0,0.0,0.7493143472301875,1.1204345691046778,0.0],[0.0,0.7499999999999999,0.825,0.18991680194805194,0.0,0.7493143472301875,0.8403259268285086,0.19176473288671278],[0.0,0.7499999999999999,0.55,0.3798336038961039,0.0,0.7493143472301875,0.5602172845523389,0.38352946577342556],[0.0,0.7499999999999999,0.275,0.5697504058441558,0.0,0.7493143472301875,0.28010864227616944,0.5752941986601383],[0.0,0.7499999999999999,0.0,0.7596672077922078,0.0,0.7493143472301875,0.0,0.7670589315468511]],[[0.26334,0.5625,1.1,0.0,0.26299717361509384,0.5619857604226406,1.1204345691046778,0.0],[0.26334,0.5625,0.825,0.18991680194805194,0.26299717361509384,0.5619857604226406,0.8403259268285086,0.19176473288671278],[0.26334,0.5625,0.55,0.3798336038961039,0.26299717361509384,0.5619857604226406,0.5602172845523389,0.38352946577342556],[0.26334,0.5625,0.275,0.5697504058441558,0.26299717361509384,0.5619857604226406,0.28010864227616944,0.5752941986601383],[0.26334,0.5625,0.0,0.7596672077922078,0.26299717361509384,0.5619857604226406,0.0,0.7670589315468511]],[[0.52668,0.37499999999999994,1.1,0.0,0.5259943472301877,0.37465717361509376,1.1204345691046778,0.0],[0.52668,0.37499999999999994,0.825,0.18991680194805194,0.5259943472301877,0.37465717361509376,0.8403259268285086,0.19176473288671278],[0.52668,0.37499999999999994,0.55,0.3798336038961039,0.5259943472301877,0.37465717361509376,0.5602172845523389,0.38352946577342556],[0.52668,0.37499999999999994,0.275,0.5697504058441558,0.5259943472301877,0.37465717361509376,0.28010864227616944,0.5752941986601383],[0.52668,0.37499999999999994,0.0,0.7596672077922078,0.5259943472301877,0.37465717361509376,0.0,0.7670589315468511]],[[0.79002,0.18749999999999997,1.1,0.0,0.7889915208452815,0.18732858680754688,1.1204345691046778,0.0],[0.79002,0.18749999999999997,0.825,0.18991680194805194,0.7889915208452815,0.18732858680754688,0.8403259268285086,0.19176473288671278],[0.79002,0.18749999999999997,0.55,0.3798336038961039,0.7889915208452815,0.18732858680754688,0.5602172845523389,0.38352946577342556],[0.79002,0.18749999999999997,0.275,0.5697504058441558,0.7889915208452815,0.18732858680754688,0.28010864227616944,0.5752941986601383],[0.79002,0.18749999999999997,0.0,0.7596672077922078,0.7889915208452815,0.18732858680754688,0.0,0.7670589315468511]],[[1.05336,0.0,1.1,0.0,1.0519886944603754,0.0,1.1204345691046778,0.0],[1.05336,0.0,0.825,0.18991680194805194,1.0519886944603754,0.0,0.8403259268285086,0.19176473288671278],[1.05336,0.0,0.55,0.3798336038961039,1.0519886944603754,0.0,0.5602172845523389,0.38352946577342556],[1.05336,0.0,0.275,0.5697504058441558,1.0519886944603754,0.0,0.28010864227616944,0.5752941986601383],[1.05336,0.0,0.0,0.7596672077922078,1.0519886944603754,0.0,0.0,0.7670589315468511]]],[[[0.0,1.125,0.55,0.0,0.0,1.1239715208452812,0.5602172845523389,0.0],[0.0,1.125,0.4125,0.09495840097402597,0.0,1.1239715208452812,0.4201629634142543,0.09588236644335639],[0.0,1.125,0.275,0.18991680194805194,0.0,1.1239715208452812,0.28010864227616944,0.19176473288671278],[0.0,1.125,0.1375,0.2848752029220779,0.0,1.1239715208452812,0.14005432113808472,0.28764709933006916],[0.0,1.125,0.0,0.3798336038961039,0.0,1.1239715208452812,0.0,0.38352946577342556]],[[0.39501,0.84375,0.55,0.0,0.39449576042264073,0.842978640633961,0.5602172845523389,0.0],[0.39501,0.84375,0.4125,0.09495840097402597,0.39449576042264073,0.842978640633961,0.4201629634142543,0.09588236644335639],[0.39501,0.84375,0.275,0.18991680194805194,0.39449576042264073,0.842978640633961,0.28010864227616944,0.19176473288671278],[0.39501,0.84375,0.1375,0.2848752029220779,0.39449576042264073,0.842978640633961,0.14005432113808472,0.28764709933006916],[0.39501,0.84375,0.0,0.3798336038961039,0.39449576042264073,0.842978640633961,0.0,0.38352946577342556]],[[0.79002,0.5625,0.55,0.0,0.7889915208452815,0.5619857604226406,0.5602172845523389,0.0],[0.79002,0.5625,0.4125,0.09495840097402597,0.7889915208452815,0.5619857604226406,0.4201629634142543,0.09588236644335639],[0.79002,0.5625,0.275,0.18991680194805194,0.7889915208452815,0.5619857604226406,0.28010864227616944,0.19176473288671278],[0.79002,0.5625,0.1375,0.2848752029220779,0.7889915208452815,0.5619857604226406,0.14005432113808472,0.28764709933006916],[0.79002,0.5625,0.0,0.3798336038961039,0.7889915208452815,0.5619857604226406,0.0,0.38352946577342556]],[[1.18503,0.28125,0.55,0.0,1.183487281267922,0.2809928802113203,0.5602172845523389,0.0],[1.18503,0.28125,0.4125,0.09495840097402597,1.183487281267922,0.2809928802113203,0.4201629634142543,0.09588236644335639],[1.18503,0.28125,0.275,0.18991680194805194,1.183487281267922,0.2809928802113203,0.28010864227616944,0.19176473288671278],[1.18503,0.28125,0.1375,0.2848752029220779,1.183487281267922,0.2809928802113203,0.14005432113808472,0.28764709933006916],[1.18503,0.28125,0.0,0.3798336038961039,1.183487281267922,0.2809928802113203,0.0,0.38352946577342556]],[[1.58004,0.0,0.55,0.0,1.577983041690563,0.0,0.5602172845523389,0.0],[1.58004,0.0,0.4125,0.09495840097402597,1.577983041690563,0.0,0.4201629634142543,0.09588236644335639],[1.58004,0.0,0.275,0.18991680194805194,1.577983041690563,0.0,0.28010864227616944,0.19176473288671278],[1.58004,0.0,0.1375,0.2848752029220779,1.577983041690563,0.0,0.14005432113808472,0.28764709933006916],[1.58004,0.0,0.0,0.3798336038961039,1.577983041690563,0.0,0.0,0.38352946577342556]]],[[[0.0,1.4999999999999998,0.0,0.0,0.0,1.498628694460375,0.0,0.0],[0.0,1.4999999999999998,0.0,0.0,0.0,1.498628694460375,0.0,0.0],[0.0,1.4999999999999998,0.0,0.0,0.0,1.498628694460375,0.0,0.0],[0.0,1.4999999999999998,0.0,0.0,0.0,1.498628694460375,0.0,0.0],[0.0,1.4999999999999998,0.0,0.0,0.0,1.498628694460375,0.0,0.0]],[[0.52668,1.125,0.0,0.0,0.5259943472301877,1.1239715208452812,0.0,0.0],[0.52668,1.125,0.0,0.0,0.5259943472301877,1.1239715208452812,0.0,0.0],[0.52668,1.125,0.0,0.0,0.5259943472301877,1.1239715208452812,0.0,0.0],[0.52668,1.125,0.0,0.0,0.5259943472301877,1.1239715208452812,0.0,0.0],[0.52668,1.125,0.0,0.0,0.5259943472301877,1.1239715208452812,0.0,0.0]],[[1.05336,0.7499999999999999,0.0,0.0,1.0519886944603754,0.7493143472301875,0.0,0.0],[1.05336,0.7499999999999999,0.0,0.0,1.0519886944603754,0.7493143472301875,0.0,0.0],[1.05336,0.7499999999999999,0.0,0.0,1.0519886944603754,0.7493143472301875,0.0,0.0],[1.05336,0.7499999999999999,0.0,0.0,1.0519886944603754,0.7493143472301875,0.0,0.0],[1.05336,0.7499999999999999,0.0,0.0,1.0519886944603754,0.7493143472301875,0.0,0.0]],[[1.58004,0.37499999999999994,0.0,0.0,1.577983041690563,0.37465717361509376,0.0,0.0],[1.58004,0.37499999999999994,0.0,0.0,1.577983041690563,0.37465717361509376,0.0,0.0],[1.58004,0.37499999999999994,0.0,0.0,1.577983041690563,0.37465717361509376,0.0,0.0],[1.58004,0.37499999999999994,0.0,0.0,1.577983041690563,0.37465717361509376,0.0,0.0],[1.58004,0.37499999999999994,0.0,0.0,1.577983041690563,0.37465717361509376,0.0,0.0]],[[2.10672,0.0,0.0,0.0,2.1039773889207507,0.0,0.0,0.0],[2.10672,0.0,0.0,0.0,2.1039773889207507,0.0,0.0,0.0],[2.10672,0.0,0.0,0.0,2.1039773889207507,0.0,0.0,0.0],[2.10672,0.0,0.0,0.0,2.1039773889207507,0.0,0.0,0.0],[2.10672,0.0,0.0,0.0,2.1039773889207507,0.0,0.0,0.0]]]],[[[[0.0,0.0,1.1,0.0,0.0,0.0,3.3613037073140335,0.0],[0.0,0.0,0.825,0.18991680194805194,0.0,0.0,2.520977780485526,0.5752941986601383],[0.0,0.0,0.55,0.3798336038961039,0.0,0.0,1.6806518536570167,1.1505883973202766],[0.0,0.0,0.275,0.5697504058441558,0.0,0.0,0.8403259268285084,1.725882595980415],[0.0,0.0,0.0,0.7596672077922078,0.0,0.0,0.0,2.3011767946405532]],[[0.0,0.0,1.1,0.0,0.0,0.0,3.3613037073140335,0.0],[0.0,0.0,0.825,0.18991680194805194,0.0,0.0,2.520977780485526,0.5752941986601383],[0.0,0.0,0.55,0.3798336038961039,0.0,0.0,1.6806518536570167,1.1505883973202766],[0.0,0.0,0.275,0.5697504058441558,0.0,0.0,0.8403259268285084,1.725882595980415],[0.0,0.0,0.0,0.7596672077922078,0.0,0.0,0.0,2.3011767946405532]],[[0.0,0.0,1.1,0.0,0.0,0.0,3.3613037073140335,0.0],[0.0,0.0,0.825,0.18991680194805194,0.0,0.0,2.520977780485526,0.5752941986601383],[0.0,0.0,0.55,0.3798336038961039,0.0,0.0,1.6806518536570167,1.1505883973202766],[0.0,0.0,0.275,0.5697504058441558,0.0,0.0,0.8403259268285084,1.725882595980415],[0.0,0.0,0.0,0.7596672077922078,0.0,0.0,0.0,2.3011767946405532]],[[0.0,0.0,1.1,0.0,0.0,0.0,3.3613037073140335,0.0],[0.0,0.0,0.825,0.18991680194805194,0.0,0.0,2.520977780485526,0.5752941986601383],[0.0,0.0,0.55,0.3798336038961039,0.0,0.0,1.6806518536570167,1.1505883973202766],[0.0,0.0,0.275,0.5697504058441558,0.0,0.0,0.8403259268285084,1.725882595980415],[0.0,0.0,0.0,0.7596672077922078,0.0,0.0,0.0,2.3011767946405532]],[[0.0,0.0,1.1,0.0,0.0,0.0,3.3613037073140335,0.0],[0.0,0.0,0.825,0.18991680194805194,0.0,0.0,2.520977780485526,0.5752941986601383],[0.0,0.0,0.55,0.3798336038961039,0.0,0.0,1.6806518536570167,1.1505883973202766],[0.0,0.0,0.275,0.5697504058441558,0.0,0.0,0.8403259268285084,1.725882595980415],[0.0,0.0,0.0,0.7596672077922078,0.0,0.0,0.0,2.3011767946405532]]],[[[0.0,0.18749999999999997,0.825,0.0,0.0,0.5619857604226406,2.520977780485526,0.0],[0.0,0.18749999999999997,0.61875,0.14243760146103895,0.0,0.5619857604226406,1.890733335364144,0.43147064899510373],[0.0,0.18749999999999997,0.4125,0.2848752029220779,0.0,0.5619857604226406,1.260488890242763,0.8629412979902075],[0.0,0.18749999999999997,0.20625,0.427312804383117,0.0,0.5619857604226406,0.6302444451213814,1.2944119469853113],[0.0,0.18749999999999997,0.0,0.5697504058441558,0.0,0.5619857604226406,0.0,1.725882595980415]],[[0.065835,0.140625,0.825,0.0,0.1972478802113204,0.42148932031698044,2.520977780485526,0.0],[0.065835,0.140625,0.61875,0.14243760146103895,0.1972478802113204,0.42148932031698044,1.890733335364144,0.43147064899510373],[0.065835,0.140625,0.4125,0.2848752029220779,0.1972478802113204,0.42148932031698044,1.260488890242763,0.8629412979902075],[0.065835,0.140625,0.20625,0.427312804383117,0.1972478802113204,0.42148932031698044,0.6302444451213814,1.2944119469853113],[0.065835,0.140625,0.0,0.5697504058441558,0.1972478802113204,0.42148932031698044,0.0,1.725882595980415]],[[0.13167,0.09374999999999999,0.825,0.0,0.3944957604226408,0.2809928802113203,2.520977780485526,0.0],[0.13167,0.09374999999999999,0.61875,0.14243760146103895,0.3944957604226408,0.2809928802113203,1.890733335364144,0.43147064899510373],[0.13167,0.09374999999999999,0.4125,0.2848752029220779,0.3944957604226408,0.2809928802113203,1.260488890242763,0.8629412979902075],[0.13167,0.09374999999999999,0.20625,0.427312804383117,0.3944957604226408,0.2809928802113203,0.6302444451213814,1.2944119469853113],[0.13167,0.09374999999999999,0.0,0.5697504058441558,0.3944957604226408,0.2809928802113203,0.0,1.725882595980415]],[[0.197505,0.04687499999999999,0.825,0.0,0.5917436406339611,0.14049644010566015,2.520977780485526,0.0],[0.197505,0.04687499999999999,0.61875,0.14243760146103895,0.5917436406339611,0.14049644010566015,1.890733335364144,0.43147064899510373],[0.197505,0.04687499999999999,0.4125,0.2848752029220779,0.5917436406339611,0.14049644010566015,1.260488890242763,0.8629412979902075],[0.197505,0.04687499999999999,0.20625,0.427312804383117,0.5917436406339611,0.14049644010566015,0.6302444451213814,1.2944119469853113],[0.197505,0.04687499999999999,0.0,0.5697504058441558,0.5917436406339611,0.14049644010566015,0.0,1.725882595980415]],[[0.26334,0.0,0.825,0.0,0.7889915208452816,0.0,2.520977780485526,0.0],[0.26334,0.0,0.61875,0.14243760146103895,0.7889915208452816,0.0,1.890733335364144,0.43147064899510373],[0.26334,0.0,0.4125,0.2848752029220779,0.7889915208452816,0.0,1.260488890242763,0.8629412979902075],[0.26334,0.0,0.20625,0.427312804383117,0.7889915208452816,0.0,0.6302444451213814,1.2944119469853113],[0.26334,0.0,0.0,0.5697504058441558,0.7889915208452816,0.0,0.0,1.725882595980415]]],[[[0.0,0.37499999999999994,0.55,0.0,0.0,1.1239715208452812,1.6806518536570167,0.0],[0.0,0.37499999999999994,0.4125,0.09495840097402597,0.0,1.1239715208452812,1.260488890242763,0.28764709933006916],[0.0,0.37499999999999994,0.275,0.18991680194805194,0.0,1.1239715208452812,0.8403259268285084,0.5752941986601383],[0.0,0.37499999999999994,0.1375,0.2848752029220779,0.0,1.1239715208452812,0.4201629634142542,0.8629412979902075],[0.0,0.37499999999999994,0.0,0.3798336038961039,0.0,1.1239715208452812,0.0,1.1505883973202766]],[[0.13167,0.28125,0.55,0.0,0.3944957604226408,0.8429786406339609,1.6806518536570167,0.0],[0.13167,0.28125,0.4125,0.09495840097402597,0.3944957604226408,0.8429786406339609,1.260488890242763,0.28764709933006916],[0.13167,0.28125,0.275,0.18991680194805194,0.3944957604226408,0.8429786406339609,0.8403259268285084,0.5752941986601383],[0.13167,0.28125,0.1375,0.2848752029220779,0.3944957604226408,0.8429786406339609,0.4201629634142542,0.8629412979902075],[0.13167,0.28125,0.0,0.3798336038961039,0.3944957604226408,0.8429786406339609,0.0,1.1505883973202766]],[[0.26334,0.18749999999999997,0.55,0.0,0.7889915208452816,0.5619857604226406,1.6806518536570167,0.0],[0.26334,0.18749999999999997,0.4125,0.09495840097402597,0.7889915208452816,0.5619857604226406,1.260488890242763,0.28764709933006916],[0.26334,0.18749999999999997,0.275,0.18991680194805194,0.7889915208452816,0.5619857604226406,0.8403259268285084,0.5752941986601383],[0.26334,0.18749999999999997,0.1375,0.2848752029220779,0.7889915208452816,0.5619857604226406,0.4201629634142542,0.8629412979902075],[0.26334,0.18749999999999997,0.0,0.3798336038961039,0.7889915208452816,0.5619857604226406,0.0,1.1505883973202766]],[[0.39501,0.09374999999999999,0.55,0.0,1.1834872812679222,0.2809928802113203,1.6806518536570167,0.0],[0.39501,0.09374999999999999,0.4125,0.09495840097402597,1.1834872812679222,0.2809928802113203,1.260488890242763,0.28764709933006916],[0.39501,0.09374999999999999,0.275,0.18991680194805194,1.1834872812679222,0.2809928802113203,0.8403259268285084,0.5752941986601383],[0.39501,0.09374999999999999,0.1375,0.2848752029220779,1.1834872812679222,0.2809928802113203,0.4201629634142542,0.8629412979902075],[0.39501,0.09374999999999999,0.0,0.3798336038961039,1.1834872812679222,0.2809928802113203,0.0,1.1505883973202766]],[[0.52668,0.0,0.55,0.0,1.5779830416905631,0.0,1.6806518536570167,0.0],[0.52668,0.0,0.4125,0.09495840097402597,1.5779830416905631,0.0,1.260488890242763,0.28764709933006916],[0.52668,0.0,0.275,0.18991680194805194,1.5779830416905631,0.0,0.8403259268285084,0.5752941986601383],[0.52668,0.0,0.1375,0.2848752029220779,1.5779830416905631,0.0,0.4201629634142542,0.8629412979902075],[0.52668,0.0,0.0,0.3798336038961039,1.5779830416905631,0.0,0.0,1.1505883973202766]]],[[[0.0,0.5625,0.275,0.0,0.0,1.6859572812679218,0.8403259268285084,0.0],[0.0,0.5625,0.20625,0.047479200487012985,0.0,1.6859572812679218,0.6302444451213814,0.14382354966503458],[0.0,0.5625,0.1375,0.09495840097402597,0.0,1.6859572812679218,0.4201629634142542,0.28764709933006916],[0.0,0.5625,0.06875,0.14243760146103895,0.0,1.6859572812679218,0.2100814817071271,0.43147064899510373],[0.0,0.5625,0.0,0.18991680194805194,0.0,1.6859572812679218,0.0,0.5752941986601383]],[[0.197505,0.421875,0.275,0.0,0.5917436406339611,1.2644679609509415,0.8403259268285084,0.0],[0.197505,0.421875,0.20625,0.047479200487012985,0.5917436406339611,1.2644679609509415,0.6302444451213814,0.14382354966503458],[0.197505,0.421875,0.1375,0.09495840097402597,0.5917436406339611,1.2644679609509415,0.4201629634142542,0.28764709933006916],[0.197505,0.421875,0.06875,0.14243760146103895,0.5917436406339611,1.2644679609509415,0.2100814817071271,0.43147064899510373],[0.197505,0.421875,0.0,0.18991680194805194,0.5917436406339611,1.2644679609509415,0.0,0.5752941986601383]],[[0.39501,0.28125,0.275,0.0,1.1834872812679222,0.8429786406339609,0.8403259268285084,0.0],[0.39501,0.28125,0.20625,0.047479200487012985,1.1834872812679222,0.8429786406339609,0.6302444451213814,0.14382354966503458],[0.39501,0.28125,0.1375,0.09495840097402597,1.1834872812679222,0.8429786406339609,0.4201629634142542,0.28764709933006916],[0.39501,0.28125,0.06875,0.14243760146103895,1.1834872812679222,0.8429786406339609,0.2100814817071271,0.43147064899510373],[0.39501,0.28125,0.0,0.18991680194805194,1.1834872812679222,0.8429786406339609,0.0,0.5752941986601383]],[[0.592515,0.140625,0.275,0.0,1.775230921901883,0.42148932031698044,0.8403259268285084,0.0],[0.592515,0.140625,0.20625,0.047479200487012985,1.775230921901883,0.42148932031698044,0.6302444451213814,0.14382354966503458],[0.592515,0.140625,0.1375,0.09495840097402597,1.775230921901883,0.42148932031698044,0.4201629634142542,0.28764709933006916],[0.592515,0.140625,0.06875,0.14243760146103895,1.775230921901883,0.42148932031698044,0.2100814817071271,0.43147064899510373],[0.592515,0.140625,0.0,0.18991680194805194,1.775230921901883,0.42148932031698044,0.0,0.5752941986601383]],[[0.79002,0.0,0.275,0.0,2.3669745625358445,0.0,0.8403259268285084,0.0],[0.79002,0.0,0.20625,0.047479200487012985,2.3669745625358445,0.0,0.6302444451213814,0.14382354966503458],[0.79002,0.0,0.1375,0.09495840097402597,2.3669745625358445,0.0,0.4201629634142542,0.28764709933006916],[0.79002,0.0,0.06875,0.14243760146103895,2.3669745625358445,0.0,0.2100814817071271,0.43147064899510373],[0.79002,0.0,0.0,0.18991680194805194,2.3669745625358445,0.0,0.0,0.5752941986601383]]],[[[0.0,0.7499999999999999,0.0,0.0,0.0,2.2479430416905624,0.0,0.0],[0.0,0.7499999999999999,0.0,0.0,0.0,2.2479430416905624,0.0,0.0],[0.0,0.7499999999999999,0.0,0.0,0.0,2.2479430416905624,0.0,0.0],[0.0,0.7499999999999999,0.0,0.0,0.0,2.2479430416905624,0.0,0.0],[0.0,0.7499999999999999,0.0,0.0,0.0,2.2479430416905624,0.0,0.0]],[[0.26334,0.5625,0.0,0.0,0.7889915208452816,1.6859572812679218,0.0,0.0],[0.26334,0.5625,0.0,0.0,0.7889915208452816,1.6859572812679218,0.0,0.0],[0.26334,0.5625,0.0,0.0,0.7889915208452816,1.6859572812679218,0.0,0.0],[0.26334,0.5625,0.0,0.0,0.7889915208452816,1.6859572812679218,0.0,0.0],[0.26334,0.5625,0.0,0.0,0.7889915208452816,1.6859572812679218,0.0,0.0]],[[0.52668,0.37499999999999994,0.0,0.0,1.5779830416905631,1.1239715208452812,0.0,0.0],[0.52668,0.37499999999999994,0.0,0.0,1.5779830416905631,1.1239715208452812,0.0,0.0],[0.52668,0.37499999999999994,0.0,0.0,1.5779830416905631,1.1239715208452812,0.0,0.0],[0.52668,0.37499999999999994,0.0,0.0,1.5779830416905631,1.1239715208452812,0.0,0.0],[0.52668,0.37499999999999994,0.0,0.0,1.5779830416905631,1.1239715208452812,0.0,0.0]],[[0.79002,0.18749999999999997,0.0,0.0,2.3669745625358445,0.5619857604226406,0.0,0.0],[0.79002,0.18749999999999997,0.0,0.0,2.3669745625358445,0.5619857604226406,0.0,0.0],[0.79002,0.18749999999999997,0.0,0.0,2.3669745625358445,0.5619857604226406,0.0,0.0],[0.79002,0.18749999999999997,0.0,0.0,2.3669745625358445,0.5619857604226406,0.0,0.0],[0.79002,0.18749999999999997,0.0,0.0,2.3669745625358445,0.5619857604226406,0.0,0.0]],[[1.05336,0.0,0.0,0.0,3.1559660833811263,0.0,0.0,0.0],[1.05336,0.0,0.0,0.0,3.1559660833811263,0.0,0.0,0.0],[1.05336,0.0,0.0,0.0,3.1559660833811263,0.0,0.0,0.0],[1.05336,0.0,0.0,0.0,3.1559660833811263,0.0,0.0,0.0],[1.05336,0.0,0.0,0.0,3.1559660833811263,0.0,0.0,0.0]]]],[[[[0.0,0.0,0.0,0.0,0.0,0.0,4.481738276418711,0.0],[0.0,0.0,0.0,0.0,0.0,0.0,3.3613037073140344,0.7670589315468511],[0.0,0.0,0.0,0.0,0.0,0.0,2.2408691382093555,1.5341178630937022],[0.0,0.0,0.0,0.0,0.0,0.0,1.1204345691046778,2.3011767946405532],[0.0,0.0,0.0,0.0,0.0,0.0,0.0,3.0682357261874045]],[[0.0,0.0,0.0,0.0,0.0,0.0,4.481738276418711,0.0],[0.0,0.0,0.0,0.0,0.0,0.0,3.3613037073140344,0.7670589315468511],[0.0,0.0,0.0,0.0,0.0,0.0,2.2408691382093555,1.5341178630937022],[0.0,0.0,0.0,0.0,0.0,0.0,1.1204345691046778,2.3011767946405532],[0.0,0.0,0.0,0.0,0.0,0.0,0.0,3.0682357261874045]],[[0.0,0.0,0.0,0.0,0.0,0.0,4.481738276418711,0.0],[0.0,0.0,0.0,0.0,0.0,0.0,3.3613037073140344,0.7670589315468511],[0.0,0.0,0.0,0.0,0.0,0.0,2.2408691382093555,1.5341178630937022],[0.0,0.0,0.0,0.0,0.0,0.0,1.1204345691046778,2.3011767946405532],[0.0,0.0,0.0,0.0,0.0,0.0,0.0,3.0682357261874045]],[[0.0,0.0,0.0,0.0,0.0,0.0,4.481738276418711,0.0],[0.0,0.0,0.0,0.0,0.0,0.0,3.3613037073140344,0.7670589315468511],[0.0,0.0,0.0,0.0,0.0,0.0,2.2408691382093555,1.5341178630937022],[0.0,0.0,0.0,0.0,0.0,0.0,1.1204345691046778,2.3011767946405532],[0.0,0.0,0.0,0.0,0.0,0.0,0.0,3.0682357261874045]],[[0.0,0.0,0.0,0.0,0.0,0.0,4.481738276418711,0.0],[0.0,0.0,0.0,0.0,0.0,0.0,3.3613037073140344,0.7670589315468511],[0.0,0.0,0.0,0.0,0.0,0.0,2.2408691382093555,1.5341178630937022],[0.0,0.0,0.0,0.0,0.0,0.0,1.1204345691046778,2.3011767946405532],[0.0,0.0,0.0,0.0,0.0,0.0,0.0,3.0682357261874045]]],[[[0.0,0.0,0.0,0.0,0.0,0.7493143472301875,3.3613037073140344,0.0],[0.0,0.0,0.0,0.0,0.0,0.7493143472301875,2.5209777804855253,0.5752941986601383],[0.0,0.0,0.0,0.0,0.0,0.7493143472301875,1.6806518536570172,1.1505883973202766],[0.0,0.0,0.0,0.0,0.0,0.7493143472301875,0.8403259268285086,1.725882595980415],[0.0,0.0,0.0,0.0,0.0,0.7493143472301875,0.0,2.3011767946405532]],[[0.0,0.0,0.0,0.0,0.26299717361509384,0.5619857604226406,3.3613037073140344,0.0],[0.0,0.0,0.0,0.0,0.26299717361509384,0.5619857604226406,2.5209777804855253,0.5752941986601383],[0.0,0.0,0.0,0.0,0.26299717361509384,0.5619857604226406,1.6806518536570172,1.1505883973202766],[0.0,0.0,0.0,0.0,0.26299717361509384,0.5619857604226406,0.8403259268285086,1.725882595980415],[0.0,0.0,0.0,0.0,0.26299717361509384,0.5619857604226406,0.0,2.3011767946405532]],[[0.0,0.0,0.0,0.0,0.5259943472301877,0.37465717361509376,3.3613037073140344,0.0],[0.0,0.0,0.0,0.0,0.5259943472301877,0.37465717361509376,2.5209777804855253,0.5752941986601383],[0.0,0.0,0.0,0.0,0.5259943472301877,0.37465717361509376,1.6806518536570172,1.1505883973202766],[0.0,0.0,0.0,0.0,0.5259943472301877,0.37465717361509376,0.8403259268285086,1.725882595980415],[0.0,0.0,0.0,0.0,0.5259943472301877,0.37465717361509376,0.0,2.3011767946405532]],[[0.0,0.0,0.0,0.0,0.7889915208452815,0.18732858680754688,3.3613037073140344,0.0],[0.0,0.0,0.0,0.0,0.7889915208452815,0.18732858680754688,2.5209777804855253,0.5752941986601383],[0.0,0.0,0.0,0.0,0.7889915208452815,0.18732858680754688,1.6806518536570172,1.1505883973202766],[0.0,0.0,0.0,0.0,0.7889915208452815,0.18732858680754688,0.8403259268285086,1.725882595980415],[0.0,0.0,0.0,0.0,0.7889915208452815,0.18732858680754688,0.0,2.3011767946405532]],[[0.0,0.0,0.0,0.0,1.0519886944603754,0.0,3.3613037073140344,0.0],[0.0,0.0,0.0,0.0,1.0519886944603754,0.0,2.5209777804855253,0.5752941986601383],[0.0,0.0,0.0,0.0,1.0519886944603754,0.0,1.6806518536570172,1.1505883973202766],[0.0,0.0,0.0,0.0,1.0519886944603754,0.0,0.8403259268285086,1.725882595980415],[0.0,0.0,0.0,0.0,1.0519886944603754,0.0,0.0,2.3011767946405532]]],[[[0.0,0.0,0.0,0.0,0.0,1.498628694460375,2.2408691382093555,0.0],[0.0,0.0,0.0,0.0,0.0,1.498628694460375,1.6806518536570172,0.38352946577342556],[0.0,0.0,0.0,0.0,0.0,1.498628694460375,1.1204345691046778,0.7670589315468511],[0.0,0.0,0.0,0.0,0.0,1.498628694460375,0.5602172845523389,1.1505883973202766],[0.0,0.0,0.0,0.0,0.0,1.498628694460375,0.0,1.5341178630937022]],[[0.0,0.0,0.0,0.0,0.5259943472301877,1.1239715208452812,2.2408691382093555,0.0],[0.0,0.0,0.0,0.0,0.5259943472301877,1.1239715208452812,1.6806518536570172,0.38352946577342556],[0.0,0.0,0.0,0.0,0.5259943472301877,1.1239715208452812,1.1204345691046778,0.7670589315468511],[0.0,0.0,0.0,0.0,0.5259943472301877,1.1239715208452812,0.5602172845523389,1.1505883973202766],[0.0,0.0,0.0,0.0,0.5259943472301877,1.1239715208452812,0.0,1.5341178630937022]],[[0.0,0.0,0.0,0.0,1.0519886944603754,0.7493143472301875,2.2408691382093555,0.0],[0.0,0.0,0.0,0.0,1.0519886944603754,0.7493143472301875,1.6806518536570172,0.38352946577342556],[0.0,0.0,0.0,0.0,1.0519886944603754,0.7493143472301875,1.1204345691046778,0.7670589315468511],[0.0,0.0,0.0,0.0,1.0519886944603754,0.7493143472301875,0.5602172845523389,1.1505883973202766],[0.0,0.0,0.0,0.0,1.0519886944603754,0.7493143472301875,0.0,1.5341178630937022]],[[0.0,0.0,0.0,0.0,1.577983041690563,0.37465717361509376,2.2408691382093555,0.0],[0.0,0.0,0.0,0.0,1.577983041690563,0.37465717361509376,1.6806518536570172,0.38352946577342556],[0.0,0.0,0.0,0.0,1.577983041690563,0.37465717361509376,1.1204345691046778,0.7670589315468511],[0.0,0.0,0.0,0.0,1.577983041690563,0.37465717361509376,0.5602172845523389,1.1505883973202766],[0.0,0.0,0.0,0.0,1.577983041690563,0.37465717361509376,0.0,1.5341178630937022]],[[0.0,0.0,0.0,0.0,2.1039773889207507,0.0,2.2408691382093555,0.0],[0.0,0.0,0.0,0.0,2.1039773889207507,0.0,1.6806518536570172,0.38352946577342556],[0.0,0.0,0.0,0.0,2.1039773889207507,0.0,1.1204345691046778,0.7670589315468511],[0.0,0.0,0.0,0.0,2.1039773889207507,0.0,0.5602172845523389,1.1505883973202766],[0.0,0.0,0.0,0.0,2.1039773889207507,0.0,0.0,1.5341178630937022]]],[[[0.0,0.0,0.0,0.0,0.0,2.2479430416905624,1.1204345691046778,0.0],[0.0,0.0,0.0,0.0,0.0,2.2479430416905624,0.8403259268285086,0.19176473288671278],[0.0,0.0,0.0,0.0,0.0,2.2479430416905624,0.5602172845523389,0.38352946577342556],[0.0,0.0,0.0,0.0,0.0,2.2479430416905624,0.28010864227616944,0.5752941986601383],[0.0,0.0,0.0,0.0,0.0,2.2479430416905624,0.0,0.7670589315468511]],[[0.0,0.0,0.0,0.0,0.7889915208452815,1.685957281267922,1.1204345691046778,0.0],[0.0,0.0,0.0,0.0,0.7889915208452815,1.685957281267922,0.8403259268285086,0.19176473288671278],[0.0,0.0,0.0,0.0,0.7889915208452815,1.685957281267922,0.5602172845523389,0.38352946577342556],[0.0,0.0,0.0,0.0,0.7889915208452815,1.685957281267922,0.28010864227616944,0.5752941986601383],[0.0,0.0,0.0,0.0,0.7889915208452815,1.685957281267922,0.0,0.7670589315468511]],[[0.0,0.0,0.0,0.0,1.577983041690563,1.1239715208452812,1.1204345691046778,0.0],[0.0,0.0,0.0,0.0,1.577983041690563,1.1239715208452812,0.8403259268285086,0.19176473288671278],[0.0,0.0,0.0,0.0,1.577983041690563,1.1239715208452812,0.5602172845523389,0.38352946577342556],[0.0,0.0,0.0,0.0,1.577983041690563,1.1239715208452812,0.28010864227616944,0.5752941986601383],[0.0,0.0,0.0,0.0,1.577983041690563,1.1239715208452812,0.0,0.7670589315468511]],[[0.0,0.0,0.0,0.0,2.366974562535844,0.5619857604226406,1.1204345691046778,0.0],[0.0,0.0,0.0,0.0,2.366974562535844,0.5619857604226406,0.8403259268285086,0.19176473288671278],[0.0,0.0,0.0,0.0,2.366974562535844,0.5619857604226406,0.5602172845523389,0.38352946577342556],[0.0,0.0,0.0,0.0,2.366974562535844,0.5619857604226406,0.28010864227616944,0.5752941986601383],[0.0,0.0,0.0,0.0,2.366974562535844,0.5619857604226406,0.0,0.7670589315468511]],[[0.0,0.0,0.0,0.0,3.155966083381126,0.0,1.1204345691046778,0.0],[0.0,0.0,0.0,0.0,3.155966083381126,0.0,0.8403259268285086,0.19176473288671278],[0.0,0.0,0.0,0.0,3.155966083381126,0.0,0.5602172845523389,0.38352946577342556],[0.0,0.0,0.0,0.0,3.155966083381126,0.0,0.28010864227616944,0.5752941986601383],[0.0,0.0,0.0,0.0,3.155966083381126,0.0,0.0,0.7670589315468511]]],[[[0.0,0.0,0.0,0.0,0.0,2.99725738892075,0.0,0.0],[0.0,0.0,0.0,0.0,0.0,2.99725738892075,0.0,0.0],[0.0,0.0,0.0,0.0,0.0,2.99725738892075,0.0,0.0],[0.0,0.0,0.0,0.0,0.0,2.99725738892075,0.0,0.0],[0.0,0.0,0.0,0.0,0.0,2.99725738892075,0.0,0.0]],[[0.0,0.0,0.0,0.0,1.0519886944603754,2.2479430416905624,0.0,0.0],[0.0,0.0,0.0,0.0,1.0519886944603754,2.2479430416905624,0.0,0.0],[0.0,0.0,0.0,0.0,1.0519886944603754,2.2479430416905624,0.0,0.0],[0.0,0.0,0.0,0.0,1.0519886944603754,2.2479430416905624,0.0,0.0],[0.0,0.0,0.0,0.0,1.0519886944603754,2.2479430416905624,0.0,0.0]],[[0.0,0.0,0.0,0.0,2.1039773889207507,1.498628694460375,0.0,0.0],[0.0,0.0,0.0,0.0,2.1039773889207507,1.498628694460375,0.0,0.0],[0.0,0.0,0.0,0.0,2.1039773889207507,1.498628694460375,0.0,0.0],[0.0,0.0,0.0,0.0,2.1039773889207507,1.498628694460375,0.0,0.0],[0.0,0.0,0.0,0.0,2.1039773889207507,1.498628694460375,0.0,0.0]],[[0.0,0.0,0.0,0.0,3.155966083381126,0.7493143472301875,0.0,0.0],[0.0,0.0,0.0,0.0,3.155966083381126,0.7493143472301875,0.0,0.0],[0.0,0.0,0.0,0.0,3.155966083381126,0.7493143472301875,0.0,0.0],[0.0,0.0,0.0,0.0,3.155966083381126,0.7493143472301875,0.0,0.0],[0.0,0.0,0.0,0.0,3.155966083381126,0.7493143472301875,0.0,0.0]],[[0.0,0.0,0.0,0.0,4.207954777841501,0.0,0.0,0.0],[0.0,0.0,0.0,0.0,4.207954777841501,0.0,0.0,0.0],[0.0,0.0,0.0,0.0,4.207954777841501,0.0,0.0,0.0],[0.0,0.0,0.0,0.0,4.207954777841501,0.0,0.0,0.0],[0.0,0.0,0.0,0.0,4.207954777841501,0.0,0.0,0.0]]]]],[[[[[0.0,0.0,1.8,0.0,0.0,0.0,0.0,0.0],[0.0,0.0,1.35,0.6076785714285714,0.0,0.0,0.0,0.0],[0.0,0.0,0.9,1.2153571428571428,0.0,0.0,0.0,0.0],[0.0,0.0,0.45,1.8230357142857145,0.0,0.0,0.0,0.0],[0.0,0.0,0.0,2.4307142857142856,0.0,0.0,0.0,0.0]],[[0.0,0.0,1.8,0.0,0.0,0.0,0.0,0.0],[0.0,0.0,1.35,0.6076785714285714,0.0,0.0,0.0,0.0],[0.0,0.0,0.9,1.2153571428571428,0.0,0.0,0.0,0.0],[0.0,0.0,0.45,1.8230357142857145,0.0,0.0,0.0,0.0],[0.0,0.0,0.0,2.4307142857142856,0.0,0.0,0.0,0.0]],[[0.0,0.0,1.8,0.0,0.0,0.0,0.0,0.0],[0.0,0.0,1.35,0.6076785714285714,0.0,0.0,0.0,0.0],[0.0,0.0,0.9,1.2153571428571428,0.0,0.0,0.0,0.0],[0.0,0.0,0.45,1.8230357142857145,0.0,0.0,0.0,0.0],[0.0,0.0,0.0,2.4307142857142856,0.0,0.0,0.0,0.0]],[[0.0,0.0,1.8,0.0,0.0,0.0,0.0,0.0],[0.0,0.0,1.35,0.6076785714285714,0.0,0.0,0.0,0.0],[0.0,0.0,0.9,1.2153571428571428,0.0,0.0,0.0,0.0],[0.0,0.0,0.45,1.8230357142857145,0.0,0.0,0.0,0.0],[0.0,0.0,0.0,2.4307142857142856,0.0,0.0,0.0,0.0]],[[0.0,0.0,1.8,0.0,0.0,0.0,0.0,0.0],[0.0,0.0,1.35,0.6076785714285714,0.0,0.0,0.0,0.0],[0.0,0.0,0.9,1.2153571428571428,0.0,0.0,0.0,0.0],[0.0,0.0,0.45,1.8230357142857145,0.0,0.0,0.0,0.0],[0.0,0.0,0.0,2.4307142857142856,0.0,0.0,0.0,0.0]]],[[[0.0,0.7499999999999999,1.35,0.0,0.0,0.0,0.0,0.0],[0.0,0.7499999999999999,1.0125,0.45575892857142863,0.0,0.0,0.0,0.0],[0.0,0.7499999999999999,0.675,0.9115178571428573,0.0,0.0,0.0,0.0],[0.0,0.7499999999999999,0.3375,1.3672767857142858,0.0,0.0,0.0,0.0],[0.0,0.7499999999999999,0.0,1.8230357142857145,0.0,0.0,0.0,0.0]],[[0.20310250000000002,0.5624999999999999,1.35,0.0,0.0,0.0,0.0,0.0],[0.20310250000000002,0.5624999999999999,1.0125,0.45575892857142863,0.0,0.0,0.0,0.0],[0.20310250000000002,0.5624999999999999,0.675,0.9115178571428573,0.0,0.0,0.0,0.0],[0.20310250000000002,0.5624999999999999,0.3375,1.3672767857142858,0.0,0.0,0.0,0.0],[0.20310250000000002,0.5624999999999999,0.0,1.8230357142857145,0.0,0.0,0.0,0.0]],[[0.40620500000000004,0.37499999999999994,1.35,0.0,0.0,0.0,0.0,0.0],[0.40620500000000004,0.37499999999999994,1.0125,0.45575892857142863,0.0,0.0,0.0,0.0],[0.40620500000000004,0.37499999999999994,0.675,0.9115178571428573,0.0,0.0,0.0,0.0],[0.40620500000000004,0.37499999999999994,0.3375,1.3672767857142858,0.0,0.0,0.0,0.0],[0.40620500000000004,0.37499999999999994,0.0,1.8230357142857145,0.0,0.0,0.0,0.0]],[[0.6093075,0.18749999999999997,1.35,0.0,0.0,0.0,0.0,0.0],[0.6093075,0.18749999999999997,1.0125,0.45575892857142863,0.0,0.0,0.0,0.0],[0.6093075,0.18749999999999997,0.675,0.9115178571428573,0.0,0.0,0.0,0.0],[0.6093075,0.18749999999999997,0.3375,1.3672767857142858,0.0,0.0,0.0,0.0],[0.6093075,0.18749999999999997,0.0,1.8230357142857145,0.0,0.0,0.0,0.0]],[[0.8124100000000001,0.0,1.35,0.0,0.0,0.0,0.0,0.0],[0.8124100000000001,0.0,1.0125,0.45575892857142863,0.0,0.0,0.0,0.0],[0.8124100000000001,0.0,0.675,0.9115178571428573,0.0,0.0,0.0,0.0],[0.8124100000000001,0.0,0.3375,1.3672767857142858,0.0,0.0,0.0,0.0],[0.8124100000000001,0.0,0.0,1.8230357142857145,0.0,0.0,0.0,0.0]]],[[[0.0,1.4999999999999998,0.9,0.0,0.0,0.0,0.0,0.0],[0.0,1.4999999999999998,0.675,0.3038392857142857,0.0,0.0,0.0,0.0],[0.0,1.4999999999999998,0.45,0.6076785714285714,0.0,0.0,0.0,0.0],[0.0,1.4999999999999998,0.225,0.9115178571428573,0.0,0.0,0.0,0.0],[0.0,1.4999999999999998,0.0,1.2153571428571428,0.0,0.0,0.0,0.0]],[[0.40620500000000004,1.1249999999999998,0.9,0.0,0.0,0.0,0.0,0.0],[0.40620500000000004,1.1249999999999998,0.675,0.3038392857142857,0.0,0.0,0.0,0.0],[0.40620500000000004,1.1249999999999998,0.45,0.6076785714285714,0.0,0.0,0.0,0.0],[0.40620500000000004,1.1249999999999998,0.225,0.9115178571428573,0.0,0.0,0.0,0.0],[0.40620500000000004,1.1249999999999998,0.0,1.2153571428571428,0.0,0.0,0.0,0.0]],[[0.8124100000000001,0.7499999999999999,0.9,0.0,0.0,0.0,0.0,0.0],[0.8124100000000001,0.7499999999999999,0.675,0.3038392857142857,0.0,0.0,0.0,0.0],[0.8124100000000001,0.7499999999999999,0.45,0.6076785714285714,0.0,0.0,0.0,0.0],[0.8124100000000001,0.7499999999999999,0.225,0.9115178571428573,0.0,0.0,0.0,0.0],[0.8124100000000001,0.7499999999999999,0.0,1.2153571428571428,0.0,0.0,0.0,0.0]],[[1.218615,0.37499999999999994,0.9,0.0,0.0,0.0,0.0,0.0],[1.218615,0.37499999999999994,0.675,0.3038392857142857,0.0,0.0,0.0,0.0],[1.218615,0.37499999999999994,0.45,0.6076785714285714,0.0,0.0,0.0,0.0],[1.218615,0.37499999999999994,0.225,0.9115178571428573,0.0,0.0,0.0,0.0],[1.218615,0.37499999999999994,0.0,1.2153571428571428,0.0,0.0,0.0,0.0]],[[1.6248200000000002,0.0,0.9,0.0,0.0,0.0,0.0,0.0],[1.6248200000000002,0.0,0.675,0.3038392857142857,0.0,0.0,0.0,0.0],[1.6248200000000002,0.0,0.45,0.6076785714285714,0.0,0.0,0.0,0.0],[1.6248200000000002,0.0,0.225,0.9115178571428573,0.0,0.0,0.0,0.0],[1.6248200000000002,0.0,0.0,1.2153571428571428,0.0,0.0,0.0,0.0]]],[[[0.0,2.2499999999999996,0.45,0.0,0.0,0.0,0.0,0.0],[0.0,2.2499999999999996,0.3375,0.15191964285714285,0.0,0.0,0.0,0.0],[0.0,2.2499999999999996,0.225,0.3038392857142857,0.0,0.0,0.0,0.0],[0.0,2.2499999999999996,0.1125,0.45575892857142863,0.0,0.0,0.0,0.0],[0.0,2.2499999999999996,0.0,0.6076785714285714,0.0,0.0,0.0,0.0]],[[0.6093075,1.6875,0.45,0.0,0.0,0.0,0.0,0.0],[0.6093075,1.6875,0.3375,0.15191964285714285,0.0,0.0,0.0,0.0],[0.6093075,1.6875,0.225,0.3038392857142857,0.0,0.0,0.0,0.0],[0.6093075,1.6875,0.1125,0.45575892857142863,0.0,0.0,0.0,0.0],[0.6093075,1.6875,0.0,0.6076785714285714,0.0,0.0,0.0,0.0]],[[1.218615,1.1249999999999998,0.45,0.0,0.0,0.0,0.0,0.0],[1.218615,1.1249999999999998,0.3375,0.15191964285714285,0.0,0.0,0.0,0.0],[1.218615,1.1249999999999998,0.225,0.3038392857142857,0.0,0.0,0.0,0.0],[1.218615,1.1249999999999998,0.1125,0.45575892857142863,0.0,0.0,0.0,0.0],[1.218615,1.1249999999999998,0.0,0.6076785714285714,0.0,0.0,0.0,0.0]],[[1.8279225000000001,0.5624999999999999,0.45,0.0,0.0,0.0,0.0,0.0],[1.8279225000000001,0.5624999999999999,0.3375,0.15191964285714285,0.0,0.0,0.0,0.0],[1.8279225000000001,0.5624999999999999,0.225,0.3038392857142857,0.0,0.0,0.0,0.0],[1.8279225000000001,0.5624999999999999,0.1125,0.45575892857142863,0.0,0.0,0.0,0.0],[1.8279225000000001,0.5624999999999999,0.0,0.6076785714285714,0.0,0.0,0.0,0.0]],[[2.43723,0.0,0.45,0.0,0.0,0.0,0.0,0.0],[2.43723,0.0,0.3375,0.15191964285714285,0.0,0.0,0.0,0.0],[2.43723,0.0,0.225,0.3038392857142857,0.0,0.0,0.0,0.0],[2.43723,0.0,0.1125,0.45575892857142863,0.0,0.0,0.0,0.0],[2.43723,0.0,0.0,0.6076785714285714,0.0,0.0,0.0,0.0]]],[[[0.0,2.9999999999999996,0.0,0.0,0.0,0.0,0.0,0.0],[0.0,2.9999999999999996,0.0,0.0,0.0,0.0,0.0,0.0],[0.0,2.9999999999999996,0.0,0.0,0.0,0.0,0.0,0.0],[0.0,2.9999999999999996,0.0,0.0,0.0,0.0,0.0,0.0],[0.0,2.9999999999999996,0.0,0.0,0.0,0.0,0.0,0.0]],[[0.8124100000000001,2.2499999999999996,0.0,0.0,0.0,0.0,0.0,0.0],[0.8124100000000001,2.2499999999999996,0.0,0.0,0.0,0.0,0.0,0.0],[0.8124100000000001,2.2499999999999996,0.0,0.0,0.0,0.0,0.0,0.0],[0.8124100000000001,2.2499999999999996,0.0,0.0,0.0,0.0,0.0,0.0],[0.8124100000000001,2.2499999999999996,0.0,0.0,0.0,0.0,0.0,0.0]],[[1.6248200000000002,1.4999999999999998,0.0,0.0,0.0,0.0,0.0,0.0],[1.6248200000000002,1.4999999999999998,0.0,0.0,0.0,0.0,0.0,0.0],[1.6248200000000002,1.4999999999999998,0.0,0.0,0.0,0.0,0.0,0.0],[1.6248200000000002,1.4999999999999998,0.0,0.0,0.0,0.0,0.0,0.0],[1.6248200000000002,1.4999999999999998,0.0,0.0,0.0,0.0,0.0,0.0]],[[2.43723,0.7499999999999999,0.0,0.0,0.0,0.0,0.0,0.0],[2.43723,0.7499999999999999,0.0,0.0,0.0,0.0,0.0,0.0],[2.43723,0.7499999999999999,0.0,0.0,0.0,0.0,0.0,0.0],[2.43723,0.7499999999999999,0.0,0.0,0.0,0.0,0.0,0.0],[2.43723,0.7499999999999999,0.0,0.0,0.0,0.0,0.0,0.0]],[[3.2496400000000003,0.0,0.0,0.0,0.0,0.0,0.0,0.0],[3.2496400000000003,0.0,0.0,0.0,0.0,0.0,0.0,0.0],[3.2496400000000003,0.0,0.0,0.0,0.0,0.0,0.0,0.0],[3.2496400000000003,0.0,0.0,0.0,0.0,0.0,0.0,0.0],[3.2496400000000003,0.0,0.0,0.0,0.0,0.0,0.0,0.0]]]],[[[[0.0,0.0,1.35,0.0,0.0,0.0,0.45761416625293266,0.0],[0.0,0.0,1.0125000000000002,0.4557589285714285,0.0,0.0,0.34321062468969954,0.15261093873642154],[0.0,0.0,0.675,0.911517857142857,0.0,0.0,0.22880708312646633,0.3052218774728431],[0.0,0.0,0.3375,1.367276785714286,0.0,0.0,0.11440354156323317,0.45783281620926464],[0.0,0.0,0.0,1.823035714285714,0.0,0.0,0.0,0.6104437549456861]],[[0.0,0.0,1.35,0.0,0.0,0.0,0.45761416625293266,0.0],[0.0,0.0,1.0125000000000002,0.4557589285714285,0.0,0.0,0.34321062468969954,0.15261093873642154],[0.0,0.0,0.675,0.911517857142857,0.0,0.0,0.22880708312646633,0.3052218774728431],[0.0,0.0,0.3375,1.367276785714286,0.0,0.0,0.11440354156323317,0.45783281620926464],[0.0,0.0,0.0,1.823035714285714,0.0,0.0,0.0,0.6104437549456861]],[[0.0,0.0,1.35,0.0,0.0,0.0,0.45761416625293266,0.0],[0.0,0.0,1.0125000000000002,0.4557589285714285,0.0,0.0,0.34321062468969954,0.15261093873642154],[0.0,0.0,0.675,0.911517857142857,0.0,0.0,0.22880708312646633,0.3052218774728431],[0.0,0.0,0.3375,1.367276785714286,0.0,0.0,0.11440354156323317,0.45783281620926464],[0.0,0.0,0.0,1.823035714285714,0.0,0.0,0.0,0.6104437549456861]],[[0.0,0.0,1.35,0.0,0.0,0.0,0.45761416625293266,0.0],[0.0,0.0,1.0125000000000002,0.4557589285714285,0.0,0.0,0.34321062468969954,0.15261093873642154],[0.0,0.0,0.675,0.911517857142857,0.0,0.0,0.22880708312646633,0.3052218774728431],[0.0,0.0,0.3375,1.367276785714286,0.0,0.0,0.11440354156323317,0.45783281620926464],[0.0,0.0,0.0,1.823035714285714,0.0,0.0,0.0,0.6104437549456861]],[[0.0,0.0,1.35,0.0,0.0,0.0,0.45761416625293266,0.0],[0.0,0.0,1.0125000000000002,0.4557589285714285,0.0,0.0,0.34321062468969954,0.15261093873642154],[0.0,0.0,0.675,0.911517857142857,0.0,0.0,0.22880708312646633,0.3052218774728431],[0.0,0.0,0.3375,1.367276785714286,0.0,0.0,0.11440354156323317,0.45783281620926464],[0.0,0.0,0.0,1.823035714285714,0.0,0.0,0.0,0.6104437549456861]]],[[[0.0,0.5624999999999999,1.0125000000000002,0.0,0.0,0.18968756025914355,0.34321062468969954,0.0],[0.0,0.5624999999999999,0.7593749999999999,0.3418191964285715,0.0,0.18968756025914355,0.2574079685172746,0.11445820405231616],[0.0,0.5624999999999999,0.5062500000000001,0.683638392857143,0.0,0.18968756025914355,0.17160531234484977,0.22891640810463232],[0.0,0.5624999999999999,0.25312500000000004,1.0254575892857143,0.0,0.18968756025914355,0.08580265617242488,0.3433746121569485],[0.0,0.5624999999999999,0.0,1.367276785714286,0.0,0.18968756025914355,0.0,0.45783281620926464]],[[0.15232687500000003,0.4218749999999999,1.0125000000000002,0.0,0.05186940512957178,0.14226567019435765,0.34321062468969954,0.0],[0.15232687500000003,0.4218749999999999,0.7593749999999999,0.3418191964285715,0.05186940512957178,0.14226567019435765,0.2574079685172746,0.11445820405231616],[0.15232687500000003,0.4218749999999999,0.5062500000000001,0.683638392857143,0.05186940512957178,0.14226567019435765,0.17160531234484977,0.22891640810463232],[0.15232687500000003,0.4218749999999999,0.25312500000000004,1.0254575892857143,0.05186940512957178,0.14226567019435765,0.08580265617242488,0.3433746121569485],[0.15232687500000003,0.4218749999999999,0.0,1.367276785714286,0.05186940512957178,0.14226567019435765,0.0,0.45783281620926464]],[[0.30465375000000006,0.28124999999999994,1.0125000000000002,0.0,0.10373881025914355,0.09484378012957177,0.34321062468969954,0.0],[0.30465375000000006,0.28124999999999994,0.7593749999999999,0.3418191964285715,0.10373881025914355,0.09484378012957177,0.2574079685172746,0.11445820405231616],[0.30465375000000006,0.28124999999999994,0.5062500000000001,0.683638392857143,0.10373881025914355,0.09484378012957177,0.17160531234484977,0.22891640810463232],[0.30465375000000006,0.28124999999999994,0.25312500000000004,1.0254575892857143,0.10373881025914355,0.09484378012957177,0.08580265617242488,0.3433746121569485],[0.30465375000000006,0.28124999999999994,0.0,1.367276785714286,0.10373881025914355,0.09484378012957177,0.0,0.45783281620926464]],[[0.45698062500000003,0.14062499999999997,1.0125000000000002,0.0,0.15560821538871528,0.047421890064785886,0.34321062468969954,0.0],[0.45698062500000003,0.14062499999999997,0.7593749999999999,0.3418191964285715,0.15560821538871528,0.047421890064785886,0.2574079685172746,0.11445820405231616],[0.45698062500000003,0.14062499999999997,0.5062500000000001,0.683638392857143,0.15560821538871528,0.047421890064785886,0.17160531234484977,0.22891640810463232],[0.45698062500000003,0.14062499999999997,0.25312500000000004,1.0254575892857143,0.15560821538871528,0.047421890064785886,0.08580265617242488,0.3433746121569485],[0.45698062500000003,0.14062499999999997,0.0,1.367276785714286,0.15560821538871528,0.047421890064785886,0.0,0.45783281620926464]],[[0.6093075000000001,0.0,1.0125000000000002,0.0,0.2074776205182871,0.0,0.34321062468969954,0.0],[0.6093075000000001,0.0,0.7593749999999999,0.3418191964285715,0.2074776205182871,0.0,0.2574079685172746,0.11445820405231616],[0.6093075000000001,0.0,0.5062500000000001,0.683638392857143,0.2074776205182871,0.0,0.17160531234484977,0.22891640810463232],[0.6093075000000001,0.0,0.25312500000000004,1.0254575892857143,0.2074776205182871,0.0,0.08580265617242488,0.3433746121569485],[0.6093075000000001,0.0,0.0,1.367276785714286,0.2074776205182871,0.0,0.0,0.45783281620926464]]],[[[0.0,1.1249999999999998,0.675,0.0,0.0,0.3793751205182871,0.22880708312646633,0.0],[0.0,1.1249999999999998,0.5062500000000001,0.22787946428571426,0.0,0.3793751205182871,0.17160531234484977,0.07630546936821077],[0.0,1.1249999999999998,0.3375,0.4557589285714285,0.0,0.3793751205182871,0.11440354156323317,0.15261093873642154],[0.0,1.1249999999999998,0.16875,0.683638392857143,0.0,0.3793751205182871,0.05720177078161658,0.22891640810463232],[0.0,1.1249999999999998,0.0,0.911517857142857,0.0,0.3793751205182871,0.0,0.3052218774728431]],[[0.30465375000000006,0.8437499999999998,0.675,0.0,0.10373881025914355,0.2845313403887153,0.22880708312646633,0.0],[0.30465375000000006,0.8437499999999998,0.5062500000000001,0.22787946428571426,0.10373881025914355,0.2845313403887153,0.17160531234484977,0.07630546936821077],[0.30465375000000006,0.8437499999999998,0.3375,0.4557589285714285,0.10373881025914355,0.2845313403887153,0.11440354156323317,0.15261093873642154],[0.30465375000000006,0.8437499999999998,0.16875,0.683638392857143,0.10373881025914355,0.2845313403887153,0.05720177078161658,0.22891640810463232],[0.30465375000000006,0.8437499999999998,0.0,0.911517857142857,0.10373881025914355,0.2845313403887153,0.0,0.3052218774728431]],[[0.6093075000000001,0.5624999999999999,0.675,0.0,0.2074776205182871,0.18968756025914355,0.22880708312646633,0.0],[0.6093075000000001,0.5624999999999999,0.5062500000000001,0.22787946428571426,0.2074776205182871,0.18968756025914355,0.17160531234484977,0.07630546936821077],[0.6093075000000001,0.5624999999999999,0.3375,0.4557589285714285,0.2074776205182871,0.18968756025914355,0.11440354156323317,0.15261093873642154],[0.6093075000000001,0.5624999999999999,0.16875,0.683638392857143,0.2074776205182871,0.18968756025914355,0.05720177078161658,0.22891640810463232],[0.6093075000000001,0.5624999999999999,0.0,0.911517857142857,0.2074776205182871,0.18968756025914355,0.0,0.3052218774728431]],[[0.9139612500000001,0.28124999999999994,0.675,0.0,0.31121643077743055,0.09484378012957177,0.22880708312646633,0.0],[0.9139612500000001,0.28124999999999994,0.5062500000000001,0.22787946428571426,0.31121643077743055,0.09484378012957177,0.17160531234484977,0.07630546936821077],[0.9139612500000001,0.28124999999999994,0.3375,0.4557589285714285,0.31121643077743055,0.09484378012957177,0.11440354156323317,0.15261093873642154],[0.9139612500000001,0.28124999999999994,0.16875,0.683638392857143,0.31121643077743055,0.09484378012957177,0.05720177078161658,0.22891640810463232],[0.9139612500000001,0.28124999999999994,0.0,0.911517857142857,0.31121643077743055,0.09484378012957177,0.0,0.3052218774728431]],[[1.2186150000000002,0.0,0.675,0.0,0.4149552410365742,0.0,0.22880708312646633,0.0],[1.2186150000000002,0.0,0.5062500000000001,0.22787946428571426,0.4149552410365742,0.0,0.17160531234484977,0.07630546936821077],[1.2186150000000002,0.0,0.3375,0.4557589285714285,0.4149552410365742,0.0,0.11440354156323317,0.15261093873642154],[1.2186150000000002,0.0,0.16875,0.683638392857143,0.4149552410365742,0.0,0.05720177078161658,0.22891640810463232],[1.2186150000000002,0.0,0.0,0.911517857142857,0.4149552410365742,0.0,0.0,0.3052218774728431]]],[[[0.0,1.6874999999999996,0.3375,0.0,0.0,0.5690626807774306,0.11440354156323317,0.0],[0.0,1.6874999999999996,0.25312500000000004,0.11393973214285713,0.0,0.5690626807774306,0.08580265617242488,0.038152734684105384],[0.0,1.6874999999999996,0.16875,0.22787946428571426,0.0,0.5690626807774306,0.05720177078161658,0.07630546936821077],[0.0,1.6874999999999996,0.084375,0.3418191964285715,0.0,0.5690626807774306,0.02860088539080829,0.11445820405231616],[0.0,1.6874999999999996,0.0,0.4557589285714285,0.0,0.5690626807774306,0.0,0.15261093873642154]],[[0.45698062500000003,1.265625,0.3375,0.0,0.15560821538871528,0.4267970105830729,0.11440354156323317,0.0],[0.45698062500000003,1.265625,0.25312500000000004,0.11393973214285713,0.15560821538871528,0.4267970105830729,0.08580265617242488,0.038152734684105384],[0.45698062500000003,1.265625,0.16875,0.22787946428571426,0.15560821538871528,0.4267970105830729,0.05720177078161658,0.07630546936821077],[0.45698062500000003,1.265625,0.084375,0.3418191964285715,0.15560821538871528,0.4267970105830729,0.02860088539080829,0.11445820405231616],[0.45698062500000003,1.265625,0.0,0.4557589285714285,0.15560821538871528,0.4267970105830729,0.0,0.15261093873642154]],[[0.9139612500000001,0.8437499999999998,0.3375,0.0,0.31121643077743055,0.2845313403887153,0.11440354156323317,0.0],[0.9139612500000001,0.8437499999999998,0.25312500000000004,0.11393973214285713,0.31121643077743055,0.2845313403887153,0.08580265617242488,0.038152734684105384],[0.9139612500000001,0.8437499999999998,0.16875,0.22787946428571426,0.31121643077743055,0.2845313403887153,0.05720177078161658,0.07630546936821077],[0.9139612500000001,0.8437499999999998,0.084375,0.3418191964285715,0.31121643077743055,0.2845313403887153,0.02860088539080829,0.11445820405231616],[0.9139612500000001,0.8437499999999998,0.0,0.4557589285714285,0.31121643077743055,0.2845313403887153,0.0,0.15261093873642154]],[[1.3709418750000002,0.4218749999999999,0.3375,0.0,0.46682464616614583,0.14226567019435765,0.11440354156323317,0.0],[1.3709418750000002,0.4218749999999999,0.25312500000000004,0.11393973214285713,0.46682464616614583,0.14226567019435765,0.08580265617242488,0.038152734684105384],[1.3709418750000002,0.4218749999999999,0.16875,0.22787946428571426,0.46682464616614583,0.14226567019435765,0.05720177078161658,0.07630546936821077],[1.3709418750000002,0.4218749999999999,0.084375,0.3418191964285715,0.46682464616614583,0.14226567019435765,0.02860088539080829,0.11445820405231616],[1.3709418750000002,0.4218749999999999,0.0,0.4557589285714285,0.46682464616614583,0.14226567019435765,0.0,0.15261093873642154]],[[1.8279225000000001,0.0,0.3375,0.0,0.6224328615548611,0.0,0.11440354156323317,0.0],[1.8279225000000001,0.0,0.25312500000000004,0.11393973214285713,0.6224328615548611,0.0,0.08580265617242488,0.038152734684105384],[1.8279225000000001,0.0,0.16875,0.22787946428571426,0.6224328615548611,0.0,0.05720177078161658,0.07630546936821077],[1.8279225000000001,0.0,0.084375,0.3418191964285715,0.6224328615548611,0.0,0.02860088539080829,0.11445820405231616],[1.8279225000000001,0.0,0.0,0.4557589285714285,0.6224328615548611,0.0,0.0,0.15261093873642154]]],[[[0.0,2.2499999999999996,0.0,0.0,0.0,0.7587502410365742,0.0,0.0],[0.0,2.2499999999999996,0.0,0.0,0.0,0.7587502410365742,0.0,0.0],[0.0,2.2499999999999996,0.0,0.0,0.0,0.7587502410365742,0.0,0.0],[0.0,2.2499999999999996,0.0,0.0,0.0,0.7587502410365742,0.0,0.0],[0.0,2.2499999999999996,0.0,0.0,0.0,0.7587502410365742,0.0,0.0]],[[0.6093075000000001,1.6874999999999996,0.0,0.0,0.2074776205182871,0.5690626807774306,0.0,0.0],[0.6093075000000001,1.6874999999999996,0.0,0.0,0.2074776205182871,0.5690626807774306,0.0,0.0],[0.6093075000000001,1.6874999999999996,0.0,0.0,0.2074776205182871,0.5690626807774306,0.0,0.0],[0.6093075000000001,1.6874999999999996,0.0,0.0,0.2074776205182871,0.5690626807774306,0.0,0.0],[0.6093075000000001,1.6874999999999996,0.0,0.0,0.2074776205182871,0.5690626807774306,0.0,0.0]],[[1.2186150000000002,1.1249999999999998,0.0,0.0,0.4149552410365742,0.3793751205182871,0.0,0.0],[1.2186150000000002,1.1249999999999998,0.0,0.0,0.4149552410365742,0.3793751205182871,0.0,0.0],[1.2186150000000002,1.1249999999999998,0.0,0.0,0.4149552410365742,0.3793751205182871,0.0,0.0],[1.2186150000000002,1.1249999999999998,0.0,0.0,0.4149552410365742,0.3793751205182871,0.0,0.0],[1.2186150000000002,1.1249999999999998,0.0,0.0,0.4149552410365742,0.3793751205182871,0.0,0.0]],[[1.8279225000000001,0.5624999999999999,0.0,0.0,0.6224328615548611,0.18968756025914355,0.0,0.0],[1.8279225000000001,0.5624999999999999,0.0,0.0,0.6224328615548611,0.18968756025914355,0.0,0.0],[1.8279225000000001,0.5624999999999999,0.0,0.0,0.6224328615548611,0.18968756025914355,0.0,0.0],[1.8279225000000001,0.5624999999999999,0.0,0.0,0.6224328615548611,0.18968756025914355,0.0,0.0],[1.8279225000000001,0.5624999999999999,0.0,0.0,0.6224328615548611,0.18968756025914355,0.0,0.0]],[[2.4372300000000005,0.0,0.0,0.0,0.8299104820731484,0.0,0.0,0.0],[2.4372300000000005,0.0,0.0,0.0,0.8299104820731484,0.0,0.0,0.0],[2.4372300000000005,0.0,0.0,0.0,0.8299104820731484,0.0,0.0,0.0],[2.4372300000000005,0.0,0.0,0.0,0.8299104820731484,0.0,0.0,0.0],[2.4372300000000005,0.0,0.0,0.0,0.8299104820731484,0.0,0.0,0.0]]]],[[[[0.0,0.0,0.9,0.0,0.0,0.0,0.9152283325058653,0.0],[0.0,0.0,0.675,0.3038392857142857,0.0,0.0,0.6864212493793991,0.3052218774728431],[0.0,0.0,0.45,0.6076785714285714,0.0,0.0,0.45761416625293266,0.6104437549456861],[0.0,0.0,0.225,0.9115178571428573,0.0,0.0,0.22880708312646633,0.9156656324185293],[0.0,0.0,0.0,1.2153571428571428,0.0,0.0,0.0,1.2208875098913723]],[[0.0,0.0,0.9,0.0,0.0,0.0,0.9152283325058653,0.0],[0.0,0.0,0.675,0.3038392857142857,0.0,0.0,0.6864212493793991,0.3052218774728431],[0.0,0.0,0.45,0.6076785714285714,0.0,0.0,0.45761416625293266,0.6104437549456861],[0.0,0.0,0.225,0.9115178571428573,0.0,0.0,0.22880708312646633,0.9156656324185293],[0.0,0.0,0.0,1.2153571428571428,0.0,0.0,0.0,1.2208875098913723]],[[0.0,0.0,0.9,0.0,0.0,0.0,0.9152283325058653,0.0],[0.0,0.0,0.675,0.3038392857142857,0.0,0.0,0.6864212493793991,0.3052218774728431],[0.0,0.0,0.45,0.6076785714285714,0.0,0.0,0.45761416625293266,0.6104437549456861],[0.0,0.0,0.225,0.9115178571428573,0.0,0.0,0.22880708312646633,0.9156656324185293],[0.0,0.0,0.0,1.2153571428571428,0.0,0.0,0.0,1.2208875098913723]],[[0.0,0.0,0.9,0.0,0.0,0.0,0.9152283325058653,0.0],[0.0,0.0,0.675,0.3038392857142857,0.0,0.0,0.6864212493793991,0.3052218774728431],[0.0,0.0,0.45,0.6076785714285714,0.0,0.0,0.45761416625293266,0.6104437549456861],[0.0,0.0,0.225,0.9115178571428573,0.0,0.0,0.22880708312646633,0.9156656324185293],[0.0,0.0,0.0,1.2153571428571428,0.0,0.0,0.0,1.2208875098913723]],[[0.0,0.0,0.9,0.0,0.0,0.0,0.9152283325058653,0.0],[0.0,0.0,0.675,0.3038392857142857,0.0,0.0,0.6864212493793991,0.3052218774728431],[0.0,0.0,0.45,0.6076785714285714,0.0,0.0,0.45761416625293266,0.6104437549456861],[0.0,0.0,0.225,0.9115178571428573,0.0,0.0,0.22880708312646633,0.9156656324185293],[0.0,0.0,0.0,1.2153571428571428,0.0,0.0,0.0,1.2208875098913723]]],[[[0.0,0.37499999999999994,0.675,0.0,0.0,0.3793751205182871,0.6864212493793991,0.0],[0.0,0.37499999999999994,0.50625,0.22787946428571432,0.0,0.3793751205182871,0.5148159370345492,0.22891640810463232],[0.0,0.37499999999999994,0.3375,0.45575892857142863,0.0,0.3793751205182871,0.34321062468969954,0.45783281620926464],[0.0,0.37499999999999994,0.16875,0.6836383928571429,0.0,0.3793751205182871,0.17160531234484977,0.686749224313897],[0.0,0.37499999999999994,0.0,0.9115178571428573,0.0,0.3793751205182871,0.0,0.9156656324185293]],[[0.10155125000000001,0.28124999999999994,0.675,0.0,0.10373881025914355,0.2845313403887153,0.6864212493793991,0.0],[0.10155125000000001,0.28124999999999994,0.50625,0.22787946428571432,0.10373881025914355,0.2845313403887153,0.5148159370345492,0.22891640810463232],[0.10155125000000001,0.28124999999999994,0.3375,0.45575892857142863,0.10373881025914355,0.2845313403887153,0.34321062468969954,0.45783281620926464],[0.10155125000000001,0.28124999999999994,0.16875,0.6836383928571429,0.10373881025914355,0.2845313403887153,0.17160531234484977,0.686749224313897],[0.10155125000000001,0.28124999999999994,0.0,0.9115178571428573,0.10373881025914355,0.2845313403887153,0.0,0.9156656324185293]],[[0.20310250000000002,0.18749999999999997,0.675,0.0,0.2074776205182871,0.18968756025914355,0.6864212493793991,0.0],[0.20310250000000002,0.18749999999999997,0.50625,0.22787946428571432,0.2074776205182871,0.18968756025914355,0.5148159370345492,0.22891640810463232],[0.20310250000000002,0.18749999999999997,0.3375,0.45575892857142863,0.2074776205182871,0.18968756025914355,0.34321062468969954,0.45783281620926464],[0.20310250000000002,0.18749999999999997,0.16875,0.6836383928571429,0.2074776205182871,0.18968756025914355,0.17160531234484977,0.686749224313897],[0.20310250000000002,0.18749999999999997,0.0,0.9115178571428573,0.2074776205182871,0.18968756025914355,0.0,0.9156656324185293]],[[0.30465375,0.09374999999999999,0.675,0.0,0.31121643077743055,0.09484378012957177,0.6864212493793991,0.0],[0.30465375,0.09374999999999999,0.50625,0.22787946428571432,0.31121643077743055,0.09484378012957177,0.5148159370345492,0.22891640810463232],[0.30465375,0.09374999999999999,0.3375,0.45575892857142863,0.31121643077743055,0.09484378012957177,0.34321062468969954,0.45783281620926464],[0.30465375,0.09374999999999999,0.16875,0.6836383928571429,0.31121643077743055,0.09484378012957177,0.17160531234484977,0.686749224313897],[0.30465375,0.09374999999999999,0.0,0.9115178571428573,0.31121643077743055,0.09484378012957177,0.0,0.9156656324185293]],[[0.40620500000000004,0.0,0.675,0.0,0.4149552410365742,0.0,0.6864212493793991,0.0],[0.40620500000000004,0.0,0.50625,0.22787946428571432,0.4149552410365742,0.0,0.5148159370345492,0.22891640810463232],[0.40620500000000004,0.0,0.3375,0.45575892857142863,0.4149552410365742,0.0,0.34321062468969954,0.45783281620926464],[0.40620500000000004,0.0,0.16875,0.6836383928571429,0.4149552410365742,0.0,0.17160531234484977,0.686749224313897],[0.40620500000000004,0.0,0.0,0.9115178571428573,0.4149552410365742,0.0,0.0,0.9156656324185293]]],[[[0.0,0.7499999999999999,0.45,0.0,0.0,0.7587502410365742,0.45761416625293266,0.0],[0.0,0.7499999999999999,0.3375,0.15191964285714285,0.0,0.7587502410365742,0.34321062468969954,0.15261093873642154],[0.0,0.7499999999999999,0.225,0.3038392857142857,0.0,0.7587502410365742,0.22880708312646633,0.3052218774728431],[0.0,0.7499999999999999,0.1125,0.45575892857142863,0.0,0.7587502410365742,0.11440354156323317,0.45783281620926464],[0.0,0.7499999999999999,0.0,0.6076785714285714,0.0,0.7587502410365742,0.0,0.6104437549456861]],[[0.20310250000000002,0.5624999999999999,0.45,0.0,0.2074776205182871,0.5690626807774306,0.45761416625293266,0.0],[0.20310250000000002,0.5624999999999999,0.3375,0.15191964285714285,0.2074776205182871,0.5690626807774306,0.34321062468969954,0.15261093873642154],[0.20310250000000002,0.5624999999999999,0.225,0.3038392857142857,0.2074776205182871,0.5690626807774306,0.22880708312646633,0.3052218774728431],[0.20310250000000002,0.5624999999999999,0.1125,0.45575892857142863,0.2074776205182871,0.5690626807774306,0.11440354156323317,0.45783281620926464],[0.20310250000000002,0.5624999999999999,0.0,0.6076785714285714,0.2074776205182871,0.5690626807774306,0.0,0.6104437549456861]],[[0.40620500000000004,0.37499999999999994,0.45,0.0,0.4149552410365742,0.3793751205182871,0.45761416625293266,0.0],[0.40620500000000004,0.37499999999999994,0.3375,0.15191964285714285,0.4149552410365742,0.3793751205182871,0.34321062468969954,0.15261093873642154],[0.40620500000000004,0.37499999999999994,0.225,0.3038392857142857,0.4149552410365742,0.3793751205182871,0.22880708312646633,0.3052218774728431],[0.40620500000000004,0.37499999999999994,0.1125,0.45575892857142863,0.4149552410365742,0.3793751205182871,0.11440354156323317,0.45783281620926464],[0.40620500000000004,0.37499999999999994,0.0,0.6076785714285714,0.4149552410365742,0.3793751205182871,0.0,0.6104437549456861]],[[0.6093075,0.18749999999999997,0.45,0.0,0.6224328615548611,0.18968756025914355,0.45761416625293266,0.0],[0.6093075,0.18749999999999997,0.3375,0.15191964285714285,0.6224328615548611,0.18968756025914355,0.34321062468969954,0.15261093873642154],[0.6093075,0.18749999999999997,0.225,0.3038392857142857,0.6224328615548611,0.18968756025914355,0.22880708312646633,0.3052218774728431],[0.6093075,0.18749999999999997,0.1125,0.45575892857142863,0.6224328615548611,0.18968756025914355,0.11440354156323317,0.45783281620926464],[0.6093075,0.18749999999999997,0.0,0.6076785714285714,0.6224328615548611,0.18968756025914355,0.0,0.6104437549456861]],[[0.8124100000000001,0.0,0.45,0.0,0.8299104820731484,0.0,0.45761416625293266,0.0],[0.8124100000000001,0.0,0.3375,0.15191964285714285,0.8299104820731484,0.0,0.34321062468969954,0.15261093873642154],[0.8124100000000001,0.0,0.225,0.3038392857142857,0.8299104820731484,0.0,0.22880708312646633,0.3052218774728431],[0.8124100000000001,0.0,0.1125,0.45575892857142863,0.8299104820731484,0.0,0.11440354156323317,0.45783281620926464],[0.8124100000000001,0.0,0.0,0.6076785714285714,0.8299104820731484,0.0,0.0,0.6104437549456861]]],[[[0.0,1.1249999999999998,0.225,0.0,0.0,1.1381253615548612,0.22880708312646633,0.0],[0.0,1.1249999999999998,0.16875,0.07595982142857143,0.0,1.1381253615548612,0.17160531234484977,0.07630546936821077],[0.0,1.1249999999999998,0.1125,0.15191964285714285,0.0,1.1381253615548612,0.11440354156323317,0.15261093873642154],[0.0,1.1249999999999998,0.05625,0.22787946428571432,0.0,1.1381253615548612,0.05720177078161658,0.22891640810463232],[0.0,1.1249999999999998,0.0,0.3038392857142857,0.0,1.1381253615548612,0.0,0.3052218774728431]],[[0.30465375,0.84375,0.225,0.0,0.31121643077743055,0.8535940211661458,0.22880708312646633,0.0],[0.30465375,0.84375,0.16875,0.07595982142857143,0.31121643077743055,0.8535940211661458,0.17160531234484977,0.07630546936821077],[0.30465375,0.84375,0.1125,0.15191964285714285,0.31121643077743055,0.8535940211661458,0.11440354156323317,0.15261093873642154],[0.30465375,0.84375,0.05625,0.22787946428571432,0.31121643077743055,0.8535940211661458,0.05720177078161658,0.22891640810463232],[0.30465375,0.84375,0.0,0.3038392857142857,0.31121643077743055,0.8535940211661458,0.0,0.3052218774728431]],[[0.6093075,0.5624999999999999,0.225,0.0,0.6224328615548611,0.5690626807774306,0.22880708312646633,0.0],[0.6093075,0.5624999999999999,0.16875,0.07595982142857143,0.6224328615548611,0.5690626807774306,0.17160531234484977,0.07630546936821077],[0.6093075,0.5624999999999999,0.1125,0.15191964285714285,0.6224328615548611,0.5690626807774306,0.11440354156323317,0.15261093873642154],[0.6093075,0.5624999999999999,0.05625,0.22787946428571432,0.6224328615548611,0.5690626807774306,0.05720177078161658,0.22891640810463232],[0.6093075,0.5624999999999999,0.0,0.3038392857142857,0.6224328615548611,0.5690626807774306,0.0,0.3052218774728431]],[[0.9139612500000001,0.28124999999999994,0.225,0.0,0.9336492923322917,0.2845313403887153,0.22880708312646633,0.0],[0.9139612500000001,0.28124999999999994,0.16875,0.07595982142857143,0.9336492923322917,0.2845313403887153,0.17160531234484977,0.07630546936821077],[0.9139612500000001,0.28124999999999994,0.1125,0.15191964285714285,0.9336492923322917,0.2845313403887153,0.11440354156323317,0.15261093873642154],[0.9139612500000001,0.28124999999999994,0.05625,0.22787946428571432,0.9336492923322917,0.2845313403887153,0.05720177078161658,0.22891640810463232],[0.9139612500000001,0.28124999999999994,0.0,0.3038392857142857,0.9336492923322917,0.2845313403887153,0.0,0.3052218774728431]],[[1.218615,0.0,0.225,0.0,1.2448657231097222,0.0,0.22880708312646633,0.0],[1.218615,0.0,0.16875,0.07595982142857143,1.2448657231097222,0.0,0.17160531234484977,0.07630546936821077],[1.218615,0.0,0.1125,0.15191964285714285,1.2448657231097222,0.0,0.11440354156323317,0.15261093873642154],[1.218615,0.0,0.05625,0.22787946428571432,1.2448657231097222,0.0,0.05720177078161658,0.22891640810463232],[1.218615,0.0,0.0,0.3038392857142857,1.2448657231097222,0.0,0.0,0.3052218774728431]]],[[[0.0,1.4999999999999998,0.0,0.0,0.0,1.5175004820731484,0.0,0.0],[0.0,1.4999999999999998,0.0,0.0,0.0,1.5175004820731484,0.0,0.0],[0.0,1.4999999999999998,0.0,0.0,0.0,1.5175004820731484,0.0,0.0],[0.0,1.4999999999999998,0.0,0.0,0.0,1.5175004820731484,0.0,0.0],[0.0,1.4999999999999998,0.0,0.0,0.0,1.5175004820731484,0.0,0.0]],[[0.40620500000000004,1.1249999999999998,0.0,0.0,0.4149552410365742,1.1381253615548612,0.0,0.0],[0.40620500000000004,1.1249999999999998,0.0,0.0,0.4149552410365742,1.1381253615548612,0.0,0.0],[0.40620500000000004,1.1249999999999998,0.0,0.0,0.4149552410365742,1.1381253615548612,0.0,0.0],[0.40620500000000004,1.1249999999999998,0.0,0.0,0.4149552410365742,1.1381253615548612,0.0,0.0],[0.40620500000000004,1.1249999999999998,0.0,0.0,0.4149552410365742,1.1381253615548612,0.0,0.0]],[[0.8124100000000001,0.7499999999999999,0.0,0.0,0.8299104820731484,0.7587502410365742,0.0,0.0],[0.8124100000000001,0.7499999999999999,0.0,0.0,0.8299104820731484,0.7587502410365742,0.0,0.0],[0.8124100000000001,0.7499999999999999,0.0,0.0,0.8299104820731484,0.7587502410365742,0.0,0.0],[0.8124100000000001,0.7499999999999999,0.0,0.0,0.8299104820731484,0.7587502410365742,0.0,0.0],[0.8124100000000001,0.7499999999999999,0.0,0.0,0.8299104820731484,0.7587502410365742,0.0,0.0]],[[1.218615,0.37499999999999994,0.0,0.0,1.2448657231097222,0.3793751205182871,0.0,0.0],[1.218615,0.37499999999999994,0.0,0.0,1.2448657231097222,0.3793751205182871,0.0,0.0],[1.218615,0.37499999999999994,0.0,0.0,1.2448657231097222,0.3793751205182871,0.0,0.0],[1.218615,0.37499999999999994,0.0,0.0,1.2448657231097222,0.3793751205182871,0.0,0.0],[1.218615,0.37499999999999994,0.0,0.0,1.2448657231097222,0.3793751205182871,0.0,0.0]],[[1.6248200000000002,0.0,0.0,0.0,1.6598209641462969,0.0,0.0,0.0],[1.6248200000000002,0.0,0.0,0.0,1.6598209641462969,0.0,0.0,0.0],[1.6248200000000002,0.0,0.0,0.0,1.6598209641462969,0.0,0.0,0.0],[1.6248200000000002,0.0,0.0,0.0,1.6598209641462969,0.0,0.0,0.0],[1.6248200000000002,0.0,0.0,0.0,1.6598209641462969,0.0,0.0,0.0]]]],[[[[0.0,0.0,0.45,0.0,0.0,0.0,1.372842498758798,0.0],[0.0,0.0,0.3375,0.15191964285714285,0.0,0.0,1.0296318740690986,0.45783281620926464],[0.0,0.0,0.225,0.3038392857142857,0.0,0.0,0.686421249379399,0.9156656324185293],[0.0,0.0,0.1125,0.45575892857142863,0.0,0.0,0.3432106246896995,1.373498448627794],[0.0,0.0,0.0,0.6076785714285714,0.0,0.0,0.0,1.8313312648370585]],[[0.0,0.0,0.45,0.0,0.0,0.0,1.372842498758798,0.0],[0.0,0.0,0.3375,0.15191964285714285,0.0,0.0,1.0296318740690986,0.45783281620926464],[0.0,0.0,0.225,0.3038392857142857,0.0,0.0,0.686421249379399,0.9156656324185293],[0.0,0.0,0.1125,0.45575892857142863,0.0,0.0,0.3432106246896995,1.373498448627794],[0.0,0.0,0.0,0.6076785714285714,0.0,0.0,0.0,1.8313312648370585]],[[0.0,0.0,0.45,0.0,0.0,0.0,1.372842498758798,0.0],[0.0,0.0,0.3375,0.15191964285714285,0.0,0.0,1.0296318740690986,0.45783281620926464],[0.0,0.0,0.225,0.3038392857142857,0.0,0.0,0.686421249379399,0.9156656324185293],[0.0,0.0,0.1125,0.45575892857142863,0.0,0.0,0.3432106246896995,1.373498448627794],[0.0,0.0,0.0,0.6076785714285714,0.0,0.0,0.0,1.8313312648370585]],[[0.0,0.0,0.45,0.0,0.0,0.0,1.372842498758798,0.0],[0.0,0.0,0.3375,0.15191964285714285,0.0,0.0,1.0296318740690986,0.45783281620926464],[0.0,0.0,0.225,0.3038392857142857,0.0,0.0,0.686421249379399,0.9156656324185293],[0.0,0.0,0.1125,0.45575892857142863,0.0,0.0,0.3432106246896995,1.373498448627794],[0.0,0.0,0.0,0.6076785714285714,0.0,0.0,0.0,1.8313312648370585]],[[0.0,0.0,0.45,0.0,0.0,0.0,1.372842498758798,0.0],[0.0,0.0,0.3375,0.15191964285714285,0.0,0.0,1.0296318740690986,0.45783281620926464],[0.0,0.0,0.225,0.3038392857142857,0.0,0.0,0.686421249379399,0.9156656324185293],[0.0,0.0,0.1125,0.45575892857142863,0.0,0.0,0.3432106246896995,1.373498448627794],[0.0,0.0,0.0,0.6076785714285714,0.0,0.0,0.0,1.8313312648370585]]],[[[0.0,0.18749999999999997,0.3375,0.0,0.0,0.5690626807774306,1.0296318740690986,0.0],[0.0,0.18749999999999997,0.253125,0.11393973214285716,0.0,0.5690626807774306,0.7722239055518239,0.3433746121569485],[0.0,0.18749999999999997,0.16875,0.22787946428571432,0.0,0.5690626807774306,0.5148159370345493,0.686749224313897],[0.0,0.18749999999999997,0.084375,0.34181919642857145,0.0,0.5690626807774306,0.25740796851727465,1.0301238364708454],[0.0,0.18749999999999997,0.0,0.45575892857142863,0.0,0.5690626807774306,0.0,1.373498448627794]],[[0.050775625000000005,0.14062499999999997,0.3375,0.0,0.15560821538871533,0.42679701058307296,1.0296318740690986,0.0],[0.050775625000000005,0.14062499999999997,0.253125,0.11393973214285716,0.15560821538871533,0.42679701058307296,0.7722239055518239,0.3433746121569485],[0.050775625000000005,0.14062499999999997,0.16875,0.22787946428571432,0.15560821538871533,0.42679701058307296,0.5148159370345493,0.686749224313897],[0.050775625000000005,0.14062499999999997,0.084375,0.34181919642857145,0.15560821538871533,0.42679701058307296,0.25740796851727465,1.0301238364708454],[0.050775625000000005,0.14062499999999997,0.0,0.45575892857142863,0.15560821538871533,0.42679701058307296,0.0,1.373498448627794]],[[0.10155125000000001,0.09374999999999999,0.3375,0.0,0.31121643077743066,0.2845313403887153,1.0296318740690986,0.0],[0.10155125000000001,0.09374999999999999,0.253125,0.11393973214285716,0.31121643077743066,0.2845313403887153,0.7722239055518239,0.3433746121569485],[0.10155125000000001,0.09374999999999999,0.16875,0.22787946428571432,0.31121643077743066,0.2845313403887153,0.5148159370345493,0.686749224313897],[0.10155125000000001,0.09374999999999999,0.084375,0.34181919642857145,0.31121643077743066,0.2845313403887153,0.25740796851727465,1.0301238364708454],[0.10155125000000001,0.09374999999999999,0.0,0.45575892857142863,0.31121643077743066,0.2845313403887153,0.0,1.373498448627794]],[[0.152326875,0.04687499999999999,0.3375,0.0,0.46682464616614583,0.14226567019435765,1.0296318740690986,0.0],[0.152326875,0.04687499999999999,0.253125,0.11393973214285716,0.46682464616614583,0.14226567019435765,0.7722239055518239,0.3433746121569485],[0.152326875,0.04687499999999999,0.16875,0.22787946428571432,0.46682464616614583,0.14226567019435765,0.5148159370345493,0.686749224313897],[0.152326875,0.04687499999999999,0.084375,0.34181919642857145,0.46682464616614583,0.14226567019435765,0.25740796851727465,1.0301238364708454],[0.152326875,0.04687499999999999,0.0,0.45575892857142863,0.46682464616614583,0.14226567019435765,0.0,1.373498448627794]],[[0.20310250000000002,0.0,0.3375,0.0,0.6224328615548613,0.0,1.0296318740690986,0.0],[0.20310250000000002,0.0,0.253125,0.11393973214285716,0.6224328615548613,0.0,0.7722239055518239,0.3433746121569485],[0.20310250000000002,0.0,0.16875,0.22787946428571432,0.6224328615548613,0.0,0.5148159370345493,0.686749224313897],[0.20310250000000002,0.0,0.084375,0.34181919642857145,0.6224328615548613,0.0,0.25740796851727465,1.0301238364708454],[0.20310250000000002,0.0,0.0,0.45575892857142863,0.6224328615548613,0.0,0.0,1.373498448627794]]],[[[0.0,0.37499999999999994,0.225,0.0,0.0,1.1381253615548612,0.686421249379399,0.0],[0.0,0.37499999999999994,0.16875,0.07595982142857143,0.0,1.1381253615548612,0.5148159370345493,0.22891640810463232],[0.0,0.37499999999999994,0.1125,0.15191964285714285,0.0,1.1381253615548612,0.3432106246896995,0.45783281620926464],[0.0,0.37499999999999994,0.05625,0.22787946428571432,0.0,1.1381253615548612,0.17160531234484974,0.686749224313897],[0.0,0.37499999999999994,0.0,0.3038392857142857,0.0,1.1381253615548612,0.0,0.9156656324185293]],[[0.10155125000000001,0.28124999999999994,0.225,0.0,0.31121643077743066,0.8535940211661459,0.686421249379399,0.0],[0.10155125000000001,0.28124999999999994,0.16875,0.07595982142857143,0.31121643077743066,0.8535940211661459,0.5148159370345493,0.22891640810463232],[0.10155125000000001,0.28124999999999994,0.1125,0.15191964285714285,0.31121643077743066,0.8535940211661459,0.3432106246896995,0.45783281620926464],[0.10155125000000001,0.28124999999999994,0.05625,0.22787946428571432,0.31121643077743066,0.8535940211661459,0.17160531234484974,0.686749224313897],[0.10155125000000001,0.28124999999999994,0.0,0.3038392857142857,0.31121643077743066,0.8535940211661459,0.0,0.9156656324185293]],[[0.20310250000000002,0.18749999999999997,0.225,0.0,0.6224328615548613,0.5690626807774306,0.686421249379399,0.0],[0.20310250000000002,0.18749999999999997,0.16875,0.07595982142857143,0.6224328615548613,0.5690626807774306,0.5148159370345493,0.22891640810463232],[0.20310250000000002,0.18749999999999997,0.1125,0.15191964285714285,0.6224328615548613,0.5690626807774306,0.3432106246896995,0.45783281620926464],[0.20310250000000002,0.18749999999999997,0.05625,0.22787946428571432,0.6224328615548613,0.5690626807774306,0.17160531234484974,0.686749224313897],[0.20310250000000002,0.18749999999999997,0.0,0.3038392857142857,0.6224328615548613,0.5690626807774306,0.0,0.9156656324185293]],[[0.30465375,0.09374999999999999,0.225,0.0,0.9336492923322917,0.2845313403887153,0.686421249379399,0.0],[0.30465375,0.09374999999999999,0.16875,0.07595982142857143,0.9336492923322917,0.2845313403887153,0.5148159370345493,0.22891640810463232],[0.30465375,0.09374999999999999,0.1125,0.15191964285714285,0.9336492923322917,0.2845313403887153,0.3432106246896995,0.45783281620926464],[0.30465375,0.09374999999999999,0.05625,0.22787946428571432,0.9336492923322917,0.2845313403887153,0.17160531234484974,0.686749224313897],[0.30465375,0.09374999999999999,0.0,0.3038392857142857,0.9336492923322917,0.2845313403887153,0.0,0.9156656324185293]],[[0.40620500000000004,0.0,0.225,0.0,1.2448657231097227,0.0,0.686421249379399,0.0],[0.40620500000000004,0.0,0.16875,0.07595982142857143,1.2448657231097227,0.0,0.5148159370345493,0.22891640810463232],[0.40620500000000004,0.0,0.1125,0.15191964285714285,1.2448657231097227,0.0,0.3432106246896995,0.45783281620926464],[0.40620500000000004,0.0,0.05625,0.22787946428571432,1.2448657231097227,0.0,0.17160531234484974,0.686749224313897],[0.40620500000000004,0.0,0.0,0.3038392857142857,1.2448657231097227,0.0,0.0,0.9156656324185293]]],[[[0.0,0.5624999999999999,0.1125,0.0,0.0,1.7071880423322918,0.3432106246896995,0.0],[0.0,0.5624999999999999,0.084375,0.03797991071428571,0.0,1.7071880423322918,0.25740796851727465,0.11445820405231616],[0.0,0.5624999999999999,0.05625,0.07595982142857143,0.0,1.7071880423322918,0.17160531234484974,0.22891640810463232],[0.0,0.5624999999999999,0.028125,0.11393973214285716,0.0,1.7071880423322918,0.08580265617242487,0.3433746121569485],[0.0,0.5624999999999999,0.0,0.15191964285714285,0.0,1.7071880423322918,0.0,0.45783281620926464]],[[0.152326875,0.421875,0.1125,0.0,0.46682464616614583,1.2803910317492186,0.3432106246896995,0.0],[0.152326875,0.421875,0.084375,0.03797991071428571,0.46682464616614583,1.2803910317492186,0.25740796851727465,0.11445820405231616],[0.152326875,0.421875,0.05625,0.07595982142857143,0.46682464616614583,1.2803910317492186,0.17160531234484974,0.22891640810463232],[0.152326875,0.421875,0.028125,0.11393973214285716,0.46682464616614583,1.2803910317492186,0.08580265617242487,0.3433746121569485],[0.152326875,0.421875,0.0,0.15191964285714285,0.46682464616614583,1.2803910317492186,0.0,0.45783281620926464]],[[0.30465375,0.28124999999999994,0.1125,0.0,0.9336492923322917,0.8535940211661459,0.3432106246896995,0.0],[0.30465375,0.28124999999999994,0.084375,0.03797991071428571,0.9336492923322917,0.8535940211661459,0.25740796851727465,0.11445820405231616],[0.30465375,0.28124999999999994,0.05625,0.07595982142857143,0.9336492923322917,0.8535940211661459,0.17160531234484974,0.22891640810463232],[0.30465375,0.28124999999999994,0.028125,0.11393973214285716,0.9336492923322917,0.8535940211661459,0.08580265617242487,0.3433746121569485],[0.30465375,0.28124999999999994,0.0,0.15191964285714285,0.9336492923322917,0.8535940211661459,0.0,0.45783281620926464]],[[0.45698062500000003,0.14062499999999997,0.1125,0.0,1.4004739384984375,0.42679701058307296,0.3432106246896995,0.0],[0.45698062500000003,0.14062499999999997,0.084375,0.03797991071428571,1.4004739384984375,0.42679701058307296,0.25740796851727465,0.11445820405231616],[0.45698062500000003,0.14062499999999997,0.05625,0.07595982142857143,1.4004739384984375,0.42679701058307296,0.17160531234484974,0.22891640810463232],[0.45698062500000003,0.14062499999999997,0.028125,0.11393973214285716,1.4004739384984375,0.42679701058307296,0.08580265617242487,0.3433746121569485],[0.45698062500000003,0.14062499999999997,0.0,0.15191964285714285,1.4004739384984375,0.42679701058307296,0.0,0.45783281620926464]],[[0.6093075,0.0,0.1125,0.0,1.8672985846645833,0.0,0.3432106246896995,0.0],[0.6093075,0.0,0.084375,0.03797991071428571,1.8672985846645833,0.0,0.25740796851727465,0.11445820405231616],[0.6093075,0.0,0.05625,0.07595982142857143,1.8672985846645833,0.0,0.17160531234484974,0.22891640810463232],[0.6093075,0.0,0.028125,0.11393973214285716,1.8672985846645833,0.0,0.08580265617242487,0.3433746121569485],[0.6093075,0.0,0.0,0.15191964285714285,1.8672985846645833,0.0,0.0,0.45783281620926464]]],[[[0.0,0.7499999999999999,0.0,0.0,0.0,2.2762507231097224,0.0,0.0],[0.0,0.7499999999999999,0.0,0.0,0.0,2.2762507231097224,0.0,0.0],[0.0,0.7499999999999999,0.0,0.0,0.0,2.2762507231097224,0.0,0.0],[0.0,0.7499999999999999,0.0,0.0,0.0,2.2762507231097224,0.0,0.0],[0.0,0.7499999999999999,0.0,0.0,0.0,2.2762507231097224,0.0,0.0]],[[0.20310250000000002,0.5624999999999999,0.0,0.0,0.6224328615548613,1.7071880423322918,0.0,0.0],[0.20310250000000002,0.5624999999999999,0.0,0.0,0.6224328615548613,1.7071880423322918,0.0,0.0],[0.20310250000000002,0.5624999999999999,0.0,0.0,0.6224328615548613,1.7071880423322918,0.0,0.0],[0.20310250000000002,0.5624999999999999,0.0,0.0,0.6224328615548613,1.7071880423322918,0.0,0.0],[0.20310250000000002,0.5624999999999999,0.0,0.0,0.6224328615548613,1.7071880423322918,0.0,0.0]],[[0.40620500000000004,0.37499999999999994,0.0,0.0,1.2448657231097227,1.1381253615548612,0.0,0.0],[0.40620500000000004,0.37499999999999994,0.0,0.0,1.2448657231097227,1.1381253615548612,0.0,0.0],[0.40620500000000004,0.37499999999999994,0.0,0.0,1.2448657231097227,1.1381253615548612,0.0,0.0],[0.40620500000000004,0.37499999999999994,0.0,0.0,1.2448657231097227,1.1381253615548612,0.0,0.0],[0.40620500000000004,0.37499999999999994,0.0,0.0,1.2448657231097227,1.1381253615548612,0.0,0.0]],[[0.6093075,0.18749999999999997,0.0,0.0,1.8672985846645833,0.5690626807774306,0.0,0.0],[0.6093075,0.18749999999999997,0.0,0.0,1.8672985846645833,0.5690626807774306,0.0,0.0],[0.6093075,0.18749999999999997,0.0,0.0,1.8672985846645833,0.5690626807774306,0.0,0.0],[0.6093075,0.18749999999999997,0.0,0.0,1.8672985846645833,0.5690626807774306,0.0,0.0],[0.6093075,0.18749999999999997,0.0,0.0,1.8672985846645833,0.5690626807774306,0.0,0.0]],[[0.8124100000000001,0.0,0.0,0.0,2.4897314462194453,0.0,0.0,0.0],[0.8124100000000001,0.0,0.0,0.0,2.4897314462194453,0.0,0.0,0.0],[0.8124100000000001,0.0,0.0,0.0,2.4897314462194453,0.0,0.0,0.0],[0.8124100000000001,0.0,0.0,0.0,2.4897314462194453,0.0,0.0,0.0],[0.8124100000000001,0.0,0.0,0.0,2.4897314462194453,0.0,0.0,0.0]]]],[[[[0.0,0.0,0.0,0.0,0.0,0.0,1.8304566650117307,0.0],[0.0,0.0,0.0,0.0,0.0,0.0,1.3728424987587982,0.6104437549456861],[0.0,0.0,0.0,0.0,0.0,0.0,0.9152283325058653,1.2208875098913723],[0.0,0.0,0.0,0.0,0.0,0.0,0.45761416625293266,1.8313312648370585],[0.0,0.0,0.0,0.0,0.0,0.0,0.0,2.4417750197827446]],[[0.0,0.0,0.0,0.0,0.0,0.0,1.8304566650117307,0.0],[0.0,0.0,0.0,0.0,0.0,0.0,1.3728424987587982,0.6104437549456861],[0.0,0.0,0.0,0.0,0.0,0.0,0.9152283325058653,1.2208875098913723],[0.0,0.0,0.0,0.0,0.0,0.0,0.45761416625293266,1.8313312648370585],[0.0,0.0,0.0,0.0,0.0,0.0,0.0,2.4417750197827446]],[[0.0,0.0,0.0,0.0,0.0,0.0,1.8304566650117307,0.0],[0.0,0.0,0.0,0.0,0.0,0.0,1.3728424987587982,0.6104437549456861],[0.0,0.0,0.0,0.0,0.0,0.0,0.9152283325058653,1.2208875098913723],[0.0,0.0,0.0,0.0,0.0,0.0,0.45761416625293266,1.8313312648370585],[0.0,0.0,0.0,0.0,0.0,0.0,0.0,2.4417750197827446]],[[0.0,0.0,0.0,0.0,0.0,0.0,1.8304566650117307,0.0],[0.0,0.0,0.0,0.0,0.0,0.0,1.3728424987587982,0.6104437549456861],[0.0,0.0,0.0,0.0,0.0,0.0,0.9152283325058653,1.2208875098913723],[0.0,0.0,0.0,0.0,0.0,0.0,0.45761416625293266,1.8313312648370585],[0.0,0.0,0.0,0.0,0.0,0.0,0.0,2.4417750197827446]],[[0.0,0.0,0.0,0.0,0.0,0.0,1.8304566650117307,0.0],[0.0,0.0,0.0,0.0,0.0,0.0,1.3728424987587982,0.6104437549456861],[0.0,0.0,0.0,0.0,0.0,0.0,0.9152283325058653,1.2208875098913723],[0.0,0.0,0.0,0.0,0.0,0.0,0.45761416625293266,1.8313312648370585],[0.0,0.0,0.0,0.0,0.0,0.0,0.0,2.4417750197827446]]],[[[0.0,0.0,0.0,0.0,0.0,0.7587502410365742,1.3728424987587982,0.0],[0.0,0.0,0.0,0.0,0.0,0.7587502410365742,1.0296318740690984,0.45783281620926464],[0.0,0.0,0.0,0.0,0.0,0.7587502410365742,0.6864212493793991,0.9156656324185293],[0.0,0.0,0.0,0.0,0.0,0.7587502410365742,0.34321062468969954,1.373498448627794],[0.0,0.0,0.0,0.0,0.0,0.7587502410365742,0.0,1.8313312648370585]],[[0.0,0.0,0.0,0.0,0.2074776205182871,0.5690626807774306,1.3728424987587982,0.0],[0.0,0.0,0.0,0.0,0.2074776205182871,0.5690626807774306,1.0296318740690984,0.45783281620926464],[0.0,0.0,0.0,0.0,0.2074776205182871,0.5690626807774306,0.6864212493793991,0.9156656324185293],[0.0,0.0,0.0,0.0,0.2074776205182871,0.5690626807774306,0.34321062468969954,1.373498448627794],[0.0,0.0,0.0,0.0,0.2074776205182871,0.5690626807774306,0.0,1.8313312648370585]],[[0.0,0.0,0.0,0.0,0.4149552410365742,0.3793751205182871,1.3728424987587982,0.0],[0.0,0.0,0.0,0.0,0.4149552410365742,0.3793751205182871,1.0296318740690984,0.45783281620926464],[0.0,0.0,0.0,0.0,0.4149552410365742,0.3793751205182871,0.6864212493793991,0.9156656324185293],[0.0,0.0,0.0,0.0,0.4149552410365742,0.3793751205182871,0.34321062468969954,1.373498448627794],[0.0,0.0,0.0,0.0,0.4149552410365742,0.3793751205182871,0.0,1.8313312648370585]],[[0.0,0.0,0.0,0.0,0.6224328615548611,0.18968756025914355,1.3728424987587982,0.0],[0.0,0.0,0.0,0.0,0.6224328615548611,0.18968756025914355,1.0296318740690984,0.45783281620926464],[0.0,0.0,0.0,0.0,0.6224328615548611,0.18968756025914355,0.6864212493793991,0.9156656324185293],[0.0,0.0,0.0,0.0,0.6224328615548611,0.18968756025914355,0.34321062468969954,1.373498448627794],[0.0,0.0,0.0,0.0,0.6224328615548611,0.18968756025914355,0.0,1.8313312648370585]],[[0.0,0.0,0.0,0.0,0.8299104820731484,0.0,1.3728424987587982,0.0],[0.0,0.0,0.0,0.0,0.8299104820731484,0.0,1.0296318740690984,0.45783281620926464],[0.0,0.0,0.0,0.0,0.8299104820731484,0.0,0.6864212493793991,0.9156656324185293],[0.0,0.0,0.0,0.0,0.8299104820731484,0.0,0.34321062468969954,1.373498448627794],[0.0,0.0,0.0,0.0,0.8299104820731484,0.0,0.0,1.8313312648370585]]],[[[0.0,0.0,0.0,0.0,0.0,1.5175004820731484,0.9152283325058653,0.0],[0.0,0.0,0.0,0.0,0.0,1.5175004820731484,0.6864212493793991,0.3052218774728431],[0.0,0.0,0.0,0.0,0.0,1.5175004820731484,0.45761416625293266,0.6104437549456861],[0.0,0.0,0.0,0.0,0.0,1.5175004820731484,0.22880708312646633,0.9156656324185293],[0.0,0.0,0.0,0.0,0.0,1.5175004820731484,0.0,1.2208875098913723]],[[0.0,0.0,0.0,0.0,0.4149552410365742,1.1381253615548612,0.9152283325058653,0.0],[0.0,0.0,0.0,0.0,0.4149552410365742,1.1381253615548612,0.6864212493793991,0.3052218774728431],[0.0,0.0,0.0,0.0,0.4149552410365742,1.1381253615548612,0.45761416625293266,0.6104437549456861],[0.0,0.0,0.0,0.0,0.4149552410365742,1.1381253615548612,0.22880708312646633,0.9156656324185293],[0.0,0.0,0.0,0.0,0.4149552410365742,1.1381253615548612,0.0,1.2208875098913723]],[[0.0,0.0,0.0,0.0,0.8299104820731484,0.7587502410365742,0.9152283325058653,0.0],[0.0,0.0,0.0,0.0,0.8299104820731484,0.7587502410365742,0.6864212493793991,0.3052218774728431],[0.0,0.0,0.0,0.0,0.8299104820731484,0.7587502410365742,0.45761416625293266,0.6104437549456861],[0.0,0.0,0.0,0.0,0.8299104820731484,0.7587502410365742,0.22880708312646633,0.9156656324185293],[0.0,0.0,0.0,0.0,0.8299104820731484,0.7587502410365742,0.0,1.2208875098913723]],[[0.0,0.0,0.0,0.0,1.2448657231097222,0.3793751205182871,0.9152283325058653,0.0],[0.0,0.0,0.0,0.0,1.2448657231097222,0.3793751205182871,0.6864212493793991,0.3052218774728431],[0.0,0.0,0.0,0.0,1.2448657231097222,0.3793751205182871,0.45761416625293266,0.6104437549456861],[0.0,0.0,0.0,0.0,1.2448657231097222,0.3793751205182871,0.22880708312646633,0.9156656324185293],[0.0,0.0,0.0,0.0,1.2448657231097222,0.3793751205182871,0.0,1.2208875098913723]],[[0.0,0.0,0.0,0.0,1.6598209641462969,0.0,0.9152283325058653,0.0],[0.0,0.0,0.0,0.0,1.6598209641462969,0.0,0.6864212493793991,0.3052218774728431],[0.0,0.0,0.0,0.0,1.6598209641462969,0.0,0.45761416625293266,0.6104437549456861],[0.0,0.0,0.0,0.0,1.6598209641462969,0.0,0.22880708312646633,0.9156656324185293],[0.0,0.0,0.0,0.0,1.6598209641462969,0.0,0.0,1.2208875098913723]]],[[[0.0,0.0,0.0,0.0,0.0,2.2762507231097224,0.45761416625293266,0.0],[0.0,0.0,0.0,0.0,0.0,2.2762507231097224,0.34321062468969954,0.15261093873642154],[0.0,0.0,0.0,0.0,0.0,2.2762507231097224,0.22880708312646633,0.3052218774728431],[0.0,0.0,0.0,0.0,0.0,2.2762507231097224,0.11440354156323317,0.45783281620926464],[0.0,0.0,0.0,0.0,0.0,2.2762507231097224,0.0,0.6104437549456861]],[[0.0,0.0,0.0,0.0,0.6224328615548611,1.7071880423322916,0.45761416625293266,0.0],[0.0,0.0,0.0,0.0,0.6224328615548611,1.7071880423322916,0.34321062468969954,0.15261093873642154],[0.0,0.0,0.0,0.0,0.6224328615548611,1.7071880423322916,0.22880708312646633,0.3052218774728431],[0.0,0.0,0.0,0.0,0.6224328615548611,1.7071880423322916,0.11440354156323317,0.45783281620926464],[0.0,0.0,0.0,0.0,0.6224328615548611,1.7071880423322916,0.0,0.6104437549456861]],[[0.0,0.0,0.0,0.0,1.2448657231097222,1.1381253615548612,0.45761416625293266,0.0],[0.0,0.0,0.0,0.0,1.2448657231097222,1.1381253615548612,0.34321062468969954,0.15261093873642154],[0.0,0.0,0.0,0.0,1.2448657231097222,1.1381253615548612,0.22880708312646633,0.3052218774728431],[0.0,0.0,0.0,0.0,1.2448657231097222,1.1381253615548612,0.11440354156323317,0.45783281620926464],[0.0,0.0,0.0,0.0,1.2448657231097222,1.1381253615548612,0.0,0.6104437549456861]],[[0.0,0.0,0.0,0.0,1.8672985846645833,0.5690626807774306,0.45761416625293266,0.0],[0.0,0.0,0.0,0.0,1.8672985846645833,0.5690626807774306,0.34321062468969954,0.15261093873642154],[0.0,0.0,0.0,0.0,1.8672985846645833,0.5690626807774306,0.22880708312646633,0.3052218774728431],[0.0,0.0,0.0,0.0,1.8672985846645833,0.5690626807774306,0.11440354156323317,0.45783281620926464],[0.0,0.0,0.0,0.0,1.8672985846645833,0.5690626807774306,0.0,0.6104437549456861]],[[0.0,0.0,0.0,0.0,2.4897314462194444,0.0,0.45761416625293266,0.0],[0.0,0.0,0.0,0.0,2.4897314462194444,0.0,0.34321062468969954,0.15261093873642154],[0.0,0.0,0.0,0.0,2.4897314462194444,0.0,0.22880708312646633,0.3052218774728431],[0.0,0.0,0.0,0.0,2.4897314462194444,0.0,0.11440354156323317,0.45783281620926464],[0.0,0.0,0.0,0.0,2.4897314462194444,0.0,0.0,0.6104437549456861]]],[[[0.0,0.0,0.0,0.0,0.0,3.0350009641462967,0.0,0.0],[0.0,0.0,0.0,0.0,0.0,3.0350009641462967,0.0,0.0],[0.0,0.0,0.0,0.0,0.0,3.0350009641462967,0.0,0.0],[0.0,0.0,0.0,0.0,0.0,3.0350009641462967,0.0,0.0],[0.0,0.0,0.0,0.0,0.0,3.0350009641462967,0.0,0.0]],[[0.0,0.0,0.0,0.0,0.8299104820731484,2.2762507231097224,0.0,0.0],[0.0,0.0,0.0,0.0,0.8299104820731484,2.2762507231097224,0.0,0.0],[0.0,0.0,0.0,0.0,0.8299104820731484,2.2762507231097224,0.0,0.0],[0.0,0.0,0.0,0.0,0.8299104820731484,2.2762507231097224,0.0,0.0],[0.0,0.0,0.0,0.0,0.8299104820731484,2.2762507231097224,0.0,0.0]],[[0.0,0.0,0.0,0.0,1.6598209641462969,1.5175004820731484,0.0,0.0],[0.0,0.0,0.0,0.0,1.6598209641462969,1.5175004820731484,0.0,0.0],[0.0,0.0,0.0,0.0,1.6598209641462969,1.5175004820731484,0.0,0.0],[0.0,0.0,0.0,0.0,1.6598209641462969,1.5175004820731484,0.0,0.0],[0.0,0.0,0.0,0.0,1.6598209641462969,1.5175004820731484,0.0,0.0]],[[0.0,0.0,0.0,0.0,2.4897314462194444,0.7587502410365742,0.0,0.0],[0.0,0.0,0.0,0.0,2.4897314462194444,0.7587502410365742,0.0,0.0],[0.0,0.0,0.0,0.0,2.4897314462194444,0.7587502410365742,0.0,0.0],[0.0,0.0,0.0,0.0,2.4897314462194444,0.7587502410365742,0.0,0.0],[0.0,0.0,0.0,0.0,2.4897314462194444,0.7587502410365742,0.0,0.0]],[[0.0,0.0,0.0,0.0,3.3196419282925937,0.0,0.0,0.0],[0.0,0.0,0.0,0.0,3.3196419282925937,0.0,0.0,0.0],[0.0,0.0,0.0,0.0,3.3196419282925937,0.0,0.0,0.0],[0.0,0.0,0.0,0.0,3.3196419282925937,0.0,0.0,0.0],[0.0,0.0,0.0,0.0,3.3196419282925937,0.0,0.0,0.0]]]]],[[[[[0.0,0.0,4.8,0.0,0.0,0.0,0.0,0.0],[0.0,0.0,3.6,0.7926048951048952,0.0,0.0,0.0,0.0],[0.0,0.0,2.4,1.5852097902097904,0.0,0.0,0.0,0.0],[0.0,0.0,1.2,2.3778146853146853,0.0,0.0,0.0,0.0],[0.0,0.0,0.0,3.1704195804195807,0.0,0.0,0.0,0.0]],[[0.0,0.0,4.8,0.0,0.0,0.0,0.0,0.0],[0.0,0.0,3.6,0.7926048951048952,0.0,0.0,0.0,0.0],[0.0,0.0,2.4,1.5852097902097904,0.0,0.0,0.0,0.0],[0.0,0.0,1.2,2.3778146853146853,0.0,0.0,0.0,0.0],[0.0,0.0,0.0,3.1704195804195807,0.0,0.0,0.0,0.0]],[[0.0,0.0,4.8,0.0,0.0,0.0,0.0,0.0],[0.0,0.0,3.6,0.7926048951048952,0.0,0.0,0.0,0.0],[0.0,0.0,2.4,1.5852097902097904,0.0,0.0,0.0,0.0],[0.0,0.0,1.2,2.3778146853146853,0.0,0.0,0.0,0.0],[0.0,0.0,0.0,3.1704195804195807,0.0,0.0,0.0,0.0]],[[0.0,0.0,4.8,0.0,0.0,0.0,0.0,0.0],[0.0,0.0,3.6,0.7926048951048952,0.0,0.0,0.0,0.0],[0.0,0.0,2.4,1.5852097902097904,0.0,0.0,0.0,0.0],[0.0,0.0,1.2,2.3778146853146853,0.0,0.0,0.0,0.0],[0.0,0.0,0.0,3.1704195804195807,0.0,0.0,0.0,0.0]],[[0.0,0.0,4.8,0.0,0.0,0.0,0.0,0.0],[0.0,0.0,3.6,0.7926048951048952,0.0,0.0,0.0,0.0],[0.0,0.0,2.4,1.5852097902097904,0.0,0.0,0.0,0.0],[0.0,0.0,1.2,2.3778146853146853,0.0,0.0,0.0,0.0],[0.0,0.0,0.0,3.1704195804195807,0.0,0.0,0.0,0.0]]],[[[0.0,0.7499999999999998,3.6,0.0,0.0,0.0,0.0,0.0],[0.0,0.7499999999999998,2.7,0.5944536713286713,0.0,0.0,0.0,0.0],[0.0,0.7499999999999998,1.8,1.1889073426573427,0.0,0.0,0.0,0.0],[0.0,0.7499999999999998,0.9,1.783361013986014,0.0,0.0,0.0,0.0],[0.0,0.7499999999999998,0.0,2.3778146853146853,0.0,0.0,0.0,0.0]],[[0.28698000000000007,0.5625,3.6,0.0,0.0,0.0,0.0,0.0],[0.28698000000000007,0.5625,2.7,0.5944536713286713,0.0,0.0,0.0,0.0],[0.28698000000000007,0.5625,1.8,1.1889073426573427,0.0,0.0,0.0,0.0],[0.28698000000000007,0.5625,0.9,1.783361013986014,0.0,0.0,0.0,0.0],[0.28698000000000007,0.5625,0.0,2.3778146853146853,0.0,0.0,0.0,0.0]],[[0.5739600000000001,0.3749999999999999,3.6,0.0,0.0,0.0,0.0,0.0],[0.5739600000000001,0.3749999999999999,2.7,0.5944536713286713,0.0,0.0,0.0,0.0],[0.5739600000000001,0.3749999999999999,1.8,1.1889073426573427,0.0,0.0,0.0,0.0],[0.5739600000000001,0.3749999999999999,0.9,1.783361013986014,0.0,0.0,0.0,0.0],[0.5739600000000001,0.3749999999999999,0.0,2.3778146853146853,0.0,0.0,0.0,0.0]],[[0.86094,0.18749999999999994,3.6,0.0,0.0,0.0,0.0,0.0],[0.86094,0.18749999999999994,2.7,0.5944536713286713,0.0,0.0,0.0,0.0],[0.86094,0.18749999999999994,1.8,1.1889073426573427,0.0,0.0,0.0,0.0],[0.86094,0.18749999999999994,0.9,1.783361013986014,0.0,0.0,0.0,0.0],[0.86094,0.18749999999999994,0.0,2.3778146853146853,0.0,0.0,0.0,0.0]],[[1.1479200000000003,0.0,3.6,0.0,0.0,0.0,0.0,0.0],[1.1479200000000003,0.0,2.7,0.5944536713286713,0.0,0.0,0.0,0.0],[1.1479200000000003,0.0,1.8,1.1889073426573427,0.0,0.0,0.0,0.0],[1.1479200000000003,0.0,0.9,1.783361013986014,0.0,0.0,0.0,0.0],[1.1479200000000003,0.0,0.0,2.3778146853146853,0.0,0.0,0.0,0.0]]],[[[0.0,1.4999999999999996,2.4,0.0,0.0,0.0,0.0,0.0],[0.0,1.4999999999999996,1.8,0.3963024475524476,0.0,0.0,0.0,0.0],[0.0,1.4999999999999996,1.2,0.7926048951048952,0.0,0.0,0.0,0.0],[0.0,1.4999999999999996,0.6,1.1889073426573427,0.0,0.0,0.0,0.0],[0.0,1.4999999999999996,0.0,1.5852097902097904,0.0,0.0,0.0,0.0]],[[0.5739600000000001,1.125,2.4,0.0,0.0,0.0,0.0,0.0],[0.5739600000000001,1.125,1.8,0.3963024475524476,0.0,0.0,0.0,0.0],[0.5739600000000001,1.125,1.2,0.7926048951048952,0.0,0.0,0.0,0.0],[0.5739600000000001,1.125,0.6,1.1889073426573427,0.0,0.0,0.0,0.0],[0.5739600000000001,1.125,0.0,1.5852097902097904,0.0,0.0,0.0,0.0]],[[1.1479200000000003,0.7499999999999998,2.4,0.0,0.0,0.0,0.0,0.0],[1.1479200000000003,0.7499999999999998,1.8,0.3963024475524476,0.0,0.0,0.0,0.0],[1.1479200000000003,0.7499999999999998,1.2,0.7926048951048952,0.0,0.0,0.0,0.0],[1.1479200000000003,0.7499999999999998,0.6,1.1889073426573427,0.0,0.0,0.0,0.0],[1.1479200000000003,0.7499999999999998,0.0,1.5852097902097904,0.0,0.0,0.0,0.0]],[[1.72188,0.3749999999999999,2.4,0.0,0.0,0.0,0.0,0.0],[1.72188,0.3749999999999999,1.8,0.3963024475524476,0.0,0.0,0.0,0.0],[1.72188,0.3749999999999999,1.2,0.7926048951048952,0.0,0.0,0.0,0.0],[1.72188,0.3749999999999999,0.6,1.1889073426573427,0.0,0.0,0.0,0.0],[1.72188,0.3749999999999999,0.0,1.5852097902097904,0.0,0.0,0.0,0.0]],[[2.2958400000000005,0.0,2.4,0.0,0.0,0.0,0.0,0.0],[2.2958400000000005,0.0,1.8,0.3963024475524476,0.0,0.0,0.0,0.0],[2.2958400000000005,0.0,1.2,0.7926048951048952,0.0,0.0,0.0,0.0],[2.2958400000000005,0.0,0.6,1.1889073426573427,0.0,0.0,0.0,0.0],[2.2958400000000005,0.0,0.0,1.5852097902097904,0.0,0.0,0.0,0.0]]],[[[0.0,2.25,1.2,0.0,0.0,0.0,0.0,0.0],[0.0,2.25,0.9,0.1981512237762238,0.0,0.0,0.0,0.0],[0.0,2.25,0.6,0.3963024475524476,0.0,0.0,0.0,0.0],[0.0,2.25,0.3,0.5944536713286713,0.0,0.0,0.0,0.0],[0.0,2.25,0.0,0.7926048951048952,0.0,0.0,0.0,0.0]],[[0.86094,1.6875,1.2,0.0,0.0,0.0,0.0,0.0],[0.86094,1.6875,0.9,0.1981512237762238,0.0,0.0,0.0,0.0],[0.86094,1.6875,0.6,0.3963024475524476,0.0,0.0,0.0,0.0],[0.86094,1.6875,0.3,0.5944536713286713,0.0,0.0,0.0,0.0],[0.86094,1.6875,0.0,0.7926048951048952,0.0,0.0,0.0,0.0]],[[1.72188,1.125,1.2,0.0,0.0,0.0,0.0,0.0],[1.72188,1.125,0.9,0.1981512237762238,0.0,0.0,0.0,0.0],[1.72188,1.125,0.6,0.3963024475524476,0.0,0.0,0.0,0.0],[1.72188,1.125,0.3,0.5944536713286713,0.0,0.0,0.0,0.0],[1.72188,1.125,0.0,0.7926048951048952,0.0,0.0,0.0,0.0]],[[2.5828200000000003,0.5625,1.2,0.0,0.0,0.0,0.0,0.0],[2.5828200000000003,0.5625,0.9,0.1981512237762238,0.0,0.0,0.0,0.0],[2.5828200000000003,0.5625,0.6,0.3963024475524476,0.0,0.0,0.0,0.0],[2.5828200000000003,0.5625,0.3,0.5944536713286713,0.0,0.0,0.0,0.0],[2.5828200000000003,0.5625,0.0,0.7926048951048952,0.0,0.0,0.0,0.0]],[[3.44376,0.0,1.2,0.0,0.0,0.0,0.0,0.0],[3.44376,0.0,0.9,0.1981512237762238,0.0,0.0,0.0,0.0],[3.44376,0.0,0.6,0.3963024475524476,0.0,0.0,0.0,0.0],[3.44376,0.0,0.3,0.5944536713286713,0.0,0.0,0.0,0.0],[3.44376,0.0,0.0,0.7926048951048952,0.0,0.0,0.0,0.0]]],[[[0.0,2.999999999999999,0.0,0.0,0.0,0.0,0.0,0.0],[0.0,2.999999999999999,0.0,0.0,0.0,0.0,0.0,0.0],[0.0,2.999999999999999,0.0,0.0,0.0,0.0,0.0,0.0],[0.0,2.999999999999999,0.0,0.0,0.0,0.0,0.0,0.0],[0.0,2.999999999999999,0.0,0.0,0.0,0.0,0.0,0.0]],[[1.1479200000000003,2.25,0.0,0.0,0.0,0.0,0.0,0.0],[1.1479200000000003,2.25,0.0,0.0,0.0,0.0,0.0,0.0],[1.1479200000000003,2.25,0.0,0.0,0.0,0.0,0.0,0.0],[1.1479200000000003,2.25,0.0,0.0,0.0,0.0,0.0,0.0],[1.1479200000000003,2.25,0.0,0.0,0.0,0.0,0.0,0.0]],[[2.2958400000000005,1.4999999999999996,0.0,0.0,0.0,0.0,0.0,0.0],[2.2958400000000005,1.4999999999999996,0.0,0.0,0.0,0.0,0.0,0.0],[2.2958400000000005,1.4999999999999996,0.0,0.0,0.0,0.0,0.0,0.0],[2.2958400000000005,1.4999999999999996,0.0,0.0,0.0,0.0,0.0,0.0],[2.2958400000000005,1.4999999999999996,0.0,0.0,0.0,0.0,0.0,0.0]],[[3.44376,0.7499999999999998,0.0,0.0,0.0,0.0,0.0,0.0],[3.44376,0.7499999999999998,0.0,0.0,0.0,0.0,0.0,0.0],[3.44376,0.7499999999999998,0.0,0.0,0.0,0.0,0.0,0.0],[3.44376,0.7499999999999998,0.0,0.0,0.0,0.0,0.0,0.0],[3.44376,0.7499999999999998,0.0,0.0,0.0,0.0,0.0,0.0]],[[4.591680000000001,0.0,0.0,0.0,0.0,0.0,0.0,0.0],[4.591680000000001,0.0,0.0,0.0,0.0,0.0,0.0,0.0],[4.591680000000001,0.0,0.0,0.0,0.0,0.0,0.0,0.0],[4.591680000000001,0.0,0.0,0.0,0.0,0.0,0.0,0.0],[4.591680000000001,0.0,0.0,0.0,0.0,0.0,0.0,0.0]]]],[[[[0.0,0.0,3.5999999999999996,0.0,0.0,0.0,1.1879136189481017,0.0],[0.0,0.0,2.7,0.5944536713286714,0.0,0.0,0.8909352142110762,0.1961028943820219],[0.0,0.0,1.7999999999999998,1.1889073426573429,0.0,0.0,0.5939568094740508,0.3922057887640438],[0.0,0.0,0.8999999999999999,1.7833610139860139,0.0,0.0,0.2969784047370254,0.5883086831460657],[0.0,0.0,0.0,2.3778146853146858,0.0,0.0,0.0,0.7844115775280875]],[[0.0,0.0,3.5999999999999996,0.0,0.0,0.0,1.1879136189481017,0.0],[0.0,0.0,2.7,0.5944536713286714,0.0,0.0,0.8909352142110762,0.1961028943820219],[0.0,0.0,1.7999999999999998,1.1889073426573429,0.0,0.0,0.5939568094740508,0.3922057887640438],[0.0,0.0,0.8999999999999999,1.7833610139860139,0.0,0.0,0.2969784047370254,0.5883086831460657],[0.0,0.0,0.0,2.3778146853146858,0.0,0.0,0.0,0.7844115775280875]],[[0.0,0.0,3.5999999999999996,0.0,0.0,0.0,1.1879136189481017,0.0],[0.0,0.0,2.7,0.5944536713286714,0.0,0.0,0.8909352142110762,0.1961028943820219],[0.0,0.0,1.7999999999999998,1.1889073426573429,0.0,0.0,0.5939568094740508,0.3922057887640438],[0.0,0.0,0.8999999999999999,1.7833610139860139,0.0,0.0,0.2969784047370254,0.5883086831460657],[0.0,0.0,0.0,2.3778146853146858,0.0,0.0,0.0,0.7844115775280875]],[[0.0,0.0,3.5999999999999996,0.0,0.0,0.0,1.1879136189481017,0.0],[0.0,0.0,2.7,0.5944536713286714,0.0,0.0,0.8909352142110762,0.1961028943820219],[0.0,0.0,1.7999999999999998,1.1889073426573429,0.0,0.0,0.5939568094740508,0.3922057887640438],[0.0,0.0,0.8999999999999999,1.7833610139860139,0.0,0.0,0.2969784047370254,0.5883086831460657],[0.0,0.0,0.0,2.3778146853146858,0.0,0.0,0.0,0.7844115775280875]],[[0.0,0.0,3.5999999999999996,0.0,0.0,0.0,1.1879136189481017,0.0],[0.0,0.0,2.7,0.5944536713286714,0.0,0.0,0.8909352142110762,0.1961028943820219],[0.0,0.0,1.7999999999999998,1.1889073426573429,0.0,0.0,0.5939568094740508,0.3922057887640438],[0.0,0.0,0.8999999999999999,1.7833610139860139,0.0,0.0,0.2969784047370254,0.5883086831460657],[0.0,0.0,0.0,2.3778146853146858,0.0,0.0,0.0,0.7844115775280875]]],[[[0.0,0.5624999999999998,2.7,0.0,0.0,0.18687800306706914,0.8909352142110762,0.0],[0.0,0.5624999999999998,2.0250000000000004,0.44584025349650347,0.0,0.18687800306706914,0.6682014106583073,0.14707717078651641],[0.0,0.5624999999999998,1.35,0.8916805069930069,0.0,0.18687800306706914,0.4454676071055381,0.29415434157303283],[0.0,0.5624999999999998,0.675,1.3375207604895105,0.0,0.18687800306706914,0.22273380355276906,0.44123151235954927],[0.0,0.5624999999999998,0.0,1.7833610139860139,0.0,0.18687800306706914,0.0,0.5883086831460657]],[[0.21523500000000007,0.421875,2.7,0.0,0.07143400153353459,0.14015850230030183,0.8909352142110762,0.0],[0.21523500000000007,0.421875,2.0250000000000004,0.44584025349650347,0.07143400153353459,0.14015850230030183,0.6682014106583073,0.14707717078651641],[0.21523500000000007,0.421875,1.35,0.8916805069930069,0.07143400153353459,0.14015850230030183,0.4454676071055381,0.29415434157303283],[0.21523500000000007,0.421875,0.675,1.3375207604895105,0.07143400153353459,0.14015850230030183,0.22273380355276906,0.44123151235954927],[0.21523500000000007,0.421875,0.0,1.7833610139860139,0.07143400153353459,0.14015850230030183,0.0,0.5883086831460657]],[[0.43047000000000013,0.2812499999999999,2.7,0.0,0.14286800306706918,0.09343900153353457,0.8909352142110762,0.0],[0.43047000000000013,0.2812499999999999,2.0250000000000004,0.44584025349650347,0.14286800306706918,0.09343900153353457,0.6682014106583073,0.14707717078651641],[0.43047000000000013,0.2812499999999999,1.35,0.8916805069930069,0.14286800306706918,0.09343900153353457,0.4454676071055381,0.29415434157303283],[0.43047000000000013,0.2812499999999999,0.675,1.3375207604895105,0.14286800306706918,0.09343900153353457,0.22273380355276906,0.44123151235954927],[0.43047000000000013,0.2812499999999999,0.0,1.7833610139860139,0.14286800306706918,0.09343900153353457,0.0,0.5883086831460657]],[[0.645705,0.14062499999999994,2.7,0.0,0.21430200460060372,0.046719500766767286,0.8909352142110762,0.0],[0.645705,0.14062499999999994,2.0250000000000004,0.44584025349650347,0.21430200460060372,0.046719500766767286,0.6682014106583073,0.14707717078651641],[0.645705,0.14062499999999994,1.35,0.8916805069930069,0.21430200460060372,0.046719500766767286,0.4454676071055381,0.29415434157303283],[0.645705,0.14062499999999994,0.675,1.3375207604895105,0.21430200460060372,0.046719500766767286,0.22273380355276906,0.44123151235954927],[0.645705,0.14062499999999994,0.0,1.7833610139860139,0.21430200460060372,0.046719500766767286,0.0,0.5883086831460657]],[[0.8609400000000003,0.0,2.7,0.0,0.28573600613413835,0.0,0.8909352142110762,0.0],[0.8609400000000003,0.0,2.0250000000000004,0.44584025349650347,0.28573600613413835,0.0,0.6682014106583073,0.14707717078651641],[0.8609400000000003,0.0,1.35,0.8916805069930069,0.28573600613413835,0.0,0.4454676071055381,0.29415434157303283],[0.8609400000000003,0.0,0.675,1.3375207604895105,0.28573600613413835,0.0,0.22273380355276906,0.44123151235954927],[0.8609400000000003,0.0,0.0,1.7833610139860139,0.28573600613413835,0.0,0.0,0.5883086831460657]]],[[[0.0,1.1249999999999996,1.7999999999999998,0.0,0.0,0.3737560061341383,0.5939568094740508,0.0],[0.0,1.1249999999999996,1.35,0.2972268356643357,0.0,0.3737560061341383,0.4454676071055381,0.09805144719101094],[0.0,1.1249999999999996,0.8999999999999999,0.5944536713286714,0.0,0.3737560061341383,0.2969784047370254,0.1961028943820219],[0.0,1.1249999999999996,0.44999999999999996,0.8916805069930069,0.0,0.3737560061341383,0.1484892023685127,0.29415434157303283],[0.0,1.1249999999999996,0.0,1.1889073426573429,0.0,0.3737560061341383,0.0,0.3922057887640438]],[[0.43047000000000013,0.84375,1.7999999999999998,0.0,0.14286800306706918,0.28031700460060366,0.5939568094740508,0.0],[0.43047000000000013,0.84375,1.35,0.2972268356643357,0.14286800306706918,0.28031700460060366,0.4454676071055381,0.09805144719101094],[0.43047000000000013,0.84375,0.8999999999999999,0.5944536713286714,0.14286800306706918,0.28031700460060366,0.2969784047370254,0.1961028943820219],[0.43047000000000013,0.84375,0.44999999999999996,0.8916805069930069,0.14286800306706918,0.28031700460060366,0.1484892023685127,0.29415434157303283],[0.43047000000000013,0.84375,0.0,1.1889073426573429,0.14286800306706918,0.28031700460060366,0.0,0.3922057887640438]],[[0.8609400000000003,0.5624999999999998,1.7999999999999998,0.0,0.28573600613413835,0.18687800306706914,0.5939568094740508,0.0],[0.8609400000000003,0.5624999999999998,1.35,0.2972268356643357,0.28573600613413835,0.18687800306706914,0.4454676071055381,0.09805144719101094],[0.8609400000000003,0.5624999999999998,0.8999999999999999,0.5944536713286714,0.28573600613413835,0.18687800306706914,0.2969784047370254,0.1961028943820219],[0.8609400000000003,0.5624999999999998,0.44999999999999996,0.8916805069930069,0.28573600613413835,0.18687800306706914,0.1484892023685127,0.29415434157303283],[0.8609400000000003,0.5624999999999998,0.0,1.1889073426573429,0.28573600613413835,0.18687800306706914,0.0,0.3922057887640438]],[[1.29141,0.2812499999999999,1.7999999999999998,0.0,0.42860400920120745,0.09343900153353457,0.5939568094740508,0.0],[1.29141,0.2812499999999999,1.35,0.2972268356643357,0.42860400920120745,0.09343900153353457,0.4454676071055381,0.09805144719101094],[1.29141,0.2812499999999999,0.8999999999999999,0.5944536713286714,0.42860400920120745,0.09343900153353457,0.2969784047370254,0.1961028943820219],[1.29141,0.2812499999999999,0.44999999999999996,0.8916805069930069,0.42860400920120745,0.09343900153353457,0.1484892023685127,0.29415434157303283],[1.29141,0.2812499999999999,0.0,1.1889073426573429,0.42860400920120745,0.09343900153353457,0.0,0.3922057887640438]],[[1.7218800000000005,0.0,1.7999999999999998,0.0,0.5714720122682767,0.0,0.5939568094740508,0.0],[1.7218800000000005,0.0,1.35,0.2972268356643357,0.5714720122682767,0.0,0.4454676071055381,0.09805144719101094],[1.7218800000000005,0.0,0.8999999999999999,0.5944536713286714,0.5714720122682767,0.0,0.2969784047370254,0.1961028943820219],[1.7218800000000005,0.0,0.44999999999999996,0.8916805069930069,0.5714720122682767,0.0,0.1484892023685127,0.29415434157303283],[1.7218800000000005,0.0,0.0,1.1889073426573429,0.5714720122682767,0.0,0.0,0.3922057887640438]]],[[[0.0,1.6875,0.8999999999999999,0.0,0.0,0.5606340092012073,0.2969784047370254,0.0],[0.0,1.6875,0.675,0.14861341783216786,0.0,0.5606340092012073,0.22273380355276906,0.04902572359550547],[0.0,1.6875,0.44999999999999996,0.2972268356643357,0.0,0.5606340092012073,0.1484892023685127,0.09805144719101094],[0.0,1.6875,0.22499999999999998,0.44584025349650347,0.0,0.5606340092012073,0.07424460118425635,0.14707717078651641],[0.0,1.6875,0.0,0.5944536713286714,0.0,0.5606340092012073,0.0,0.1961028943820219]],[[0.645705,1.265625,0.8999999999999999,0.0,0.21430200460060372,0.42047550690090557,0.2969784047370254,0.0],[0.645705,1.265625,0.675,0.14861341783216786,0.21430200460060372,0.42047550690090557,0.22273380355276906,0.04902572359550547],[0.645705,1.265625,0.44999999999999996,0.2972268356643357,0.21430200460060372,0.42047550690090557,0.1484892023685127,0.09805144719101094],[0.645705,1.265625,0.22499999999999998,0.44584025349650347,0.21430200460060372,0.42047550690090557,0.07424460118425635,0.14707717078651641],[0.645705,1.265625,0.0,0.5944536713286714,0.21430200460060372,0.42047550690090557,0.0,0.1961028943820219]],[[1.29141,0.84375,0.8999999999999999,0.0,0.42860400920120745,0.28031700460060366,0.2969784047370254,0.0],[1.29141,0.84375,0.675,0.14861341783216786,0.42860400920120745,0.28031700460060366,0.22273380355276906,0.04902572359550547],[1.29141,0.84375,0.44999999999999996,0.2972268356643357,0.42860400920120745,0.28031700460060366,0.1484892023685127,0.09805144719101094],[1.29141,0.84375,0.22499999999999998,0.44584025349650347,0.42860400920120745,0.28031700460060366,0.07424460118425635,0.14707717078651641],[1.29141,0.84375,0.0,0.5944536713286714,0.42860400920120745,0.28031700460060366,0.0,0.1961028943820219]],[[1.9371150000000004,0.421875,0.8999999999999999,0.0,0.6429060138018112,0.14015850230030183,0.2969784047370254,0.0],[1.9371150000000004,0.421875,0.675,0.14861341783216786,0.6429060138018112,0.14015850230030183,0.22273380355276906,0.04902572359550547],[1.9371150000000004,0.421875,0.44999999999999996,0.2972268356643357,0.6429060138018112,0.14015850230030183,0.1484892023685127,0.09805144719101094],[1.9371150000000004,0.421875,0.22499999999999998,0.44584025349650347,0.6429060138018112,0.14015850230030183,0.07424460118425635,0.14707717078651641],[1.9371150000000004,0.421875,0.0,0.5944536713286714,0.6429060138018112,0.14015850230030183,0.0,0.1961028943820219]],[[2.58282,0.0,0.8999999999999999,0.0,0.8572080184024149,0.0,0.2969784047370254,0.0],[2.58282,0.0,0.675,0.14861341783216786,0.8572080184024149,0.0,0.22273380355276906,0.04902572359550547],[2.58282,0.0,0.44999999999999996,0.2972268356643357,0.8572080184024149,0.0,0.1484892023685127,0.09805144719101094],[2.58282,0.0,0.22499999999999998,0.44584025349650347,0.8572080184024149,0.0,0.07424460118425635,0.14707717078651641],[2.58282,0.0,0.0,0.5944536713286714,0.8572080184024149,0.0,0.0,0.1961028943820219]]],[[[0.0,2.249999999999999,0.0,0.0,0.0,0.7475120122682766,0.0,0.0],[0.0,2.249999999999999,0.0,0.0,0.0,0.7475120122682766,0.0,0.0],[0.0,2.249999999999999,0.0,0.0,0.0,0.7475120122682766,0.0,0.0],[0.0,2.249999999999999,0.0,0.0,0.0,0.7475120122682766,0.0,0.0],[0.0,2.249999999999999,0.0,0.0,0.0,0.7475120122682766,0.0,0.0]],[[0.8609400000000003,1.6875,0.0,0.0,0.28573600613413835,0.5606340092012073,0.0,0.0],[0.8609400000000003,1.6875,0.0,0.0,0.28573600613413835,0.5606340092012073,0.0,0.0],[0.8609400000000003,1.6875,0.0,0.0,0.28573600613413835,0.5606340092012073,0.0,0.0],[0.8609400000000003,1.6875,0.0,0.0,0.28573600613413835,0.5606340092012073,0.0,0.0],[0.8609400000000003,1.6875,0.0,0.0,0.28573600613413835,0.5606340092012073,0.0,0.0]],[[1.7218800000000005,1.1249999999999996,0.0,0.0,0.5714720122682767,0.3737560061341383,0.0,0.0],[1.7218800000000005,1.1249999999999996,0.0,0.0,0.5714720122682767,0.3737560061341383,0.0,0.0],[1.7218800000000005,1.1249999999999996,0.0,0.0,0.5714720122682767,0.3737560061341383,0.0,0.0],[1.7218800000000005,1.1249999999999996,0.0,0.0,0.5714720122682767,0.3737560061341383,0.0,0.0],[1.7218800000000005,1.1249999999999996,0.0,0.0,0.5714720122682767,0.3737560061341383,0.0,0.0]],[[2.58282,0.5624999999999998,0.0,0.0,0.8572080184024149,0.18687800306706914,0.0,0.0],[2.58282,0.5624999999999998,0.0,0.0,0.8572080184024149,0.18687800306706914,0.0,0.0],[2.58282,0.5624999999999998,0.0,0.0,0.8572080184024149,0.18687800306706914,0.0,0.0],[2.58282,0.5624999999999998,0.0,0.0,0.8572080184024149,0.18687800306706914,0.0,0.0],[2.58282,0.5624999999999998,0.0,0.0,0.8572080184024149,0.18687800306706914,0.0,0.0]],[[3.443760000000001,0.0,0.0,0.0,1.1429440245365534,0.0,0.0,0.0],[3.443760000000001,0.0,0.0,0.0,1.1429440245365534,0.0,0.0,0.0],[3.443760000000001,0.0,0.0,0.0,1.1429440245365534,0.0,0.0,0.0],[3.443760000000001,0.0,0.0,0.0,1.1429440245365534,0.0,0.0,0.0],[3.443760000000001,0.0,0.0,0.0,1.1429440245365534,0.0,0.0,0.0]]]],[[[[0.0,0.0,2.4,0.0,0.0,0.0,2.3758272378962033,0.0],[0.0,0.0,1.8,0.3963024475524476,0.0,0.0,1.7818704284221525,0.3922057887640438],[0.0,0.0,1.2,0.7926048951048952,0.0,0.0,1.1879136189481017,0.7844115775280875],[0.0,0.0,0.6,1.1889073426573427,0.0,0.0,0.5939568094740508,1.1766173662921313],[0.0,0.0,0.0,1.5852097902097904,0.0,0.0,0.0,1.568823155056175]],[[0.0,0.0,2.4,0.0,0.0,0.0,2.3758272378962033,0.0],[0.0,0.0,1.8,0.3963024475524476,0.0,0.0,1.7818704284221525,0.3922057887640438],[0.0,0.0,1.2,0.7926048951048952,0.0,0.0,1.1879136189481017,0.7844115775280875],[0.0,0.0,0.6,1.1889073426573427,0.0,0.0,0.5939568094740508,1.1766173662921313],[0.0,0.0,0.0,1.5852097902097904,0.0,0.0,0.0,1.568823155056175]],[[0.0,0.0,2.4,0.0,0.0,0.0,2.3758272378962033,0.0],[0.0,0.0,1.8,0.3963024475524476,0.0,0.0,1.7818704284221525,0.3922057887640438],[0.0,0.0,1.2,0.7926048951048952,0.0,0.0,1.1879136189481017,0.7844115775280875],[0.0,0.0,0.6,1.1889073426573427,0.0,0.0,0.5939568094740508,1.1766173662921313],[0.0,0.0,0.0,1.5852097902097904,0.0,0.0,0.0,1.568823155056175]],[[0.0,0.0,2.4,0.0,0.0,0.0,2.3758272378962033,0.0],[0.0,0.0,1.8,0.3963024475524476,0.0,0.0,1.7818704284221525,0.3922057887640438],[0.0,0.0,1.2,0.7926048951048952,0.0,0.0,1.1879136189481017,0.7844115775280875],[0.0,0.0,0.6,1.1889073426573427,0.0,0.0,0.5939568094740508,1.1766173662921313],[0.0,0.0,0.0,1.5852097902097904,0.0,0.0,0.0,1.568823155056175]],[[0.0,0.0,2.4,0.0,0.0,0.0,2.3758272378962033,0.0],[0.0,0.0,1.8,0.3963024475524476,0.0,0.0,1.7818704284221525,0.3922057887640438],[0.0,0.0,1.2,0.7926048951048952,0.0,0.0,1.1879136189481017,0.7844115775280875],[0.0,0.0,0.6,1.1889073426573427,0.0,0.0,0.5939568094740508,1.1766173662921313],[0.0,0.0,0.0,1.5852097902097904,0.0,0.0,0.0,1.568823155056175]]],[[[0.0,0.3749999999999999,1.8,0.0,0.0,0.3737560061341383,1.7818704284221525,0.0],[0.0,0.3749999999999999,1.35,0.29722683566433566,0.0,0.3737560061341383,1.3364028213166146,0.29415434157303283],[0.0,0.3749999999999999,0.9,0.5944536713286713,0.0,0.3737560061341383,0.8909352142110762,0.5883086831460657],[0.0,0.3749999999999999,0.45,0.891680506993007,0.0,0.3737560061341383,0.4454676071055381,0.8824630247190985],[0.0,0.3749999999999999,0.0,1.1889073426573427,0.0,0.3737560061341383,0.0,1.1766173662921313]],[[0.14349000000000003,0.28125,1.8,0.0,0.14286800306706918,0.28031700460060366,1.7818704284221525,0.0],[0.14349000000000003,0.28125,1.35,0.29722683566433566,0.14286800306706918,0.28031700460060366,1.3364028213166146,0.29415434157303283],[0.14349000000000003,0.28125,0.9,0.5944536713286713,0.14286800306706918,0.28031700460060366,0.8909352142110762,0.5883086831460657],[0.14349000000000003,0.28125,0.45,0.891680506993007,0.14286800306706918,0.28031700460060366,0.4454676071055381,0.8824630247190985],[0.14349000000000003,0.28125,0.0,1.1889073426573427,0.14286800306706918,0.28031700460060366,0.0,1.1766173662921313]],[[0.28698000000000007,0.18749999999999994,1.8,0.0,0.28573600613413835,0.18687800306706914,1.7818704284221525,0.0],[0.28698000000000007,0.18749999999999994,1.35,0.29722683566433566,0.28573600613413835,0.18687800306706914,1.3364028213166146,0.29415434157303283],[0.28698000000000007,0.18749999999999994,0.9,0.5944536713286713,0.28573600613413835,0.18687800306706914,0.8909352142110762,0.5883086831460657],[0.28698000000000007,0.18749999999999994,0.45,0.891680506993007,0.28573600613413835,0.18687800306706914,0.4454676071055381,0.8824630247190985],[0.28698000000000007,0.18749999999999994,0.0,1.1889073426573427,0.28573600613413835,0.18687800306706914,0.0,1.1766173662921313]],[[0.43047,0.09374999999999997,1.8,0.0,0.42860400920120745,0.09343900153353457,1.7818704284221525,0.0],[0.43047,0.09374999999999997,1.35,0.29722683566433566,0.42860400920120745,0.09343900153353457,1.3364028213166146,0.29415434157303283],[0.43047,0.09374999999999997,0.9,0.5944536713286713,0.42860400920120745,0.09343900153353457,0.8909352142110762,0.5883086831460657],[0.43047,0.09374999999999997,0.45,0.891680506993007,0.42860400920120745,0.09343900153353457,0.4454676071055381,0.8824630247190985],[0.43047,0.09374999999999997,0.0,1.1889073426573427,0.42860400920120745,0.09343900153353457,0.0,1.1766173662921313]],[[0.5739600000000001,0.0,1.8,0.0,0.5714720122682767,0.0,1.7818704284221525,0.0],[0.5739600000000001,0.0,1.35,0.29722683566433566,0.5714720122682767,0.0,1.3364028213166146,0.29415434157303283],[0.5739600000000001,0.0,0.9,0.5944536713286713,0.5714720122682767,0.0,0.8909352142110762,0.5883086831460657],[0.5739600000000001,0.0,0.45,0.891680506993007,0.5714720122682767,0.0,0.4454676071055381,0.8824630247190985],[0.5739600000000001,0.0,0.0,1.1889073426573427,0.5714720122682767,0.0,0.0,1.1766173662921313]]],[[[0.0,0.7499999999999998,1.2,0.0,0.0,0.7475120122682766,1.1879136189481017,0.0],[0.0,0.7499999999999998,0.9,0.1981512237762238,0.0,0.7475120122682766,0.8909352142110762,0.1961028943820219],[0.0,0.7499999999999998,0.6,0.3963024475524476,0.0,0.7475120122682766,0.5939568094740508,0.3922057887640438],[0.0,0.7499999999999998,0.3,0.5944536713286713,0.0,0.7475120122682766,0.2969784047370254,0.5883086831460657],[0.0,0.7499999999999998,0.0,0.7926048951048952,0.0,0.7475120122682766,0.0,0.7844115775280875]],[[0.28698000000000007,0.5625,1.2,0.0,0.28573600613413835,0.5606340092012073,1.1879136189481017,0.0],[0.28698000000000007,0.5625,0.9,0.1981512237762238,0.28573600613413835,0.5606340092012073,0.8909352142110762,0.1961028943820219],[0.28698000000000007,0.5625,0.6,0.3963024475524476,0.28573600613413835,0.5606340092012073,0.5939568094740508,0.3922057887640438],[0.28698000000000007,0.5625,0.3,0.5944536713286713,0.28573600613413835,0.5606340092012073,0.2969784047370254,0.5883086831460657],[0.28698000000000007,0.5625,0.0,0.7926048951048952,0.28573600613413835,0.5606340092012073,0.0,0.7844115775280875]],[[0.5739600000000001,0.3749999999999999,1.2,0.0,0.5714720122682767,0.3737560061341383,1.1879136189481017,0.0],[0.5739600000000001,0.3749999999999999,0.9,0.1981512237762238,0.5714720122682767,0.3737560061341383,0.8909352142110762,0.1961028943820219],[0.5739600000000001,0.3749999999999999,0.6,0.3963024475524476,0.5714720122682767,0.3737560061341383,0.5939568094740508,0.3922057887640438],[0.5739600000000001,0.3749999999999999,0.3,0.5944536713286713,0.5714720122682767,0.3737560061341383,0.2969784047370254,0.5883086831460657],[0.5739600000000001,0.3749999999999999,0.0,0.7926048951048952,0.5714720122682767,0.3737560061341383,0.0,0.7844115775280875]],[[0.86094,0.18749999999999994,1.2,0.0,0.8572080184024149,0.18687800306706914,1.1879136189481017,0.0],[0.86094,0.18749999999999994,0.9,0.1981512237762238,0.8572080184024149,0.18687800306706914,0.8909352142110762,0.1961028943820219],[0.86094,0.18749999999999994,0.6,0.3963024475524476,0.8572080184024149,0.18687800306706914,0.5939568094740508,0.3922057887640438],[0.86094,0.18749999999999994,0.3,0.5944536713286713,0.8572080184024149,0.18687800306706914,0.2969784047370254,0.5883086831460657],[0.86094,0.18749999999999994,0.0,0.7926048951048952,0.8572080184024149,0.18687800306706914,0.0,0.7844115775280875]],[[1.1479200000000003,0.0,1.2,0.0,1.1429440245365534,0.0,1.1879136189481017,0.0],[1.1479200000000003,0.0,0.9,0.1981512237762238,1.1429440245365534,0.0,0.8909352142110762,0.1961028943820219],[1.1479200000000003,0.0,0.6,0.3963024475524476,1.1429440245365534,0.0,0.5939568094740508,0.3922057887640438],[1.1479200000000003,0.0,0.3,0.5944536713286713,1.1429440245365534,0.0,0.2969784047370254,0.5883086831460657],[1.1479200000000003,0.0,0.0,0.7926048951048952,1.1429440245365534,0.0,0.0,0.7844115775280875]]],[[[0.0,1.125,0.6,0.0,0.0,1.1212680184024146,0.5939568094740508,0.0],[0.0,1.125,0.45,0.0990756118881119,0.0,1.1212680184024146,0.4454676071055381,0.09805144719101094],[0.0,1.125,0.3,0.1981512237762238,0.0,1.1212680184024146,0.2969784047370254,0.1961028943820219],[0.0,1.125,0.15,0.29722683566433566,0.0,1.1212680184024146,0.1484892023685127,0.29415434157303283],[0.0,1.125,0.0,0.3963024475524476,0.0,1.1212680184024146,0.0,0.3922057887640438]],[[0.43047,0.84375,0.6,0.0,0.42860400920120745,0.8409510138018111,0.5939568094740508,0.0],[0.43047,0.84375,0.45,0.0990756118881119,0.42860400920120745,0.8409510138018111,0.4454676071055381,0.09805144719101094],[0.43047,0.84375,0.3,0.1981512237762238,0.42860400920120745,0.8409510138018111,0.2969784047370254,0.1961028943820219],[0.43047,0.84375,0.15,0.29722683566433566,0.42860400920120745,0.8409510138018111,0.1484892023685127,0.29415434157303283],[0.43047,0.84375,0.0,0.3963024475524476,0.42860400920120745,0.8409510138018111,0.0,0.3922057887640438]],[[0.86094,0.5625,0.6,0.0,0.8572080184024149,0.5606340092012073,0.5939568094740508,0.0],[0.86094,0.5625,0.45,0.0990756118881119,0.8572080184024149,0.5606340092012073,0.4454676071055381,0.09805144719101094],[0.86094,0.5625,0.3,0.1981512237762238,0.8572080184024149,0.5606340092012073,0.2969784047370254,0.1961028943820219],[0.86094,0.5625,0.15,0.29722683566433566,0.8572080184024149,0.5606340092012073,0.1484892023685127,0.29415434157303283],[0.86094,0.5625,0.0,0.3963024475524476,0.8572080184024149,0.5606340092012073,0.0,0.3922057887640438]],[[1.2914100000000002,0.28125,0.6,0.0,1.2858120276036225,0.28031700460060366,0.5939568094740508,0.0],[1.2914100000000002,0.28125,0.45,0.0990756118881119,1.2858120276036225,0.28031700460060366,0.4454676071055381,0.09805144719101094],[1.2914100000000002,0.28125,0.3,0.1981512237762238,1.2858120276036225,0.28031700460060366,0.2969784047370254,0.1961028943820219],[1.2914100000000002,0.28125,0.15,0.29722683566433566,1.2858120276036225,0.28031700460060366,0.1484892023685127,0.29415434157303283],[1.2914100000000002,0.28125,0.0,0.3963024475524476,1.2858120276036225,0.28031700460060366,0.0,0.3922057887640438]],[[1.72188,0.0,0.6,0.0,1.7144160368048298,0.0,0.5939568094740508,0.0],[1.72188,0.0,0.45,0.0990756118881119,1.7144160368048298,0.0,0.4454676071055381,0.09805144719101094],[1.72188,0.0,0.3,0.1981512237762238,1.7144160368048298,0.0,0.2969784047370254,0.1961028943820219],[1.72188,0.0,0.15,0.29722683566433566,1.7144160368048298,0.0,0.1484892023685127,0.29415434157303283],[1.72188,0.0,0.0,0.3963024475524476,1.7144160368048298,0.0,0.0,0.3922057887640438]]],[[[0.0,1.4999999999999996,0.0,0.0,0.0,1.4950240245365531,0.0,0.0],[0.0,1.4999999999999996,0.0,0.0,0.0,1.4950240245365531,0.0,0.0],[0.0,1.4999999999999996,0.0,0.0,0.0,1.4950240245365531,0.0,0.0],[0.0,1.4999999999999996,0.0,0.0,0.0,1.4950240245365531,0.0,0.0],[0.0,1.4999999999999996,0.0,0.0,0.0,1.4950240245365531,0.0,0.0]],[[0.5739600000000001,1.125,0.0,0.0,0.5714720122682767,1.1212680184024146,0.0,0.0],[0.5739600000000001,1.125,0.0,0.0,0.5714720122682767,1.1212680184024146,0.0,0.0],[0.5739600000000001,1.125,0.0,0.0,0.5714720122682767,1.1212680184024146,0.0,0.0],[0.5739600000000001,1.125,0.0,0.0,0.5714720122682767,1.1212680184024146,0.0,0.0],[0.5739600000000001,1.125,0.0,0.0,0.5714720122682767,1.1212680184024146,0.0,0.0]],[[1.1479200000000003,0.7499999999999998,0.0,0.0,1.1429440245365534,0.7475120122682766,0.0,0.0],[1.1479200000000003,0.7499999999999998,0.0,0.0,1.1429440245365534,0.7475120122682766,0.0,0.0],[1.1479200000000003,0.7499999999999998,0.0,0.0,1.1429440245365534,0.7475120122682766,0.0,0.0],[1.1479200000000003,0.7499999999999998,0.0,0.0,1.1429440245365534,0.7475120122682766,0.0,0.0],[1.1479200000000003,0.7499999999999998,0.0,0.0,1.1429440245365534,0.7475120122682766,0.0,0.0]],[[1.72188,0.3749999999999999,0.0,0.0,1.7144160368048298,0.3737560061341383,0.0,0.0],[1.72188,0.3749999999999999,0.0,0.0,1.7144160368048298,0.3737560061341383,0.0,0.0],[1.72188,0.3749999999999999,0.0,0.0,1.7144160368048298,0.3737560061341383,0.0,0.0],[1.72188,0.3749999999999999,0.0,0.0,1.7144160368048298,0.3737560061341383,0.0,0.0],[1.72188,0.3749999999999999,0.0,0.0,1.7144160368048298,0.3737560061341383,0.0,0.0]],[[2.2958400000000005,0.0,0.0,0.0,2.285888049073107,0.0,0.0,0.0],[2.2958400000000005,0.0,0.0,0.0,2.285888049073107,0.0,0.0,0.0],[2.2958400000000005,0.0,0.0,0.0,2.285888049073107,0.0,0.0,0.0],[2.2958400000000005,0.0,0.0,0.0,2.285888049073107,0.0,0.0,0.0],[2.2958400000000005,0.0,0.0,0.0,2.285888049073107,0.0,0.0,0.0]]]],[[[[0.0,0.0,1.2,0.0,0.0,0.0,3.563740856844305,0.0],[0.0,0.0,0.9,0.1981512237762238,0.0,0.0,2.6728056426332287,0.5883086831460657],[0.0,0.0,0.6,0.3963024475524476,0.0,0.0,1.7818704284221525,1.1766173662921313],[0.0,0.0,0.3,0.5944536713286713,0.0,0.0,0.8909352142110762,1.764926049438197],[0.0,0.0,0.0,0.7926048951048952,0.0,0.0,0.0,2.3532347325842626]],[[0.0,0.0,1.2,0.0,0.0,0.0,3.563740856844305,0.0],[0.0,0.0,0.9,0.1981512237762238,0.0,0.0,2.6728056426332287,0.5883086831460657],[0.0,0.0,0.6,0.3963024475524476,0.0,0.0,1.7818704284221525,1.1766173662921313],[0.0,0.0,0.3,0.5944536713286713,0.0,0.0,0.8909352142110762,1.764926049438197],[0.0,0.0,0.0,0.7926048951048952,0.0,0.0,0.0,2.3532347325842626]],[[0.0,0.0,1.2,0.0,0.0,0.0,3.563740856844305,0.0],[0.0,0.0,0.9,0.1981512237762238,0.0,0.0,2.6728056426332287,0.5883086831460657],[0.0,0.0,0.6,0.3963024475524476,0.0,0.0,1.7818704284221525,1.1766173662921313],[0.0,0.0,0.3,0.5944536713286713,0.0,0.0,0.8909352142110762,1.764926049438197],[0.0,0.0,0.0,0.7926048951048952,0.0,0.0,0.0,2.3532347325842626]],[[0.0,0.0,1.2,0.0,0.0,0.0,3.563740856844305,0.0],[0.0,0.0,0.9,0.1981512237762238,0.0,0.0,2.6728056426332287,0.5883086831460657],[0.0,0.0,0.6,0.3963024475524476,0.0,0.0,1.7818704284221525,1.1766173662921313],[0.0,0.0,0.3,0.5944536713286713,0.0,0.0,0.8909352142110762,1.764926049438197],[0.0,0.0,0.0,0.7926048951048952,0.0,0.0,0.0,2.3532347325842626]],[[0.0,0.0,1.2,0.0,0.0,0.0,3.563740856844305,0.0],[0.0,0.0,0.9,0.1981512237762238,0.0,0.0,2.6728056426332287,0.5883086831460657],[0.0,0.0,0.6,0.3963024475524476,0.0,0.0,1.7818704284221525,1.1766173662921313],[0.0,0.0,0.3,0.5944536713286713,0.0,0.0,0.8909352142110762,1.764926049438197],[0.0,0.0,0.0,0.7926048951048952,0.0,0.0,0.0,2.3532347325842626]]],[[[0.0,0.18749999999999994,0.9,0.0,0.0,0.5606340092012074,2.6728056426332287,0.0],[0.0,0.18749999999999994,0.675,0.14861341783216783,0.0,0.5606340092012074,2.004604231974922,0.44123151235954927],[0.0,0.18749999999999994,0.45,0.29722683566433566,0.0,0.5606340092012074,1.3364028213166144,0.8824630247190985],[0.0,0.18749999999999994,0.225,0.4458402534965035,0.0,0.5606340092012074,0.6682014106583072,1.323694537078648],[0.0,0.18749999999999994,0.0,0.5944536713286713,0.0,0.5606340092012074,0.0,1.764926049438197]],[[0.07174500000000002,0.140625,0.9,0.0,0.21430200460060378,0.4204755069009055,2.6728056426332287,0.0],[0.07174500000000002,0.140625,0.675,0.14861341783216783,0.21430200460060378,0.4204755069009055,2.004604231974922,0.44123151235954927],[0.07174500000000002,0.140625,0.45,0.29722683566433566,0.21430200460060378,0.4204755069009055,1.3364028213166144,0.8824630247190985],[0.07174500000000002,0.140625,0.225,0.4458402534965035,0.21430200460060378,0.4204755069009055,0.6682014106583072,1.323694537078648],[0.07174500000000002,0.140625,0.0,0.5944536713286713,0.21430200460060378,0.4204755069009055,0.0,1.764926049438197]],[[0.14349000000000003,0.09374999999999997,0.9,0.0,0.42860400920120756,0.2803170046006037,2.6728056426332287,0.0],[0.14349000000000003,0.09374999999999997,0.675,0.14861341783216783,0.42860400920120756,0.2803170046006037,2.004604231974922,0.44123151235954927],[0.14349000000000003,0.09374999999999997,0.45,0.29722683566433566,0.42860400920120756,0.2803170046006037,1.3364028213166144,0.8824630247190985],[0.14349000000000003,0.09374999999999997,0.225,0.4458402534965035,0.42860400920120756,0.2803170046006037,0.6682014106583072,1.323694537078648],[0.14349000000000003,0.09374999999999997,0.0,0.5944536713286713,0.42860400920120756,0.2803170046006037,0.0,1.764926049438197]],[[0.215235,0.046874999999999986,0.9,0.0,0.6429060138018112,0.14015850230030186,2.6728056426332287,0.0],[0.215235,0.046874999999999986,0.675,0.14861341783216783,0.6429060138018112,0.14015850230030186,2.004604231974922,0.44123151235954927],[0.215235,0.046874999999999986,0.45,0.29722683566433566,0.6429060138018112,0.14015850230030186,1.3364028213166144,0.8824630247190985],[0.215235,0.046874999999999986,0.225,0.4458402534965035,0.6429060138018112,0.14015850230030186,0.6682014106583072,1.323694537078648],[0.215235,0.046874999999999986,0.0,0.5944536713286713,0.6429060138018112,0.14015850230030186,0.0,1.764926049438197]],[[0.28698000000000007,0.0,0.9,0.0,0.8572080184024151,0.0,2.6728056426332287,0.0],[0.28698000000000007,0.0,0.675,0.14861341783216783,0.8572080184024151,0.0,2.004604231974922,0.44123151235954927],[0.28698000000000007,0.0,0.45,0.29722683566433566,0.8572080184024151,0.0,1.3364028213166144,0.8824630247190985],[0.28698000000000007,0.0,0.225,0.4458402534965035,0.8572080184024151,0.0,0.6682014106583072,1.323694537078648],[0.28698000000000007,0.0,0.0,0.5944536713286713,0.8572080184024151,0.0,0.0,1.764926049438197]]],[[[0.0,0.3749999999999999,0.6,0.0,0.0,1.1212680184024149,1.7818704284221525,0.0],[0.0,0.3749999999999999,0.45,0.0990756118881119,0.0,1.1212680184024149,1.3364028213166144,0.29415434157303283],[0.0,0.3749999999999999,0.3,0.1981512237762238,0.0,1.1212680184024149,0.8909352142110762,0.5883086831460657],[0.0,0.3749999999999999,0.15,0.29722683566433566,0.0,1.1212680184024149,0.4454676071055381,0.8824630247190985],[0.0,0.3749999999999999,0.0,0.3963024475524476,0.0,1.1212680184024149,0.0,1.1766173662921313]],[[0.14349000000000003,0.28125,0.6,0.0,0.42860400920120756,0.840951013801811,1.7818704284221525,0.0],[0.14349000000000003,0.28125,0.45,0.0990756118881119,0.42860400920120756,0.840951013801811,1.3364028213166144,0.29415434157303283],[0.14349000000000003,0.28125,0.3,0.1981512237762238,0.42860400920120756,0.840951013801811,0.8909352142110762,0.5883086831460657],[0.14349000000000003,0.28125,0.15,0.29722683566433566,0.42860400920120756,0.840951013801811,0.4454676071055381,0.8824630247190985],[0.14349000000000003,0.28125,0.0,0.3963024475524476,0.42860400920120756,0.840951013801811,0.0,1.1766173662921313]],[[0.28698000000000007,0.18749999999999994,0.6,0.0,0.8572080184024151,0.5606340092012074,1.7818704284221525,0.0],[0.28698000000000007,0.18749999999999994,0.45,0.0990756118881119,0.8572080184024151,0.5606340092012074,1.3364028213166144,0.29415434157303283],[0.28698000000000007,0.18749999999999994,0.3,0.1981512237762238,0.8572080184024151,0.5606340092012074,0.8909352142110762,0.5883086831460657],[0.28698000000000007,0.18749999999999994,0.15,0.29722683566433566,0.8572080184024151,0.5606340092012074,0.4454676071055381,0.8824630247190985],[0.28698000000000007,0.18749999999999994,0.0,0.3963024475524476,0.8572080184024151,0.5606340092012074,0.0,1.1766173662921313]],[[0.43047,0.09374999999999997,0.6,0.0,1.2858120276036225,0.2803170046006037,1.7818704284221525,0.0],[0.43047,0.09374999999999997,0.45,0.0990756118881119,1.2858120276036225,0.2803170046006037,1.3364028213166144,0.29415434157303283],[0.43047,0.09374999999999997,0.3,0.1981512237762238,1.2858120276036225,0.2803170046006037,0.8909352142110762,0.5883086831460657],[0.43047,0.09374999999999997,0.15,0.29722683566433566,1.2858120276036225,0.2803170046006037,0.4454676071055381,0.8824630247190985],[0.43047,0.09374999999999997,0.0,0.3963024475524476,1.2858120276036225,0.2803170046006037,0.0,1.1766173662921313]],[[0.5739600000000001,0.0,0.6,0.0,1.7144160368048302,0.0,1.7818704284221525,0.0],[0.5739600000000001,0.0,0.45,0.0990756118881119,1.7144160368048302,0.0,1.3364028213166144,0.29415434157303283],[0.5739600000000001,0.0,0.3,0.1981512237762238,1.7144160368048302,0.0,0.8909352142110762,0.5883086831460657],[0.5739600000000001,0.0,0.15,0.29722683566433566,1.7144160368048302,0.0,0.4454676071055381,0.8824630247190985],[0.5739600000000001,0.0,0.0,0.3963024475524476,1.7144160368048302,0.0,0.0,1.1766173662921313]]],[[[0.0,0.5625,0.3,0.0,0.0,1.681902027603622,0.8909352142110762,0.0],[0.0,0.5625,0.225,0.04953780594405595,0.0,1.681902027603622,0.6682014106583072,0.14707717078651641],[0.0,0.5625,0.15,0.0990756118881119,0.0,1.681902027603622,0.4454676071055381,0.29415434157303283],[0.0,0.5625,0.075,0.14861341783216783,0.0,1.681902027603622,0.22273380355276906,0.44123151235954927],[0.0,0.5625,0.0,0.1981512237762238,0.0,1.681902027603622,0.0,0.5883086831460657]],[[0.215235,0.421875,0.3,0.0,0.6429060138018112,1.2614265207027167,0.8909352142110762,0.0],[0.215235,0.421875,0.225,0.04953780594405595,0.6429060138018112,1.2614265207027167,0.6682014106583072,0.14707717078651641],[0.215235,0.421875,0.15,0.0990756118881119,0.6429060138018112,1.2614265207027167,0.4454676071055381,0.29415434157303283],[0.215235,0.421875,0.075,0.14861341783216783,0.6429060138018112,1.2614265207027167,0.22273380355276906,0.44123151235954927],[0.215235,0.421875,0.0,0.1981512237762238,0.6429060138018112,1.2614265207027167,0.0,0.5883086831460657]],[[0.43047,0.28125,0.3,0.0,1.2858120276036225,0.840951013801811,0.8909352142110762,0.0],[0.43047,0.28125,0.225,0.04953780594405595,1.2858120276036225,0.840951013801811,0.6682014106583072,0.14707717078651641],[0.43047,0.28125,0.15,0.0990756118881119,1.2858120276036225,0.840951013801811,0.4454676071055381,0.29415434157303283],[0.43047,0.28125,0.075,0.14861341783216783,1.2858120276036225,0.840951013801811,0.22273380355276906,0.44123151235954927],[0.43047,0.28125,0.0,0.1981512237762238,1.2858120276036225,0.840951013801811,0.0,0.5883086831460657]],[[0.6457050000000001,0.140625,0.3,0.0,1.9287180414054337,0.4204755069009055,0.8909352142110762,0.0],[0.6457050000000001,0.140625,0.225,0.04953780594405595,1.9287180414054337,0.4204755069009055,0.6682014106583072,0.14707717078651641],[0.6457050000000001,0.140625,0.15,0.0990756118881119,1.9287180414054337,0.4204755069009055,0.4454676071055381,0.29415434157303283],[0.6457050000000001,0.140625,0.075,0.14861341783216783,1.9287180414054337,0.4204755069009055,0.22273380355276906,0.44123151235954927],[0.6457050000000001,0.140625,0.0,0.1981512237762238,1.9287180414054337,0.4204755069009055,0.0,0.5883086831460657]],[[0.86094,0.0,0.3,0.0,2.571624055207245,0.0,0.8909352142110762,0.0],[0.86094,0.0,0.225,0.04953780594405595,2.571624055207245,0.0,0.6682014106583072,0.14707717078651641],[0.86094,0.0,0.15,0.0990756118881119,2.571624055207245,0.0,0.4454676071055381,0.29415434157303283],[0.86094,0.0,0.075,0.14861341783216783,2.571624055207245,0.0,0.22273380355276906,0.44123151235954927],[0.86094,0.0,0.0,0.1981512237762238,2.571624055207245,0.0,0.0,0.5883086831460657]]],[[[0.0,0.7499999999999998,0.0,0.0,0.0,2.2425360368048297,0.0,0.0],[0.0,0.7499999999999998,0.0,0.0,0.0,2.2425360368048297,0.0,0.0],[0.0,0.7499999999999998,0.0,0.0,0.0,2.2425360368048297,0.0,0.0],[0.0,0.7499999999999998,0.0,0.0,0.0,2.2425360368048297,0.0,0.0],[0.0,0.7499999999999998,0.0,0.0,0.0,2.2425360368048297,0.0,0.0]],[[0.28698000000000007,0.5625,0.0,0.0,0.8572080184024151,1.681902027603622,0.0,0.0],[0.28698000000000007,0.5625,0.0,0.0,0.8572080184024151,1.681902027603622,0.0,0.0],[0.28698000000000007,0.5625,0.0,0.0,0.8572080184024151,1.681902027603622,0.0,0.0],[0.28698000000000007,0.5625,0.0,0.0,0.8572080184024151,1.681902027603622,0.0,0.0],[0.28698000000000007,0.5625,0.0,0.0,0.8572080184024151,1.681902027603622,0.0,0.0]],[[0.5739600000000001,0.3749999999999999,0.0,0.0,1.7144160368048302,1.1212680184024149,0.0,0.0],[0.5739600000000001,0.3749999999999999,0.0,0.0,1.7144160368048302,1.1212680184024149,0.0,0.0],[0.5739600000000001,0.3749999999999999,0.0,0.0,1.7144160368048302,1.1212680184024149,0.0,0.0],[0.5739600000000001,0.3749999999999999,0.0,0.0,1.7144160368048302,1.1212680184024149,0.0,0.0],[0.5739600000000001,0.3749999999999999,0.0,0.0,1.7144160368048302,1.1212680184024149,0.0,0.0]],[[0.86094,0.18749999999999994,0.0,0.0,2.571624055207245,0.5606340092012074,0.0,0.0],[0.86094,0.18749999999999994,0.0,0.0,2.571624055207245,0.5606340092012074,0.0,0.0],[0.86094,0.18749999999999994,0.0,0.0,2.571624055207245,0.5606340092012074,0.0,0.0],[0.86094,0.18749999999999994,0.0,0.0,2.571624055207245,0.5606340092012074,0.0,0.0],[0.86094,0.18749999999999994,0.0,0.0,2.571624055207245,0.5606340092012074,0.0,0.0]],[[1.1479200000000003,0.0,0.0,0.0,3.4288320736096605,0.0,0.0,0.0],[1.1479200000000003,0.0,0.0,0.0,3.4288320736096605,0.0,0.0,0.0],[1.1479200000000003,0.0,0.0,0.0,3.4288320736096605,0.0,0.0,0.0],[1.1479200000000003,0.0,0.0,0.0,3.4288320736096605,0.0,0.0,0.0],[1.1479200000000003,0.0,0.0,0.0,3.4288320736096605,0.0,0.0,0.0]]]],[[[[0.0,0.0,0.0,0.0,0.0,0.0,4.751654475792407,0.0],[0.0,0.0,0.0,0.0,0.0,0.0,3.563740856844305,0.7844115775280875],[0.0,0.0,0.0,0.0,0.0,0.0,2.3758272378962033,1.568823155056175],[0.0,0.0,0.0,0.0,0.0,0.0,1.1879136189481017,2.3532347325842626],[0.0,0.0,0.0,0.0,0.0,0.0,0.0,3.13764631011235]],[[0.0,0.0,0.0,0.0,0.0,0.0,4.751654475792407,0.0],[0.0,0.0,0.0,0.0,0.0,0.0,3.563740856844305,0.7844115775280875],[0.0,0.0,0.0,0.0,0.0,0.0,2.3758272378962033,1.568823155056175],[0.0,0.0,0.0,0.0,0.0,0.0,1.1879136189481017,2.3532347325842626],[0.0,0.0,0.0,0.0,0.0,0.0,0.0,3.13764631011235]],[[0.0,0.0,0.0,0.0,0.0,0.0,4.751654475792407,0.0],[0.0,0.0,0.0,0.0,0.0,0.0,3.563740856844305,0.7844115775280875],[0.0,0.0,0.0,0.0,0.0,0.0,2.3758272378962033,1.568823155056175],[0.0,0.0,0.0,0.0,0.0,0.0,1.1879136189481017,2.3532347325842626],[0.0,0.0,0.0,0.0,0.0,0.0,0.0,3.13764631011235]],[[0.0,0.0,0.0,0.0,0.0,0.0,4.751654475792407,0.0],[0.0,0.0,0.0,0.0,0.0,0.0,3.563740856844305,0.7844115775280875],[0.0,0.0,0.0,0.0,0.0,0.0,2.3758272378962033,1.568823155056175],[0.0,0.0,0.0,0.0,0.0,0.0,1.1879136189481017,2.3532347325842626],[0.0,0.0,0.0,0.0,0.0,0.0,0.0,3.13764631011235]],[[0.0,0.0,0.0,0.0,0.0,0.0,4.751654475792407,0.0],[0.0,0.0,0.0,0.0,0.0,0.0,3.563740856844305,0.7844115775280875],[0.0,0.0,0.0,0.0,0.0,0.0,2.3758272378962033,1.568823155056175],[0.0,0.0,0.0,0.0,0.0,0.0,1.1879136189481017,2.3532347325842626],[0.0,0.0,0.0,0.0,0.0,0.0,0.0,3.13764631011235]]],[[[0.0,0.0,0.0,0.0,0.0,0.7475120122682766,3.563740856844305,0.0],[0.0,0.0,0.0,0.0,0.0,0.7475120122682766,2.672805642633229,0.5883086831460657],[0.0,0.0,0.0,0.0,0.0,0.7475120122682766,1.7818704284221525,1.1766173662921313],[0.0,0.0,0.0,0.0,0.0,0.7475120122682766,0.8909352142110762,1.764926049438197],[0.0,0.0,0.0,0.0,0.0,0.7475120122682766,0.0,2.3532347325842626]],[[0.0,0.0,0.0,0.0,0.28573600613413835,0.5606340092012073,3.563740856844305,0.0],[0.0,0.0,0.0,0.0,0.28573600613413835,0.5606340092012073,2.672805642633229,0.5883086831460657],[0.0,0.0,0.0,0.0,0.28573600613413835,0.5606340092012073,1.7818704284221525,1.1766173662921313],[0.0,0.0,0.0,0.0,0.28573600613413835,0.5606340092012073,0.8909352142110762,1.764926049438197],[0.0,0.0,0.0,0.0,0.28573600613413835,0.5606340092012073,0.0,2.3532347325842626]],[[0.0,0.0,0.0,0.0,0.5714720122682767,0.3737560061341383,3.563740856844305,0.0],[0.0,0.0,0.0,0.0,0.5714720122682767,0.3737560061341383,2.672805642633229,0.5883086831460657],[0.0,0.0,0.0,0.0,0.5714720122682767,0.3737560061341383,1.7818704284221525,1.1766173662921313],[0.0,0.0,0.0,0.0,0.5714720122682767,0.3737560061341383,0.8909352142110762,1.764926049438197],[0.0,0.0,0.0,0.0,0.5714720122682767,0.3737560061341383,0.0,2.3532347325842626]],[[0.0,0.0,0.0,0.0,0.8572080184024149,0.18687800306706914,3.563740856844305,0.0],[0.0,0.0,0.0,0.0,0.8572080184024149,0.18687800306706914,2.672805642633229,0.5883086831460657],[0.0,0.0,0.0,0.0,0.8572080184024149,0.18687800306706914,1.7818704284221525,1.1766173662921313],[0.0,0.0,0.0,0.0,0.8572080184024149,0.18687800306706914,0.8909352142110762,1.764926049438197],[0.0,0.0,0.0,0.0,0.8572080184024149,0.18687800306706914,0.0,2.3532347325842626]],[[0.0,0.0,0.0,0.0,1.1429440245365534,0.0,3.563740856844305,0.0],[0.0,0.0,0.0,0.0,1.1429440245365534,0.0,2.672805642633229,0.5883086831460657],[0.0,0.0,0.0,0.0,1.1429440245365534,0.0,1.7818704284221525,1.1766173662921313],[0.0,0.0,0.0,0.0,1.1429440245365534,0.0,0.8909352142110762,1.764926049438197],[0.0,0.0,0.0,0.0,1.1429440245365534,0.0,0.0,2.3532347325842626]]],[[[0.0,0.0,0.0,0.0,0.0,1.4950240245365531,2.3758272378962033,0.0],[0.0,0.0,0.0,0.0,0.0,1.4950240245365531,1.7818704284221525,0.3922057887640438],[0.0,0.0,0.0,0.0,0.0,1.4950240245365531,1.1879136189481017,0.7844115775280875],[0.0,0.0,0.0,0.0,0.0,1.4950240245365531,0.5939568094740508,1.1766173662921313],[0.0,0.0,0.0,0.0,0.0,1.4950240245365531,0.0,1.568823155056175]],[[0.0,0.0,0.0,0.0,0.5714720122682767,1.1212680184024146,2.3758272378962033,0.0],[0.0,0.0,0.0,0.0,0.5714720122682767,1.1212680184024146,1.7818704284221525,0.3922057887640438],[0.0,0.0,0.0,0.0,0.5714720122682767,1.1212680184024146,1.1879136189481017,0.7844115775280875],[0.0,0.0,0.0,0.0,0.5714720122682767,1.1212680184024146,0.5939568094740508,1.1766173662921313],[0.0,0.0,0.0,0.0,0.5714720122682767,1.1212680184024146,0.0,1.568823155056175]],[[0.0,0.0,0.0,0.0,1.1429440245365534,0.7475120122682766,2.3758272378962033,0.0],[0.0,0.0,0.0,0.0,1.1429440245365534,0.7475120122682766,1.7818704284221525,0.3922057887640438],[0.0,0.0,0.0,0.0,1.1429440245365534,0.7475120122682766,1.1879136189481017,0.7844115775280875],[0.0,0.0,0.0,0.0,1.1429440245365534,0.7475120122682766,0.5939568094740508,1.1766173662921313],[0.0,0.0,0.0,0.0,1.1429440245365534,0.7475120122682766,0.0,1.568823155056175]],[[0.0,0.0,0.0,0.0,1.7144160368048298,0.3737560061341383,2.3758272378962033,0.0],[0.0,0.0,0.0,0.0,1.7144160368048298,0.3737560061341383,1.7818704284221525,0.3922057887640438],[0.0,0.0,0.0,0.0,1.7144160368048298,0.3737560061341383,1.1879136189481017,0.7844115775280875],[0.0,0.0,0.0,0.0,1.7144160368048298,0.3737560061341383,0.5939568094740508,1.1766173662921313],[0.0,0.0,0.0,0.0,1.7144160368048298,0.3737560061341383,0.0,1.568823155056175]],[[0.0,0.0,0.0,0.0,2.285888049073107,0.0,2.3758272378962033,0.0],[0.0,0.0,0.0,0.0,2.285888049073107,0.0,1.7818704284221525,0.3922057887640438],[0.0,0.0,0.0,0.0,2.285888049073107,0.0,1.1879136189481017,0.7844115775280875],[0.0,0.0,0.0,0.0,2.285888049073107,0.0,0.5939568094740508,1.1766173662921313],[0.0,0.0,0.0,0.0,2.285888049073107,0.0,0.0,1.568823155056175]]],[[[0.0,0.0,0.0,0.0,0.0,2.2425360368048293,1.1879136189481017,0.0],[0.0,0.0,0.0,0.0,0.0,2.2425360368048293,0.8909352142110762,0.1961028943820219],[0.0,0.0,0.0,0.0,0.0,2.2425360368048293,0.5939568094740508,0.3922057887640438],[0.0,0.0,0.0,0.0,0.0,2.2425360368048293,0.2969784047370254,0.5883086831460657],[0.0,0.0,0.0,0.0,0.0,2.2425360368048293,0.0,0.7844115775280875]],[[0.0,0.0,0.0,0.0,0.8572080184024149,1.6819020276036223,1.1879136189481017,0.0],[0.0,0.0,0.0,0.0,0.8572080184024149,1.6819020276036223,0.8909352142110762,0.1961028943820219],[0.0,0.0,0.0,0.0,0.8572080184024149,1.6819020276036223,0.5939568094740508,0.3922057887640438],[0.0,0.0,0.0,0.0,0.8572080184024149,1.6819020276036223,0.2969784047370254,0.5883086831460657],[0.0,0.0,0.0,0.0,0.8572080184024149,1.6819020276036223,0.0,0.7844115775280875]],[[0.0,0.0,0.0,0.0,1.7144160368048298,1.1212680184024146,1.1879136189481017,0.0],[0.0,0.0,0.0,0.0,1.7144160368048298,1.1212680184024146,0.8909352142110762,0.1961028943820219],[0.0,0.0,0.0,0.0,1.7144160368048298,1.1212680184024146,0.5939568094740508,0.3922057887640438],[0.0,0.0,0.0,0.0,1.7144160368048298,1.1212680184024146,0.2969784047370254,0.5883086831460657],[0.0,0.0,0.0,0.0,1.7144160368048298,1.1212680184024146,0.0,0.7844115775280875]],[[0.0,0.0,0.0,0.0,2.571624055207245,0.5606340092012073,1.1879136189481017,0.0],[0.0,0.0,0.0,0.0,2.571624055207245,0.5606340092012073,0.8909352142110762,0.1961028943820219],[0.0,0.0,0.0,0.0,2.571624055207245,0.5606340092012073,0.5939568094740508,0.3922057887640438],[0.0,0.0,0.0,0.0,2.571624055207245,0.5606340092012073,0.2969784047370254,0.5883086831460657],[0.0,0.0,0.0,0.0,2.571624055207245,0.5606340092012073,0.0,0.7844115775280875]],[[0.0,0.0,0.0,0.0,3.4288320736096596,0.0,1.1879136189481017,0.0],[0.0,0.0,0.0,0.0,3.4288320736096596,0.0,0.8909352142110762,0.1961028943820219],[0.0,0.0,0.0,0.0,3.4288320736096596,0.0,0.5939568094740508,0.3922057887640438],[0.0,0.0,0.0,0.0,3.4288320736096596,0.0,0.2969784047370254,0.5883086831460657],[0.0,0.0,0.0,0.0,3.4288320736096596,0.0,0.0,0.7844115775280875]]],[[[0.0,0.0,0.0,0.0,0.0,2.9900480490731063,0.0,0.0],[0.0,0.0,0.0,0.0,0.0,2.9900480490731063,0.0,0.0],[0.0,0.0,0.0,0.0,0.0,2.9900480490731063,0.0,0.0],[0.0,0.0,0.0,0.0,0.0,2.9900480490731063,0.0,0.0],[0.0,0.0,0.0,0.0,0.0,2.9900480490731063,0.0,0.0]],[[0.0,0.0,0.0,0.0,1.1429440245365534,2.2425360368048293,0.0,0.0],[0.0,0.0,0.0,0.0,1.1429440245365534,2.2425360368048293,0.0,0.0],[0.0,0.0,0.0,0.0,1.1429440245365534,2.2425360368048293,0.0,0.0],[0.0,0.0,0.0,0.0,1.1429440245365534,2.2425360368048293,0.0,0.0],[0.0,0.0,0.0,0.0,1.1429440245365534,2.2425360368048293,0.0,0.0]],[[0.0,0.0,0.0,0.0,2.285888049073107,1.4950240245365531,0.0,0.0],[0.0,0.0,0.0,0.0,2.285888049073107,1.4950240245365531,0.0,0.0],[0.0,0.0,0.0,0.0,2.285888049073107,1.4950240245365531,0.0,0.0],[0.0,0.0,0.0,0.0,2.285888049073107,1.4950240245365531,0.0,0.0],[0.0,0.0,0.0,0.0,2.285888049073107,1.4950240245365531,0.0,0.0]],[[0.0,0.0,0.0,0.0,3.4288320736096596,0.7475120122682766,0.0,0.0],[0.0,0.0,0.0,0.0,3.4288320736096596,0.7475120122682766,0.0,0.0],[0.0,0.0,0.0,0.0,3.4288320736096596,0.7475120122682766,0.0,0.0],[0.0,0.0,0.0,0.0,3.4288320736096596,0.7475120122682766,0.0,0.0],[0.0,0.0,0.0,0.0,3.4288320736096596,0.7475120122682766,0.0,0.0]],[[0.0,0.0,0.0,0.0,4.571776098146214,0.0,0.0,0.0],[0.0,0.0,0.0,0.0,4.571776098146214,0.0,0.0,0.0],[0.0,0.0,0.0,0.0,4.571776098146214,0.0,0.0,0.0],[0.0,0.0,0.0,0.0,4.571776098146214,0.0,0.0,0.0],[0.0,0.0,0.0,0.0,4.571776098146214,0.0,0.0,0.0]]]]],[[[[[0.0,0.0,4.8,0.0,0.0,0.0,0.0,0.0],[0.0,0.0,3.6,0.801025641025641,0.0,0.0,0.0,0.0],[0.0,0.0,2.4,1.602051282051282,0.0,0.0,0.0,0.0],[0.0,0.0,1.2,2.403076923076923,0.0,0.0,0.0,0.0],[0.0,0.0,0.0,3.204102564102564,0.0,0.0,0.0,0.0]],[[0.0,0.0,4.8,0.0,0.0,0.0,0.0,0.0],[0.0,0.0,3.6,0.801025641025641,0.0,0.0,0.0,0.0],[0.0,0.0,2.4,1.602051282051282,0.0,0.0,0.0,0.0],[0.0,0.0,1.2,2.403076923076923,0.0,0.0,0.0,0.0],[0.0,0.0,0.0,3.204102564102564,0.0,0.0,0.0,0.0]],[[0.0,0.0,4.8,0.0,0.0,0.0,0.0,0.0],[0.0,0.0,3.6,0.801025641025641,0.0,0.0,0.0,0.0],[0.0,0.0,2.4,1.602051282051282,0.0,0.0,0.0,0.0],[0.0,0.0,1.2,2.403076923076923,0.0,0.0,0.0,0.0],[0.0,0.0,0.0,3.204102564102564,0.0,0.0,0.0,0.0]],[[0.0,0.0,4.8,0.0,0.0,0.0,0.0,0.0],[0.0,0.0,3.6,0.801025641025641,0.0,0.0,0.0,0.0],[0.0,0.0,2.4,1.602051282051282,0.0,0.0,0.0,0.0],[0.0,0.0,1.2,2.403076923076923,0.0,0.0,0.0,0.0],[0.0,0.0,0.0,3.204102564102564,0.0,0.0,0.0,0.0]],[[0.0,0.0,4.8,0.0,0.0,0.0,0.0,0.0],[0.0,0.0,3.6,0.801025641025641,0.0,0.0,0.0,0.0],[0.0,0.0,2.4,1.602051282051282,0.0,0.0,0.0,0.0],[0.0,0.0,1.2,2.403076923076923,0.0,0.0,0.0,0.0],[0.0,0.0,0.0,3.204102564102564,0.0,0.0,0.0,0.0]]],[[[0.0,0.75,3.6,0.0,0.0,0.0,0.0,0.0],[0.0,0.75,2.7,0.6007692307692307,0.0,0.0,0.0,0.0],[0.0,0.75,1.8,1.2015384615384614,0.0,0.0,0.0,0.0],[0.0,0.75,0.9,1.8023076923076922,0.0,0.0,0.0,0.0],[0.0,0.75,0.0,2.403076923076923,0.0,0.0,0.0,0.0]],[[0.289775,0.5625,3.6,0.0,0.0,0.0,0.0,0.0],[0.289775,0.5625,2.7,0.6007692307692307,0.0,0.0,0.0,0.0],[0.289775,0.5625,1.8,1.2015384615384614,0.0,0.0,0.0,0.0],[0.289775,0.5625,0.9,1.8023076923076922,0.0,0.0,0.0,0.0],[0.289775,0.5625,0.0,2.403076923076923,0.0,0.0,0.0,0.0]],[[0.57955,0.375,3.6,0.0,0.0,0.0,0.0,0.0],[0.57955,0.375,2.7,0.6007692307692307,0.0,0.0,0.0,0.0],[0.57955,0.375,1.8,1.2015384615384614,0.0,0.0,0.0,0.0],[0.57955,0.375,0.9,1.8023076923076922,0.0,0.0,0.0,0.0],[0.57955,0.375,0.0,2.403076923076923,0.0,0.0,0.0,0.0]],[[0.8693250000000001,0.1875,3.6,0.0,0.0,0.0,0.0,0.0],[0.8693250000000001,0.1875,2.7,0.6007692307692307,0.0,0.0,0.0,0.0],[0.8693250000000001,0.1875,1.8,1.2015384615384614,0.0,0.0,0.0,0.0],[0.8693250000000001,0.1875,0.9,1.8023076923076922,0.0,0.0,0.0,0.0],[0.8693250000000001,0.1875,0.0,2.403076923076923,0.0,0.0,0.0,0.0]],[[1.1591,0.0,3.6,0.0,0.0,0.0,0.0,0.0],[1.1591,0.0,2.7,0.6007692307692307,0.0,0.0,0.0,0.0],[1.1591,0.0,1.8,1.2015384615384614,0.0,0.0,0.0,0.0],[1.1591,0.0,0.9,1.8023076923076922,0.0,0.0,0.0,0.0],[1.1591,0.0,0.0,2.403076923076923,0.0,0.0,0.0,0.0]]],[[[0.0,1.5,2.4,0.0,0.0,0.0,0.0,0.0],[0.0,1.5,1.8,0.4005128205128205,0.0,0.0,0.0,0.0],[0.0,1.5,1.2,0.801025641025641,0.0,0.0,0.0,0.0],[0.0,1.5,0.6,1.2015384615384614,0.0,0.0,0.0,0.0],[0.0,1.5,0.0,1.602051282051282,0.0,0.0,0.0,0.0]],[[0.57955,1.125,2.4,0.0,0.0,0.0,0.0,0.0],[0.57955,1.125,1.8,0.4005128205128205,0.0,0.0,0.0,0.0],[0.57955,1.125,1.2,0.801025641025641,0.0,0.0,0.0,0.0],[0.57955,1.125,0.6,1.2015384615384614,0.0,0.0,0.0,0.0],[0.57955,1.125,0.0,1.602051282051282,0.0,0.0,0.0,0.0]],[[1.1591,0.75,2.4,0.0,0.0,0.0,0.0,0.0],[1.1591,0.75,1.8,0.4005128205128205,0.0,0.0,0.0,0.0],[1.1591,0.75,1.2,0.801025641025641,0.0,0.0,0.0,0.0],[1.1591,0.75,0.6,1.2015384615384614,0.0,0.0,0.0,0.0],[1.1591,0.75,0.0,1.602051282051282,0.0,0.0,0.0,0.0]],[[1.7386500000000003,0.375,2.4,0.0,0.0,0.0,0.0,0.0],[1.7386500000000003,0.375,1.8,0.4005128205128205,0.0,0.0,0.0,0.0],[1.7386500000000003,0.375,1.2,0.801025641025641,0.0,0.0,0.0,0.0],[1.7386500000000003,0.375,0.6,1.2015384615384614,0.0,0.0,0.0,0.0],[1.7386500000000003,0.375,0.0,1.602051282051282,0.0,0.0,0.0,0.0]],[[2.3182,0.0,2.4,0.0,0.0,0.0,0.0,0.0],[2.3182,0.0,1.8,0.4005128205128205,0.0,0.0,0.0,0.0],[2.3182,0.0,1.2,0.801025641025641,0.0,0.0,0.0,0.0],[2.3182,0.0,0.6,1.2015384615384614,0.0,0.0,0.0,0.0],[2.3182,0.0,0.0,1.602051282051282,0.0,0.0,0.0,0.0]]],[[[0.0,2.25,1.2,0.0,0.0,0.0,0.0,0.0],[0.0,2.25,0.9,0.20025641025641025,0.0,0.0,0.0,0.0],[0.0,2.25,0.6,0.4005128205128205,0.0,0.0,0.0,0.0],[0.0,2.25,0.3,0.6007692307692307,0.0,0.0,0.0,0.0],[0.0,2.25,0.0,0.801025641025641,0.0,0.0,0.0,0.0]],[[0.8693250000000001,1.6875,1.2,0.0,0.0,0.0,0.0,0.0],[0.8693250000000001,1.6875,0.9,0.20025641025641025,0.0,0.0,0.0,0.0],[0.8693250000000001,1.6875,0.6,0.4005128205128205,0.0,0.0,0.0,0.0],[0.8693250000000001,1.6875,0.3,0.6007692307692307,0.0,0.0,0.0,0.0],[0.8693250000000001,1.6875,0.0,0.801025641025641,0.0,0.0,0.0,0.0]],[[1.7386500000000003,1.125,1.2,0.0,0.0,0.0,0.0,0.0],[1.7386500000000003,1.125,0.9,0.20025641025641025,0.0,0.0,0.0,0.0],[1.7386500000000003,1.125,0.6,0.4005128205128205,0.0,0.0,0.0,0.0],[1.7386500000000003,1.125,0.3,0.6007692307692307,0.0,0.0,0.0,0.0],[1.7386500000000003,1.125,0.0,0.801025641025641,0.0,0.0,0.0,0.0]],[[2.6079749999999997,0.5625,1.2,0.0,0.0,0.0,0.0,0.0],[2.6079749999999997,0.5625,0.9,0.20025641025641025,0.0,0.0,0.0,0.0],[2.6079749999999997,0.5625,0.6,0.4005128205128205,0.0,0.0,0.0,0.0],[2.6079749999999997,0.5625,0.3,0.6007692307692307,0.0,0.0,0.0,0.0],[2.6079749999999997,0.5625,0.0,0.801025641025641,0.0,0.0,0.0,0.0]],[[3.4773000000000005,0.0,1.2,0.0,0.0,0.0,0.0,0.0],[3.4773000000000005,0.0,0.9,0.20025641025641025,0.0,0.0,0.0,0.0],[3.4773000000000005,0.0,0.6,0.4005128205128205,0.0,0.0,0.0,0.0],[3.4773000000000005,0.0,0.3,0.6007692307692307,0.0,0.0,0.0,0.0],[3.4773000000000005,0.0,0.0,0.801025641025641,0.0,0.0,0.0,0.0]]],[[[0.0,3.0,0.0,0.0,0.0,0.0,0.0,0.0],[0.0,3.0,0.0,0.0,0.0,0.0,0.0,0.0],[0.0,3.0,0.0,0.0,0.0,0.0,0.0,0.0],[0.0,3.0,0.0,0.0,0.0,0.0,0.0,0.0],[0.0,3.0,0.0,0.0,0.0,0.0,0.0,0.0]],[[1.1591,2.25,0.0,0.0,0.0,0.0,0.0,0.0],[1.1591,2.25,0.0,0.0,0.0,0.0,0.0,0.0],[1.1591,2.25,0.0,0.0,0.0,0.0,0.0,0.0],[1.1591,2.25,0.0,0.0,0.0,0.0,0.0,0.0],[1.1591,2.25,0.0,0.0,0.0,0.0,0.0,0.0]],[[2.3182,1.5,0.0,0.0,0.0,0.0,0.0,0.0],[2.3182,1.5,0.0,0.0,0.0,0.0,0.0,0.0],[2.3182,1.5,0.0,0.0,0.0,0.0,0.0,0.0],[2.3182,1.5,0.0,0.0,0.0,0.0,0.0,0.0],[2.3182,1.5,0.0,0.0,0.0,0.0,0.0,0.0]],[[3.4773000000000005,0.75,0.0,0.0,0.0,0.0,0.0,0.0],[3.4773000000000005,0.75,0.0,0.0,0.0,0.0,0.0,0.0],[3.4773000000000005,0.75,0.0,0.0,0.0,0.0,0.0,0.0],[3.4773000000000005,0.75,0.0,0.0,0.0,0.0,0.0,0.0],[3.4773000000000005,0.75,0.0,0.0,0.0,0.0,0.0,0.0]],[[4.6364,0.0,0.0,0.0,0.0,0.0,0.0,0.0],[4.6364,0.0,0.0,0.0,0.0,0.0,0.0,0.0],[4.6364,0.0,0.0,0.0,0.0,0.0,0.0,0.0],[4.6364,0.0,0.0,0.0,0.0,0.0,0.0,0.0],[4.6364,0.0,0.0,0.0,0.0,0.0,0.0,0.0]]]],[[[[0.0,0.0,3.5999999999999996,0.0,0.0,0.0,1.1949330261404911,0.0],[0.0,0.0,2.7,0.6007692307692307,0.0,0.0,0.8961997696053685,0.19927937626441863],[0.0,0.0,1.7999999999999998,1.2015384615384614,0.0,0.0,0.5974665130702456,0.39855875252883727],[0.0,0.0,0.8999999999999999,1.8023076923076922,0.0,0.0,0.2987332565351228,0.5978381287932559],[0.0,0.0,0.0,2.403076923076923,0.0,0.0,0.0,0.7971175050576745]],[[0.0,0.0,3.5999999999999996,0.0,0.0,0.0,1.1949330261404911,0.0],[0.0,0.0,2.7,0.6007692307692307,0.0,0.0,0.8961997696053685,0.19927937626441863],[0.0,0.0,1.7999999999999998,1.2015384615384614,0.0,0.0,0.5974665130702456,0.39855875252883727],[0.0,0.0,0.8999999999999999,1.8023076923076922,0.0,0.0,0.2987332565351228,0.5978381287932559],[0.0,0.0,0.0,2.403076923076923,0.0,0.0,0.0,0.7971175050576745]],[[0.0,0.0,3.5999999999999996,0.0,0.0,0.0,1.1949330261404911,0.0],[0.0,0.0,2.7,0.6007692307692307,0.0,0.0,0.8961997696053685,0.19927937626441863],[0.0,0.0,1.7999999999999998,1.2015384615384614,0.0,0.0,0.5974665130702456,0.39855875252883727],[0.0,0.0,0.8999999999999999,1.8023076923076922,0.0,0.0,0.2987332565351228,0.5978381287932559],[0.0,0.0,0.0,2.403076923076923,0.0,0.0,0.0,0.7971175050576745]],[[0.0,0.0,3.5999999999999996,0.0,0.0,0.0,1.1949330261404911,0.0],[0.0,0.0,2.7,0.6007692307692307,0.0,0.0,0.8961997696053685,0.19927937626441863],[0.0,0.0,1.7999999999999998,1.2015384615384614,0.0,0.0,0.5974665130702456,0.39855875252883727],[0.0,0.0,0.8999999999999999,1.8023076923076922,0.0,0.0,0.2987332565351228,0.5978381287932559],[0.0,0.0,0.0,2.403076923076923,0.0,0.0,0.0,0.7971175050576745]],[[0.0,0.0,3.5999999999999996,0.0,0.0,0.0,1.1949330261404911,0.0],[0.0,0.0,2.7,0.6007692307692307,0.0,0.0,0.8961997696053685,0.19927937626441863],[0.0,0.0,1.7999999999999998,1.2015384615384614,0.0,0.0,0.5974665130702456,0.39855875252883727],[0.0,0.0,0.8999999999999999,1.8023076923076922,0.0,0.0,0.2987332565351228,0.5978381287932559],[0.0,0.0,0.0,2.403076923076923,0.0,0.0,0.0,0.7971175050576745]]],[[[0.0,0.5625,2.7,0.0,0.0,0.18764093523329828,0.8961997696053685,0.0],[0.0,0.5625,2.0250000000000004,0.45057692307692304,0.0,0.18764093523329828,0.6721498272040264,0.14945953219831398],[0.0,0.5625,1.35,0.9011538461538461,0.0,0.18764093523329828,0.44809988480268426,0.29891906439662796],[0.0,0.5625,0.675,1.3517307692307692,0.0,0.18764093523329828,0.22404994240134213,0.4483785965949419],[0.0,0.5625,0.0,1.8023076923076922,0.0,0.18764093523329828,0.0,0.5978381287932559]],[[0.21733125,0.421875,2.7,0.0,0.07251421761664914,0.1407307014249737,0.8961997696053685,0.0],[0.21733125,0.421875,2.0250000000000004,0.45057692307692304,0.07251421761664914,0.1407307014249737,0.6721498272040264,0.14945953219831398],[0.21733125,0.421875,1.35,0.9011538461538461,0.07251421761664914,0.1407307014249737,0.44809988480268426,0.29891906439662796],[0.21733125,0.421875,0.675,1.3517307692307692,0.07251421761664914,0.1407307014249737,0.22404994240134213,0.4483785965949419],[0.21733125,0.421875,0.0,1.8023076923076922,0.07251421761664914,0.1407307014249737,0.0,0.5978381287932559]],[[0.4346625,0.28125,2.7,0.0,0.14502843523329828,0.09382046761664914,0.8961997696053685,0.0],[0.4346625,0.28125,2.0250000000000004,0.45057692307692304,0.14502843523329828,0.09382046761664914,0.6721498272040264,0.14945953219831398],[0.4346625,0.28125,1.35,0.9011538461538461,0.14502843523329828,0.09382046761664914,0.44809988480268426,0.29891906439662796],[0.4346625,0.28125,0.675,1.3517307692307692,0.14502843523329828,0.09382046761664914,0.22404994240134213,0.4483785965949419],[0.4346625,0.28125,0.0,1.8023076923076922,0.14502843523329828,0.09382046761664914,0.0,0.5978381287932559]],[[0.6519937500000001,0.140625,2.7,0.0,0.21754265284994745,0.04691023380832457,0.8961997696053685,0.0],[0.6519937500000001,0.140625,2.0250000000000004,0.45057692307692304,0.21754265284994745,0.04691023380832457,0.6721498272040264,0.14945953219831398],[0.6519937500000001,0.140625,1.35,0.9011538461538461,0.21754265284994745,0.04691023380832457,0.44809988480268426,0.29891906439662796],[0.6519937500000001,0.140625,0.675,1.3517307692307692,0.21754265284994745,0.04691023380832457,0.22404994240134213,0.4483785965949419],[0.6519937500000001,0.140625,0.0,1.8023076923076922,0.21754265284994745,0.04691023380832457,0.0,0.5978381287932559]],[[0.869325,0.0,2.7,0.0,0.29005687046659656,0.0,0.8961997696053685,0.0],[0.869325,0.0,2.0250000000000004,0.45057692307692304,0.29005687046659656,0.0,0.6721498272040264,0.14945953219831398],[0.869325,0.0,1.35,0.9011538461538461,0.29005687046659656,0.0,0.44809988480268426,0.29891906439662796],[0.869325,0.0,0.675,1.3517307692307692,0.29005687046659656,0.0,0.22404994240134213,0.4483785965949419],[0.869325,0.0,0.0,1.8023076923076922,0.29005687046659656,0.0,0.0,0.5978381287932559]]],[[[0.0,1.125,1.7999999999999998,0.0,0.0,0.37528187046659656,0.5974665130702456,0.0],[0.0,1.125,1.35,0.30038461538461536,0.0,0.37528187046659656,0.44809988480268426,0.09963968813220932],[0.0,1.125,0.8999999999999999,0.6007692307692307,0.0,0.37528187046659656,0.2987332565351228,0.19927937626441863],[0.0,1.125,0.44999999999999996,0.9011538461538461,0.0,0.37528187046659656,0.1493666282675614,0.29891906439662796],[0.0,1.125,0.0,1.2015384615384614,0.0,0.37528187046659656,0.0,0.39855875252883727]],[[0.4346625,0.84375,1.7999999999999998,0.0,0.14502843523329828,0.2814614028499474,0.5974665130702456,0.0],[0.4346625,0.84375,1.35,0.30038461538461536,0.14502843523329828,0.2814614028499474,0.44809988480268426,0.09963968813220932],[0.4346625,0.84375,0.8999999999999999,0.6007692307692307,0.14502843523329828,0.2814614028499474,0.2987332565351228,0.19927937626441863],[0.4346625,0.84375,0.44999999999999996,0.9011538461538461,0.14502843523329828,0.2814614028499474,0.1493666282675614,0.29891906439662796],[0.4346625,0.84375,0.0,1.2015384615384614,0.14502843523329828,0.2814614028499474,0.0,0.39855875252883727]],[[0.869325,0.5625,1.7999999999999998,0.0,0.29005687046659656,0.18764093523329828,0.5974665130702456,0.0],[0.869325,0.5625,1.35,0.30038461538461536,0.29005687046659656,0.18764093523329828,0.44809988480268426,0.09963968813220932],[0.869325,0.5625,0.8999999999999999,0.6007692307692307,0.29005687046659656,0.18764093523329828,0.2987332565351228,0.19927937626441863],[0.869325,0.5625,0.44999999999999996,0.9011538461538461,0.29005687046659656,0.18764093523329828,0.1493666282675614,0.29891906439662796],[0.869325,0.5625,0.0,1.2015384615384614,0.29005687046659656,0.18764093523329828,0.0,0.39855875252883727]],[[1.3039875000000003,0.28125,1.7999999999999998,0.0,0.4350853056998949,0.09382046761664914,0.5974665130702456,0.0],[1.3039875000000003,0.28125,1.35,0.30038461538461536,0.4350853056998949,0.09382046761664914,0.44809988480268426,0.09963968813220932],[1.3039875000000003,0.28125,0.8999999999999999,0.6007692307692307,0.4350853056998949,0.09382046761664914,0.2987332565351228,0.19927937626441863],[1.3039875000000003,0.28125,0.44999999999999996,0.9011538461538461,0.4350853056998949,0.09382046761664914,0.1493666282675614,0.29891906439662796],[1.3039875000000003,0.28125,0.0,1.2015384615384614,0.4350853056998949,0.09382046761664914,0.0,0.39855875252883727]],[[1.73865,0.0,1.7999999999999998,0.0,0.5801137409331931,0.0,0.5974665130702456,0.0],[1.73865,0.0,1.35,0.30038461538461536,0.5801137409331931,0.0,0.44809988480268426,0.09963968813220932],[1.73865,0.0,0.8999999999999999,0.6007692307692307,0.5801137409331931,0.0,0.2987332565351228,0.19927937626441863],[1.73865,0.0,0.44999999999999996,0.9011538461538461,0.5801137409331931,0.0,0.1493666282675614,0.29891906439662796],[1.73865,0.0,0.0,1.2015384615384614,0.5801137409331931,0.0,0.0,0.39855875252883727]]],[[[0.0,1.6875,0.8999999999999999,0.0,0.0,0.5629228056998948,0.2987332565351228,0.0],[0.0,1.6875,0.675,0.15019230769230768,0.0,0.5629228056998948,0.22404994240134213,0.04981984406610466],[0.0,1.6875,0.44999999999999996,0.30038461538461536,0.0,0.5629228056998948,0.1493666282675614,0.09963968813220932],[0.0,1.6875,0.22499999999999998,0.45057692307692304,0.0,0.5629228056998948,0.0746833141337807,0.14945953219831398],[0.0,1.6875,0.0,0.6007692307692307,0.0,0.5629228056998948,0.0,0.19927937626441863]],[[0.6519937500000001,1.265625,0.8999999999999999,0.0,0.21754265284994745,0.4221921042749211,0.2987332565351228,0.0],[0.6519937500000001,1.265625,0.675,0.15019230769230768,0.21754265284994745,0.4221921042749211,0.22404994240134213,0.04981984406610466],[0.6519937500000001,1.265625,0.44999999999999996,0.30038461538461536,0.21754265284994745,0.4221921042749211,0.1493666282675614,0.09963968813220932],[0.6519937500000001,1.265625,0.22499999999999998,0.45057692307692304,0.21754265284994745,0.4221921042749211,0.0746833141337807,0.14945953219831398],[0.6519937500000001,1.265625,0.0,0.6007692307692307,0.21754265284994745,0.4221921042749211,0.0,0.19927937626441863]],[[1.3039875000000003,0.84375,0.8999999999999999,0.0,0.4350853056998949,0.2814614028499474,0.2987332565351228,0.0],[1.3039875000000003,0.84375,0.675,0.15019230769230768,0.4350853056998949,0.2814614028499474,0.22404994240134213,0.04981984406610466],[1.3039875000000003,0.84375,0.44999999999999996,0.30038461538461536,0.4350853056998949,0.2814614028499474,0.1493666282675614,0.09963968813220932],[1.3039875000000003,0.84375,0.22499999999999998,0.45057692307692304,0.4350853056998949,0.2814614028499474,0.0746833141337807,0.14945953219831398],[1.3039875000000003,0.84375,0.0,0.6007692307692307,0.4350853056998949,0.2814614028499474,0.0,0.19927937626441863]],[[1.9559812499999998,0.421875,0.8999999999999999,0.0,0.6526279585498422,0.1407307014249737,0.2987332565351228,0.0],[1.9559812499999998,0.421875,0.675,0.15019230769230768,0.6526279585498422,0.1407307014249737,0.22404994240134213,0.04981984406610466],[1.9559812499999998,0.421875,0.44999999999999996,0.30038461538461536,0.6526279585498422,0.1407307014249737,0.1493666282675614,0.09963968813220932],[1.9559812499999998,0.421875,0.22499999999999998,0.45057692307692304,0.6526279585498422,0.1407307014249737,0.0746833141337807,0.14945953219831398],[1.9559812499999998,0.421875,0.0,0.6007692307692307,0.6526279585498422,0.1407307014249737,0.0,0.19927937626441863]],[[2.6079750000000006,0.0,0.8999999999999999,0.0,0.8701706113997898,0.0,0.2987332565351228,0.0],[2.6079750000000006,0.0,0.675,0.15019230769230768,0.8701706113997898,0.0,0.22404994240134213,0.04981984406610466],[2.6079750000000006,0.0,0.44999999999999996,0.30038461538461536,0.8701706113997898,0.0,0.1493666282675614,0.09963968813220932],[2.6079750000000006,0.0,0.22499999999999998,0.45057692307692304,0.8701706113997898,0.0,0.0746833141337807,0.14945953219831398],[2.6079750000000006,0.0,0.0,0.6007692307692307,0.8701706113997898,0.0,0.0,0.19927937626441863]]],[[[0.0,2.25,0.0,0.0,0.0,0.7505637409331931,0.0,0.0],[0.0,2.25,0.0,0.0,0.0,0.7505637409331931,0.0,0.0],[0.0,2.25,0.0,0.0,0.0,0.7505637409331931,0.0,0.0],[0.0,2.25,0.0,0.0,0.0,0.7505637409331931,0.0,0.0],[0.0,2.25,0.0,0.0,0.0,0.7505637409331931,0.0,0.0]],[[0.869325,1.6875,0.0,0.0,0.29005687046659656,0.5629228056998948,0.0,0.0],[0.869325,1.6875,0.0,0.0,0.29005687046659656,0.5629228056998948,0.0,0.0],[0.869325,1.6875,0.0,0.0,0.29005687046659656,0.5629228056998948,0.0,0.0],[0.869325,1.6875,0.0,0.0,0.29005687046659656,0.5629228056998948,0.0,0.0],[0.869325,1.6875,0.0,0.0,0.29005687046659656,0.5629228056998948,0.0,0.0]],[[1.73865,1.125,0.0,0.0,0.5801137409331931,0.37528187046659656,0.0,0.0],[1.73865,1.125,0.0,0.0,0.5801137409331931,0.37528187046659656,0.0,0.0],[1.73865,1.125,0.0,0.0,0.5801137409331931,0.37528187046659656,0.0,0.0],[1.73865,1.125,0.0,0.0,0.5801137409331931,0.37528187046659656,0.0,0.0],[1.73865,1.125,0.0,0.0,0.5801137409331931,0.37528187046659656,0.0,0.0]],[[2.6079750000000006,0.5625,0.0,0.0,0.8701706113997898,0.18764093523329828,0.0,0.0],[2.6079750000000006,0.5625,0.0,0.0,0.8701706113997898,0.18764093523329828,0.0,0.0],[2.6079750000000006,0.5625,0.0,0.0,0.8701706113997898,0.18764093523329828,0.0,0.0],[2.6079750000000006,0.5625,0.0,0.0,0.8701706113997898,0.18764093523329828,0.0,0.0],[2.6079750000000006,0.5625,0.0,0.0,0.8701706113997898,0.18764093523329828,0.0,0.0]],[[3.4773,0.0,0.0,0.0,1.1602274818663862,0.0,0.0,0.0],[3.4773,0.0,0.0,0.0,1.1602274818663862,0.0,0.0,0.0],[3.4773,0.0,0.0,0.0,1.1602274818663862,0.0,0.0,0.0],[3.4773,0.0,0.0,0.0,1.1602274818663862,0.0,0.0,0.0],[3.4773,0.0,0.0,0.0,1.1602274818663862,0.0,0.0,0.0]]]],[[[[0.0,0.0,2.4,0.0,0.0,0.0,2.3898660522809823,0.0],[0.0,0.0,1.8,0.4005128205128205,0.0,0.0,1.792399539210737,0.39855875252883727],[0.0,0.0,1.2,0.801025641025641,0.0,0.0,1.1949330261404911,0.7971175050576745],[0.0,0.0,0.6,1.2015384615384614,0.0,0.0,0.5974665130702456,1.1956762575865119],[0.0,0.0,0.0,1.602051282051282,0.0,0.0,0.0,1.594235010115349]],[[0.0,0.0,2.4,0.0,0.0,0.0,2.3898660522809823,0.0],[0.0,0.0,1.8,0.4005128205128205,0.0,0.0,1.792399539210737,0.39855875252883727],[0.0,0.0,1.2,0.801025641025641,0.0,0.0,1.1949330261404911,0.7971175050576745],[0.0,0.0,0.6,1.2015384615384614,0.0,0.0,0.5974665130702456,1.1956762575865119],[0.0,0.0,0.0,1.602051282051282,0.0,0.0,0.0,1.594235010115349]],[[0.0,0.0,2.4,0.0,0.0,0.0,2.3898660522809823,0.0],[0.0,0.0,1.8,0.4005128205128205,0.0,0.0,1.792399539210737,0.39855875252883727],[0.0,0.0,1.2,0.801025641025641,0.0,0.0,1.1949330261404911,0.7971175050576745],[0.0,0.0,0.6,1.2015384615384614,0.0,0.0,0.5974665130702456,1.1956762575865119],[0.0,0.0,0.0,1.602051282051282,0.0,0.0,0.0,1.594235010115349]],[[0.0,0.0,2.4,0.0,0.0,0.0,2.3898660522809823,0.0],[0.0,0.0,1.8,0.4005128205128205,0.0,0.0,1.792399539210737,0.39855875252883727],[0.0,0.0,1.2,0.801025641025641,0.0,0.0,1.1949330261404911,0.7971175050576745],[0.0,0.0,0.6,1.2015384615384614,0.0,0.0,0.5974665130702456,1.1956762575865119],[0.0,0.0,0.0,1.602051282051282,0.0,0.0,0.0,1.594235010115349]],[[0.0,0.0,2.4,0.0,0.0,0.0,2.3898660522809823,0.0],[0.0,0.0,1.8,0.4005128205128205,0.0,0.0,1.792399539210737,0.39855875252883727],[0.0,0.0,1.2,0.801025641025641,0.0,0.0,1.1949330261404911,0.7971175050576745],[0.0,0.0,0.6,1.2015384615384614,0.0,0.0,0.5974665130702456,1.1956762575865119],[0.0,0.0,0.0,1.602051282051282,0.0,0.0,0.0,1.594235010115349]]],[[[0.0,0.375,1.8,0.0,0.0,0.37528187046659656,1.792399539210737,0.0],[0.0,0.375,1.35,0.30038461538461536,0.0,0.37528187046659656,1.3442996544080528,0.29891906439662796],[0.0,0.375,0.9,0.6007692307692307,0.0,0.37528187046659656,0.8961997696053685,0.5978381287932559],[0.0,0.375,0.45,0.9011538461538461,0.0,0.37528187046659656,0.44809988480268426,0.8967571931898838],[0.0,0.375,0.0,1.2015384615384614,0.0,0.37528187046659656,0.0,1.1956762575865119]],[[0.1448875,0.28125,1.8,0.0,0.14502843523329828,0.2814614028499474,1.792399539210737,0.0],[0.1448875,0.28125,1.35,0.30038461538461536,0.14502843523329828,0.2814614028499474,1.3442996544080528,0.29891906439662796],[0.1448875,0.28125,0.9,0.6007692307692307,0.14502843523329828,0.2814614028499474,0.8961997696053685,0.5978381287932559],[0.1448875,0.28125,0.45,0.9011538461538461,0.14502843523329828,0.2814614028499474,0.44809988480268426,0.8967571931898838],[0.1448875,0.28125,0.0,1.2015384615384614,0.14502843523329828,0.2814614028499474,0.0,1.1956762575865119]],[[0.289775,0.1875,1.8,0.0,0.29005687046659656,0.18764093523329828,1.792399539210737,0.0],[0.289775,0.1875,1.35,0.30038461538461536,0.29005687046659656,0.18764093523329828,1.3442996544080528,0.29891906439662796],[0.289775,0.1875,0.9,0.6007692307692307,0.29005687046659656,0.18764093523329828,0.8961997696053685,0.5978381287932559],[0.289775,0.1875,0.45,0.9011538461538461,0.29005687046659656,0.18764093523329828,0.44809988480268426,0.8967571931898838],[0.289775,0.1875,0.0,1.2015384615384614,0.29005687046659656,0.18764093523329828,0.0,1.1956762575865119]],[[0.43466250000000006,0.09375,1.8,0.0,0.4350853056998949,0.09382046761664914,1.792399539210737,0.0],[0.43466250000000006,0.09375,1.35,0.30038461538461536,0.4350853056998949,0.09382046761664914,1.3442996544080528,0.29891906439662796],[0.43466250000000006,0.09375,0.9,0.6007692307692307,0.4350853056998949,0.09382046761664914,0.8961997696053685,0.5978381287932559],[0.43466250000000006,0.09375,0.45,0.9011538461538461,0.4350853056998949,0.09382046761664914,0.44809988480268426,0.8967571931898838],[0.43466250000000006,0.09375,0.0,1.2015384615384614,0.4350853056998949,0.09382046761664914,0.0,1.1956762575865119]],[[0.57955,0.0,1.8,0.0,0.5801137409331931,0.0,1.792399539210737,0.0],[0.57955,0.0,1.35,0.30038461538461536,0.5801137409331931,0.0,1.3442996544080528,0.29891906439662796],[0.57955,0.0,0.9,0.6007692307692307,0.5801137409331931,0.0,0.8961997696053685,0.5978381287932559],[0.57955,0.0,0.45,0.9011538461538461,0.5801137409331931,0.0,0.44809988480268426,0.8967571931898838],[0.57955,0.0,0.0,1.2015384615384614,0.5801137409331931,0.0,0.0,1.1956762575865119]]],[[[0.0,0.75,1.2,0.0,0.0,0.7505637409331931,1.1949330261404911,0.0],[0.0,0.75,0.9,0.20025641025641025,0.0,0.7505637409331931,0.8961997696053685,0.19927937626441863],[0.0,0.75,0.6,0.4005128205128205,0.0,0.7505637409331931,0.5974665130702456,0.39855875252883727],[0.0,0.75,0.3,0.6007692307692307,0.0,0.7505637409331931,0.2987332565351228,0.5978381287932559],[0.0,0.75,0.0,0.801025641025641,0.0,0.7505637409331931,0.0,0.7971175050576745]],[[0.289775,0.5625,1.2,0.0,0.29005687046659656,0.5629228056998948,1.1949330261404911,0.0],[0.289775,0.5625,0.9,0.20025641025641025,0.29005687046659656,0.5629228056998948,0.8961997696053685,0.19927937626441863],[0.289775,0.5625,0.6,0.4005128205128205,0.29005687046659656,0.5629228056998948,0.5974665130702456,0.39855875252883727],[0.289775,0.5625,0.3,0.6007692307692307,0.29005687046659656,0.5629228056998948,0.2987332565351228,0.5978381287932559],[0.289775,0.5625,0.0,0.801025641025641,0.29005687046659656,0.5629228056998948,0.0,0.7971175050576745]],[[0.57955,0.375,1.2,0.0,0.5801137409331931,0.37528187046659656,1.1949330261404911,0.0],[0.57955,0.375,0.9,0.20025641025641025,0.5801137409331931,0.37528187046659656,0.8961997696053685,0.19927937626441863],[0.57955,0.375,0.6,0.4005128205128205,0.5801137409331931,0.37528187046659656,0.5974665130702456,0.39855875252883727],[0.57955,0.375,0.3,0.6007692307692307,0.5801137409331931,0.37528187046659656,0.2987332565351228,0.5978381287932559],[0.57955,0.375,0.0,0.801025641025641,0.5801137409331931,0.37528187046659656,0.0,0.7971175050576745]],[[0.8693250000000001,0.1875,1.2,0.0,0.8701706113997898,0.18764093523329828,1.1949330261404911,0.0],[0.8693250000000001,0.1875,0.9,0.20025641025641025,0.8701706113997898,0.18764093523329828,0.8961997696053685,0.19927937626441863],[0.8693250000000001,0.1875,0.6,0.4005128205128205,0.8701706113997898,0.18764093523329828,0.5974665130702456,0.39855875252883727],[0.8693250000000001,0.1875,0.3,0.6007692307692307,0.8701706113997898,0.18764093523329828,0.2987332565351228,0.5978381287932559],[0.8693250000000001,0.1875,0.0,0.801025641025641,0.8701706113997898,0.18764093523329828,0.0,0.7971175050576745]],[[1.1591,0.0,1.2,0.0,1.1602274818663862,0.0,1.1949330261404911,0.0],[1.1591,0.0,0.9,0.20025641025641025,1.1602274818663862,0.0,0.8961997696053685,0.19927937626441863],[1.1591,0.0,0.6,0.4005128205128205,1.1602274818663862,0.0,0.5974665130702456,0.39855875252883727],[1.1591,0.0,0.3,0.6007692307692307,1.1602274818663862,0.0,0.2987332565351228,0.5978381287932559],[1.1591,0.0,0.0,0.801025641025641,1.1602274818663862,0.0,0.0,0.7971175050576745]]],[[[0.0,1.125,0.6,0.0,0.0,1.1258456113997897,0.5974665130702456,0.0],[0.0,1.125,0.45,0.10012820512820512,0.0,1.1258456113997897,0.44809988480268426,0.09963968813220932],[0.0,1.125,0.3,0.20025641025641025,0.0,1.1258456113997897,0.2987332565351228,0.19927937626441863],[0.0,1.125,0.15,0.30038461538461536,0.0,1.1258456113997897,0.1493666282675614,0.29891906439662796],[0.0,1.125,0.0,0.4005128205128205,0.0,1.1258456113997897,0.0,0.39855875252883727]],[[0.43466250000000006,0.84375,0.6,0.0,0.4350853056998949,0.8443842085498422,0.5974665130702456,0.0],[0.43466250000000006,0.84375,0.45,0.10012820512820512,0.4350853056998949,0.8443842085498422,0.44809988480268426,0.09963968813220932],[0.43466250000000006,0.84375,0.3,0.20025641025641025,0.4350853056998949,0.8443842085498422,0.2987332565351228,0.19927937626441863],[0.43466250000000006,0.84375,0.15,0.30038461538461536,0.4350853056998949,0.8443842085498422,0.1493666282675614,0.29891906439662796],[0.43466250000000006,0.84375,0.0,0.4005128205128205,0.4350853056998949,0.8443842085498422,0.0,0.39855875252883727]],[[0.8693250000000001,0.5625,0.6,0.0,0.8701706113997898,0.5629228056998948,0.5974665130702456,0.0],[0.8693250000000001,0.5625,0.45,0.10012820512820512,0.8701706113997898,0.5629228056998948,0.44809988480268426,0.09963968813220932],[0.8693250000000001,0.5625,0.3,0.20025641025641025,0.8701706113997898,0.5629228056998948,0.2987332565351228,0.19927937626441863],[0.8693250000000001,0.5625,0.15,0.30038461538461536,0.8701706113997898,0.5629228056998948,0.1493666282675614,0.29891906439662796],[0.8693250000000001,0.5625,0.0,0.4005128205128205,0.8701706113997898,0.5629228056998948,0.0,0.39855875252883727]],[[1.3039874999999999,0.28125,0.6,0.0,1.3052559170996845,0.2814614028499474,0.5974665130702456,0.0],[1.3039874999999999,0.28125,0.45,0.10012820512820512,1.3052559170996845,0.2814614028499474,0.44809988480268426,0.09963968813220932],[1.3039874999999999,0.28125,0.3,0.20025641025641025,1.3052559170996845,0.2814614028499474,0.2987332565351228,0.19927937626441863],[1.3039874999999999,0.28125,0.15,0.30038461538461536,1.3052559170996845,0.2814614028499474,0.1493666282675614,0.29891906439662796],[1.3039874999999999,0.28125,0.0,0.4005128205128205,1.3052559170996845,0.2814614028499474,0.0,0.39855875252883727]],[[1.7386500000000003,0.0,0.6,0.0,1.7403412227995796,0.0,0.5974665130702456,0.0],[1.7386500000000003,0.0,0.45,0.10012820512820512,1.7403412227995796,0.0,0.44809988480268426,0.09963968813220932],[1.7386500000000003,0.0,0.3,0.20025641025641025,1.7403412227995796,0.0,0.2987332565351228,0.19927937626441863],[1.7386500000000003,0.0,0.15,0.30038461538461536,1.7403412227995796,0.0,0.1493666282675614,0.29891906439662796],[1.7386500000000003,0.0,0.0,0.4005128205128205,1.7403412227995796,0.0,0.0,0.39855875252883727]]],[[[0.0,1.5,0.0,0.0,0.0,1.5011274818663862,0.0,0.0],[0.0,1.5,0.0,0.0,0.0,1.5011274818663862,0.0,0.0],[0.0,1.5,0.0,0.0,0.0,1.5011274818663862,0.0,0.0],[0.0,1.5,0.0,0.0,0.0,1.5011274818663862,0.0,0.0],[0.0,1.5,0.0,0.0,0.0,1.5011274818663862,0.0,0.0]],[[0.57955,1.125,0.0,0.0,0.5801137409331931,1.1258456113997897,0.0,0.0],[0.57955,1.125,0.0,0.0,0.5801137409331931,1.1258456113997897,0.0,0.0],[0.57955,1.125,0.0,0.0,0.5801137409331931,1.1258456113997897,0.0,0.0],[0.57955,1.125,0.0,0.0,0.5801137409331931,1.1258456113997897,0.0,0.0],[0.57955,1.125,0.0,0.0,0.5801137409331931,1.1258456113997897,0.0,0.0]],[[1.1591,0.75,0.0,0.0,1.1602274818663862,0.7505637409331931,0.0,0.0],[1.1591,0.75,0.0,0.0,1.1602274818663862,0.7505637409331931,0.0,0.0],[1.1591,0.75,0.0,0.0,1.1602274818663862,0.7505637409331931,0.0,0.0],[1.1591,0.75,0.0,0.0,1.1602274818663862,0.7505637409331931,0.0,0.0],[1.1591,0.75,0.0,0.0,1.1602274818663862,0.7505637409331931,0.0,0.0]],[[1.7386500000000003,0.375,0.0,0.0,1.7403412227995796,0.37528187046659656,0.0,0.0],[1.7386500000000003,0.375,0.0,0.0,1.7403412227995796,0.37528187046659656,0.0,0.0],[1.7386500000000003,0.375,0.0,0.0,1.7403412227995796,0.37528187046659656,0.0,0.0],[1.7386500000000003,0.375,0.0,0.0,1.7403412227995796,0.37528187046659656,0.0,0.0],[1.7386500000000003,0.375,0.0,0.0,1.7403412227995796,0.37528187046659656,0.0,0.0]],[[2.3182,0.0,0.0,0.0,2.3204549637327725,0.0,0.0,0.0],[2.3182,0.0,0.0,0.0,2.3204549637327725,0.0,0.0,0.0],[2.3182,0.0,0.0,0.0,2.3204549637327725,0.0,0.0,0.0],[2.3182,0.0,0.0,0.0,2.3204549637327725,0.0,0.0,0.0],[2.3182,0.0,0.0,0.0,2.3204549637327725,0.0,0.0,0.0]]]],[[[[0.0,0.0,1.2,0.0,0.0,0.0,3.584799078421473,0.0],[0.0,0.0,0.9,0.20025641025641025,0.0,0.0,2.6885993088161055,0.5978381287932559],[0.0,0.0,0.6,0.4005128205128205,0.0,0.0,1.7923995392107366,1.1956762575865119],[0.0,0.0,0.3,0.6007692307692307,0.0,0.0,0.8961997696053683,1.7935143863797678],[0.0,0.0,0.0,0.801025641025641,0.0,0.0,0.0,2.3913525151730237]],[[0.0,0.0,1.2,0.0,0.0,0.0,3.584799078421473,0.0],[0.0,0.0,0.9,0.20025641025641025,0.0,0.0,2.6885993088161055,0.5978381287932559],[0.0,0.0,0.6,0.4005128205128205,0.0,0.0,1.7923995392107366,1.1956762575865119],[0.0,0.0,0.3,0.6007692307692307,0.0,0.0,0.8961997696053683,1.7935143863797678],[0.0,0.0,0.0,0.801025641025641,0.0,0.0,0.0,2.3913525151730237]],[[0.0,0.0,1.2,0.0,0.0,0.0,3.584799078421473,0.0],[0.0,0.0,0.9,0.20025641025641025,0.0,0.0,2.6885993088161055,0.5978381287932559],[0.0,0.0,0.6,0.4005128205128205,0.0,0.0,1.7923995392107366,1.1956762575865119],[0.0,0.0,0.3,0.6007692307692307,0.0,0.0,0.8961997696053683,1.7935143863797678],[0.0,0.0,0.0,0.801025641025641,0.0,0.0,0.0,2.3913525151730237]],[[0.0,0.0,1.2,0.0,0.0,0.0,3.584799078421473,0.0],[0.0,0.0,0.9,0.20025641025641025,0.0,0.0,2.6885993088161055,0.5978381287932559],[0.0,0.0,0.6,0.4005128205128205,0.0,0.0,1.7923995392107366,1.1956762575865119],[0.0,0.0,0.3,0.6007692307692307,0.0,0.0,0.8961997696053683,1.7935143863797678],[0.0,0.0,0.0,0.801025641025641,0.0,0.0,0.0,2.3913525151730237]],[[0.0,0.0,1.2,0.0,0.0,0.0,3.584799078421473,0.0],[0.0,0.0,0.9,0.20025641025641025,0.0,0.0,2.6885993088161055,0.5978381287932559],[0.0,0.0,0.6,0.4005128205128205,0.0,0.0,1.7923995392107366,1.1956762575865119],[0.0,0.0,0.3,0.6007692307692307,0.0,0.0,0.8961997696053683,1.7935143863797678],[0.0,0.0,0.0,0.801025641025641,0.0,0.0,0.0,2.3913525151730237]]],[[[0.0,0.1875,0.9,0.0,0.0,0.5629228056998948,2.6885993088161055,0.0],[0.0,0.1875,0.675,0.15019230769230768,0.0,0.5629228056998948,2.0164494816120793,0.44837859659494195],[0.0,0.1875,0.45,0.30038461538461536,0.0,0.5629228056998948,1.3442996544080528,0.8967571931898839],[0.0,0.1875,0.225,0.45057692307692304,0.0,0.5629228056998948,0.6721498272040264,1.3451357897848257],[0.0,0.1875,0.0,0.6007692307692307,0.0,0.5629228056998948,0.0,1.7935143863797678]],[[0.07244375,0.140625,0.9,0.0,0.21754265284994742,0.42219210427492115,2.6885993088161055,0.0],[0.07244375,0.140625,0.675,0.15019230769230768,0.21754265284994742,0.42219210427492115,2.0164494816120793,0.44837859659494195],[0.07244375,0.140625,0.45,0.30038461538461536,0.21754265284994742,0.42219210427492115,1.3442996544080528,0.8967571931898839],[0.07244375,0.140625,0.225,0.45057692307692304,0.21754265284994742,0.42219210427492115,0.6721498272040264,1.3451357897848257],[0.07244375,0.140625,0.0,0.6007692307692307,0.21754265284994742,0.42219210427492115,0.0,1.7935143863797678]],[[0.1448875,0.09375,0.9,0.0,0.43508530569989484,0.2814614028499474,2.6885993088161055,0.0],[0.1448875,0.09375,0.675,0.15019230769230768,0.43508530569989484,0.2814614028499474,2.0164494816120793,0.44837859659494195],[0.1448875,0.09375,0.45,0.30038461538461536,0.43508530569989484,0.2814614028499474,1.3442996544080528,0.8967571931898839],[0.1448875,0.09375,0.225,0.45057692307692304,0.43508530569989484,0.2814614028499474,0.6721498272040264,1.3451357897848257],[0.1448875,0.09375,0.0,0.6007692307692307,0.43508530569989484,0.2814614028499474,0.0,1.7935143863797678]],[[0.21733125000000003,0.046875,0.9,0.0,0.6526279585498423,0.1407307014249737,2.6885993088161055,0.0],[0.21733125000000003,0.046875,0.675,0.15019230769230768,0.6526279585498423,0.1407307014249737,2.0164494816120793,0.44837859659494195],[0.21733125000000003,0.046875,0.45,0.30038461538461536,0.6526279585498423,0.1407307014249737,1.3442996544080528,0.8967571931898839],[0.21733125000000003,0.046875,0.225,0.45057692307692304,0.6526279585498423,0.1407307014249737,0.6721498272040264,1.3451357897848257],[0.21733125000000003,0.046875,0.0,0.6007692307692307,0.6526279585498423,0.1407307014249737,0.0,1.7935143863797678]],[[0.289775,0.0,0.9,0.0,0.8701706113997897,0.0,2.6885993088161055,0.0],[0.289775,0.0,0.675,0.15019230769230768,0.8701706113997897,0.0,2.0164494816120793,0.44837859659494195],[0.289775,0.0,0.45,0.30038461538461536,0.8701706113997897,0.0,1.3442996544080528,0.8967571931898839],[0.289775,0.0,0.225,0.45057692307692304,0.8701706113997897,0.0,0.6721498272040264,1.3451357897848257],[0.289775,0.0,0.0,0.6007692307692307,0.8701706113997897,0.0,0.0,1.7935143863797678]]],[[[0.0,0.375,0.6,0.0,0.0,1.1258456113997897,1.7923995392107366,0.0],[0.0,0.375,0.45,0.10012820512820512,0.0,1.1258456113997897,1.3442996544080528,0.29891906439662796],[0.0,0.375,0.3,0.20025641025641025,0.0,1.1258456113997897,0.8961997696053683,0.5978381287932559],[0.0,0.375,0.15,0.30038461538461536,0.0,1.1258456113997897,0.44809988480268415,0.8967571931898839],[0.0,0.375,0.0,0.4005128205128205,0.0,1.1258456113997897,0.0,1.1956762575865119]],[[0.1448875,0.28125,0.6,0.0,0.43508530569989484,0.8443842085498423,1.7923995392107366,0.0],[0.1448875,0.28125,0.45,0.10012820512820512,0.43508530569989484,0.8443842085498423,1.3442996544080528,0.29891906439662796],[0.1448875,0.28125,0.3,0.20025641025641025,0.43508530569989484,0.8443842085498423,0.8961997696053683,0.5978381287932559],[0.1448875,0.28125,0.15,0.30038461538461536,0.43508530569989484,0.8443842085498423,0.44809988480268415,0.8967571931898839],[0.1448875,0.28125,0.0,0.4005128205128205,0.43508530569989484,0.8443842085498423,0.0,1.1956762575865119]],[[0.289775,0.1875,0.6,0.0,0.8701706113997897,0.5629228056998948,1.7923995392107366,0.0],[0.289775,0.1875,0.45,0.10012820512820512,0.8701706113997897,0.5629228056998948,1.3442996544080528,0.29891906439662796],[0.289775,0.1875,0.3,0.20025641025641025,0.8701706113997897,0.5629228056998948,0.8961997696053683,0.5978381287932559],[0.289775,0.1875,0.15,0.30038461538461536,0.8701706113997897,0.5629228056998948,0.44809988480268415,0.8967571931898839],[0.289775,0.1875,0.0,0.4005128205128205,0.8701706113997897,0.5629228056998948,0.0,1.1956762575865119]],[[0.43466250000000006,0.09375,0.6,0.0,1.3052559170996847,0.2814614028499474,1.7923995392107366,0.0],[0.43466250000000006,0.09375,0.45,0.10012820512820512,1.3052559170996847,0.2814614028499474,1.3442996544080528,0.29891906439662796],[0.43466250000000006,0.09375,0.3,0.20025641025641025,1.3052559170996847,0.2814614028499474,0.8961997696053683,0.5978381287932559],[0.43466250000000006,0.09375,0.15,0.30038461538461536,1.3052559170996847,0.2814614028499474,0.44809988480268415,0.8967571931898839],[0.43466250000000006,0.09375,0.0,0.4005128205128205,1.3052559170996847,0.2814614028499474,0.0,1.1956762575865119]],[[0.57955,0.0,0.6,0.0,1.7403412227995794,0.0,1.7923995392107366,0.0],[0.57955,0.0,0.45,0.10012820512820512,1.7403412227995794,0.0,1.3442996544080528,0.29891906439662796],[0.57955,0.0,0.3,0.20025641025641025,1.7403412227995794,0.0,0.8961997696053683,0.5978381287932559],[0.57955,0.0,0.15,0.30038461538461536,1.7403412227995794,0.0,0.44809988480268415,0.8967571931898839],[0.57955,0.0,0.0,0.4005128205128205,1.7403412227995794,0.0,0.0,1.1956762575865119]]],[[[0.0,0.5625,0.3,0.0,0.0,1.6887684170996846,0.8961997696053683,0.0],[0.0,0.5625,0.225,0.05006410256410256,0.0,1.6887684170996846,0.6721498272040264,0.14945953219831398],[0.0,0.5625,0.15,0.10012820512820512,0.0,1.6887684170996846,0.44809988480268415,0.29891906439662796],[0.0,0.5625,0.075,0.15019230769230768,0.0,1.6887684170996846,0.22404994240134207,0.44837859659494195],[0.0,0.5625,0.0,0.20025641025641025,0.0,1.6887684170996846,0.0,0.5978381287932559]],[[0.21733125000000003,0.421875,0.3,0.0,0.6526279585498423,1.2665763128247634,0.8961997696053683,0.0],[0.21733125000000003,0.421875,0.225,0.05006410256410256,0.6526279585498423,1.2665763128247634,0.6721498272040264,0.14945953219831398],[0.21733125000000003,0.421875,0.15,0.10012820512820512,0.6526279585498423,1.2665763128247634,0.44809988480268415,0.29891906439662796],[0.21733125000000003,0.421875,0.075,0.15019230769230768,0.6526279585498423,1.2665763128247634,0.22404994240134207,0.44837859659494195],[0.21733125000000003,0.421875,0.0,0.20025641025641025,0.6526279585498423,1.2665763128247634,0.0,0.5978381287932559]],[[0.43466250000000006,0.28125,0.3,0.0,1.3052559170996847,0.8443842085498423,0.8961997696053683,0.0],[0.43466250000000006,0.28125,0.225,0.05006410256410256,1.3052559170996847,0.8443842085498423,0.6721498272040264,0.14945953219831398],[0.43466250000000006,0.28125,0.15,0.10012820512820512,1.3052559170996847,0.8443842085498423,0.44809988480268415,0.29891906439662796],[0.43466250000000006,0.28125,0.075,0.15019230769230768,1.3052559170996847,0.8443842085498423,0.22404994240134207,0.44837859659494195],[0.43466250000000006,0.28125,0.0,0.20025641025641025,1.3052559170996847,0.8443842085498423,0.0,0.5978381287932559]],[[0.6519937499999999,0.140625,0.3,0.0,1.9578838756495267,0.42219210427492115,0.8961997696053683,0.0],[0.6519937499999999,0.140625,0.225,0.05006410256410256,1.9578838756495267,0.42219210427492115,0.6721498272040264,0.14945953219831398],[0.6519937499999999,0.140625,0.15,0.10012820512820512,1.9578838756495267,0.42219210427492115,0.44809988480268415,0.29891906439662796],[0.6519937499999999,0.140625,0.075,0.15019230769230768,1.9578838756495267,0.42219210427492115,0.22404994240134207,0.44837859659494195],[0.6519937499999999,0.140625,0.0,0.20025641025641025,1.9578838756495267,0.42219210427492115,0.0,0.5978381287932559]],[[0.8693250000000001,0.0,0.3,0.0,2.6105118341993694,0.0,0.8961997696053683,0.0],[0.8693250000000001,0.0,0.225,0.05006410256410256,2.6105118341993694,0.0,0.6721498272040264,0.14945953219831398],[0.8693250000000001,0.0,0.15,0.10012820512820512,2.6105118341993694,0.0,0.44809988480268415,0.29891906439662796],[0.8693250000000001,0.0,0.075,0.15019230769230768,2.6105118341993694,0.0,0.22404994240134207,0.44837859659494195],[0.8693250000000001,0.0,0.0,0.20025641025641025,2.6105118341993694,0.0,0.0,0.5978381287932559]]],[[[0.0,0.75,0.0,0.0,0.0,2.2516912227995793,0.0,0.0],[0.0,0.75,0.0,0.0,0.0,2.2516912227995793,0.0,0.0],[0.0,0.75,0.0,0.0,0.0,2.2516912227995793,0.0,0.0],[0.0,0.75,0.0,0.0,0.0,2.2516912227995793,0.0,0.0],[0.0,0.75,0.0,0.0,0.0,2.2516912227995793,0.0,0.0]],[[0.289775,0.5625,0.0,0.0,0.8701706113997897,1.6887684170996846,0.0,0.0],[0.289775,0.5625,0.0,0.0,0.8701706113997897,1.6887684170996846,0.0,0.0],[0.289775,0.5625,0.0,0.0,0.8701706113997897,1.6887684170996846,0.0,0.0],[0.289775,0.5625,0.0,0.0,0.8701706113997897,1.6887684170996846,0.0,0.0],[0.289775,0.5625,0.0,0.0,0.8701706113997897,1.6887684170996846,0.0,0.0]],[[0.57955,0.375,0.0,0.0,1.7403412227995794,1.1258456113997897,0.0,0.0],[0.57955,0.375,0.0,0.0,1.7403412227995794,1.1258456113997897,0.0,0.0],[0.57955,0.375,0.0,0.0,1.7403412227995794,1.1258456113997897,0.0,0.0],[0.57955,0.375,0.0,0.0,1.7403412227995794,1.1258456113997897,0.0,0.0],[0.57955,0.375,0.0,0.0,1.7403412227995794,1.1258456113997897,0.0,0.0]],[[0.8693250000000001,0.1875,0.0,0.0,2.6105118341993694,0.5629228056998948,0.0,0.0],[0.8693250000000001,0.1875,0.0,0.0,2.6105118341993694,0.5629228056998948,0.0,0.0],[0.8693250000000001,0.1875,0.0,0.0,2.6105118341993694,0.5629228056998948,0.0,0.0],[0.8693250000000001,0.1875,0.0,0.0,2.6105118341993694,0.5629228056998948,0.0,0.0],[0.8693250000000001,0.1875,0.0,0.0,2.6105118341993694,0.5629228056998948,0.0,0.0]],[[1.1591,0.0,0.0,0.0,3.4806824455991587,0.0,0.0,0.0],[1.1591,0.0,0.0,0.0,3.4806824455991587,0.0,0.0,0.0],[1.1591,0.0,0.0,0.0,3.4806824455991587,0.0,0.0,0.0],[1.1591,0.0,0.0,0.0,3.4806824455991587,0.0,0.0,0.0],[1.1591,0.0,0.0,0.0,3.4806824455991587,0.0,0.0,0.0]]]],[[[[0.0,0.0,0.0,0.0,0.0,0.0,4.7797321045619645,0.0],[0.0,0.0,0.0,0.0,0.0,0.0,3.584799078421474,0.7971175050576745],[0.0,0.0,0.0,0.0,0.0,0.0,2.3898660522809823,1.594235010115349],[0.0,0.0,0.0,0.0,0.0,0.0,1.1949330261404911,2.3913525151730237],[0.0,0.0,0.0,0.0,0.0,0.0,0.0,3.188470020230698]],[[0.0,0.0,0.0,0.0,0.0,0.0,4.7797321045619645,0.0],[0.0,0.0,0.0,0.0,0.0,0.0,3.584799078421474,0.7971175050576745],[0.0,0.0,0.0,0.0,0.0,0.0,2.3898660522809823,1.594235010115349],[0.0,0.0,0.0,0.0,0.0,0.0,1.1949330261404911,2.3913525151730237],[0.0,0.0,0.0,0.0,0.0,0.0,0.0,3.188470020230698]],[[0.0,0.0,0.0,0.0,0.0,0.0,4.7797321045619645,0.0],[0.0,0.0,0.0,0.0,0.0,0.0,3.584799078421474,0.7971175050576745],[0.0,0.0,0.0,0.0,0.0,0.0,2.3898660522809823,1.594235010115349],[0.0,0.0,0.0,0.0,0.0,0.0,1.1949330261404911,2.3913525151730237],[0.0,0.0,0.0,0.0,0.0,0.0,0.0,3.188470020230698]],[[0.0,0.0,0.0,0.0,0.0,0.0,4.7797321045619645,0.0],[0.0,0.0,0.0,0.0,0.0,0.0,3.584799078421474,0.7971175050576745],[0.0,0.0,0.0,0.0,0.0,0.0,2.3898660522809823,1.594235010115349],[0.0,0.0,0.0,0.0,0.0,0.0,1.1949330261404911,2.3913525151730237],[0.0,0.0,0.0,0.0,0.0,0.0,0.0,3.188470020230698]],[[0.0,0.0,0.0,0.0,0.0,0.0,4.7797321045619645,0.0],[0.0,0.0,0.0,0.0,0.0,0.0,3.584799078421474,0.7971175050576745],[0.0,0.0,0.0,0.0,0.0,0.0,2.3898660522809823,1.594235010115349],[0.0,0.0,0.0,0.0,0.0,0.0,1.1949330261404911,2.3913525151730237],[0.0,0.0,0.0,0.0,0.0,0.0,0.0,3.188470020230698]]],[[[0.0,0.0,0.0,0.0,0.0,0.7505637409331931,3.584799078421474,0.0],[0.0,0.0,0.0,0.0,0.0,0.7505637409331931,2.6885993088161055,0.5978381287932559],[0.0,0.0,0.0,0.0,0.0,0.7505637409331931,1.792399539210737,1.1956762575865119],[0.0,0.0,0.0,0.0,0.0,0.7505637409331931,0.8961997696053685,1.7935143863797676],[0.0,0.0,0.0,0.0,0.0,0.7505637409331931,0.0,2.3913525151730237]],[[0.0,0.0,0.0,0.0,0.29005687046659656,0.5629228056998948,3.584799078421474,0.0],[0.0,0.0,0.0,0.0,0.29005687046659656,0.5629228056998948,2.6885993088161055,0.5978381287932559],[0.0,0.0,0.0,0.0,0.29005687046659656,0.5629228056998948,1.792399539210737,1.1956762575865119],[0.0,0.0,0.0,0.0,0.29005687046659656,0.5629228056998948,0.8961997696053685,1.7935143863797676],[0.0,0.0,0.0,0.0,0.29005687046659656,0.5629228056998948,0.0,2.3913525151730237]],[[0.0,0.0,0.0,0.0,0.5801137409331931,0.37528187046659656,3.584799078421474,0.0],[0.0,0.0,0.0,0.0,0.5801137409331931,0.37528187046659656,2.6885993088161055,0.5978381287932559],[0.0,0.0,0.0,0.0,0.5801137409331931,0.37528187046659656,1.792399539210737,1.1956762575865119],[0.0,0.0,0.0,0.0,0.5801137409331931,0.37528187046659656,0.8961997696053685,1.7935143863797676],[0.0,0.0,0.0,0.0,0.5801137409331931,0.37528187046659656,0.0,2.3913525151730237]],[[0.0,0.0,0.0,0.0,0.8701706113997898,0.18764093523329828,3.584799078421474,0.0],[0.0,0.0,0.0,0.0,0.8701706113997898,0.18764093523329828,2.6885993088161055,0.5978381287932559],[0.0,0.0,0.0,0.0,0.8701706113997898,0.18764093523329828,1.792399539210737,1.1956762575865119],[0.0,0.0,0.0,0.0,0.8701706113997898,0.18764093523329828,0.8961997696053685,1.7935143863797676],[0.0,0.0,0.0,0.0,0.8701706113997898,0.18764093523329828,0.0,2.3913525151730237]],[[0.0,0.0,0.0,0.0,1.1602274818663862,0.0,3.584799078421474,0.0],[0.0,0.0,0.0,0.0,1.1602274818663862,0.0,2.6885993088161055,0.5978381287932559],[0.0,0.0,0.0,0.0,1.1602274818663862,0.0,1.792399539210737,1.1956762575865119],[0.0,0.0,0.0,0.0,1.1602274818663862,0.0,0.8961997696053685,1.7935143863797676],[0.0,0.0,0.0,0.0,1.1602274818663862,0.0,0.0,2.3913525151730237]]],[[[0.0,0.0,0.0,0.0,0.0,1.5011274818663862,2.3898660522809823,0.0],[0.0,0.0,0.0,0.0,0.0,1.5011274818663862,1.792399539210737,0.39855875252883727],[0.0,0.0,0.0,0.0,0.0,1.5011274818663862,1.1949330261404911,0.7971175050576745],[0.0,0.0,0.0,0.0,0.0,1.5011274818663862,0.5974665130702456,1.1956762575865119],[0.0,0.0,0.0,0.0,0.0,1.5011274818663862,0.0,1.594235010115349]],[[0.0,0.0,0.0,0.0,0.5801137409331931,1.1258456113997897,2.3898660522809823,0.0],[0.0,0.0,0.0,0.0,0.5801137409331931,1.1258456113997897,1.792399539210737,0.39855875252883727],[0.0,0.0,0.0,0.0,0.5801137409331931,1.1258456113997897,1.1949330261404911,0.7971175050576745],[0.0,0.0,0.0,0.0,0.5801137409331931,1.1258456113997897,0.5974665130702456,1.1956762575865119],[0.0,0.0,0.0,0.0,0.5801137409331931,1.1258456113997897,0.0,1.594235010115349]],[[0.0,0.0,0.0,0.0,1.1602274818663862,0.7505637409331931,2.3898660522809823,0.0],[0.0,0.0,0.0,0.0,1.1602274818663862,0.7505637409331931,1.792399539210737,0.39855875252883727],[0.0,0.0,0.0,0.0,1.1602274818663862,0.7505637409331931,1.1949330261404911,0.7971175050576745],[0.0,0.0,0.0,0.0,1.1602274818663862,0.7505637409331931,0.5974665130702456,1.1956762575865119],[0.0,0.0,0.0,0.0,1.1602274818663862,0.7505637409331931,0.0,1.594235010115349]],[[0.0,0.0,0.0,0.0,1.7403412227995796,0.37528187046659656,2.3898660522809823,0.0],[0.0,0.0,0.0,0.0,1.7403412227995796,0.37528187046659656,1.792399539210737,0.39855875252883727],[0.0,0.0,0.0,0.0,1.7403412227995796,0.37528187046659656,1.1949330261404911,0.7971175050576745],[0.0,0.0,0.0,0.0,1.7403412227995796,0.37528187046659656,0.5974665130702456,1.1956762575865119],[0.0,0.0,0.0,0.0,1.7403412227995796,0.37528187046659656,0.0,1.594235010115349]],[[0.0,0.0,0.0,0.0,2.3204549637327725,0.0,2.3898660522809823,0.0],[0.0,0.0,0.0,0.0,2.3204549637327725,0.0,1.792399539210737,0.39855875252883727],[0.0,0.0,0.0,0.0,2.3204549637327725,0.0,1.1949330261404911,0.7971175050576745],[0.0,0.0,0.0,0.0,2.3204549637327725,0.0,0.5974665130702456,1.1956762575865119],[0.0,0.0,0.0,0.0,2.3204549637327725,0.0,0.0,1.594235010115349]]],[[[0.0,0.0,0.0,0.0,0.0,2.2516912227995793,1.1949330261404911,0.0],[0.0,0.0,0.0,0.0,0.0,2.2516912227995793,0.8961997696053685,0.19927937626441863],[0.0,0.0,0.0,0.0,0.0,2.2516912227995793,0.5974665130702456,0.39855875252883727],[0.0,0.0,0.0,0.0,0.0,2.2516912227995793,0.2987332565351228,0.5978381287932559],[0.0,0.0,0.0,0.0,0.0,2.2516912227995793,0.0,0.7971175050576745]],[[0.0,0.0,0.0,0.0,0.8701706113997898,1.6887684170996844,1.1949330261404911,0.0],[0.0,0.0,0.0,0.0,0.8701706113997898,1.6887684170996844,0.8961997696053685,0.19927937626441863],[0.0,0.0,0.0,0.0,0.8701706113997898,1.6887684170996844,0.5974665130702456,0.39855875252883727],[0.0,0.0,0.0,0.0,0.8701706113997898,1.6887684170996844,0.2987332565351228,0.5978381287932559],[0.0,0.0,0.0,0.0,0.8701706113997898,1.6887684170996844,0.0,0.7971175050576745]],[[0.0,0.0,0.0,0.0,1.7403412227995796,1.1258456113997897,1.1949330261404911,0.0],[0.0,0.0,0.0,0.0,1.7403412227995796,1.1258456113997897,0.8961997696053685,0.19927937626441863],[0.0,0.0,0.0,0.0,1.7403412227995796,1.1258456113997897,0.5974665130702456,0.39855875252883727],[0.0,0.0,0.0,0.0,1.7403412227995796,1.1258456113997897,0.2987332565351228,0.5978381287932559],[0.0,0.0,0.0,0.0,1.7403412227995796,1.1258456113997897,0.0,0.7971175050576745]],[[0.0,0.0,0.0,0.0,2.610511834199369,0.5629228056998948,1.1949330261404911,0.0],[0.0,0.0,0.0,0.0,2.610511834199369,0.5629228056998948,0.8961997696053685,0.19927937626441863],[0.0,0.0,0.0,0.0,2.610511834199369,0.5629228056998948,0.5974665130702456,0.39855875252883727],[0.0,0.0,0.0,0.0,2.610511834199369,0.5629228056998948,0.2987332565351228,0.5978381287932559],[0.0,0.0,0.0,0.0,2.610511834199369,0.5629228056998948,0.0,0.7971175050576745]],[[0.0,0.0,0.0,0.0,3.480682445599159,0.0,1.1949330261404911,0.0],[0.0,0.0,0.0,0.0,3.480682445599159,0.0,0.8961997696053685,0.19927937626441863],[0.0,0.0,0.0,0.0,3.480682445599159,0.0,0.5974665130702456,0.39855875252883727],[0.0,0.0,0.0,0.0,3.480682445599159,0.0,0.2987332565351228,0.5978381287932559],[0.0,0.0,0.0,0.0,3.480682445599159,0.0,0.0,0.7971175050576745]]],[[[0.0,0.0,0.0,0.0,0.0,3.0022549637327725,0.0,0.0],[0.0,0.0,0.0,0.0,0.0,3.0022549637327725,0.0,0.0],[0.0,0.0,0.0,0.0,0.0,3.0022549637327725,0.0,0.0],[0.0,0.0,0.0,0.0,0.0,3.0022549637327725,0.0,0.0],[0.0,0.0,0.0,0.0,0.0,3.0022549637327725,0.0,0.0]],[[0.0,0.0,0.0,0.0,1.1602274818663862,2.2516912227995793,0.0,0.0],[0.0,0.0,0.0,0.0,1.1602274818663862,2.2516912227995793,0.0,0.0],[0.0,0.0,0.0,0.0,1.1602274818663862,2.2516912227995793,0.0,0.0],[0.0,0.0,0.0,0.0,1.1602274818663862,2.2516912227995793,0.0,0.0],[0.0,0.0,0.0,0.0,1.1602274818663862,2.2516912227995793,0.0,0.0]],[[0.0,0.0,0.0,0.0,2.3204549637327725,1.5011274818663862,0.0,0.0],[0.0,0.0,0.0,0.0,2.3204549637327725,1.5011274818663862,0.0,0.0],[0.0,0.0,0.0,0.0,2.3204549637327725,1.5011274818663862,0.0,0.0],[0.0,0.0,0.0,0.0,2.3204549637327725,1.5011274818663862,0.0,0.0],[0.0,0.0,0.0,0.0,2.3204549637327725,1.5011274818663862,0.0,0.0]],[[0.0,0.0,0.0,0.0,3.480682445599159,0.7505637409331931,0.0,0.0],[0.0,0.0,0.0,0.0,3.480682445599159,0.7505637409331931,0.0,0.0],[0.0,0.0,0.0,0.0,3.480682445599159,0.7505637409331931,0.0,0.0],[0.0,0.0,0.0,0.0,3.480682445599159,0.7505637409331931,0.0,0.0],[0.0,0.0,0.0,0.0,3.480682445599159,0.7505637409331931,0.0,0.0]],[[0.0,0.0,0.0,0.0,4.640909927465545,0.0,0.0,0.0],[0.0,0.0,0.0,0.0,4.640909927465545,0.0,0.0,0.0],[0.0,0.0,0.0,0.0,4.640909927465545,0.0,0.0,0.0],[0.0,0.0,0.0,0.0,4.640909927465545,0.0,0.0,0.0],[0.0,0.0,0.0,0.0,4.640909927465545,0.0,0.0,0.0]]]]],[[[[[0.0,0.0,4.8,0.0,0.0,0.0,0.0,0.0],[0.0,0.0,3.6,0.8020365482629499,0.0,0.0,0.0,0.0],[0.0,0.0,2.4,1.6040730965258998,0.0,0.0,0.0,0.0],[0.0,0.0,1.2,2.4061096447888497,0.0,0.0,0.0,0.0],[0.0,0.0,0.0,3.2081461930517996,0.0,0.0,0.0,0.0]],[[0.0,0.0,4.8,0.0,0.0,0.0,0.0,0.0],[0.0,0.0,3.6,0.8020365482629499,0.0,0.0,0.0,0.0],[0.0,0.0,2.4,1.6040730965258998,0.0,0.0,0.0,0.0],[0.0,0.0,1.2,2.4061096447888497,0.0,0.0,0.0,0.0],[0.0,0.0,0.0,3.2081461930517996,0.0,0.0,0.0,0.0]],[[0.0,0.0,4.8,0.0,0.0,0.0,0.0,0.0],[0.0,0.0,3.6,0.8020365482629499,0.0,0.0,0.0,0.0],[0.0,0.0,2.4,1.6040730965258998,0.0,0.0,0.0,0.0],[0.0,0.0,1.2,2.4061096447888497,0.0,0.0,0.0,0.0],[0.0,0.0,0.0,3.2081461930517996,0.0,0.0,0.0,0.0]],[[0.0,0.0,4.8,0.0,0.0,0.0,0.0,0.0],[0.0,0.0,3.6,0.8020365482629499,0.0,0.0,0.0,0.0],[0.0,0.0,2.4,1.6040730965258998,0.0,0.0,0.0,0.0],[0.0,0.0,1.2,2.4061096447888497,0.0,0.0,0.0,0.0],[0.0,0.0,0.0,3.2081461930517996,0.0,0.0,0.0,0.0]],[[0.0,0.0,4.8,0.0,0.0,0.0,0.0,0.0],[0.0,0.0,3.6,0.8020365482629499,0.0,0.0,0.0,0.0],[0.0,0.0,2.4,1.6040730965258998,0.0,0.0,0.0,0.0],[0.0,0.0,1.2,2.4061096447888497,0.0,0.0,0.0,0.0],[0.0,0.0,0.0,3.2081461930517996,0.0,0.0,0.0,0.0]]],[[[0.0,0.75,3.6,0.0,0.0,0.0,0.0,0.0],[0.0,0.75,2.7,0.6015274111972124,0.0,0.0,0.0,0.0],[0.0,0.75,1.8,1.2030548223944248,0.0,0.0,0.0,0.0],[0.0,0.75,0.9,1.8045822335916373,0.0,0.0,0.0,0.0],[0.0,0.75,0.0,2.4061096447888497,0.0,0.0,0.0,0.0]],[[0.27777250000000003,0.5625,3.6,0.0,0.0,0.0,0.0,0.0],[0.27777250000000003,0.5625,2.7,0.6015274111972124,0.0,0.0,0.0,0.0],[0.27777250000000003,0.5625,1.8,1.2030548223944248,0.0,0.0,0.0,0.0],[0.27777250000000003,0.5625,0.9,1.8045822335916373,0.0,0.0,0.0,0.0],[0.27777250000000003,0.5625,0.0,2.4061096447888497,0.0,0.0,0.0,0.0]],[[0.5555450000000001,0.375,3.6,0.0,0.0,0.0,0.0,0.0],[0.5555450000000001,0.375,2.7,0.6015274111972124,0.0,0.0,0.0,0.0],[0.5555450000000001,0.375,1.8,1.2030548223944248,0.0,0.0,0.0,0.0],[0.5555450000000001,0.375,0.9,1.8045822335916373,0.0,0.0,0.0,0.0],[0.5555450000000001,0.375,0.0,2.4061096447888497,0.0,0.0,0.0,0.0]],[[0.8333174999999999,0.1875,3.6,0.0,0.0,0.0,0.0,0.0],[0.8333174999999999,0.1875,2.7,0.6015274111972124,0.0,0.0,0.0,0.0],[0.8333174999999999,0.1875,1.8,1.2030548223944248,0.0,0.0,0.0,0.0],[0.8333174999999999,0.1875,0.9,1.8045822335916373,0.0,0.0,0.0,0.0],[0.8333174999999999,0.1875,0.0,2.4061096447888497,0.0,0.0,0.0,0.0]],[[1.1110900000000001,0.0,3.6,0.0,0.0,0.0,0.0,0.0],[1.1110900000000001,0.0,2.7,0.6015274111972124,0.0,0.0,0.0,0.0],[1.1110900000000001,0.0,1.8,1.2030548223944248,0.0,0.0,0.0,0.0],[1.1110900000000001,0.0,0.9,1.8045822335916373,0.0,0.0,0.0,0.0],[1.1110900000000001,0.0,0.0,2.4061096447888497,0.0,0.0,0.0,0.0]]],[[[0.0,1.5,2.4,0.0,0.0,0.0,0.0,0.0],[0.0,1.5,1.8,0.40101827413147495,0.0,0.0,0.0,0.0],[0.0,1.5,1.2,0.8020365482629499,0.0,0.0,0.0,0.0],[0.0,1.5,0.6,1.2030548223944248,0.0,0.0,0.0,0.0],[0.0,1.5,0.0,1.6040730965258998,0.0,0.0,0.0,0.0]],[[0.5555450000000001,1.125,2.4,0.0,0.0,0.0,0.0,0.0],[0.5555450000000001,1.125,1.8,0.40101827413147495,0.0,0.0,0.0,0.0],[0.5555450000000001,1.125,1.2,0.8020365482629499,0.0,0.0,0.0,0.0],[0.5555450000000001,1.125,0.6,1.2030548223944248,0.0,0.0,0.0,0.0],[0.5555450000000001,1.125,0.0,1.6040730965258998,0.0,0.0,0.0,0.0]],[[1.1110900000000001,0.75,2.4,0.0,0.0,0.0,0.0,0.0],[1.1110900000000001,0.75,1.8,0.40101827413147495,0.0,0.0,0.0,0.0],[1.1110900000000001,0.75,1.2,0.8020365482629499,0.0,0.0,0.0,0.0],[1.1110900000000001,0.75,0.6,1.2030548223944248,0.0,0.0,0.0,0.0],[1.1110900000000001,0.75,0.0,1.6040730965258998,0.0,0.0,0.0,0.0]],[[1.6666349999999999,0.375,2.4,0.0,0.0,0.0,0.0,0.0],[1.6666349999999999,0.375,1.8,0.40101827413147495,0.0,0.0,0.0,0.0],[1.6666349999999999,0.375,1.2,0.8020365482629499,0.0,0.0,0.0,0.0],[1.6666349999999999,0.375,0.6,1.2030548223944248,0.0,0.0,0.0,0.0],[1.6666349999999999,0.375,0.0,1.6040730965258998,0.0,0.0,0.0,0.0]],[[2.2221800000000003,0.0,2.4,0.0,0.0,0.0,0.0,0.0],[2.2221800000000003,0.0,1.8,0.40101827413147495,0.0,0.0,0.0,0.0],[2.2221800000000003,0.0,1.2,0.8020365482629499,0.0,0.0,0.0,0.0],[2.2221800000000003,0.0,0.6,1.2030548223944248,0.0,0.0,0.0,0.0],[2.2221800000000003,0.0,0.0,1.6040730965258998,0.0,0.0,0.0,0.0]]],[[[0.0,2.25,1.2,0.0,0.0,0.0,0.0,0.0],[0.0,2.25,0.9,0.20050913706573747,0.0,0.0,0.0,0.0],[0.0,2.25,0.6,0.40101827413147495,0.0,0.0,0.0,0.0],[0.0,2.25,0.3,0.6015274111972124,0.0,0.0,0.0,0.0],[0.0,2.25,0.0,0.8020365482629499,0.0,0.0,0.0,0.0]],[[0.8333174999999999,1.6874999999999996,1.2,0.0,0.0,0.0,0.0,0.0],[0.8333174999999999,1.6874999999999996,0.9,0.20050913706573747,0.0,0.0,0.0,0.0],[0.8333174999999999,1.6874999999999996,0.6,0.40101827413147495,0.0,0.0,0.0,0.0],[0.8333174999999999,1.6874999999999996,0.3,0.6015274111972124,0.0,0.0,0.0,0.0],[0.8333174999999999,1.6874999999999996,0.0,0.8020365482629499,0.0,0.0,0.0,0.0]],[[1.6666349999999999,1.125,1.2,0.0,0.0,0.0,0.0,0.0],[1.6666349999999999,1.125,0.9,0.20050913706573747,0.0,0.0,0.0,0.0],[1.6666349999999999,1.125,0.6,0.40101827413147495,0.0,0.0,0.0,0.0],[1.6666349999999999,1.125,0.3,0.6015274111972124,0.0,0.0,0.0,0.0],[1.6666349999999999,1.125,0.0,0.8020365482629499,0.0,0.0,0.0,0.0]],[[2.4999525,0.5625,1.2,0.0,0.0,0.0,0.0,0.0],[2.4999525,0.5625,0.9,0.20050913706573747,0.0,0.0,0.0,0.0],[2.4999525,0.5625,0.6,0.40101827413147495,0.0,0.0,0.0,0.0],[2.4999525,0.5625,0.3,0.6015274111972124,0.0,0.0,0.0,0.0],[2.4999525,0.5625,0.0,0.8020365482629499,0.0,0.0,0.0,0.0]],[[3.3332699999999997,0.0,1.2,0.0,0.0,0.0,0.0,0.0],[3.3332699999999997,0.0,0.9,0.20050913706573747,0.0,0.0,0.0,0.0],[3.3332699999999997,0.0,0.6,0.40101827413147495,0.0,0.0,0.0,0.0],[3.3332699999999997,0.0,0.3,0.6015274111972124,0.0,0.0,0.0,0.0],[3.3332699999999997,0.0,0.0,0.8020365482629499,0.0,0.0,0.0,0.0]]],[[[0.0,3.0,0.0,0.0,0.0,0.0,0.0,0.0],[0.0,3.0,0.0,0.0,0.0,0.0,0.0,0.0],[0.0,3.0,0.0,0.0,0.0,0.0,0.0,0.0],[0.0,3.0,0.0,0.0,0.0,0.0,0.0,0.0],[0.0,3.0,0.0,0.0,0.0,0.0,0.0,0.0]],[[1.1110900000000001,2.25,0.0,0.0,0.0,0.0,0.0,0.0],[1.1110900000000001,2.25,0.0,0.0,0.0,0.0,0.0,0.0],[1.1110900000000001,2.25,0.0,0.0,0.0,0.0,0.0,0.0],[1.1110900000000001,2.25,0.0,0.0,0.0,0.0,0.0,0.0],[1.1110900000000001,2.25,0.0,0.0,0.0,0.0,0.0,0.0]],[[2.2221800000000003,1.5,0.0,0.0,0.0,0.0,0.0,0.0],[2.2221800000000003,1.5,0.0,0.0,0.0,0.0,0.0,0.0],[2.2221800000000003,1.5,0.0,0.0,0.0,0.0,0.0,0.0],[2.2221800000000003,1.5,0.0,0.0,0.0,0.0,0.0,0.0],[2.2221800000000003,1.5,0.0,0.0,0.0,0.0,0.0,0.0]],[[3.3332699999999997,0.75,0.0,0.0,0.0,0.0,0.0,0.0],[3.3332699999999997,0.75,0.0,0.0,0.0,0.0,0.0,0.0],[3.3332699999999997,0.75,0.0,0.0,0.0,0.0,0.0,0.0],[3.3332699999999997,0.75,0.0,0.0,0.0,0.0,0.0,0.0],[3.3332699999999997,0.75,0.0,0.0,0.0,0.0,0.0,0.0]],[[4.4443600000000005,0.0,0.0,0.0,0.0,0.0,0.0,0.0],[4.4443600000000005,0.0,0.0,0.0,0.0,0.0,0.0,0.0],[4.4443600000000005,0.0,0.0,0.0,0.0,0.0,0.0,0.0],[4.4443600000000005,0.0,0.0,0.0,0.0,0.0,0.0,0.0],[4.4443600000000005,0.0,0.0,0.0,0.0,0.0,0.0,0.0]]]],[[[[0.0,0.0,3.5999999999999996,0.0,0.0,0.0,1.2017334886955673,0.0],[0.0,0.0,2.7,0.6015274111972124,0.0,0.0,0.9013001165216754,0.20078579751623035],[0.0,0.0,1.7999999999999998,1.2030548223944248,0.0,0.0,0.6008667443477836,0.4015715950324607],[0.0,0.0,0.8999999999999999,1.8045822335916373,0.0,0.0,0.3004333721738918,0.602357392548691],[0.0,0.0,0.0,2.4061096447888497,0.0,0.0,0.0,0.8031431900649214]],[[0.0,0.0,3.5999999999999996,0.0,0.0,0.0,1.2017334886955673,0.0],[0.0,0.0,2.7,0.6015274111972124,0.0,0.0,0.9013001165216754,0.20078579751623035],[0.0,0.0,1.7999999999999998,1.2030548223944248,0.0,0.0,0.6008667443477836,0.4015715950324607],[0.0,0.0,0.8999999999999999,1.8045822335916373,0.0,0.0,0.3004333721738918,0.602357392548691],[0.0,0.0,0.0,2.4061096447888497,0.0,0.0,0.0,0.8031431900649214]],[[0.0,0.0,3.5999999999999996,0.0,0.0,0.0,1.2017334886955673,0.0],[0.0,0.0,2.7,0.6015274111972124,0.0,0.0,0.9013001165216754,0.20078579751623035],[0.0,0.0,1.7999999999999998,1.2030548223944248,0.0,0.0,0.6008667443477836,0.4015715950324607],[0.0,0.0,0.8999999999999999,1.8045822335916373,0.0,0.0,0.3004333721738918,0.602357392548691],[0.0,0.0,0.0,2.4061096447888497,0.0,0.0,0.0,0.8031431900649214]],[[0.0,0.0,3.5999999999999996,0.0,0.0,0.0,1.2017334886955673,0.0],[0.0,0.0,2.7,0.6015274111972124,0.0,0.0,0.9013001165216754,0.20078579751623035],[0.0,0.0,1.7999999999999998,1.2030548223944248,0.0,0.0,0.6008667443477836,0.4015715950324607],[0.0,0.0,0.8999999999999999,1.8045822335916373,0.0,0.0,0.3004333721738918,0.602357392548691],[0.0,0.0,0.0,2.4061096447888497,0.0,0.0,0.0,0.8031431900649214]],[[0.0,0.0,3.5999999999999996,0.0,0.0,0.0,1.2017334886955673,0.0],[0.0,0.0,2.7,0.6015274111972124,0.0,0.0,0.9013001165216754,0.20078579751623035],[0.0,0.0,1.7999999999999998,1.2030548223944248,0.0,0.0,0.6008667443477836,0.4015715950324607],[0.0,0.0,0.8999999999999999,1.8045822335916373,0.0,0.0,0.3004333721738918,0.602357392548691],[0.0,0.0,0.0,2.4061096447888497,0.0,0.0,0.0,0.8031431900649214]]],[[[0.0,0.5625,2.7,0.0,0.0,0.18759929605046424,0.9013001165216754,0.0],[0.0,0.5625,2.0250000000000004,0.4511455583979093,0.0,0.18759929605046424,0.6759750873912567,0.15058934813717276],[0.0,0.5625,1.35,0.9022911167958186,0.0,0.18759929605046424,0.4506500582608377,0.3011786962743455],[0.0,0.5625,0.675,1.353436675193728,0.0,0.18759929605046424,0.22532502913041885,0.4517680444115183],[0.0,0.5625,0.0,1.8045822335916373,0.0,0.18759929605046424,0.0,0.602357392548691]],[[0.20832937500000004,0.421875,2.7,0.0,0.06949277302523213,0.14069947203784816,0.9013001165216754,0.0],[0.20832937500000004,0.421875,2.0250000000000004,0.4511455583979093,0.06949277302523213,0.14069947203784816,0.6759750873912567,0.15058934813717276],[0.20832937500000004,0.421875,1.35,0.9022911167958186,0.06949277302523213,0.14069947203784816,0.4506500582608377,0.3011786962743455],[0.20832937500000004,0.421875,0.675,1.353436675193728,0.06949277302523213,0.14069947203784816,0.22532502913041885,0.4517680444115183],[0.20832937500000004,0.421875,0.0,1.8045822335916373,0.06949277302523213,0.14069947203784816,0.0,0.602357392548691]],[[0.4166587500000001,0.28125,2.7,0.0,0.13898554605046426,0.09379964802523212,0.9013001165216754,0.0],[0.4166587500000001,0.28125,2.0250000000000004,0.4511455583979093,0.13898554605046426,0.09379964802523212,0.6759750873912567,0.15058934813717276],[0.4166587500000001,0.28125,1.35,0.9022911167958186,0.13898554605046426,0.09379964802523212,0.4506500582608377,0.3011786962743455],[0.4166587500000001,0.28125,0.675,1.353436675193728,0.13898554605046426,0.09379964802523212,0.22532502913041885,0.4517680444115183],[0.4166587500000001,0.28125,0.0,1.8045822335916373,0.13898554605046426,0.09379964802523212,0.0,0.602357392548691]],[[0.624988125,0.140625,2.7,0.0,0.2084783190756964,0.04689982401261606,0.9013001165216754,0.0],[0.624988125,0.140625,2.0250000000000004,0.4511455583979093,0.2084783190756964,0.04689982401261606,0.6759750873912567,0.15058934813717276],[0.624988125,0.140625,1.35,0.9022911167958186,0.2084783190756964,0.04689982401261606,0.4506500582608377,0.3011786962743455],[0.624988125,0.140625,0.675,1.353436675193728,0.2084783190756964,0.04689982401261606,0.22532502913041885,0.4517680444115183],[0.624988125,0.140625,0.0,1.8045822335916373,0.2084783190756964,0.04689982401261606,0.0,0.602357392548691]],[[0.8333175000000002,0.0,2.7,0.0,0.2779710921009285,0.0,0.9013001165216754,0.0],[0.8333175000000002,0.0,2.0250000000000004,0.4511455583979093,0.2779710921009285,0.0,0.6759750873912567,0.15058934813717276],[0.8333175000000002,0.0,1.35,0.9022911167958186,0.2779710921009285,0.0,0.4506500582608377,0.3011786962743455],[0.8333175000000002,0.0,0.675,1.353436675193728,0.2779710921009285,0.0,0.22532502913041885,0.4517680444115183],[0.8333175000000002,0.0,0.0,1.8045822335916373,0.2779710921009285,0.0,0.0,0.602357392548691]]],[[[0.0,1.125,1.7999999999999998,0.0,0.0,0.3751985921009285,0.6008667443477836,0.0],[0.0,1.125,1.35,0.3007637055986062,0.0,0.3751985921009285,0.4506500582608377,0.10039289875811518],[0.0,1.125,0.8999999999999999,0.6015274111972124,0.0,0.3751985921009285,0.3004333721738918,0.20078579751623035],[0.0,1.125,0.44999999999999996,0.9022911167958186,0.0,0.3751985921009285,0.1502166860869459,0.3011786962743455],[0.0,1.125,0.0,1.2030548223944248,0.0,0.3751985921009285,0.0,0.4015715950324607]],[[0.4166587500000001,0.84375,1.7999999999999998,0.0,0.13898554605046426,0.2813989440756963,0.6008667443477836,0.0],[0.4166587500000001,0.84375,1.35,0.3007637055986062,0.13898554605046426,0.2813989440756963,0.4506500582608377,0.10039289875811518],[0.4166587500000001,0.84375,0.8999999999999999,0.6015274111972124,0.13898554605046426,0.2813989440756963,0.3004333721738918,0.20078579751623035],[0.4166587500000001,0.84375,0.44999999999999996,0.9022911167958186,0.13898554605046426,0.2813989440756963,0.1502166860869459,0.3011786962743455],[0.4166587500000001,0.84375,0.0,1.2030548223944248,0.13898554605046426,0.2813989440756963,0.0,0.4015715950324607]],[[0.8333175000000002,0.5625,1.7999999999999998,0.0,0.2779710921009285,0.18759929605046424,0.6008667443477836,0.0],[0.8333175000000002,0.5625,1.35,0.3007637055986062,0.2779710921009285,0.18759929605046424,0.4506500582608377,0.10039289875811518],[0.8333175000000002,0.5625,0.8999999999999999,0.6015274111972124,0.2779710921009285,0.18759929605046424,0.3004333721738918,0.20078579751623035],[0.8333175000000002,0.5625,0.44999999999999996,0.9022911167958186,0.2779710921009285,0.18759929605046424,0.1502166860869459,0.3011786962743455],[0.8333175000000002,0.5625,0.0,1.2030548223944248,0.2779710921009285,0.18759929605046424,0.0,0.4015715950324607]],[[1.24997625,0.28125,1.7999999999999998,0.0,0.4169566381513928,0.09379964802523212,0.6008667443477836,0.0],[1.24997625,0.28125,1.35,0.3007637055986062,0.4169566381513928,0.09379964802523212,0.4506500582608377,0.10039289875811518],[1.24997625,0.28125,0.8999999999999999,0.6015274111972124,0.4169566381513928,0.09379964802523212,0.3004333721738918,0.20078579751623035],[1.24997625,0.28125,0.44999999999999996,0.9022911167958186,0.4169566381513928,0.09379964802523212,0.1502166860869459,0.3011786962743455],[1.24997625,0.28125,0.0,1.2030548223944248,0.4169566381513928,0.09379964802523212,0.0,0.4015715950324607]],[[1.6666350000000003,0.0,1.7999999999999998,0.0,0.555942184201857,0.0,0.6008667443477836,0.0],[1.6666350000000003,0.0,1.35,0.3007637055986062,0.555942184201857,0.0,0.4506500582608377,0.10039289875811518],[1.6666350000000003,0.0,0.8999999999999999,0.6015274111972124,0.555942184201857,0.0,0.3004333721738918,0.20078579751623035],[1.6666350000000003,0.0,0.44999999999999996,0.9022911167958186,0.555942184201857,0.0,0.1502166860869459,0.3011786962743455],[1.6666350000000003,0.0,0.0,1.2030548223944248,0.555942184201857,0.0,0.0,0.4015715950324607]]],[[[0.0,1.6875,0.8999999999999999,0.0,0.0,0.5627978881513926,0.3004333721738918,0.0],[0.0,1.6875,0.675,0.1503818527993031,0.0,0.5627978881513926,0.22532502913041885,0.05019644937905759],[0.0,1.6875,0.44999999999999996,0.3007637055986062,0.0,0.5627978881513926,0.1502166860869459,0.10039289875811518],[0.0,1.6875,0.22499999999999998,0.4511455583979093,0.0,0.5627978881513926,0.07510834304347296,0.15058934813717276],[0.0,1.6875,0.0,0.6015274111972124,0.0,0.5627978881513926,0.0,0.20078579751623035]],[[0.624988125,1.2656249999999996,0.8999999999999999,0.0,0.2084783190756964,0.42209841611354454,0.3004333721738918,0.0],[0.624988125,1.2656249999999996,0.675,0.1503818527993031,0.2084783190756964,0.42209841611354454,0.22532502913041885,0.05019644937905759],[0.624988125,1.2656249999999996,0.44999999999999996,0.3007637055986062,0.2084783190756964,0.42209841611354454,0.1502166860869459,0.10039289875811518],[0.624988125,1.2656249999999996,0.22499999999999998,0.4511455583979093,0.2084783190756964,0.42209841611354454,0.07510834304347296,0.15058934813717276],[0.624988125,1.2656249999999996,0.0,0.6015274111972124,0.2084783190756964,0.42209841611354454,0.0,0.20078579751623035]],[[1.24997625,0.84375,0.8999999999999999,0.0,0.4169566381513928,0.2813989440756963,0.3004333721738918,0.0],[1.24997625,0.84375,0.675,0.1503818527993031,0.4169566381513928,0.2813989440756963,0.22532502913041885,0.05019644937905759],[1.24997625,0.84375,0.44999999999999996,0.3007637055986062,0.4169566381513928,0.2813989440756963,0.1502166860869459,0.10039289875811518],[1.24997625,0.84375,0.22499999999999998,0.4511455583979093,0.4169566381513928,0.2813989440756963,0.07510834304347296,0.15058934813717276],[1.24997625,0.84375,0.0,0.6015274111972124,0.4169566381513928,0.2813989440756963,0.0,0.20078579751623035]],[[1.874964375,0.421875,0.8999999999999999,0.0,0.6254349572270892,0.14069947203784816,0.3004333721738918,0.0],[1.874964375,0.421875,0.675,0.1503818527993031,0.6254349572270892,0.14069947203784816,0.22532502913041885,0.05019644937905759],[1.874964375,0.421875,0.44999999999999996,0.3007637055986062,0.6254349572270892,0.14069947203784816,0.1502166860869459,0.10039289875811518],[1.874964375,0.421875,0.22499999999999998,0.4511455583979093,0.6254349572270892,0.14069947203784816,0.07510834304347296,0.15058934813717276],[1.874964375,0.421875,0.0,0.6015274111972124,0.6254349572270892,0.14069947203784816,0.0,0.20078579751623035]],[[2.4999525,0.0,0.8999999999999999,0.0,0.8339132763027856,0.0,0.3004333721738918,0.0],[2.4999525,0.0,0.675,0.1503818527993031,0.8339132763027856,0.0,0.22532502913041885,0.05019644937905759],[2.4999525,0.0,0.44999999999999996,0.3007637055986062,0.8339132763027856,0.0,0.1502166860869459,0.10039289875811518],[2.4999525,0.0,0.22499999999999998,0.4511455583979093,0.8339132763027856,0.0,0.07510834304347296,0.15058934813717276],[2.4999525,0.0,0.0,0.6015274111972124,0.8339132763027856,0.0,0.0,0.20078579751623035]]],[[[0.0,2.25,0.0,0.0,0.0,0.750397184201857,0.0,0.0],[0.0,2.25,0.0,0.0,0.0,0.750397184201857,0.0,0.0],[0.0,2.25,0.0,0.0,0.0,0.750397184201857,0.0,0.0],[0.0,2.25,0.0,0.0,0.0,0.750397184201857,0.0,0.0],[0.0,2.25,0.0,0.0,0.0,0.750397184201857,0.0,0.0]],[[0.8333175000000002,1.6875,0.0,0.0,0.2779710921009285,0.5627978881513926,0.0,0.0],[0.8333175000000002,1.6875,0.0,0.0,0.2779710921009285,0.5627978881513926,0.0,0.0],[0.8333175000000002,1.6875,0.0,0.0,0.2779710921009285,0.5627978881513926,0.0,0.0],[0.8333175000000002,1.6875,0.0,0.0,0.2779710921009285,0.5627978881513926,0.0,0.0],[0.8333175000000002,1.6875,0.0,0.0,0.2779710921009285,0.5627978881513926,0.0,0.0]],[[1.6666350000000003,1.125,0.0,0.0,0.555942184201857,0.3751985921009285,0.0,0.0],[1.6666350000000003,1.125,0.0,0.0,0.555942184201857,0.3751985921009285,0.0,0.0],[1.6666350000000003,1.125,0.0,0.0,0.555942184201857,0.3751985921009285,0.0,0.0],[1.6666350000000003,1.125,0.0,0.0,0.555942184201857,0.3751985921009285,0.0,0.0],[1.6666350000000003,1.125,0.0,0.0,0.555942184201857,0.3751985921009285,0.0,0.0]],[[2.4999525,0.5625,0.0,0.0,0.8339132763027856,0.18759929605046424,0.0,0.0],[2.4999525,0.5625,0.0,0.0,0.8339132763027856,0.18759929605046424,0.0,0.0],[2.4999525,0.5625,0.0,0.0,0.8339132763027856,0.18759929605046424,0.0,0.0],[2.4999525,0.5625,0.0,0.0,0.8339132763027856,0.18759929605046424,0.0,0.0],[2.4999525,0.5625,0.0,0.0,0.8339132763027856,0.18759929605046424,0.0,0.0]],[[3.3332700000000006,0.0,0.0,0.0,1.111884368403714,0.0,0.0,0.0],[3.3332700000000006,0.0,0.0,0.0,1.111884368403714,0.0,0.0,0.0],[3.3332700000000006,0.0,0.0,0.0,1.111884368403714,0.0,0.0,0.0],[3.3332700000000006,0.0,0.0,0.0,1.111884368403714,0.0,0.0,0.0],[3.3332700000000006,0.0,0.0,0.0,1.111884368403714,0.0,0.0,0.0]]]],[[[[0.0,0.0,2.4,0.0,0.0,0.0,2.4034669773911346,0.0],[0.0,0.0,1.8,0.40101827413147495,0.0,0.0,1.8026002330433508,0.4015715950324607],[0.0,0.0,1.2,0.8020365482629499,0.0,0.0,1.2017334886955673,0.8031431900649214],[0.0,0.0,0.6,1.2030548223944248,0.0,0.0,0.6008667443477836,1.204714785097382],[0.0,0.0,0.0,1.6040730965258998,0.0,0.0,0.0,1.6062863801298428]],[[0.0,0.0,2.4,0.0,0.0,0.0,2.4034669773911346,0.0],[0.0,0.0,1.8,0.40101827413147495,0.0,0.0,1.8026002330433508,0.4015715950324607],[0.0,0.0,1.2,0.8020365482629499,0.0,0.0,1.2017334886955673,0.8031431900649214],[0.0,0.0,0.6,1.2030548223944248,0.0,0.0,0.6008667443477836,1.204714785097382],[0.0,0.0,0.0,1.6040730965258998,0.0,0.0,0.0,1.6062863801298428]],[[0.0,0.0,2.4,0.0,0.0,0.0,2.4034669773911346,0.0],[0.0,0.0,1.8,0.40101827413147495,0.0,0.0,1.8026002330433508,0.4015715950324607],[0.0,0.0,1.2,0.8020365482629499,0.0,0.0,1.2017334886955673,0.8031431900649214],[0.0,0.0,0.6,1.2030548223944248,0.0,0.0,0.6008667443477836,1.204714785097382],[0.0,0.0,0.0,1.6040730965258998,0.0,0.0,0.0,1.6062863801298428]],[[0.0,0.0,2.4,0.0,0.0,0.0,2.4034669773911346,0.0],[0.0,0.0,1.8,0.40101827413147495,0.0,0.0,1.8026002330433508,0.4015715950324607],[0.0,0.0,1.2,0.8020365482629499,0.0,0.0,1.2017334886955673,0.8031431900649214],[0.0,0.0,0.6,1.2030548223944248,0.0,0.0,0.6008667443477836,1.204714785097382],[0.0,0.0,0.0,1.6040730965258998,0.0,0.0,0.0,1.6062863801298428]],[[0.0,0.0,2.4,0.0,0.0,0.0,2.4034669773911346,0.0],[0.0,0.0,1.8,0.40101827413147495,0.0,0.0,1.8026002330433508,0.4015715950324607],[0.0,0.0,1.2,0.8020365482629499,0.0,0.0,1.2017334886955673,0.8031431900649214],[0.0,0.0,0.6,1.2030548223944248,0.0,0.0,0.6008667443477836,1.204714785097382],[0.0,0.0,0.0,1.6040730965258998,0.0,0.0,0.0,1.6062863801298428]]],[[[0.0,0.375,1.8,0.0,0.0,0.3751985921009285,1.8026002330433508,0.0],[0.0,0.375,1.35,0.3007637055986062,0.0,0.3751985921009285,1.3519501747825133,0.3011786962743455],[0.0,0.375,0.9,0.6015274111972124,0.0,0.3751985921009285,0.9013001165216754,0.602357392548691],[0.0,0.375,0.45,0.9022911167958186,0.0,0.3751985921009285,0.4506500582608377,0.9035360888230366],[0.0,0.375,0.0,1.2030548223944248,0.0,0.3751985921009285,0.0,1.204714785097382]],[[0.13888625000000002,0.28125,1.8,0.0,0.13898554605046426,0.2813989440756963,1.8026002330433508,0.0],[0.13888625000000002,0.28125,1.35,0.3007637055986062,0.13898554605046426,0.2813989440756963,1.3519501747825133,0.3011786962743455],[0.13888625000000002,0.28125,0.9,0.6015274111972124,0.13898554605046426,0.2813989440756963,0.9013001165216754,0.602357392548691],[0.13888625000000002,0.28125,0.45,0.9022911167958186,0.13898554605046426,0.2813989440756963,0.4506500582608377,0.9035360888230366],[0.13888625000000002,0.28125,0.0,1.2030548223944248,0.13898554605046426,0.2813989440756963,0.0,1.204714785097382]],[[0.27777250000000003,0.1875,1.8,0.0,0.2779710921009285,0.18759929605046424,1.8026002330433508,0.0],[0.27777250000000003,0.1875,1.35,0.3007637055986062,0.2779710921009285,0.18759929605046424,1.3519501747825133,0.3011786962743455],[0.27777250000000003,0.1875,0.9,0.6015274111972124,0.2779710921009285,0.18759929605046424,0.9013001165216754,0.602357392548691],[0.27777250000000003,0.1875,0.45,0.9022911167958186,0.2779710921009285,0.18759929605046424,0.4506500582608377,0.9035360888230366],[0.27777250000000003,0.1875,0.0,1.2030548223944248,0.2779710921009285,0.18759929605046424,0.0,1.204714785097382]],[[0.41665874999999997,0.09375,1.8,0.0,0.4169566381513928,0.09379964802523212,1.8026002330433508,0.0],[0.41665874999999997,0.09375,1.35,0.3007637055986062,0.4169566381513928,0.09379964802523212,1.3519501747825133,0.3011786962743455],[0.41665874999999997,0.09375,0.9,0.6015274111972124,0.4169566381513928,0.09379964802523212,0.9013001165216754,0.602357392548691],[0.41665874999999997,0.09375,0.45,0.9022911167958186,0.4169566381513928,0.09379964802523212,0.4506500582608377,0.9035360888230366],[0.41665874999999997,0.09375,0.0,1.2030548223944248,0.4169566381513928,0.09379964802523212,0.0,1.204714785097382]],[[0.5555450000000001,0.0,1.8,0.0,0.555942184201857,0.0,1.8026002330433508,0.0],[0.5555450000000001,0.0,1.35,0.3007637055986062,0.555942184201857,0.0,1.3519501747825133,0.3011786962743455],[0.5555450000000001,0.0,0.9,0.6015274111972124,0.555942184201857,0.0,0.9013001165216754,0.602357392548691],[0.5555450000000001,0.0,0.45,0.9022911167958186,0.555942184201857,0.0,0.4506500582608377,0.9035360888230366],[0.5555450000000001,0.0,0.0,1.2030548223944248,0.555942184201857,0.0,0.0,1.204714785097382]]],[[[0.0,0.75,1.2,0.0,0.0,0.750397184201857,1.2017334886955673,0.0],[0.0,0.75,0.9,0.20050913706573747,0.0,0.750397184201857,0.9013001165216754,0.20078579751623035],[0.0,0.75,0.6,0.40101827413147495,0.0,0.750397184201857,0.6008667443477836,0.4015715950324607],[0.0,0.75,0.3,0.6015274111972124,0.0,0.750397184201857,0.3004333721738918,0.602357392548691],[0.0,0.75,0.0,0.8020365482629499,0.0,0.750397184201857,0.0,0.8031431900649214]],[[0.27777250000000003,0.5625,1.2,0.0,0.2779710921009285,0.5627978881513926,1.2017334886955673,0.0],[0.27777250000000003,0.5625,0.9,0.20050913706573747,0.2779710921009285,0.5627978881513926,0.9013001165216754,0.20078579751623035],[0.27777250000000003,0.5625,0.6,0.40101827413147495,0.2779710921009285,0.5627978881513926,0.6008667443477836,0.4015715950324607],[0.27777250000000003,0.5625,0.3,0.6015274111972124,0.2779710921009285,0.5627978881513926,0.3004333721738918,0.602357392548691],[0.27777250000000003,0.5625,0.0,0.8020365482629499,0.2779710921009285,0.5627978881513926,0.0,0.8031431900649214]],[[0.5555450000000001,0.375,1.2,0.0,0.555942184201857,0.3751985921009285,1.2017334886955673,0.0],[0.5555450000000001,0.375,0.9,0.20050913706573747,0.555942184201857,0.3751985921009285,0.9013001165216754,0.20078579751623035],[0.5555450000000001,0.375,0.6,0.40101827413147495,0.555942184201857,0.3751985921009285,0.6008667443477836,0.4015715950324607],[0.5555450000000001,0.375,0.3,0.6015274111972124,0.555942184201857,0.3751985921009285,0.3004333721738918,0.602357392548691],[0.5555450000000001,0.375,0.0,0.8020365482629499,0.555942184201857,0.3751985921009285,0.0,0.8031431900649214]],[[0.8333174999999999,0.1875,1.2,0.0,0.8339132763027856,0.18759929605046424,1.2017334886955673,0.0],[0.8333174999999999,0.1875,0.9,0.20050913706573747,0.8339132763027856,0.18759929605046424,0.9013001165216754,0.20078579751623035],[0.8333174999999999,0.1875,0.6,0.40101827413147495,0.8339132763027856,0.18759929605046424,0.6008667443477836,0.4015715950324607],[0.8333174999999999,0.1875,0.3,0.6015274111972124,0.8339132763027856,0.18759929605046424,0.3004333721738918,0.602357392548691],[0.8333174999999999,0.1875,0.0,0.8020365482629499,0.8339132763027856,0.18759929605046424,0.0,0.8031431900649214]],[[1.1110900000000001,0.0,1.2,0.0,1.111884368403714,0.0,1.2017334886955673,0.0],[1.1110900000000001,0.0,0.9,0.20050913706573747,1.111884368403714,0.0,0.9013001165216754,0.20078579751623035],[1.1110900000000001,0.0,0.6,0.40101827413147495,1.111884368403714,0.0,0.6008667443477836,0.4015715950324607],[1.1110900000000001,0.0,0.3,0.6015274111972124,1.111884368403714,0.0,0.3004333721738918,0.602357392548691],[1.1110900000000001,0.0,0.0,0.8020365482629499,1.111884368403714,0.0,0.0,0.8031431900649214]]],[[[0.0,1.125,0.6,0.0,0.0,1.1255957763027853,0.6008667443477836,0.0],[0.0,1.125,0.45,0.10025456853286874,0.0,1.1255957763027853,0.4506500582608377,0.10039289875811518],[0.0,1.125,0.3,0.20050913706573747,0.0,1.1255957763027853,0.3004333721738918,0.20078579751623035],[0.0,1.125,0.15,0.3007637055986062,0.0,1.1255957763027853,0.1502166860869459,0.3011786962743455],[0.0,1.125,0.0,0.40101827413147495,0.0,1.1255957763027853,0.0,0.4015715950324607]],[[0.41665874999999997,0.8437499999999998,0.6,0.0,0.4169566381513928,0.8441968322270891,0.6008667443477836,0.0],[0.41665874999999997,0.8437499999999998,0.45,0.10025456853286874,0.4169566381513928,0.8441968322270891,0.4506500582608377,0.10039289875811518],[0.41665874999999997,0.8437499999999998,0.3,0.20050913706573747,0.4169566381513928,0.8441968322270891,0.3004333721738918,0.20078579751623035],[0.41665874999999997,0.8437499999999998,0.15,0.3007637055986062,0.4169566381513928,0.8441968322270891,0.1502166860869459,0.3011786962743455],[0.41665874999999997,0.8437499999999998,0.0,0.40101827413147495,0.4169566381513928,0.8441968322270891,0.0,0.4015715950324607]],[[0.8333174999999999,0.5625,0.6,0.0,0.8339132763027856,0.5627978881513926,0.6008667443477836,0.0],[0.8333174999999999,0.5625,0.45,0.10025456853286874,0.8339132763027856,0.5627978881513926,0.4506500582608377,0.10039289875811518],[0.8333174999999999,0.5625,0.3,0.20050913706573747,0.8339132763027856,0.5627978881513926,0.3004333721738918,0.20078579751623035],[0.8333174999999999,0.5625,0.15,0.3007637055986062,0.8339132763027856,0.5627978881513926,0.1502166860869459,0.3011786962743455],[0.8333174999999999,0.5625,0.0,0.40101827413147495,0.8339132763027856,0.5627978881513926,0.0,0.4015715950324607]],[[1.24997625,0.28125,0.6,0.0,1.2508699144541784,0.2813989440756963,0.6008667443477836,0.0],[1.24997625,0.28125,0.45,0.10025456853286874,1.2508699144541784,0.2813989440756963,0.4506500582608377,0.10039289875811518],[1.24997625,0.28125,0.3,0.20050913706573747,1.2508699144541784,0.2813989440756963,0.3004333721738918,0.20078579751623035],[1.24997625,0.28125,0.15,0.3007637055986062,1.2508699144541784,0.2813989440756963,0.1502166860869459,0.3011786962743455],[1.24997625,0.28125,0.0,0.40101827413147495,1.2508699144541784,0.2813989440756963,0.0,0.4015715950324607]],[[1.6666349999999999,0.0,0.6,0.0,1.667826552605571,0.0,0.6008667443477836,0.0],[1.6666349999999999,0.0,0.45,0.10025456853286874,1.667826552605571,0.0,0.4506500582608377,0.10039289875811518],[1.6666349999999999,0.0,0.3,0.20050913706573747,1.667826552605571,0.0,0.3004333721738918,0.20078579751623035],[1.6666349999999999,0.0,0.15,0.3007637055986062,1.667826552605571,0.0,0.1502166860869459,0.3011786962743455],[1.6666349999999999,0.0,0.0,0.40101827413147495,1.667826552605571,0.0,0.0,0.4015715950324607]]],[[[0.0,1.5,0.0,0.0,0.0,1.500794368403714,0.0,0.0],[0.0,1.5,0.0,0.0,0.0,1.500794368403714,0.0,0.0],[0.0,1.5,0.0,0.0,0.0,1.500794368403714,0.0,0.0],[0.0,1.5,0.0,0.0,0.0,1.500794368403714,0.0,0.0],[0.0,1.5,0.0,0.0,0.0,1.500794368403714,0.0,0.0]],[[0.5555450000000001,1.125,0.0,0.0,0.555942184201857,1.1255957763027853,0.0,0.0],[0.5555450000000001,1.125,0.0,0.0,0.555942184201857,1.1255957763027853,0.0,0.0],[0.5555450000000001,1.125,0.0,0.0,0.555942184201857,1.1255957763027853,0.0,0.0],[0.5555450000000001,1.125,0.0,0.0,0.555942184201857,1.1255957763027853,0.0,0.0],[0.5555450000000001,1.125,0.0,0.0,0.555942184201857,1.1255957763027853,0.0,0.0]],[[1.1110900000000001,0.75,0.0,0.0,1.111884368403714,0.750397184201857,0.0,0.0],[1.1110900000000001,0.75,0.0,0.0,1.111884368403714,0.750397184201857,0.0,0.0],[1.1110900000000001,0.75,0.0,0.0,1.111884368403714,0.750397184201857,0.0,0.0],[1.1110900000000001,0.75,0.0,0.0,1.111884368403714,0.750397184201857,0.0,0.0],[1.1110900000000001,0.75,0.0,0.0,1.111884368403714,0.750397184201857,0.0,0.0]],[[1.6666349999999999,0.375,0.0,0.0,1.667826552605571,0.3751985921009285,0.0,0.0],[1.6666349999999999,0.375,0.0,0.0,1.667826552605571,0.3751985921009285,0.0,0.0],[1.6666349999999999,0.375,0.0,0.0,1.667826552605571,0.3751985921009285,0.0,0.0],[1.6666349999999999,0.375,0.0,0.0,1.667826552605571,0.3751985921009285,0.0,0.0],[1.6666349999999999,0.375,0.0,0.0,1.667826552605571,0.3751985921009285,0.0,0.0]],[[2.2221800000000003,0.0,0.0,0.0,2.223768736807428,0.0,0.0,0.0],[2.2221800000000003,0.0,0.0,0.0,2.223768736807428,0.0,0.0,0.0],[2.2221800000000003,0.0,0.0,0.0,2.223768736807428,0.0,0.0,0.0],[2.2221800000000003,0.0,0.0,0.0,2.223768736807428,0.0,0.0,0.0],[2.2221800000000003,0.0,0.0,0.0,2.223768736807428,0.0,0.0,0.0]]]],[[[[0.0,0.0,1.2,0.0,0.0,0.0,3.6052004660867016,0.0],[0.0,0.0,0.9,0.20050913706573747,0.0,0.0,2.7039003495650262,0.602357392548691],[0.0,0.0,0.6,0.40101827413147495,0.0,0.0,1.8026002330433508,1.204714785097382],[0.0,0.0,0.3,0.6015274111972124,0.0,0.0,0.9013001165216754,1.8070721776460732],[0.0,0.0,0.0,0.8020365482629499,0.0,0.0,0.0,2.409429570194764]],[[0.0,0.0,1.2,0.0,0.0,0.0,3.6052004660867016,0.0],[0.0,0.0,0.9,0.20050913706573747,0.0,0.0,2.7039003495650262,0.602357392548691],[0.0,0.0,0.6,0.40101827413147495,0.0,0.0,1.8026002330433508,1.204714785097382],[0.0,0.0,0.3,0.6015274111972124,0.0,0.0,0.9013001165216754,1.8070721776460732],[0.0,0.0,0.0,0.8020365482629499,0.0,0.0,0.0,2.409429570194764]],[[0.0,0.0,1.2,0.0,0.0,0.0,3.6052004660867016,0.0],[0.0,0.0,0.9,0.20050913706573747,0.0,0.0,2.7039003495650262,0.602357392548691],[0.0,0.0,0.6,0.40101827413147495,0.0,0.0,1.8026002330433508,1.204714785097382],[0.0,0.0,0.3,0.6015274111972124,0.0,0.0,0.9013001165216754,1.8070721776460732],[0.0,0.0,0.0,0.8020365482629499,0.0,0.0,0.0,2.409429570194764]],[[0.0,0.0,1.2,0.0,0.0,0.0,3.6052004660867016,0.0],[0.0,0.0,0.9,0.20050913706573747,0.0,0.0,2.7039003495650262,0.602357392548691],[0.0,0.0,0.6,0.40101827413147495,0.0,0.0,1.8026002330433508,1.204714785097382],[0.0,0.0,0.3,0.6015274111972124,0.0,0.0,0.9013001165216754,1.8070721776460732],[0.0,0.0,0.0,0.8020365482629499,0.0,0.0,0.0,2.409429570194764]],[[0.0,0.0,1.2,0.0,0.0,0.0,3.6052004660867016,0.0],[0.0,0.0,0.9,0.20050913706573747,0.0,0.0,2.7039003495650262,0.602357392548691],[0.0,0.0,0.6,0.40101827413147495,0.0,0.0,1.8026002330433508,1.204714785097382],[0.0,0.0,0.3,0.6015274111972124,0.0,0.0,0.9013001165216754,1.8070721776460732],[0.0,0.0,0.0,0.8020365482629499,0.0,0.0,0.0,2.409429570194764]]],[[[0.0,0.1875,0.9,0.0,0.0,0.5627978881513928,2.7039003495650262,0.0],[0.0,0.1875,0.675,0.1503818527993031,0.0,0.5627978881513928,2.02792526217377,0.4517680444115183],[0.0,0.1875,0.45,0.3007637055986062,0.0,0.5627978881513928,1.3519501747825131,0.9035360888230366],[0.0,0.1875,0.225,0.4511455583979093,0.0,0.5627978881513928,0.6759750873912566,1.3553041332345548],[0.0,0.1875,0.0,0.6015274111972124,0.0,0.5627978881513928,0.0,1.8070721776460732]],[[0.06944312500000001,0.140625,0.9,0.0,0.2084783190756964,0.4220984161135445,2.7039003495650262,0.0],[0.06944312500000001,0.140625,0.675,0.1503818527993031,0.2084783190756964,0.4220984161135445,2.02792526217377,0.4517680444115183],[0.06944312500000001,0.140625,0.45,0.3007637055986062,0.2084783190756964,0.4220984161135445,1.3519501747825131,0.9035360888230366],[0.06944312500000001,0.140625,0.225,0.4511455583979093,0.2084783190756964,0.4220984161135445,0.6759750873912566,1.3553041332345548],[0.06944312500000001,0.140625,0.0,0.6015274111972124,0.2084783190756964,0.4220984161135445,0.0,1.8070721776460732]],[[0.13888625000000002,0.09375,0.9,0.0,0.4169566381513928,0.2813989440756964,2.7039003495650262,0.0],[0.13888625000000002,0.09375,0.675,0.1503818527993031,0.4169566381513928,0.2813989440756964,2.02792526217377,0.4517680444115183],[0.13888625000000002,0.09375,0.45,0.3007637055986062,0.4169566381513928,0.2813989440756964,1.3519501747825131,0.9035360888230366],[0.13888625000000002,0.09375,0.225,0.4511455583979093,0.4169566381513928,0.2813989440756964,0.6759750873912566,1.3553041332345548],[0.13888625000000002,0.09375,0.0,0.6015274111972124,0.4169566381513928,0.2813989440756964,0.0,1.8070721776460732]],[[0.20832937499999998,0.046875,0.9,0.0,0.6254349572270892,0.1406994720378482,2.7039003495650262,0.0],[0.20832937499999998,0.046875,0.675,0.1503818527993031,0.6254349572270892,0.1406994720378482,2.02792526217377,0.4517680444115183],[0.20832937499999998,0.046875,0.45,0.3007637055986062,0.6254349572270892,0.1406994720378482,1.3519501747825131,0.9035360888230366],[0.20832937499999998,0.046875,0.225,0.4511455583979093,0.6254349572270892,0.1406994720378482,0.6759750873912566,1.3553041332345548],[0.20832937499999998,0.046875,0.0,0.6015274111972124,0.6254349572270892,0.1406994720378482,0.0,1.8070721776460732]],[[0.27777250000000003,0.0,0.9,0.0,0.8339132763027856,0.0,2.7039003495650262,0.0],[0.27777250000000003,0.0,0.675,0.1503818527993031,0.8339132763027856,0.0,2.02792526217377,0.4517680444115183],[0.27777250000000003,0.0,0.45,0.3007637055986062,0.8339132763027856,0.0,1.3519501747825131,0.9035360888230366],[0.27777250000000003,0.0,0.225,0.4511455583979093,0.8339132763027856,0.0,0.6759750873912566,1.3553041332345548],[0.27777250000000003,0.0,0.0,0.6015274111972124,0.8339132763027856,0.0,0.0,1.8070721776460732]]],[[[0.0,0.375,0.6,0.0,0.0,1.1255957763027855,1.8026002330433508,0.0],[0.0,0.375,0.45,0.10025456853286874,0.0,1.1255957763027855,1.3519501747825131,0.3011786962743455],[0.0,0.375,0.3,0.20050913706573747,0.0,1.1255957763027855,0.9013001165216754,0.602357392548691],[0.0,0.375,0.15,0.3007637055986062,0.0,1.1255957763027855,0.4506500582608377,0.9035360888230366],[0.0,0.375,0.0,0.40101827413147495,0.0,1.1255957763027855,0.0,1.204714785097382]],[[0.13888625000000002,0.28125,0.6,0.0,0.4169566381513928,0.844196832227089,1.8026002330433508,0.0],[0.13888625000000002,0.28125,0.45,0.10025456853286874,0.4169566381513928,0.844196832227089,1.3519501747825131,0.3011786962743455],[0.13888625000000002,0.28125,0.3,0.20050913706573747,0.4169566381513928,0.844196832227089,0.9013001165216754,0.602357392548691],[0.13888625000000002,0.28125,0.15,0.3007637055986062,0.4169566381513928,0.844196832227089,0.4506500582608377,0.9035360888230366],[0.13888625000000002,0.28125,0.0,0.40101827413147495,0.4169566381513928,0.844196832227089,0.0,1.204714785097382]],[[0.27777250000000003,0.1875,0.6,0.0,0.8339132763027856,0.5627978881513928,1.8026002330433508,0.0],[0.27777250000000003,0.1875,0.45,0.10025456853286874,0.8339132763027856,0.5627978881513928,1.3519501747825131,0.3011786962743455],[0.27777250000000003,0.1875,0.3,0.20050913706573747,0.8339132763027856,0.5627978881513928,0.9013001165216754,0.602357392548691],[0.27777250000000003,0.1875,0.15,0.3007637055986062,0.8339132763027856,0.5627978881513928,0.4506500582608377,0.9035360888230366],[0.27777250000000003,0.1875,0.0,0.40101827413147495,0.8339132763027856,0.5627978881513928,0.0,1.204714785097382]],[[0.41665874999999997,0.09375,0.6,0.0,1.2508699144541784,0.2813989440756964,1.8026002330433508,0.0],[0.41665874999999997,0.09375,0.45,0.10025456853286874,1.2508699144541784,0.2813989440756964,1.3519501747825131,0.3011786962743455],[0.41665874999999997,0.09375,0.3,0.20050913706573747,1.2508699144541784,0.2813989440756964,0.9013001165216754,0.602357392548691],[0.41665874999999997,0.09375,0.15,0.3007637055986062,1.2508699144541784,0.2813989440756964,0.4506500582608377,0.9035360888230366],[0.41665874999999997,0.09375,0.0,0.40101827413147495,1.2508699144541784,0.2813989440756964,0.0,1.204714785097382]],[[0.5555450000000001,0.0,0.6,0.0,1.667826552605571,0.0,1.8026002330433508,0.0],[0.5555450000000001,0.0,0.45,0.10025456853286874,1.667826552605571,0.0,1.3519501747825131,0.3011786962743455],[0.5555450000000001,0.0,0.3,0.20050913706573747,1.667826552605571,0.0,0.9013001165216754,0.602357392548691],[0.5555450000000001,0.0,0.15,0.3007637055986062,1.667826552605571,0.0,0.4506500582608377,0.9035360888230366],[0.5555450000000001,0.0,0.0,0.40101827413147495,1.667826552605571,0.0,0.0,1.204714785097382]]],[[[0.0,0.5625,0.3,0.0,0.0,1.688393664454178,0.9013001165216754,0.0],[0.0,0.5625,0.225,0.05012728426643437,0.0,1.688393664454178,0.6759750873912566,0.15058934813717276],[0.0,0.5625,0.15,0.10025456853286874,0.0,1.688393664454178,0.4506500582608377,0.3011786962743455],[0.0,0.5625,0.075,0.1503818527993031,0.0,1.688393664454178,0.22532502913041885,0.4517680444115183],[0.0,0.5625,0.0,0.20050913706573747,0.0,1.688393664454178,0.0,0.602357392548691]],[[0.20832937499999998,0.4218749999999999,0.3,0.0,0.6254349572270892,1.2662952483406336,0.9013001165216754,0.0],[0.20832937499999998,0.4218749999999999,0.225,0.05012728426643437,0.6254349572270892,1.2662952483406336,0.6759750873912566,0.15058934813717276],[0.20832937499999998,0.4218749999999999,0.15,0.10025456853286874,0.6254349572270892,1.2662952483406336,0.4506500582608377,0.3011786962743455],[0.20832937499999998,0.4218749999999999,0.075,0.1503818527993031,0.6254349572270892,1.2662952483406336,0.22532502913041885,0.4517680444115183],[0.20832937499999998,0.4218749999999999,0.0,0.20050913706573747,0.6254349572270892,1.2662952483406336,0.0,0.602357392548691]],[[0.41665874999999997,0.28125,0.3,0.0,1.2508699144541784,0.844196832227089,0.9013001165216754,0.0],[0.41665874999999997,0.28125,0.225,0.05012728426643437,1.2508699144541784,0.844196832227089,0.6759750873912566,0.15058934813717276],[0.41665874999999997,0.28125,0.15,0.10025456853286874,1.2508699144541784,0.844196832227089,0.4506500582608377,0.3011786962743455],[0.41665874999999997,0.28125,0.075,0.1503818527993031,1.2508699144541784,0.844196832227089,0.22532502913041885,0.4517680444115183],[0.41665874999999997,0.28125,0.0,0.20050913706573747,1.2508699144541784,0.844196832227089,0.0,0.602357392548691]],[[0.624988125,0.140625,0.3,0.0,1.8763048716812676,0.4220984161135445,0.9013001165216754,0.0],[0.624988125,0.140625,0.225,0.05012728426643437,1.8763048716812676,0.4220984161135445,0.6759750873912566,0.15058934813717276],[0.624988125,0.140625,0.15,0.10025456853286874,1.8763048716812676,0.4220984161135445,0.4506500582608377,0.3011786962743455],[0.624988125,0.140625,0.075,0.1503818527993031,1.8763048716812676,0.4220984161135445,0.22532502913041885,0.4517680444115183],[0.624988125,0.140625,0.0,0.20050913706573747,1.8763048716812676,0.4220984161135445,0.0,0.602357392548691]],[[0.8333174999999999,0.0,0.3,0.0,2.5017398289083568,0.0,0.9013001165216754,0.0],[0.8333174999999999,0.0,0.225,0.05012728426643437,2.5017398289083568,0.0,0.6759750873912566,0.15058934813717276],[0.8333174999999999,0.0,0.15,0.10025456853286874,2.5017398289083568,0.0,0.4506500582608377,0.3011786962743455],[0.8333174999999999,0.0,0.075,0.1503818527993031,2.5017398289083568,0.0,0.22532502913041885,0.4517680444115183],[0.8333174999999999,0.0,0.0,0.20050913706573747,2.5017398289083568,0.0,0.0,0.602357392548691]]],[[[0.0,0.75,0.0,0.0,0.0,2.251191552605571,0.0,0.0],[0.0,0.75,0.0,0.0,0.0,2.251191552605571,0.0,0.0],[0.0,0.75,0.0,0.0,0.0,2.251191552605571,0.0,0.0],[0.0,0.75,0.0,0.0,0.0,2.251191552605571,0.0,0.0],[0.0,0.75,0.0,0.0,0.0,2.251191552605571,0.0,0.0]],[[0.27777250000000003,0.5625,0.0,0.0,0.8339132763027856,1.688393664454178,0.0,0.0],[0.27777250000000003,0.5625,0.0,0.0,0.8339132763027856,1.688393664454178,0.0,0.0],[0.27777250000000003,0.5625,0.0,0.0,0.8339132763027856,1.688393664454178,0.0,0.0],[0.27777250000000003,0.5625,0.0,0.0,0.8339132763027856,1.688393664454178,0.0,0.0],[0.27777250000000003,0.5625,0.0,0.0,0.8339132763027856,1.688393664454178,0.0,0.0]],[[0.5555450000000001,0.375,0.0,0.0,1.667826552605571,1.1255957763027855,0.0,0.0],[0.5555450000000001,0.375,0.0,0.0,1.667826552605571,1.1255957763027855,0.0,0.0],[0.5555450000000001,0.375,0.0,0.0,1.667826552605571,1.1255957763027855,0.0,0.0],[0.5555450000000001,0.375,0.0,0.0,1.667826552605571,1.1255957763027855,0.0,0.0],[0.5555450000000001,0.375,0.0,0.0,1.667826552605571,1.1255957763027855,0.0,0.0]],[[0.8333174999999999,0.1875,0.0,0.0,2.5017398289083568,0.5627978881513928,0.0,0.0],[0.8333174999999999,0.1875,0.0,0.0,2.5017398289083568,0.5627978881513928,0.0,0.0],[0.8333174999999999,0.1875,0.0,0.0,2.5017398289083568,0.5627978881513928,0.0,0.0],[0.8333174999999999,0.1875,0.0,0.0,2.5017398289083568,0.5627978881513928,0.0,0.0],[0.8333174999999999,0.1875,0.0,0.0,2.5017398289083568,0.5627978881513928,0.0,0.0]],[[1.1110900000000001,0.0,0.0,0.0,3.335653105211142,0.0,0.0,0.0],[1.1110900000000001,0.0,0.0,0.0,3.335653105211142,0.0,0.0,0.0],[1.1110900000000001,0.0,0.0,0.0,3.335653105211142,0.0,0.0,0.0],[1.1110900000000001,0.0,0.0,0.0,3.335653105211142,0.0,0.0,0.0],[1.1110900000000001,0.0,0.0,0.0,3.335653105211142,0.0,0.0,0.0]]]],[[[[0.0,0.0,0.0,0.0,0.0,0.0,4.806933954782269,0.0],[0.0,0.0,0.0,0.0,0.0,0.0,3.6052004660867016,0.8031431900649214],[0.0,0.0,0.0,0.0,0.0,0.0,2.4034669773911346,1.6062863801298428],[0.0,0.0,0.0,0.0,0.0,0.0,1.2017334886955673,2.409429570194764],[0.0,0.0,0.0,0.0,0.0,0.0,0.0,3.2125727602596856]],[[0.0,0.0,0.0,0.0,0.0,0.0,4.806933954782269,0.0],[0.0,0.0,0.0,0.0,0.0,0.0,3.6052004660867016,0.8031431900649214],[0.0,0.0,0.0,0.0,0.0,0.0,2.4034669773911346,1.6062863801298428],[0.0,0.0,0.0,0.0,0.0,0.0,1.2017334886955673,2.409429570194764],[0.0,0.0,0.0,0.0,0.0,0.0,0.0,3.2125727602596856]],[[0.0,0.0,0.0,0.0,0.0,0.0,4.806933954782269,0.0],[0.0,0.0,0.0,0.0,0.0,0.0,3.6052004660867016,0.8031431900649214],[0.0,0.0,0.0,0.0,0.0,0.0,2.4034669773911346,1.6062863801298428],[0.0,0.0,0.0,0.0,0.0,0.0,1.2017334886955673,2.409429570194764],[0.0,0.0,0.0,0.0,0.0,0.0,0.0,3.2125727602596856]],[[0.0,0.0,0.0,0.0,0.0,0.0,4.806933954782269,0.0],[0.0,0.0,0.0,0.0,0.0,0.0,3.6052004660867016,0.8031431900649214],[0.0,0.0,0.0,0.0,0.0,0.0,2.4034669773911346,1.6062863801298428],[0.0,0.0,0.0,0.0,0.0,0.0,1.2017334886955673,2.409429570194764],[0.0,0.0,0.0,0.0,0.0,0.0,0.0,3.2125727602596856]],[[0.0,0.0,0.0,0.0,0.0,0.0,4.806933954782269,0.0],[0.0,0.0,0.0,0.0,0.0,0.0,3.6052004660867016,0.8031431900649214],[0.0,0.0,0.0,0.0,0.0,0.0,2.4034669773911346,1.6062863801298428],[0.0,0.0,0.0,0.0,0.0,0.0,1.2017334886955673,2.409429570194764],[0.0,0.0,0.0,0.0,0.0,0.0,0.0,3.2125727602596856]]],[[[0.0,0.0,0.0,0.0,0.0,0.750397184201857,3.6052004660867016,0.0],[0.0,0.0,0.0,0.0,0.0,0.750397184201857,2.7039003495650267,0.602357392548691],[0.0,0.0,0.0,0.0,0.0,0.750397184201857,1.8026002330433508,1.204714785097382],[0.0,0.0,0.0,0.0,0.0,0.750397184201857,0.9013001165216754,1.8070721776460732],[0.0,0.0,0.0,0.0,0.0,0.750397184201857,0.0,2.409429570194764]],[[0.0,0.0,0.0,0.0,0.2779710921009285,0.5627978881513926,3.6052004660867016,0.0],[0.0,0.0,0.0,0.0,0.2779710921009285,0.5627978881513926,2.7039003495650267,0.602357392548691],[0.0,0.0,0.0,0.0,0.2779710921009285,0.5627978881513926,1.8026002330433508,1.204714785097382],[0.0,0.0,0.0,0.0,0.2779710921009285,0.5627978881513926,0.9013001165216754,1.8070721776460732],[0.0,0.0,0.0,0.0,0.2779710921009285,0.5627978881513926,0.0,2.409429570194764]],[[0.0,0.0,0.0,0.0,0.555942184201857,0.3751985921009285,3.6052004660867016,0.0],[0.0,0.0,0.0,0.0,0.555942184201857,0.3751985921009285,2.7039003495650267,0.602357392548691],[0.0,0.0,0.0,0.0,0.555942184201857,0.3751985921009285,1.8026002330433508,1.204714785097382],[0.0,0.0,0.0,0.0,0.555942184201857,0.3751985921009285,0.9013001165216754,1.8070721776460732],[0.0,0.0,0.0,0.0,0.555942184201857,0.3751985921009285,0.0,2.409429570194764]],[[0.0,0.0,0.0,0.0,0.8339132763027856,0.18759929605046424,3.6052004660867016,0.0],[0.0,0.0,0.0,0.0,0.8339132763027856,0.18759929605046424,2.7039003495650267,0.602357392548691],[0.0,0.0,0.0,0.0,0.8339132763027856,0.18759929605046424,1.8026002330433508,1.204714785097382],[0.0,0.0,0.0,0.0,0.8339132763027856,0.18759929605046424,0.9013001165216754,1.8070721776460732],[0.0,0.0,0.0,0.0,0.8339132763027856,0.18759929605046424,0.0,2.409429570194764]],[[0.0,0.0,0.0,0.0,1.111884368403714,0.0,3.6052004660867016,0.0],[0.0,0.0,0.0,0.0,1.111884368403714,0.0,2.7039003495650267,0.602357392548691],[0.0,0.0,0.0,0.0,1.111884368403714,0.0,1.8026002330433508,1.204714785097382],[0.0,0.0,0.0,0.0,1.111884368403714,0.0,0.9013001165216754,1.8070721776460732],[0.0,0.0,0.0,0.0,1.111884368403714,0.0,0.0,2.409429570194764]]],[[[0.0,0.0,0.0,0.0,0.0,1.500794368403714,2.4034669773911346,0.0],[0.0,0.0,0.0,0.0,0.0,1.500794368403714,1.8026002330433508,0.4015715950324607],[0.0,0.0,0.0,0.0,0.0,1.500794368403714,1.2017334886955673,0.8031431900649214],[0.0,0.0,0.0,0.0,0.0,1.500794368403714,0.6008667443477836,1.204714785097382],[0.0,0.0,0.0,0.0,0.0,1.500794368403714,0.0,1.6062863801298428]],[[0.0,0.0,0.0,0.0,0.555942184201857,1.1255957763027853,2.4034669773911346,0.0],[0.0,0.0,0.0,0.0,0.555942184201857,1.1255957763027853,1.8026002330433508,0.4015715950324607],[0.0,0.0,0.0,0.0,0.555942184201857,1.1255957763027853,1.2017334886955673,0.8031431900649214],[0.0,0.0,0.0,0.0,0.555942184201857,1.1255957763027853,0.6008667443477836,1.204714785097382],[0.0,0.0,0.0,0.0,0.555942184201857,1.1255957763027853,0.0,1.6062863801298428]],[[0.0,0.0,0.0,0.0,1.111884368403714,0.750397184201857,2.4034669773911346,0.0],[0.0,0.0,0.0,0.0,1.111884368403714,0.750397184201857,1.8026002330433508,0.4015715950324607],[0.0,0.0,0.0,0.0,1.111884368403714,0.750397184201857,1.2017334886955673,0.8031431900649214],[0.0,0.0,0.0,0.0,1.111884368403714,0.750397184201857,0.6008667443477836,1.204714785097382],[0.0,0.0,0.0,0.0,1.111884368403714,0.750397184201857,0.0,1.6062863801298428]],[[0.0,0.0,0.0,0.0,1.667826552605571,0.3751985921009285,2.4034669773911346,0.0],[0.0,0.0,0.0,0.0,1.667826552605571,0.3751985921009285,1.8026002330433508,0.4015715950324607],[0.0,0.0,0.0,0.0,1.667826552605571,0.3751985921009285,1.2017334886955673,0.8031431900649214],[0.0,0.0,0.0,0.0,1.667826552605571,0.3751985921009285,0.6008667443477836,1.204714785097382],[0.0,0.0,0.0,0.0,1.667826552605571,0.3751985921009285,0.0,1.6062863801298428]],[[0.0,0.0,0.0,0.0,2.223768736807428,0.0,2.4034669773911346,0.0],[0.0,0.0,0.0,0.0,2.223768736807428,0.0,1.8026002330433508,0.4015715950324607],[0.0,0.0,0.0,0.0,2.223768736807428,0.0,1.2017334886955673,0.8031431900649214],[0.0,0.0,0.0,0.0,2.223768736807428,0.0,0.6008667443477836,1.204714785097382],[0.0,0.0,0.0,0.0,2.223768736807428,0.0,0.0,1.6062863801298428]]],[[[0.0,0.0,0.0,0.0,0.0,2.2511915526055706,1.2017334886955673,0.0],[0.0,0.0,0.0,0.0,0.0,2.2511915526055706,0.9013001165216754,0.20078579751623035],[0.0,0.0,0.0,0.0,0.0,2.2511915526055706,0.6008667443477836,0.4015715950324607],[0.0,0.0,0.0,0.0,0.0,2.2511915526055706,0.3004333721738918,0.602357392548691],[0.0,0.0,0.0,0.0,0.0,2.2511915526055706,0.0,0.8031431900649214]],[[0.0,0.0,0.0,0.0,0.8339132763027856,1.6883936644541782,1.2017334886955673,0.0],[0.0,0.0,0.0,0.0,0.8339132763027856,1.6883936644541782,0.9013001165216754,0.20078579751623035],[0.0,0.0,0.0,0.0,0.8339132763027856,1.6883936644541782,0.6008667443477836,0.4015715950324607],[0.0,0.0,0.0,0.0,0.8339132763027856,1.6883936644541782,0.3004333721738918,0.602357392548691],[0.0,0.0,0.0,0.0,0.8339132763027856,1.6883936644541782,0.0,0.8031431900649214]],[[0.0,0.0,0.0,0.0,1.667826552605571,1.1255957763027853,1.2017334886955673,0.0],[0.0,0.0,0.0,0.0,1.667826552605571,1.1255957763027853,0.9013001165216754,0.20078579751623035],[0.0,0.0,0.0,0.0,1.667826552605571,1.1255957763027853,0.6008667443477836,0.4015715950324607],[0.0,0.0,0.0,0.0,1.667826552605571,1.1255957763027853,0.3004333721738918,0.602357392548691],[0.0,0.0,0.0,0.0,1.667826552605571,1.1255957763027853,0.0,0.8031431900649214]],[[0.0,0.0,0.0,0.0,2.5017398289083568,0.5627978881513926,1.2017334886955673,0.0],[0.0,0.0,0.0,0.0,2.5017398289083568,0.5627978881513926,0.9013001165216754,0.20078579751623035],[0.0,0.0,0.0,0.0,2.5017398289083568,0.5627978881513926,0.6008667443477836,0.4015715950324607],[0.0,0.0,0.0,0.0,2.5017398289083568,0.5627978881513926,0.3004333721738918,0.602357392548691],[0.0,0.0,0.0,0.0,2.5017398289083568,0.5627978881513926,0.0,0.8031431900649214]],[[0.0,0.0,0.0,0.0,3.335653105211142,0.0,1.2017334886955673,0.0],[0.0,0.0,0.0,0.0,3.335653105211142,0.0,0.9013001165216754,0.20078579751623035],[0.0,0.0,0.0,0.0,3.335653105211142,0.0,0.6008667443477836,0.4015715950324607],[0.0,0.0,0.0,0.0,3.335653105211142,0.0,0.3004333721738918,0.602357392548691],[0.0,0.0,0.0,0.0,3.335653105211142,0.0,0.0,0.8031431900649214]]],[[[0.0,0.0,0.0,0.0,0.0,3.001588736807428,0.0,0.0],[0.0,0.0,0.0,0.0,0.0,3.001588736807428,0.0,0.0],[0.0,0.0,0.0,0.0,0.0,3.001588736807428,0.0,0.0],[0.0,0.0,0.0,0.0,0.0,3.001588736807428,0.0,0.0],[0.0,0.0,0.0,0.0,0.0,3.001588736807428,0.0,0.0]],[[0.0,0.0,0.0,0.0,1.111884368403714,2.2511915526055706,0.0,0.0],[0.0,0.0,0.0,0.0,1.111884368403714,2.2511915526055706,0.0,0.0],[0.0,0.0,0.0,0.0,1.111884368403714,2.2511915526055706,0.0,0.0],[0.0,0.0,0.0,0.0,1.111884368403714,2.2511915526055706,0.0,0.0],[0.0,0.0,0.0,0.0,1.111884368403714,2.2511915526055706,0.0,0.0]],[[0.0,0.0,0.0,0.0,2.223768736807428,1.500794368403714,0.0,0.0],[0.0,0.0,0.0,0.0,2.223768736807428,1.500794368403714,0.0,0.0],[0.0,0.0,0.0,0.0,2.223768736807428,1.500794368403714,0.0,0.0],[0.0,0.0,0.0,0.0,2.223768736807428,1.500794368403714,0.0,0.0],[0.0,0.0,0.0,0.0,2.223768736807428,1.500794368403714,0.0,0.0]],[[0.0,0.0,0.0,0.0,3.335653105211142,0.750397184201857,0.0,0.0],[0.0,0.0,0.0,0.0,3.335653105211142,0.750397184201857,0.0,0.0],[0.0,0.0,0.0,0.0,3.335653105211142,0.750397184201857,0.0,0.0],[0.0,0.0,0.0,0.0,3.335653105211142,0.750397184201857,0.0,0.0],[0.0,0.0,0.0,0.0,3.335653105211142,0.750397184201857,0.0,0.0]],[[0.0,0.0,0.0,0.0,4.447537473614856,0.0,0.0,0.0],[0.0,0.0,0.0,0.0,4.447537473614856,0.0,0.0,0.0],[0.0,0.0,0.0,0.0,4.447537473614856,0.0,0.0,0.0],[0.0,0.0,0.0,0.0,4.447537473614856,0.0,0.0,0.0],[0.0,0.0,0.0,0.0,4.447537473614856,0.0,0.0,0.0]]]]]],\"x\":[0],\"y\":[0.0]}},\"id\":\"57b77c5a-0037-4890-a2ac-70574d494f43\",\"type\":\"ColumnDataSource\"},{\"attributes\":{\"bottom\":{\"field\":\"bar3\"},\"fill_alpha\":{\"value\":0.1},\"fill_color\":{\"value\":\"#1f77b4\"},\"line_alpha\":{\"value\":0.1},\"line_color\":{\"value\":\"#1f77b4\"},\"top\":{\"field\":\"bar4\"},\"width\":{\"value\":0.5},\"x\":{\"field\":\"x\"}},\"id\":\"10930e61-e466-4be9-9dfa-880da1e633d9\",\"type\":\"VBar\"},{\"attributes\":{\"callback\":null,\"column_names\":[\"x\",\"y\",\"old_rating\"],\"data\":{\"old_rating\":[4.4,1.8,4.8,4.8,4.8],\"x\":[-1,1],\"y\":[4.4,4.4]}},\"id\":\"03e3dede-c47f-414d-b4ce-ba130622541a\",\"type\":\"ColumnDataSource\"},{\"attributes\":{\"plot\":null,\"text\":\"\"},\"id\":\"48566718-8068-422c-a18f-5b7723a1bba8\",\"type\":\"Title\"},{\"attributes\":{\"label\":{\"value\":\"New Rating\"},\"renderers\":[{\"id\":\"64f9205e-edc5-419b-96dd-46c08970a4d0\",\"type\":\"GlyphRenderer\"}]},\"id\":\"8f287d06-522a-4996-837f-9c2c3c7f2427\",\"type\":\"LegendItem\"},{\"attributes\":{\"bottom\":{\"field\":\"bar1\"},\"fill_color\":{\"value\":\"LightCoral\"},\"line_color\":{\"value\":\"LightCoral\"},\"top\":{\"field\":\"bar2\"},\"width\":{\"value\":0.5},\"x\":{\"field\":\"x\"}},\"id\":\"1650475c-4b0b-4110-875a-f3fddcc0f997\",\"type\":\"VBar\"},{\"attributes\":{\"data_source\":{\"id\":\"57b77c5a-0037-4890-a2ac-70574d494f43\",\"type\":\"ColumnDataSource\"},\"glyph\":{\"id\":\"1650475c-4b0b-4110-875a-f3fddcc0f997\",\"type\":\"VBar\"},\"hover_glyph\":null,\"muted_glyph\":null,\"nonselection_glyph\":{\"id\":\"e8dd8612-917c-416f-9068-744c038fb8e1\",\"type\":\"VBar\"},\"selection_glyph\":null,\"view\":{\"id\":\"bbffab6f-0ece-432a-ab2c-dbb5465fa3c3\",\"type\":\"CDSView\"}},\"id\":\"1c1414e6-d081-4ecd-bdc0-ecb4009dc9d5\",\"type\":\"GlyphRenderer\"},{\"attributes\":{\"bottom\":{\"field\":\"bar2\"},\"fill_color\":{\"value\":\"LightSkyBlue\"},\"line_color\":{\"value\":\"LightSkyBlue\"},\"top\":{\"field\":\"bar3\"},\"width\":{\"value\":0.5},\"x\":{\"field\":\"x\"}},\"id\":\"629ac966-bcd3-4f6f-bad0-4ebb493c1242\",\"type\":\"VBar\"},{\"attributes\":{\"source\":{\"id\":\"57b77c5a-0037-4890-a2ac-70574d494f43\",\"type\":\"ColumnDataSource\"}},\"id\":\"4ca4aa77-2491-4888-a247-2fe3496e24d1\",\"type\":\"CDSView\"},{\"attributes\":{\"bottom\":{\"field\":\"bar1\"},\"fill_alpha\":{\"value\":0.1},\"fill_color\":{\"value\":\"#1f77b4\"},\"line_alpha\":{\"value\":0.1},\"line_color\":{\"value\":\"#1f77b4\"},\"top\":{\"field\":\"bar2\"},\"width\":{\"value\":0.5},\"x\":{\"field\":\"x\"}},\"id\":\"e8dd8612-917c-416f-9068-744c038fb8e1\",\"type\":\"VBar\"},{\"attributes\":{\"source\":{\"id\":\"57b77c5a-0037-4890-a2ac-70574d494f43\",\"type\":\"ColumnDataSource\"}},\"id\":\"bbffab6f-0ece-432a-ab2c-dbb5465fa3c3\",\"type\":\"CDSView\"},{\"attributes\":{\"label\":{\"value\":\"Sentiment\"},\"renderers\":[{\"id\":\"1c1414e6-d081-4ecd-bdc0-ecb4009dc9d5\",\"type\":\"GlyphRenderer\"}]},\"id\":\"ccd778bb-0477-4568-a288-822492236168\",\"type\":\"LegendItem\"},{\"attributes\":{\"bottom\":{\"field\":\"bar4\"},\"fill_color\":{\"value\":\"Crimson\"},\"line_color\":{\"value\":\"Crimson\"},\"top\":{\"field\":\"bar5\"},\"width\":{\"value\":0.5},\"x\":{\"field\":\"x\"}},\"id\":\"0dc07453-983d-4d40-827c-bb375171c1c9\",\"type\":\"VBar\"},{\"attributes\":{\"bottom\":{\"field\":\"bar2\"},\"fill_alpha\":{\"value\":0.1},\"fill_color\":{\"value\":\"#1f77b4\"},\"line_alpha\":{\"value\":0.1},\"line_color\":{\"value\":\"#1f77b4\"},\"top\":{\"field\":\"bar3\"},\"width\":{\"value\":0.5},\"x\":{\"field\":\"x\"}},\"id\":\"d409b0b4-61e9-4deb-b258-7c40bf5f135b\",\"type\":\"VBar\"},{\"attributes\":{\"data_source\":{\"id\":\"57b77c5a-0037-4890-a2ac-70574d494f43\",\"type\":\"ColumnDataSource\"},\"glyph\":{\"id\":\"629ac966-bcd3-4f6f-bad0-4ebb493c1242\",\"type\":\"VBar\"},\"hover_glyph\":null,\"muted_glyph\":null,\"nonselection_glyph\":{\"id\":\"d409b0b4-61e9-4deb-b258-7c40bf5f135b\",\"type\":\"VBar\"},\"selection_glyph\":null,\"view\":{\"id\":\"0671fd2d-9aa1-4190-a7b7-684cf89eed10\",\"type\":\"CDSView\"}},\"id\":\"84af477e-23e5-443b-8665-52015d4b3ced\",\"type\":\"GlyphRenderer\"},{\"attributes\":{\"source\":{\"id\":\"57b77c5a-0037-4890-a2ac-70574d494f43\",\"type\":\"ColumnDataSource\"}},\"id\":\"0671fd2d-9aa1-4190-a7b7-684cf89eed10\",\"type\":\"CDSView\"},{\"attributes\":{\"label\":{\"value\":\"Sentiment 2\"},\"renderers\":[{\"id\":\"84af477e-23e5-443b-8665-52015d4b3ced\",\"type\":\"GlyphRenderer\"}]},\"id\":\"ea1e475e-5019-459f-b1e8-ce7e6465948d\",\"type\":\"LegendItem\"},{\"attributes\":{\"bottom\":{\"field\":\"bar3\"},\"fill_color\":{\"value\":\"LimeGreen\"},\"line_color\":{\"value\":\"LimeGreen\"},\"top\":{\"field\":\"bar4\"},\"width\":{\"value\":0.5},\"x\":{\"field\":\"x\"}},\"id\":\"4fee455c-f0e7-4029-b656-828a97c46813\",\"type\":\"VBar\"}],\"root_ids\":[\"d6a55dea-5e80-48fa-91f9-9ef5897b63be\"]},\"title\":\"Bokeh Application\",\"version\":\"0.12.13\"}};\n",
       "  var render_items = [{\"docid\":\"55d1a2b4-f0a5-4042-9a70-8ec2f2743047\",\"elementid\":\"aa0f5c37-3e0d-4441-89f9-5183574f9293\",\"modelid\":\"d6a55dea-5e80-48fa-91f9-9ef5897b63be\"}];\n",
       "  root.Bokeh.embed.embed_items_notebook(docs_json, render_items);\n",
       "\n",
       "  }\n",
       "  if (root.Bokeh !== undefined) {\n",
       "    embed_document(root);\n",
       "  } else {\n",
       "    var attempts = 0;\n",
       "    var timer = setInterval(function(root) {\n",
       "      if (root.Bokeh !== undefined) {\n",
       "        embed_document(root);\n",
       "        clearInterval(timer);\n",
       "      }\n",
       "      attempts++;\n",
       "      if (attempts > 100) {\n",
       "        console.log(\"Bokeh: ERROR: Unable to run BokehJS code because BokehJS library is missing\")\n",
       "        clearInterval(timer);\n",
       "      }\n",
       "    }, 10, root)\n",
       "  }\n",
       "})(window);"
      ],
      "application/vnd.bokehjs_exec.v0+json": ""
     },
     "metadata": {
      "application/vnd.bokehjs_exec.v0+json": {
       "id": "d6a55dea-5e80-48fa-91f9-9ef5897b63be"
      }
     },
     "output_type": "display_data"
    }
   ],
   "source": [
    "from bokeh.models import Legend\n",
    "\n",
    "# Decomment the first line if you want to save the graph as an html file\n",
    "\n",
    "#output_file(\"Graph/BokehGraph_New_Rating_Product.html\")\n",
    "output_notebook()\n",
    "\n",
    "#Load the pre-computed weights and value for the new rating\n",
    "new_ratings = np.loadtxt('DataSets/Processed/NewArrayRankingProduct.txt')\n",
    "#Convert it to a list\n",
    "new_ratings = np.ndarray.tolist(np.reshape(new_ratings,(5,5,5,5,5,8)))\n",
    "old_ratings = [np.sum(new_ratings[i][0][0][0][0][0:8]) for i in range(5)]\n",
    "\n",
    "#Create the two data source, the first one is for the new rating and the second one for the old rating\n",
    "data = {'x' : [0], 'y' : [new_ratings[0][2][3][3][2][0]],'new_rating' : new_ratings,\n",
    "        'bar1' : [new_ratings[0][2][3][3][2][0]], 'bar2' : [np.sum(new_ratings[0][2][3][3][2][0:2])],\n",
    "        'bar3' : [np.sum(new_ratings[0][2][3][3][2][0:3])], 'bar4' : [np.sum(new_ratings[0][2][3][3][2][0:4])],\n",
    "        'bar5' : [np.sum(new_ratings[0][2][3][3][2][0:5])], 'bar6' : [np.sum(new_ratings[0][2][3][3][2][0:6])],\n",
    "        'bar7' : [np.sum(new_ratings[0][2][3][3][2][0:7])], 'bar8' : [np.sum(new_ratings[0][2][3][3][2][0:8])]}\n",
    "\n",
    "\n",
    "\n",
    "data2 = {'x' : [-1,1], 'y' : [old_ratings[0],old_ratings[0]], 'old_rating' : old_ratings}\n",
    "\n",
    "#Convert the data source into Bokeh data sources\n",
    "source = ColumnDataSource(data=data)\n",
    "source2 = ColumnDataSource(data=data2)\n",
    "\n",
    "#Initialize the graph\n",
    "plot = Figure(y_range=(1, 5), plot_width=300, plot_height=250,y_axis_label = 'Rating', x_range = [-0.5, 0.5]\n",
    "             , tools = '')\n",
    "\n",
    "#Plot the new rating as a vertical stacked bar\n",
    "b1 = plot.vbar('x', bottom = 1, top = 'bar1',width = 0.5, source = source, legend = 'New Rating')\n",
    "b2 = plot.vbar('x',bottom = 'bar1', top= 'bar2',width = 0.5, source = source, legend = 'Sentiment', color ='LightCoral')\n",
    "b3 = plot.vbar('x',bottom = 'bar2', top= 'bar3',width = 0.5, source = source, legend = 'Sentiment 2', color ='LightSkyBlue')\n",
    "b4 = plot.vbar('x',bottom = 'bar3', top= 'bar4',width = 0.5, source = source, legend = 'Sentiment 3', color ='LimeGreen')\n",
    "b5 = plot.vbar('x',bottom = 'bar4', top= 'bar5',width = 0.5, source = source, legend = 'Sentiment 3', color ='Crimson')\n",
    "b6 = plot.vbar('x',bottom = 'bar5', top= 'bar6',width = 0.5, source = source, legend = 'Sentiment 3', color ='DarkGrey')\n",
    "b7 = plot.vbar('x',bottom = 'bar6', top= 'bar7',width = 0.5, source = source, legend = 'Sentiment 3', color ='GoldenRod')\n",
    "b8 = plot.vbar('x',bottom = 'bar7', top= 'bar8',width = 0.5, source = source, legend = 'Sentiment 3', color ='Orchid')\n",
    "\n",
    "plot.background_fill_color = \"LightGray\"\n",
    "plot.background_fill_alpha = 0.4\n",
    "plot.grid.grid_line_width = 1\n",
    "plot.grid.grid_line_alpha = 1\n",
    "plot.grid.grid_line_color = 'White'\n",
    "\n",
    "#Plot the old rating as a straight red horizontal line\n",
    "b9 = plot.line('x', 'y', line_width=2,color=\"red\", source = source2, legend = 'Old Rating')\n",
    "\n",
    "plot.legend.visible = False #Show the legend\n",
    "plot.xaxis.visible = False #Get rid of the x axis as we plot only one bar\n",
    "\n",
    "# Create a custom legend \n",
    "legend = Legend(items=[\n",
    "    (\"Sentiment Value\",   [b8]),\n",
    "    (\"Sentiment Mean\", [b7]),\n",
    "    (\"Rating Value\", [b6]),\n",
    "    (\"Rating Mean\", [b5]),\n",
    "    (\"Exp: Sentiment Value\",   [b4]),\n",
    "    (\"Exp: Sentiment Mean\", [b3]),\n",
    "    (\"Exp: Rating Value\", [b2]),\n",
    "    (\"Exp: Rating Mean\", [b1]),\n",
    "    (\"Original Rating\", [b9])\n",
    "], location=(0, 10))\n",
    "\n",
    "plot.add_layout(legend,'right')\n",
    "#Javascript callback functions used to update the graph when the dropdown object selection or the weights sliders\n",
    "#are moved\n",
    "callback = CustomJS(args=dict(source=source, source2=source2), code=\"\"\"\n",
    "    var data = source.data;\n",
    "    var data2 = source2.data;\n",
    "    var product_name = parseInt(product.value);\n",
    "    var ws_value = ws.value*4;\n",
    "    var wb_value = wb.value*4;\n",
    "    var we_value = we.value*4;\n",
    "    var wt_value = wt.value*4;\n",
    "    new_rating_v = data['new_rating'];\n",
    "    old_rating = data2['old_rating']\n",
    "    y = data2['y']\n",
    "    y[0] = old_rating[product_name];\n",
    "    y[1] = old_rating[product_name];\n",
    "    bar1 = data['bar1']\n",
    "    bar2 = data['bar2']\n",
    "    bar3 = data['bar3']\n",
    "    bar4 = data['bar4']\n",
    "    bar5 = data['bar5']\n",
    "    bar6 = data['bar6']\n",
    "    bar7 = data['bar7']\n",
    "    bar8 = data['bar8']\n",
    "    bar1[0] = new_rating_v[product_name][ws_value][wb_value][we_value][wt_value][0];\n",
    "    bar2[0] = new_rating_v[product_name][ws_value][wb_value][we_value][wt_value][1]+bar1[0];\n",
    "    bar3[0] = new_rating_v[product_name][ws_value][wb_value][we_value][wt_value][2]+bar2[0];\n",
    "    bar4[0] = new_rating_v[product_name][ws_value][wb_value][we_value][wt_value][3]+bar3[0];\n",
    "    bar5[0] = new_rating_v[product_name][ws_value][wb_value][we_value][wt_value][4]+bar4[0];\n",
    "    bar6[0] = new_rating_v[product_name][ws_value][wb_value][we_value][wt_value][5]+bar5[0];\n",
    "    bar7[0] = new_rating_v[product_name][ws_value][wb_value][we_value][wt_value][6]+bar6[0];\n",
    "    bar8[0] = new_rating_v[product_name][ws_value][wb_value][we_value][wt_value][7]+bar7[0];\n",
    "    source.change.emit();\n",
    "    source2.change.emit();\n",
    "\"\"\")\n",
    "\n",
    "product_list = [('0', 'MediaDevil Magic Screen protector'), ('1', 'Sony VAIO; 19 Volt Stick AC Adapter'), \n",
    "              ('2', 'JBL Speaker and Docking Station for iPod'),\n",
    "                ('3','Aurum Ultra Series - High Speed HDMI Cable'), ('4','Thermaltake Contac 21 Universal CPU Cooler Direct')]\n",
    "\n",
    "#### Widget list\n",
    "\n",
    "#Dropdown selection menu to select the product\n",
    "product_select = Select(value='0', title=\"Product\", options=product_list, callback=callback)\n",
    "callback.args[\"product\"] = product_select\n",
    "\n",
    "#Slider for the WS weight\n",
    "ws_slider = Slider(start=0, end=1, value=0.5, step=0.25,\n",
    "                    title=\"Weight We\", callback=callback)\n",
    "callback.args[\"ws\"] = ws_slider\n",
    "\n",
    "#Slider for the WB weight\n",
    "wb_slider = Slider(start=0, end=1, value=0.75, step=0.25,\n",
    "                     title=\"Weight Ws\", callback=callback)\n",
    "callback.args[\"wb\"] = wb_slider\n",
    "\n",
    "#Slider for the WE weight\n",
    "we_slider = Slider(start=0, end=1, value=0.75, step=0.25,\n",
    "                      title=\"Weight Wsr\", callback=callback)\n",
    "callback.args[\"we\"] = we_slider\n",
    "\n",
    "#Slider for the WT weight\n",
    "wt_slider = Slider(start=0, end=1, value=0.5, step=0.25,\n",
    "                      title=\"Weight Wgr\", callback=callback)\n",
    "callback.args[\"wt\"] = wt_slider\n",
    "\n",
    "#Create the graph layout\n",
    "layout = row(\n",
    "    plot,\n",
    "    widgetbox(product_select,ws_slider, wb_slider, we_slider, wt_slider)\n",
    ")\n",
    "#Plot the graph\n",
    "show(layout)"
   ]
  }
 ],
 "metadata": {
  "kernelspec": {
   "display_name": "Python [default]",
   "language": "python",
   "name": "python3"
  },
  "language_info": {
   "codemirror_mode": {
    "name": "ipython",
    "version": 3
   },
   "file_extension": ".py",
   "mimetype": "text/x-python",
   "name": "python",
   "nbconvert_exporter": "python",
   "pygments_lexer": "ipython3",
   "version": "3.6.3"
  }
 },
 "nbformat": 4,
 "nbformat_minor": 2
}
