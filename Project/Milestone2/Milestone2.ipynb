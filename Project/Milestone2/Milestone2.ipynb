{
 "cells": [
  {
   "cell_type": "markdown",
   "metadata": {},
   "source": [
    "# Amazon review dataset analysis"
   ]
  },
  {
   "cell_type": "markdown",
   "metadata": {},
   "source": [
    "# Basic analysis of the full dataset using PySpark"
   ]
  },
  {
   "cell_type": "markdown",
   "metadata": {},
   "source": [
    "## What's in this section ?\n",
    "- Here we load large datasets locally using Spark. We first load the full_ratings dataset to vizualise the distribution of the reviews and ratings.\n",
    "- Then we load the full dataset by category, for the moment we did Electronics and Office products. We use these datasets to vizualise the distribution of the reviews. "
   ]
  },
  {
   "cell_type": "code",
   "execution_count": 1,
   "metadata": {},
   "outputs": [],
   "source": [
    "# Import pyspark\n",
    "from pyspark.sql import SparkSession\n",
    "import pyspark.sql.functions as func\n",
    "from pyspark import SparkContext\n",
    "from pyspark import SparkConf\n",
    "import pandas as pd\n",
    "import numpy as np\n",
    "\n",
    "\n",
    "# Import the libraries to draw\n",
    "import matplotlib.pyplot as plt\n",
    "import seaborn as sns\n",
    "\n",
    "# Import helpers functions\n",
    "from spark_helpers import *\n",
    "\n",
    "#Create a spark session\n",
    "spark = SparkSession.builder.appName(\"Spark Session\").config(\"spark.sql.crossJoin.enabled\",\"true\").getOrCreate()\n",
    "sc = SparkContext.getOrCreate()"
   ]
  },
  {
   "cell_type": "markdown",
   "metadata": {},
   "source": [
    "## Full Ratings Analysis\n",
    "\n",
    "Firs, we study the distribution of the full ratings. To do that we load the full ratings (3.37Go) and treat it with PySpark. We will output the distribution of the number of products relative to the number of reviews (i.e 10 products have 15 reviews ...)."
   ]
  },
  {
   "cell_type": "code",
   "execution_count": 2,
   "metadata": {},
   "outputs": [
    {
     "name": "stdout",
     "output_type": "stream",
     "text": [
      "root\n",
      " |-- _c0: string (nullable = true)\n",
      " |-- _c1: string (nullable = true)\n",
      " |-- _c2: string (nullable = true)\n",
      " |-- _c3: string (nullable = true)\n",
      "\n"
     ]
    }
   ],
   "source": [
    "# Load the full ratings data\n",
    "df_full_ratings = spark.read.format('csv').option(\"header\",\"false\").load('all_ratings.csv')\n",
    "df_full_ratings.printSchema()"
   ]
  },
  {
   "cell_type": "code",
   "execution_count": 3,
   "metadata": {},
   "outputs": [
    {
     "data": {
      "text/plain": [
       "[Row(_c0='A3AF8FFZAZYNE5', _c1='0000000078', _c2='5.0', _c3='1092182400'),\n",
       " Row(_c0='AH2L9G3DQHHAJ', _c1='0000000116', _c2='4.0', _c3='1019865600'),\n",
       " Row(_c0='A2IIIDRK3PRRZY', _c1='0000000116', _c2='1.0', _c3='1395619200'),\n",
       " Row(_c0='A1TADCM7YWPQ8M', _c1='0000000868', _c2='4.0', _c3='1031702400'),\n",
       " Row(_c0='AWGH7V0BDOJKB', _c1='0000013714', _c2='4.0', _c3='1383177600'),\n",
       " Row(_c0='A3UTQPQPM4TQO0', _c1='0000013714', _c2='5.0', _c3='1374883200'),\n",
       " Row(_c0='A8ZS0I5L5V31B', _c1='0000013714', _c2='5.0', _c3='1393632000'),\n",
       " Row(_c0='ACNGUPJ3A3TM9', _c1='0000013714', _c2='4.0', _c3='1386028800'),\n",
       " Row(_c0='A3BED5QFJWK88M', _c1='0000013714', _c2='4.0', _c3='1350345600'),\n",
       " Row(_c0='A2SUAM1J3GNN3B', _c1='0000013714', _c2='5.0', _c3='1252800000')]"
      ]
     },
     "execution_count": 3,
     "metadata": {},
     "output_type": "execute_result"
    }
   ],
   "source": [
    "# Display the first 20 rows \n",
    "df_full_ratings.take(10)"
   ]
  },
  {
   "cell_type": "markdown",
   "metadata": {},
   "source": [
    "We see in the schema that the ratings and UNIX time are stored as string, to do computation on them we cast the columns as float numbers."
   ]
  },
  {
   "cell_type": "code",
   "execution_count": 4,
   "metadata": {},
   "outputs": [],
   "source": [
    "# Cast the ratings and UNIX time as float number\n",
    "df_full_ratings = df_full_ratings.select(df_full_ratings._c0, df_full_ratings._c1, df_full_ratings._c2.cast('float')\\\n",
    "                                         ,df_full_ratings._c3.cast('float'))"
   ]
  },
  {
   "cell_type": "code",
   "execution_count": 5,
   "metadata": {},
   "outputs": [
    {
     "name": "stdout",
     "output_type": "stream",
     "text": [
      "root\n",
      " |-- reviewerID: string (nullable = true)\n",
      " |-- asin: string (nullable = true)\n",
      " |-- ratings: float (nullable = true)\n",
      " |-- UNIX_time: float (nullable = true)\n",
      "\n"
     ]
    }
   ],
   "source": [
    "# Rename the columns and print the new schema\n",
    "df_full_ratings = df_full_ratings.selectExpr(\"_c0 as reviewerID\", \"_c1 as asin\", \"_c2 as ratings\", \"_c3 as UNIX_time\")\n",
    "df_full_ratings.printSchema()"
   ]
  },
  {
   "cell_type": "markdown",
   "metadata": {},
   "source": [
    "### Number of reviews by product\n",
    "First we compute the number of reviews by product to see its distribution."
   ]
  },
  {
   "cell_type": "code",
   "execution_count": 6,
   "metadata": {},
   "outputs": [],
   "source": [
    "# Do a Group By Product of all the ratings\n",
    "groupRatingsByProduct = df_full_ratings.groupBy('asin')\n",
    "# Compute the number of reviews by product\n",
    "ratings_count_by_product = groupRatingsByProduct.count()"
   ]
  },
  {
   "cell_type": "code",
   "execution_count": 7,
   "metadata": {},
   "outputs": [
    {
     "data": {
      "text/plain": [
       "[Row(asin='0001714422', count=2),\n",
       " Row(asin='0001837192', count=1),\n",
       " Row(asin='0001845357', count=1),\n",
       " Row(asin='0002151731', count=1),\n",
       " Row(asin='0002158140', count=1)]"
      ]
     },
     "execution_count": 7,
     "metadata": {},
     "output_type": "execute_result"
    }
   ],
   "source": [
    "ratings_count_by_product.take(5)"
   ]
  },
  {
   "cell_type": "code",
   "execution_count": 8,
   "metadata": {
    "scrolled": true
   },
   "outputs": [
    {
     "name": "stdout",
     "output_type": "stream",
     "text": [
      "root\n",
      " |-- asin: string (nullable = true)\n",
      " |-- number_of_review: long (nullable = false)\n",
      "\n"
     ]
    }
   ],
   "source": [
    "ratings_count_by_product = ratings_count_by_product.selectExpr('asin', 'count as number_of_review')\n",
    "ratings_count_by_product.printSchema()"
   ]
  },
  {
   "cell_type": "markdown",
   "metadata": {},
   "source": [
    "Here we have two options:\n",
    "\n",
    "- Collect the full dataframe with the number of reviews for each items, the problem with this approach is that we have a high number of products (a little less than 10M). So the pandas dataframe would be too large.\n",
    "\n",
    "- The second option is to group the spark dataframe by number of reviews, for example we group together all the products that have exactly 4 reviews. With this method we will significantly reduce the size of the dataframe and can use it with pandas. \n",
    "\n",
    "We went with the second option :"
   ]
  },
  {
   "cell_type": "code",
   "execution_count": 9,
   "metadata": {},
   "outputs": [],
   "source": [
    "# We group by the number of reviews\n",
    "groupByNumberOfReviews = ratings_count_by_product.groupBy('number_of_review')"
   ]
  },
  {
   "cell_type": "code",
   "execution_count": 10,
   "metadata": {},
   "outputs": [],
   "source": [
    "# We count the number of articles for each number of reviews\n",
    "tmp_df = groupByNumberOfReviews.count()\n",
    "# Some renaming for easier use\n",
    "tmp_df = tmp_df.selectExpr('number_of_review', 'count as number_of_product')"
   ]
  },
  {
   "cell_type": "code",
   "execution_count": 11,
   "metadata": {},
   "outputs": [],
   "source": [
    "# Compute the number of reviews by product as a pandas dataframe for easier use\n",
    "df_ratings_count_pd = tmp_df.toPandas()\n",
    "# Save the number of ratings by product to a csv files\n",
    "df_ratings_count_pd.to_csv('Full_ratings_count.csv')"
   ]
  },
  {
   "cell_type": "code",
   "execution_count": 12,
   "metadata": {
    "scrolled": false
   },
   "outputs": [
    {
     "data": {
      "text/html": [
       "<div>\n",
       "<style scoped>\n",
       "    .dataframe tbody tr th:only-of-type {\n",
       "        vertical-align: middle;\n",
       "    }\n",
       "\n",
       "    .dataframe tbody tr th {\n",
       "        vertical-align: top;\n",
       "    }\n",
       "\n",
       "    .dataframe thead th {\n",
       "        text-align: right;\n",
       "    }\n",
       "</style>\n",
       "<table border=\"1\" class=\"dataframe\">\n",
       "  <thead>\n",
       "    <tr style=\"text-align: right;\">\n",
       "      <th></th>\n",
       "      <th>number_of_review</th>\n",
       "      <th>number_of_product</th>\n",
       "    </tr>\n",
       "  </thead>\n",
       "  <tbody>\n",
       "    <tr>\n",
       "      <th>count</th>\n",
       "      <td>2802.000000</td>\n",
       "      <td>2.802000e+03</td>\n",
       "    </tr>\n",
       "    <tr>\n",
       "      <th>mean</th>\n",
       "      <td>2072.989650</td>\n",
       "      <td>3.523987e+03</td>\n",
       "    </tr>\n",
       "    <tr>\n",
       "      <th>std</th>\n",
       "      <td>2436.728958</td>\n",
       "      <td>9.448883e+04</td>\n",
       "    </tr>\n",
       "    <tr>\n",
       "      <th>min</th>\n",
       "      <td>1.000000</td>\n",
       "      <td>1.000000e+00</td>\n",
       "    </tr>\n",
       "    <tr>\n",
       "      <th>25%</th>\n",
       "      <td>701.250000</td>\n",
       "      <td>1.000000e+00</td>\n",
       "    </tr>\n",
       "    <tr>\n",
       "      <th>50%</th>\n",
       "      <td>1418.500000</td>\n",
       "      <td>3.000000e+00</td>\n",
       "    </tr>\n",
       "    <tr>\n",
       "      <th>75%</th>\n",
       "      <td>2482.250000</td>\n",
       "      <td>1.600000e+01</td>\n",
       "    </tr>\n",
       "    <tr>\n",
       "      <th>max</th>\n",
       "      <td>25368.000000</td>\n",
       "      <td>4.615058e+06</td>\n",
       "    </tr>\n",
       "  </tbody>\n",
       "</table>\n",
       "</div>"
      ],
      "text/plain": [
       "       number_of_review  number_of_product\n",
       "count       2802.000000       2.802000e+03\n",
       "mean        2072.989650       3.523987e+03\n",
       "std         2436.728958       9.448883e+04\n",
       "min            1.000000       1.000000e+00\n",
       "25%          701.250000       1.000000e+00\n",
       "50%         1418.500000       3.000000e+00\n",
       "75%         2482.250000       1.600000e+01\n",
       "max        25368.000000       4.615058e+06"
      ]
     },
     "execution_count": 12,
     "metadata": {},
     "output_type": "execute_result"
    }
   ],
   "source": [
    "df_ratings_count_pd.describe()"
   ]
  },
  {
   "cell_type": "code",
   "execution_count": 28,
   "metadata": {},
   "outputs": [
    {
     "name": "stdout",
     "output_type": "stream",
     "text": [
      "There is 9874211 in the dataset\n"
     ]
    }
   ],
   "source": [
    "number_of_product = df_ratings_count_pd.sum()\n",
    "number_of_product = number_of_product['number_of_product']\n",
    "print('There is ' + str(number_of_product) + ' products in the dataset')"
   ]
  },
  {
   "cell_type": "code",
   "execution_count": 14,
   "metadata": {},
   "outputs": [
    {
     "data": {
      "image/png": "[encoded data removed]",
      "text/plain": [
       "<matplotlib.figure.Figure at 0x1a10d0d9b0>"
      ]
     },
     "metadata": {},
     "output_type": "display_data"
    }
   ],
   "source": [
    "#Function used to draw the distribution of number of reviews per number of products\n",
    "draw_full_ratings('Full_ratings_count.csv')"
   ]
  },
  {
   "cell_type": "markdown",
   "metadata": {},
   "source": [
    "We nearly have a power law."
   ]
  },
  {
   "cell_type": "markdown",
   "metadata": {},
   "source": [
    "### Ratings distribution\n",
    "\n",
    "We now observe the distribution of the ratings."
   ]
  },
  {
   "cell_type": "code",
   "execution_count": 15,
   "metadata": {},
   "outputs": [],
   "source": [
    "# Do a Group By Product of all the ratings\n",
    "groupRatingsByRating = df_full_ratings.groupBy('ratings')\n",
    "# Compute the number of reviews by product\n",
    "ratings_count_by_rating = groupRatingsByRating.count()"
   ]
  },
  {
   "cell_type": "code",
   "execution_count": 16,
   "metadata": {},
   "outputs": [
    {
     "name": "stdout",
     "output_type": "stream",
     "text": [
      "root\n",
      " |-- ratings: float (nullable = true)\n",
      " |-- number_of_review: long (nullable = false)\n",
      "\n"
     ]
    }
   ],
   "source": [
    "ratings_count_by_rating = ratings_count_by_rating.selectExpr('ratings', 'count as number_of_review')\n",
    "ratings_count_by_rating.printSchema()"
   ]
  },
  {
   "cell_type": "code",
   "execution_count": 17,
   "metadata": {},
   "outputs": [],
   "source": [
    "# Compute the number of ratings by rating as a pandas dataframe for easier use\n",
    "df_ratings_distribution_pd = ratings_count_by_rating.toPandas()\n",
    "# Save the number of ratings by product to a csv files\n",
    "df_ratings_distribution_pd.to_csv('Full_ratings_distribution.csv')"
   ]
  },
  {
   "cell_type": "code",
   "execution_count": 18,
   "metadata": {},
   "outputs": [
    {
     "data": {
      "image/png": "[encoded data removed]",
      "text/plain": [
       "<matplotlib.figure.Figure at 0x1a18fcedd8>"
      ]
     },
     "metadata": {},
     "output_type": "display_data"
    }
   ],
   "source": [
    "ax = sns.barplot(x = df_ratings_distribution_pd['ratings'], y = df_ratings_distribution_pd['number_of_review'])\n",
    "ax.set_xlabel('Ratings')\n",
    "ax.set_ylabel('Number of Reviews')\n",
    "ax.set_title('Distribution of the ratings')\n",
    "plt.show()"
   ]
  },
  {
   "cell_type": "markdown",
   "metadata": {},
   "source": [
    "The ratings have a clear tendency to be >=4 "
   ]
  },
  {
   "cell_type": "markdown",
   "metadata": {},
   "source": [
    "## Analysis of the distribution for each categories"
   ]
  },
  {
   "cell_type": "markdown",
   "metadata": {},
   "source": [
    "Here are implemented functions used to load a category and output the distributions of the reviews"
   ]
  },
  {
   "cell_type": "markdown",
   "metadata": {},
   "source": [
    "### Electronics Data"
   ]
  },
  {
   "cell_type": "code",
   "execution_count": 19,
   "metadata": {},
   "outputs": [
    {
     "name": "stdout",
     "output_type": "stream",
     "text": [
      "root\n",
      " |-- asin: string (nullable = true)\n",
      " |-- helpful: array (nullable = true)\n",
      " |    |-- element: long (containsNull = true)\n",
      " |-- overall: double (nullable = true)\n",
      " |-- reviewText: string (nullable = true)\n",
      " |-- reviewTime: string (nullable = true)\n",
      " |-- reviewerID: string (nullable = true)\n",
      " |-- reviewerName: string (nullable = true)\n",
      " |-- summary: string (nullable = true)\n",
      " |-- unixReviewTime: long (nullable = true)\n",
      "\n",
      "There is 7824482 distinct reviews\n"
     ]
    }
   ],
   "source": [
    "# Function used to load a category dataset using spark\n",
    "df_electronics = load_file_cat(\"reviews_Electronics.json.gz\",'json',spark)\n",
    "# Get the number of distinct reviewers in the category\n",
    "distinct_reviews_electronics = df_electronics.count()\n",
    "print(\"There is \" + str(distinct_reviews_electronics) + \" distinct reviews\")"
   ]
  },
  {
   "cell_type": "code",
   "execution_count": 20,
   "metadata": {},
   "outputs": [],
   "source": [
    "# Function used to compute the number of review per product using a spark\n",
    "# dataframe and save it as a pandas dataframe\n",
    "df_review_count_electronics_pd = compute_review_per_product(df_electronics,'Electronics_Review_Count.csv')"
   ]
  },
  {
   "cell_type": "markdown",
   "metadata": {},
   "source": [
    "Let's vizualise the distribution :"
   ]
  },
  {
   "cell_type": "code",
   "execution_count": 21,
   "metadata": {},
   "outputs": [
    {
     "data": {
      "image/png": "[encoded data removed]",
      "text/plain": [
       "<matplotlib.figure.Figure at 0x1a18ec0a90>"
      ]
     },
     "metadata": {},
     "output_type": "display_data"
    }
   ],
   "source": [
    "#Function used to draw the distribution of number of reviews per\n",
    "#number of products\n",
    "draw_distribution(csv = 'Electronics_Review_Count.csv')"
   ]
  },
  {
   "cell_type": "code",
   "execution_count": 22,
   "metadata": {},
   "outputs": [
    {
     "data": {
      "text/html": [
       "<div>\n",
       "<style scoped>\n",
       "    .dataframe tbody tr th:only-of-type {\n",
       "        vertical-align: middle;\n",
       "    }\n",
       "\n",
       "    .dataframe tbody tr th {\n",
       "        vertical-align: top;\n",
       "    }\n",
       "\n",
       "    .dataframe thead th {\n",
       "        text-align: right;\n",
       "    }\n",
       "</style>\n",
       "<table border=\"1\" class=\"dataframe\">\n",
       "  <thead>\n",
       "    <tr style=\"text-align: right;\">\n",
       "      <th></th>\n",
       "      <th>count</th>\n",
       "    </tr>\n",
       "  </thead>\n",
       "  <tbody>\n",
       "    <tr>\n",
       "      <th>count</th>\n",
       "      <td>476002.000000</td>\n",
       "    </tr>\n",
       "    <tr>\n",
       "      <th>mean</th>\n",
       "      <td>16.437918</td>\n",
       "    </tr>\n",
       "    <tr>\n",
       "      <th>std</th>\n",
       "      <td>112.702633</td>\n",
       "    </tr>\n",
       "    <tr>\n",
       "      <th>min</th>\n",
       "      <td>1.000000</td>\n",
       "    </tr>\n",
       "    <tr>\n",
       "      <th>25%</th>\n",
       "      <td>1.000000</td>\n",
       "    </tr>\n",
       "    <tr>\n",
       "      <th>50%</th>\n",
       "      <td>2.000000</td>\n",
       "    </tr>\n",
       "    <tr>\n",
       "      <th>75%</th>\n",
       "      <td>7.000000</td>\n",
       "    </tr>\n",
       "    <tr>\n",
       "      <th>max</th>\n",
       "      <td>18244.000000</td>\n",
       "    </tr>\n",
       "  </tbody>\n",
       "</table>\n",
       "</div>"
      ],
      "text/plain": [
       "               count\n",
       "count  476002.000000\n",
       "mean       16.437918\n",
       "std       112.702633\n",
       "min         1.000000\n",
       "25%         1.000000\n",
       "50%         2.000000\n",
       "75%         7.000000\n",
       "max     18244.000000"
      ]
     },
     "execution_count": 22,
     "metadata": {},
     "output_type": "execute_result"
    }
   ],
   "source": [
    "# Compute the statistics of the number of reviews by product\n",
    "df_review_count_electronics_pd.describe()"
   ]
  },
  {
   "cell_type": "markdown",
   "metadata": {},
   "source": [
    "We see that the majority of products have less than 2 reviews, as we want to do a study on multiple reviews for each reviewer and products, we will use the 5-cores dataset for electronics."
   ]
  },
  {
   "cell_type": "markdown",
   "metadata": {},
   "source": [
    "### Office Products Data"
   ]
  },
  {
   "cell_type": "code",
   "execution_count": 24,
   "metadata": {},
   "outputs": [
    {
     "name": "stdout",
     "output_type": "stream",
     "text": [
      "root\n",
      " |-- asin: string (nullable = true)\n",
      " |-- helpful: array (nullable = true)\n",
      " |    |-- element: long (containsNull = true)\n",
      " |-- overall: double (nullable = true)\n",
      " |-- reviewText: string (nullable = true)\n",
      " |-- reviewTime: string (nullable = true)\n",
      " |-- reviewerID: string (nullable = true)\n",
      " |-- reviewerName: string (nullable = true)\n",
      " |-- summary: string (nullable = true)\n",
      " |-- unixReviewTime: long (nullable = true)\n",
      "\n",
      "There is 1243186 distinct reviews\n"
     ]
    }
   ],
   "source": [
    "df_office = load_file_cat(\"reviews_Office_Products.json.gz\",'json',spark)\n",
    "# Get the number of distinct reviewers in the category\n",
    "distinct_reviews_office = df_office.count()\n",
    "print(\"There is \" + str(distinct_reviews_office) + \" distinct reviews\")"
   ]
  },
  {
   "cell_type": "code",
   "execution_count": 25,
   "metadata": {},
   "outputs": [],
   "source": [
    "df_review_count_office_pd = compute_review_per_product(df_office,'Office_Review_Count.csv')"
   ]
  },
  {
   "cell_type": "markdown",
   "metadata": {},
   "source": [
    "Let's vizualise the distribution :"
   ]
  },
  {
   "cell_type": "code",
   "execution_count": 26,
   "metadata": {},
   "outputs": [
    {
     "data": {
      "image/png": "[encoded data removed]",
      "text/plain": [
       "<matplotlib.figure.Figure at 0x1a1b8375c0>"
      ]
     },
     "metadata": {},
     "output_type": "display_data"
    }
   ],
   "source": [
    "draw_distribution(csv = 'Office_Review_Count.csv')"
   ]
  },
  {
   "cell_type": "code",
   "execution_count": 27,
   "metadata": {},
   "outputs": [
    {
     "data": {
      "text/html": [
       "<div>\n",
       "<style scoped>\n",
       "    .dataframe tbody tr th:only-of-type {\n",
       "        vertical-align: middle;\n",
       "    }\n",
       "\n",
       "    .dataframe tbody tr th {\n",
       "        vertical-align: top;\n",
       "    }\n",
       "\n",
       "    .dataframe thead th {\n",
       "        text-align: right;\n",
       "    }\n",
       "</style>\n",
       "<table border=\"1\" class=\"dataframe\">\n",
       "  <thead>\n",
       "    <tr style=\"text-align: right;\">\n",
       "      <th></th>\n",
       "      <th>count</th>\n",
       "    </tr>\n",
       "  </thead>\n",
       "  <tbody>\n",
       "    <tr>\n",
       "      <th>count</th>\n",
       "      <td>130006.000000</td>\n",
       "    </tr>\n",
       "    <tr>\n",
       "      <th>mean</th>\n",
       "      <td>9.562528</td>\n",
       "    </tr>\n",
       "    <tr>\n",
       "      <th>std</th>\n",
       "      <td>44.592114</td>\n",
       "    </tr>\n",
       "    <tr>\n",
       "      <th>min</th>\n",
       "      <td>1.000000</td>\n",
       "    </tr>\n",
       "    <tr>\n",
       "      <th>25%</th>\n",
       "      <td>1.000000</td>\n",
       "    </tr>\n",
       "    <tr>\n",
       "      <th>50%</th>\n",
       "      <td>2.000000</td>\n",
       "    </tr>\n",
       "    <tr>\n",
       "      <th>75%</th>\n",
       "      <td>5.000000</td>\n",
       "    </tr>\n",
       "    <tr>\n",
       "      <th>max</th>\n",
       "      <td>4398.000000</td>\n",
       "    </tr>\n",
       "  </tbody>\n",
       "</table>\n",
       "</div>"
      ],
      "text/plain": [
       "               count\n",
       "count  130006.000000\n",
       "mean        9.562528\n",
       "std        44.592114\n",
       "min         1.000000\n",
       "25%         1.000000\n",
       "50%         2.000000\n",
       "75%         5.000000\n",
       "max      4398.000000"
      ]
     },
     "execution_count": 27,
     "metadata": {},
     "output_type": "execute_result"
    }
   ],
   "source": [
    "# Compute the quantiles of the number of reviews by product\n",
    "df_review_count_office_pd.describe()"
   ]
  },
  {
   "cell_type": "markdown",
   "metadata": {},
   "source": [
    "## What's next in this section ?\n",
    "\n",
    "- We will expand our analysis to the other categories.\n",
    "- We will also analyze the UNIX time of the reviews (already load in the full_ratings)."
   ]
  },
  {
   "cell_type": "markdown",
   "metadata": {},
   "source": [
    "# Cleaning and analysis of the 5-core electronic data"
   ]
  },
  {
   "cell_type": "markdown",
   "metadata": {},
   "source": [
    "## What's in this section?"
   ]
  },
  {
   "cell_type": "markdown",
   "metadata": {},
   "source": [
    "In this section, we take a look at the review of products and its reviewer. More precisly we look in details at all the reviewers of a product and make analysis about what the reviewer reviewed before, what is its mean rating, mean length of its review in order to get more insight about the global rate of the product.  \n",
    "\n",
    "For now, we just take the 5-core electronics reviews of our dataset and we will change later for all the reviews. This is just for milestone 2 and to help us building a pipeline for our project."
   ]
  },
  {
   "cell_type": "code",
   "execution_count": 1,
   "metadata": {
    "collapsed": true
   },
   "outputs": [],
   "source": [
    "import ast"
   ]
  },
  {
   "cell_type": "markdown",
   "metadata": {},
   "source": [
    "We create functions that are saved in helpers_functions.py. We provided comments and descriptions about this functions in the file but we summarize here that: \n",
    "- Some functions helps us load the dataframe correctly. (cleaning part)\n",
    "- Some functions helps us enrich the dataset. (analysis part)\n",
    "- Some functions helps us vizualise the data and get more insight about what we had. (plot part)"
   ]
  },
  {
   "cell_type": "code",
   "execution_count": 2,
   "metadata": {},
   "outputs": [],
   "source": [
    "from helpers_functions import *"
   ]
  },
  {
   "cell_type": "markdown",
   "metadata": {},
   "source": [
    "This part starts by reading and cleaning the data we got from the 5-core dataset provided. We decided to keep only the useful data and we change some columns in order to have it as we want. We dropped the time (UTC), the name of the reviewer, imageURL and the product description."
   ]
  },
  {
   "cell_type": "code",
   "execution_count": 3,
   "metadata": {},
   "outputs": [],
   "source": [
    "#load the electronics data.\n",
    "Elec_Data = pd.read_csv('Electronic_Review_And_MetaData_Dataframe.csv',index_col = ['Product ID', 'Reviewer ID'])"
   ]
  },
  {
   "cell_type": "code",
   "execution_count": 4,
   "metadata": {
    "scrolled": true
   },
   "outputs": [
    {
     "data": {
      "text/html": [
       "<div>\n",
       "<table border=\"1\" class=\"dataframe\">\n",
       "  <thead>\n",
       "    <tr style=\"text-align: right;\">\n",
       "      <th></th>\n",
       "      <th>Product ID</th>\n",
       "      <th>Product Title</th>\n",
       "      <th>Product Price</th>\n",
       "      <th>Brand</th>\n",
       "      <th>Categories</th>\n",
       "      <th>Review Summary</th>\n",
       "      <th>Review Rating</th>\n",
       "      <th>Review Text</th>\n",
       "      <th>Review Time</th>\n",
       "      <th>Helpfulness Votes</th>\n",
       "      <th>Sales Rank</th>\n",
       "      <th>Related Products</th>\n",
       "    </tr>\n",
       "    <tr>\n",
       "      <th>Reviewer ID</th>\n",
       "      <th></th>\n",
       "      <th></th>\n",
       "      <th></th>\n",
       "      <th></th>\n",
       "      <th></th>\n",
       "      <th></th>\n",
       "      <th></th>\n",
       "      <th></th>\n",
       "      <th></th>\n",
       "      <th></th>\n",
       "      <th></th>\n",
       "      <th></th>\n",
       "    </tr>\n",
       "  </thead>\n",
       "  <tbody>\n",
       "    <tr>\n",
       "      <th>AO94DHGC771SJ</th>\n",
       "      <td>0528881469</td>\n",
       "      <td>Rand McNally 528881469 7-inch Intelliroute TND...</td>\n",
       "      <td>299.99</td>\n",
       "      <td>NaN</td>\n",
       "      <td>[[Electronics, GPS &amp; Navigation, Vehicle GPS, ...</td>\n",
       "      <td>Gotta have GPS!</td>\n",
       "      <td>5.0</td>\n",
       "      <td>We got this GPS for my husband who is an (OTR)...</td>\n",
       "      <td>1370131200</td>\n",
       "      <td>[0, 0]</td>\n",
       "      <td>{}</td>\n",
       "      <td>{'also_viewed': ['B006ZOI9OY', 'B00C7FKT2A', '...</td>\n",
       "    </tr>\n",
       "    <tr>\n",
       "      <th>AMO214LNFCEI4</th>\n",
       "      <td>0528881469</td>\n",
       "      <td>Rand McNally 528881469 7-inch Intelliroute TND...</td>\n",
       "      <td>299.99</td>\n",
       "      <td>NaN</td>\n",
       "      <td>[[Electronics, GPS &amp; Navigation, Vehicle GPS, ...</td>\n",
       "      <td>Very Disappointed</td>\n",
       "      <td>1.0</td>\n",
       "      <td>I'm a professional OTR truck driver, and I bou...</td>\n",
       "      <td>1290643200</td>\n",
       "      <td>[12, 15]</td>\n",
       "      <td>{}</td>\n",
       "      <td>{'also_viewed': ['B006ZOI9OY', 'B00C7FKT2A', '...</td>\n",
       "    </tr>\n",
       "    <tr>\n",
       "      <th>A3N7T0DY83Y4IG</th>\n",
       "      <td>0528881469</td>\n",
       "      <td>Rand McNally 528881469 7-inch Intelliroute TND...</td>\n",
       "      <td>299.99</td>\n",
       "      <td>NaN</td>\n",
       "      <td>[[Electronics, GPS &amp; Navigation, Vehicle GPS, ...</td>\n",
       "      <td>1st impression</td>\n",
       "      <td>3.0</td>\n",
       "      <td>Well, what can I say.  I've had this unit in m...</td>\n",
       "      <td>1283990400</td>\n",
       "      <td>[43, 45]</td>\n",
       "      <td>{}</td>\n",
       "      <td>{'also_viewed': ['B006ZOI9OY', 'B00C7FKT2A', '...</td>\n",
       "    </tr>\n",
       "    <tr>\n",
       "      <th>A1H8PY3QHMQQA0</th>\n",
       "      <td>0528881469</td>\n",
       "      <td>Rand McNally 528881469 7-inch Intelliroute TND...</td>\n",
       "      <td>299.99</td>\n",
       "      <td>NaN</td>\n",
       "      <td>[[Electronics, GPS &amp; Navigation, Vehicle GPS, ...</td>\n",
       "      <td>Great grafics, POOR GPS</td>\n",
       "      <td>2.0</td>\n",
       "      <td>Not going to write a long review, even thought...</td>\n",
       "      <td>1290556800</td>\n",
       "      <td>[9, 10]</td>\n",
       "      <td>{}</td>\n",
       "      <td>{'also_viewed': ['B006ZOI9OY', 'B00C7FKT2A', '...</td>\n",
       "    </tr>\n",
       "    <tr>\n",
       "      <th>A24EV6RXELQZ63</th>\n",
       "      <td>0528881469</td>\n",
       "      <td>Rand McNally 528881469 7-inch Intelliroute TND...</td>\n",
       "      <td>299.99</td>\n",
       "      <td>NaN</td>\n",
       "      <td>[[Electronics, GPS &amp; Navigation, Vehicle GPS, ...</td>\n",
       "      <td>Major issues, only excuses for support</td>\n",
       "      <td>1.0</td>\n",
       "      <td>I've had mine for a year and here's what we go...</td>\n",
       "      <td>1317254400</td>\n",
       "      <td>[0, 0]</td>\n",
       "      <td>{}</td>\n",
       "      <td>{'also_viewed': ['B006ZOI9OY', 'B00C7FKT2A', '...</td>\n",
       "    </tr>\n",
       "  </tbody>\n",
       "</table>\n",
       "</div>"
      ],
      "text/plain": [
       "                Product ID                                      Product Title  \\\n",
       "Reviewer ID                                                                     \n",
       "AO94DHGC771SJ   0528881469  Rand McNally 528881469 7-inch Intelliroute TND...   \n",
       "AMO214LNFCEI4   0528881469  Rand McNally 528881469 7-inch Intelliroute TND...   \n",
       "A3N7T0DY83Y4IG  0528881469  Rand McNally 528881469 7-inch Intelliroute TND...   \n",
       "A1H8PY3QHMQQA0  0528881469  Rand McNally 528881469 7-inch Intelliroute TND...   \n",
       "A24EV6RXELQZ63  0528881469  Rand McNally 528881469 7-inch Intelliroute TND...   \n",
       "\n",
       "                Product Price Brand  \\\n",
       "Reviewer ID                           \n",
       "AO94DHGC771SJ          299.99   NaN   \n",
       "AMO214LNFCEI4          299.99   NaN   \n",
       "A3N7T0DY83Y4IG         299.99   NaN   \n",
       "A1H8PY3QHMQQA0         299.99   NaN   \n",
       "A24EV6RXELQZ63         299.99   NaN   \n",
       "\n",
       "                                                       Categories  \\\n",
       "Reviewer ID                                                         \n",
       "AO94DHGC771SJ   [[Electronics, GPS & Navigation, Vehicle GPS, ...   \n",
       "AMO214LNFCEI4   [[Electronics, GPS & Navigation, Vehicle GPS, ...   \n",
       "A3N7T0DY83Y4IG  [[Electronics, GPS & Navigation, Vehicle GPS, ...   \n",
       "A1H8PY3QHMQQA0  [[Electronics, GPS & Navigation, Vehicle GPS, ...   \n",
       "A24EV6RXELQZ63  [[Electronics, GPS & Navigation, Vehicle GPS, ...   \n",
       "\n",
       "                                        Review Summary  Review Rating  \\\n",
       "Reviewer ID                                                             \n",
       "AO94DHGC771SJ                          Gotta have GPS!            5.0   \n",
       "AMO214LNFCEI4                        Very Disappointed            1.0   \n",
       "A3N7T0DY83Y4IG                          1st impression            3.0   \n",
       "A1H8PY3QHMQQA0                 Great grafics, POOR GPS            2.0   \n",
       "A24EV6RXELQZ63  Major issues, only excuses for support            1.0   \n",
       "\n",
       "                                                      Review Text  \\\n",
       "Reviewer ID                                                         \n",
       "AO94DHGC771SJ   We got this GPS for my husband who is an (OTR)...   \n",
       "AMO214LNFCEI4   I'm a professional OTR truck driver, and I bou...   \n",
       "A3N7T0DY83Y4IG  Well, what can I say.  I've had this unit in m...   \n",
       "A1H8PY3QHMQQA0  Not going to write a long review, even thought...   \n",
       "A24EV6RXELQZ63  I've had mine for a year and here's what we go...   \n",
       "\n",
       "                Review Time Helpfulness Votes Sales Rank  \\\n",
       "Reviewer ID                                                \n",
       "AO94DHGC771SJ    1370131200            [0, 0]         {}   \n",
       "AMO214LNFCEI4    1290643200          [12, 15]         {}   \n",
       "A3N7T0DY83Y4IG   1283990400          [43, 45]         {}   \n",
       "A1H8PY3QHMQQA0   1290556800           [9, 10]         {}   \n",
       "A24EV6RXELQZ63   1317254400            [0, 0]         {}   \n",
       "\n",
       "                                                 Related Products  \n",
       "Reviewer ID                                                        \n",
       "AO94DHGC771SJ   {'also_viewed': ['B006ZOI9OY', 'B00C7FKT2A', '...  \n",
       "AMO214LNFCEI4   {'also_viewed': ['B006ZOI9OY', 'B00C7FKT2A', '...  \n",
       "A3N7T0DY83Y4IG  {'also_viewed': ['B006ZOI9OY', 'B00C7FKT2A', '...  \n",
       "A1H8PY3QHMQQA0  {'also_viewed': ['B006ZOI9OY', 'B00C7FKT2A', '...  \n",
       "A24EV6RXELQZ63  {'also_viewed': ['B006ZOI9OY', 'B00C7FKT2A', '...  "
      ]
     },
     "execution_count": 4,
     "metadata": {},
     "output_type": "execute_result"
    }
   ],
   "source": [
    "#Load the dataframe.\n",
    "df = read_DataFrame_From_CSV()\n",
    "\n",
    "#Reset the index.\n",
    "df = df.reset_index()\n",
    "\n",
    "#We fill the na values of the Review Text column with a string 'None'.\n",
    "df['Review Text'] = df['Review Text'].fillna('None')\n",
    "\n",
    "#df.set_index(['Reviewer ID','Product ID'])\n",
    "df = df.set_index('Reviewer ID')\n",
    "\n",
    "#Look at the head.\n",
    "df.head()"
   ]
  },
  {
   "cell_type": "markdown",
   "metadata": {},
   "source": [
    "Now that our dataframe is clean we can check what are the most reviewed article and what are the least reviewed."
   ]
  },
  {
   "cell_type": "code",
   "execution_count": 12,
   "metadata": {},
   "outputs": [
    {
     "data": {
      "text/plain": [
       "B007WTAJTO    4915\n",
       "B003ES5ZUU    4143\n",
       "B00DR0PDNE    3798\n",
       "B0019EHU8G    3435\n",
       "B002WE6D44    2813\n",
       "B003ELYQGG    2652\n",
       "B0002L5R78    2599\n",
       "B009SYZ8OC    2542\n",
       "B00BGGDVOO    2104\n",
       "B002V88HFE    2082\n",
       "Name: Product ID, dtype: int64"
      ]
     },
     "execution_count": 12,
     "metadata": {},
     "output_type": "execute_result"
    }
   ],
   "source": [
    "#Reset the index.\n",
    "articles = df.reset_index()\n",
    "\n",
    "#Set it as the product id.\n",
    "articles = articles['Product ID']\n",
    "\n",
    "#count all the values in the articles\n",
    "articles = articles.value_counts()\n",
    "\n",
    "#keep the 10 most reviewed article.\n",
    "most_reviewed = articles[:10]\n",
    "\n",
    "#keep the 10 least reviewed article.\n",
    "least_reviewed = articles[-10:]\n",
    "\n",
    "#have a look at the most reviewed\n",
    "most_reviewed"
   ]
  },
  {
   "cell_type": "code",
   "execution_count": 13,
   "metadata": {},
   "outputs": [
    {
     "data": {
      "text/plain": [
       "B000V1PB02    5\n",
       "B004H3WWU2    5\n",
       "B00H5XDVG0    5\n",
       "B000GAVT5E    5\n",
       "B001E27QSW    5\n",
       "B0074FWMXC    5\n",
       "B00HFRYAGQ    5\n",
       "B003MEVQRC    5\n",
       "B001QXDMXC    5\n",
       "B001PNMCYS    5\n",
       "Name: Product ID, dtype: int64"
      ]
     },
     "execution_count": 13,
     "metadata": {},
     "output_type": "execute_result"
    }
   ],
   "source": [
    "#have a look at the least reviewed to take it as an example\n",
    "#for the rest of the notebook.\n",
    "least_reviewed"
   ]
  },
  {
   "cell_type": "markdown",
   "metadata": {},
   "source": [
    "We look at the data of a reviewer (of a certain product). It shows us the mean rate, the mean length of the reviews, the number of reviews as a dataframe."
   ]
  },
  {
   "cell_type": "code",
   "execution_count": 6,
   "metadata": {},
   "outputs": [
    {
     "data": {
      "text/html": [
       "<div>\n",
       "<table border=\"1\" class=\"dataframe\">\n",
       "  <thead>\n",
       "    <tr style=\"text-align: right;\">\n",
       "      <th></th>\n",
       "      <th>Reviewer</th>\n",
       "      <th>length curr_review</th>\n",
       "      <th>mean_rates</th>\n",
       "      <th>mean_review_length</th>\n",
       "      <th>number_reviews</th>\n",
       "      <th>rates</th>\n",
       "      <th>review(s)_length</th>\n",
       "      <th>Electronics</th>\n",
       "      <th>Portable Audio &amp; Video</th>\n",
       "      <th>MP3 Players &amp; Accessories</th>\n",
       "      <th>...</th>\n",
       "      <th>Audio &amp; Video Accessories</th>\n",
       "      <th>TV Accessories &amp; Parts</th>\n",
       "      <th>Rear Projection TV Replacement Lamps</th>\n",
       "      <th>Telephone Accessories</th>\n",
       "      <th>Batteries</th>\n",
       "      <th>Car &amp; Vehicle Electronics</th>\n",
       "      <th>Vehicle Electronics Accessories</th>\n",
       "      <th>Antennas</th>\n",
       "      <th>Computer Cable Adapters</th>\n",
       "      <th>Hard Drive Enclosures</th>\n",
       "    </tr>\n",
       "  </thead>\n",
       "  <tbody>\n",
       "    <tr>\n",
       "      <th>0</th>\n",
       "      <td>A33WCB5866XN09</td>\n",
       "      <td>29</td>\n",
       "      <td>4.9</td>\n",
       "      <td>44.5</td>\n",
       "      <td>10</td>\n",
       "      <td>[5.0, 4.0, 5.0, 5.0, 5.0, 5.0, 5.0, 5.0, 5.0, ...</td>\n",
       "      <td>[29, 35, 31, 33, 21, 124, 24, 27, 57, 64]</td>\n",
       "      <td>10</td>\n",
       "      <td>1</td>\n",
       "      <td>1</td>\n",
       "      <td>...</td>\n",
       "      <td>3</td>\n",
       "      <td>2</td>\n",
       "      <td>2</td>\n",
       "      <td>1</td>\n",
       "      <td>1</td>\n",
       "      <td>1</td>\n",
       "      <td>1</td>\n",
       "      <td>1</td>\n",
       "      <td>1</td>\n",
       "      <td>1</td>\n",
       "    </tr>\n",
       "  </tbody>\n",
       "</table>\n",
       "<p>1 rows × 29 columns</p>\n",
       "</div>"
      ],
      "text/plain": [
       "         Reviewer  length curr_review  mean_rates  mean_review_length  \\\n",
       "0  A33WCB5866XN09                  29         4.9                44.5   \n",
       "\n",
       "   number_reviews                                              rates  \\\n",
       "0              10  [5.0, 4.0, 5.0, 5.0, 5.0, 5.0, 5.0, 5.0, 5.0, ...   \n",
       "\n",
       "                            review(s)_length  Electronics  \\\n",
       "0  [29, 35, 31, 33, 21, 124, 24, 27, 57, 64]           10   \n",
       "\n",
       "   Portable Audio & Video  MP3 Players & Accessories          ...            \\\n",
       "0                       1                          1          ...             \n",
       "\n",
       "   Audio & Video Accessories  TV Accessories & Parts  \\\n",
       "0                          3                       2   \n",
       "\n",
       "   Rear Projection TV Replacement Lamps  Telephone Accessories  Batteries  \\\n",
       "0                                     2                      1          1   \n",
       "\n",
       "   Car & Vehicle Electronics  Vehicle Electronics Accessories  Antennas  \\\n",
       "0                          1                                1         1   \n",
       "\n",
       "   Computer Cable Adapters  Hard Drive Enclosures  \n",
       "0                        1                      1  \n",
       "\n",
       "[1 rows x 29 columns]"
      ]
     },
     "execution_count": 6,
     "metadata": {},
     "output_type": "execute_result"
    }
   ],
   "source": [
    "#Data about reviewer A33WCB5866XN09.\n",
    "#Function that computes statistics on the reviewer, it returns the mean rate, all the rates, the length and the mean \n",
    "#lengths of all reviews, the number of reviews and the categories of the item it purchases.\n",
    "stat_reviewer = statistics(df,'A33WCB5866XN09')\n",
    "stat_reviewer"
   ]
  },
  {
   "cell_type": "markdown",
   "metadata": {},
   "source": [
    "We can do the same with a product and have the detailed data of all the reviewers of this product."
   ]
  },
  {
   "cell_type": "code",
   "execution_count": 7,
   "metadata": {},
   "outputs": [
    {
     "data": {
      "text/html": [
       "<div>\n",
       "<table border=\"1\" class=\"dataframe\">\n",
       "  <thead>\n",
       "    <tr style=\"text-align: right;\">\n",
       "      <th></th>\n",
       "      <th>Reviewer</th>\n",
       "      <th>Rate reviewer</th>\n",
       "      <th>mean_rates</th>\n",
       "      <th>length curr_review</th>\n",
       "      <th>mean_review_length</th>\n",
       "      <th>number_reviews</th>\n",
       "      <th>rates</th>\n",
       "      <th>review(s)_length</th>\n",
       "      <th>Electronics</th>\n",
       "      <th>APS Cameras</th>\n",
       "      <th>...</th>\n",
       "      <th>USB Flash Drives</th>\n",
       "      <th>USB Network Adapters</th>\n",
       "      <th>USB Port Cards</th>\n",
       "      <th>Vehicle Electronics Accessories</th>\n",
       "      <th>Video Cables</th>\n",
       "      <th>Video Surveillance</th>\n",
       "      <th>Webcams</th>\n",
       "      <th>Wireless Access Points</th>\n",
       "      <th>Zip Discs</th>\n",
       "      <th>xD-Picture Cards</th>\n",
       "    </tr>\n",
       "  </thead>\n",
       "  <tbody>\n",
       "    <tr>\n",
       "      <th>0</th>\n",
       "      <td>A3E0PQ1LJAKWZ</td>\n",
       "      <td>2.0</td>\n",
       "      <td>2.818182</td>\n",
       "      <td>86</td>\n",
       "      <td>67.000000</td>\n",
       "      <td>11</td>\n",
       "      <td>[2.0, 1.0, 5.0, 5.0, 3.0, 2.0, 4.0, 1.0, 1.0, ...</td>\n",
       "      <td>[86, 48, 28, 77, 32, 164, 51, 22, 90, 108, 31]</td>\n",
       "      <td>11</td>\n",
       "      <td>0.0</td>\n",
       "      <td>...</td>\n",
       "      <td>0.0</td>\n",
       "      <td>0.0</td>\n",
       "      <td>1.0</td>\n",
       "      <td>0.0</td>\n",
       "      <td>1.0</td>\n",
       "      <td>0.0</td>\n",
       "      <td>0.0</td>\n",
       "      <td>0.0</td>\n",
       "      <td>0.0</td>\n",
       "      <td>0.0</td>\n",
       "    </tr>\n",
       "    <tr>\n",
       "      <th>1</th>\n",
       "      <td>A7IKOAH6M8WAC</td>\n",
       "      <td>5.0</td>\n",
       "      <td>4.285714</td>\n",
       "      <td>36</td>\n",
       "      <td>84.000000</td>\n",
       "      <td>14</td>\n",
       "      <td>[5.0, 5.0, 5.0, 5.0, 5.0, 5.0, 4.0, 5.0, 1.0, ...</td>\n",
       "      <td>[36, 29, 56, 66, 214, 28, 111, 28, 63, 117, 88...</td>\n",
       "      <td>14</td>\n",
       "      <td>0.0</td>\n",
       "      <td>...</td>\n",
       "      <td>1.0</td>\n",
       "      <td>0.0</td>\n",
       "      <td>0.0</td>\n",
       "      <td>1.0</td>\n",
       "      <td>0.0</td>\n",
       "      <td>0.0</td>\n",
       "      <td>0.0</td>\n",
       "      <td>1.0</td>\n",
       "      <td>0.0</td>\n",
       "      <td>0.0</td>\n",
       "    </tr>\n",
       "    <tr>\n",
       "      <th>2</th>\n",
       "      <td>A2HONG3KI05QIX</td>\n",
       "      <td>4.0</td>\n",
       "      <td>4.857143</td>\n",
       "      <td>51</td>\n",
       "      <td>146.714286</td>\n",
       "      <td>7</td>\n",
       "      <td>[5.0, 5.0, 4.0, 5.0, 5.0, 5.0, 5.0]</td>\n",
       "      <td>[51, 134, 274, 51, 102, 128, 287]</td>\n",
       "      <td>7</td>\n",
       "      <td>0.0</td>\n",
       "      <td>...</td>\n",
       "      <td>0.0</td>\n",
       "      <td>1.0</td>\n",
       "      <td>0.0</td>\n",
       "      <td>0.0</td>\n",
       "      <td>0.0</td>\n",
       "      <td>0.0</td>\n",
       "      <td>0.0</td>\n",
       "      <td>0.0</td>\n",
       "      <td>0.0</td>\n",
       "      <td>0.0</td>\n",
       "    </tr>\n",
       "    <tr>\n",
       "      <th>3</th>\n",
       "      <td>A231WM2Z2JL0U3</td>\n",
       "      <td>4.0</td>\n",
       "      <td>4.401235</td>\n",
       "      <td>69</td>\n",
       "      <td>158.839506</td>\n",
       "      <td>162</td>\n",
       "      <td>[4.0, 5.0, 5.0, 5.0, 5.0, 5.0, 3.0, 5.0, 5.0, ...</td>\n",
       "      <td>[69, 62, 66, 68, 86, 41, 227, 119, 67, 76, 48,...</td>\n",
       "      <td>162</td>\n",
       "      <td>1.0</td>\n",
       "      <td>...</td>\n",
       "      <td>3.0</td>\n",
       "      <td>4.0</td>\n",
       "      <td>0.0</td>\n",
       "      <td>1.0</td>\n",
       "      <td>1.0</td>\n",
       "      <td>1.0</td>\n",
       "      <td>2.0</td>\n",
       "      <td>1.0</td>\n",
       "      <td>1.0</td>\n",
       "      <td>1.0</td>\n",
       "    </tr>\n",
       "    <tr>\n",
       "      <th>4</th>\n",
       "      <td>AWW0JIUH84TIK</td>\n",
       "      <td>3.0</td>\n",
       "      <td>3.526316</td>\n",
       "      <td>171</td>\n",
       "      <td>251.368421</td>\n",
       "      <td>19</td>\n",
       "      <td>[3.0, 4.0, 4.0, 1.0, 4.0, 4.0, 1.0, 3.0, 5.0, ...</td>\n",
       "      <td>[171, 154, 138, 160, 267, 123, 184, 28, 137, 4...</td>\n",
       "      <td>18</td>\n",
       "      <td>0.0</td>\n",
       "      <td>...</td>\n",
       "      <td>0.0</td>\n",
       "      <td>0.0</td>\n",
       "      <td>0.0</td>\n",
       "      <td>0.0</td>\n",
       "      <td>0.0</td>\n",
       "      <td>0.0</td>\n",
       "      <td>0.0</td>\n",
       "      <td>0.0</td>\n",
       "      <td>0.0</td>\n",
       "      <td>0.0</td>\n",
       "    </tr>\n",
       "  </tbody>\n",
       "</table>\n",
       "<p>5 rows × 128 columns</p>\n",
       "</div>"
      ],
      "text/plain": [
       "         Reviewer  Rate reviewer  mean_rates  length curr_review  \\\n",
       "0   A3E0PQ1LJAKWZ            2.0    2.818182                  86   \n",
       "1   A7IKOAH6M8WAC            5.0    4.285714                  36   \n",
       "2  A2HONG3KI05QIX            4.0    4.857143                  51   \n",
       "3  A231WM2Z2JL0U3            4.0    4.401235                  69   \n",
       "4   AWW0JIUH84TIK            3.0    3.526316                 171   \n",
       "\n",
       "   mean_review_length  number_reviews  \\\n",
       "0           67.000000              11   \n",
       "1           84.000000              14   \n",
       "2          146.714286               7   \n",
       "3          158.839506             162   \n",
       "4          251.368421              19   \n",
       "\n",
       "                                               rates  \\\n",
       "0  [2.0, 1.0, 5.0, 5.0, 3.0, 2.0, 4.0, 1.0, 1.0, ...   \n",
       "1  [5.0, 5.0, 5.0, 5.0, 5.0, 5.0, 4.0, 5.0, 1.0, ...   \n",
       "2                [5.0, 5.0, 4.0, 5.0, 5.0, 5.0, 5.0]   \n",
       "3  [4.0, 5.0, 5.0, 5.0, 5.0, 5.0, 3.0, 5.0, 5.0, ...   \n",
       "4  [3.0, 4.0, 4.0, 1.0, 4.0, 4.0, 1.0, 3.0, 5.0, ...   \n",
       "\n",
       "                                    review(s)_length  Electronics  \\\n",
       "0     [86, 48, 28, 77, 32, 164, 51, 22, 90, 108, 31]           11   \n",
       "1  [36, 29, 56, 66, 214, 28, 111, 28, 63, 117, 88...           14   \n",
       "2                  [51, 134, 274, 51, 102, 128, 287]            7   \n",
       "3  [69, 62, 66, 68, 86, 41, 227, 119, 67, 76, 48,...          162   \n",
       "4  [171, 154, 138, 160, 267, 123, 184, 28, 137, 4...           18   \n",
       "\n",
       "   APS Cameras        ...         USB Flash Drives  USB Network Adapters  \\\n",
       "0          0.0        ...                      0.0                   0.0   \n",
       "1          0.0        ...                      1.0                   0.0   \n",
       "2          0.0        ...                      0.0                   1.0   \n",
       "3          1.0        ...                      3.0                   4.0   \n",
       "4          0.0        ...                      0.0                   0.0   \n",
       "\n",
       "   USB Port Cards  Vehicle Electronics Accessories  Video Cables  \\\n",
       "0             1.0                              0.0           1.0   \n",
       "1             0.0                              1.0           0.0   \n",
       "2             0.0                              0.0           0.0   \n",
       "3             0.0                              1.0           1.0   \n",
       "4             0.0                              0.0           0.0   \n",
       "\n",
       "   Video Surveillance  Webcams  Wireless Access Points  Zip Discs  \\\n",
       "0                 0.0      0.0                     0.0        0.0   \n",
       "1                 0.0      0.0                     1.0        0.0   \n",
       "2                 0.0      0.0                     0.0        0.0   \n",
       "3                 1.0      2.0                     1.0        1.0   \n",
       "4                 0.0      0.0                     0.0        0.0   \n",
       "\n",
       "   xD-Picture Cards  \n",
       "0               0.0  \n",
       "1               0.0  \n",
       "2               0.0  \n",
       "3               1.0  \n",
       "4               0.0  \n",
       "\n",
       "[5 rows x 128 columns]"
      ]
     },
     "execution_count": 7,
     "metadata": {},
     "output_type": "execute_result"
    }
   ],
   "source": [
    "#Data about product B00005NHAK.\n",
    "#Function that returns the statistics about all the reviewer of a product. \n",
    "#See helpers_functions.py for more details.\n",
    "stat_product = statistics_product(df,'B00005NHAK')\n",
    "\n",
    "#look at the result.\n",
    "stat_product"
   ]
  },
  {
   "cell_type": "markdown",
   "metadata": {},
   "source": [
    "Let's vizualise some data."
   ]
  },
  {
   "cell_type": "code",
   "execution_count": 8,
   "metadata": {},
   "outputs": [
    {
     "data": {
      "image/png": "[encoded data removed]",
      "text/plain": [
       "<matplotlib.figure.Figure at 0x1515aecbc88>"
      ]
     },
     "metadata": {},
     "output_type": "display_data"
    }
   ],
   "source": [
    "#Analyse the parity of the columns.\n",
    "#Function that plot the parity of the columns of interest of our review-dataframe.\n",
    "analyse_pair(stat_product)"
   ]
  },
  {
   "cell_type": "code",
   "execution_count": 9,
   "metadata": {},
   "outputs": [
    {
     "data": {
      "image/png": "[encoded data removed]",
      "text/plain": [
       "<matplotlib.figure.Figure at 0x14ee89911d0>"
      ]
     },
     "metadata": {},
     "output_type": "display_data"
    }
   ],
   "source": [
    "#other plots.\n",
    "#Function that plot some interesting plots\n",
    "analyse_ref(stat_product)"
   ]
  },
  {
   "cell_type": "code",
   "execution_count": 10,
   "metadata": {},
   "outputs": [
    {
     "data": {
      "text/html": [
       "<div>\n",
       "<table border=\"1\" class=\"dataframe\">\n",
       "  <thead>\n",
       "    <tr style=\"text-align: right;\">\n",
       "      <th></th>\n",
       "      <th>length curr_review</th>\n",
       "      <th>Rate reviewer</th>\n",
       "    </tr>\n",
       "  </thead>\n",
       "  <tbody>\n",
       "    <tr>\n",
       "      <th>length curr_review</th>\n",
       "      <td>1.000000</td>\n",
       "      <td>-0.588072</td>\n",
       "    </tr>\n",
       "    <tr>\n",
       "      <th>Rate reviewer</th>\n",
       "      <td>-0.588072</td>\n",
       "      <td>1.000000</td>\n",
       "    </tr>\n",
       "  </tbody>\n",
       "</table>\n",
       "</div>"
      ],
      "text/plain": [
       "                    length curr_review  Rate reviewer\n",
       "length curr_review            1.000000      -0.588072\n",
       "Rate reviewer                -0.588072       1.000000"
      ]
     },
     "execution_count": 10,
     "metadata": {},
     "output_type": "execute_result"
    }
   ],
   "source": [
    "#Correlation between the length of the review and the rate.\n",
    "#Function that calculate the correlation between the length of the review and the rate of the review.\n",
    "corr = corr_len_rate(stat_product)\n",
    "corr"
   ]
  },
  {
   "cell_type": "markdown",
   "metadata": {},
   "source": [
    "## What's next in this section?"
   ]
  },
  {
   "cell_type": "markdown",
   "metadata": {},
   "source": [
    "The goal will be to have enough data to compute a new rate in relation with the data we collect and the sentiment analysis of the review from the other section. At the end, for a given product we will have detailed statistics and a new rating based on our analysis. We will use our pipeline for the other categories."
   ]
  },
  {
   "cell_type": "markdown",
   "metadata": {},
   "source": [
    "# Sentiment analysis"
   ]
  },
  {
   "cell_type": "markdown",
   "metadata": {},
   "source": [
    "## What's in this section ?"
   ]
  },
  {
   "cell_type": "markdown",
   "metadata": {},
   "source": [
    "In this part, we work on the reviews of the product in the Electronics category, read from the 5-core data set. We want to analyze the sentiment that is given by the review : is it positive or negative ? How does it relate to the rating given by the reviewer ?\n",
    "\n",
    "To do this, we use the nltk python library, in particular the Vader module which can determine the sentiment of a text. The library provides a grade of the positiveness and negativeness of a text, and an average of the two : compound. We will use this last value for our analysis."
   ]
  },
  {
   "cell_type": "markdown",
   "metadata": {},
   "source": [
    "We start by importing the nltk library and the `Vader` module"
   ]
  },
  {
   "cell_type": "code",
   "execution_count": 33,
   "metadata": {},
   "outputs": [],
   "source": [
    "import nltk.data\n",
    "\n",
    "from nltk.sentiment.vader import SentimentIntensityAnalyzer\n",
    "from nltk.stem.wordnet import WordNetLemmatizer"
   ]
  },
  {
   "cell_type": "code",
   "execution_count": 34,
   "metadata": {},
   "outputs": [],
   "source": [
    "# We instantiate the sentiment analizer \n",
    "sid = SentimentIntensityAnalyzer()\n",
    "# lmtzr = WordNetLemmatizer()"
   ]
  },
  {
   "cell_type": "markdown",
   "metadata": {},
   "source": [
    "We wrap the computation of the nltk compound score of a text in a helper function."
   ]
  },
  {
   "cell_type": "code",
   "execution_count": 35,
   "metadata": {},
   "outputs": [],
   "source": [
    "def overall_score(text):\n",
    "    \"\"\" Computes a unique value of sentiment positiveness for the input text \n",
    "        Returns: (positiveness_score - negativeness_score) * compound\n",
    "    \"\"\"\n",
    "    polarity_score = sid.polarity_scores(text)\n",
    "    return polarity_score['compound'] # (blob['pos'] - blob['neg']) * blob['compound']"
   ]
  },
  {
   "cell_type": "code",
   "execution_count": 36,
   "metadata": {},
   "outputs": [],
   "source": [
    "text = 'marvelous and awful'"
   ]
  },
  {
   "cell_type": "code",
   "execution_count": 37,
   "metadata": {},
   "outputs": [
    {
     "data": {
      "text/plain": [
       "{'compound': 0.2263, 'neg': 0.38, 'neu': 0.127, 'pos': 0.494}"
      ]
     },
     "execution_count": 37,
     "metadata": {},
     "output_type": "execute_result"
    }
   ],
   "source": [
    "sid.polarity_scores(text)"
   ]
  },
  {
   "cell_type": "code",
   "execution_count": 38,
   "metadata": {},
   "outputs": [
    {
     "data": {
      "text/plain": [
       "0.2263"
      ]
     },
     "execution_count": 38,
     "metadata": {},
     "output_type": "execute_result"
    }
   ],
   "source": [
    "overall_score(text)"
   ]
  },
  {
   "cell_type": "markdown",
   "metadata": {},
   "source": [
    "We wish to see if the distribution of the sentiment is similar to the distribution of the ratings. To better compare the data, we will map the sentiment from \\[-1, 1\\] to the range of the ratings : \\[1,5\\]"
   ]
  },
  {
   "cell_type": "code",
   "execution_count": 39,
   "metadata": {},
   "outputs": [],
   "source": [
    "def mapSentimentToRating(Sentiment):\n",
    "    \"\"\" Maps the sentiment rating of a review (real number between -1 and 1) to\n",
    "        a rating between 1 and 5. \"\"\"\n",
    "    # We use a linear mapping : for any number x in [-1, 1], we map the value\n",
    "    # (x - (-1)) * (5-1)/(1-(-1)) + 1\n",
    "    return (Sentiment+1)*2 +1"
   ]
  },
  {
   "cell_type": "markdown",
   "metadata": {},
   "source": [
    "We will first analyse the sentiment given by the summary (title) of the reviews, and then we will analyse the sentiment given by the texts of the reviews.\n",
    "\n",
    "We create a new column in the dataframe to store the sentiment of the summary of the reviews, and fill it with the values computed with nltk."
   ]
  },
  {
   "cell_type": "code",
   "execution_count": 40,
   "metadata": {},
   "outputs": [
    {
     "data": {
      "text/plain": [
       "count    1.689188e+06\n",
       "mean     2.877538e-01\n",
       "std      3.564592e-01\n",
       "min     -9.691000e-01\n",
       "25%      0.000000e+00\n",
       "50%      3.919000e-01\n",
       "75%      6.249000e-01\n",
       "max      9.911000e-01\n",
       "Name: Review Summary Sentiment, dtype: float64"
      ]
     },
     "execution_count": 40,
     "metadata": {},
     "output_type": "execute_result"
    }
   ],
   "source": [
    "Elec_Data = df\n",
    "\n",
    "Elec_Data['Review Summary Sentiment'] = np.NaN\n",
    "\n",
    "Elec_Data['Review Summary Sentiment'] = Elec_Data['Review Summary'].map(lambda r: overall_score(str(r)))\n",
    "\n",
    "Elec_Data['Review Summary Sentiment'].describe()"
   ]
  },
  {
   "cell_type": "markdown",
   "metadata": {},
   "source": [
    "We now map the sentiment to \\[1, 5\\] to compare them with the gradings"
   ]
  },
  {
   "cell_type": "code",
   "execution_count": 41,
   "metadata": {},
   "outputs": [],
   "source": [
    "Elec_Data['Review Summary Sentiment'] = mapSentimentToRating(Elec_Data['Review Summary Sentiment'])"
   ]
  },
  {
   "cell_type": "code",
   "execution_count": 42,
   "metadata": {},
   "outputs": [
    {
     "data": {
      "text/plain": [
       "count    1.689188e+06\n",
       "mean     3.575508e+00\n",
       "std      7.129184e-01\n",
       "min      1.061800e+00\n",
       "25%      3.000000e+00\n",
       "50%      3.783800e+00\n",
       "75%      4.249800e+00\n",
       "max      4.982200e+00\n",
       "Name: Review Summary Sentiment, dtype: float64"
      ]
     },
     "execution_count": 42,
     "metadata": {},
     "output_type": "execute_result"
    }
   ],
   "source": [
    "Elec_Data['Review Summary Sentiment'].describe()"
   ]
  },
  {
   "cell_type": "markdown",
   "metadata": {},
   "source": [
    "We plot the distribution of the sentiment ratings"
   ]
  },
  {
   "cell_type": "code",
   "execution_count": 45,
   "metadata": {
    "scrolled": true
   },
   "outputs": [
    {
     "data": {
      "image/png": "[encoded data removed]",
      "text/plain": [
       "<matplotlib.figure.Figure at 0x94be651be0>"
      ]
     },
     "metadata": {},
     "output_type": "display_data"
    }
   ],
   "source": [
    "sns.distplot(Elec_Data['Review Summary Sentiment'], kde = False)\n",
    "plt.show()"
   ]
  },
  {
   "cell_type": "markdown",
   "metadata": {},
   "source": [
    "The distribution displays two peaks : a center at 3 which indicates a neutral feeling, and a pick between 3.5 and 4.5 which correspond to positive feelings. Most of the reviews feelings are thus neutral or positive."
   ]
  },
  {
   "cell_type": "markdown",
   "metadata": {},
   "source": [
    "We now compute the sentiment given by the full text of the reviews"
   ]
  },
  {
   "cell_type": "code",
   "execution_count": 46,
   "metadata": {},
   "outputs": [],
   "source": [
    "Elec_Data['Review Sentiment'] = np.NaN"
   ]
  },
  {
   "cell_type": "code",
   "execution_count": 47,
   "metadata": {},
   "outputs": [],
   "source": [
    "Elec_Data['Review Sentiment'] = Elec_Data['Review Text'].map(lambda r: overall_score(str(r)))"
   ]
  },
  {
   "cell_type": "code",
   "execution_count": 48,
   "metadata": {
    "scrolled": true
   },
   "outputs": [
    {
     "data": {
      "text/plain": [
       "count    1.689188e+06\n",
       "mean     5.611259e-01\n",
       "std      5.047354e-01\n",
       "min     -9.996000e-01\n",
       "25%      3.642000e-01\n",
       "50%      7.844000e-01\n",
       "75%      9.283000e-01\n",
       "max      1.000000e+00\n",
       "Name: Review Sentiment, dtype: float64"
      ]
     },
     "execution_count": 48,
     "metadata": {},
     "output_type": "execute_result"
    }
   ],
   "source": [
    "Elec_Data['Review Sentiment'].describe()"
   ]
  },
  {
   "cell_type": "markdown",
   "metadata": {},
   "source": [
    "We map the sentiment to the rating range :"
   ]
  },
  {
   "cell_type": "code",
   "execution_count": 49,
   "metadata": {},
   "outputs": [],
   "source": [
    "Elec_Data['Review Sentiment'] = mapSentimentToRating(Elec_Data['Review Sentiment'])"
   ]
  },
  {
   "cell_type": "code",
   "execution_count": 50,
   "metadata": {},
   "outputs": [
    {
     "data": {
      "text/plain": [
       "count    1.689188e+06\n",
       "mean     4.122252e+00\n",
       "std      1.009471e+00\n",
       "min      1.000800e+00\n",
       "25%      3.728400e+00\n",
       "50%      4.568800e+00\n",
       "75%      4.856600e+00\n",
       "max      5.000000e+00\n",
       "Name: Review Sentiment, dtype: float64"
      ]
     },
     "execution_count": 50,
     "metadata": {},
     "output_type": "execute_result"
    }
   ],
   "source": [
    "Elec_Data['Review Sentiment'].describe()"
   ]
  },
  {
   "cell_type": "markdown",
   "metadata": {},
   "source": [
    "As we can see, most of the sentiment of the reviews are between 4 et 5, which is a very positive sentiment. There is also a pick at 3, which correspond to a neutral feeling."
   ]
  },
  {
   "cell_type": "code",
   "execution_count": 51,
   "metadata": {
    "scrolled": true
   },
   "outputs": [
    {
     "data": {
      "image/png": "[encoded data removed]",
      "text/plain": [
       "<matplotlib.figure.Figure at 0x94c29af208>"
      ]
     },
     "metadata": {},
     "output_type": "display_data"
    }
   ],
   "source": [
    "sns.distplot(Elec_Data['Review Sentiment'], kde = False)\n",
    "plt.show()"
   ]
  },
  {
   "cell_type": "markdown",
   "metadata": {},
   "source": [
    "We look at the distribution of the reviews sentiment per product:"
   ]
  },
  {
   "cell_type": "code",
   "execution_count": 58,
   "metadata": {},
   "outputs": [
    {
     "data": {
      "image/png": "[encoded data removed]",
      "text/plain": [
       "<matplotlib.figure.Figure at 0x9507c0efd0>"
      ]
     },
     "metadata": {},
     "output_type": "display_data"
    }
   ],
   "source": [
    "sns.distplot(Elec_Data.groupby(level=0)['Review Sentiment'].mean(), kde = False)\n",
    "plt.show()"
   ]
  },
  {
   "cell_type": "markdown",
   "metadata": {},
   "source": [
    "The distribution is very different. We can compare it to the distribution of ratings per product:"
   ]
  },
  {
   "cell_type": "code",
   "execution_count": 59,
   "metadata": {},
   "outputs": [
    {
     "data": {
      "image/png": "[encoded data removed]",
      "text/plain": [
       "<matplotlib.figure.Figure at 0x9507c0ef98>"
      ]
     },
     "metadata": {},
     "output_type": "display_data"
    }
   ],
   "source": [
    "ax = sns.distplot(Elec_Data.groupby(level=0)['Review Rating'].mean(), kde = False)\n",
    "plt.show()"
   ]
  },
  {
   "cell_type": "markdown",
   "metadata": {},
   "source": [
    "## What's next\n",
    "\n",
    "We compared the distribution of the average sentiment and rating of a given product. In the next step, we can compare the sentiment and rating for a given reviewer, and try to derive from these two quantities a method to helps an amazon custumer better understand the review."
   ]
  },
  {
   "cell_type": "markdown",
   "metadata": {},
   "source": [
    "# Similarity study"
   ]
  },
  {
   "cell_type": "markdown",
   "metadata": {},
   "source": [
    "## What's in this section"
   ]
  },
  {
   "cell_type": "markdown",
   "metadata": {},
   "source": [
    "In this section, we try to assess the similarity between reviews of a same product. The end goal would be to provide a method to detect very similar reviews, so that the amazon customer can have a taste of different reviews.\n",
    "\n",
    "To do this, we use the library `spacy` which provides method to compute the similarity of two texts, that can handle the use of synonyms. However, the similarity method of spacy does not work well on long texts, so we will first have to split the reviews into chunks in a n-gramm fashion.\n",
    "\n",
    "We start by importing the library and load the langage model."
   ]
  },
  {
   "cell_type": "code",
   "execution_count": 62,
   "metadata": {},
   "outputs": [],
   "source": [
    "import spacy\n",
    "\n",
    "nlp = spacy.load('en_core_web_lg')"
   ]
  },
  {
   "cell_type": "markdown",
   "metadata": {},
   "source": [
    "As the spacy library does not perform well on long text, we first split the text into a set of small string, which sizes (in number of words) are determined by the parameter k. For instance the string 'I like bananas' would be splitted with k = 3 into : {'I', 'like', 'bananas', 'I like', 'like bananas', 'I like bananas'}"
   ]
  },
  {
   "cell_type": "code",
   "execution_count": 63,
   "metadata": {},
   "outputs": [],
   "source": [
    "def shingleWords(doc, k=3):\n",
    "    \"\"\" Creates the set of the k-gramm words in doc\n",
    "        Arguments:\n",
    "            doc: unicode encoded string\n",
    "            k: integer\n",
    "        Returns: set of k-gramms in doc\n",
    "    \"\"\"\n",
    "    blob = set()\n",
    "    for j in range(1,k+1):\n",
    "        tokens = nlp(doc)\n",
    "        blob = blob.union({ tokens[i:i+j] for i in range(0, len(tokens) - j + 1) })\n",
    "    return removeNoiseAndCleanSet(blob)"
   ]
  },
  {
   "cell_type": "code",
   "execution_count": 64,
   "metadata": {},
   "outputs": [],
   "source": [
    "def shingleList(string_list, k=3):\n",
    "    \"\"\" Here string_list is a List of strings to process shingle\n",
    "        Returns a list of the k gramm word in each string\n",
    "    \"\"\"\n",
    "    docs = [None]*len(string_list)\n",
    "    for i, string in enumerate(string_list):\n",
    "        docs[i] = shingleWords(string)\n",
    "    return docs"
   ]
  },
  {
   "cell_type": "markdown",
   "metadata": {},
   "source": [
    "To compute the similarity between the sets, we can use the jaccard distance, but it does not capture the use of synonyms in the reviews. To handle this, we use the spacy similarity in a custom distance function."
   ]
  },
  {
   "cell_type": "code",
   "execution_count": 65,
   "metadata": {},
   "outputs": [],
   "source": [
    "def jaccard(a, b):\n",
    "    \"\"\" A function to compute jaccard distances between sets. \"\"\"\n",
    "    return 1.0 * len(a.intersection(b)) / len(a.union(b))"
   ]
  },
  {
   "cell_type": "code",
   "execution_count": 66,
   "metadata": {},
   "outputs": [],
   "source": [
    "def myDistance(a,b):\n",
    "    \"\"\" A custom function to compute distances between two sets of texts\n",
    "        It consists in summing the similarity of each pair of elements\n",
    "        with an element taken in each set. The similarity computed using the \n",
    "        spacy library and takes into account the synonyms.\n",
    "        The similarities are weighted by the lengths of the strings in the sets,\n",
    "        because similar long strings provide much more information than similar \n",
    "        short strings.\n",
    "        The result is normed by the sum of the weights (the similarity are in [0, 1])\n",
    "        so that the final result is in [0, 1]\n",
    "    \"\"\"\n",
    "    distance = 0\n",
    "    norm = 0\n",
    "    for token_i in a:\n",
    "        for token_j in b:\n",
    "            weight = len(token_i.text + token_j.text)\n",
    "            distance += token_i.similarity(token_j) * weight\n",
    "            norm += weight\n",
    "    distance /= norm\n",
    "    return distance"
   ]
  },
  {
   "cell_type": "markdown",
   "metadata": {},
   "source": [
    "Before measuring the distances between sets, we want to remove from the texts the words that do not carry information, such as 'the', 'or'... These are referred as stop_words in `spacy`"
   ]
  },
  {
   "cell_type": "code",
   "execution_count": 67,
   "metadata": {},
   "outputs": [],
   "source": [
    "#Function to check if the token is a 'noise' word or not\n",
    "def isNoise(token, noisy_pos_tags = [], min_token_length = 2):     \n",
    "    \"\"\" Determines if a given token is noise \"\"\"\n",
    "    is_noise = False\n",
    "    # if token.pos_ in noisy_pos_tags:\n",
    "        # is_noise = True \n",
    "    if token.is_stop == True:\n",
    "        is_noise = True\n",
    "    elif len(token.string) <= min_token_length:\n",
    "        is_noise = True\n",
    "    return is_noise \n",
    "\n",
    "def cleanup(token, lower = True):\n",
    "    if lower:\n",
    "        token = token.lower()\n",
    "    return token.strip()"
   ]
  },
  {
   "cell_type": "code",
   "execution_count": 68,
   "metadata": {},
   "outputs": [],
   "source": [
    "def removeNoiseAndCleanSet(tokens_set):\n",
    "    \"\"\" Removes the token judged as noise from the set. \"\"\"\n",
    "    \n",
    "    text_set = set()\n",
    "    clean_set = set()\n",
    "    for tokens in tokens_set:\n",
    "        string = ''\n",
    "        for token in tokens:\n",
    "            if(not isNoise(token)):\n",
    "                string = string + ' ' + token.text.strip()\n",
    "        if string:\n",
    "            if not string in text_set:\n",
    "                text_set.add(string)\n",
    "                clean_set.add(nlp(string))\n",
    "    # clean_set = {token for tokens in tokens_set for token in tokens if not isNoise(token)}\n",
    "    return clean_set"
   ]
  },
  {
   "cell_type": "markdown",
   "metadata": {},
   "source": [
    "Finaly, we compute the similarity between any review of a given product "
   ]
  },
  {
   "cell_type": "code",
   "execution_count": 72,
   "metadata": {},
   "outputs": [],
   "source": [
    "def getReviewsSimilarityMatrix(ProductID):\n",
    "    \"\"\" Get the similarity rating of all the review of the product \"\"\"\n",
    "    \n",
    "    reviews = Elec_Data.loc[ProductID].iloc[:]['Review Text']\n",
    "    num_reviews = reviews.shape[0]\n",
    "    tokenList = shingleList(reviews)\n",
    "    print(tokenList)\n",
    "    sim_matrix = np.empty([num_reviews, num_reviews])\n",
    "    for i in range(num_reviews):\n",
    "        for j in range(num_reviews):\n",
    "            sim_matrix[i,j] = myDistance(tokenList[i],tokenList[j])\n",
    "    return sim_matrix"
   ]
  },
  {
   "cell_type": "code",
   "execution_count": 70,
   "metadata": {},
   "outputs": [],
   "source": [
    "mat = getReviewsSimilarityMatrix('0528881469')"
   ]
  },
  {
   "cell_type": "code",
   "execution_count": 71,
   "metadata": {},
   "outputs": [
    {
     "name": "stdout",
     "output_type": "stream",
     "text": [
      "[[ 0.5305967   0.47814056  0.48864703  0.51495024  0.48893193]\n",
      " [ 0.47814056  0.45393297  0.44747445  0.47414657  0.4536555 ]\n",
      " [ 0.48864703  0.44747445  0.46577286  0.48122497  0.46274962]\n",
      " [ 0.51495024  0.47414657  0.48122497  0.51053385  0.48243487]\n",
      " [ 0.48893193  0.4536555   0.46274962  0.48243487  0.47152483]]\n"
     ]
    }
   ],
   "source": [
    "print(mat)"
   ]
  },
  {
   "cell_type": "markdown",
   "metadata": {},
   "source": [
    "## What's next ?\n",
    "\n",
    "The similarity analysis is not very satisfying, since every review is about the same product the scores of the similarity are very close from one another and do not provide very usefull information. We will try to improve the results."
   ]
  },
  {
   "cell_type": "code",
   "execution_count": null,
   "metadata": {},
   "outputs": [],
   "source": []
  }
 ],
 "metadata": {
  "kernelspec": {
   "display_name": "Python 3",
   "language": "python",
   "name": "python3"
  },
  "language_info": {
   "codemirror_mode": {
    "name": "ipython",
    "version": 3
   },
   "file_extension": ".py",
   "mimetype": "text/x-python",
   "name": "python",
   "nbconvert_exporter": "python",
   "pygments_lexer": "ipython3",
   "version": "3.6.3"
  }
 },
 "nbformat": 4,
 "nbformat_minor": 2
}
