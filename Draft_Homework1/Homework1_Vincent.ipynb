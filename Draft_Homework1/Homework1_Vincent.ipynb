{
 "cells": [
  {
   "cell_type": "markdown",
   "metadata": {},
   "source": [
    "# Table of Contents\n",
    " <p><div class=\"lev1\"><a href=\"#Task-1.-Compiling-Ebola-Data\"><span class=\"toc-item-num\">Task 1.&nbsp;&nbsp;</span>Compiling Ebola Data</a></div>\n",
    " <div class=\"lev1\"><a href=\"#Task-2.-RNA-Sequences\"><span class=\"toc-item-num\">Task 2.&nbsp;&nbsp;</span>RNA Sequences</a></div>\n",
    " <div class=\"lev1\"><a href=\"#Task-3.-Class-War-in-Titanic\"><span class=\"toc-item-num\">Task 3.&nbsp;&nbsp;</span>Class War in Titanic</a></div></p>"
   ]
  },
  {
   "cell_type": "code",
   "execution_count": 20,
   "metadata": {},
   "outputs": [],
   "source": [
    "%matplotlib inline\n",
    "import pandas as pd\n",
    "import numpy as np\n",
    "import matplotlib.pyplot as plt\n",
    "import seaborn as sns\n",
    "sns.set_context('notebook')"
   ]
  },
  {
   "cell_type": "code",
   "execution_count": 21,
   "metadata": {
    "collapsed": true
   },
   "outputs": [],
   "source": [
    "# Use the data folder provided in Tutorial 02 - Intro to Pandas.\n",
    "DATA_FOLDER = './Data'"
   ]
  },
  {
   "cell_type": "markdown",
   "metadata": {},
   "source": [
    "## Task 1. Compiling Ebola Data\n",
    "\n",
    "The `DATA_FOLDER/ebola` folder contains summarized reports of Ebola cases from three countries (Guinea, Liberia and Sierra Leone) during the recent outbreak of the disease in West Africa. For each country, there are daily reports that contain various information about the outbreak in several cities in each country.\n",
    "\n",
    "Use pandas to import these data files into a single `Dataframe`.\n",
    "Using this `DataFrame`, calculate for *each country*, the *daily average per month* of *new cases* and *deaths*.\n",
    "Make sure you handle all the different expressions for *new cases* and *deaths* that are used in the reports."
   ]
  },
  {
   "cell_type": "code",
   "execution_count": 22,
   "metadata": {
    "collapsed": true
   },
   "outputs": [],
   "source": [
    "# Write your answer here"
   ]
  },
  {
   "cell_type": "markdown",
   "metadata": {},
   "source": [
    "## Task 2. RNA Sequences\n",
    "\n",
    "In the `DATA_FOLDER/microbiome` subdirectory, there are 9 spreadsheets of microbiome data that was acquired from high-throughput RNA sequencing procedures, along with a 10<sup>th</sup> file that describes the content of each. \n",
    "\n",
    "Use pandas to import the first 9 spreadsheets into a single `DataFrame`.\n",
    "Then, add the metadata information from the 10<sup>th</sup> spreadsheet as columns in the combined `DataFrame`.\n",
    "Make sure that the final `DataFrame` has a unique index and all the `NaN` values have been replaced by the tag `unknown`."
   ]
  },
  {
   "cell_type": "markdown",
   "metadata": {},
   "source": [
    "## Answer\n",
    "\n",
    "We start by importing the 9 spreadsheets in a list of `DataFrame`. The `glob` module is used to get the paths to the excel files, which are contained in the variable `allFiles`."
   ]
  },
  {
   "cell_type": "code",
   "execution_count": 44,
   "metadata": {},
   "outputs": [],
   "source": [
    "import glob\n",
    "\n",
    "path = DATA_FOLDER + '/microbiome'\n",
    "allFiles = glob.glob(path + '/MID*.xls')\n",
    "spreadsheets = [pd.read_excel(file, sheetname='Sheet 1',  header=None, names=['Name', 'Counts']) for file in allFiles]"
   ]
  },
  {
   "cell_type": "markdown",
   "metadata": {},
   "source": [
    "The `dataframes` are then concatenated into a single `dataframe` using the files name as keys."
   ]
  },
  {
   "cell_type": "code",
   "execution_count": 45,
   "metadata": {
    "collapsed": true
   },
   "outputs": [],
   "source": [
    "fileID = ['MID' + str(i+1) for i in range(len(allFiles))]\n",
    "microbeData = pd.concat(spreadsheets,  keys=fileID)"
   ]
  },
  {
   "cell_type": "markdown",
   "metadata": {},
   "source": [
    "To add the metadata information to the `dataframe`, we first create 2 columns with content \"unknown\". Then, the metadata file is read and the metadata are added to the `dataframe` using the keys to isolate the data by input file."
   ]
  },
  {
   "cell_type": "code",
   "execution_count": 46,
   "metadata": {},
   "outputs": [],
   "source": [
    "microbeData['GROUP'] = ['unknown']*len(microbeData)\n",
    "microbeData['SAMPLE'] = ['unknown']*len(microbeData)\n",
    "\n",
    "microbeMetaData = pd.read_excel(path + '/metadata.xls', index_col='BARCODE')\n",
    "\n",
    "for barcode in microbeMetaData.index:\n",
    "    microbeData.loc[barcode, 'GROUP'] = microbeMetaData.loc[barcode,'GROUP']\n",
    "    microbeData.loc[barcode, 'SAMPLE'] = microbeMetaData.loc[barcode,'SAMPLE']"
   ]
  },
  {
   "cell_type": "markdown",
   "metadata": {},
   "source": [
    "Finaly, we set the `NaN` values to `unknown` and create a unique hierarchical index using the **group**, **sample** and **name** features"
   ]
  },
  {
   "cell_type": "code",
   "execution_count": 48,
   "metadata": {},
   "outputs": [],
   "source": [
    "microbeData.fillna('unknown', inplace=True)\n",
    "\n",
    "microbeData.set_index(['GROUP', 'SAMPLE','Name'], inplace=True)"
   ]
  },
  {
   "cell_type": "code",
   "execution_count": 49,
   "metadata": {},
   "outputs": [
    {
     "data": {
      "text/html": [
       "<div>\n",
       "<style>\n",
       "    .dataframe thead tr:only-child th {\n",
       "        text-align: right;\n",
       "    }\n",
       "\n",
       "    .dataframe thead th {\n",
       "        text-align: left;\n",
       "    }\n",
       "\n",
       "    .dataframe tbody tr th {\n",
       "        vertical-align: top;\n",
       "    }\n",
       "</style>\n",
       "<table border=\"1\" class=\"dataframe\">\n",
       "  <thead>\n",
       "    <tr style=\"text-align: right;\">\n",
       "      <th></th>\n",
       "      <th></th>\n",
       "      <th></th>\n",
       "      <th>Counts</th>\n",
       "    </tr>\n",
       "    <tr>\n",
       "      <th>GROUP</th>\n",
       "      <th>SAMPLE</th>\n",
       "      <th>Name</th>\n",
       "      <th></th>\n",
       "    </tr>\n",
       "  </thead>\n",
       "  <tbody>\n",
       "    <tr>\n",
       "      <th rowspan=\"5\" valign=\"top\">EXTRACTION CONTROL</th>\n",
       "      <th rowspan=\"5\" valign=\"top\">unknown</th>\n",
       "      <th>Archaea \"Crenarchaeota\" Thermoprotei Desulfurococcales Desulfurococcaceae Ignisphaera</th>\n",
       "      <td>7</td>\n",
       "    </tr>\n",
       "    <tr>\n",
       "      <th>Archaea \"Crenarchaeota\" Thermoprotei Desulfurococcales Pyrodictiaceae Pyrolobus</th>\n",
       "      <td>2</td>\n",
       "    </tr>\n",
       "    <tr>\n",
       "      <th>Archaea \"Crenarchaeota\" Thermoprotei Sulfolobales Sulfolobaceae Stygiolobus</th>\n",
       "      <td>3</td>\n",
       "    </tr>\n",
       "    <tr>\n",
       "      <th>Archaea \"Crenarchaeota\" Thermoprotei Thermoproteales Thermofilaceae Thermofilum</th>\n",
       "      <td>3</td>\n",
       "    </tr>\n",
       "    <tr>\n",
       "      <th>Archaea \"Euryarchaeota\" \"Methanomicrobia\" Methanocellales Methanocellaceae Methanocella</th>\n",
       "      <td>7</td>\n",
       "    </tr>\n",
       "  </tbody>\n",
       "</table>\n",
       "</div>"
      ],
      "text/plain": [
       "                                                                               Counts\n",
       "GROUP              SAMPLE  Name                                                      \n",
       "EXTRACTION CONTROL unknown Archaea \"Crenarchaeota\" Thermoprotei Desulfuroc...       7\n",
       "                           Archaea \"Crenarchaeota\" Thermoprotei Desulfuroc...       2\n",
       "                           Archaea \"Crenarchaeota\" Thermoprotei Sulfolobal...       3\n",
       "                           Archaea \"Crenarchaeota\" Thermoprotei Thermoprot...       3\n",
       "                           Archaea \"Euryarchaeota\" \"Methanomicrobia\" Metha...       7"
      ]
     },
     "execution_count": 49,
     "metadata": {},
     "output_type": "execute_result"
    }
   ],
   "source": [
    "microbeData.head()\n",
    "# microbeData.sort_index(level='Name')\n",
    "\n",
    "# microbeData[microbeData.index.get_level_values('SAMPLE') == 'tissue']\n",
    "\n",
    "# print('Is the index unique ? ' + str(microbeData.index.is_unique))\n",
    "# print('Is there NaN values ?' + str(microbeData.isnull().any(axis=1).any()))\n",
    "# print(microbeData.index)\n",
    "# Verification of NaN replacement by unknown\n",
    "# microbeData = microbeData[microbeData.isnull().any(axis=1)]\n",
    "# print(microbeData)"
   ]
  },
  {
   "cell_type": "markdown",
   "metadata": {},
   "source": [
    "## Task 3. Class War in Titanic\n",
    "\n",
    "Use pandas to import the data file `Data/titanic.xls`. It contains data on all the passengers that travelled on the Titanic."
   ]
  },
  {
   "cell_type": "code",
   "execution_count": null,
   "metadata": {
    "collapsed": true
   },
   "outputs": [],
   "source": [
    "from IPython.core.display import HTML\n",
    "HTML(filename=DATA_FOLDER+'/titanic.html')"
   ]
  },
  {
   "cell_type": "markdown",
   "metadata": {},
   "source": [
    "For each of the following questions state clearly your assumptions and discuss your findings:\n",
    "1. Describe the *type* and the *value range* of each attribute. Indicate and transform the attributes that can be `Categorical`. \n",
    "2. Plot histograms for the *travel class*, *embarkation port*, *sex* and *age* attributes. For the latter one, use *discrete decade intervals*. \n",
    "3. Calculate the proportion of passengers by *cabin floor*. Present your results in a *pie chart*.\n",
    "4. For each *travel class*, calculate the proportion of the passengers that survived. Present your results in *pie charts*.\n",
    "5. Calculate the proportion of the passengers that survived by *travel class* and *sex*. Present your results in *a single histogram*.\n",
    "6. Create 2 equally populated *age categories* and calculate survival proportions by *age category*, *travel class* and *sex*. Present your results in a `DataFrame` with unique index."
   ]
  },
  {
   "cell_type": "markdown",
   "metadata": {},
   "source": [
    "### 1.\n",
    "On s'est servi de ce qui a au-dessus :D\n",
    "* **pclass** represents the travel class of a passenger. It is stored as an integer value and can take only 3 values : \"1\" for 1$^{\\text{st}}$ class, \"2\" for 2$^{\\text{nd}}$ class and \"3\" for 3$^{\\text{rd}}$ class.\n",
    "* **survived** encodes if the passenger survived to the sinking of the Titanic. It is stored as a foating point value which can take only two values : \"0\" if the passenger did not survived, \"1\" if he/she did.\n",
    "* **name** is the name of the passenger. It is stored as a string.\n",
    "* **sex** encodes the gender of the passenger. It is stored as a string which can take only two values : \"female\" or \"male\"\n",
    "* **age** is the age of the passenger, in year. It is stored as a floating point value, and should be a positive value.\n",
    "* **sibsp** is the Number of Siblings and Spouses of the passenger aboard the Titanic. It is stored as a floating point value, and should be an positive integer value\n",
    "* **parch** is the Number of Parents and children of the passenger aboard the Titanic. It is stored as a floating point value, and should be an positive integer value\n",
    "* **ticket** is the ticket number of the passenger. It is stored as a string.\n",
    "* **fare** is the passenger's fare in British Pound (\\243). It is stored as a foating point value and should be positive.\n",
    "* **cabin** is the passenger's cabine(s). It is stored as a string. The list of possible values is given in the HTML file.\n",
    "* **embarked** is the Harbor where the passenger embarqued. It is stored as a string and should be either \"Cherbourg\", \"Queenstown, \"Southampton\".\n",
    "* **boat** is the lifeboat on which the passenger was found after the sinking. It is stored as a string\n",
    "* **body** is the body identifiction number of the passenger, if he/she has be found dead after the sinking. It is stored as a floating point value and shoudl be positive.\n",
    "* **home.dest** is a string containing the home or the destination of the passenger, seperated by a \"/\""
   ]
  },
  {
   "cell_type": "code",
   "execution_count": null,
   "metadata": {
    "collapsed": true
   },
   "outputs": [],
   "source": [
    "# Write your answer here"
   ]
  }
 ],
 "metadata": {
  "kernelspec": {
   "display_name": "Python [conda root]",
   "language": "python",
   "name": "conda-root-py"
  },
  "language_info": {
   "codemirror_mode": {
    "name": "ipython",
    "version": 3
   },
   "file_extension": ".py",
   "mimetype": "text/x-python",
   "name": "python",
   "nbconvert_exporter": "python",
   "pygments_lexer": "ipython3",
   "version": "3.6.1"
  }
 },
 "nbformat": 4,
 "nbformat_minor": 2
}
